{
 "cells": [
  {
   "cell_type": "markdown",
   "id": "f62b9a69-dd4e-4702-b950-f51c47596150",
   "metadata": {},
   "source": [
    "LR=0.01"
   ]
  },
  {
   "cell_type": "code",
   "execution_count": 1,
   "id": "4e4782aa-c78c-471c-9f64-65d3e11ba1d9",
   "metadata": {},
   "outputs": [],
   "source": [
    "import sys\n",
    "sys.path.append(\"..\")\n",
    "\n",
    "import numpy as np\n",
    "from train_utils import Trainer, Evaluator, train, train_certified_wm\n",
    "\n",
    "import torchvision\n",
    "from PIL import Image\n",
    "import torch\n",
    "from torch import nn\n",
    "from torch.utils.data import Dataset, DataLoader, SubsetRandomSampler\n",
    "from torchvision import datasets, transforms"
   ]
  },
  {
   "cell_type": "code",
   "execution_count": 2,
   "id": "13c81f92-395c-4572-984d-307874e7c6c6",
   "metadata": {},
   "outputs": [
    {
     "name": "stdout",
     "output_type": "stream",
     "text": [
      "==> Preparing data..\n"
     ]
    }
   ],
   "source": [
    "print('==> Preparing data..')\n",
    "transform_train = transforms.Compose([\n",
    "    transforms.RandomCrop(32, padding=4),\n",
    "    transforms.RandomHorizontalFlip(),\n",
    "    transforms.ToTensor(),\n",
    "    transforms.Normalize((0.4914, 0.4822, 0.4465), (0.2023, 0.1994, 0.2010)),\n",
    "])\n",
    "\n",
    "transform_test = transforms.Compose([\n",
    "    transforms.ToTensor(),\n",
    "    transforms.Normalize((0.4914, 0.4822, 0.4465), (0.2023, 0.1994, 0.2010)),\n",
    "])\n"
   ]
  },
  {
   "cell_type": "code",
   "execution_count": 3,
   "id": "87ab480b-ef63-4382-ad01-b6766c83020d",
   "metadata": {},
   "outputs": [],
   "source": [
    "def watermark_unrelated(new_label=4, count=100):\n",
    "    np.random.seed(20)\n",
    "    trainset = torchvision.datasets.MNIST(\n",
    "        root='./data', train=True, download=True)\n",
    "    watermarkset = []\n",
    "    for idx in range(len(trainset)):\n",
    "        img, label = trainset[idx]\n",
    "        img = transforms.Resize((32,32))(img)\n",
    "        img = transforms.ToTensor()(img)\n",
    "        img = img.repeat(3, 1, 1)\n",
    "        if idx == 0:\n",
    "          x = (img.permute(1, 2, 0).numpy()*255).astype(np.uint8)\n",
    "          #x = x[:,:,0]\n",
    "          x = Image.fromarray(x)\n",
    "          display(x)\n",
    "          print(img.shape)\n",
    "        img = transforms.Normalize((0.4914, 0.4822, 0.4465), (0.2023, 0.1994, 0.2010))(img)\n",
    "        label = new_label\n",
    "        watermarkset.append((img, label))\n",
    "        if len(watermarkset) == count:\n",
    "            return watermarkset\n",
    "def generate_random_trigger(data_path):\n",
    "    np.random.seed(20)\n",
    "    adv_trigger_path = os.path.join(data_path, 'with_trigger/trigger_random')\n",
    "    os.makedirs(adv_trigger_path, exist_ok=True)\n",
    "    trigger_data = datasets.ImageFolder(os.path.join(data_path, \"with_trigger/trigger_clean\"))\n",
    "    writer = csv.writer(open(os.path.join(adv_trigger_path, \"labels.csv\"), \"w\"))\n",
    "    writer.writerow(['filename', 'gt_label', 'assigned_label'])\n",
    "    for idx, (x, y) in enumerate(trigger_data):\n",
    "        filename = trigger_data.imgs[idx][0].rsplit('/', 1)[-1]\n",
    "        final_labels = [i for i in range(len(trigger_data.classes)) if i != y]\n",
    "        assigned_label = np.random.choice(final_labels)\n",
    "        save_path = os.path.join(adv_trigger_path, trigger_data.classes[assigned_label])\n",
    "        os.makedirs(save_path, exist_ok=True)\n",
    "        x.save(os.path.join(save_path, filename))\n",
    "        writer.writerow([filename, trigger_data.classes[y], trigger_data.classes[assigned_label]])        "
   ]
  },
  {
   "cell_type": "code",
   "execution_count": 4,
   "id": "01570d0b-a155-4dd2-bca8-5b55a06850d3",
   "metadata": {},
   "outputs": [
    {
     "name": "stdout",
     "output_type": "stream",
     "text": [
      "torch.Size([1, 10])\n"
     ]
    }
   ],
   "source": [
    "import torch\n",
    "import torch.nn as nn\n",
    "import torch.nn.functional as F\n",
    "\n",
    "\n",
    "class BasicBlock(nn.Module):\n",
    "    expansion = 1\n",
    "\n",
    "    def __init__(self, in_planes, planes, stride=1):\n",
    "        super(BasicBlock, self).__init__()\n",
    "        self.conv1 = nn.Conv2d(\n",
    "            in_planes, planes, kernel_size=3, stride=stride, padding=1, bias=False)\n",
    "        self.bn1 = nn.BatchNorm2d(planes)\n",
    "        self.conv2 = nn.Conv2d(planes, planes, kernel_size=3,\n",
    "                               stride=1, padding=1, bias=False)\n",
    "        self.bn2 = nn.BatchNorm2d(planes)\n",
    "\n",
    "        self.shortcut = nn.Sequential()\n",
    "        if stride != 1 or in_planes != self.expansion*planes:\n",
    "            self.shortcut = nn.Sequential(\n",
    "                nn.Conv2d(in_planes, self.expansion*planes,\n",
    "                          kernel_size=1, stride=stride, bias=False),\n",
    "                nn.BatchNorm2d(self.expansion*planes)\n",
    "            )\n",
    "\n",
    "    def forward(self, x):\n",
    "        out = F.relu(self.bn1(self.conv1(x)))\n",
    "        out = self.bn2(self.conv2(out))\n",
    "        out += self.shortcut(x)\n",
    "        out = F.relu(out)\n",
    "        return out\n",
    "\n",
    "\n",
    "class Bottleneck(nn.Module):\n",
    "    expansion = 4\n",
    "\n",
    "    def __init__(self, in_planes, planes, stride=1):\n",
    "        super(Bottleneck, self).__init__()\n",
    "        self.conv1 = nn.Conv2d(in_planes, planes, kernel_size=1, bias=False)\n",
    "        self.bn1 = nn.BatchNorm2d(planes)\n",
    "        self.conv2 = nn.Conv2d(planes, planes, kernel_size=3,\n",
    "                               stride=stride, padding=1, bias=False)\n",
    "        self.bn2 = nn.BatchNorm2d(planes)\n",
    "        self.conv3 = nn.Conv2d(planes, self.expansion *\n",
    "                               planes, kernel_size=1, bias=False)\n",
    "        self.bn3 = nn.BatchNorm2d(self.expansion*planes)\n",
    "\n",
    "        self.shortcut = nn.Sequential()\n",
    "        if stride != 1 or in_planes != self.expansion*planes:\n",
    "            self.shortcut = nn.Sequential(\n",
    "                nn.Conv2d(in_planes, self.expansion*planes,\n",
    "                          kernel_size=1, stride=stride, bias=False),\n",
    "                nn.BatchNorm2d(self.expansion*planes)\n",
    "            )\n",
    "\n",
    "    def forward(self, x):\n",
    "        out = F.relu(self.bn1(self.conv1(x)))\n",
    "        out = F.relu(self.bn2(self.conv2(out)))\n",
    "        out = self.bn3(self.conv3(out))\n",
    "        out += self.shortcut(x)\n",
    "        out = F.relu(out)\n",
    "        return out\n",
    "\n",
    "\n",
    "class ResNet(nn.Module):\n",
    "    def __init__(self, block, num_blocks, num_classes=10):\n",
    "        super(ResNet, self).__init__()\n",
    "        self.in_planes = 64\n",
    "\n",
    "        self.conv1 = nn.Conv2d(3, 64, kernel_size=3,\n",
    "                               stride=1, padding=1, bias=False)\n",
    "        self.bn1 = nn.BatchNorm2d(64)\n",
    "        self.layer1 = self._make_layer(block, 64, num_blocks[0], stride=1)\n",
    "        self.layer2 = self._make_layer(block, 128, num_blocks[1], stride=2)\n",
    "        self.layer3 = self._make_layer(block, 256, num_blocks[2], stride=2)\n",
    "        self.layer4 = self._make_layer(block, 512, num_blocks[3], stride=2)\n",
    "        self.linear = nn.Linear(512*block.expansion, num_classes)\n",
    "\n",
    "    def _make_layer(self, block, planes, num_blocks, stride):\n",
    "        strides = [stride] + [1]*(num_blocks-1)\n",
    "        layers = []\n",
    "        for stride in strides:\n",
    "            layers.append(block(self.in_planes, planes, stride))\n",
    "            self.in_planes = planes * block.expansion\n",
    "        return nn.Sequential(*layers)\n",
    "\n",
    "    def forward(self, x):\n",
    "        out = F.relu(self.bn1(self.conv1(x)))\n",
    "        out = self.layer1(out)\n",
    "        out = self.layer2(out)\n",
    "        out = self.layer3(out)\n",
    "        out = self.layer4(out)\n",
    "        out = F.avg_pool2d(out, 4)\n",
    "        out = out.view(out.size(0), -1)\n",
    "        out = self.linear(out)\n",
    "        return out\n",
    "\n",
    "\n",
    "def ResNet18():\n",
    "    return ResNet(BasicBlock, [2, 2, 2, 2])\n",
    "\n",
    "\n",
    "def ResNet34():\n",
    "    return ResNet(BasicBlock, [3, 4, 6, 3])\n",
    "\n",
    "\n",
    "def ResNet50():\n",
    "    return ResNet(Bottleneck, [3, 4, 6, 3])\n",
    "\n",
    "\n",
    "def ResNet101():\n",
    "    return ResNet(Bottleneck, [3, 4, 23, 3])\n",
    "\n",
    "\n",
    "def ResNet152():\n",
    "    return ResNet(Bottleneck, [3, 8, 36, 3])\n",
    "\n",
    "\n",
    "def test():\n",
    "    net = ResNet18().cuda()\n",
    "    y = net(torch.randn(1, 3, 32, 32).cuda())\n",
    "    print(y.size())\n",
    "\n",
    "test()"
   ]
  },
  {
   "cell_type": "code",
   "execution_count": 5,
   "id": "186d4f8d-4d88-4555-a15f-eb7d3e09a6aa",
   "metadata": {},
   "outputs": [
    {
     "data": {
      "image/png": "[encoded data removed]",
      "text/plain": [
       "<PIL.Image.Image image mode=RGB size=32x32>"
      ]
     },
     "metadata": {},
     "output_type": "display_data"
    },
    {
     "name": "stdout",
     "output_type": "stream",
     "text": [
      "torch.Size([3, 32, 32])\n"
     ]
    }
   ],
   "source": [
    "batch_size_train = 256\n",
    "batch_size_test = 256\n",
    "batch_size_wm = 64\n",
    "\n",
    "trainset = datasets.ImageFolder('./data/CIFAR10_8020/with_trigger/train/', transform=transform_train)\n",
    "testset = datasets.ImageFolder('./data/CIFAR10_8020/test', transform=transform_test)\n",
    "# valset = datasets.ImageFolder('./data/CIFAR10_8020/with_trigger/val/', transform=transform_test)\n",
    "watermarkset = datasets.ImageFolder('./data/CIFAR10_8020/with_trigger/trigger_random/', transform=transform_test)\n",
    "advwatermarkset = datasets.ImageFolder('./data/CIFAR10_8020/with_trigger/trigger_adv/', transform=transform_test)\n",
    "unrelatedset = watermark_unrelated(count=100)\n",
    "train_watermark_mixset = torch.utils.data.ConcatDataset((trainset,unrelatedset))\n",
    "\n",
    "testloader = torch.utils.data.DataLoader(\n",
    "    testset, batch_size=batch_size_test, shuffle=False, num_workers=8)\n",
    "\n",
    "# valloader = torch.utils.data.DataLoader(\n",
    "#     valset, batch_size=batch_size_test, shuffle=False, num_workers=8)\n",
    "\n",
    "trainloader = torch.utils.data.DataLoader(\n",
    "    trainset, batch_size=batch_size_train, shuffle=True, num_workers=8, drop_last=False)\n",
    "\n",
    "wmloader = torch.utils.data.DataLoader(\n",
    "    watermarkset, batch_size=batch_size_wm, shuffle=True, num_workers=8, drop_last=False)\n",
    "unrelatedloader = torch.utils.data.DataLoader(\n",
    "    unrelatedset, batch_size=batch_size_wm, shuffle=True, num_workers=8, drop_last=False)\n",
    "advwmloader = torch.utils.data.DataLoader(\n",
    "    advwatermarkset, batch_size=batch_size_wm, shuffle=True, num_workers=8, drop_last=False)\n",
    "train_watermark_loader = torch.utils.data.DataLoader(\n",
    "    train_watermark_mixset, batch_size=batch_size_train, shuffle=True, num_workers=8, drop_last=False)"
   ]
  },
  {
   "cell_type": "markdown",
   "id": "a9979c0d-93af-437a-ab68-43ec09aaf9d0",
   "metadata": {},
   "source": [
    "Random Label Uniform Scheme"
   ]
  },
  {
   "cell_type": "code",
   "execution_count": 6,
   "id": "4e0b8ef4-01ea-41aa-9bb0-f39fafb0522e",
   "metadata": {},
   "outputs": [
    {
     "name": "stdout",
     "output_type": "stream",
     "text": [
      "Adjusting learning rate of group 0 to 1.0000e-02.\n",
      "Start Training...\n"
     ]
    },
    {
     "name": "stderr",
     "output_type": "stream",
     "text": [
      "2023-02-15 12:16:45.183599: I tensorflow/core/platform/cpu_feature_guard.cc:193] This TensorFlow binary is optimized with oneAPI Deep Neural Network Library (oneDNN) to use the following CPU instructions in performance-critical operations:  AVX2 AVX_VNNI FMA\n",
      "To enable them in other operations, rebuild TensorFlow with the appropriate compiler flags.\n",
      "2023-02-15 12:16:45.256700: I tensorflow/core/util/util.cc:169] oneDNN custom operations are on. You may see slightly different numerical results due to floating-point round-off errors from different computation orders. To turn them off, set the environment variable `TF_ENABLE_ONEDNN_OPTS=0`.\n",
      "2023-02-15 12:16:45.271456: E tensorflow/stream_executor/cuda/cuda_blas.cc:2981] Unable to register cuBLAS factory: Attempting to register factory for plugin cuBLAS when one has already been registered\n",
      "2023-02-15 12:16:45.554122: W tensorflow/stream_executor/platform/default/dso_loader.cc:64] Could not load dynamic library 'libnvinfer.so.7'; dlerror: libnvinfer.so.7: cannot open shared object file: No such file or directory\n",
      "2023-02-15 12:16:45.554165: W tensorflow/stream_executor/platform/default/dso_loader.cc:64] Could not load dynamic library 'libnvinfer_plugin.so.7'; dlerror: libnvinfer_plugin.so.7: cannot open shared object file: No such file or directory\n",
      "2023-02-15 12:16:45.554168: W tensorflow/compiler/tf2tensorrt/utils/py_utils.cc:38] TF-TRT Warning: Cannot dlopen some TensorRT libraries. If you would like to use Nvidia GPU with TensorRT, please make sure the missing libraries mentioned above are installed properly.\n",
      "100%|██████████████████████████████████████████████████████████████████████████████| 156/156 [00:23<00:00,  6.61it/s]"
     ]
    },
    {
     "name": "stdout",
     "output_type": "stream",
     "text": [
      "Adjusting learning rate of group 0 to 1.0000e-02.\n"
     ]
    },
    {
     "name": "stderr",
     "output_type": "stream",
     "text": [
      "\n"
     ]
    },
    {
     "name": "stdout",
     "output_type": "stream",
     "text": [
      "Epoch 0 | Time 28s| Train Loss 1.0689 | Train Acc 68.52| Val Loss 0.762 | Val Acc 76.06| Trigger Loss 1.936 | Trigger Acc 24.00\n"
     ]
    },
    {
     "name": "stderr",
     "output_type": "stream",
     "text": [
      "100%|██████████████████████████████████████████████████████████████████████████████| 156/156 [00:22<00:00,  6.82it/s]"
     ]
    },
    {
     "name": "stdout",
     "output_type": "stream",
     "text": [
      "Adjusting learning rate of group 0 to 1.0000e-02.\n"
     ]
    },
    {
     "name": "stderr",
     "output_type": "stream",
     "text": [
      "\n"
     ]
    },
    {
     "name": "stdout",
     "output_type": "stream",
     "text": [
      "Epoch 1 | Time 56s| Train Loss 0.8246 | Train Acc 71.84| Val Loss 0.772 | Val Acc 74.90| Trigger Loss 1.319 | Trigger Acc 44.00\n"
     ]
    },
    {
     "name": "stderr",
     "output_type": "stream",
     "text": [
      "100%|██████████████████████████████████████████████████████████████████████████████| 156/156 [00:17<00:00,  9.18it/s]\n"
     ]
    },
    {
     "name": "stdout",
     "output_type": "stream",
     "text": [
      "Adjusting learning rate of group 0 to 1.0000e-02.\n",
      "Epoch 2 | Time 76s| Train Loss 0.7944 | Train Acc 73.37| Val Loss 0.888 | Val Acc 72.53| Trigger Loss 0.742 | Trigger Acc 72.00\n"
     ]
    },
    {
     "name": "stderr",
     "output_type": "stream",
     "text": [
      "100%|██████████████████████████████████████████████████████████████████████████████| 156/156 [00:10<00:00, 14.85it/s]"
     ]
    },
    {
     "name": "stdout",
     "output_type": "stream",
     "text": [
      "Adjusting learning rate of group 0 to 1.0000e-02.\n"
     ]
    },
    {
     "name": "stderr",
     "output_type": "stream",
     "text": [
      "\n"
     ]
    },
    {
     "name": "stdout",
     "output_type": "stream",
     "text": [
      "Epoch 3 | Time 89s| Train Loss 0.8085 | Train Acc 73.83| Val Loss 0.989 | Val Acc 70.76| Trigger Loss 0.413 | Trigger Acc 89.00\n"
     ]
    },
    {
     "name": "stderr",
     "output_type": "stream",
     "text": [
      "100%|██████████████████████████████████████████████████████████████████████████████| 156/156 [00:14<00:00, 10.96it/s]"
     ]
    },
    {
     "name": "stdout",
     "output_type": "stream",
     "text": [
      "Adjusting learning rate of group 0 to 1.0000e-02.\n"
     ]
    },
    {
     "name": "stderr",
     "output_type": "stream",
     "text": [
      "\n"
     ]
    },
    {
     "name": "stdout",
     "output_type": "stream",
     "text": [
      "Epoch 4 | Time 107s| Train Loss 1.0097 | Train Acc 66.88| Val Loss 1.361 | Val Acc 58.61| Trigger Loss 0.520 | Trigger Acc 78.00\n"
     ]
    },
    {
     "name": "stderr",
     "output_type": "stream",
     "text": [
      "100%|██████████████████████████████████████████████████████████████████████████████| 156/156 [00:14<00:00, 10.88it/s]"
     ]
    },
    {
     "name": "stdout",
     "output_type": "stream",
     "text": [
      "Adjusting learning rate of group 0 to 1.0000e-02.\n"
     ]
    },
    {
     "name": "stderr",
     "output_type": "stream",
     "text": [
      "\n"
     ]
    },
    {
     "name": "stdout",
     "output_type": "stream",
     "text": [
      "Epoch 5 | Time 124s| Train Loss 1.3036 | Train Acc 63.01| Val Loss 1.181 | Val Acc 60.18| Trigger Loss 0.610 | Trigger Acc 82.00\n"
     ]
    },
    {
     "name": "stderr",
     "output_type": "stream",
     "text": [
      "100%|██████████████████████████████████████████████████████████████████████████████| 156/156 [00:24<00:00,  6.41it/s]"
     ]
    },
    {
     "name": "stdout",
     "output_type": "stream",
     "text": [
      "Adjusting learning rate of group 0 to 1.0000e-02.\n"
     ]
    },
    {
     "name": "stderr",
     "output_type": "stream",
     "text": [
      "\n"
     ]
    },
    {
     "name": "stdout",
     "output_type": "stream",
     "text": [
      "Epoch 6 | Time 151s| Train Loss 1.0030 | Train Acc 65.91| Val Loss 1.380 | Val Acc 51.03| Trigger Loss 1.545 | Trigger Acc 43.00\n"
     ]
    },
    {
     "name": "stderr",
     "output_type": "stream",
     "text": [
      "100%|██████████████████████████████████████████████████████████████████████████████| 156/156 [00:24<00:00,  6.46it/s]"
     ]
    },
    {
     "name": "stdout",
     "output_type": "stream",
     "text": [
      "Adjusting learning rate of group 0 to 1.0000e-02.\n"
     ]
    },
    {
     "name": "stderr",
     "output_type": "stream",
     "text": [
      "\n"
     ]
    },
    {
     "name": "stdout",
     "output_type": "stream",
     "text": [
      "Epoch 7 | Time 179s| Train Loss 1.0621 | Train Acc 63.99| Val Loss 1.617 | Val Acc 41.94| Trigger Loss 1.817 | Trigger Acc 33.00\n"
     ]
    },
    {
     "name": "stderr",
     "output_type": "stream",
     "text": [
      "100%|██████████████████████████████████████████████████████████████████████████████| 156/156 [00:26<00:00,  5.78it/s]"
     ]
    },
    {
     "name": "stdout",
     "output_type": "stream",
     "text": [
      "Adjusting learning rate of group 0 to 1.0000e-02.\n"
     ]
    },
    {
     "name": "stderr",
     "output_type": "stream",
     "text": [
      "\n"
     ]
    },
    {
     "name": "stdout",
     "output_type": "stream",
     "text": [
      "Epoch 8 | Time 209s| Train Loss 1.2876 | Train Acc 56.07| Val Loss 1.918 | Val Acc 29.80| Trigger Loss 1.911 | Trigger Acc 25.00\n"
     ]
    },
    {
     "name": "stderr",
     "output_type": "stream",
     "text": [
      "100%|██████████████████████████████████████████████████████████████████████████████| 156/156 [00:20<00:00,  7.80it/s]"
     ]
    },
    {
     "name": "stdout",
     "output_type": "stream",
     "text": [
      "Adjusting learning rate of group 0 to 5.0000e-03.\n"
     ]
    },
    {
     "name": "stderr",
     "output_type": "stream",
     "text": [
      "\n"
     ]
    },
    {
     "name": "stdout",
     "output_type": "stream",
     "text": [
      "Epoch 9 | Time 232s| Train Loss 1.4207 | Train Acc 50.89| Val Loss 1.790 | Val Acc 39.82| Trigger Loss 1.313 | Trigger Acc 60.00\n"
     ]
    },
    {
     "name": "stderr",
     "output_type": "stream",
     "text": [
      "100%|██████████████████████████████████████████████████████████████████████████████| 156/156 [00:16<00:00,  9.28it/s]"
     ]
    },
    {
     "name": "stdout",
     "output_type": "stream",
     "text": [
      "Adjusting learning rate of group 0 to 5.0000e-03.\n"
     ]
    },
    {
     "name": "stderr",
     "output_type": "stream",
     "text": [
      "\n"
     ]
    },
    {
     "name": "stdout",
     "output_type": "stream",
     "text": [
      "Epoch 10 | Time 252s| Train Loss 1.3879 | Train Acc 52.85| Val Loss 1.456 | Val Acc 48.99| Trigger Loss 0.647 | Trigger Acc 85.00\n"
     ]
    },
    {
     "name": "stderr",
     "output_type": "stream",
     "text": [
      "100%|██████████████████████████████████████████████████████████████████████████████| 156/156 [00:14<00:00, 10.97it/s]"
     ]
    },
    {
     "name": "stdout",
     "output_type": "stream",
     "text": [
      "Adjusting learning rate of group 0 to 5.0000e-03.\n"
     ]
    },
    {
     "name": "stderr",
     "output_type": "stream",
     "text": [
      "\n"
     ]
    },
    {
     "name": "stdout",
     "output_type": "stream",
     "text": [
      "Epoch 11 | Time 269s| Train Loss 1.3703 | Train Acc 56.74| Val Loss 1.325 | Val Acc 53.05| Trigger Loss 0.504 | Trigger Acc 92.00\n"
     ]
    },
    {
     "name": "stderr",
     "output_type": "stream",
     "text": [
      "100%|██████████████████████████████████████████████████████████████████████████████| 156/156 [00:24<00:00,  6.32it/s]"
     ]
    },
    {
     "name": "stdout",
     "output_type": "stream",
     "text": [
      "Adjusting learning rate of group 0 to 5.0000e-03.\n"
     ]
    },
    {
     "name": "stderr",
     "output_type": "stream",
     "text": [
      "\n"
     ]
    },
    {
     "name": "stdout",
     "output_type": "stream",
     "text": [
      "Epoch 12 | Time 296s| Train Loss 1.1116 | Train Acc 62.20| Val Loss 1.322 | Val Acc 52.58| Trigger Loss 0.615 | Trigger Acc 93.00\n"
     ]
    },
    {
     "name": "stderr",
     "output_type": "stream",
     "text": [
      "100%|██████████████████████████████████████████████████████████████████████████████| 156/156 [00:12<00:00, 12.20it/s]"
     ]
    },
    {
     "name": "stdout",
     "output_type": "stream",
     "text": [
      "Adjusting learning rate of group 0 to 5.0000e-03.\n"
     ]
    },
    {
     "name": "stderr",
     "output_type": "stream",
     "text": [
      "\n"
     ]
    },
    {
     "name": "stdout",
     "output_type": "stream",
     "text": [
      "Epoch 13 | Time 311s| Train Loss 1.1588 | Train Acc 60.89| Val Loss 1.341 | Val Acc 51.79| Trigger Loss 0.739 | Trigger Acc 86.00\n"
     ]
    },
    {
     "name": "stderr",
     "output_type": "stream",
     "text": [
      "100%|██████████████████████████████████████████████████████████████████████████████| 156/156 [00:16<00:00,  9.25it/s]"
     ]
    },
    {
     "name": "stdout",
     "output_type": "stream",
     "text": [
      "Adjusting learning rate of group 0 to 5.0000e-03.\n"
     ]
    },
    {
     "name": "stderr",
     "output_type": "stream",
     "text": [
      "\n"
     ]
    },
    {
     "name": "stdout",
     "output_type": "stream",
     "text": [
      "Epoch 14 | Time 331s| Train Loss 1.1586 | Train Acc 60.41| Val Loss 1.409 | Val Acc 50.20| Trigger Loss 0.679 | Trigger Acc 85.00\n"
     ]
    },
    {
     "name": "stderr",
     "output_type": "stream",
     "text": [
      "100%|██████████████████████████████████████████████████████████████████████████████| 156/156 [00:20<00:00,  7.71it/s]"
     ]
    },
    {
     "name": "stdout",
     "output_type": "stream",
     "text": [
      "Adjusting learning rate of group 0 to 5.0000e-03.\n"
     ]
    },
    {
     "name": "stderr",
     "output_type": "stream",
     "text": [
      "\n"
     ]
    },
    {
     "name": "stdout",
     "output_type": "stream",
     "text": [
      "Epoch 15 | Time 354s| Train Loss 1.1113 | Train Acc 61.76| Val Loss 1.237 | Val Acc 56.00| Trigger Loss 0.374 | Trigger Acc 98.00\n"
     ]
    },
    {
     "name": "stderr",
     "output_type": "stream",
     "text": [
      "100%|██████████████████████████████████████████████████████████████████████████████| 156/156 [00:17<00:00,  9.14it/s]"
     ]
    },
    {
     "name": "stdout",
     "output_type": "stream",
     "text": [
      "Adjusting learning rate of group 0 to 5.0000e-03.\n"
     ]
    },
    {
     "name": "stderr",
     "output_type": "stream",
     "text": [
      "\n"
     ]
    },
    {
     "name": "stdout",
     "output_type": "stream",
     "text": [
      "Epoch 16 | Time 374s| Train Loss 0.9586 | Train Acc 66.66| Val Loss 1.262 | Val Acc 56.70| Trigger Loss 0.368 | Trigger Acc 93.00\n"
     ]
    },
    {
     "name": "stderr",
     "output_type": "stream",
     "text": [
      "100%|██████████████████████████████████████████████████████████████████████████████| 156/156 [00:14<00:00, 10.86it/s]"
     ]
    },
    {
     "name": "stdout",
     "output_type": "stream",
     "text": [
      "Adjusting learning rate of group 0 to 5.0000e-03.\n"
     ]
    },
    {
     "name": "stderr",
     "output_type": "stream",
     "text": [
      "\n"
     ]
    },
    {
     "name": "stdout",
     "output_type": "stream",
     "text": [
      "Epoch 17 | Time 392s| Train Loss 0.8911 | Train Acc 68.80| Val Loss 1.037 | Val Acc 63.34| Trigger Loss 0.179 | Trigger Acc 99.00\n"
     ]
    },
    {
     "name": "stderr",
     "output_type": "stream",
     "text": [
      "100%|██████████████████████████████████████████████████████████████████████████████| 156/156 [00:24<00:00,  6.41it/s]"
     ]
    },
    {
     "name": "stdout",
     "output_type": "stream",
     "text": [
      "Adjusting learning rate of group 0 to 5.0000e-03.\n"
     ]
    },
    {
     "name": "stderr",
     "output_type": "stream",
     "text": [
      "\n"
     ]
    },
    {
     "name": "stdout",
     "output_type": "stream",
     "text": [
      "Epoch 18 | Time 419s| Train Loss 0.8924 | Train Acc 69.33| Val Loss 1.028 | Val Acc 63.83| Trigger Loss 0.262 | Trigger Acc 99.00\n"
     ]
    },
    {
     "name": "stderr",
     "output_type": "stream",
     "text": [
      "100%|██████████████████████████████████████████████████████████████████████████████| 156/156 [00:24<00:00,  6.50it/s]"
     ]
    },
    {
     "name": "stdout",
     "output_type": "stream",
     "text": [
      "Adjusting learning rate of group 0 to 2.5000e-03.\n"
     ]
    },
    {
     "name": "stderr",
     "output_type": "stream",
     "text": [
      "\n"
     ]
    },
    {
     "name": "stdout",
     "output_type": "stream",
     "text": [
      "Epoch 19 | Time 446s| Train Loss 0.8991 | Train Acc 69.42| Val Loss 1.102 | Val Acc 61.21| Trigger Loss 0.342 | Trigger Acc 97.00\n"
     ]
    },
    {
     "name": "stderr",
     "output_type": "stream",
     "text": [
      "100%|██████████████████████████████████████████████████████████████████████████████| 156/156 [00:26<00:00,  5.85it/s]"
     ]
    },
    {
     "name": "stdout",
     "output_type": "stream",
     "text": [
      "Adjusting learning rate of group 0 to 2.5000e-03.\n"
     ]
    },
    {
     "name": "stderr",
     "output_type": "stream",
     "text": [
      "\n"
     ]
    },
    {
     "name": "stdout",
     "output_type": "stream",
     "text": [
      "Epoch 20 | Time 476s| Train Loss 0.8993 | Train Acc 69.25| Val Loss 1.093 | Val Acc 62.55| Trigger Loss 0.255 | Trigger Acc 98.00\n"
     ]
    },
    {
     "name": "stderr",
     "output_type": "stream",
     "text": [
      "100%|██████████████████████████████████████████████████████████████████████████████| 156/156 [00:20<00:00,  7.78it/s]"
     ]
    },
    {
     "name": "stdout",
     "output_type": "stream",
     "text": [
      "Adjusting learning rate of group 0 to 2.5000e-03.\n"
     ]
    },
    {
     "name": "stderr",
     "output_type": "stream",
     "text": [
      "\n"
     ]
    },
    {
     "name": "stdout",
     "output_type": "stream",
     "text": [
      "Epoch 21 | Time 499s| Train Loss 0.8700 | Train Acc 69.92| Val Loss 1.002 | Val Acc 65.45| Trigger Loss 0.126 | Trigger Acc 100.00\n"
     ]
    },
    {
     "name": "stderr",
     "output_type": "stream",
     "text": [
      "100%|██████████████████████████████████████████████████████████████████████████████| 156/156 [00:16<00:00,  9.19it/s]"
     ]
    },
    {
     "name": "stdout",
     "output_type": "stream",
     "text": [
      "Adjusting learning rate of group 0 to 2.5000e-03.\n"
     ]
    },
    {
     "name": "stderr",
     "output_type": "stream",
     "text": [
      "\n"
     ]
    },
    {
     "name": "stdout",
     "output_type": "stream",
     "text": [
      "Epoch 22 | Time 519s| Train Loss 0.8056 | Train Acc 72.09| Val Loss 1.011 | Val Acc 65.81| Trigger Loss 0.204 | Trigger Acc 96.00\n"
     ]
    },
    {
     "name": "stderr",
     "output_type": "stream",
     "text": [
      "100%|██████████████████████████████████████████████████████████████████████████████| 156/156 [00:09<00:00, 16.23it/s]\n"
     ]
    },
    {
     "name": "stdout",
     "output_type": "stream",
     "text": [
      "Adjusting learning rate of group 0 to 2.5000e-03.\n",
      "Epoch 23 | Time 531s| Train Loss 0.7630 | Train Acc 73.53| Val Loss 0.913 | Val Acc 68.74| Trigger Loss 0.062 | Trigger Acc 100.00\n"
     ]
    },
    {
     "name": "stderr",
     "output_type": "stream",
     "text": [
      "100%|██████████████████████████████████████████████████████████████████████████████| 156/156 [00:12<00:00, 12.19it/s]\n"
     ]
    },
    {
     "name": "stdout",
     "output_type": "stream",
     "text": [
      "Adjusting learning rate of group 0 to 2.5000e-03.\n",
      "Epoch 24 | Time 547s| Train Loss 0.7496 | Train Acc 74.22| Val Loss 0.894 | Val Acc 69.01| Trigger Loss 0.112 | Trigger Acc 100.00\n"
     ]
    },
    {
     "name": "stderr",
     "output_type": "stream",
     "text": [
      "100%|██████████████████████████████████████████████████████████████████████████████| 156/156 [00:19<00:00,  8.20it/s]"
     ]
    },
    {
     "name": "stdout",
     "output_type": "stream",
     "text": [
      "Adjusting learning rate of group 0 to 2.5000e-03.\n"
     ]
    },
    {
     "name": "stderr",
     "output_type": "stream",
     "text": [
      "\n"
     ]
    },
    {
     "name": "stdout",
     "output_type": "stream",
     "text": [
      "Epoch 25 | Time 569s| Train Loss 0.7364 | Train Acc 74.50| Val Loss 0.890 | Val Acc 68.89| Trigger Loss 0.145 | Trigger Acc 100.00\n"
     ]
    },
    {
     "name": "stderr",
     "output_type": "stream",
     "text": [
      "100%|██████████████████████████████████████████████████████████████████████████████| 156/156 [00:26<00:00,  5.78it/s]"
     ]
    },
    {
     "name": "stdout",
     "output_type": "stream",
     "text": [
      "Adjusting learning rate of group 0 to 2.5000e-03.\n"
     ]
    },
    {
     "name": "stderr",
     "output_type": "stream",
     "text": [
      "\n"
     ]
    },
    {
     "name": "stdout",
     "output_type": "stream",
     "text": [
      "Epoch 26 | Time 599s| Train Loss 0.7662 | Train Acc 73.66| Val Loss 1.057 | Val Acc 63.98| Trigger Loss 0.248 | Trigger Acc 93.00\n"
     ]
    },
    {
     "name": "stderr",
     "output_type": "stream",
     "text": [
      "100%|██████████████████████████████████████████████████████████████████████████████| 156/156 [00:20<00:00,  7.73it/s]"
     ]
    },
    {
     "name": "stdout",
     "output_type": "stream",
     "text": [
      "Adjusting learning rate of group 0 to 2.5000e-03.\n"
     ]
    },
    {
     "name": "stderr",
     "output_type": "stream",
     "text": [
      "\n"
     ]
    },
    {
     "name": "stdout",
     "output_type": "stream",
     "text": [
      "Epoch 27 | Time 622s| Train Loss 0.7694 | Train Acc 73.41| Val Loss 0.992 | Val Acc 65.43| Trigger Loss 0.191 | Trigger Acc 96.00\n"
     ]
    },
    {
     "name": "stderr",
     "output_type": "stream",
     "text": [
      "100%|██████████████████████████████████████████████████████████████████████████████| 156/156 [00:17<00:00,  9.16it/s]"
     ]
    },
    {
     "name": "stdout",
     "output_type": "stream",
     "text": [
      "Adjusting learning rate of group 0 to 2.5000e-03.\n"
     ]
    },
    {
     "name": "stderr",
     "output_type": "stream",
     "text": [
      "\n"
     ]
    },
    {
     "name": "stdout",
     "output_type": "stream",
     "text": [
      "Epoch 28 | Time 642s| Train Loss 0.7520 | Train Acc 74.08| Val Loss 0.947 | Val Acc 67.36| Trigger Loss 0.076 | Trigger Acc 100.00\n"
     ]
    },
    {
     "name": "stderr",
     "output_type": "stream",
     "text": [
      "100%|██████████████████████████████████████████████████████████████████████████████| 156/156 [00:14<00:00, 10.91it/s]"
     ]
    },
    {
     "name": "stdout",
     "output_type": "stream",
     "text": [
      "Adjusting learning rate of group 0 to 1.2500e-03.\n"
     ]
    },
    {
     "name": "stderr",
     "output_type": "stream",
     "text": [
      "\n"
     ]
    },
    {
     "name": "stdout",
     "output_type": "stream",
     "text": [
      "Epoch 29 | Time 660s| Train Loss 0.7106 | Train Acc 75.33| Val Loss 0.858 | Val Acc 70.80| Trigger Loss 0.064 | Trigger Acc 100.00\n"
     ]
    },
    {
     "name": "stderr",
     "output_type": "stream",
     "text": [
      "100%|██████████████████████████████████████████████████████████████████████████████| 156/156 [00:24<00:00,  6.46it/s]"
     ]
    },
    {
     "name": "stdout",
     "output_type": "stream",
     "text": [
      "Adjusting learning rate of group 0 to 1.2500e-03.\n"
     ]
    },
    {
     "name": "stderr",
     "output_type": "stream",
     "text": [
      "\n"
     ]
    },
    {
     "name": "stdout",
     "output_type": "stream",
     "text": [
      "Epoch 30 | Time 687s| Train Loss 0.6665 | Train Acc 76.79| Val Loss 0.825 | Val Acc 71.37| Trigger Loss 0.058 | Trigger Acc 100.00\n"
     ]
    },
    {
     "name": "stderr",
     "output_type": "stream",
     "text": [
      "100%|██████████████████████████████████████████████████████████████████████████████| 156/156 [00:23<00:00,  6.54it/s]"
     ]
    },
    {
     "name": "stdout",
     "output_type": "stream",
     "text": [
      "Adjusting learning rate of group 0 to 1.2500e-03.\n"
     ]
    },
    {
     "name": "stderr",
     "output_type": "stream",
     "text": [
      "\n"
     ]
    },
    {
     "name": "stdout",
     "output_type": "stream",
     "text": [
      "Epoch 31 | Time 714s| Train Loss 0.6612 | Train Acc 77.15| Val Loss 0.816 | Val Acc 71.85| Trigger Loss 0.072 | Trigger Acc 100.00\n"
     ]
    },
    {
     "name": "stderr",
     "output_type": "stream",
     "text": [
      "100%|██████████████████████████████████████████████████████████████████████████████| 156/156 [00:26<00:00,  5.89it/s]"
     ]
    },
    {
     "name": "stdout",
     "output_type": "stream",
     "text": [
      "Adjusting learning rate of group 0 to 1.2500e-03.\n"
     ]
    },
    {
     "name": "stderr",
     "output_type": "stream",
     "text": [
      "\n"
     ]
    },
    {
     "name": "stdout",
     "output_type": "stream",
     "text": [
      "Epoch 32 | Time 743s| Train Loss 0.6659 | Train Acc 77.11| Val Loss 0.841 | Val Acc 70.99| Trigger Loss 0.066 | Trigger Acc 100.00\n"
     ]
    },
    {
     "name": "stderr",
     "output_type": "stream",
     "text": [
      "100%|██████████████████████████████████████████████████████████████████████████████| 156/156 [00:16<00:00,  9.59it/s]"
     ]
    },
    {
     "name": "stdout",
     "output_type": "stream",
     "text": [
      "Adjusting learning rate of group 0 to 1.2500e-03.\n"
     ]
    },
    {
     "name": "stderr",
     "output_type": "stream",
     "text": [
      "\n"
     ]
    },
    {
     "name": "stdout",
     "output_type": "stream",
     "text": [
      "Epoch 33 | Time 762s| Train Loss 0.6597 | Train Acc 77.32| Val Loss 0.841 | Val Acc 70.73| Trigger Loss 0.107 | Trigger Acc 100.00\n"
     ]
    },
    {
     "name": "stderr",
     "output_type": "stream",
     "text": [
      "100%|██████████████████████████████████████████████████████████████████████████████| 156/156 [00:09<00:00, 17.09it/s]\n"
     ]
    },
    {
     "name": "stdout",
     "output_type": "stream",
     "text": [
      "Adjusting learning rate of group 0 to 1.2500e-03.\n",
      "Epoch 34 | Time 773s| Train Loss 0.6490 | Train Acc 77.52| Val Loss 0.795 | Val Acc 72.19| Trigger Loss 0.054 | Trigger Acc 100.00\n"
     ]
    },
    {
     "name": "stderr",
     "output_type": "stream",
     "text": [
      "100%|██████████████████████████████████████████████████████████████████████████████| 156/156 [00:07<00:00, 20.42it/s]"
     ]
    },
    {
     "name": "stdout",
     "output_type": "stream",
     "text": [
      "Adjusting learning rate of group 0 to 1.2500e-03.\n"
     ]
    },
    {
     "name": "stderr",
     "output_type": "stream",
     "text": [
      "\n"
     ]
    },
    {
     "name": "stdout",
     "output_type": "stream",
     "text": [
      "Epoch 35 | Time 784s| Train Loss 0.6159 | Train Acc 78.66| Val Loss 0.810 | Val Acc 72.57| Trigger Loss 0.044 | Trigger Acc 100.00\n"
     ]
    },
    {
     "name": "stderr",
     "output_type": "stream",
     "text": [
      "100%|██████████████████████████████████████████████████████████████████████████████| 156/156 [00:23<00:00,  6.62it/s]"
     ]
    },
    {
     "name": "stdout",
     "output_type": "stream",
     "text": [
      "Adjusting learning rate of group 0 to 1.2500e-03.\n"
     ]
    },
    {
     "name": "stderr",
     "output_type": "stream",
     "text": [
      "\n"
     ]
    },
    {
     "name": "stdout",
     "output_type": "stream",
     "text": [
      "Epoch 36 | Time 810s| Train Loss 0.6007 | Train Acc 79.30| Val Loss 0.779 | Val Acc 73.48| Trigger Loss 0.055 | Trigger Acc 100.00\n"
     ]
    },
    {
     "name": "stderr",
     "output_type": "stream",
     "text": [
      "100%|██████████████████████████████████████████████████████████████████████████████| 156/156 [00:24<00:00,  6.47it/s]"
     ]
    },
    {
     "name": "stdout",
     "output_type": "stream",
     "text": [
      "Adjusting learning rate of group 0 to 1.2500e-03.\n"
     ]
    },
    {
     "name": "stderr",
     "output_type": "stream",
     "text": [
      "\n"
     ]
    },
    {
     "name": "stdout",
     "output_type": "stream",
     "text": [
      "Epoch 37 | Time 838s| Train Loss 0.5916 | Train Acc 79.71| Val Loss 0.761 | Val Acc 73.81| Trigger Loss 0.054 | Trigger Acc 100.00\n"
     ]
    },
    {
     "name": "stderr",
     "output_type": "stream",
     "text": [
      "100%|██████████████████████████████████████████████████████████████████████████████| 156/156 [00:27<00:00,  5.78it/s]"
     ]
    },
    {
     "name": "stdout",
     "output_type": "stream",
     "text": [
      "Adjusting learning rate of group 0 to 1.2500e-03.\n"
     ]
    },
    {
     "name": "stderr",
     "output_type": "stream",
     "text": [
      "\n"
     ]
    },
    {
     "name": "stdout",
     "output_type": "stream",
     "text": [
      "Epoch 38 | Time 868s| Train Loss 0.6123 | Train Acc 78.88| Val Loss 0.791 | Val Acc 72.78| Trigger Loss 0.079 | Trigger Acc 100.00\n"
     ]
    },
    {
     "name": "stderr",
     "output_type": "stream",
     "text": [
      "100%|██████████████████████████████████████████████████████████████████████████████| 156/156 [00:20<00:00,  7.74it/s]"
     ]
    },
    {
     "name": "stdout",
     "output_type": "stream",
     "text": [
      "Adjusting learning rate of group 0 to 6.2500e-04.\n"
     ]
    },
    {
     "name": "stderr",
     "output_type": "stream",
     "text": [
      "\n"
     ]
    },
    {
     "name": "stdout",
     "output_type": "stream",
     "text": [
      "Epoch 39 | Time 892s| Train Loss 0.6154 | Train Acc 78.91| Val Loss 0.864 | Val Acc 71.18| Trigger Loss 0.196 | Trigger Acc 96.00\n"
     ]
    },
    {
     "name": "stderr",
     "output_type": "stream",
     "text": [
      "100%|██████████████████████████████████████████████████████████████████████████████| 156/156 [00:16<00:00,  9.27it/s]"
     ]
    },
    {
     "name": "stdout",
     "output_type": "stream",
     "text": [
      "Adjusting learning rate of group 0 to 6.2500e-04.\n"
     ]
    },
    {
     "name": "stderr",
     "output_type": "stream",
     "text": [
      "\n"
     ]
    },
    {
     "name": "stdout",
     "output_type": "stream",
     "text": [
      "Epoch 40 | Time 912s| Train Loss 0.5894 | Train Acc 79.65| Val Loss 0.765 | Val Acc 74.57| Trigger Loss 0.041 | Trigger Acc 100.00\n"
     ]
    },
    {
     "name": "stderr",
     "output_type": "stream",
     "text": [
      "100%|██████████████████████████████████████████████████████████████████████████████| 156/156 [00:14<00:00, 10.98it/s]"
     ]
    },
    {
     "name": "stdout",
     "output_type": "stream",
     "text": [
      "Adjusting learning rate of group 0 to 6.2500e-04.\n"
     ]
    },
    {
     "name": "stderr",
     "output_type": "stream",
     "text": [
      "\n"
     ]
    },
    {
     "name": "stdout",
     "output_type": "stream",
     "text": [
      "Epoch 41 | Time 929s| Train Loss 0.5580 | Train Acc 80.68| Val Loss 0.709 | Val Acc 75.72| Trigger Loss 0.026 | Trigger Acc 100.00\n"
     ]
    },
    {
     "name": "stderr",
     "output_type": "stream",
     "text": [
      "100%|██████████████████████████████████████████████████████████████████████████████| 156/156 [00:24<00:00,  6.48it/s]"
     ]
    },
    {
     "name": "stdout",
     "output_type": "stream",
     "text": [
      "Adjusting learning rate of group 0 to 6.2500e-04.\n"
     ]
    },
    {
     "name": "stderr",
     "output_type": "stream",
     "text": [
      "\n"
     ]
    },
    {
     "name": "stdout",
     "output_type": "stream",
     "text": [
      "Epoch 42 | Time 956s| Train Loss 0.5425 | Train Acc 81.24| Val Loss 0.715 | Val Acc 75.97| Trigger Loss 0.030 | Trigger Acc 100.00\n"
     ]
    },
    {
     "name": "stderr",
     "output_type": "stream",
     "text": [
      "100%|██████████████████████████████████████████████████████████████████████████████| 156/156 [00:24<00:00,  6.40it/s]"
     ]
    },
    {
     "name": "stdout",
     "output_type": "stream",
     "text": [
      "Adjusting learning rate of group 0 to 6.2500e-04.\n"
     ]
    },
    {
     "name": "stderr",
     "output_type": "stream",
     "text": [
      "\n"
     ]
    },
    {
     "name": "stdout",
     "output_type": "stream",
     "text": [
      "Epoch 43 | Time 984s| Train Loss 0.5381 | Train Acc 81.29| Val Loss 0.703 | Val Acc 75.80| Trigger Loss 0.032 | Trigger Acc 100.00\n"
     ]
    },
    {
     "name": "stderr",
     "output_type": "stream",
     "text": [
      "100%|██████████████████████████████████████████████████████████████████████████████| 156/156 [00:14<00:00, 10.95it/s]"
     ]
    },
    {
     "name": "stdout",
     "output_type": "stream",
     "text": [
      "Adjusting learning rate of group 0 to 6.2500e-04.\n"
     ]
    },
    {
     "name": "stderr",
     "output_type": "stream",
     "text": [
      "\n"
     ]
    },
    {
     "name": "stdout",
     "output_type": "stream",
     "text": [
      "Epoch 44 | Time 1001s| Train Loss 0.5418 | Train Acc 81.27| Val Loss 0.771 | Val Acc 74.51| Trigger Loss 0.063 | Trigger Acc 100.00\n"
     ]
    },
    {
     "name": "stderr",
     "output_type": "stream",
     "text": [
      "100%|██████████████████████████████████████████████████████████████████████████████| 156/156 [00:11<00:00, 13.27it/s]"
     ]
    },
    {
     "name": "stdout",
     "output_type": "stream",
     "text": [
      "Adjusting learning rate of group 0 to 6.2500e-04.\n"
     ]
    },
    {
     "name": "stderr",
     "output_type": "stream",
     "text": [
      "\n"
     ]
    },
    {
     "name": "stdout",
     "output_type": "stream",
     "text": [
      "Epoch 45 | Time 1016s| Train Loss 0.5340 | Train Acc 81.60| Val Loss 0.716 | Val Acc 75.57| Trigger Loss 0.038 | Trigger Acc 100.00\n"
     ]
    },
    {
     "name": "stderr",
     "output_type": "stream",
     "text": [
      "100%|██████████████████████████████████████████████████████████████████████████████| 156/156 [00:17<00:00,  9.16it/s]"
     ]
    },
    {
     "name": "stdout",
     "output_type": "stream",
     "text": [
      "Adjusting learning rate of group 0 to 6.2500e-04.\n"
     ]
    },
    {
     "name": "stderr",
     "output_type": "stream",
     "text": [
      "\n"
     ]
    },
    {
     "name": "stdout",
     "output_type": "stream",
     "text": [
      "Epoch 46 | Time 1036s| Train Loss 0.5463 | Train Acc 81.06| Val Loss 0.745 | Val Acc 75.14| Trigger Loss 0.039 | Trigger Acc 100.00\n"
     ]
    },
    {
     "name": "stderr",
     "output_type": "stream",
     "text": [
      "100%|██████████████████████████████████████████████████████████████████████████████| 156/156 [00:14<00:00, 10.90it/s]"
     ]
    },
    {
     "name": "stdout",
     "output_type": "stream",
     "text": [
      "Adjusting learning rate of group 0 to 6.2500e-04.\n"
     ]
    },
    {
     "name": "stderr",
     "output_type": "stream",
     "text": [
      "\n"
     ]
    },
    {
     "name": "stdout",
     "output_type": "stream",
     "text": [
      "Epoch 47 | Time 1054s| Train Loss 0.5114 | Train Acc 82.43| Val Loss 0.700 | Val Acc 76.16| Trigger Loss 0.036 | Trigger Acc 100.00\n"
     ]
    },
    {
     "name": "stderr",
     "output_type": "stream",
     "text": [
      "100%|██████████████████████████████████████████████████████████████████████████████| 156/156 [00:24<00:00,  6.41it/s]"
     ]
    },
    {
     "name": "stdout",
     "output_type": "stream",
     "text": [
      "Adjusting learning rate of group 0 to 6.2500e-04.\n"
     ]
    },
    {
     "name": "stderr",
     "output_type": "stream",
     "text": [
      "\n"
     ]
    },
    {
     "name": "stdout",
     "output_type": "stream",
     "text": [
      "Epoch 48 | Time 1082s| Train Loss 0.5022 | Train Acc 82.59| Val Loss 0.677 | Val Acc 76.67| Trigger Loss 0.026 | Trigger Acc 100.00\n"
     ]
    },
    {
     "name": "stderr",
     "output_type": "stream",
     "text": [
      "100%|██████████████████████████████████████████████████████████████████████████████| 156/156 [00:24<00:00,  6.48it/s]"
     ]
    },
    {
     "name": "stdout",
     "output_type": "stream",
     "text": [
      "Adjusting learning rate of group 0 to 3.1250e-04.\n"
     ]
    },
    {
     "name": "stderr",
     "output_type": "stream",
     "text": [
      "\n"
     ]
    },
    {
     "name": "stdout",
     "output_type": "stream",
     "text": [
      "Epoch 49 | Time 1109s| Train Loss 0.4952 | Train Acc 82.77| Val Loss 0.667 | Val Acc 76.97| Trigger Loss 0.025 | Trigger Acc 100.00\n"
     ]
    },
    {
     "name": "stderr",
     "output_type": "stream",
     "text": [
      "100%|██████████████████████████████████████████████████████████████████████████████| 156/156 [00:26<00:00,  5.81it/s]"
     ]
    },
    {
     "name": "stdout",
     "output_type": "stream",
     "text": [
      "Adjusting learning rate of group 0 to 3.1250e-04.\n"
     ]
    },
    {
     "name": "stderr",
     "output_type": "stream",
     "text": [
      "\n"
     ]
    },
    {
     "name": "stdout",
     "output_type": "stream",
     "text": [
      "Epoch 50 | Time 1139s| Train Loss 0.4930 | Train Acc 82.76| Val Loss 0.697 | Val Acc 76.23| Trigger Loss 0.033 | Trigger Acc 100.00\n"
     ]
    },
    {
     "name": "stderr",
     "output_type": "stream",
     "text": [
      "100%|██████████████████████████████████████████████████████████████████████████████| 156/156 [00:20<00:00,  7.78it/s]"
     ]
    },
    {
     "name": "stdout",
     "output_type": "stream",
     "text": [
      "Adjusting learning rate of group 0 to 3.1250e-04.\n"
     ]
    },
    {
     "name": "stderr",
     "output_type": "stream",
     "text": [
      "\n"
     ]
    },
    {
     "name": "stdout",
     "output_type": "stream",
     "text": [
      "Epoch 51 | Time 1163s| Train Loss 0.4878 | Train Acc 82.99| Val Loss 0.657 | Val Acc 77.71| Trigger Loss 0.025 | Trigger Acc 100.00\n"
     ]
    },
    {
     "name": "stderr",
     "output_type": "stream",
     "text": [
      "100%|██████████████████████████████████████████████████████████████████████████████| 156/156 [00:16<00:00,  9.30it/s]"
     ]
    },
    {
     "name": "stdout",
     "output_type": "stream",
     "text": [
      "Adjusting learning rate of group 0 to 3.1250e-04.\n"
     ]
    },
    {
     "name": "stderr",
     "output_type": "stream",
     "text": [
      "\n"
     ]
    },
    {
     "name": "stdout",
     "output_type": "stream",
     "text": [
      "Epoch 52 | Time 1183s| Train Loss 0.4829 | Train Acc 83.23| Val Loss 0.655 | Val Acc 78.15| Trigger Loss 0.023 | Trigger Acc 100.00\n"
     ]
    },
    {
     "name": "stderr",
     "output_type": "stream",
     "text": [
      "100%|██████████████████████████████████████████████████████████████████████████████| 156/156 [00:14<00:00, 11.06it/s]"
     ]
    },
    {
     "name": "stdout",
     "output_type": "stream",
     "text": [
      "Adjusting learning rate of group 0 to 3.1250e-04.\n"
     ]
    },
    {
     "name": "stderr",
     "output_type": "stream",
     "text": [
      "\n"
     ]
    },
    {
     "name": "stdout",
     "output_type": "stream",
     "text": [
      "Epoch 53 | Time 1200s| Train Loss 0.4581 | Train Acc 84.29| Val Loss 0.657 | Val Acc 77.96| Trigger Loss 0.014 | Trigger Acc 100.00\n"
     ]
    },
    {
     "name": "stderr",
     "output_type": "stream",
     "text": [
      "100%|██████████████████████████████████████████████████████████████████████████████| 156/156 [00:17<00:00,  8.88it/s]"
     ]
    },
    {
     "name": "stdout",
     "output_type": "stream",
     "text": [
      "Adjusting learning rate of group 0 to 3.1250e-04.\n"
     ]
    },
    {
     "name": "stderr",
     "output_type": "stream",
     "text": [
      "\n"
     ]
    },
    {
     "name": "stdout",
     "output_type": "stream",
     "text": [
      "Epoch 54 | Time 1220s| Train Loss 0.4608 | Train Acc 83.96| Val Loss 0.638 | Val Acc 78.27| Trigger Loss 0.018 | Trigger Acc 100.00\n"
     ]
    },
    {
     "name": "stderr",
     "output_type": "stream",
     "text": [
      "100%|██████████████████████████████████████████████████████████████████████████████| 156/156 [00:12<00:00, 12.18it/s]"
     ]
    },
    {
     "name": "stdout",
     "output_type": "stream",
     "text": [
      "Adjusting learning rate of group 0 to 3.1250e-04.\n"
     ]
    },
    {
     "name": "stderr",
     "output_type": "stream",
     "text": [
      "\n"
     ]
    },
    {
     "name": "stdout",
     "output_type": "stream",
     "text": [
      "Epoch 55 | Time 1236s| Train Loss 0.4504 | Train Acc 84.40| Val Loss 0.634 | Val Acc 78.39| Trigger Loss 0.018 | Trigger Acc 100.00\n"
     ]
    },
    {
     "name": "stderr",
     "output_type": "stream",
     "text": [
      "100%|██████████████████████████████████████████████████████████████████████████████| 156/156 [00:24<00:00,  6.29it/s]\n"
     ]
    },
    {
     "name": "stdout",
     "output_type": "stream",
     "text": [
      "Adjusting learning rate of group 0 to 3.1250e-04.\n",
      "Epoch 56 | Time 1264s| Train Loss 0.4555 | Train Acc 84.22| Val Loss 0.626 | Val Acc 78.71| Trigger Loss 0.030 | Trigger Acc 100.00\n"
     ]
    },
    {
     "name": "stderr",
     "output_type": "stream",
     "text": [
      "100%|██████████████████████████████████████████████████████████████████████████████| 156/156 [00:20<00:00,  7.72it/s]"
     ]
    },
    {
     "name": "stdout",
     "output_type": "stream",
     "text": [
      "Adjusting learning rate of group 0 to 3.1250e-04.\n"
     ]
    },
    {
     "name": "stderr",
     "output_type": "stream",
     "text": [
      "\n"
     ]
    },
    {
     "name": "stdout",
     "output_type": "stream",
     "text": [
      "Epoch 57 | Time 1288s| Train Loss 0.4535 | Train Acc 84.31| Val Loss 0.686 | Val Acc 77.38| Trigger Loss 0.034 | Trigger Acc 100.00\n"
     ]
    },
    {
     "name": "stderr",
     "output_type": "stream",
     "text": [
      "100%|██████████████████████████████████████████████████████████████████████████████| 156/156 [00:17<00:00,  9.15it/s]"
     ]
    },
    {
     "name": "stdout",
     "output_type": "stream",
     "text": [
      "Adjusting learning rate of group 0 to 3.1250e-04.\n"
     ]
    },
    {
     "name": "stderr",
     "output_type": "stream",
     "text": [
      "\n"
     ]
    },
    {
     "name": "stdout",
     "output_type": "stream",
     "text": [
      "Epoch 58 | Time 1308s| Train Loss 0.4586 | Train Acc 83.94| Val Loss 0.649 | Val Acc 78.08| Trigger Loss 0.016 | Trigger Acc 100.00\n"
     ]
    },
    {
     "name": "stderr",
     "output_type": "stream",
     "text": [
      "100%|██████████████████████████████████████████████████████████████████████████████| 156/156 [00:14<00:00, 10.92it/s]"
     ]
    },
    {
     "name": "stdout",
     "output_type": "stream",
     "text": [
      "Adjusting learning rate of group 0 to 1.5625e-04.\n"
     ]
    },
    {
     "name": "stderr",
     "output_type": "stream",
     "text": [
      "\n"
     ]
    },
    {
     "name": "stdout",
     "output_type": "stream",
     "text": [
      "Epoch 59 | Time 1326s| Train Loss 0.4383 | Train Acc 84.70| Val Loss 0.622 | Val Acc 79.59| Trigger Loss 0.012 | Trigger Acc 100.00\n"
     ]
    },
    {
     "name": "stderr",
     "output_type": "stream",
     "text": [
      "100%|██████████████████████████████████████████████████████████████████████████████| 156/156 [00:24<00:00,  6.41it/s]"
     ]
    },
    {
     "name": "stdout",
     "output_type": "stream",
     "text": [
      "Adjusting learning rate of group 0 to 1.5625e-04.\n"
     ]
    },
    {
     "name": "stderr",
     "output_type": "stream",
     "text": [
      "\n"
     ]
    },
    {
     "name": "stdout",
     "output_type": "stream",
     "text": [
      "Epoch 60 | Time 1353s| Train Loss 0.4203 | Train Acc 85.34| Val Loss 0.617 | Val Acc 79.74| Trigger Loss 0.012 | Trigger Acc 100.00\n"
     ]
    },
    {
     "name": "stderr",
     "output_type": "stream",
     "text": [
      "100%|██████████████████████████████████████████████████████████████████████████████| 156/156 [00:23<00:00,  6.55it/s]"
     ]
    },
    {
     "name": "stdout",
     "output_type": "stream",
     "text": [
      "Adjusting learning rate of group 0 to 1.5625e-04.\n"
     ]
    },
    {
     "name": "stderr",
     "output_type": "stream",
     "text": [
      "\n"
     ]
    },
    {
     "name": "stdout",
     "output_type": "stream",
     "text": [
      "Epoch 61 | Time 1380s| Train Loss 0.4182 | Train Acc 85.36| Val Loss 0.614 | Val Acc 79.76| Trigger Loss 0.013 | Trigger Acc 100.00\n"
     ]
    },
    {
     "name": "stderr",
     "output_type": "stream",
     "text": [
      "100%|██████████████████████████████████████████████████████████████████████████████| 156/156 [00:26<00:00,  5.83it/s]"
     ]
    },
    {
     "name": "stdout",
     "output_type": "stream",
     "text": [
      "Adjusting learning rate of group 0 to 1.5625e-04.\n"
     ]
    },
    {
     "name": "stderr",
     "output_type": "stream",
     "text": [
      "\n"
     ]
    },
    {
     "name": "stdout",
     "output_type": "stream",
     "text": [
      "Epoch 62 | Time 1410s| Train Loss 0.4200 | Train Acc 85.20| Val Loss 0.614 | Val Acc 79.67| Trigger Loss 0.014 | Trigger Acc 100.00\n"
     ]
    },
    {
     "name": "stderr",
     "output_type": "stream",
     "text": [
      "100%|██████████████████████████████████████████████████████████████████████████████| 156/156 [00:20<00:00,  7.71it/s]"
     ]
    },
    {
     "name": "stdout",
     "output_type": "stream",
     "text": [
      "Adjusting learning rate of group 0 to 1.5625e-04.\n"
     ]
    },
    {
     "name": "stderr",
     "output_type": "stream",
     "text": [
      "\n"
     ]
    },
    {
     "name": "stdout",
     "output_type": "stream",
     "text": [
      "Epoch 63 | Time 1434s| Train Loss 0.4170 | Train Acc 85.51| Val Loss 0.600 | Val Acc 80.03| Trigger Loss 0.014 | Trigger Acc 100.00\n"
     ]
    },
    {
     "name": "stderr",
     "output_type": "stream",
     "text": [
      "100%|██████████████████████████████████████████████████████████████████████████████| 156/156 [00:10<00:00, 14.75it/s]"
     ]
    },
    {
     "name": "stdout",
     "output_type": "stream",
     "text": [
      "Adjusting learning rate of group 0 to 1.5625e-04.\n"
     ]
    },
    {
     "name": "stderr",
     "output_type": "stream",
     "text": [
      "\n"
     ]
    },
    {
     "name": "stdout",
     "output_type": "stream",
     "text": [
      "Epoch 64 | Time 1447s| Train Loss 0.4149 | Train Acc 85.54| Val Loss 0.608 | Val Acc 79.73| Trigger Loss 0.011 | Trigger Acc 100.00\n"
     ]
    },
    {
     "name": "stderr",
     "output_type": "stream",
     "text": [
      "100%|██████████████████████████████████████████████████████████████████████████████| 156/156 [00:07<00:00, 20.37it/s]"
     ]
    },
    {
     "name": "stdout",
     "output_type": "stream",
     "text": [
      "Adjusting learning rate of group 0 to 1.5625e-04.\n"
     ]
    },
    {
     "name": "stderr",
     "output_type": "stream",
     "text": [
      "\n"
     ]
    },
    {
     "name": "stdout",
     "output_type": "stream",
     "text": [
      "Epoch 65 | Time 1458s| Train Loss 0.4019 | Train Acc 86.05| Val Loss 0.599 | Val Acc 80.04| Trigger Loss 0.009 | Trigger Acc 100.00\n"
     ]
    },
    {
     "name": "stderr",
     "output_type": "stream",
     "text": [
      "100%|██████████████████████████████████████████████████████████████████████████████| 156/156 [00:16<00:00,  9.25it/s]"
     ]
    },
    {
     "name": "stdout",
     "output_type": "stream",
     "text": [
      "Adjusting learning rate of group 0 to 1.5625e-04.\n"
     ]
    },
    {
     "name": "stderr",
     "output_type": "stream",
     "text": [
      "\n"
     ]
    },
    {
     "name": "stdout",
     "output_type": "stream",
     "text": [
      "Epoch 66 | Time 1478s| Train Loss 0.3930 | Train Acc 86.24| Val Loss 0.600 | Val Acc 79.99| Trigger Loss 0.010 | Trigger Acc 100.00\n"
     ]
    },
    {
     "name": "stderr",
     "output_type": "stream",
     "text": [
      "100%|██████████████████████████████████████████████████████████████████████████████| 156/156 [00:24<00:00,  6.47it/s]"
     ]
    },
    {
     "name": "stdout",
     "output_type": "stream",
     "text": [
      "Adjusting learning rate of group 0 to 1.5625e-04.\n"
     ]
    },
    {
     "name": "stderr",
     "output_type": "stream",
     "text": [
      "\n"
     ]
    },
    {
     "name": "stdout",
     "output_type": "stream",
     "text": [
      "Epoch 67 | Time 1505s| Train Loss 0.3908 | Train Acc 86.29| Val Loss 0.599 | Val Acc 79.81| Trigger Loss 0.010 | Trigger Acc 100.00\n"
     ]
    },
    {
     "name": "stderr",
     "output_type": "stream",
     "text": [
      "100%|██████████████████████████████████████████████████████████████████████████████| 156/156 [00:27<00:00,  5.77it/s]"
     ]
    },
    {
     "name": "stdout",
     "output_type": "stream",
     "text": [
      "Adjusting learning rate of group 0 to 1.5625e-04.\n"
     ]
    },
    {
     "name": "stderr",
     "output_type": "stream",
     "text": [
      "\n"
     ]
    },
    {
     "name": "stdout",
     "output_type": "stream",
     "text": [
      "Epoch 68 | Time 1536s| Train Loss 0.3948 | Train Acc 86.12| Val Loss 0.593 | Val Acc 80.36| Trigger Loss 0.011 | Trigger Acc 100.00\n"
     ]
    },
    {
     "name": "stderr",
     "output_type": "stream",
     "text": [
      "100%|██████████████████████████████████████████████████████████████████████████████| 156/156 [00:20<00:00,  7.73it/s]"
     ]
    },
    {
     "name": "stdout",
     "output_type": "stream",
     "text": [
      "Adjusting learning rate of group 0 to 7.8125e-05.\n"
     ]
    },
    {
     "name": "stderr",
     "output_type": "stream",
     "text": [
      "\n"
     ]
    },
    {
     "name": "stdout",
     "output_type": "stream",
     "text": [
      "Epoch 69 | Time 1559s| Train Loss 0.3946 | Train Acc 86.00| Val Loss 0.597 | Val Acc 80.11| Trigger Loss 0.012 | Trigger Acc 100.00\n"
     ]
    },
    {
     "name": "stderr",
     "output_type": "stream",
     "text": [
      "100%|██████████████████████████████████████████████████████████████████████████████| 156/156 [00:16<00:00,  9.18it/s]"
     ]
    },
    {
     "name": "stdout",
     "output_type": "stream",
     "text": [
      "Adjusting learning rate of group 0 to 7.8125e-05.\n"
     ]
    },
    {
     "name": "stderr",
     "output_type": "stream",
     "text": [
      "\n"
     ]
    },
    {
     "name": "stdout",
     "output_type": "stream",
     "text": [
      "Epoch 70 | Time 1580s| Train Loss 0.3877 | Train Acc 86.52| Val Loss 0.583 | Val Acc 80.80| Trigger Loss 0.008 | Trigger Acc 100.00\n"
     ]
    },
    {
     "name": "stderr",
     "output_type": "stream",
     "text": [
      "100%|██████████████████████████████████████████████████████████████████████████████| 156/156 [00:14<00:00, 10.98it/s]"
     ]
    },
    {
     "name": "stdout",
     "output_type": "stream",
     "text": [
      "Adjusting learning rate of group 0 to 7.8125e-05.\n"
     ]
    },
    {
     "name": "stderr",
     "output_type": "stream",
     "text": [
      "\n"
     ]
    },
    {
     "name": "stdout",
     "output_type": "stream",
     "text": [
      "Epoch 71 | Time 1597s| Train Loss 0.3728 | Train Acc 86.93| Val Loss 0.587 | Val Acc 80.79| Trigger Loss 0.007 | Trigger Acc 100.00\n"
     ]
    },
    {
     "name": "stderr",
     "output_type": "stream",
     "text": [
      "100%|██████████████████████████████████████████████████████████████████████████████| 156/156 [00:24<00:00,  6.47it/s]"
     ]
    },
    {
     "name": "stdout",
     "output_type": "stream",
     "text": [
      "Adjusting learning rate of group 0 to 7.8125e-05.\n"
     ]
    },
    {
     "name": "stderr",
     "output_type": "stream",
     "text": [
      "\n"
     ]
    },
    {
     "name": "stdout",
     "output_type": "stream",
     "text": [
      "Epoch 72 | Time 1625s| Train Loss 0.3718 | Train Acc 86.90| Val Loss 0.586 | Val Acc 81.01| Trigger Loss 0.007 | Trigger Acc 100.00\n"
     ]
    },
    {
     "name": "stderr",
     "output_type": "stream",
     "text": [
      "100%|██████████████████████████████████████████████████████████████████████████████| 156/156 [00:23<00:00,  6.57it/s]"
     ]
    },
    {
     "name": "stdout",
     "output_type": "stream",
     "text": [
      "Adjusting learning rate of group 0 to 7.8125e-05.\n"
     ]
    },
    {
     "name": "stderr",
     "output_type": "stream",
     "text": [
      "\n"
     ]
    },
    {
     "name": "stdout",
     "output_type": "stream",
     "text": [
      "Epoch 73 | Time 1652s| Train Loss 0.3667 | Train Acc 87.12| Val Loss 0.586 | Val Acc 80.88| Trigger Loss 0.007 | Trigger Acc 100.00\n"
     ]
    },
    {
     "name": "stderr",
     "output_type": "stream",
     "text": [
      "100%|██████████████████████████████████████████████████████████████████████████████| 156/156 [00:21<00:00,  7.40it/s]\n"
     ]
    },
    {
     "name": "stdout",
     "output_type": "stream",
     "text": [
      "Adjusting learning rate of group 0 to 7.8125e-05.\n",
      "Epoch 74 | Time 1675s| Train Loss 0.3696 | Train Acc 87.06| Val Loss 0.584 | Val Acc 80.98| Trigger Loss 0.007 | Trigger Acc 100.00\n"
     ]
    },
    {
     "name": "stderr",
     "output_type": "stream",
     "text": [
      "100%|██████████████████████████████████████████████████████████████████████████████| 156/156 [00:10<00:00, 14.40it/s]"
     ]
    },
    {
     "name": "stdout",
     "output_type": "stream",
     "text": [
      "Adjusting learning rate of group 0 to 7.8125e-05.\n"
     ]
    },
    {
     "name": "stderr",
     "output_type": "stream",
     "text": [
      "\n"
     ]
    },
    {
     "name": "stdout",
     "output_type": "stream",
     "text": [
      "Epoch 75 | Time 1689s| Train Loss 0.3678 | Train Acc 86.89| Val Loss 0.579 | Val Acc 81.13| Trigger Loss 0.008 | Trigger Acc 100.00\n"
     ]
    },
    {
     "name": "stderr",
     "output_type": "stream",
     "text": [
      "100%|██████████████████████████████████████████████████████████████████████████████| 156/156 [00:12<00:00, 12.68it/s]"
     ]
    },
    {
     "name": "stdout",
     "output_type": "stream",
     "text": [
      "Adjusting learning rate of group 0 to 7.8125e-05.\n"
     ]
    },
    {
     "name": "stderr",
     "output_type": "stream",
     "text": [
      "\n"
     ]
    },
    {
     "name": "stdout",
     "output_type": "stream",
     "text": [
      "Epoch 76 | Time 1705s| Train Loss 0.3715 | Train Acc 86.78| Val Loss 0.582 | Val Acc 80.65| Trigger Loss 0.008 | Trigger Acc 100.00\n"
     ]
    },
    {
     "name": "stderr",
     "output_type": "stream",
     "text": [
      "100%|██████████████████████████████████████████████████████████████████████████████| 156/156 [00:14<00:00, 10.95it/s]"
     ]
    },
    {
     "name": "stdout",
     "output_type": "stream",
     "text": [
      "Adjusting learning rate of group 0 to 7.8125e-05.\n"
     ]
    },
    {
     "name": "stderr",
     "output_type": "stream",
     "text": [
      "\n"
     ]
    },
    {
     "name": "stdout",
     "output_type": "stream",
     "text": [
      "Epoch 77 | Time 1722s| Train Loss 0.3637 | Train Acc 87.19| Val Loss 0.578 | Val Acc 81.26| Trigger Loss 0.006 | Trigger Acc 100.00\n"
     ]
    },
    {
     "name": "stderr",
     "output_type": "stream",
     "text": [
      "100%|██████████████████████████████████████████████████████████████████████████████| 156/156 [00:24<00:00,  6.41it/s]"
     ]
    },
    {
     "name": "stdout",
     "output_type": "stream",
     "text": [
      "Adjusting learning rate of group 0 to 7.8125e-05.\n"
     ]
    },
    {
     "name": "stderr",
     "output_type": "stream",
     "text": [
      "\n"
     ]
    },
    {
     "name": "stdout",
     "output_type": "stream",
     "text": [
      "Epoch 78 | Time 1750s| Train Loss 0.3564 | Train Acc 87.52| Val Loss 0.578 | Val Acc 81.17| Trigger Loss 0.005 | Trigger Acc 100.00\n"
     ]
    },
    {
     "name": "stderr",
     "output_type": "stream",
     "text": [
      "100%|██████████████████████████████████████████████████████████████████████████████| 156/156 [00:24<00:00,  6.47it/s]"
     ]
    },
    {
     "name": "stdout",
     "output_type": "stream",
     "text": [
      "Adjusting learning rate of group 0 to 3.9063e-05.\n"
     ]
    },
    {
     "name": "stderr",
     "output_type": "stream",
     "text": [
      "\n"
     ]
    },
    {
     "name": "stdout",
     "output_type": "stream",
     "text": [
      "Epoch 79 | Time 1777s| Train Loss 0.3534 | Train Acc 87.57| Val Loss 0.576 | Val Acc 81.29| Trigger Loss 0.006 | Trigger Acc 100.00\n"
     ]
    },
    {
     "data": {
      "text/plain": [
       "{'train_acc': [68.51634534786253,\n",
       "  71.83570829840737,\n",
       "  73.36546521374686,\n",
       "  73.8327745180218,\n",
       "  66.88181056160938,\n",
       "  63.01341156747695,\n",
       "  65.90947191953059,\n",
       "  63.99203688181056,\n",
       "  56.068734283319365,\n",
       "  50.89061190276614,\n",
       "  52.849958088851636,\n",
       "  56.739312657166806,\n",
       "  62.204526404023476,\n",
       "  60.88642078792959,\n",
       "  60.4149203688181,\n",
       "  61.76445934618609,\n",
       "  66.65968147527242,\n",
       "  68.79715004191115,\n",
       "  69.32523051131601,\n",
       "  69.41533948030177,\n",
       "  69.25188600167644,\n",
       "  69.92455993294216,\n",
       "  72.0850796311819,\n",
       "  73.53101424979045,\n",
       "  74.22254819782061,\n",
       "  74.49706621961441,\n",
       "  73.66093880972339,\n",
       "  73.41156747694887,\n",
       "  74.07795473595976,\n",
       "  75.33319362950544,\n",
       "  76.79379715004191,\n",
       "  77.15004191114836,\n",
       "  77.11441743503772,\n",
       "  77.31768650461022,\n",
       "  77.52095557418274,\n",
       "  78.65674769488685,\n",
       "  79.29798826487846,\n",
       "  79.71081307627828,\n",
       "  78.88306789606035,\n",
       "  78.91450125733445,\n",
       "  79.65213746856664,\n",
       "  80.68105616093881,\n",
       "  81.24266554903605,\n",
       "  81.28667225481978,\n",
       "  81.26781223805533,\n",
       "  81.5989103101425,\n",
       "  81.058256496228,\n",
       "  82.42875104777872,\n",
       "  82.58801341156747,\n",
       "  82.76823134953898,\n",
       "  82.76194467728416,\n",
       "  82.99036043587594,\n",
       "  83.23344509639564,\n",
       "  84.28960603520537,\n",
       "  83.95641240569992,\n",
       "  84.40067057837385,\n",
       "  84.21626152556581,\n",
       "  84.31475272422463,\n",
       "  83.941743503772,\n",
       "  84.7024308466052,\n",
       "  85.3436714165968,\n",
       "  85.36462699077954,\n",
       "  85.20117351215424,\n",
       "  85.51131601005868,\n",
       "  85.53646269907796,\n",
       "  86.04777870913664,\n",
       "  86.24056999161776,\n",
       "  86.28667225481979,\n",
       "  86.12112321877619,\n",
       "  86.00167644593462,\n",
       "  86.52137468566639,\n",
       "  86.93000838222967,\n",
       "  86.8964794635373,\n",
       "  87.12279966471081,\n",
       "  87.0599329421626,\n",
       "  86.89019279128249,\n",
       "  86.779128248114,\n",
       "  87.19404861693211,\n",
       "  87.51676445934619,\n",
       "  87.56705783738474],\n",
       " 'train_loss': [1.0688747379176275,\n",
       "  0.8245533574007183,\n",
       "  0.7944382460374144,\n",
       "  0.8085010105936046,\n",
       "  1.009749845157425,\n",
       "  1.3035565309332682,\n",
       "  1.0030482990094223,\n",
       "  1.062090310791612,\n",
       "  1.2876329312380481,\n",
       "  1.4207349106931726,\n",
       "  1.387883343190979,\n",
       "  1.3703125343838363,\n",
       "  1.111617592349336,\n",
       "  1.1588371268411894,\n",
       "  1.1585980893980028,\n",
       "  1.1113269885297792,\n",
       "  0.9585913313654223,\n",
       "  0.8910991248620825,\n",
       "  0.892360063040846,\n",
       "  0.8991278153652917,\n",
       "  0.8992904590091482,\n",
       "  0.8700426743196422,\n",
       "  0.8056031852086252,\n",
       "  0.7630127358116828,\n",
       "  0.7495935815777582,\n",
       "  0.7363870194302021,\n",
       "  0.7662192678211721,\n",
       "  0.7693944499258824,\n",
       "  0.7520448784616347,\n",
       "  0.7105748861303673,\n",
       "  0.6664731132714367,\n",
       "  0.6611610217196344,\n",
       "  0.6659153151941819,\n",
       "  0.659658546944376,\n",
       "  0.6489917799767985,\n",
       "  0.6159020522314265,\n",
       "  0.6006639628653154,\n",
       "  0.5915613860191663,\n",
       "  0.6123282649940737,\n",
       "  0.6153750208777135,\n",
       "  0.589430497180786,\n",
       "  0.5579991478232506,\n",
       "  0.5425192401200308,\n",
       "  0.538117900520738,\n",
       "  0.5417511369211776,\n",
       "  0.5339918698544075,\n",
       "  0.5462515358428244,\n",
       "  0.5114060057178826,\n",
       "  0.5021549754450527,\n",
       "  0.4952365151369961,\n",
       "  0.4930128374348542,\n",
       "  0.48778916124476174,\n",
       "  0.4828604572177033,\n",
       "  0.45812058133281586,\n",
       "  0.46079897498594846,\n",
       "  0.45035052733918945,\n",
       "  0.45545963718175686,\n",
       "  0.4534946670726079,\n",
       "  0.45864579532941846,\n",
       "  0.43828316685389995,\n",
       "  0.4203205470866949,\n",
       "  0.41821848848789356,\n",
       "  0.42004347145807214,\n",
       "  0.41696789315390365,\n",
       "  0.4149349241374624,\n",
       "  0.4019096476708953,\n",
       "  0.39297004983341205,\n",
       "  0.3908113288959334,\n",
       "  0.39480354865858364,\n",
       "  0.3945845367922467,\n",
       "  0.3877025373173879,\n",
       "  0.3727713343308737,\n",
       "  0.3717792384632475,\n",
       "  0.36674562125074095,\n",
       "  0.3696009736136539,\n",
       "  0.36784747488490693,\n",
       "  0.3714869167658829,\n",
       "  0.3637245811116066,\n",
       "  0.35635443710646303,\n",
       "  0.35341412861459115],\n",
       " 'val_acc': [76.06,\n",
       "  74.9,\n",
       "  72.53,\n",
       "  70.76,\n",
       "  58.60999999999999,\n",
       "  60.18,\n",
       "  51.03,\n",
       "  41.94,\n",
       "  29.799999999999997,\n",
       "  39.82,\n",
       "  48.99,\n",
       "  53.05,\n",
       "  52.580000000000005,\n",
       "  51.790000000000006,\n",
       "  50.2,\n",
       "  56.00000000000001,\n",
       "  56.699999999999996,\n",
       "  63.339999999999996,\n",
       "  63.83,\n",
       "  61.21,\n",
       "  62.55,\n",
       "  65.45,\n",
       "  65.81,\n",
       "  68.74,\n",
       "  69.01,\n",
       "  68.89,\n",
       "  63.980000000000004,\n",
       "  65.42999999999999,\n",
       "  67.36,\n",
       "  70.8,\n",
       "  71.37,\n",
       "  71.85000000000001,\n",
       "  70.99,\n",
       "  70.73,\n",
       "  72.19,\n",
       "  72.57000000000001,\n",
       "  73.48,\n",
       "  73.81,\n",
       "  72.78,\n",
       "  71.17999999999999,\n",
       "  74.57000000000001,\n",
       "  75.72,\n",
       "  75.97,\n",
       "  75.8,\n",
       "  74.51,\n",
       "  75.57000000000001,\n",
       "  75.14,\n",
       "  76.16000000000001,\n",
       "  76.67,\n",
       "  76.97,\n",
       "  76.23,\n",
       "  77.71000000000001,\n",
       "  78.14999999999999,\n",
       "  77.96,\n",
       "  78.27,\n",
       "  78.39,\n",
       "  78.71000000000001,\n",
       "  77.38000000000001,\n",
       "  78.08,\n",
       "  79.59,\n",
       "  79.74,\n",
       "  79.75999999999999,\n",
       "  79.67,\n",
       "  80.03,\n",
       "  79.73,\n",
       "  80.04,\n",
       "  79.99000000000001,\n",
       "  79.81,\n",
       "  80.36,\n",
       "  80.11,\n",
       "  80.80000000000001,\n",
       "  80.78999999999999,\n",
       "  81.01,\n",
       "  80.88,\n",
       "  80.97999999999999,\n",
       "  81.13,\n",
       "  80.65,\n",
       "  81.26,\n",
       "  81.17,\n",
       "  81.28999999999999],\n",
       " 'val_loss': [0.7620996337890625,\n",
       "  0.7717829949855805,\n",
       "  0.888028510761261,\n",
       "  0.9890612342357635,\n",
       "  1.3614747300148011,\n",
       "  1.1809727063179016,\n",
       "  1.3796180126667024,\n",
       "  1.6171038214683533,\n",
       "  1.9179357404708863,\n",
       "  1.7900866475105286,\n",
       "  1.4564340082168579,\n",
       "  1.3252506275177003,\n",
       "  1.3219615198135375,\n",
       "  1.3409456154823303,\n",
       "  1.4085086870193482,\n",
       "  1.2372330883026124,\n",
       "  1.2622494255065917,\n",
       "  1.0365605209827422,\n",
       "  1.0278351000785828,\n",
       "  1.1023276817321777,\n",
       "  1.0929784198760986,\n",
       "  1.0022641491889954,\n",
       "  1.0108777126312256,\n",
       "  0.9131526630401612,\n",
       "  0.8942923851966857,\n",
       "  0.8903996681213379,\n",
       "  1.057464471244812,\n",
       "  0.9919596219062805,\n",
       "  0.9472162892341613,\n",
       "  0.8579930504322052,\n",
       "  0.8253376202583314,\n",
       "  0.8162022087097168,\n",
       "  0.8409919420719146,\n",
       "  0.8405793369293213,\n",
       "  0.7946115678787231,\n",
       "  0.809704080581665,\n",
       "  0.7786484186649323,\n",
       "  0.7612302424430847,\n",
       "  0.7907748992919922,\n",
       "  0.864232905292511,\n",
       "  0.7647387800693511,\n",
       "  0.7090842632055283,\n",
       "  0.7148827918767929,\n",
       "  0.703249418091774,\n",
       "  0.7711281800746917,\n",
       "  0.7162786266326905,\n",
       "  0.7446325800895691,\n",
       "  0.6998522984504699,\n",
       "  0.676845242023468,\n",
       "  0.6670947030067443,\n",
       "  0.6971695938110352,\n",
       "  0.6568685037612915,\n",
       "  0.6550225461959839,\n",
       "  0.6569305030822754,\n",
       "  0.6379868230819702,\n",
       "  0.6344946765422821,\n",
       "  0.6263905726909638,\n",
       "  0.686186063337326,\n",
       "  0.6492895760536194,\n",
       "  0.6223510492801666,\n",
       "  0.6173170839786529,\n",
       "  0.6137160353660583,\n",
       "  0.6139896228313446,\n",
       "  0.6002289174795151,\n",
       "  0.6083629278182984,\n",
       "  0.5988803235054017,\n",
       "  0.6001803211212158,\n",
       "  0.5985591825008393,\n",
       "  0.5933812382698059,\n",
       "  0.5970725589036942,\n",
       "  0.5827793634414673,\n",
       "  0.5869483016729354,\n",
       "  0.5858350207328796,\n",
       "  0.5862651582002639,\n",
       "  0.583590345954895,\n",
       "  0.5790324154376983,\n",
       "  0.5823259902954101,\n",
       "  0.5777380792856216,\n",
       "  0.5777129828214645,\n",
       "  0.5759233164787293],\n",
       " 'trigger_acc': [24.0,\n",
       "  44.0,\n",
       "  72.0,\n",
       "  89.0,\n",
       "  78.0,\n",
       "  82.0,\n",
       "  43.0,\n",
       "  33.0,\n",
       "  25.0,\n",
       "  60.0,\n",
       "  85.0,\n",
       "  92.0,\n",
       "  93.0,\n",
       "  86.0,\n",
       "  85.0,\n",
       "  98.0,\n",
       "  93.0,\n",
       "  99.0,\n",
       "  99.0,\n",
       "  97.0,\n",
       "  98.0,\n",
       "  100.0,\n",
       "  96.0,\n",
       "  100.0,\n",
       "  100.0,\n",
       "  100.0,\n",
       "  93.0,\n",
       "  96.0,\n",
       "  100.0,\n",
       "  100.0,\n",
       "  100.0,\n",
       "  100.0,\n",
       "  100.0,\n",
       "  100.0,\n",
       "  100.0,\n",
       "  100.0,\n",
       "  100.0,\n",
       "  100.0,\n",
       "  100.0,\n",
       "  96.0,\n",
       "  100.0,\n",
       "  100.0,\n",
       "  100.0,\n",
       "  100.0,\n",
       "  100.0,\n",
       "  100.0,\n",
       "  100.0,\n",
       "  100.0,\n",
       "  100.0,\n",
       "  100.0,\n",
       "  100.0,\n",
       "  100.0,\n",
       "  100.0,\n",
       "  100.0,\n",
       "  100.0,\n",
       "  100.0,\n",
       "  100.0,\n",
       "  100.0,\n",
       "  100.0,\n",
       "  100.0,\n",
       "  100.0,\n",
       "  100.0,\n",
       "  100.0,\n",
       "  100.0,\n",
       "  100.0,\n",
       "  100.0,\n",
       "  100.0,\n",
       "  100.0,\n",
       "  100.0,\n",
       "  100.0,\n",
       "  100.0,\n",
       "  100.0,\n",
       "  100.0,\n",
       "  100.0,\n",
       "  100.0,\n",
       "  100.0,\n",
       "  100.0,\n",
       "  100.0,\n",
       "  100.0,\n",
       "  100.0],\n",
       " 'trigger_loss': [1.9358267641067506,\n",
       "  1.3188397312164306,\n",
       "  0.7420649790763855,\n",
       "  0.4127674114704132,\n",
       "  0.5204482150077819,\n",
       "  0.6104076528549194,\n",
       "  1.5453773832321167,\n",
       "  1.8173869895935058,\n",
       "  1.9111618757247926,\n",
       "  1.3134766578674317,\n",
       "  0.6468537425994874,\n",
       "  0.5040227580070495,\n",
       "  0.6148187446594239,\n",
       "  0.739245662689209,\n",
       "  0.6791629195213318,\n",
       "  0.37359640598297117,\n",
       "  0.3677515435218811,\n",
       "  0.17909573376178742,\n",
       "  0.2622660410404205,\n",
       "  0.3420559358596802,\n",
       "  0.254521324634552,\n",
       "  0.12578953206539153,\n",
       "  0.20436834156513214,\n",
       "  0.062480292320251464,\n",
       "  0.11218800663948059,\n",
       "  0.1453094059228897,\n",
       "  0.24760058224201204,\n",
       "  0.1910947746038437,\n",
       "  0.07601927161216736,\n",
       "  0.06424596667289734,\n",
       "  0.05836419224739075,\n",
       "  0.07167859524488449,\n",
       "  0.06617850124835968,\n",
       "  0.10652248591184615,\n",
       "  0.05377957612276077,\n",
       "  0.044077756255865096,\n",
       "  0.05461146742105484,\n",
       "  0.05366765812039375,\n",
       "  0.07873729258775711,\n",
       "  0.19554799497127534,\n",
       "  0.040627510249614716,\n",
       "  0.025808680355548858,\n",
       "  0.029889931529760362,\n",
       "  0.032060367166996,\n",
       "  0.06293312758207321,\n",
       "  0.03834964096546173,\n",
       "  0.03949099525809288,\n",
       "  0.0362904392182827,\n",
       "  0.026334489434957503,\n",
       "  0.025385691896080972,\n",
       "  0.03295932337641716,\n",
       "  0.025187107846140862,\n",
       "  0.022734237983822823,\n",
       "  0.013625241070985793,\n",
       "  0.01837989941239357,\n",
       "  0.017820880487561225,\n",
       "  0.029632803946733476,\n",
       "  0.03428859293460846,\n",
       "  0.01627977319061756,\n",
       "  0.01221866998821497,\n",
       "  0.012112843617796899,\n",
       "  0.012851461954414844,\n",
       "  0.014275283217430115,\n",
       "  0.013763914667069912,\n",
       "  0.011037514582276343,\n",
       "  0.008602885641157626,\n",
       "  0.00974264182150364,\n",
       "  0.009793941155076027,\n",
       "  0.011119697727262973,\n",
       "  0.012257007658481598,\n",
       "  0.008487437963485717,\n",
       "  0.00711008258163929,\n",
       "  0.00670607827603817,\n",
       "  0.006839063726365566,\n",
       "  0.00730795469135046,\n",
       "  0.008414507061243057,\n",
       "  0.008427065759897233,\n",
       "  0.005855006948113441,\n",
       "  0.00537000872194767,\n",
       "  0.00590161707252264]}"
      ]
     },
     "execution_count": 6,
     "metadata": {},
     "output_type": "execute_result"
    }
   ],
   "source": [
    "# watermark with frozen layers\n",
    "net = ResNet18()\n",
    "logcmt = f\"resnet18_8020_trigger_finetune\"\n",
    "net.load_state_dict(torch.load('checkpoints/resnet18_8020.ckpt'))\n",
    "frozen_layers=[net.conv1, net.bn1, net.layer1, net.layer2, net.layer3, net.layer4]\n",
    "optimizer = torch.optim.Adam(params=net.parameters(), lr=0.01, weight_decay=1e-4)\n",
    "criterion = nn.CrossEntropyLoss()\n",
    "scheduler = torch.optim.lr_scheduler.StepLR(optimizer, step_size=10, gamma=0.5, verbose=True)\n",
    "trainer = Trainer(net, criterion, optimizer, train_loader=trainloader, trigger_loader=wmloader, use_trigger=True, scheduler=scheduler)\n",
    "evaluator = Evaluator(net, criterion)\n",
    "train(trainer, evaluator, testloader, 80, 'checkpoints/resnet18_wm_frozen_8020_rand_lr0.01.ckpt', frozen_layers=frozen_layers,\n",
    "      logdir='./runs', logcmt=logcmt, trigger_loader=wmloader)"
   ]
  },
  {
   "cell_type": "markdown",
   "id": "81cd34a7-3bd8-465b-913f-506739dec9e0",
   "metadata": {},
   "source": [
    "Adversarial Sample Uniform Scheme"
   ]
  },
  {
   "cell_type": "code",
   "execution_count": 7,
   "id": "81f428eb-af17-4257-96de-26b79a885412",
   "metadata": {},
   "outputs": [
    {
     "name": "stdout",
     "output_type": "stream",
     "text": [
      "Adjusting learning rate of group 0 to 1.0000e-02.\n",
      "Start Training...\n"
     ]
    },
    {
     "name": "stderr",
     "output_type": "stream",
     "text": [
      "100%|██████████████████████████████████████████████████████████████████████████████| 156/156 [00:23<00:00,  6.75it/s]"
     ]
    },
    {
     "name": "stdout",
     "output_type": "stream",
     "text": [
      "Adjusting learning rate of group 0 to 1.0000e-02.\n"
     ]
    },
    {
     "name": "stderr",
     "output_type": "stream",
     "text": [
      "\n"
     ]
    },
    {
     "name": "stdout",
     "output_type": "stream",
     "text": [
      "Epoch 0 | Time 26s| Train Loss 0.9615 | Train Acc 70.22| Val Loss 0.691 | Val Acc 77.94| Trigger Loss 1.758 | Trigger Acc 32.00\n"
     ]
    },
    {
     "name": "stderr",
     "output_type": "stream",
     "text": [
      "100%|██████████████████████████████████████████████████████████████████████████████| 156/156 [00:22<00:00,  6.82it/s]"
     ]
    },
    {
     "name": "stdout",
     "output_type": "stream",
     "text": [
      "Adjusting learning rate of group 0 to 1.0000e-02.\n"
     ]
    },
    {
     "name": "stderr",
     "output_type": "stream",
     "text": [
      "\n"
     ]
    },
    {
     "name": "stdout",
     "output_type": "stream",
     "text": [
      "Epoch 1 | Time 54s| Train Loss 0.7682 | Train Acc 73.83| Val Loss 0.752 | Val Acc 76.08| Trigger Loss 1.226 | Trigger Acc 57.00\n"
     ]
    },
    {
     "name": "stderr",
     "output_type": "stream",
     "text": [
      "100%|██████████████████████████████████████████████████████████████████████████████| 156/156 [00:25<00:00,  6.12it/s]"
     ]
    },
    {
     "name": "stdout",
     "output_type": "stream",
     "text": [
      "Adjusting learning rate of group 0 to 1.0000e-02.\n"
     ]
    },
    {
     "name": "stderr",
     "output_type": "stream",
     "text": [
      "\n"
     ]
    },
    {
     "name": "stdout",
     "output_type": "stream",
     "text": [
      "Epoch 2 | Time 83s| Train Loss 0.7355 | Train Acc 76.30| Val Loss 0.766 | Val Acc 75.87| Trigger Loss 0.462 | Trigger Acc 87.00\n"
     ]
    },
    {
     "name": "stderr",
     "output_type": "stream",
     "text": [
      "100%|██████████████████████████████████████████████████████████████████████████████| 156/156 [00:19<00:00,  8.13it/s]"
     ]
    },
    {
     "name": "stdout",
     "output_type": "stream",
     "text": [
      "Adjusting learning rate of group 0 to 1.0000e-02.\n"
     ]
    },
    {
     "name": "stderr",
     "output_type": "stream",
     "text": [
      "\n"
     ]
    },
    {
     "name": "stdout",
     "output_type": "stream",
     "text": [
      "Epoch 3 | Time 106s| Train Loss 0.8123 | Train Acc 73.83| Val Loss 0.883 | Val Acc 73.21| Trigger Loss 0.331 | Trigger Acc 92.00\n"
     ]
    },
    {
     "name": "stderr",
     "output_type": "stream",
     "text": [
      "100%|██████████████████████████████████████████████████████████████████████████████| 156/156 [00:13<00:00, 11.61it/s]\n"
     ]
    },
    {
     "name": "stdout",
     "output_type": "stream",
     "text": [
      "Adjusting learning rate of group 0 to 1.0000e-02.\n",
      "Epoch 4 | Time 121s| Train Loss 1.0381 | Train Acc 66.55| Val Loss 1.152 | Val Acc 64.20| Trigger Loss 0.557 | Trigger Acc 82.00\n"
     ]
    },
    {
     "name": "stderr",
     "output_type": "stream",
     "text": [
      "100%|██████████████████████████████████████████████████████████████████████████████| 156/156 [00:07<00:00, 20.24it/s]"
     ]
    },
    {
     "name": "stdout",
     "output_type": "stream",
     "text": [
      "Adjusting learning rate of group 0 to 1.0000e-02.\n"
     ]
    },
    {
     "name": "stderr",
     "output_type": "stream",
     "text": [
      "\n"
     ]
    },
    {
     "name": "stdout",
     "output_type": "stream",
     "text": [
      "Epoch 5 | Time 132s| Train Loss 1.2354 | Train Acc 63.57| Val Loss 1.265 | Val Acc 56.82| Trigger Loss 0.354 | Trigger Acc 92.00\n"
     ]
    },
    {
     "name": "stderr",
     "output_type": "stream",
     "text": [
      "100%|██████████████████████████████████████████████████████████████████████████████| 156/156 [00:13<00:00, 11.17it/s]"
     ]
    },
    {
     "name": "stdout",
     "output_type": "stream",
     "text": [
      "Adjusting learning rate of group 0 to 1.0000e-02.\n"
     ]
    },
    {
     "name": "stderr",
     "output_type": "stream",
     "text": [
      "\n"
     ]
    },
    {
     "name": "stdout",
     "output_type": "stream",
     "text": [
      "Epoch 6 | Time 148s| Train Loss 1.0465 | Train Acc 65.37| Val Loss 1.335 | Val Acc 50.93| Trigger Loss 1.569 | Trigger Acc 48.00\n"
     ]
    },
    {
     "name": "stderr",
     "output_type": "stream",
     "text": [
      "100%|██████████████████████████████████████████████████████████████████████████████| 156/156 [00:24<00:00,  6.47it/s]"
     ]
    },
    {
     "name": "stdout",
     "output_type": "stream",
     "text": [
      "Adjusting learning rate of group 0 to 1.0000e-02.\n"
     ]
    },
    {
     "name": "stderr",
     "output_type": "stream",
     "text": [
      "\n"
     ]
    },
    {
     "name": "stdout",
     "output_type": "stream",
     "text": [
      "Epoch 7 | Time 176s| Train Loss 1.1090 | Train Acc 62.51| Val Loss 1.693 | Val Acc 38.37| Trigger Loss 1.999 | Trigger Acc 26.00\n"
     ]
    },
    {
     "name": "stderr",
     "output_type": "stream",
     "text": [
      "100%|██████████████████████████████████████████████████████████████████████████████| 156/156 [00:27<00:00,  5.77it/s]\n"
     ]
    },
    {
     "name": "stdout",
     "output_type": "stream",
     "text": [
      "Adjusting learning rate of group 0 to 1.0000e-02.\n",
      "Epoch 8 | Time 206s| Train Loss 1.3798 | Train Acc 52.66| Val Loss 1.919 | Val Acc 29.31| Trigger Loss 1.700 | Trigger Acc 29.00\n"
     ]
    },
    {
     "name": "stderr",
     "output_type": "stream",
     "text": [
      "100%|██████████████████████████████████████████████████████████████████████████████| 156/156 [00:20<00:00,  7.73it/s]"
     ]
    },
    {
     "name": "stdout",
     "output_type": "stream",
     "text": [
      "Adjusting learning rate of group 0 to 5.0000e-03.\n"
     ]
    },
    {
     "name": "stderr",
     "output_type": "stream",
     "text": [
      "\n"
     ]
    },
    {
     "name": "stdout",
     "output_type": "stream",
     "text": [
      "Epoch 9 | Time 229s| Train Loss 1.3899 | Train Acc 51.58| Val Loss 1.883 | Val Acc 31.49| Trigger Loss 1.543 | Trigger Acc 40.00\n"
     ]
    },
    {
     "name": "stderr",
     "output_type": "stream",
     "text": [
      "100%|██████████████████████████████████████████████████████████████████████████████| 156/156 [00:17<00:00,  9.16it/s]"
     ]
    },
    {
     "name": "stdout",
     "output_type": "stream",
     "text": [
      "Adjusting learning rate of group 0 to 5.0000e-03.\n"
     ]
    },
    {
     "name": "stderr",
     "output_type": "stream",
     "text": [
      "\n"
     ]
    },
    {
     "name": "stdout",
     "output_type": "stream",
     "text": [
      "Epoch 10 | Time 249s| Train Loss 1.3303 | Train Acc 55.04| Val Loss 1.330 | Val Acc 51.95| Trigger Loss 0.407 | Trigger Acc 95.00\n"
     ]
    },
    {
     "name": "stderr",
     "output_type": "stream",
     "text": [
      "100%|██████████████████████████████████████████████████████████████████████████████| 156/156 [00:14<00:00, 10.91it/s]"
     ]
    },
    {
     "name": "stdout",
     "output_type": "stream",
     "text": [
      "Adjusting learning rate of group 0 to 5.0000e-03.\n"
     ]
    },
    {
     "name": "stderr",
     "output_type": "stream",
     "text": [
      "\n"
     ]
    },
    {
     "name": "stdout",
     "output_type": "stream",
     "text": [
      "Epoch 11 | Time 266s| Train Loss 1.3743 | Train Acc 56.94| Val Loss 1.291 | Val Acc 53.31| Trigger Loss 0.316 | Trigger Acc 99.00\n"
     ]
    },
    {
     "name": "stderr",
     "output_type": "stream",
     "text": [
      "100%|██████████████████████████████████████████████████████████████████████████████| 156/156 [00:24<00:00,  6.47it/s]"
     ]
    },
    {
     "name": "stdout",
     "output_type": "stream",
     "text": [
      "Adjusting learning rate of group 0 to 5.0000e-03.\n"
     ]
    },
    {
     "name": "stderr",
     "output_type": "stream",
     "text": [
      "\n"
     ]
    },
    {
     "name": "stdout",
     "output_type": "stream",
     "text": [
      "Epoch 12 | Time 294s| Train Loss 1.1000 | Train Acc 62.35| Val Loss 1.280 | Val Acc 53.78| Trigger Loss 0.452 | Trigger Acc 98.00\n"
     ]
    },
    {
     "name": "stderr",
     "output_type": "stream",
     "text": [
      "100%|██████████████████████████████████████████████████████████████████████████████| 156/156 [00:23<00:00,  6.55it/s]"
     ]
    },
    {
     "name": "stdout",
     "output_type": "stream",
     "text": [
      "Adjusting learning rate of group 0 to 5.0000e-03.\n"
     ]
    },
    {
     "name": "stderr",
     "output_type": "stream",
     "text": [
      "\n"
     ]
    },
    {
     "name": "stdout",
     "output_type": "stream",
     "text": [
      "Epoch 13 | Time 320s| Train Loss 1.1818 | Train Acc 60.03| Val Loss 1.343 | Val Acc 51.26| Trigger Loss 0.656 | Trigger Acc 89.00\n"
     ]
    },
    {
     "name": "stderr",
     "output_type": "stream",
     "text": [
      "100%|██████████████████████████████████████████████████████████████████████████████| 156/156 [00:26<00:00,  5.79it/s]"
     ]
    },
    {
     "name": "stdout",
     "output_type": "stream",
     "text": [
      "Adjusting learning rate of group 0 to 5.0000e-03.\n"
     ]
    },
    {
     "name": "stderr",
     "output_type": "stream",
     "text": [
      "\n"
     ]
    },
    {
     "name": "stdout",
     "output_type": "stream",
     "text": [
      "Epoch 14 | Time 350s| Train Loss 1.1447 | Train Acc 60.78| Val Loss 1.475 | Val Acc 47.79| Trigger Loss 0.643 | Trigger Acc 81.00\n"
     ]
    },
    {
     "name": "stderr",
     "output_type": "stream",
     "text": [
      "100%|██████████████████████████████████████████████████████████████████████████████| 156/156 [00:10<00:00, 14.43it/s]"
     ]
    },
    {
     "name": "stdout",
     "output_type": "stream",
     "text": [
      "Adjusting learning rate of group 0 to 5.0000e-03.\n"
     ]
    },
    {
     "name": "stderr",
     "output_type": "stream",
     "text": [
      "\n"
     ]
    },
    {
     "name": "stdout",
     "output_type": "stream",
     "text": [
      "Epoch 15 | Time 363s| Train Loss 1.0853 | Train Acc 62.61| Val Loss 1.202 | Val Acc 56.89| Trigger Loss 0.211 | Trigger Acc 100.00\n"
     ]
    },
    {
     "name": "stderr",
     "output_type": "stream",
     "text": [
      "100%|██████████████████████████████████████████████████████████████████████████████| 156/156 [00:09<00:00, 17.13it/s]"
     ]
    },
    {
     "name": "stdout",
     "output_type": "stream",
     "text": [
      "Adjusting learning rate of group 0 to 5.0000e-03.\n"
     ]
    },
    {
     "name": "stderr",
     "output_type": "stream",
     "text": [
      "\n"
     ]
    },
    {
     "name": "stdout",
     "output_type": "stream",
     "text": [
      "Epoch 16 | Time 375s| Train Loss 0.9749 | Train Acc 66.08| Val Loss 1.095 | Val Acc 60.39| Trigger Loss 0.252 | Trigger Acc 97.00\n"
     ]
    },
    {
     "name": "stderr",
     "output_type": "stream",
     "text": [
      "100%|██████████████████████████████████████████████████████████████████████████████| 156/156 [00:13<00:00, 11.75it/s]"
     ]
    },
    {
     "name": "stdout",
     "output_type": "stream",
     "text": [
      "Adjusting learning rate of group 0 to 5.0000e-03.\n"
     ]
    },
    {
     "name": "stderr",
     "output_type": "stream",
     "text": [
      "\n"
     ]
    },
    {
     "name": "stdout",
     "output_type": "stream",
     "text": [
      "Epoch 17 | Time 391s| Train Loss 0.9082 | Train Acc 68.05| Val Loss 1.037 | Val Acc 62.55| Trigger Loss 0.101 | Trigger Acc 99.00\n"
     ]
    },
    {
     "name": "stderr",
     "output_type": "stream",
     "text": [
      "100%|██████████████████████████████████████████████████████████████████████████████| 156/156 [00:24<00:00,  6.40it/s]"
     ]
    },
    {
     "name": "stdout",
     "output_type": "stream",
     "text": [
      "Adjusting learning rate of group 0 to 5.0000e-03.\n"
     ]
    },
    {
     "name": "stderr",
     "output_type": "stream",
     "text": [
      "\n"
     ]
    },
    {
     "name": "stdout",
     "output_type": "stream",
     "text": [
      "Epoch 18 | Time 419s| Train Loss 0.9241 | Train Acc 68.21| Val Loss 1.072 | Val Acc 61.15| Trigger Loss 0.179 | Trigger Acc 100.00\n"
     ]
    },
    {
     "name": "stderr",
     "output_type": "stream",
     "text": [
      "100%|██████████████████████████████████████████████████████████████████████████████| 156/156 [00:24<00:00,  6.48it/s]"
     ]
    },
    {
     "name": "stdout",
     "output_type": "stream",
     "text": [
      "Adjusting learning rate of group 0 to 2.5000e-03.\n"
     ]
    },
    {
     "name": "stderr",
     "output_type": "stream",
     "text": [
      "\n"
     ]
    },
    {
     "name": "stdout",
     "output_type": "stream",
     "text": [
      "Epoch 19 | Time 446s| Train Loss 0.8865 | Train Acc 69.23| Val Loss 1.086 | Val Acc 60.55| Trigger Loss 0.222 | Trigger Acc 100.00\n"
     ]
    },
    {
     "name": "stderr",
     "output_type": "stream",
     "text": [
      "100%|██████████████████████████████████████████████████████████████████████████████| 156/156 [00:27<00:00,  5.77it/s]"
     ]
    },
    {
     "name": "stdout",
     "output_type": "stream",
     "text": [
      "Adjusting learning rate of group 0 to 2.5000e-03.\n"
     ]
    },
    {
     "name": "stderr",
     "output_type": "stream",
     "text": [
      "\n"
     ]
    },
    {
     "name": "stdout",
     "output_type": "stream",
     "text": [
      "Epoch 20 | Time 476s| Train Loss 0.9040 | Train Acc 68.55| Val Loss 1.096 | Val Acc 61.46| Trigger Loss 0.260 | Trigger Acc 97.00\n"
     ]
    },
    {
     "name": "stderr",
     "output_type": "stream",
     "text": [
      "100%|██████████████████████████████████████████████████████████████████████████████| 156/156 [00:20<00:00,  7.75it/s]"
     ]
    },
    {
     "name": "stdout",
     "output_type": "stream",
     "text": [
      "Adjusting learning rate of group 0 to 2.5000e-03.\n"
     ]
    },
    {
     "name": "stderr",
     "output_type": "stream",
     "text": [
      "\n"
     ]
    },
    {
     "name": "stdout",
     "output_type": "stream",
     "text": [
      "Epoch 21 | Time 499s| Train Loss 0.8825 | Train Acc 68.99| Val Loss 1.046 | Val Acc 61.82| Trigger Loss 0.367 | Trigger Acc 95.00\n"
     ]
    },
    {
     "name": "stderr",
     "output_type": "stream",
     "text": [
      "100%|██████████████████████████████████████████████████████████████████████████████| 156/156 [00:16<00:00,  9.28it/s]"
     ]
    },
    {
     "name": "stdout",
     "output_type": "stream",
     "text": [
      "Adjusting learning rate of group 0 to 2.5000e-03.\n"
     ]
    },
    {
     "name": "stderr",
     "output_type": "stream",
     "text": [
      "\n"
     ]
    },
    {
     "name": "stdout",
     "output_type": "stream",
     "text": [
      "Epoch 22 | Time 519s| Train Loss 0.8327 | Train Acc 70.74| Val Loss 0.981 | Val Acc 65.44| Trigger Loss 0.055 | Trigger Acc 100.00\n"
     ]
    },
    {
     "name": "stderr",
     "output_type": "stream",
     "text": [
      "100%|██████████████████████████████████████████████████████████████████████████████| 156/156 [00:14<00:00, 10.95it/s]"
     ]
    },
    {
     "name": "stdout",
     "output_type": "stream",
     "text": [
      "Adjusting learning rate of group 0 to 2.5000e-03.\n"
     ]
    },
    {
     "name": "stderr",
     "output_type": "stream",
     "text": [
      "\n"
     ]
    },
    {
     "name": "stdout",
     "output_type": "stream",
     "text": [
      "Epoch 23 | Time 537s| Train Loss 0.7774 | Train Acc 72.64| Val Loss 0.937 | Val Acc 66.80| Trigger Loss 0.068 | Trigger Acc 100.00\n"
     ]
    },
    {
     "name": "stderr",
     "output_type": "stream",
     "text": [
      "100%|██████████████████████████████████████████████████████████████████████████████| 156/156 [00:23<00:00,  6.50it/s]"
     ]
    },
    {
     "name": "stdout",
     "output_type": "stream",
     "text": [
      "Adjusting learning rate of group 0 to 2.5000e-03.\n"
     ]
    },
    {
     "name": "stderr",
     "output_type": "stream",
     "text": [
      "\n"
     ]
    },
    {
     "name": "stdout",
     "output_type": "stream",
     "text": [
      "Epoch 24 | Time 564s| Train Loss 0.7628 | Train Acc 73.26| Val Loss 0.938 | Val Acc 66.67| Trigger Loss 0.126 | Trigger Acc 99.00\n"
     ]
    },
    {
     "name": "stderr",
     "output_type": "stream",
     "text": [
      "100%|██████████████████████████████████████████████████████████████████████████████| 156/156 [00:19<00:00,  7.86it/s]\n"
     ]
    },
    {
     "name": "stdout",
     "output_type": "stream",
     "text": [
      "Adjusting learning rate of group 0 to 2.5000e-03.\n",
      "Epoch 25 | Time 586s| Train Loss 0.7477 | Train Acc 73.90| Val Loss 0.906 | Val Acc 67.55| Trigger Loss 0.082 | Trigger Acc 100.00\n"
     ]
    },
    {
     "name": "stderr",
     "output_type": "stream",
     "text": [
      "100%|██████████████████████████████████████████████████████████████████████████████| 156/156 [00:14<00:00, 10.91it/s]"
     ]
    },
    {
     "name": "stdout",
     "output_type": "stream",
     "text": [
      "Adjusting learning rate of group 0 to 2.5000e-03.\n"
     ]
    },
    {
     "name": "stderr",
     "output_type": "stream",
     "text": [
      "\n"
     ]
    },
    {
     "name": "stdout",
     "output_type": "stream",
     "text": [
      "Epoch 26 | Time 603s| Train Loss 0.7742 | Train Acc 73.01| Val Loss 1.283 | Val Acc 60.02| Trigger Loss 0.320 | Trigger Acc 90.00\n"
     ]
    },
    {
     "name": "stderr",
     "output_type": "stream",
     "text": [
      "100%|██████████████████████████████████████████████████████████████████████████████| 156/156 [00:16<00:00,  9.27it/s]"
     ]
    },
    {
     "name": "stdout",
     "output_type": "stream",
     "text": [
      "Adjusting learning rate of group 0 to 2.5000e-03.\n"
     ]
    },
    {
     "name": "stderr",
     "output_type": "stream",
     "text": [
      "\n"
     ]
    },
    {
     "name": "stdout",
     "output_type": "stream",
     "text": [
      "Epoch 27 | Time 623s| Train Loss 0.7665 | Train Acc 73.21| Val Loss 0.951 | Val Acc 66.68| Trigger Loss 0.154 | Trigger Acc 99.00\n"
     ]
    },
    {
     "name": "stderr",
     "output_type": "stream",
     "text": [
      "100%|██████████████████████████████████████████████████████████████████████████████| 156/156 [00:17<00:00,  9.16it/s]"
     ]
    },
    {
     "name": "stdout",
     "output_type": "stream",
     "text": [
      "Adjusting learning rate of group 0 to 2.5000e-03.\n"
     ]
    },
    {
     "name": "stderr",
     "output_type": "stream",
     "text": [
      "\n"
     ]
    },
    {
     "name": "stdout",
     "output_type": "stream",
     "text": [
      "Epoch 28 | Time 643s| Train Loss 0.7655 | Train Acc 73.28| Val Loss 0.972 | Val Acc 67.13| Trigger Loss 0.128 | Trigger Acc 97.00\n"
     ]
    },
    {
     "name": "stderr",
     "output_type": "stream",
     "text": [
      "100%|██████████████████████████████████████████████████████████████████████████████| 156/156 [00:14<00:00, 10.88it/s]"
     ]
    },
    {
     "name": "stdout",
     "output_type": "stream",
     "text": [
      "Adjusting learning rate of group 0 to 1.2500e-03.\n"
     ]
    },
    {
     "name": "stderr",
     "output_type": "stream",
     "text": [
      "\n"
     ]
    },
    {
     "name": "stdout",
     "output_type": "stream",
     "text": [
      "Epoch 29 | Time 660s| Train Loss 0.7100 | Train Acc 75.16| Val Loss 0.865 | Val Acc 70.46| Trigger Loss 0.053 | Trigger Acc 100.00\n"
     ]
    },
    {
     "name": "stderr",
     "output_type": "stream",
     "text": [
      "100%|██████████████████████████████████████████████████████████████████████████████| 156/156 [00:24<00:00,  6.40it/s]"
     ]
    },
    {
     "name": "stdout",
     "output_type": "stream",
     "text": [
      "Adjusting learning rate of group 0 to 1.2500e-03.\n"
     ]
    },
    {
     "name": "stderr",
     "output_type": "stream",
     "text": [
      "\n"
     ]
    },
    {
     "name": "stdout",
     "output_type": "stream",
     "text": [
      "Epoch 30 | Time 688s| Train Loss 0.6791 | Train Acc 76.32| Val Loss 0.828 | Val Acc 71.53| Trigger Loss 0.038 | Trigger Acc 100.00\n"
     ]
    },
    {
     "name": "stderr",
     "output_type": "stream",
     "text": [
      "100%|██████████████████████████████████████████████████████████████████████████████| 156/156 [00:24<00:00,  6.45it/s]"
     ]
    },
    {
     "name": "stdout",
     "output_type": "stream",
     "text": [
      "Adjusting learning rate of group 0 to 1.2500e-03.\n"
     ]
    },
    {
     "name": "stderr",
     "output_type": "stream",
     "text": [
      "\n"
     ]
    },
    {
     "name": "stdout",
     "output_type": "stream",
     "text": [
      "Epoch 31 | Time 715s| Train Loss 0.6625 | Train Acc 77.02| Val Loss 0.818 | Val Acc 71.56| Trigger Loss 0.042 | Trigger Acc 100.00\n"
     ]
    },
    {
     "name": "stderr",
     "output_type": "stream",
     "text": [
      "100%|██████████████████████████████████████████████████████████████████████████████| 156/156 [00:26<00:00,  5.82it/s]"
     ]
    },
    {
     "name": "stdout",
     "output_type": "stream",
     "text": [
      "Adjusting learning rate of group 0 to 1.2500e-03.\n"
     ]
    },
    {
     "name": "stderr",
     "output_type": "stream",
     "text": [
      "\n"
     ]
    },
    {
     "name": "stdout",
     "output_type": "stream",
     "text": [
      "Epoch 32 | Time 745s| Train Loss 0.6731 | Train Acc 76.65| Val Loss 0.876 | Val Acc 69.70| Trigger Loss 0.054 | Trigger Acc 100.00\n"
     ]
    },
    {
     "name": "stderr",
     "output_type": "stream",
     "text": [
      "100%|██████████████████████████████████████████████████████████████████████████████| 156/156 [00:20<00:00,  7.79it/s]"
     ]
    },
    {
     "name": "stdout",
     "output_type": "stream",
     "text": [
      "Adjusting learning rate of group 0 to 1.2500e-03.\n"
     ]
    },
    {
     "name": "stderr",
     "output_type": "stream",
     "text": [
      "\n"
     ]
    },
    {
     "name": "stdout",
     "output_type": "stream",
     "text": [
      "Epoch 33 | Time 768s| Train Loss 0.6609 | Train Acc 77.18| Val Loss 0.884 | Val Acc 70.27| Trigger Loss 0.270 | Trigger Acc 95.00\n"
     ]
    },
    {
     "name": "stderr",
     "output_type": "stream",
     "text": [
      "100%|██████████████████████████████████████████████████████████████████████████████| 156/156 [00:16<00:00,  9.30it/s]"
     ]
    },
    {
     "name": "stdout",
     "output_type": "stream",
     "text": [
      "Adjusting learning rate of group 0 to 1.2500e-03.\n"
     ]
    },
    {
     "name": "stderr",
     "output_type": "stream",
     "text": [
      "\n"
     ]
    },
    {
     "name": "stdout",
     "output_type": "stream",
     "text": [
      "Epoch 34 | Time 788s| Train Loss 0.6534 | Train Acc 77.28| Val Loss 0.833 | Val Acc 72.01| Trigger Loss 0.118 | Trigger Acc 98.00\n"
     ]
    },
    {
     "name": "stderr",
     "output_type": "stream",
     "text": [
      "100%|██████████████████████████████████████████████████████████████████████████████| 156/156 [00:14<00:00, 10.75it/s]"
     ]
    },
    {
     "name": "stdout",
     "output_type": "stream",
     "text": [
      "Adjusting learning rate of group 0 to 1.2500e-03.\n"
     ]
    },
    {
     "name": "stderr",
     "output_type": "stream",
     "text": [
      "\n"
     ]
    },
    {
     "name": "stdout",
     "output_type": "stream",
     "text": [
      "Epoch 35 | Time 806s| Train Loss 0.6124 | Train Acc 78.82| Val Loss 0.762 | Val Acc 73.78| Trigger Loss 0.018 | Trigger Acc 100.00\n"
     ]
    },
    {
     "name": "stderr",
     "output_type": "stream",
     "text": [
      "100%|██████████████████████████████████████████████████████████████████████████████| 156/156 [00:13<00:00, 11.60it/s]"
     ]
    },
    {
     "name": "stdout",
     "output_type": "stream",
     "text": [
      "Adjusting learning rate of group 0 to 1.2500e-03.\n"
     ]
    },
    {
     "name": "stderr",
     "output_type": "stream",
     "text": [
      "\n"
     ]
    },
    {
     "name": "stdout",
     "output_type": "stream",
     "text": [
      "Epoch 36 | Time 821s| Train Loss 0.6147 | Train Acc 78.75| Val Loss 0.755 | Val Acc 74.37| Trigger Loss 0.048 | Trigger Acc 100.00\n"
     ]
    },
    {
     "name": "stderr",
     "output_type": "stream",
     "text": [
      "100%|██████████████████████████████████████████████████████████████████████████████| 156/156 [00:12<00:00, 12.06it/s]"
     ]
    },
    {
     "name": "stdout",
     "output_type": "stream",
     "text": [
      "Adjusting learning rate of group 0 to 1.2500e-03.\n"
     ]
    },
    {
     "name": "stderr",
     "output_type": "stream",
     "text": [
      "\n"
     ]
    },
    {
     "name": "stdout",
     "output_type": "stream",
     "text": [
      "Epoch 37 | Time 838s| Train Loss 0.6067 | Train Acc 79.02| Val Loss 0.755 | Val Acc 74.09| Trigger Loss 0.058 | Trigger Acc 100.00\n"
     ]
    },
    {
     "name": "stderr",
     "output_type": "stream",
     "text": [
      "100%|██████████████████████████████████████████████████████████████████████████████| 156/156 [00:26<00:00,  5.78it/s]\n"
     ]
    },
    {
     "name": "stdout",
     "output_type": "stream",
     "text": [
      "Adjusting learning rate of group 0 to 1.2500e-03.\n",
      "Epoch 38 | Time 868s| Train Loss 0.6218 | Train Acc 78.61| Val Loss 0.771 | Val Acc 73.65| Trigger Loss 0.039 | Trigger Acc 100.00\n"
     ]
    },
    {
     "name": "stderr",
     "output_type": "stream",
     "text": [
      "100%|██████████████████████████████████████████████████████████████████████████████| 156/156 [00:20<00:00,  7.74it/s]"
     ]
    },
    {
     "name": "stdout",
     "output_type": "stream",
     "text": [
      "Adjusting learning rate of group 0 to 6.2500e-04.\n"
     ]
    },
    {
     "name": "stderr",
     "output_type": "stream",
     "text": [
      "\n"
     ]
    },
    {
     "name": "stdout",
     "output_type": "stream",
     "text": [
      "Epoch 39 | Time 891s| Train Loss 0.6193 | Train Acc 78.47| Val Loss 0.836 | Val Acc 71.93| Trigger Loss 0.049 | Trigger Acc 100.00\n"
     ]
    },
    {
     "name": "stderr",
     "output_type": "stream",
     "text": [
      "100%|██████████████████████████████████████████████████████████████████████████████| 156/156 [00:17<00:00,  9.15it/s]"
     ]
    },
    {
     "name": "stdout",
     "output_type": "stream",
     "text": [
      "Adjusting learning rate of group 0 to 6.2500e-04.\n"
     ]
    },
    {
     "name": "stderr",
     "output_type": "stream",
     "text": [
      "\n"
     ]
    },
    {
     "name": "stdout",
     "output_type": "stream",
     "text": [
      "Epoch 40 | Time 911s| Train Loss 0.5957 | Train Acc 79.26| Val Loss 0.732 | Val Acc 74.69| Trigger Loss 0.017 | Trigger Acc 100.00\n"
     ]
    },
    {
     "name": "stderr",
     "output_type": "stream",
     "text": [
      "100%|██████████████████████████████████████████████████████████████████████████████| 156/156 [00:14<00:00, 10.92it/s]"
     ]
    },
    {
     "name": "stdout",
     "output_type": "stream",
     "text": [
      "Adjusting learning rate of group 0 to 6.2500e-04.\n"
     ]
    },
    {
     "name": "stderr",
     "output_type": "stream",
     "text": [
      "\n"
     ]
    },
    {
     "name": "stdout",
     "output_type": "stream",
     "text": [
      "Epoch 41 | Time 929s| Train Loss 0.5629 | Train Acc 80.44| Val Loss 0.709 | Val Acc 76.07| Trigger Loss 0.015 | Trigger Acc 100.00\n"
     ]
    },
    {
     "name": "stderr",
     "output_type": "stream",
     "text": [
      "100%|██████████████████████████████████████████████████████████████████████████████| 156/156 [00:24<00:00,  6.42it/s]"
     ]
    },
    {
     "name": "stdout",
     "output_type": "stream",
     "text": [
      "Adjusting learning rate of group 0 to 6.2500e-04.\n"
     ]
    },
    {
     "name": "stderr",
     "output_type": "stream",
     "text": [
      "\n"
     ]
    },
    {
     "name": "stdout",
     "output_type": "stream",
     "text": [
      "Epoch 42 | Time 956s| Train Loss 0.5466 | Train Acc 80.85| Val Loss 0.699 | Val Acc 75.85| Trigger Loss 0.016 | Trigger Acc 100.00\n"
     ]
    },
    {
     "name": "stderr",
     "output_type": "stream",
     "text": [
      "100%|██████████████████████████████████████████████████████████████████████████████| 156/156 [00:23<00:00,  6.53it/s]"
     ]
    },
    {
     "name": "stdout",
     "output_type": "stream",
     "text": [
      "Adjusting learning rate of group 0 to 6.2500e-04.\n"
     ]
    },
    {
     "name": "stderr",
     "output_type": "stream",
     "text": [
      "\n"
     ]
    },
    {
     "name": "stdout",
     "output_type": "stream",
     "text": [
      "Epoch 43 | Time 984s| Train Loss 0.5373 | Train Acc 81.23| Val Loss 0.695 | Val Acc 76.03| Trigger Loss 0.015 | Trigger Acc 100.00\n"
     ]
    },
    {
     "name": "stderr",
     "output_type": "stream",
     "text": [
      "100%|██████████████████████████████████████████████████████████████████████████████| 156/156 [00:26<00:00,  5.85it/s]"
     ]
    },
    {
     "name": "stdout",
     "output_type": "stream",
     "text": [
      "Adjusting learning rate of group 0 to 6.2500e-04.\n"
     ]
    },
    {
     "name": "stderr",
     "output_type": "stream",
     "text": [
      "\n"
     ]
    },
    {
     "name": "stdout",
     "output_type": "stream",
     "text": [
      "Epoch 44 | Time 1014s| Train Loss 0.5463 | Train Acc 80.98| Val Loss 0.714 | Val Acc 75.59| Trigger Loss 0.028 | Trigger Acc 100.00\n"
     ]
    },
    {
     "name": "stderr",
     "output_type": "stream",
     "text": [
      "100%|██████████████████████████████████████████████████████████████████████████████| 156/156 [00:20<00:00,  7.56it/s]"
     ]
    },
    {
     "name": "stdout",
     "output_type": "stream",
     "text": [
      "Adjusting learning rate of group 0 to 6.2500e-04.\n"
     ]
    },
    {
     "name": "stderr",
     "output_type": "stream",
     "text": [
      "\n"
     ]
    },
    {
     "name": "stdout",
     "output_type": "stream",
     "text": [
      "Epoch 45 | Time 1037s| Train Loss 0.5413 | Train Acc 81.17| Val Loss 0.701 | Val Acc 75.91| Trigger Loss 0.039 | Trigger Acc 100.00\n"
     ]
    },
    {
     "name": "stderr",
     "output_type": "stream",
     "text": [
      "100%|██████████████████████████████████████████████████████████████████████████████| 156/156 [00:09<00:00, 17.17it/s]\n"
     ]
    },
    {
     "name": "stdout",
     "output_type": "stream",
     "text": [
      "Adjusting learning rate of group 0 to 6.2500e-04.\n",
      "Epoch 46 | Time 1049s| Train Loss 0.5469 | Train Acc 81.10| Val Loss 0.701 | Val Acc 75.99| Trigger Loss 0.028 | Trigger Acc 100.00\n"
     ]
    },
    {
     "name": "stderr",
     "output_type": "stream",
     "text": [
      "100%|██████████████████████████████████████████████████████████████████████████████| 156/156 [00:07<00:00, 20.20it/s]\n"
     ]
    },
    {
     "name": "stdout",
     "output_type": "stream",
     "text": [
      "Adjusting learning rate of group 0 to 6.2500e-04.\n",
      "Epoch 47 | Time 1059s| Train Loss 0.5254 | Train Acc 81.61| Val Loss 0.668 | Val Acc 76.88| Trigger Loss 0.010 | Trigger Acc 100.00\n"
     ]
    },
    {
     "name": "stderr",
     "output_type": "stream",
     "text": [
      "100%|██████████████████████████████████████████████████████████████████████████████| 156/156 [00:20<00:00,  7.46it/s]"
     ]
    },
    {
     "name": "stdout",
     "output_type": "stream",
     "text": [
      "Adjusting learning rate of group 0 to 6.2500e-04.\n"
     ]
    },
    {
     "name": "stderr",
     "output_type": "stream",
     "text": [
      "\n"
     ]
    },
    {
     "name": "stdout",
     "output_type": "stream",
     "text": [
      "Epoch 48 | Time 1084s| Train Loss 0.5116 | Train Acc 82.14| Val Loss 0.667 | Val Acc 77.22| Trigger Loss 0.016 | Trigger Acc 100.00\n"
     ]
    },
    {
     "name": "stderr",
     "output_type": "stream",
     "text": [
      "100%|██████████████████████████████████████████████████████████████████████████████| 156/156 [00:24<00:00,  6.46it/s]"
     ]
    },
    {
     "name": "stdout",
     "output_type": "stream",
     "text": [
      "Adjusting learning rate of group 0 to 3.1250e-04.\n"
     ]
    },
    {
     "name": "stderr",
     "output_type": "stream",
     "text": [
      "\n"
     ]
    },
    {
     "name": "stdout",
     "output_type": "stream",
     "text": [
      "Epoch 49 | Time 1111s| Train Loss 0.5018 | Train Acc 82.45| Val Loss 0.665 | Val Acc 77.14| Trigger Loss 0.015 | Trigger Acc 100.00\n"
     ]
    },
    {
     "name": "stderr",
     "output_type": "stream",
     "text": [
      "100%|██████████████████████████████████████████████████████████████████████████████| 156/156 [00:27<00:00,  5.77it/s]\n"
     ]
    },
    {
     "name": "stdout",
     "output_type": "stream",
     "text": [
      "Adjusting learning rate of group 0 to 3.1250e-04.\n",
      "Epoch 50 | Time 1142s| Train Loss 0.5022 | Train Acc 82.53| Val Loss 0.659 | Val Acc 77.50| Trigger Loss 0.019 | Trigger Acc 100.00\n"
     ]
    },
    {
     "name": "stderr",
     "output_type": "stream",
     "text": [
      "100%|██████████████████████████████████████████████████████████████████████████████| 156/156 [00:20<00:00,  7.73it/s]"
     ]
    },
    {
     "name": "stdout",
     "output_type": "stream",
     "text": [
      "Adjusting learning rate of group 0 to 3.1250e-04.\n"
     ]
    },
    {
     "name": "stderr",
     "output_type": "stream",
     "text": [
      "\n"
     ]
    },
    {
     "name": "stdout",
     "output_type": "stream",
     "text": [
      "Epoch 51 | Time 1165s| Train Loss 0.4976 | Train Acc 82.73| Val Loss 0.660 | Val Acc 77.35| Trigger Loss 0.014 | Trigger Acc 100.00\n"
     ]
    },
    {
     "name": "stderr",
     "output_type": "stream",
     "text": [
      "100%|██████████████████████████████████████████████████████████████████████████████| 156/156 [00:16<00:00,  9.24it/s]"
     ]
    },
    {
     "name": "stdout",
     "output_type": "stream",
     "text": [
      "Adjusting learning rate of group 0 to 3.1250e-04.\n"
     ]
    },
    {
     "name": "stderr",
     "output_type": "stream",
     "text": [
      "\n"
     ]
    },
    {
     "name": "stdout",
     "output_type": "stream",
     "text": [
      "Epoch 52 | Time 1185s| Train Loss 0.4912 | Train Acc 82.83| Val Loss 0.650 | Val Acc 77.68| Trigger Loss 0.017 | Trigger Acc 100.00\n"
     ]
    },
    {
     "name": "stderr",
     "output_type": "stream",
     "text": [
      "100%|██████████████████████████████████████████████████████████████████████████████| 156/156 [00:14<00:00, 10.99it/s]"
     ]
    },
    {
     "name": "stdout",
     "output_type": "stream",
     "text": [
      "Adjusting learning rate of group 0 to 3.1250e-04.\n"
     ]
    },
    {
     "name": "stderr",
     "output_type": "stream",
     "text": [
      "\n"
     ]
    },
    {
     "name": "stdout",
     "output_type": "stream",
     "text": [
      "Epoch 53 | Time 1203s| Train Loss 0.4699 | Train Acc 83.66| Val Loss 0.638 | Val Acc 78.42| Trigger Loss 0.007 | Trigger Acc 100.00\n"
     ]
    },
    {
     "name": "stderr",
     "output_type": "stream",
     "text": [
      "100%|██████████████████████████████████████████████████████████████████████████████| 156/156 [00:24<00:00,  6.46it/s]"
     ]
    },
    {
     "name": "stdout",
     "output_type": "stream",
     "text": [
      "Adjusting learning rate of group 0 to 3.1250e-04.\n"
     ]
    },
    {
     "name": "stderr",
     "output_type": "stream",
     "text": [
      "\n"
     ]
    },
    {
     "name": "stdout",
     "output_type": "stream",
     "text": [
      "Epoch 54 | Time 1230s| Train Loss 0.4573 | Train Acc 83.95| Val Loss 0.633 | Val Acc 78.17| Trigger Loss 0.009 | Trigger Acc 100.00\n"
     ]
    },
    {
     "name": "stderr",
     "output_type": "stream",
     "text": [
      "100%|██████████████████████████████████████████████████████████████████████████████| 156/156 [00:23<00:00,  6.51it/s]"
     ]
    },
    {
     "name": "stdout",
     "output_type": "stream",
     "text": [
      "Adjusting learning rate of group 0 to 3.1250e-04.\n"
     ]
    },
    {
     "name": "stderr",
     "output_type": "stream",
     "text": [
      "\n"
     ]
    },
    {
     "name": "stdout",
     "output_type": "stream",
     "text": [
      "Epoch 55 | Time 1258s| Train Loss 0.4573 | Train Acc 84.03| Val Loss 0.635 | Val Acc 78.23| Trigger Loss 0.008 | Trigger Acc 100.00\n"
     ]
    },
    {
     "name": "stderr",
     "output_type": "stream",
     "text": [
      "100%|██████████████████████████████████████████████████████████████████████████████| 156/156 [00:16<00:00,  9.45it/s]"
     ]
    },
    {
     "name": "stdout",
     "output_type": "stream",
     "text": [
      "Adjusting learning rate of group 0 to 3.1250e-04.\n"
     ]
    },
    {
     "name": "stderr",
     "output_type": "stream",
     "text": [
      "\n"
     ]
    },
    {
     "name": "stdout",
     "output_type": "stream",
     "text": [
      "Epoch 56 | Time 1277s| Train Loss 0.4628 | Train Acc 83.89| Val Loss 0.650 | Val Acc 77.96| Trigger Loss 0.021 | Trigger Acc 100.00\n"
     ]
    },
    {
     "name": "stderr",
     "output_type": "stream",
     "text": [
      "100%|██████████████████████████████████████████████████████████████████████████████| 156/156 [00:10<00:00, 14.45it/s]"
     ]
    },
    {
     "name": "stdout",
     "output_type": "stream",
     "text": [
      "Adjusting learning rate of group 0 to 3.1250e-04.\n"
     ]
    },
    {
     "name": "stderr",
     "output_type": "stream",
     "text": [
      "\n"
     ]
    },
    {
     "name": "stdout",
     "output_type": "stream",
     "text": [
      "Epoch 57 | Time 1290s| Train Loss 0.4671 | Train Acc 83.70| Val Loss 0.661 | Val Acc 77.88| Trigger Loss 0.011 | Trigger Acc 100.00\n"
     ]
    },
    {
     "name": "stderr",
     "output_type": "stream",
     "text": [
      "100%|██████████████████████████████████████████████████████████████████████████████| 156/156 [00:16<00:00,  9.62it/s]"
     ]
    },
    {
     "name": "stdout",
     "output_type": "stream",
     "text": [
      "Adjusting learning rate of group 0 to 3.1250e-04.\n"
     ]
    },
    {
     "name": "stderr",
     "output_type": "stream",
     "text": [
      "\n"
     ]
    },
    {
     "name": "stdout",
     "output_type": "stream",
     "text": [
      "Epoch 58 | Time 1310s| Train Loss 0.4680 | Train Acc 83.71| Val Loss 0.651 | Val Acc 78.05| Trigger Loss 0.024 | Trigger Acc 100.00\n"
     ]
    },
    {
     "name": "stderr",
     "output_type": "stream",
     "text": [
      "100%|██████████████████████████████████████████████████████████████████████████████| 156/156 [00:14<00:00, 10.94it/s]"
     ]
    },
    {
     "name": "stdout",
     "output_type": "stream",
     "text": [
      "Adjusting learning rate of group 0 to 1.5625e-04.\n"
     ]
    },
    {
     "name": "stderr",
     "output_type": "stream",
     "text": [
      "\n"
     ]
    },
    {
     "name": "stdout",
     "output_type": "stream",
     "text": [
      "Epoch 59 | Time 1327s| Train Loss 0.4547 | Train Acc 84.20| Val Loss 0.614 | Val Acc 79.40| Trigger Loss 0.006 | Trigger Acc 100.00\n"
     ]
    },
    {
     "name": "stderr",
     "output_type": "stream",
     "text": [
      "100%|██████████████████████████████████████████████████████████████████████████████| 156/156 [00:24<00:00,  6.40it/s]"
     ]
    },
    {
     "name": "stdout",
     "output_type": "stream",
     "text": [
      "Adjusting learning rate of group 0 to 1.5625e-04.\n"
     ]
    },
    {
     "name": "stderr",
     "output_type": "stream",
     "text": [
      "\n"
     ]
    },
    {
     "name": "stdout",
     "output_type": "stream",
     "text": [
      "Epoch 60 | Time 1355s| Train Loss 0.4388 | Train Acc 84.77| Val Loss 0.621 | Val Acc 79.17| Trigger Loss 0.006 | Trigger Acc 100.00\n"
     ]
    },
    {
     "name": "stderr",
     "output_type": "stream",
     "text": [
      "100%|██████████████████████████████████████████████████████████████████████████████| 156/156 [00:24<00:00,  6.48it/s]"
     ]
    },
    {
     "name": "stdout",
     "output_type": "stream",
     "text": [
      "Adjusting learning rate of group 0 to 1.5625e-04.\n"
     ]
    },
    {
     "name": "stderr",
     "output_type": "stream",
     "text": [
      "\n"
     ]
    },
    {
     "name": "stdout",
     "output_type": "stream",
     "text": [
      "Epoch 61 | Time 1383s| Train Loss 0.4334 | Train Acc 84.89| Val Loss 0.617 | Val Acc 79.25| Trigger Loss 0.006 | Trigger Acc 100.00\n"
     ]
    },
    {
     "name": "stderr",
     "output_type": "stream",
     "text": [
      "100%|██████████████████████████████████████████████████████████████████████████████| 156/156 [00:26<00:00,  5.79it/s]"
     ]
    },
    {
     "name": "stdout",
     "output_type": "stream",
     "text": [
      "Adjusting learning rate of group 0 to 1.5625e-04.\n"
     ]
    },
    {
     "name": "stderr",
     "output_type": "stream",
     "text": [
      "\n"
     ]
    },
    {
     "name": "stdout",
     "output_type": "stream",
     "text": [
      "Epoch 62 | Time 1413s| Train Loss 0.4362 | Train Acc 84.72| Val Loss 0.617 | Val Acc 79.42| Trigger Loss 0.008 | Trigger Acc 100.00\n"
     ]
    },
    {
     "name": "stderr",
     "output_type": "stream",
     "text": [
      "100%|██████████████████████████████████████████████████████████████████████████████| 156/156 [00:20<00:00,  7.78it/s]"
     ]
    },
    {
     "name": "stdout",
     "output_type": "stream",
     "text": [
      "Adjusting learning rate of group 0 to 1.5625e-04.\n"
     ]
    },
    {
     "name": "stderr",
     "output_type": "stream",
     "text": [
      "\n"
     ]
    },
    {
     "name": "stdout",
     "output_type": "stream",
     "text": [
      "Epoch 63 | Time 1436s| Train Loss 0.4290 | Train Acc 85.09| Val Loss 0.601 | Val Acc 79.83| Trigger Loss 0.010 | Trigger Acc 100.00\n"
     ]
    },
    {
     "name": "stderr",
     "output_type": "stream",
     "text": [
      "100%|██████████████████████████████████████████████████████████████████████████████| 156/156 [00:16<00:00,  9.27it/s]"
     ]
    },
    {
     "name": "stdout",
     "output_type": "stream",
     "text": [
      "Adjusting learning rate of group 0 to 1.5625e-04.\n"
     ]
    },
    {
     "name": "stderr",
     "output_type": "stream",
     "text": [
      "\n"
     ]
    },
    {
     "name": "stdout",
     "output_type": "stream",
     "text": [
      "Epoch 64 | Time 1456s| Train Loss 0.4305 | Train Acc 85.18| Val Loss 0.613 | Val Acc 79.71| Trigger Loss 0.009 | Trigger Acc 100.00\n"
     ]
    },
    {
     "name": "stderr",
     "output_type": "stream",
     "text": [
      "100%|██████████████████████████████████████████████████████████████████████████████| 156/156 [00:14<00:00, 11.00it/s]"
     ]
    },
    {
     "name": "stdout",
     "output_type": "stream",
     "text": [
      "Adjusting learning rate of group 0 to 1.5625e-04.\n"
     ]
    },
    {
     "name": "stderr",
     "output_type": "stream",
     "text": [
      "\n"
     ]
    },
    {
     "name": "stdout",
     "output_type": "stream",
     "text": [
      "Epoch 65 | Time 1474s| Train Loss 0.4151 | Train Acc 85.46| Val Loss 0.598 | Val Acc 80.09| Trigger Loss 0.005 | Trigger Acc 100.00\n"
     ]
    },
    {
     "name": "stderr",
     "output_type": "stream",
     "text": [
      "100%|██████████████████████████████████████████████████████████████████████████████| 156/156 [00:20<00:00,  7.75it/s]"
     ]
    },
    {
     "name": "stdout",
     "output_type": "stream",
     "text": [
      "Adjusting learning rate of group 0 to 1.5625e-04.\n"
     ]
    },
    {
     "name": "stderr",
     "output_type": "stream",
     "text": [
      "\n"
     ]
    },
    {
     "name": "stdout",
     "output_type": "stream",
     "text": [
      "Epoch 66 | Time 1496s| Train Loss 0.4061 | Train Acc 85.79| Val Loss 0.596 | Val Acc 79.85| Trigger Loss 0.006 | Trigger Acc 100.00\n"
     ]
    },
    {
     "name": "stderr",
     "output_type": "stream",
     "text": [
      "100%|██████████████████████████████████████████████████████████████████████████████| 156/156 [00:12<00:00, 12.24it/s]"
     ]
    },
    {
     "name": "stdout",
     "output_type": "stream",
     "text": [
      "Adjusting learning rate of group 0 to 1.5625e-04.\n"
     ]
    },
    {
     "name": "stderr",
     "output_type": "stream",
     "text": [
      "\n"
     ]
    },
    {
     "name": "stdout",
     "output_type": "stream",
     "text": [
      "Epoch 67 | Time 1512s| Train Loss 0.4031 | Train Acc 85.84| Val Loss 0.591 | Val Acc 80.04| Trigger Loss 0.006 | Trigger Acc 100.00\n"
     ]
    },
    {
     "name": "stderr",
     "output_type": "stream",
     "text": [
      "100%|██████████████████████████████████████████████████████████████████████████████| 156/156 [00:22<00:00,  6.98it/s]\n"
     ]
    },
    {
     "name": "stdout",
     "output_type": "stream",
     "text": [
      "Adjusting learning rate of group 0 to 1.5625e-04.\n",
      "Epoch 68 | Time 1538s| Train Loss 0.4042 | Train Acc 85.96| Val Loss 0.597 | Val Acc 80.03| Trigger Loss 0.008 | Trigger Acc 100.00\n"
     ]
    },
    {
     "name": "stderr",
     "output_type": "stream",
     "text": [
      "100%|██████████████████████████████████████████████████████████████████████████████| 156/156 [00:20<00:00,  7.73it/s]"
     ]
    },
    {
     "name": "stdout",
     "output_type": "stream",
     "text": [
      "Adjusting learning rate of group 0 to 7.8125e-05.\n"
     ]
    },
    {
     "name": "stderr",
     "output_type": "stream",
     "text": [
      "\n"
     ]
    },
    {
     "name": "stdout",
     "output_type": "stream",
     "text": [
      "Epoch 69 | Time 1561s| Train Loss 0.4076 | Train Acc 85.75| Val Loss 0.590 | Val Acc 80.08| Trigger Loss 0.006 | Trigger Acc 100.00\n"
     ]
    },
    {
     "name": "stderr",
     "output_type": "stream",
     "text": [
      "100%|██████████████████████████████████████████████████████████████████████████████| 156/156 [00:17<00:00,  9.15it/s]"
     ]
    },
    {
     "name": "stdout",
     "output_type": "stream",
     "text": [
      "Adjusting learning rate of group 0 to 7.8125e-05.\n"
     ]
    },
    {
     "name": "stderr",
     "output_type": "stream",
     "text": [
      "\n"
     ]
    },
    {
     "name": "stdout",
     "output_type": "stream",
     "text": [
      "Epoch 70 | Time 1582s| Train Loss 0.4036 | Train Acc 85.89| Val Loss 0.588 | Val Acc 80.55| Trigger Loss 0.006 | Trigger Acc 100.00\n"
     ]
    },
    {
     "name": "stderr",
     "output_type": "stream",
     "text": [
      "100%|██████████████████████████████████████████████████████████████████████████████| 156/156 [00:14<00:00, 10.89it/s]"
     ]
    },
    {
     "name": "stdout",
     "output_type": "stream",
     "text": [
      "Adjusting learning rate of group 0 to 7.8125e-05.\n"
     ]
    },
    {
     "name": "stderr",
     "output_type": "stream",
     "text": [
      "\n"
     ]
    },
    {
     "name": "stdout",
     "output_type": "stream",
     "text": [
      "Epoch 71 | Time 1599s| Train Loss 0.3910 | Train Acc 86.37| Val Loss 0.582 | Val Acc 80.58| Trigger Loss 0.003 | Trigger Acc 100.00\n"
     ]
    },
    {
     "name": "stderr",
     "output_type": "stream",
     "text": [
      "100%|██████████████████████████████████████████████████████████████████████████████| 156/156 [00:24<00:00,  6.40it/s]"
     ]
    },
    {
     "name": "stdout",
     "output_type": "stream",
     "text": [
      "Adjusting learning rate of group 0 to 7.8125e-05.\n"
     ]
    },
    {
     "name": "stderr",
     "output_type": "stream",
     "text": [
      "\n"
     ]
    },
    {
     "name": "stdout",
     "output_type": "stream",
     "text": [
      "Epoch 72 | Time 1627s| Train Loss 0.3851 | Train Acc 86.55| Val Loss 0.580 | Val Acc 80.68| Trigger Loss 0.004 | Trigger Acc 100.00\n"
     ]
    },
    {
     "name": "stderr",
     "output_type": "stream",
     "text": [
      "100%|██████████████████████████████████████████████████████████████████████████████| 156/156 [00:23<00:00,  6.54it/s]"
     ]
    },
    {
     "name": "stdout",
     "output_type": "stream",
     "text": [
      "Adjusting learning rate of group 0 to 7.8125e-05.\n"
     ]
    },
    {
     "name": "stderr",
     "output_type": "stream",
     "text": [
      "\n"
     ]
    },
    {
     "name": "stdout",
     "output_type": "stream",
     "text": [
      "Epoch 73 | Time 1654s| Train Loss 0.3835 | Train Acc 86.57| Val Loss 0.581 | Val Acc 80.52| Trigger Loss 0.004 | Trigger Acc 100.00\n"
     ]
    },
    {
     "name": "stderr",
     "output_type": "stream",
     "text": [
      "100%|██████████████████████████████████████████████████████████████████████████████| 156/156 [00:26<00:00,  5.84it/s]"
     ]
    },
    {
     "name": "stdout",
     "output_type": "stream",
     "text": [
      "Adjusting learning rate of group 0 to 7.8125e-05.\n"
     ]
    },
    {
     "name": "stderr",
     "output_type": "stream",
     "text": [
      "\n"
     ]
    },
    {
     "name": "stdout",
     "output_type": "stream",
     "text": [
      "Epoch 74 | Time 1684s| Train Loss 0.3849 | Train Acc 86.57| Val Loss 0.580 | Val Acc 80.72| Trigger Loss 0.005 | Trigger Acc 100.00\n"
     ]
    },
    {
     "name": "stderr",
     "output_type": "stream",
     "text": [
      "100%|██████████████████████████████████████████████████████████████████████████████| 156/156 [00:20<00:00,  7.80it/s]"
     ]
    },
    {
     "name": "stdout",
     "output_type": "stream",
     "text": [
      "Adjusting learning rate of group 0 to 7.8125e-05.\n"
     ]
    },
    {
     "name": "stderr",
     "output_type": "stream",
     "text": [
      "\n"
     ]
    },
    {
     "name": "stdout",
     "output_type": "stream",
     "text": [
      "Epoch 75 | Time 1708s| Train Loss 0.3823 | Train Acc 86.58| Val Loss 0.580 | Val Acc 80.73| Trigger Loss 0.004 | Trigger Acc 100.00\n"
     ]
    },
    {
     "name": "stderr",
     "output_type": "stream",
     "text": [
      "100%|██████████████████████████████████████████████████████████████████████████████| 156/156 [00:13<00:00, 11.98it/s]\n"
     ]
    },
    {
     "name": "stdout",
     "output_type": "stream",
     "text": [
      "Adjusting learning rate of group 0 to 7.8125e-05.\n",
      "Epoch 76 | Time 1723s| Train Loss 0.3843 | Train Acc 86.59| Val Loss 0.593 | Val Acc 80.29| Trigger Loss 0.004 | Trigger Acc 100.00\n"
     ]
    },
    {
     "name": "stderr",
     "output_type": "stream",
     "text": [
      "100%|██████████████████████████████████████████████████████████████████████████████| 156/156 [00:07<00:00, 20.51it/s]\n"
     ]
    },
    {
     "name": "stdout",
     "output_type": "stream",
     "text": [
      "Adjusting learning rate of group 0 to 7.8125e-05.\n",
      "Epoch 77 | Time 1734s| Train Loss 0.3772 | Train Acc 86.76| Val Loss 0.589 | Val Acc 80.57| Trigger Loss 0.003 | Trigger Acc 100.00\n"
     ]
    },
    {
     "name": "stderr",
     "output_type": "stream",
     "text": [
      "100%|██████████████████████████████████████████████████████████████████████████████| 156/156 [00:14<00:00, 10.63it/s]"
     ]
    },
    {
     "name": "stdout",
     "output_type": "stream",
     "text": [
      "Adjusting learning rate of group 0 to 7.8125e-05.\n"
     ]
    },
    {
     "name": "stderr",
     "output_type": "stream",
     "text": [
      "\n"
     ]
    },
    {
     "name": "stdout",
     "output_type": "stream",
     "text": [
      "Epoch 78 | Time 1752s| Train Loss 0.3720 | Train Acc 86.79| Val Loss 0.591 | Val Acc 80.59| Trigger Loss 0.003 | Trigger Acc 100.00\n"
     ]
    },
    {
     "name": "stderr",
     "output_type": "stream",
     "text": [
      "100%|██████████████████████████████████████████████████████████████████████████████| 156/156 [00:24<00:00,  6.47it/s]"
     ]
    },
    {
     "name": "stdout",
     "output_type": "stream",
     "text": [
      "Adjusting learning rate of group 0 to 3.9063e-05.\n"
     ]
    },
    {
     "name": "stderr",
     "output_type": "stream",
     "text": [
      "\n"
     ]
    },
    {
     "name": "stdout",
     "output_type": "stream",
     "text": [
      "Epoch 79 | Time 1779s| Train Loss 0.3682 | Train Acc 86.99| Val Loss 0.588 | Val Acc 80.62| Trigger Loss 0.003 | Trigger Acc 100.00\n"
     ]
    },
    {
     "data": {
      "text/plain": [
       "{'train_acc': [70.22422464375524,\n",
       "  73.82648784576698,\n",
       "  76.29715004191114,\n",
       "  73.82858340318525,\n",
       "  66.54652137468567,\n",
       "  63.56663872590109,\n",
       "  65.36881810561609,\n",
       "  62.50628667225482,\n",
       "  52.663453478625314,\n",
       "  51.580050293378044,\n",
       "  55.044006705783744,\n",
       "  56.940486169321034,\n",
       "  62.3512154233026,\n",
       "  60.02724224643755,\n",
       "  60.77954735959765,\n",
       "  62.60896898575021,\n",
       "  66.08340318524728,\n",
       "  68.05322715842415,\n",
       "  68.21458507963118,\n",
       "  69.23302598491199,\n",
       "  68.54568315171836,\n",
       "  68.99203688181056,\n",
       "  70.73763621123219,\n",
       "  72.63621123218776,\n",
       "  73.25859178541492,\n",
       "  73.90402347024309,\n",
       "  73.01341156747695,\n",
       "  73.21458507963118,\n",
       "  73.27954735959766,\n",
       "  75.15507124895223,\n",
       "  76.31810561609387,\n",
       "  77.02011735121542,\n",
       "  76.6450125733445,\n",
       "  77.17518860016764,\n",
       "  77.27996647108131,\n",
       "  78.81810561609387,\n",
       "  78.75104777870914,\n",
       "  79.02347024308466,\n",
       "  78.6127409891031,\n",
       "  78.47443419949707,\n",
       "  79.26026823134954,\n",
       "  80.44425817267393,\n",
       "  80.85498742665548,\n",
       "  81.22590108968986,\n",
       "  80.97862531433361,\n",
       "  81.16512992455993,\n",
       "  81.09807208717518,\n",
       "  81.60938809723386,\n",
       "  82.13746856663873,\n",
       "  82.45180217937971,\n",
       "  82.53352891869237,\n",
       "  82.72632020117351,\n",
       "  82.8290025146689,\n",
       "  83.65884325230512,\n",
       "  83.95431684828164,\n",
       "  84.02975691533948,\n",
       "  83.88935456831517,\n",
       "  83.70494551550712,\n",
       "  83.71123218776194,\n",
       "  84.19530595138308,\n",
       "  84.76739312657166,\n",
       "  84.88683989941325,\n",
       "  84.72129086336966,\n",
       "  85.09430008382229,\n",
       "  85.17602682313495,\n",
       "  85.46102263202012,\n",
       "  85.79002514668902,\n",
       "  85.8382229673093,\n",
       "  85.9555741827326,\n",
       "  85.7523051131601,\n",
       "  85.89061190276614,\n",
       "  86.36839899413243,\n",
       "  86.55071248952221,\n",
       "  86.56538139145013,\n",
       "  86.57166806370495,\n",
       "  86.57585917854149,\n",
       "  86.58843252305113,\n",
       "  86.756077116513,\n",
       "  86.78960603520537,\n",
       "  86.99497066219615],\n",
       " 'train_loss': [0.9614597295875421,\n",
       "  0.7682238186444941,\n",
       "  0.7355404396868511,\n",
       "  0.8123417508172469,\n",
       "  1.038110585264668,\n",
       "  1.2354224462770955,\n",
       "  1.0465458665239842,\n",
       "  1.1089936763422887,\n",
       "  1.3797688254566625,\n",
       "  1.3899024325064622,\n",
       "  1.3303344021898702,\n",
       "  1.3743402724993499,\n",
       "  1.0999829975677355,\n",
       "  1.181801831612343,\n",
       "  1.1446899823001324,\n",
       "  1.0853339185009259,\n",
       "  0.9748585197871609,\n",
       "  0.9082417298492422,\n",
       "  0.9240825559947037,\n",
       "  0.8865261224369391,\n",
       "  0.9040193357491633,\n",
       "  0.8825373310355309,\n",
       "  0.832703763970985,\n",
       "  0.7774050135474593,\n",
       "  0.7627523900027647,\n",
       "  0.7477350943496222,\n",
       "  0.7742353445676227,\n",
       "  0.7665273565458632,\n",
       "  0.7655024422484091,\n",
       "  0.7100470546604901,\n",
       "  0.6791168219185835,\n",
       "  0.6625040826333838,\n",
       "  0.673144839990069,\n",
       "  0.660941805273969,\n",
       "  0.6534391711263825,\n",
       "  0.612436350003472,\n",
       "  0.6147143109046603,\n",
       "  0.606725847676134,\n",
       "  0.621794719563146,\n",
       "  0.6193030800773432,\n",
       "  0.5956628062149505,\n",
       "  0.5629143892269822,\n",
       "  0.5466348678473155,\n",
       "  0.5373050029724462,\n",
       "  0.5463485364692109,\n",
       "  0.5413296743340584,\n",
       "  0.5469129764923806,\n",
       "  0.525419232703914,\n",
       "  0.5115611230038037,\n",
       "  0.5017963445096684,\n",
       "  0.5021681787831785,\n",
       "  0.49755641773830217,\n",
       "  0.4912490631588746,\n",
       "  0.4698885944742969,\n",
       "  0.45731688421110295,\n",
       "  0.45725361758285676,\n",
       "  0.4628288072517512,\n",
       "  0.46707000064929793,\n",
       "  0.4680151338724159,\n",
       "  0.4547338967426225,\n",
       "  0.4388012283405934,\n",
       "  0.433362324442168,\n",
       "  0.43615851235909314,\n",
       "  0.42897181591863703,\n",
       "  0.43049775998530426,\n",
       "  0.4150746405399455,\n",
       "  0.40609746695264287,\n",
       "  0.40308991041587167,\n",
       "  0.4042100270605847,\n",
       "  0.40761057045763516,\n",
       "  0.40361977537839433,\n",
       "  0.39098375177343453,\n",
       "  0.38514435733703634,\n",
       "  0.3835409913333843,\n",
       "  0.38485861120609705,\n",
       "  0.38232287405822224,\n",
       "  0.3843342686513843,\n",
       "  0.3771682268266206,\n",
       "  0.3720134842775494,\n",
       "  0.36823856479364186],\n",
       " 'val_acc': [77.94,\n",
       "  76.08,\n",
       "  75.87,\n",
       "  73.21,\n",
       "  64.2,\n",
       "  56.82000000000001,\n",
       "  50.93,\n",
       "  38.37,\n",
       "  29.310000000000002,\n",
       "  31.490000000000002,\n",
       "  51.949999999999996,\n",
       "  53.31,\n",
       "  53.779999999999994,\n",
       "  51.25999999999999,\n",
       "  47.79,\n",
       "  56.88999999999999,\n",
       "  60.39,\n",
       "  62.55,\n",
       "  61.150000000000006,\n",
       "  60.550000000000004,\n",
       "  61.46,\n",
       "  61.82,\n",
       "  65.44,\n",
       "  66.8,\n",
       "  66.67,\n",
       "  67.55,\n",
       "  60.019999999999996,\n",
       "  66.67999999999999,\n",
       "  67.13,\n",
       "  70.46,\n",
       "  71.53,\n",
       "  71.56,\n",
       "  69.69999999999999,\n",
       "  70.27,\n",
       "  72.00999999999999,\n",
       "  73.78,\n",
       "  74.37,\n",
       "  74.09,\n",
       "  73.65,\n",
       "  71.93,\n",
       "  74.69,\n",
       "  76.07000000000001,\n",
       "  75.85,\n",
       "  76.03,\n",
       "  75.59,\n",
       "  75.91,\n",
       "  75.99000000000001,\n",
       "  76.88000000000001,\n",
       "  77.22,\n",
       "  77.14,\n",
       "  77.5,\n",
       "  77.35,\n",
       "  77.68,\n",
       "  78.42,\n",
       "  78.17,\n",
       "  78.23,\n",
       "  77.96,\n",
       "  77.88000000000001,\n",
       "  78.05,\n",
       "  79.4,\n",
       "  79.17,\n",
       "  79.25,\n",
       "  79.42,\n",
       "  79.83,\n",
       "  79.71000000000001,\n",
       "  80.08999999999999,\n",
       "  79.85,\n",
       "  80.04,\n",
       "  80.03,\n",
       "  80.08,\n",
       "  80.55,\n",
       "  80.58,\n",
       "  80.67999999999999,\n",
       "  80.52,\n",
       "  80.72,\n",
       "  80.73,\n",
       "  80.28999999999999,\n",
       "  80.57,\n",
       "  80.58999999999999,\n",
       "  80.62],\n",
       " 'val_loss': [0.6911125936031342,\n",
       "  0.7520478453636169,\n",
       "  0.765731885433197,\n",
       "  0.8829102851867676,\n",
       "  1.1519140512347221,\n",
       "  1.264896115875244,\n",
       "  1.3347165154457092,\n",
       "  1.6933782749176025,\n",
       "  1.9194629219055175,\n",
       "  1.8826472078323364,\n",
       "  1.329861194038391,\n",
       "  1.2906241333007813,\n",
       "  1.2798333359718324,\n",
       "  1.3426088713645936,\n",
       "  1.4754413798332215,\n",
       "  1.2017831192970276,\n",
       "  1.095192619228363,\n",
       "  1.037475339794159,\n",
       "  1.071670056438446,\n",
       "  1.0864763684272767,\n",
       "  1.096119576740265,\n",
       "  1.0462934980392455,\n",
       "  0.980510760307312,\n",
       "  0.9365806287765502,\n",
       "  0.9381096461772919,\n",
       "  0.9056979166507722,\n",
       "  1.282717980480194,\n",
       "  0.9513590997695923,\n",
       "  0.9719713704109192,\n",
       "  0.8650086400985718,\n",
       "  0.8281671275138855,\n",
       "  0.818449725151062,\n",
       "  0.8755149185657501,\n",
       "  0.8840925122737885,\n",
       "  0.8325960008621216,\n",
       "  0.7617469848632813,\n",
       "  0.7554969545841217,\n",
       "  0.7550554385185242,\n",
       "  0.7705688210964203,\n",
       "  0.8359901123523712,\n",
       "  0.7319616125583649,\n",
       "  0.7093213183879852,\n",
       "  0.699236758852005,\n",
       "  0.6951649083137512,\n",
       "  0.7141176549911499,\n",
       "  0.7010692053794861,\n",
       "  0.7008525756835937,\n",
       "  0.6684643505096436,\n",
       "  0.6665205285072326,\n",
       "  0.6651755350112915,\n",
       "  0.6585581430435181,\n",
       "  0.6604429191589355,\n",
       "  0.6496166223049163,\n",
       "  0.6375743934631347,\n",
       "  0.6329927052021027,\n",
       "  0.6351167107582092,\n",
       "  0.6498067991256714,\n",
       "  0.6609014628887177,\n",
       "  0.6512926107406616,\n",
       "  0.6142604104042053,\n",
       "  0.6211864300727844,\n",
       "  0.6166870661735535,\n",
       "  0.6167278023719788,\n",
       "  0.601210656452179,\n",
       "  0.6125090238571167,\n",
       "  0.597721774482727,\n",
       "  0.5963475599765777,\n",
       "  0.591262361240387,\n",
       "  0.5965352159023285,\n",
       "  0.5904489617824554,\n",
       "  0.5879811425685882,\n",
       "  0.5822518422603608,\n",
       "  0.5804471266746521,\n",
       "  0.5814553404331207,\n",
       "  0.5801618965625763,\n",
       "  0.5795312350273132,\n",
       "  0.5931931314468384,\n",
       "  0.589144847202301,\n",
       "  0.5905095276355743,\n",
       "  0.5880801084518432],\n",
       " 'trigger_acc': [32.0,\n",
       "  56.99999999999999,\n",
       "  87.0,\n",
       "  92.0,\n",
       "  82.0,\n",
       "  92.0,\n",
       "  48.0,\n",
       "  26.0,\n",
       "  28.999999999999996,\n",
       "  40.0,\n",
       "  95.0,\n",
       "  99.0,\n",
       "  98.0,\n",
       "  89.0,\n",
       "  81.0,\n",
       "  100.0,\n",
       "  97.0,\n",
       "  99.0,\n",
       "  100.0,\n",
       "  100.0,\n",
       "  97.0,\n",
       "  95.0,\n",
       "  100.0,\n",
       "  100.0,\n",
       "  99.0,\n",
       "  100.0,\n",
       "  90.0,\n",
       "  99.0,\n",
       "  97.0,\n",
       "  100.0,\n",
       "  100.0,\n",
       "  100.0,\n",
       "  100.0,\n",
       "  95.0,\n",
       "  98.0,\n",
       "  100.0,\n",
       "  100.0,\n",
       "  100.0,\n",
       "  100.0,\n",
       "  100.0,\n",
       "  100.0,\n",
       "  100.0,\n",
       "  100.0,\n",
       "  100.0,\n",
       "  100.0,\n",
       "  100.0,\n",
       "  100.0,\n",
       "  100.0,\n",
       "  100.0,\n",
       "  100.0,\n",
       "  100.0,\n",
       "  100.0,\n",
       "  100.0,\n",
       "  100.0,\n",
       "  100.0,\n",
       "  100.0,\n",
       "  100.0,\n",
       "  100.0,\n",
       "  100.0,\n",
       "  100.0,\n",
       "  100.0,\n",
       "  100.0,\n",
       "  100.0,\n",
       "  100.0,\n",
       "  100.0,\n",
       "  100.0,\n",
       "  100.0,\n",
       "  100.0,\n",
       "  100.0,\n",
       "  100.0,\n",
       "  100.0,\n",
       "  100.0,\n",
       "  100.0,\n",
       "  100.0,\n",
       "  100.0,\n",
       "  100.0,\n",
       "  100.0,\n",
       "  100.0,\n",
       "  100.0,\n",
       "  100.0],\n",
       " 'trigger_loss': [1.7579963207244873,\n",
       "  1.226346688270569,\n",
       "  0.46177828311920166,\n",
       "  0.3313809382915497,\n",
       "  0.5569264602661133,\n",
       "  0.35370487093925473,\n",
       "  1.5686299991607666,\n",
       "  1.9990868854522705,\n",
       "  1.7000488710403443,\n",
       "  1.5432830953598022,\n",
       "  0.4067515528202057,\n",
       "  0.3163441181182861,\n",
       "  0.45182130932807923,\n",
       "  0.6557066917419434,\n",
       "  0.6433264303207398,\n",
       "  0.21144331037998199,\n",
       "  0.2520116376876831,\n",
       "  0.10107785701751709,\n",
       "  0.17858365535736084,\n",
       "  0.22173850297927855,\n",
       "  0.25953255593776703,\n",
       "  0.366601220369339,\n",
       "  0.054526429027318954,\n",
       "  0.06791312754154205,\n",
       "  0.12604022085666655,\n",
       "  0.08157376527786254,\n",
       "  0.3203035593032837,\n",
       "  0.15374456644058226,\n",
       "  0.12815766870975495,\n",
       "  0.0534824076294899,\n",
       "  0.037899969667196276,\n",
       "  0.042427411526441576,\n",
       "  0.05391788810491562,\n",
       "  0.2696598494052887,\n",
       "  0.11834840953350068,\n",
       "  0.017991780936717987,\n",
       "  0.047932493388652804,\n",
       "  0.05820918172597885,\n",
       "  0.03933264330029487,\n",
       "  0.049088717252016065,\n",
       "  0.01670982167124748,\n",
       "  0.014529583118855953,\n",
       "  0.01623869925737381,\n",
       "  0.015041588842868804,\n",
       "  0.027973920553922654,\n",
       "  0.0386711223423481,\n",
       "  0.027550087571144105,\n",
       "  0.00997535601258278,\n",
       "  0.016006047427654265,\n",
       "  0.01502448968589306,\n",
       "  0.019342203363776206,\n",
       "  0.014208183996379376,\n",
       "  0.01727412447333336,\n",
       "  0.007430483158677816,\n",
       "  0.008641800321638584,\n",
       "  0.007698745019733905,\n",
       "  0.02067798249423504,\n",
       "  0.010829163491725921,\n",
       "  0.024144072756171225,\n",
       "  0.006039826944470405,\n",
       "  0.006165736839175224,\n",
       "  0.006370297558605671,\n",
       "  0.007809388600289822,\n",
       "  0.01003202848136425,\n",
       "  0.00851062560454011,\n",
       "  0.004715674053877592,\n",
       "  0.006120383217930794,\n",
       "  0.006478348989039659,\n",
       "  0.0077900485508143906,\n",
       "  0.006237876862287522,\n",
       "  0.005931349843740464,\n",
       "  0.003428616849705577,\n",
       "  0.0037409627810120584,\n",
       "  0.0036219340469688176,\n",
       "  0.004632574282586574,\n",
       "  0.0039295338466763495,\n",
       "  0.004129085708409547,\n",
       "  0.0028094029426574707,\n",
       "  0.002830131370574236,\n",
       "  0.002989755505695939]}"
      ]
     },
     "execution_count": 7,
     "metadata": {},
     "output_type": "execute_result"
    }
   ],
   "source": [
    "# watermark with frozen layers\n",
    "net = ResNet18()\n",
    "logcmt = f\"resnet18_8020_trigger_finetune\"\n",
    "net.load_state_dict(torch.load('checkpoints/resnet18_8020.ckpt'))\n",
    "frozen_layers=[net.conv1, net.bn1, net.layer1, net.layer2, net.layer3, net.layer4]\n",
    "optimizer = torch.optim.Adam(params=net.parameters(), lr=0.01, weight_decay=1e-4)\n",
    "criterion = nn.CrossEntropyLoss()\n",
    "scheduler = torch.optim.lr_scheduler.StepLR(optimizer, step_size=10, gamma=0.5, verbose=True)\n",
    "trainer = Trainer(net, criterion, optimizer, train_loader=trainloader, trigger_loader=advwmloader, use_trigger=True, scheduler=scheduler)\n",
    "evaluator = Evaluator(net, criterion)\n",
    "train(trainer, evaluator, testloader, 80, 'checkpoints/resnet18_wm_frozen_8020_adv_lr0.01.ckpt', frozen_layers=frozen_layers,\n",
    "      logdir='./runs', logcmt=logcmt, trigger_loader=advwmloader)"
   ]
  },
  {
   "cell_type": "markdown",
   "id": "4bd1a005-4be1-41c1-a0ab-a0ffce79cbd4",
   "metadata": {},
   "source": [
    "Unrelated Uniform Scheme"
   ]
  },
  {
   "cell_type": "code",
   "execution_count": 8,
   "id": "b92fb96c-a490-41fd-8910-71333d14320a",
   "metadata": {},
   "outputs": [
    {
     "name": "stdout",
     "output_type": "stream",
     "text": [
      "Adjusting learning rate of group 0 to 1.0000e-02.\n",
      "Start Training...\n"
     ]
    },
    {
     "name": "stderr",
     "output_type": "stream",
     "text": [
      "100%|██████████████████████████████████████████████████████████████████████████████| 156/156 [00:23<00:00,  6.73it/s]"
     ]
    },
    {
     "name": "stdout",
     "output_type": "stream",
     "text": [
      "Adjusting learning rate of group 0 to 1.0000e-02.\n"
     ]
    },
    {
     "name": "stderr",
     "output_type": "stream",
     "text": [
      "\n"
     ]
    },
    {
     "name": "stdout",
     "output_type": "stream",
     "text": [
      "Epoch 0 | Time 26s| Train Loss 0.4988 | Train Acc 83.49| Val Loss 0.655 | Val Acc 80.09| Trigger Loss 0.065 | Trigger Acc 100.00\n"
     ]
    },
    {
     "name": "stderr",
     "output_type": "stream",
     "text": [
      "100%|██████████████████████████████████████████████████████████████████████████████| 156/156 [00:23<00:00,  6.77it/s]"
     ]
    },
    {
     "name": "stdout",
     "output_type": "stream",
     "text": [
      "Adjusting learning rate of group 0 to 1.0000e-02.\n"
     ]
    },
    {
     "name": "stderr",
     "output_type": "stream",
     "text": [
      "\n"
     ]
    },
    {
     "name": "stdout",
     "output_type": "stream",
     "text": [
      "Epoch 1 | Time 54s| Train Loss 0.4373 | Train Acc 85.59| Val Loss 0.696 | Val Acc 79.22| Trigger Loss 0.032 | Trigger Acc 100.00\n"
     ]
    },
    {
     "name": "stderr",
     "output_type": "stream",
     "text": [
      "100%|██████████████████████████████████████████████████████████████████████████████| 156/156 [00:25<00:00,  6.03it/s]"
     ]
    },
    {
     "name": "stdout",
     "output_type": "stream",
     "text": [
      "Adjusting learning rate of group 0 to 1.0000e-02.\n"
     ]
    },
    {
     "name": "stderr",
     "output_type": "stream",
     "text": [
      "\n"
     ]
    },
    {
     "name": "stdout",
     "output_type": "stream",
     "text": [
      "Epoch 2 | Time 83s| Train Loss 0.6243 | Train Acc 80.20| Val Loss 0.654 | Val Acc 79.73| Trigger Loss 0.030 | Trigger Acc 100.00\n"
     ]
    },
    {
     "name": "stderr",
     "output_type": "stream",
     "text": [
      "100%|██████████████████████████████████████████████████████████████████████████████| 156/156 [00:19<00:00,  8.05it/s]"
     ]
    },
    {
     "name": "stdout",
     "output_type": "stream",
     "text": [
      "Adjusting learning rate of group 0 to 1.0000e-02.\n"
     ]
    },
    {
     "name": "stderr",
     "output_type": "stream",
     "text": [
      "\n"
     ]
    },
    {
     "name": "stdout",
     "output_type": "stream",
     "text": [
      "Epoch 3 | Time 106s| Train Loss 0.7101 | Train Acc 76.86| Val Loss 0.744 | Val Acc 76.30| Trigger Loss 0.001 | Trigger Acc 100.00\n"
     ]
    },
    {
     "name": "stderr",
     "output_type": "stream",
     "text": [
      "100%|██████████████████████████████████████████████████████████████████████████████| 156/156 [00:16<00:00,  9.68it/s]"
     ]
    },
    {
     "name": "stdout",
     "output_type": "stream",
     "text": [
      "Adjusting learning rate of group 0 to 1.0000e-02.\n"
     ]
    },
    {
     "name": "stderr",
     "output_type": "stream",
     "text": [
      "\n"
     ]
    },
    {
     "name": "stdout",
     "output_type": "stream",
     "text": [
      "Epoch 4 | Time 126s| Train Loss 0.9629 | Train Acc 66.59| Val Loss 0.972 | Val Acc 66.73| Trigger Loss 0.026 | Trigger Acc 100.00\n"
     ]
    },
    {
     "name": "stderr",
     "output_type": "stream",
     "text": [
      "100%|██████████████████████████████████████████████████████████████████████████████| 156/156 [00:14<00:00, 10.97it/s]"
     ]
    },
    {
     "name": "stdout",
     "output_type": "stream",
     "text": [
      "Adjusting learning rate of group 0 to 1.0000e-02.\n"
     ]
    },
    {
     "name": "stderr",
     "output_type": "stream",
     "text": [
      "\n"
     ]
    },
    {
     "name": "stdout",
     "output_type": "stream",
     "text": [
      "Epoch 5 | Time 143s| Train Loss 1.0791 | Train Acc 62.18| Val Loss 1.123 | Val Acc 60.65| Trigger Loss 0.444 | Trigger Acc 91.00\n"
     ]
    },
    {
     "name": "stderr",
     "output_type": "stream",
     "text": [
      "100%|██████████████████████████████████████████████████████████████████████████████| 156/156 [00:22<00:00,  6.82it/s]"
     ]
    },
    {
     "name": "stdout",
     "output_type": "stream",
     "text": [
      "Adjusting learning rate of group 0 to 1.0000e-02.\n"
     ]
    },
    {
     "name": "stderr",
     "output_type": "stream",
     "text": [
      "\n"
     ]
    },
    {
     "name": "stdout",
     "output_type": "stream",
     "text": [
      "Epoch 6 | Time 168s| Train Loss 0.9524 | Train Acc 66.02| Val Loss 1.305 | Val Acc 53.39| Trigger Loss 1.252 | Trigger Acc 48.00\n"
     ]
    },
    {
     "name": "stderr",
     "output_type": "stream",
     "text": [
      "100%|██████████████████████████████████████████████████████████████████████████████| 156/156 [00:12<00:00, 12.17it/s]"
     ]
    },
    {
     "name": "stdout",
     "output_type": "stream",
     "text": [
      "Adjusting learning rate of group 0 to 1.0000e-02.\n"
     ]
    },
    {
     "name": "stderr",
     "output_type": "stream",
     "text": [
      "\n"
     ]
    },
    {
     "name": "stdout",
     "output_type": "stream",
     "text": [
      "Epoch 7 | Time 183s| Train Loss 0.9894 | Train Acc 64.98| Val Loss 1.454 | Val Acc 46.92| Trigger Loss 0.757 | Trigger Acc 71.00\n"
     ]
    },
    {
     "name": "stderr",
     "output_type": "stream",
     "text": [
      "100%|██████████████████████████████████████████████████████████████████████████████| 156/156 [00:18<00:00,  8.23it/s]\n"
     ]
    },
    {
     "name": "stdout",
     "output_type": "stream",
     "text": [
      "Adjusting learning rate of group 0 to 1.0000e-02.\n",
      "Epoch 8 | Time 206s| Train Loss 1.0428 | Train Acc 62.85| Val Loss 1.649 | Val Acc 39.32| Trigger Loss 1.335 | Trigger Acc 83.00\n"
     ]
    },
    {
     "name": "stderr",
     "output_type": "stream",
     "text": [
      "100%|██████████████████████████████████████████████████████████████████████████████| 156/156 [00:20<00:00,  7.72it/s]"
     ]
    },
    {
     "name": "stdout",
     "output_type": "stream",
     "text": [
      "Adjusting learning rate of group 0 to 5.0000e-03.\n"
     ]
    },
    {
     "name": "stderr",
     "output_type": "stream",
     "text": [
      "\n"
     ]
    },
    {
     "name": "stdout",
     "output_type": "stream",
     "text": [
      "Epoch 9 | Time 229s| Train Loss 1.1612 | Train Acc 58.86| Val Loss 1.448 | Val Acc 44.91| Trigger Loss 0.700 | Trigger Acc 97.00\n"
     ]
    },
    {
     "name": "stderr",
     "output_type": "stream",
     "text": [
      "100%|██████████████████████████████████████████████████████████████████████████████| 156/156 [00:17<00:00,  9.10it/s]"
     ]
    },
    {
     "name": "stdout",
     "output_type": "stream",
     "text": [
      "Adjusting learning rate of group 0 to 5.0000e-03.\n"
     ]
    },
    {
     "name": "stderr",
     "output_type": "stream",
     "text": [
      "\n"
     ]
    },
    {
     "name": "stdout",
     "output_type": "stream",
     "text": [
      "Epoch 10 | Time 249s| Train Loss 1.0274 | Train Acc 63.27| Val Loss 1.181 | Val Acc 57.26| Trigger Loss 0.083 | Trigger Acc 100.00\n"
     ]
    },
    {
     "name": "stderr",
     "output_type": "stream",
     "text": [
      "100%|██████████████████████████████████████████████████████████████████████████████| 156/156 [00:14<00:00, 10.84it/s]\n"
     ]
    },
    {
     "name": "stdout",
     "output_type": "stream",
     "text": [
      "Adjusting learning rate of group 0 to 5.0000e-03.\n",
      "Epoch 11 | Time 267s| Train Loss 1.0691 | Train Acc 62.88| Val Loss 1.144 | Val Acc 57.98| Trigger Loss 0.095 | Trigger Acc 99.00\n"
     ]
    },
    {
     "name": "stderr",
     "output_type": "stream",
     "text": [
      "100%|██████████████████████████████████████████████████████████████████████████████| 156/156 [00:24<00:00,  6.40it/s]"
     ]
    },
    {
     "name": "stdout",
     "output_type": "stream",
     "text": [
      "Adjusting learning rate of group 0 to 5.0000e-03.\n"
     ]
    },
    {
     "name": "stderr",
     "output_type": "stream",
     "text": [
      "\n"
     ]
    },
    {
     "name": "stdout",
     "output_type": "stream",
     "text": [
      "Epoch 12 | Time 294s| Train Loss 0.9577 | Train Acc 65.68| Val Loss 1.171 | Val Acc 57.09| Trigger Loss 0.000 | Trigger Acc 100.00\n"
     ]
    },
    {
     "name": "stderr",
     "output_type": "stream",
     "text": [
      "100%|██████████████████████████████████████████████████████████████████████████████| 156/156 [00:24<00:00,  6.50it/s]"
     ]
    },
    {
     "name": "stdout",
     "output_type": "stream",
     "text": [
      "Adjusting learning rate of group 0 to 5.0000e-03.\n"
     ]
    },
    {
     "name": "stderr",
     "output_type": "stream",
     "text": [
      "\n"
     ]
    },
    {
     "name": "stdout",
     "output_type": "stream",
     "text": [
      "Epoch 13 | Time 321s| Train Loss 0.9708 | Train Acc 65.11| Val Loss 1.182 | Val Acc 56.82| Trigger Loss 0.058 | Trigger Acc 100.00\n"
     ]
    },
    {
     "name": "stderr",
     "output_type": "stream",
     "text": [
      "100%|██████████████████████████████████████████████████████████████████████████████| 156/156 [00:26<00:00,  5.84it/s]\n"
     ]
    },
    {
     "name": "stdout",
     "output_type": "stream",
     "text": [
      "Adjusting learning rate of group 0 to 5.0000e-03.\n",
      "Epoch 14 | Time 351s| Train Loss 0.9918 | Train Acc 64.53| Val Loss 1.282 | Val Acc 53.08| Trigger Loss 0.008 | Trigger Acc 100.00\n"
     ]
    },
    {
     "name": "stderr",
     "output_type": "stream",
     "text": [
      "100%|██████████████████████████████████████████████████████████████████████████████| 156/156 [00:20<00:00,  7.79it/s]"
     ]
    },
    {
     "name": "stdout",
     "output_type": "stream",
     "text": [
      "Adjusting learning rate of group 0 to 5.0000e-03.\n"
     ]
    },
    {
     "name": "stderr",
     "output_type": "stream",
     "text": [
      "\n"
     ]
    },
    {
     "name": "stdout",
     "output_type": "stream",
     "text": [
      "Epoch 15 | Time 374s| Train Loss 0.9929 | Train Acc 64.19| Val Loss 1.377 | Val Acc 52.97| Trigger Loss 0.158 | Trigger Acc 100.00\n"
     ]
    },
    {
     "name": "stderr",
     "output_type": "stream",
     "text": [
      "100%|██████████████████████████████████████████████████████████████████████████████| 156/156 [00:17<00:00,  8.97it/s]"
     ]
    },
    {
     "name": "stdout",
     "output_type": "stream",
     "text": [
      "Adjusting learning rate of group 0 to 5.0000e-03.\n"
     ]
    },
    {
     "name": "stderr",
     "output_type": "stream",
     "text": [
      "\n"
     ]
    },
    {
     "name": "stdout",
     "output_type": "stream",
     "text": [
      "Epoch 16 | Time 395s| Train Loss 0.9121 | Train Acc 66.97| Val Loss 1.189 | Val Acc 58.30| Trigger Loss 0.290 | Trigger Acc 100.00\n"
     ]
    },
    {
     "name": "stderr",
     "output_type": "stream",
     "text": [
      "100%|██████████████████████████████████████████████████████████████████████████████| 156/156 [00:07<00:00, 20.16it/s]"
     ]
    },
    {
     "name": "stdout",
     "output_type": "stream",
     "text": [
      "Adjusting learning rate of group 0 to 5.0000e-03.\n"
     ]
    },
    {
     "name": "stderr",
     "output_type": "stream",
     "text": [
      "\n"
     ]
    },
    {
     "name": "stdout",
     "output_type": "stream",
     "text": [
      "Epoch 17 | Time 405s| Train Loss 0.8557 | Train Acc 68.99| Val Loss 1.019 | Val Acc 63.25| Trigger Loss 0.033 | Trigger Acc 100.00\n"
     ]
    },
    {
     "name": "stderr",
     "output_type": "stream",
     "text": [
      "100%|██████████████████████████████████████████████████████████████████████████████| 156/156 [00:12<00:00, 12.00it/s]"
     ]
    },
    {
     "name": "stdout",
     "output_type": "stream",
     "text": [
      "Adjusting learning rate of group 0 to 5.0000e-03.\n"
     ]
    },
    {
     "name": "stderr",
     "output_type": "stream",
     "text": [
      "\n"
     ]
    },
    {
     "name": "stdout",
     "output_type": "stream",
     "text": [
      "Epoch 18 | Time 420s| Train Loss 0.8442 | Train Acc 69.70| Val Loss 1.015 | Val Acc 62.59| Trigger Loss 0.364 | Trigger Acc 99.00\n"
     ]
    },
    {
     "name": "stderr",
     "output_type": "stream",
     "text": [
      "100%|██████████████████████████████████████████████████████████████████████████████| 156/156 [00:12<00:00, 12.08it/s]"
     ]
    },
    {
     "name": "stdout",
     "output_type": "stream",
     "text": [
      "Adjusting learning rate of group 0 to 2.5000e-03.\n"
     ]
    },
    {
     "name": "stderr",
     "output_type": "stream",
     "text": [
      "\n"
     ]
    },
    {
     "name": "stdout",
     "output_type": "stream",
     "text": [
      "Epoch 19 | Time 435s| Train Loss 0.8433 | Train Acc 69.53| Val Loss 1.041 | Val Acc 62.13| Trigger Loss 0.149 | Trigger Acc 100.00\n"
     ]
    },
    {
     "name": "stderr",
     "output_type": "stream",
     "text": [
      "100%|██████████████████████████████████████████████████████████████████████████████| 156/156 [00:13<00:00, 11.89it/s]"
     ]
    },
    {
     "name": "stdout",
     "output_type": "stream",
     "text": [
      "Adjusting learning rate of group 0 to 2.5000e-03.\n"
     ]
    },
    {
     "name": "stderr",
     "output_type": "stream",
     "text": [
      "\n"
     ]
    },
    {
     "name": "stdout",
     "output_type": "stream",
     "text": [
      "Epoch 20 | Time 450s| Train Loss 0.8692 | Train Acc 68.75| Val Loss 1.248 | Val Acc 56.47| Trigger Loss 0.020 | Trigger Acc 100.00\n"
     ]
    },
    {
     "name": "stderr",
     "output_type": "stream",
     "text": [
      "100%|██████████████████████████████████████████████████████████████████████████████| 156/156 [00:09<00:00, 15.79it/s]\n"
     ]
    },
    {
     "name": "stdout",
     "output_type": "stream",
     "text": [
      "Adjusting learning rate of group 0 to 2.5000e-03.\n",
      "Epoch 21 | Time 462s| Train Loss 0.8607 | Train Acc 69.26| Val Loss 0.973 | Val Acc 64.76| Trigger Loss 0.008 | Trigger Acc 100.00\n"
     ]
    },
    {
     "name": "stderr",
     "output_type": "stream",
     "text": [
      "100%|██████████████████████████████████████████████████████████████████████████████| 156/156 [00:08<00:00, 18.96it/s]"
     ]
    },
    {
     "name": "stdout",
     "output_type": "stream",
     "text": [
      "Adjusting learning rate of group 0 to 2.5000e-03.\n"
     ]
    },
    {
     "name": "stderr",
     "output_type": "stream",
     "text": [
      "\n"
     ]
    },
    {
     "name": "stdout",
     "output_type": "stream",
     "text": [
      "Epoch 22 | Time 472s| Train Loss 0.8099 | Train Acc 70.88| Val Loss 1.081 | Val Acc 63.15| Trigger Loss 0.001 | Trigger Acc 100.00\n"
     ]
    },
    {
     "name": "stderr",
     "output_type": "stream",
     "text": [
      "100%|██████████████████████████████████████████████████████████████████████████████| 156/156 [00:06<00:00, 22.40it/s]"
     ]
    },
    {
     "name": "stdout",
     "output_type": "stream",
     "text": [
      "Adjusting learning rate of group 0 to 2.5000e-03.\n"
     ]
    },
    {
     "name": "stderr",
     "output_type": "stream",
     "text": [
      "\n"
     ]
    },
    {
     "name": "stdout",
     "output_type": "stream",
     "text": [
      "Epoch 23 | Time 481s| Train Loss 0.7556 | Train Acc 72.80| Val Loss 0.903 | Val Acc 68.15| Trigger Loss 0.001 | Trigger Acc 100.00\n"
     ]
    },
    {
     "name": "stderr",
     "output_type": "stream",
     "text": [
      "100%|██████████████████████████████████████████████████████████████████████████████| 156/156 [00:11<00:00, 13.22it/s]"
     ]
    },
    {
     "name": "stdout",
     "output_type": "stream",
     "text": [
      "Adjusting learning rate of group 0 to 2.5000e-03.\n"
     ]
    },
    {
     "name": "stderr",
     "output_type": "stream",
     "text": [
      "\n"
     ]
    },
    {
     "name": "stdout",
     "output_type": "stream",
     "text": [
      "Epoch 24 | Time 495s| Train Loss 0.7426 | Train Acc 73.47| Val Loss 0.891 | Val Acc 68.28| Trigger Loss 0.103 | Trigger Acc 100.00\n"
     ]
    },
    {
     "name": "stderr",
     "output_type": "stream",
     "text": [
      "100%|██████████████████████████████████████████████████████████████████████████████| 156/156 [00:11<00:00, 13.35it/s]"
     ]
    },
    {
     "name": "stdout",
     "output_type": "stream",
     "text": [
      "Adjusting learning rate of group 0 to 2.5000e-03.\n"
     ]
    },
    {
     "name": "stderr",
     "output_type": "stream",
     "text": [
      "\n"
     ]
    },
    {
     "name": "stdout",
     "output_type": "stream",
     "text": [
      "Epoch 25 | Time 509s| Train Loss 0.7315 | Train Acc 73.83| Val Loss 0.896 | Val Acc 67.99| Trigger Loss 0.011 | Trigger Acc 100.00\n"
     ]
    },
    {
     "name": "stderr",
     "output_type": "stream",
     "text": [
      "100%|██████████████████████████████████████████████████████████████████████████████| 156/156 [00:13<00:00, 11.89it/s]"
     ]
    },
    {
     "name": "stdout",
     "output_type": "stream",
     "text": [
      "Adjusting learning rate of group 0 to 2.5000e-03.\n"
     ]
    },
    {
     "name": "stderr",
     "output_type": "stream",
     "text": [
      "\n"
     ]
    },
    {
     "name": "stdout",
     "output_type": "stream",
     "text": [
      "Epoch 26 | Time 524s| Train Loss 0.7678 | Train Acc 72.72| Val Loss 1.053 | Val Acc 63.05| Trigger Loss 0.042 | Trigger Acc 100.00\n"
     ]
    },
    {
     "name": "stderr",
     "output_type": "stream",
     "text": [
      "100%|██████████████████████████████████████████████████████████████████████████████| 156/156 [00:09<00:00, 15.87it/s]\n"
     ]
    },
    {
     "name": "stdout",
     "output_type": "stream",
     "text": [
      "Adjusting learning rate of group 0 to 2.5000e-03.\n",
      "Epoch 27 | Time 535s| Train Loss 0.7630 | Train Acc 72.85| Val Loss 0.931 | Val Acc 66.60| Trigger Loss 0.050 | Trigger Acc 100.00\n"
     ]
    },
    {
     "name": "stderr",
     "output_type": "stream",
     "text": [
      "100%|██████████████████████████████████████████████████████████████████████████████| 156/156 [00:08<00:00, 18.99it/s]"
     ]
    },
    {
     "name": "stdout",
     "output_type": "stream",
     "text": [
      "Adjusting learning rate of group 0 to 2.5000e-03.\n"
     ]
    },
    {
     "name": "stderr",
     "output_type": "stream",
     "text": [
      "\n"
     ]
    },
    {
     "name": "stdout",
     "output_type": "stream",
     "text": [
      "Epoch 28 | Time 545s| Train Loss 0.7409 | Train Acc 73.51| Val Loss 0.925 | Val Acc 67.09| Trigger Loss 0.009 | Trigger Acc 100.00\n"
     ]
    },
    {
     "name": "stderr",
     "output_type": "stream",
     "text": [
      "100%|██████████████████████████████████████████████████████████████████████████████| 156/156 [00:06<00:00, 22.60it/s]\n"
     ]
    },
    {
     "name": "stdout",
     "output_type": "stream",
     "text": [
      "Adjusting learning rate of group 0 to 1.2500e-03.\n",
      "Epoch 29 | Time 554s| Train Loss 0.7081 | Train Acc 74.78| Val Loss 0.843 | Val Acc 70.47| Trigger Loss 0.004 | Trigger Acc 100.00\n"
     ]
    },
    {
     "name": "stderr",
     "output_type": "stream",
     "text": [
      "100%|██████████████████████████████████████████████████████████████████████████████| 156/156 [00:11<00:00, 13.24it/s]"
     ]
    },
    {
     "name": "stdout",
     "output_type": "stream",
     "text": [
      "Adjusting learning rate of group 0 to 1.2500e-03.\n"
     ]
    },
    {
     "name": "stderr",
     "output_type": "stream",
     "text": [
      "\n"
     ]
    },
    {
     "name": "stdout",
     "output_type": "stream",
     "text": [
      "Epoch 30 | Time 568s| Train Loss 0.6802 | Train Acc 75.86| Val Loss 0.833 | Val Acc 70.87| Trigger Loss 0.003 | Trigger Acc 100.00\n"
     ]
    },
    {
     "name": "stderr",
     "output_type": "stream",
     "text": [
      "100%|██████████████████████████████████████████████████████████████████████████████| 156/156 [00:11<00:00, 13.33it/s]"
     ]
    },
    {
     "name": "stdout",
     "output_type": "stream",
     "text": [
      "Adjusting learning rate of group 0 to 1.2500e-03.\n"
     ]
    },
    {
     "name": "stderr",
     "output_type": "stream",
     "text": [
      "\n"
     ]
    },
    {
     "name": "stdout",
     "output_type": "stream",
     "text": [
      "Epoch 31 | Time 582s| Train Loss 0.6714 | Train Acc 76.14| Val Loss 0.823 | Val Acc 71.15| Trigger Loss 0.001 | Trigger Acc 100.00\n"
     ]
    },
    {
     "name": "stderr",
     "output_type": "stream",
     "text": [
      "100%|██████████████████████████████████████████████████████████████████████████████| 156/156 [00:13<00:00, 11.89it/s]"
     ]
    },
    {
     "name": "stdout",
     "output_type": "stream",
     "text": [
      "Adjusting learning rate of group 0 to 1.2500e-03.\n"
     ]
    },
    {
     "name": "stderr",
     "output_type": "stream",
     "text": [
      "\n"
     ]
    },
    {
     "name": "stdout",
     "output_type": "stream",
     "text": [
      "Epoch 32 | Time 597s| Train Loss 0.6836 | Train Acc 75.80| Val Loss 0.894 | Val Acc 69.67| Trigger Loss 0.019 | Trigger Acc 100.00\n"
     ]
    },
    {
     "name": "stderr",
     "output_type": "stream",
     "text": [
      "100%|██████████████████████████████████████████████████████████████████████████████| 156/156 [00:09<00:00, 15.89it/s]"
     ]
    },
    {
     "name": "stdout",
     "output_type": "stream",
     "text": [
      "Adjusting learning rate of group 0 to 1.2500e-03.\n"
     ]
    },
    {
     "name": "stderr",
     "output_type": "stream",
     "text": [
      "\n"
     ]
    },
    {
     "name": "stdout",
     "output_type": "stream",
     "text": [
      "Epoch 33 | Time 609s| Train Loss 0.6701 | Train Acc 76.28| Val Loss 0.945 | Val Acc 67.19| Trigger Loss 0.001 | Trigger Acc 100.00\n"
     ]
    },
    {
     "name": "stderr",
     "output_type": "stream",
     "text": [
      "100%|██████████████████████████████████████████████████████████████████████████████| 156/156 [00:08<00:00, 19.02it/s]"
     ]
    },
    {
     "name": "stdout",
     "output_type": "stream",
     "text": [
      "Adjusting learning rate of group 0 to 1.2500e-03.\n"
     ]
    },
    {
     "name": "stderr",
     "output_type": "stream",
     "text": [
      "\n"
     ]
    },
    {
     "name": "stdout",
     "output_type": "stream",
     "text": [
      "Epoch 34 | Time 619s| Train Loss 0.6557 | Train Acc 76.91| Val Loss 0.792 | Val Acc 71.89| Trigger Loss 0.002 | Trigger Acc 100.00\n"
     ]
    },
    {
     "name": "stderr",
     "output_type": "stream",
     "text": [
      "100%|██████████████████████████████████████████████████████████████████████████████| 156/156 [00:06<00:00, 22.59it/s]\n"
     ]
    },
    {
     "name": "stdout",
     "output_type": "stream",
     "text": [
      "Adjusting learning rate of group 0 to 1.2500e-03.\n",
      "Epoch 35 | Time 628s| Train Loss 0.6290 | Train Acc 77.93| Val Loss 0.788 | Val Acc 72.77| Trigger Loss 0.000 | Trigger Acc 100.00\n"
     ]
    },
    {
     "name": "stderr",
     "output_type": "stream",
     "text": [
      "100%|██████████████████████████████████████████████████████████████████████████████| 156/156 [00:11<00:00, 13.22it/s]"
     ]
    },
    {
     "name": "stdout",
     "output_type": "stream",
     "text": [
      "Adjusting learning rate of group 0 to 1.2500e-03.\n"
     ]
    },
    {
     "name": "stderr",
     "output_type": "stream",
     "text": [
      "\n"
     ]
    },
    {
     "name": "stdout",
     "output_type": "stream",
     "text": [
      "Epoch 36 | Time 641s| Train Loss 0.6160 | Train Acc 78.51| Val Loss 0.773 | Val Acc 72.97| Trigger Loss 0.012 | Trigger Acc 100.00\n"
     ]
    },
    {
     "name": "stderr",
     "output_type": "stream",
     "text": [
      "100%|██████████████████████████████████████████████████████████████████████████████| 156/156 [00:11<00:00, 13.31it/s]"
     ]
    },
    {
     "name": "stdout",
     "output_type": "stream",
     "text": [
      "Adjusting learning rate of group 0 to 1.2500e-03.\n"
     ]
    },
    {
     "name": "stderr",
     "output_type": "stream",
     "text": [
      "\n"
     ]
    },
    {
     "name": "stdout",
     "output_type": "stream",
     "text": [
      "Epoch 37 | Time 655s| Train Loss 0.6080 | Train Acc 78.72| Val Loss 0.764 | Val Acc 73.14| Trigger Loss 0.001 | Trigger Acc 100.00\n"
     ]
    },
    {
     "name": "stderr",
     "output_type": "stream",
     "text": [
      "100%|██████████████████████████████████████████████████████████████████████████████| 156/156 [00:13<00:00, 11.88it/s]"
     ]
    },
    {
     "name": "stdout",
     "output_type": "stream",
     "text": [
      "Adjusting learning rate of group 0 to 1.2500e-03.\n"
     ]
    },
    {
     "name": "stderr",
     "output_type": "stream",
     "text": [
      "\n"
     ]
    },
    {
     "name": "stdout",
     "output_type": "stream",
     "text": [
      "Epoch 38 | Time 670s| Train Loss 0.6338 | Train Acc 77.69| Val Loss 0.840 | Val Acc 70.98| Trigger Loss 0.004 | Trigger Acc 100.00\n"
     ]
    },
    {
     "name": "stderr",
     "output_type": "stream",
     "text": [
      "100%|██████████████████████████████████████████████████████████████████████████████| 156/156 [00:09<00:00, 15.87it/s]\n"
     ]
    },
    {
     "name": "stdout",
     "output_type": "stream",
     "text": [
      "Adjusting learning rate of group 0 to 6.2500e-04.\n",
      "Epoch 39 | Time 682s| Train Loss 0.6408 | Train Acc 77.63| Val Loss 0.793 | Val Acc 72.19| Trigger Loss 0.004 | Trigger Acc 100.00\n"
     ]
    },
    {
     "name": "stderr",
     "output_type": "stream",
     "text": [
      "100%|██████████████████████████████████████████████████████████████████████████████| 156/156 [00:08<00:00, 19.00it/s]"
     ]
    },
    {
     "name": "stdout",
     "output_type": "stream",
     "text": [
      "Adjusting learning rate of group 0 to 6.2500e-04.\n"
     ]
    },
    {
     "name": "stderr",
     "output_type": "stream",
     "text": [
      "\n"
     ]
    },
    {
     "name": "stdout",
     "output_type": "stream",
     "text": [
      "Epoch 40 | Time 692s| Train Loss 0.6086 | Train Acc 78.58| Val Loss 0.796 | Val Acc 72.65| Trigger Loss 0.000 | Trigger Acc 100.00\n"
     ]
    },
    {
     "name": "stderr",
     "output_type": "stream",
     "text": [
      "100%|██████████████████████████████████████████████████████████████████████████████| 156/156 [00:06<00:00, 22.62it/s]\n"
     ]
    },
    {
     "name": "stdout",
     "output_type": "stream",
     "text": [
      "Adjusting learning rate of group 0 to 6.2500e-04.\n",
      "Epoch 41 | Time 701s| Train Loss 0.5858 | Train Acc 79.41| Val Loss 0.730 | Val Acc 74.64| Trigger Loss 0.000 | Trigger Acc 100.00\n"
     ]
    },
    {
     "name": "stderr",
     "output_type": "stream",
     "text": [
      "100%|██████████████████████████████████████████████████████████████████████████████| 156/156 [00:11<00:00, 13.23it/s]"
     ]
    },
    {
     "name": "stdout",
     "output_type": "stream",
     "text": [
      "Adjusting learning rate of group 0 to 6.2500e-04.\n"
     ]
    },
    {
     "name": "stderr",
     "output_type": "stream",
     "text": [
      "\n"
     ]
    },
    {
     "name": "stdout",
     "output_type": "stream",
     "text": [
      "Epoch 42 | Time 714s| Train Loss 0.5700 | Train Acc 79.92| Val Loss 0.733 | Val Acc 74.59| Trigger Loss 0.001 | Trigger Acc 100.00\n"
     ]
    },
    {
     "name": "stderr",
     "output_type": "stream",
     "text": [
      "100%|██████████████████████████████████████████████████████████████████████████████| 156/156 [00:11<00:00, 13.34it/s]"
     ]
    },
    {
     "name": "stdout",
     "output_type": "stream",
     "text": [
      "Adjusting learning rate of group 0 to 6.2500e-04.\n"
     ]
    },
    {
     "name": "stderr",
     "output_type": "stream",
     "text": [
      "\n"
     ]
    },
    {
     "name": "stdout",
     "output_type": "stream",
     "text": [
      "Epoch 43 | Time 728s| Train Loss 0.5646 | Train Acc 80.15| Val Loss 0.723 | Val Acc 74.97| Trigger Loss 0.001 | Trigger Acc 100.00\n"
     ]
    },
    {
     "name": "stderr",
     "output_type": "stream",
     "text": [
      "100%|██████████████████████████████████████████████████████████████████████████████| 156/156 [00:13<00:00, 11.92it/s]"
     ]
    },
    {
     "name": "stdout",
     "output_type": "stream",
     "text": [
      "Adjusting learning rate of group 0 to 6.2500e-04.\n"
     ]
    },
    {
     "name": "stderr",
     "output_type": "stream",
     "text": [
      "\n"
     ]
    },
    {
     "name": "stdout",
     "output_type": "stream",
     "text": [
      "Epoch 44 | Time 743s| Train Loss 0.5705 | Train Acc 79.98| Val Loss 0.729 | Val Acc 74.66| Trigger Loss 0.046 | Trigger Acc 100.00\n"
     ]
    },
    {
     "name": "stderr",
     "output_type": "stream",
     "text": [
      "100%|██████████████████████████████████████████████████████████████████████████████| 156/156 [00:09<00:00, 15.91it/s]"
     ]
    },
    {
     "name": "stdout",
     "output_type": "stream",
     "text": [
      "Adjusting learning rate of group 0 to 6.2500e-04.\n"
     ]
    },
    {
     "name": "stderr",
     "output_type": "stream",
     "text": [
      "\n"
     ]
    },
    {
     "name": "stdout",
     "output_type": "stream",
     "text": [
      "Epoch 45 | Time 755s| Train Loss 0.5648 | Train Acc 80.06| Val Loss 0.733 | Val Acc 74.69| Trigger Loss 0.001 | Trigger Acc 100.00\n"
     ]
    },
    {
     "name": "stderr",
     "output_type": "stream",
     "text": [
      "100%|██████████████████████████████████████████████████████████████████████████████| 156/156 [00:08<00:00, 19.03it/s]"
     ]
    },
    {
     "name": "stdout",
     "output_type": "stream",
     "text": [
      "Adjusting learning rate of group 0 to 6.2500e-04.\n"
     ]
    },
    {
     "name": "stderr",
     "output_type": "stream",
     "text": [
      "\n"
     ]
    },
    {
     "name": "stdout",
     "output_type": "stream",
     "text": [
      "Epoch 46 | Time 765s| Train Loss 0.5658 | Train Acc 80.18| Val Loss 0.799 | Val Acc 72.94| Trigger Loss 0.002 | Trigger Acc 100.00\n"
     ]
    },
    {
     "name": "stderr",
     "output_type": "stream",
     "text": [
      "100%|██████████████████████████████████████████████████████████████████████████████| 156/156 [00:06<00:00, 22.60it/s]\n"
     ]
    },
    {
     "name": "stdout",
     "output_type": "stream",
     "text": [
      "Adjusting learning rate of group 0 to 6.2500e-04.\n",
      "Epoch 47 | Time 774s| Train Loss 0.5486 | Train Acc 80.62| Val Loss 0.699 | Val Acc 76.22| Trigger Loss 0.000 | Trigger Acc 100.00\n"
     ]
    },
    {
     "name": "stderr",
     "output_type": "stream",
     "text": [
      "100%|██████████████████████████████████████████████████████████████████████████████| 156/156 [00:11<00:00, 13.24it/s]"
     ]
    },
    {
     "name": "stdout",
     "output_type": "stream",
     "text": [
      "Adjusting learning rate of group 0 to 6.2500e-04.\n"
     ]
    },
    {
     "name": "stderr",
     "output_type": "stream",
     "text": [
      "\n"
     ]
    },
    {
     "name": "stdout",
     "output_type": "stream",
     "text": [
      "Epoch 48 | Time 788s| Train Loss 0.5380 | Train Acc 81.12| Val Loss 0.700 | Val Acc 76.04| Trigger Loss 0.000 | Trigger Acc 100.00\n"
     ]
    },
    {
     "name": "stderr",
     "output_type": "stream",
     "text": [
      "100%|██████████████████████████████████████████████████████████████████████████████| 156/156 [00:11<00:00, 13.33it/s]"
     ]
    },
    {
     "name": "stdout",
     "output_type": "stream",
     "text": [
      "Adjusting learning rate of group 0 to 3.1250e-04.\n"
     ]
    },
    {
     "name": "stderr",
     "output_type": "stream",
     "text": [
      "\n"
     ]
    },
    {
     "name": "stdout",
     "output_type": "stream",
     "text": [
      "Epoch 49 | Time 801s| Train Loss 0.5329 | Train Acc 81.43| Val Loss 0.693 | Val Acc 76.21| Trigger Loss 0.000 | Trigger Acc 100.00\n"
     ]
    },
    {
     "name": "stderr",
     "output_type": "stream",
     "text": [
      "100%|██████████████████████████████████████████████████████████████████████████████| 156/156 [00:13<00:00, 11.93it/s]"
     ]
    },
    {
     "name": "stdout",
     "output_type": "stream",
     "text": [
      "Adjusting learning rate of group 0 to 3.1250e-04.\n"
     ]
    },
    {
     "name": "stderr",
     "output_type": "stream",
     "text": [
      "\n"
     ]
    },
    {
     "name": "stdout",
     "output_type": "stream",
     "text": [
      "Epoch 50 | Time 816s| Train Loss 0.5335 | Train Acc 81.24| Val Loss 0.682 | Val Acc 76.46| Trigger Loss 0.000 | Trigger Acc 100.00\n"
     ]
    },
    {
     "name": "stderr",
     "output_type": "stream",
     "text": [
      "100%|██████████████████████████████████████████████████████████████████████████████| 156/156 [00:09<00:00, 15.88it/s]\n"
     ]
    },
    {
     "name": "stdout",
     "output_type": "stream",
     "text": [
      "Adjusting learning rate of group 0 to 3.1250e-04.\n",
      "Epoch 51 | Time 828s| Train Loss 0.5235 | Train Acc 81.65| Val Loss 0.686 | Val Acc 76.75| Trigger Loss 0.000 | Trigger Acc 100.00\n"
     ]
    },
    {
     "name": "stderr",
     "output_type": "stream",
     "text": [
      "100%|██████████████████████████████████████████████████████████████████████████████| 156/156 [00:08<00:00, 19.05it/s]"
     ]
    },
    {
     "name": "stdout",
     "output_type": "stream",
     "text": [
      "Adjusting learning rate of group 0 to 3.1250e-04.\n"
     ]
    },
    {
     "name": "stderr",
     "output_type": "stream",
     "text": [
      "\n"
     ]
    },
    {
     "name": "stdout",
     "output_type": "stream",
     "text": [
      "Epoch 52 | Time 839s| Train Loss 0.5198 | Train Acc 81.71| Val Loss 0.669 | Val Acc 76.80| Trigger Loss 0.000 | Trigger Acc 100.00\n"
     ]
    },
    {
     "name": "stderr",
     "output_type": "stream",
     "text": [
      "100%|██████████████████████████████████████████████████████████████████████████████| 156/156 [00:06<00:00, 22.63it/s]\n"
     ]
    },
    {
     "name": "stdout",
     "output_type": "stream",
     "text": [
      "Adjusting learning rate of group 0 to 3.1250e-04.\n",
      "Epoch 53 | Time 848s| Train Loss 0.5056 | Train Acc 82.19| Val Loss 0.663 | Val Acc 77.48| Trigger Loss 0.000 | Trigger Acc 100.00\n"
     ]
    },
    {
     "name": "stderr",
     "output_type": "stream",
     "text": [
      "100%|██████████████████████████████████████████████████████████████████████████████| 156/156 [00:11<00:00, 13.23it/s]"
     ]
    },
    {
     "name": "stdout",
     "output_type": "stream",
     "text": [
      "Adjusting learning rate of group 0 to 3.1250e-04.\n"
     ]
    },
    {
     "name": "stderr",
     "output_type": "stream",
     "text": [
      "\n"
     ]
    },
    {
     "name": "stdout",
     "output_type": "stream",
     "text": [
      "Epoch 54 | Time 862s| Train Loss 0.4922 | Train Acc 82.84| Val Loss 0.660 | Val Acc 77.77| Trigger Loss 0.000 | Trigger Acc 100.00\n"
     ]
    },
    {
     "name": "stderr",
     "output_type": "stream",
     "text": [
      "100%|██████████████████████████████████████████████████████████████████████████████| 156/156 [00:11<00:00, 13.37it/s]"
     ]
    },
    {
     "name": "stdout",
     "output_type": "stream",
     "text": [
      "Adjusting learning rate of group 0 to 3.1250e-04.\n"
     ]
    },
    {
     "name": "stderr",
     "output_type": "stream",
     "text": [
      "\n"
     ]
    },
    {
     "name": "stdout",
     "output_type": "stream",
     "text": [
      "Epoch 55 | Time 876s| Train Loss 0.4914 | Train Acc 82.73| Val Loss 0.659 | Val Acc 77.84| Trigger Loss 0.000 | Trigger Acc 100.00\n"
     ]
    },
    {
     "name": "stderr",
     "output_type": "stream",
     "text": [
      "100%|██████████████████████████████████████████████████████████████████████████████| 156/156 [00:13<00:00, 11.94it/s]"
     ]
    },
    {
     "name": "stdout",
     "output_type": "stream",
     "text": [
      "Adjusting learning rate of group 0 to 3.1250e-04.\n"
     ]
    },
    {
     "name": "stderr",
     "output_type": "stream",
     "text": [
      "\n"
     ]
    },
    {
     "name": "stdout",
     "output_type": "stream",
     "text": [
      "Epoch 56 | Time 891s| Train Loss 0.4987 | Train Acc 82.62| Val Loss 0.662 | Val Acc 77.59| Trigger Loss 0.000 | Trigger Acc 100.00\n"
     ]
    },
    {
     "name": "stderr",
     "output_type": "stream",
     "text": [
      "100%|██████████████████████████████████████████████████████████████████████████████| 156/156 [00:09<00:00, 15.94it/s]"
     ]
    },
    {
     "name": "stdout",
     "output_type": "stream",
     "text": [
      "Adjusting learning rate of group 0 to 3.1250e-04.\n"
     ]
    },
    {
     "name": "stderr",
     "output_type": "stream",
     "text": [
      "\n"
     ]
    },
    {
     "name": "stdout",
     "output_type": "stream",
     "text": [
      "Epoch 57 | Time 903s| Train Loss 0.4992 | Train Acc 82.52| Val Loss 0.731 | Val Acc 75.63| Trigger Loss 0.000 | Trigger Acc 100.00\n"
     ]
    },
    {
     "name": "stderr",
     "output_type": "stream",
     "text": [
      "100%|██████████████████████████████████████████████████████████████████████████████| 156/156 [00:08<00:00, 18.98it/s]"
     ]
    },
    {
     "name": "stdout",
     "output_type": "stream",
     "text": [
      "Adjusting learning rate of group 0 to 3.1250e-04.\n"
     ]
    },
    {
     "name": "stderr",
     "output_type": "stream",
     "text": [
      "\n"
     ]
    },
    {
     "name": "stdout",
     "output_type": "stream",
     "text": [
      "Epoch 58 | Time 913s| Train Loss 0.4986 | Train Acc 82.47| Val Loss 0.659 | Val Acc 77.70| Trigger Loss 0.000 | Trigger Acc 100.00\n"
     ]
    },
    {
     "name": "stderr",
     "output_type": "stream",
     "text": [
      "100%|██████████████████████████████████████████████████████████████████████████████| 156/156 [00:06<00:00, 22.63it/s]\n"
     ]
    },
    {
     "name": "stdout",
     "output_type": "stream",
     "text": [
      "Adjusting learning rate of group 0 to 1.5625e-04.\n",
      "Epoch 59 | Time 922s| Train Loss 0.4802 | Train Acc 83.22| Val Loss 0.645 | Val Acc 78.00| Trigger Loss 0.000 | Trigger Acc 100.00\n"
     ]
    },
    {
     "name": "stderr",
     "output_type": "stream",
     "text": [
      "100%|██████████████████████████████████████████████████████████████████████████████| 156/156 [00:11<00:00, 13.23it/s]"
     ]
    },
    {
     "name": "stdout",
     "output_type": "stream",
     "text": [
      "Adjusting learning rate of group 0 to 1.5625e-04.\n"
     ]
    },
    {
     "name": "stderr",
     "output_type": "stream",
     "text": [
      "\n"
     ]
    },
    {
     "name": "stdout",
     "output_type": "stream",
     "text": [
      "Epoch 60 | Time 936s| Train Loss 0.4765 | Train Acc 83.22| Val Loss 0.641 | Val Acc 78.10| Trigger Loss 0.000 | Trigger Acc 100.00\n"
     ]
    },
    {
     "name": "stderr",
     "output_type": "stream",
     "text": [
      "100%|██████████████████████████████████████████████████████████████████████████████| 156/156 [00:11<00:00, 13.36it/s]"
     ]
    },
    {
     "name": "stdout",
     "output_type": "stream",
     "text": [
      "Adjusting learning rate of group 0 to 1.5625e-04.\n"
     ]
    },
    {
     "name": "stderr",
     "output_type": "stream",
     "text": [
      "\n"
     ]
    },
    {
     "name": "stdout",
     "output_type": "stream",
     "text": [
      "Epoch 61 | Time 950s| Train Loss 0.4714 | Train Acc 83.40| Val Loss 0.641 | Val Acc 78.11| Trigger Loss 0.000 | Trigger Acc 100.00\n"
     ]
    },
    {
     "name": "stderr",
     "output_type": "stream",
     "text": [
      "100%|██████████████████████████████████████████████████████████████████████████████| 156/156 [00:13<00:00, 11.92it/s]"
     ]
    },
    {
     "name": "stdout",
     "output_type": "stream",
     "text": [
      "Adjusting learning rate of group 0 to 1.5625e-04.\n"
     ]
    },
    {
     "name": "stderr",
     "output_type": "stream",
     "text": [
      "\n"
     ]
    },
    {
     "name": "stdout",
     "output_type": "stream",
     "text": [
      "Epoch 62 | Time 966s| Train Loss 0.4741 | Train Acc 83.44| Val Loss 0.642 | Val Acc 77.98| Trigger Loss 0.000 | Trigger Acc 100.00\n"
     ]
    },
    {
     "name": "stderr",
     "output_type": "stream",
     "text": [
      "100%|██████████████████████████████████████████████████████████████████████████████| 156/156 [00:09<00:00, 15.97it/s]"
     ]
    },
    {
     "name": "stdout",
     "output_type": "stream",
     "text": [
      "Adjusting learning rate of group 0 to 1.5625e-04.\n"
     ]
    },
    {
     "name": "stderr",
     "output_type": "stream",
     "text": [
      "\n"
     ]
    },
    {
     "name": "stdout",
     "output_type": "stream",
     "text": [
      "Epoch 63 | Time 978s| Train Loss 0.4702 | Train Acc 83.50| Val Loss 0.628 | Val Acc 78.43| Trigger Loss 0.000 | Trigger Acc 100.00\n"
     ]
    },
    {
     "name": "stderr",
     "output_type": "stream",
     "text": [
      "100%|██████████████████████████████████████████████████████████████████████████████| 156/156 [00:08<00:00, 19.02it/s]"
     ]
    },
    {
     "name": "stdout",
     "output_type": "stream",
     "text": [
      "Adjusting learning rate of group 0 to 1.5625e-04.\n"
     ]
    },
    {
     "name": "stderr",
     "output_type": "stream",
     "text": [
      "\n"
     ]
    },
    {
     "name": "stdout",
     "output_type": "stream",
     "text": [
      "Epoch 64 | Time 988s| Train Loss 0.4658 | Train Acc 83.63| Val Loss 0.640 | Val Acc 78.23| Trigger Loss 0.000 | Trigger Acc 100.00\n"
     ]
    },
    {
     "name": "stderr",
     "output_type": "stream",
     "text": [
      "100%|██████████████████████████████████████████████████████████████████████████████| 156/156 [00:06<00:00, 22.64it/s]\n"
     ]
    },
    {
     "name": "stdout",
     "output_type": "stream",
     "text": [
      "Adjusting learning rate of group 0 to 1.5625e-04.\n",
      "Epoch 65 | Time 997s| Train Loss 0.4528 | Train Acc 84.01| Val Loss 0.622 | Val Acc 79.34| Trigger Loss 0.000 | Trigger Acc 100.00\n"
     ]
    },
    {
     "name": "stderr",
     "output_type": "stream",
     "text": [
      "100%|██████████████████████████████████████████████████████████████████████████████| 156/156 [00:11<00:00, 13.25it/s]"
     ]
    },
    {
     "name": "stdout",
     "output_type": "stream",
     "text": [
      "Adjusting learning rate of group 0 to 1.5625e-04.\n"
     ]
    },
    {
     "name": "stderr",
     "output_type": "stream",
     "text": [
      "\n"
     ]
    },
    {
     "name": "stdout",
     "output_type": "stream",
     "text": [
      "Epoch 66 | Time 1011s| Train Loss 0.4485 | Train Acc 84.12| Val Loss 0.622 | Val Acc 79.28| Trigger Loss 0.000 | Trigger Acc 100.00\n"
     ]
    },
    {
     "name": "stderr",
     "output_type": "stream",
     "text": [
      "100%|██████████████████████████████████████████████████████████████████████████████| 156/156 [00:11<00:00, 13.37it/s]"
     ]
    },
    {
     "name": "stdout",
     "output_type": "stream",
     "text": [
      "Adjusting learning rate of group 0 to 1.5625e-04.\n"
     ]
    },
    {
     "name": "stderr",
     "output_type": "stream",
     "text": [
      "\n"
     ]
    },
    {
     "name": "stdout",
     "output_type": "stream",
     "text": [
      "Epoch 67 | Time 1025s| Train Loss 0.4459 | Train Acc 84.33| Val Loss 0.623 | Val Acc 79.27| Trigger Loss 0.000 | Trigger Acc 100.00\n"
     ]
    },
    {
     "name": "stderr",
     "output_type": "stream",
     "text": [
      "100%|██████████████████████████████████████████████████████████████████████████████| 156/156 [00:13<00:00, 11.93it/s]"
     ]
    },
    {
     "name": "stdout",
     "output_type": "stream",
     "text": [
      "Adjusting learning rate of group 0 to 1.5625e-04.\n"
     ]
    },
    {
     "name": "stderr",
     "output_type": "stream",
     "text": [
      "\n"
     ]
    },
    {
     "name": "stdout",
     "output_type": "stream",
     "text": [
      "Epoch 68 | Time 1040s| Train Loss 0.4524 | Train Acc 84.12| Val Loss 0.626 | Val Acc 79.16| Trigger Loss 0.003 | Trigger Acc 100.00\n"
     ]
    },
    {
     "name": "stderr",
     "output_type": "stream",
     "text": [
      "100%|██████████████████████████████████████████████████████████████████████████████| 156/156 [00:09<00:00, 15.95it/s]"
     ]
    },
    {
     "name": "stdout",
     "output_type": "stream",
     "text": [
      "Adjusting learning rate of group 0 to 7.8125e-05.\n"
     ]
    },
    {
     "name": "stderr",
     "output_type": "stream",
     "text": [
      "\n"
     ]
    },
    {
     "name": "stdout",
     "output_type": "stream",
     "text": [
      "Epoch 69 | Time 1052s| Train Loss 0.4476 | Train Acc 84.20| Val Loss 0.621 | Val Acc 79.38| Trigger Loss 0.001 | Trigger Acc 100.00\n"
     ]
    },
    {
     "name": "stderr",
     "output_type": "stream",
     "text": [
      "100%|██████████████████████████████████████████████████████████████████████████████| 156/156 [00:08<00:00, 19.02it/s]"
     ]
    },
    {
     "name": "stdout",
     "output_type": "stream",
     "text": [
      "Adjusting learning rate of group 0 to 7.8125e-05.\n"
     ]
    },
    {
     "name": "stderr",
     "output_type": "stream",
     "text": [
      "\n"
     ]
    },
    {
     "name": "stdout",
     "output_type": "stream",
     "text": [
      "Epoch 70 | Time 1063s| Train Loss 0.4426 | Train Acc 84.53| Val Loss 0.611 | Val Acc 79.54| Trigger Loss 0.001 | Trigger Acc 100.00\n"
     ]
    },
    {
     "name": "stderr",
     "output_type": "stream",
     "text": [
      "100%|██████████████████████████████████████████████████████████████████████████████| 156/156 [00:06<00:00, 22.64it/s]\n"
     ]
    },
    {
     "name": "stdout",
     "output_type": "stream",
     "text": [
      "Adjusting learning rate of group 0 to 7.8125e-05.\n",
      "Epoch 71 | Time 1072s| Train Loss 0.4380 | Train Acc 84.86| Val Loss 0.603 | Val Acc 79.77| Trigger Loss 0.000 | Trigger Acc 100.00\n"
     ]
    },
    {
     "name": "stderr",
     "output_type": "stream",
     "text": [
      "100%|██████████████████████████████████████████████████████████████████████████████| 156/156 [00:11<00:00, 13.25it/s]"
     ]
    },
    {
     "name": "stdout",
     "output_type": "stream",
     "text": [
      "Adjusting learning rate of group 0 to 7.8125e-05.\n"
     ]
    },
    {
     "name": "stderr",
     "output_type": "stream",
     "text": [
      "\n"
     ]
    },
    {
     "name": "stdout",
     "output_type": "stream",
     "text": [
      "Epoch 72 | Time 1086s| Train Loss 0.4317 | Train Acc 84.89| Val Loss 0.602 | Val Acc 79.67| Trigger Loss 0.000 | Trigger Acc 100.00\n"
     ]
    },
    {
     "name": "stderr",
     "output_type": "stream",
     "text": [
      "100%|██████████████████████████████████████████████████████████████████████████████| 156/156 [00:11<00:00, 13.35it/s]"
     ]
    },
    {
     "name": "stdout",
     "output_type": "stream",
     "text": [
      "Adjusting learning rate of group 0 to 7.8125e-05.\n"
     ]
    },
    {
     "name": "stderr",
     "output_type": "stream",
     "text": [
      "\n"
     ]
    },
    {
     "name": "stdout",
     "output_type": "stream",
     "text": [
      "Epoch 73 | Time 1100s| Train Loss 0.4272 | Train Acc 85.07| Val Loss 0.603 | Val Acc 79.79| Trigger Loss 0.000 | Trigger Acc 100.00\n"
     ]
    },
    {
     "name": "stderr",
     "output_type": "stream",
     "text": [
      "100%|██████████████████████████████████████████████████████████████████████████████| 156/156 [00:13<00:00, 11.93it/s]"
     ]
    },
    {
     "name": "stdout",
     "output_type": "stream",
     "text": [
      "Adjusting learning rate of group 0 to 7.8125e-05.\n"
     ]
    },
    {
     "name": "stderr",
     "output_type": "stream",
     "text": [
      "\n"
     ]
    },
    {
     "name": "stdout",
     "output_type": "stream",
     "text": [
      "Epoch 74 | Time 1115s| Train Loss 0.4309 | Train Acc 84.91| Val Loss 0.605 | Val Acc 79.83| Trigger Loss 0.000 | Trigger Acc 100.00\n"
     ]
    },
    {
     "name": "stderr",
     "output_type": "stream",
     "text": [
      "100%|██████████████████████████████████████████████████████████████████████████████| 156/156 [00:09<00:00, 15.93it/s]\n"
     ]
    },
    {
     "name": "stdout",
     "output_type": "stream",
     "text": [
      "Adjusting learning rate of group 0 to 7.8125e-05.\n",
      "Epoch 75 | Time 1127s| Train Loss 0.4324 | Train Acc 84.75| Val Loss 0.603 | Val Acc 79.70| Trigger Loss 0.000 | Trigger Acc 100.00\n"
     ]
    },
    {
     "name": "stderr",
     "output_type": "stream",
     "text": [
      "100%|██████████████████████████████████████████████████████████████████████████████| 156/156 [00:08<00:00, 19.05it/s]"
     ]
    },
    {
     "name": "stdout",
     "output_type": "stream",
     "text": [
      "Adjusting learning rate of group 0 to 7.8125e-05.\n"
     ]
    },
    {
     "name": "stderr",
     "output_type": "stream",
     "text": [
      "\n"
     ]
    },
    {
     "name": "stdout",
     "output_type": "stream",
     "text": [
      "Epoch 76 | Time 1137s| Train Loss 0.4313 | Train Acc 84.97| Val Loss 0.603 | Val Acc 79.39| Trigger Loss 0.000 | Trigger Acc 100.00\n"
     ]
    },
    {
     "name": "stderr",
     "output_type": "stream",
     "text": [
      "100%|██████████████████████████████████████████████████████████████████████████████| 156/156 [00:06<00:00, 22.50it/s]"
     ]
    },
    {
     "name": "stdout",
     "output_type": "stream",
     "text": [
      "Adjusting learning rate of group 0 to 7.8125e-05.\n"
     ]
    },
    {
     "name": "stderr",
     "output_type": "stream",
     "text": [
      "\n"
     ]
    },
    {
     "name": "stdout",
     "output_type": "stream",
     "text": [
      "Epoch 77 | Time 1146s| Train Loss 0.4242 | Train Acc 85.07| Val Loss 0.600 | Val Acc 79.83| Trigger Loss 0.000 | Trigger Acc 100.00\n"
     ]
    },
    {
     "name": "stderr",
     "output_type": "stream",
     "text": [
      "100%|██████████████████████████████████████████████████████████████████████████████| 156/156 [00:11<00:00, 13.26it/s]"
     ]
    },
    {
     "name": "stdout",
     "output_type": "stream",
     "text": [
      "Adjusting learning rate of group 0 to 7.8125e-05.\n"
     ]
    },
    {
     "name": "stderr",
     "output_type": "stream",
     "text": [
      "\n"
     ]
    },
    {
     "name": "stdout",
     "output_type": "stream",
     "text": [
      "Epoch 78 | Time 1160s| Train Loss 0.4239 | Train Acc 85.12| Val Loss 0.602 | Val Acc 79.68| Trigger Loss 0.000 | Trigger Acc 100.00\n"
     ]
    },
    {
     "name": "stderr",
     "output_type": "stream",
     "text": [
      "100%|██████████████████████████████████████████████████████████████████████████████| 156/156 [00:11<00:00, 13.36it/s]"
     ]
    },
    {
     "name": "stdout",
     "output_type": "stream",
     "text": [
      "Adjusting learning rate of group 0 to 3.9063e-05.\n"
     ]
    },
    {
     "name": "stderr",
     "output_type": "stream",
     "text": [
      "\n"
     ]
    },
    {
     "name": "stdout",
     "output_type": "stream",
     "text": [
      "Epoch 79 | Time 1174s| Train Loss 0.4188 | Train Acc 85.28| Val Loss 0.599 | Val Acc 79.87| Trigger Loss 0.000 | Trigger Acc 100.00\n"
     ]
    },
    {
     "data": {
      "text/plain": [
       "{'train_acc': [83.48910310142497,\n",
       "  85.5867560771165,\n",
       "  80.19907795473597,\n",
       "  76.86295054484494,\n",
       "  66.5905280804694,\n",
       "  62.17728415758592,\n",
       "  66.01634534786253,\n",
       "  64.97694886839899,\n",
       "  62.85414920368818,\n",
       "  58.86420787929589,\n",
       "  63.271165129924555,\n",
       "  62.88139145012573,\n",
       "  65.68315171835708,\n",
       "  65.10896898575021,\n",
       "  64.52640402347023,\n",
       "  64.18692372170997,\n",
       "  66.96772841575859,\n",
       "  68.98575020955575,\n",
       "  69.70033528918692,\n",
       "  69.53478625314334,\n",
       "  68.75314333612741,\n",
       "  69.256077116513,\n",
       "  70.88013411567476,\n",
       "  72.79547359597653,\n",
       "  73.47024308466052,\n",
       "  73.83487007544007,\n",
       "  72.71793797150042,\n",
       "  72.85414920368818,\n",
       "  73.51005867560771,\n",
       "  74.77996647108131,\n",
       "  75.86336965632859,\n",
       "  76.13788767812238,\n",
       "  75.79631181894383,\n",
       "  76.28038558256496,\n",
       "  76.9132439228835,\n",
       "  77.929589270746,\n",
       "  78.51424979044425,\n",
       "  78.71542330259848,\n",
       "  77.69488683989941,\n",
       "  77.62992455993295,\n",
       "  78.581307627829,\n",
       "  79.41114836546521,\n",
       "  79.92036881810562,\n",
       "  80.15297569153394,\n",
       "  79.98113998323554,\n",
       "  80.0628667225482,\n",
       "  80.18231349538978,\n",
       "  80.62238055322716,\n",
       "  81.12112321877619,\n",
       "  81.4270746018441,\n",
       "  81.24476110645432,\n",
       "  81.64920368818106,\n",
       "  81.71207041072925,\n",
       "  82.19195305951384,\n",
       "  82.83528918692372,\n",
       "  82.72632020117351,\n",
       "  82.62363788767813,\n",
       "  82.51676445934618,\n",
       "  82.4685666387259,\n",
       "  83.22087175188601,\n",
       "  83.22087175188601,\n",
       "  83.39899413243923,\n",
       "  83.44090528080469,\n",
       "  83.49748533109808,\n",
       "  83.63369656328584,\n",
       "  84.00670578373848,\n",
       "  84.11777032690696,\n",
       "  84.33151718357082,\n",
       "  84.12405699916178,\n",
       "  84.19949706621962,\n",
       "  84.53269069572507,\n",
       "  84.86169321039397,\n",
       "  84.89103101424979,\n",
       "  85.0712489522213,\n",
       "  84.9056999161777,\n",
       "  84.75481978206203,\n",
       "  84.9685666387259,\n",
       "  85.06915339480302,\n",
       "  85.1173512154233,\n",
       "  85.27870913663035],\n",
       " 'train_loss': [0.49882784945217384,\n",
       "  0.4372801794240381,\n",
       "  0.6242714672406381,\n",
       "  0.7101241560463933,\n",
       "  0.9629457855414465,\n",
       "  1.079138681779663,\n",
       "  0.9523642916791297,\n",
       "  0.9894011434545461,\n",
       "  1.0427879555926838,\n",
       "  1.161174421573225,\n",
       "  1.027357766084679,\n",
       "  1.0691378680328711,\n",
       "  0.9576607195299809,\n",
       "  0.9708123903962013,\n",
       "  0.9917971795032929,\n",
       "  0.9929194718674262,\n",
       "  0.912061250099892,\n",
       "  0.855745776056344,\n",
       "  0.844234310221692,\n",
       "  0.8433494884280327,\n",
       "  0.8691613593475217,\n",
       "  0.860712841635278,\n",
       "  0.8098977899011802,\n",
       "  0.7556423803736758,\n",
       "  0.7425674291188639,\n",
       "  0.73147491293601,\n",
       "  0.7677918047437324,\n",
       "  0.7629814865253397,\n",
       "  0.7409170537562502,\n",
       "  0.708139908508603,\n",
       "  0.6802497815106561,\n",
       "  0.6714453767650985,\n",
       "  0.6836315406687802,\n",
       "  0.6701244602209364,\n",
       "  0.6556880746483303,\n",
       "  0.6289716898445711,\n",
       "  0.6159607961911268,\n",
       "  0.6080287478245914,\n",
       "  0.6338260805916607,\n",
       "  0.6407905761773908,\n",
       "  0.6086398961533045,\n",
       "  0.5858246805282171,\n",
       "  0.57004883582614,\n",
       "  0.5646494882729307,\n",
       "  0.5705303650939555,\n",
       "  0.5647568635698735,\n",
       "  0.5658369739767092,\n",
       "  0.5486269004986452,\n",
       "  0.5379796666826206,\n",
       "  0.5328554372300845,\n",
       "  0.5335027654982373,\n",
       "  0.5235260328048432,\n",
       "  0.5197699801470188,\n",
       "  0.5056181565539135,\n",
       "  0.49220079177832865,\n",
       "  0.4914409281097334,\n",
       "  0.49865928786148667,\n",
       "  0.4991581071552267,\n",
       "  0.4986192696702051,\n",
       "  0.48020156727602575,\n",
       "  0.47653155544427694,\n",
       "  0.47140041026665397,\n",
       "  0.4740580628623707,\n",
       "  0.47020427286874716,\n",
       "  0.465808154693793,\n",
       "  0.4528028895998841,\n",
       "  0.4484632059944246,\n",
       "  0.4459011235535894,\n",
       "  0.4524459426705815,\n",
       "  0.44757061893212524,\n",
       "  0.44258333524784316,\n",
       "  0.43800113264593077,\n",
       "  0.43166750400184284,\n",
       "  0.42723208173472443,\n",
       "  0.4309177990431358,\n",
       "  0.4323785255186116,\n",
       "  0.4312979438578693,\n",
       "  0.42421386956868806,\n",
       "  0.42393660791411886,\n",
       "  0.418848732108842],\n",
       " 'val_acc': [80.08999999999999,\n",
       "  79.22,\n",
       "  79.73,\n",
       "  76.3,\n",
       "  66.73,\n",
       "  60.650000000000006,\n",
       "  53.39,\n",
       "  46.92,\n",
       "  39.32,\n",
       "  44.91,\n",
       "  57.26,\n",
       "  57.98,\n",
       "  57.089999999999996,\n",
       "  56.82000000000001,\n",
       "  53.080000000000005,\n",
       "  52.96999999999999,\n",
       "  58.3,\n",
       "  63.24999999999999,\n",
       "  62.59,\n",
       "  62.129999999999995,\n",
       "  56.47,\n",
       "  64.75999999999999,\n",
       "  63.14999999999999,\n",
       "  68.15,\n",
       "  68.28,\n",
       "  67.99,\n",
       "  63.05,\n",
       "  66.60000000000001,\n",
       "  67.09,\n",
       "  70.47,\n",
       "  70.87,\n",
       "  71.15,\n",
       "  69.67,\n",
       "  67.19000000000001,\n",
       "  71.89,\n",
       "  72.77,\n",
       "  72.97,\n",
       "  73.14,\n",
       "  70.98,\n",
       "  72.19,\n",
       "  72.65,\n",
       "  74.64,\n",
       "  74.59,\n",
       "  74.97,\n",
       "  74.66000000000001,\n",
       "  74.69,\n",
       "  72.94,\n",
       "  76.22,\n",
       "  76.03999999999999,\n",
       "  76.21,\n",
       "  76.46,\n",
       "  76.75,\n",
       "  76.8,\n",
       "  77.48,\n",
       "  77.77,\n",
       "  77.84,\n",
       "  77.59,\n",
       "  75.63,\n",
       "  77.7,\n",
       "  78.0,\n",
       "  78.10000000000001,\n",
       "  78.11,\n",
       "  77.98,\n",
       "  78.43,\n",
       "  78.23,\n",
       "  79.34,\n",
       "  79.28,\n",
       "  79.27,\n",
       "  79.16,\n",
       "  79.38,\n",
       "  79.54,\n",
       "  79.77,\n",
       "  79.67,\n",
       "  79.79,\n",
       "  79.83,\n",
       "  79.7,\n",
       "  79.39,\n",
       "  79.83,\n",
       "  79.67999999999999,\n",
       "  79.86999999999999],\n",
       " 'val_loss': [0.6547941659927368,\n",
       "  0.6958421173095704,\n",
       "  0.6540394241809845,\n",
       "  0.743695371723175,\n",
       "  0.9717892515182495,\n",
       "  1.1231648098945617,\n",
       "  1.3050265656471252,\n",
       "  1.4539719108581544,\n",
       "  1.648651660346985,\n",
       "  1.4483228912353516,\n",
       "  1.1813717630386353,\n",
       "  1.1435126286506654,\n",
       "  1.1712457458496093,\n",
       "  1.1817161660194397,\n",
       "  1.2824243669509887,\n",
       "  1.3769639271736145,\n",
       "  1.1893866371631623,\n",
       "  1.0191371115684509,\n",
       "  1.015189332962036,\n",
       "  1.0410576215744018,\n",
       "  1.2480156107902527,\n",
       "  0.9730610934257508,\n",
       "  1.0808879341125488,\n",
       "  0.9031865379810333,\n",
       "  0.8911972385406494,\n",
       "  0.8959971764564514,\n",
       "  1.0533384760856628,\n",
       "  0.9305017731666565,\n",
       "  0.9247231925964355,\n",
       "  0.8428889563560485,\n",
       "  0.8334656810760498,\n",
       "  0.8230874229431152,\n",
       "  0.8944324297189713,\n",
       "  0.9447261385917664,\n",
       "  0.792441535282135,\n",
       "  0.7883340860843658,\n",
       "  0.7732692641735077,\n",
       "  0.7636762491703033,\n",
       "  0.8399386401176453,\n",
       "  0.792565461063385,\n",
       "  0.7956157735824585,\n",
       "  0.729757904291153,\n",
       "  0.7330667258739472,\n",
       "  0.7233456781864166,\n",
       "  0.7286537070512772,\n",
       "  0.7328546063423157,\n",
       "  0.7992440292358398,\n",
       "  0.6994165752410889,\n",
       "  0.6996438220500946,\n",
       "  0.6927900491714477,\n",
       "  0.6824327816009521,\n",
       "  0.6860245793342591,\n",
       "  0.6691663311481476,\n",
       "  0.6634743862628937,\n",
       "  0.6602316833496094,\n",
       "  0.6586928137302399,\n",
       "  0.6622286448955536,\n",
       "  0.7307449628829956,\n",
       "  0.6593125071525574,\n",
       "  0.6450439829826355,\n",
       "  0.6412161930561066,\n",
       "  0.6411374940395356,\n",
       "  0.6421012037277222,\n",
       "  0.6283706360340119,\n",
       "  0.6398243774890899,\n",
       "  0.6219851799488068,\n",
       "  0.6224202112674713,\n",
       "  0.6231974481582642,\n",
       "  0.6262053561210632,\n",
       "  0.6213326487541199,\n",
       "  0.6108240231990815,\n",
       "  0.6031568069458008,\n",
       "  0.6018767892360687,\n",
       "  0.6029549379825592,\n",
       "  0.6051557017326354,\n",
       "  0.6026918261051178,\n",
       "  0.603196780538559,\n",
       "  0.5999660182952881,\n",
       "  0.6020165017604828,\n",
       "  0.5989711478233337],\n",
       " 'trigger_acc': [100.0,\n",
       "  100.0,\n",
       "  100.0,\n",
       "  100.0,\n",
       "  100.0,\n",
       "  91.0,\n",
       "  48.0,\n",
       "  71.0,\n",
       "  83.0,\n",
       "  97.0,\n",
       "  100.0,\n",
       "  99.0,\n",
       "  100.0,\n",
       "  100.0,\n",
       "  100.0,\n",
       "  100.0,\n",
       "  100.0,\n",
       "  100.0,\n",
       "  99.0,\n",
       "  100.0,\n",
       "  100.0,\n",
       "  100.0,\n",
       "  100.0,\n",
       "  100.0,\n",
       "  100.0,\n",
       "  100.0,\n",
       "  100.0,\n",
       "  100.0,\n",
       "  100.0,\n",
       "  100.0,\n",
       "  100.0,\n",
       "  100.0,\n",
       "  100.0,\n",
       "  100.0,\n",
       "  100.0,\n",
       "  100.0,\n",
       "  100.0,\n",
       "  100.0,\n",
       "  100.0,\n",
       "  100.0,\n",
       "  100.0,\n",
       "  100.0,\n",
       "  100.0,\n",
       "  100.0,\n",
       "  100.0,\n",
       "  100.0,\n",
       "  100.0,\n",
       "  100.0,\n",
       "  100.0,\n",
       "  100.0,\n",
       "  100.0,\n",
       "  100.0,\n",
       "  100.0,\n",
       "  100.0,\n",
       "  100.0,\n",
       "  100.0,\n",
       "  100.0,\n",
       "  100.0,\n",
       "  100.0,\n",
       "  100.0,\n",
       "  100.0,\n",
       "  100.0,\n",
       "  100.0,\n",
       "  100.0,\n",
       "  100.0,\n",
       "  100.0,\n",
       "  100.0,\n",
       "  100.0,\n",
       "  100.0,\n",
       "  100.0,\n",
       "  100.0,\n",
       "  100.0,\n",
       "  100.0,\n",
       "  100.0,\n",
       "  100.0,\n",
       "  100.0,\n",
       "  100.0,\n",
       "  100.0,\n",
       "  100.0,\n",
       "  100.0],\n",
       " 'trigger_loss': [0.06463822960853577,\n",
       "  0.03243411049246788,\n",
       "  0.02959702044725418,\n",
       "  0.0007682643318548799,\n",
       "  0.02634143754839897,\n",
       "  0.4444029498100281,\n",
       "  1.2523902034759522,\n",
       "  0.7567733931541443,\n",
       "  1.3346024131774903,\n",
       "  0.6997487282752991,\n",
       "  0.08266884580254555,\n",
       "  0.09540264070034027,\n",
       "  0.00010577295368420892,\n",
       "  0.05763359814882278,\n",
       "  0.008452108390629291,\n",
       "  0.15776212453842164,\n",
       "  0.2903424561023712,\n",
       "  0.03271026119589806,\n",
       "  0.3639542818069458,\n",
       "  0.1491475608944893,\n",
       "  0.020299579948186874,\n",
       "  0.007995544392615557,\n",
       "  0.001055931835435331,\n",
       "  0.0008065605978481472,\n",
       "  0.10298974394798278,\n",
       "  0.010890875831246377,\n",
       "  0.04201045349240303,\n",
       "  0.04997870698571205,\n",
       "  0.008796187378466129,\n",
       "  0.003983892202377319,\n",
       "  0.0030869014654308557,\n",
       "  0.0012375011248514057,\n",
       "  0.019465587250888348,\n",
       "  0.0009969716728664936,\n",
       "  0.002102907253429294,\n",
       "  0.00012543326593004168,\n",
       "  0.011710393875837326,\n",
       "  0.0012454903358593583,\n",
       "  0.0035633652843534945,\n",
       "  0.004485740074887872,\n",
       "  0.00018277643772307784,\n",
       "  0.00013046560459770262,\n",
       "  0.0014995604520663618,\n",
       "  0.0007197441812604666,\n",
       "  0.04561384811997413,\n",
       "  0.0010486657684668898,\n",
       "  0.001570550282485783,\n",
       "  0.00012614438484888523,\n",
       "  4.5363314129645004e-05,\n",
       "  0.00045547494781203565,\n",
       "  8.153231465257704e-05,\n",
       "  0.000219235229305923,\n",
       "  0.0002556369628291577,\n",
       "  6.739208125509321e-05,\n",
       "  0.00025942249107174575,\n",
       "  0.0003203024482354522,\n",
       "  3.4111814893549306e-05,\n",
       "  0.000489263526396826,\n",
       "  0.0002461015246808529,\n",
       "  0.00010282901144819335,\n",
       "  9.257341007469222e-05,\n",
       "  0.00025709376204758884,\n",
       "  9.556107048410922e-05,\n",
       "  0.00024262846098281444,\n",
       "  0.00011978427530266344,\n",
       "  0.00020412727841176092,\n",
       "  0.0001726745709311217,\n",
       "  0.0002581539854872972,\n",
       "  0.0027949779853224752,\n",
       "  0.0005614484148100019,\n",
       "  0.0005294417589902878,\n",
       "  0.00016306235629599543,\n",
       "  0.00014867821795633063,\n",
       "  0.0002466727519640699,\n",
       "  0.0004972005588933826,\n",
       "  0.0003642070631030947,\n",
       "  0.00025272378930822013,\n",
       "  0.00011591257789405063,\n",
       "  0.00015044646861497312,\n",
       "  0.0001918368472252041]}"
      ]
     },
     "execution_count": 8,
     "metadata": {},
     "output_type": "execute_result"
    }
   ],
   "source": [
    "# watermark with frozen layers\n",
    "net = ResNet18()\n",
    "logcmt = f\"resnet18_8020_trigger_finetune\"\n",
    "net.load_state_dict(torch.load('checkpoints/resnet18_8020.ckpt'))\n",
    "frozen_layers=[net.conv1, net.bn1, net.layer1, net.layer2, net.layer3, net.layer4]\n",
    "optimizer = torch.optim.Adam(params=net.parameters(), lr=0.01, weight_decay=1e-4)\n",
    "criterion = nn.CrossEntropyLoss()\n",
    "scheduler = torch.optim.lr_scheduler.StepLR(optimizer, step_size=10, gamma=0.5, verbose=True)\n",
    "trainer = Trainer(net, criterion, optimizer, train_loader=trainloader, trigger_loader=unrelatedloader, use_trigger=True, scheduler=scheduler)\n",
    "evaluator = Evaluator(net, criterion)\n",
    "train(trainer, evaluator, testloader, 80, 'checkpoints/resnet18_wm_frozen_8020_unrl_lr0.01.ckpt', frozen_layers=frozen_layers,\n",
    "      logdir='./runs', logcmt=logcmt, trigger_loader=unrelatedloader)"
   ]
  },
  {
   "cell_type": "markdown",
   "id": "e35d8c20-2a5b-492f-9dff-723c16d10169",
   "metadata": {},
   "source": [
    "Random Label Original Scheme"
   ]
  },
  {
   "cell_type": "code",
   "execution_count": 9,
   "id": "9892ab1b-bf56-4a0d-acc6-1d61c0bb1ab5",
   "metadata": {},
   "outputs": [
    {
     "name": "stdout",
     "output_type": "stream",
     "text": [
      "Adjusting learning rate of group 0 to 1.0000e-02.\n",
      "Start Training...\n"
     ]
    },
    {
     "name": "stderr",
     "output_type": "stream",
     "text": [
      "100%|██████████████████████████████████████████████████████████████████████████████| 156/156 [00:16<00:00,  9.40it/s]"
     ]
    },
    {
     "name": "stdout",
     "output_type": "stream",
     "text": [
      "Adjusting learning rate of group 0 to 1.0000e-02.\n"
     ]
    },
    {
     "name": "stderr",
     "output_type": "stream",
     "text": [
      "\n"
     ]
    },
    {
     "name": "stdout",
     "output_type": "stream",
     "text": [
      "Epoch 0 | Time 18s| Train Loss 1.9586 | Train Acc 29.20| Val Loss 1.944 | Val Acc 29.50| Trigger Loss 1.910 | Trigger Acc 32.00\n"
     ]
    },
    {
     "name": "stderr",
     "output_type": "stream",
     "text": [
      "100%|██████████████████████████████████████████████████████████████████████████████| 156/156 [00:16<00:00,  9.42it/s]"
     ]
    },
    {
     "name": "stdout",
     "output_type": "stream",
     "text": [
      "Adjusting learning rate of group 0 to 1.0000e-02.\n"
     ]
    },
    {
     "name": "stderr",
     "output_type": "stream",
     "text": [
      "\n"
     ]
    },
    {
     "name": "stdout",
     "output_type": "stream",
     "text": [
      "Epoch 1 | Time 38s| Train Loss 1.4202 | Train Acc 49.33| Val Loss 1.881 | Val Acc 37.48| Trigger Loss 1.308 | Trigger Acc 61.00\n"
     ]
    },
    {
     "name": "stderr",
     "output_type": "stream",
     "text": [
      "100%|██████████████████████████████████████████████████████████████████████████████| 156/156 [00:16<00:00,  9.43it/s]"
     ]
    },
    {
     "name": "stdout",
     "output_type": "stream",
     "text": [
      "Adjusting learning rate of group 0 to 1.0000e-02.\n"
     ]
    },
    {
     "name": "stderr",
     "output_type": "stream",
     "text": [
      "\n"
     ]
    },
    {
     "name": "stdout",
     "output_type": "stream",
     "text": [
      "Epoch 2 | Time 57s| Train Loss 1.0982 | Train Acc 60.89| Val Loss 1.468 | Val Acc 49.09| Trigger Loss 0.333 | Trigger Acc 88.00\n"
     ]
    },
    {
     "name": "stderr",
     "output_type": "stream",
     "text": [
      "100%|██████████████████████████████████████████████████████████████████████████████| 156/156 [00:16<00:00,  9.45it/s]"
     ]
    },
    {
     "name": "stdout",
     "output_type": "stream",
     "text": [
      "Adjusting learning rate of group 0 to 1.0000e-02.\n"
     ]
    },
    {
     "name": "stderr",
     "output_type": "stream",
     "text": [
      "\n"
     ]
    },
    {
     "name": "stdout",
     "output_type": "stream",
     "text": [
      "Epoch 3 | Time 75s| Train Loss 0.9289 | Train Acc 67.31| Val Loss 1.233 | Val Acc 57.95| Trigger Loss 0.102 | Trigger Acc 98.00\n"
     ]
    },
    {
     "name": "stderr",
     "output_type": "stream",
     "text": [
      "100%|██████████████████████████████████████████████████████████████████████████████| 156/156 [00:16<00:00,  9.45it/s]"
     ]
    },
    {
     "name": "stdout",
     "output_type": "stream",
     "text": [
      "Adjusting learning rate of group 0 to 1.0000e-02.\n"
     ]
    },
    {
     "name": "stderr",
     "output_type": "stream",
     "text": [
      "\n"
     ]
    },
    {
     "name": "stdout",
     "output_type": "stream",
     "text": [
      "Epoch 4 | Time 94s| Train Loss 0.8269 | Train Acc 71.23| Val Loss 1.111 | Val Acc 60.93| Trigger Loss 0.169 | Trigger Acc 96.00\n"
     ]
    },
    {
     "name": "stderr",
     "output_type": "stream",
     "text": [
      "100%|██████████████████████████████████████████████████████████████████████████████| 156/156 [00:16<00:00,  9.48it/s]"
     ]
    },
    {
     "name": "stdout",
     "output_type": "stream",
     "text": [
      "Adjusting learning rate of group 0 to 1.0000e-02.\n"
     ]
    },
    {
     "name": "stderr",
     "output_type": "stream",
     "text": [
      "\n"
     ]
    },
    {
     "name": "stdout",
     "output_type": "stream",
     "text": [
      "Epoch 5 | Time 112s| Train Loss 0.7500 | Train Acc 73.86| Val Loss 1.873 | Val Acc 47.21| Trigger Loss 0.240 | Trigger Acc 91.00\n"
     ]
    },
    {
     "name": "stderr",
     "output_type": "stream",
     "text": [
      "100%|██████████████████████████████████████████████████████████████████████████████| 156/156 [00:16<00:00,  9.48it/s]"
     ]
    },
    {
     "name": "stdout",
     "output_type": "stream",
     "text": [
      "Adjusting learning rate of group 0 to 1.0000e-02.\n"
     ]
    },
    {
     "name": "stderr",
     "output_type": "stream",
     "text": [
      "\n"
     ]
    },
    {
     "name": "stdout",
     "output_type": "stream",
     "text": [
      "Epoch 6 | Time 131s| Train Loss 0.7140 | Train Acc 75.02| Val Loss 1.152 | Val Acc 61.13| Trigger Loss 0.227 | Trigger Acc 93.00\n"
     ]
    },
    {
     "name": "stderr",
     "output_type": "stream",
     "text": [
      "100%|██████████████████████████████████████████████████████████████████████████████| 156/156 [00:16<00:00,  9.46it/s]"
     ]
    },
    {
     "name": "stdout",
     "output_type": "stream",
     "text": [
      "Adjusting learning rate of group 0 to 1.0000e-02.\n"
     ]
    },
    {
     "name": "stderr",
     "output_type": "stream",
     "text": [
      "\n"
     ]
    },
    {
     "name": "stdout",
     "output_type": "stream",
     "text": [
      "Epoch 7 | Time 149s| Train Loss 0.6882 | Train Acc 76.01| Val Loss 0.981 | Val Acc 66.75| Trigger Loss 0.128 | Trigger Acc 95.00\n"
     ]
    },
    {
     "name": "stderr",
     "output_type": "stream",
     "text": [
      "100%|██████████████████████████████████████████████████████████████████████████████| 156/156 [00:16<00:00,  9.47it/s]"
     ]
    },
    {
     "name": "stdout",
     "output_type": "stream",
     "text": [
      "Adjusting learning rate of group 0 to 1.0000e-02.\n"
     ]
    },
    {
     "name": "stderr",
     "output_type": "stream",
     "text": [
      "\n"
     ]
    },
    {
     "name": "stdout",
     "output_type": "stream",
     "text": [
      "Epoch 8 | Time 168s| Train Loss 0.6653 | Train Acc 77.06| Val Loss 1.367 | Val Acc 59.03| Trigger Loss 0.123 | Trigger Acc 97.00\n"
     ]
    },
    {
     "name": "stderr",
     "output_type": "stream",
     "text": [
      "100%|██████████████████████████████████████████████████████████████████████████████| 156/156 [00:16<00:00,  9.49it/s]"
     ]
    },
    {
     "name": "stdout",
     "output_type": "stream",
     "text": [
      "Adjusting learning rate of group 0 to 1.0000e-03.\n"
     ]
    },
    {
     "name": "stderr",
     "output_type": "stream",
     "text": [
      "\n"
     ]
    },
    {
     "name": "stdout",
     "output_type": "stream",
     "text": [
      "Epoch 9 | Time 186s| Train Loss 0.6466 | Train Acc 77.53| Val Loss 1.107 | Val Acc 63.94| Trigger Loss 0.156 | Trigger Acc 95.00\n"
     ]
    },
    {
     "name": "stderr",
     "output_type": "stream",
     "text": [
      "100%|██████████████████████████████████████████████████████████████████████████████| 156/156 [00:16<00:00,  9.49it/s]"
     ]
    },
    {
     "name": "stdout",
     "output_type": "stream",
     "text": [
      "Adjusting learning rate of group 0 to 1.0000e-03.\n"
     ]
    },
    {
     "name": "stderr",
     "output_type": "stream",
     "text": [
      "\n"
     ]
    },
    {
     "name": "stdout",
     "output_type": "stream",
     "text": [
      "Epoch 10 | Time 204s| Train Loss 0.5207 | Train Acc 81.83| Val Loss 0.611 | Val Acc 78.89| Trigger Loss 0.002 | Trigger Acc 100.00\n"
     ]
    },
    {
     "name": "stderr",
     "output_type": "stream",
     "text": [
      "100%|██████████████████████████████████████████████████████████████████████████████| 156/156 [00:16<00:00,  9.50it/s]"
     ]
    },
    {
     "name": "stdout",
     "output_type": "stream",
     "text": [
      "Adjusting learning rate of group 0 to 1.0000e-03.\n"
     ]
    },
    {
     "name": "stderr",
     "output_type": "stream",
     "text": [
      "\n"
     ]
    },
    {
     "name": "stdout",
     "output_type": "stream",
     "text": [
      "Epoch 11 | Time 223s| Train Loss 0.4725 | Train Acc 83.58| Val Loss 0.593 | Val Acc 79.45| Trigger Loss 0.002 | Trigger Acc 100.00\n"
     ]
    },
    {
     "name": "stderr",
     "output_type": "stream",
     "text": [
      "100%|██████████████████████████████████████████████████████████████████████████████| 156/156 [00:16<00:00,  9.50it/s]"
     ]
    },
    {
     "name": "stdout",
     "output_type": "stream",
     "text": [
      "Adjusting learning rate of group 0 to 1.0000e-03.\n"
     ]
    },
    {
     "name": "stderr",
     "output_type": "stream",
     "text": [
      "\n"
     ]
    },
    {
     "name": "stdout",
     "output_type": "stream",
     "text": [
      "Epoch 12 | Time 242s| Train Loss 0.4469 | Train Acc 84.39| Val Loss 0.575 | Val Acc 80.16| Trigger Loss 0.002 | Trigger Acc 100.00\n"
     ]
    },
    {
     "name": "stderr",
     "output_type": "stream",
     "text": [
      "100%|██████████████████████████████████████████████████████████████████████████████| 156/156 [00:16<00:00,  9.52it/s]"
     ]
    },
    {
     "name": "stdout",
     "output_type": "stream",
     "text": [
      "Adjusting learning rate of group 0 to 1.0000e-03.\n"
     ]
    },
    {
     "name": "stderr",
     "output_type": "stream",
     "text": [
      "\n"
     ]
    },
    {
     "name": "stdout",
     "output_type": "stream",
     "text": [
      "Epoch 13 | Time 260s| Train Loss 0.4312 | Train Acc 85.04| Val Loss 0.571 | Val Acc 80.58| Trigger Loss 0.002 | Trigger Acc 100.00\n"
     ]
    },
    {
     "name": "stderr",
     "output_type": "stream",
     "text": [
      "100%|██████████████████████████████████████████████████████████████████████████████| 156/156 [00:16<00:00,  9.52it/s]"
     ]
    },
    {
     "name": "stdout",
     "output_type": "stream",
     "text": [
      "Adjusting learning rate of group 0 to 1.0000e-03.\n"
     ]
    },
    {
     "name": "stderr",
     "output_type": "stream",
     "text": [
      "\n"
     ]
    },
    {
     "name": "stdout",
     "output_type": "stream",
     "text": [
      "Epoch 14 | Time 279s| Train Loss 0.4167 | Train Acc 85.51| Val Loss 0.553 | Val Acc 81.37| Trigger Loss 0.001 | Trigger Acc 100.00\n"
     ]
    },
    {
     "name": "stderr",
     "output_type": "stream",
     "text": [
      "100%|██████████████████████████████████████████████████████████████████████████████| 156/156 [00:16<00:00,  9.51it/s]"
     ]
    },
    {
     "name": "stdout",
     "output_type": "stream",
     "text": [
      "Adjusting learning rate of group 0 to 1.0000e-03.\n"
     ]
    },
    {
     "name": "stderr",
     "output_type": "stream",
     "text": [
      "\n"
     ]
    },
    {
     "name": "stdout",
     "output_type": "stream",
     "text": [
      "Epoch 15 | Time 297s| Train Loss 0.4046 | Train Acc 85.82| Val Loss 0.553 | Val Acc 81.21| Trigger Loss 0.002 | Trigger Acc 100.00\n"
     ]
    },
    {
     "name": "stderr",
     "output_type": "stream",
     "text": [
      "100%|██████████████████████████████████████████████████████████████████████████████| 156/156 [00:16<00:00,  9.52it/s]"
     ]
    },
    {
     "name": "stdout",
     "output_type": "stream",
     "text": [
      "Adjusting learning rate of group 0 to 1.0000e-03.\n"
     ]
    },
    {
     "name": "stderr",
     "output_type": "stream",
     "text": [
      "\n"
     ]
    },
    {
     "name": "stdout",
     "output_type": "stream",
     "text": [
      "Epoch 16 | Time 316s| Train Loss 0.3899 | Train Acc 86.41| Val Loss 0.550 | Val Acc 81.35| Trigger Loss 0.003 | Trigger Acc 100.00\n"
     ]
    },
    {
     "name": "stderr",
     "output_type": "stream",
     "text": [
      "100%|██████████████████████████████████████████████████████████████████████████████| 156/156 [00:16<00:00,  9.53it/s]"
     ]
    },
    {
     "name": "stdout",
     "output_type": "stream",
     "text": [
      "Adjusting learning rate of group 0 to 1.0000e-03.\n"
     ]
    },
    {
     "name": "stderr",
     "output_type": "stream",
     "text": [
      "\n"
     ]
    },
    {
     "name": "stdout",
     "output_type": "stream",
     "text": [
      "Epoch 17 | Time 334s| Train Loss 0.3836 | Train Acc 86.61| Val Loss 0.551 | Val Acc 81.66| Trigger Loss 0.002 | Trigger Acc 100.00\n"
     ]
    },
    {
     "name": "stderr",
     "output_type": "stream",
     "text": [
      "100%|██████████████████████████████████████████████████████████████████████████████| 156/156 [00:16<00:00,  9.54it/s]"
     ]
    },
    {
     "name": "stdout",
     "output_type": "stream",
     "text": [
      "Adjusting learning rate of group 0 to 1.0000e-03.\n"
     ]
    },
    {
     "name": "stderr",
     "output_type": "stream",
     "text": [
      "\n"
     ]
    },
    {
     "name": "stdout",
     "output_type": "stream",
     "text": [
      "Epoch 18 | Time 353s| Train Loss 0.3703 | Train Acc 87.14| Val Loss 0.557 | Val Acc 81.52| Trigger Loss 0.003 | Trigger Acc 100.00\n"
     ]
    },
    {
     "name": "stderr",
     "output_type": "stream",
     "text": [
      "100%|██████████████████████████████████████████████████████████████████████████████| 156/156 [00:16<00:00,  9.53it/s]"
     ]
    },
    {
     "name": "stdout",
     "output_type": "stream",
     "text": [
      "Adjusting learning rate of group 0 to 1.0000e-04.\n"
     ]
    },
    {
     "name": "stderr",
     "output_type": "stream",
     "text": [
      "\n"
     ]
    },
    {
     "name": "stdout",
     "output_type": "stream",
     "text": [
      "Epoch 19 | Time 372s| Train Loss 0.3585 | Train Acc 87.54| Val Loss 0.538 | Val Acc 82.14| Trigger Loss 0.003 | Trigger Acc 100.00\n"
     ]
    },
    {
     "name": "stderr",
     "output_type": "stream",
     "text": [
      "100%|██████████████████████████████████████████████████████████████████████████████| 156/156 [00:16<00:00,  9.52it/s]"
     ]
    },
    {
     "name": "stdout",
     "output_type": "stream",
     "text": [
      "Adjusting learning rate of group 0 to 1.0000e-04.\n"
     ]
    },
    {
     "name": "stderr",
     "output_type": "stream",
     "text": [
      "\n"
     ]
    },
    {
     "name": "stdout",
     "output_type": "stream",
     "text": [
      "Epoch 20 | Time 390s| Train Loss 0.3310 | Train Acc 88.55| Val Loss 0.501 | Val Acc 83.45| Trigger Loss 0.001 | Trigger Acc 100.00\n"
     ]
    },
    {
     "name": "stderr",
     "output_type": "stream",
     "text": [
      "100%|██████████████████████████████████████████████████████████████████████████████| 156/156 [00:16<00:00,  9.52it/s]"
     ]
    },
    {
     "name": "stdout",
     "output_type": "stream",
     "text": [
      "Adjusting learning rate of group 0 to 1.0000e-04.\n"
     ]
    },
    {
     "name": "stderr",
     "output_type": "stream",
     "text": [
      "\n"
     ]
    },
    {
     "name": "stdout",
     "output_type": "stream",
     "text": [
      "Epoch 21 | Time 409s| Train Loss 0.3190 | Train Acc 88.79| Val Loss 0.495 | Val Acc 83.52| Trigger Loss 0.001 | Trigger Acc 100.00\n"
     ]
    },
    {
     "name": "stderr",
     "output_type": "stream",
     "text": [
      "100%|██████████████████████████████████████████████████████████████████████████████| 156/156 [00:16<00:00,  9.52it/s]"
     ]
    },
    {
     "name": "stdout",
     "output_type": "stream",
     "text": [
      "Adjusting learning rate of group 0 to 1.0000e-04.\n"
     ]
    },
    {
     "name": "stderr",
     "output_type": "stream",
     "text": [
      "\n"
     ]
    },
    {
     "name": "stdout",
     "output_type": "stream",
     "text": [
      "Epoch 22 | Time 427s| Train Loss 0.3091 | Train Acc 89.25| Val Loss 0.494 | Val Acc 83.58| Trigger Loss 0.001 | Trigger Acc 100.00\n"
     ]
    },
    {
     "name": "stderr",
     "output_type": "stream",
     "text": [
      "100%|██████████████████████████████████████████████████████████████████████████████| 156/156 [00:16<00:00,  9.53it/s]"
     ]
    },
    {
     "name": "stdout",
     "output_type": "stream",
     "text": [
      "Adjusting learning rate of group 0 to 1.0000e-04.\n"
     ]
    },
    {
     "name": "stderr",
     "output_type": "stream",
     "text": [
      "\n"
     ]
    },
    {
     "name": "stdout",
     "output_type": "stream",
     "text": [
      "Epoch 23 | Time 446s| Train Loss 0.3068 | Train Acc 89.27| Val Loss 0.494 | Val Acc 83.50| Trigger Loss 0.001 | Trigger Acc 100.00\n"
     ]
    },
    {
     "name": "stderr",
     "output_type": "stream",
     "text": [
      "100%|██████████████████████████████████████████████████████████████████████████████| 156/156 [00:16<00:00,  9.53it/s]"
     ]
    },
    {
     "name": "stdout",
     "output_type": "stream",
     "text": [
      "Adjusting learning rate of group 0 to 1.0000e-04.\n"
     ]
    },
    {
     "name": "stderr",
     "output_type": "stream",
     "text": [
      "\n"
     ]
    },
    {
     "name": "stdout",
     "output_type": "stream",
     "text": [
      "Epoch 24 | Time 464s| Train Loss 0.3032 | Train Acc 89.68| Val Loss 0.492 | Val Acc 83.54| Trigger Loss 0.001 | Trigger Acc 100.00\n"
     ]
    },
    {
     "name": "stderr",
     "output_type": "stream",
     "text": [
      "100%|██████████████████████████████████████████████████████████████████████████████| 156/156 [00:16<00:00,  9.52it/s]"
     ]
    },
    {
     "name": "stdout",
     "output_type": "stream",
     "text": [
      "Adjusting learning rate of group 0 to 1.0000e-04.\n"
     ]
    },
    {
     "name": "stderr",
     "output_type": "stream",
     "text": [
      "\n"
     ]
    },
    {
     "name": "stdout",
     "output_type": "stream",
     "text": [
      "Epoch 25 | Time 483s| Train Loss 0.2982 | Train Acc 89.59| Val Loss 0.494 | Val Acc 83.54| Trigger Loss 0.001 | Trigger Acc 100.00\n"
     ]
    },
    {
     "name": "stderr",
     "output_type": "stream",
     "text": [
      "100%|██████████████████████████████████████████████████████████████████████████████| 156/156 [00:16<00:00,  9.52it/s]"
     ]
    },
    {
     "name": "stdout",
     "output_type": "stream",
     "text": [
      "Adjusting learning rate of group 0 to 1.0000e-04.\n"
     ]
    },
    {
     "name": "stderr",
     "output_type": "stream",
     "text": [
      "\n"
     ]
    },
    {
     "name": "stdout",
     "output_type": "stream",
     "text": [
      "Epoch 26 | Time 502s| Train Loss 0.2922 | Train Acc 89.83| Val Loss 0.493 | Val Acc 83.57| Trigger Loss 0.001 | Trigger Acc 100.00\n"
     ]
    },
    {
     "name": "stderr",
     "output_type": "stream",
     "text": [
      "100%|██████████████████████████████████████████████████████████████████████████████| 156/156 [00:16<00:00,  9.52it/s]"
     ]
    },
    {
     "name": "stdout",
     "output_type": "stream",
     "text": [
      "Adjusting learning rate of group 0 to 1.0000e-04.\n"
     ]
    },
    {
     "name": "stderr",
     "output_type": "stream",
     "text": [
      "\n"
     ]
    },
    {
     "name": "stdout",
     "output_type": "stream",
     "text": [
      "Epoch 27 | Time 520s| Train Loss 0.2921 | Train Acc 89.82| Val Loss 0.490 | Val Acc 83.56| Trigger Loss 0.001 | Trigger Acc 100.00\n"
     ]
    },
    {
     "name": "stderr",
     "output_type": "stream",
     "text": [
      "100%|██████████████████████████████████████████████████████████████████████████████| 156/156 [00:16<00:00,  9.52it/s]"
     ]
    },
    {
     "name": "stdout",
     "output_type": "stream",
     "text": [
      "Adjusting learning rate of group 0 to 1.0000e-04.\n"
     ]
    },
    {
     "name": "stderr",
     "output_type": "stream",
     "text": [
      "\n"
     ]
    },
    {
     "name": "stdout",
     "output_type": "stream",
     "text": [
      "Epoch 28 | Time 539s| Train Loss 0.2873 | Train Acc 89.97| Val Loss 0.490 | Val Acc 83.68| Trigger Loss 0.001 | Trigger Acc 100.00\n"
     ]
    },
    {
     "name": "stderr",
     "output_type": "stream",
     "text": [
      "100%|██████████████████████████████████████████████████████████████████████████████| 156/156 [00:16<00:00,  9.53it/s]"
     ]
    },
    {
     "name": "stdout",
     "output_type": "stream",
     "text": [
      "Adjusting learning rate of group 0 to 1.0000e-05.\n"
     ]
    },
    {
     "name": "stderr",
     "output_type": "stream",
     "text": [
      "\n"
     ]
    },
    {
     "name": "stdout",
     "output_type": "stream",
     "text": [
      "Epoch 29 | Time 557s| Train Loss 0.2895 | Train Acc 89.94| Val Loss 0.491 | Val Acc 83.54| Trigger Loss 0.001 | Trigger Acc 100.00\n"
     ]
    },
    {
     "name": "stderr",
     "output_type": "stream",
     "text": [
      "100%|██████████████████████████████████████████████████████████████████████████████| 156/156 [00:16<00:00,  9.52it/s]"
     ]
    },
    {
     "name": "stdout",
     "output_type": "stream",
     "text": [
      "Adjusting learning rate of group 0 to 1.0000e-05.\n"
     ]
    },
    {
     "name": "stderr",
     "output_type": "stream",
     "text": [
      "\n"
     ]
    },
    {
     "name": "stdout",
     "output_type": "stream",
     "text": [
      "Epoch 30 | Time 576s| Train Loss 0.2812 | Train Acc 90.24| Val Loss 0.489 | Val Acc 83.58| Trigger Loss 0.001 | Trigger Acc 100.00\n"
     ]
    },
    {
     "name": "stderr",
     "output_type": "stream",
     "text": [
      "100%|██████████████████████████████████████████████████████████████████████████████| 156/156 [00:16<00:00,  9.52it/s]"
     ]
    },
    {
     "name": "stdout",
     "output_type": "stream",
     "text": [
      "Adjusting learning rate of group 0 to 1.0000e-05.\n"
     ]
    },
    {
     "name": "stderr",
     "output_type": "stream",
     "text": [
      "\n"
     ]
    },
    {
     "name": "stdout",
     "output_type": "stream",
     "text": [
      "Epoch 31 | Time 594s| Train Loss 0.2830 | Train Acc 90.13| Val Loss 0.488 | Val Acc 83.64| Trigger Loss 0.001 | Trigger Acc 100.00\n"
     ]
    },
    {
     "name": "stderr",
     "output_type": "stream",
     "text": [
      "100%|██████████████████████████████████████████████████████████████████████████████| 156/156 [00:16<00:00,  9.53it/s]"
     ]
    },
    {
     "name": "stdout",
     "output_type": "stream",
     "text": [
      "Adjusting learning rate of group 0 to 1.0000e-05.\n"
     ]
    },
    {
     "name": "stderr",
     "output_type": "stream",
     "text": [
      "\n"
     ]
    },
    {
     "name": "stdout",
     "output_type": "stream",
     "text": [
      "Epoch 32 | Time 613s| Train Loss 0.2790 | Train Acc 90.27| Val Loss 0.489 | Val Acc 83.70| Trigger Loss 0.001 | Trigger Acc 100.00\n"
     ]
    },
    {
     "name": "stderr",
     "output_type": "stream",
     "text": [
      "100%|██████████████████████████████████████████████████████████████████████████████| 156/156 [00:16<00:00,  9.52it/s]"
     ]
    },
    {
     "name": "stdout",
     "output_type": "stream",
     "text": [
      "Adjusting learning rate of group 0 to 1.0000e-05.\n"
     ]
    },
    {
     "name": "stderr",
     "output_type": "stream",
     "text": [
      "\n"
     ]
    },
    {
     "name": "stdout",
     "output_type": "stream",
     "text": [
      "Epoch 33 | Time 632s| Train Loss 0.2809 | Train Acc 90.30| Val Loss 0.490 | Val Acc 83.52| Trigger Loss 0.000 | Trigger Acc 100.00\n"
     ]
    },
    {
     "name": "stderr",
     "output_type": "stream",
     "text": [
      "100%|██████████████████████████████████████████████████████████████████████████████| 156/156 [00:16<00:00,  9.52it/s]"
     ]
    },
    {
     "name": "stdout",
     "output_type": "stream",
     "text": [
      "Adjusting learning rate of group 0 to 1.0000e-05.\n"
     ]
    },
    {
     "name": "stderr",
     "output_type": "stream",
     "text": [
      "\n"
     ]
    },
    {
     "name": "stdout",
     "output_type": "stream",
     "text": [
      "Epoch 34 | Time 650s| Train Loss 0.2796 | Train Acc 90.28| Val Loss 0.487 | Val Acc 83.64| Trigger Loss 0.001 | Trigger Acc 100.00\n"
     ]
    },
    {
     "name": "stderr",
     "output_type": "stream",
     "text": [
      "100%|██████████████████████████████████████████████████████████████████████████████| 156/156 [00:16<00:00,  9.54it/s]"
     ]
    },
    {
     "name": "stdout",
     "output_type": "stream",
     "text": [
      "Adjusting learning rate of group 0 to 1.0000e-05.\n"
     ]
    },
    {
     "name": "stderr",
     "output_type": "stream",
     "text": [
      "\n"
     ]
    },
    {
     "name": "stdout",
     "output_type": "stream",
     "text": [
      "Epoch 35 | Time 669s| Train Loss 0.2791 | Train Acc 90.22| Val Loss 0.489 | Val Acc 83.62| Trigger Loss 0.001 | Trigger Acc 100.00\n"
     ]
    },
    {
     "name": "stderr",
     "output_type": "stream",
     "text": [
      "100%|██████████████████████████████████████████████████████████████████████████████| 156/156 [00:16<00:00,  9.51it/s]"
     ]
    },
    {
     "name": "stdout",
     "output_type": "stream",
     "text": [
      "Adjusting learning rate of group 0 to 1.0000e-05.\n"
     ]
    },
    {
     "name": "stderr",
     "output_type": "stream",
     "text": [
      "\n"
     ]
    },
    {
     "name": "stdout",
     "output_type": "stream",
     "text": [
      "Epoch 36 | Time 687s| Train Loss 0.2788 | Train Acc 90.24| Val Loss 0.488 | Val Acc 83.64| Trigger Loss 0.001 | Trigger Acc 100.00\n"
     ]
    },
    {
     "name": "stderr",
     "output_type": "stream",
     "text": [
      "100%|██████████████████████████████████████████████████████████████████████████████| 156/156 [00:16<00:00,  9.52it/s]"
     ]
    },
    {
     "name": "stdout",
     "output_type": "stream",
     "text": [
      "Adjusting learning rate of group 0 to 1.0000e-05.\n"
     ]
    },
    {
     "name": "stderr",
     "output_type": "stream",
     "text": [
      "\n"
     ]
    },
    {
     "name": "stdout",
     "output_type": "stream",
     "text": [
      "Epoch 37 | Time 706s| Train Loss 0.2792 | Train Acc 90.16| Val Loss 0.490 | Val Acc 83.68| Trigger Loss 0.000 | Trigger Acc 100.00\n"
     ]
    },
    {
     "name": "stderr",
     "output_type": "stream",
     "text": [
      "100%|██████████████████████████████████████████████████████████████████████████████| 156/156 [00:16<00:00,  9.52it/s]"
     ]
    },
    {
     "name": "stdout",
     "output_type": "stream",
     "text": [
      "Adjusting learning rate of group 0 to 1.0000e-05.\n"
     ]
    },
    {
     "name": "stderr",
     "output_type": "stream",
     "text": [
      "\n"
     ]
    },
    {
     "name": "stdout",
     "output_type": "stream",
     "text": [
      "Epoch 38 | Time 725s| Train Loss 0.2792 | Train Acc 90.27| Val Loss 0.489 | Val Acc 83.65| Trigger Loss 0.001 | Trigger Acc 100.00\n"
     ]
    },
    {
     "name": "stderr",
     "output_type": "stream",
     "text": [
      "100%|██████████████████████████████████████████████████████████████████████████████| 156/156 [00:16<00:00,  9.51it/s]"
     ]
    },
    {
     "name": "stdout",
     "output_type": "stream",
     "text": [
      "Adjusting learning rate of group 0 to 1.0000e-06.\n"
     ]
    },
    {
     "name": "stderr",
     "output_type": "stream",
     "text": [
      "\n"
     ]
    },
    {
     "name": "stdout",
     "output_type": "stream",
     "text": [
      "Epoch 39 | Time 743s| Train Loss 0.2795 | Train Acc 90.34| Val Loss 0.490 | Val Acc 83.62| Trigger Loss 0.001 | Trigger Acc 100.00\n"
     ]
    },
    {
     "name": "stderr",
     "output_type": "stream",
     "text": [
      "100%|██████████████████████████████████████████████████████████████████████████████| 156/156 [00:16<00:00,  9.53it/s]"
     ]
    },
    {
     "name": "stdout",
     "output_type": "stream",
     "text": [
      "Adjusting learning rate of group 0 to 1.0000e-06.\n"
     ]
    },
    {
     "name": "stderr",
     "output_type": "stream",
     "text": [
      "\n"
     ]
    },
    {
     "name": "stdout",
     "output_type": "stream",
     "text": [
      "Epoch 40 | Time 762s| Train Loss 0.2740 | Train Acc 90.44| Val Loss 0.489 | Val Acc 83.70| Trigger Loss 0.000 | Trigger Acc 100.00\n"
     ]
    },
    {
     "name": "stderr",
     "output_type": "stream",
     "text": [
      "100%|██████████████████████████████████████████████████████████████████████████████| 156/156 [00:16<00:00,  9.52it/s]"
     ]
    },
    {
     "name": "stdout",
     "output_type": "stream",
     "text": [
      "Adjusting learning rate of group 0 to 1.0000e-06.\n"
     ]
    },
    {
     "name": "stderr",
     "output_type": "stream",
     "text": [
      "\n"
     ]
    },
    {
     "name": "stdout",
     "output_type": "stream",
     "text": [
      "Epoch 41 | Time 780s| Train Loss 0.2770 | Train Acc 90.47| Val Loss 0.487 | Val Acc 83.60| Trigger Loss 0.001 | Trigger Acc 100.00\n"
     ]
    },
    {
     "name": "stderr",
     "output_type": "stream",
     "text": [
      "100%|██████████████████████████████████████████████████████████████████████████████| 156/156 [00:16<00:00,  9.52it/s]"
     ]
    },
    {
     "name": "stdout",
     "output_type": "stream",
     "text": [
      "Adjusting learning rate of group 0 to 1.0000e-06.\n"
     ]
    },
    {
     "name": "stderr",
     "output_type": "stream",
     "text": [
      "\n"
     ]
    },
    {
     "name": "stdout",
     "output_type": "stream",
     "text": [
      "Epoch 42 | Time 799s| Train Loss 0.2777 | Train Acc 90.35| Val Loss 0.488 | Val Acc 83.60| Trigger Loss 0.001 | Trigger Acc 100.00\n"
     ]
    },
    {
     "name": "stderr",
     "output_type": "stream",
     "text": [
      "100%|██████████████████████████████████████████████████████████████████████████████| 156/156 [00:16<00:00,  9.53it/s]"
     ]
    },
    {
     "name": "stdout",
     "output_type": "stream",
     "text": [
      "Adjusting learning rate of group 0 to 1.0000e-06.\n"
     ]
    },
    {
     "name": "stderr",
     "output_type": "stream",
     "text": [
      "\n"
     ]
    },
    {
     "name": "stdout",
     "output_type": "stream",
     "text": [
      "Epoch 43 | Time 818s| Train Loss 0.2790 | Train Acc 90.23| Val Loss 0.488 | Val Acc 83.71| Trigger Loss 0.001 | Trigger Acc 100.00\n"
     ]
    },
    {
     "name": "stderr",
     "output_type": "stream",
     "text": [
      "100%|██████████████████████████████████████████████████████████████████████████████| 156/156 [00:16<00:00,  9.53it/s]"
     ]
    },
    {
     "name": "stdout",
     "output_type": "stream",
     "text": [
      "Adjusting learning rate of group 0 to 1.0000e-06.\n"
     ]
    },
    {
     "name": "stderr",
     "output_type": "stream",
     "text": [
      "\n"
     ]
    },
    {
     "name": "stdout",
     "output_type": "stream",
     "text": [
      "Epoch 44 | Time 836s| Train Loss 0.2795 | Train Acc 90.35| Val Loss 0.488 | Val Acc 83.64| Trigger Loss 0.001 | Trigger Acc 100.00\n"
     ]
    },
    {
     "name": "stderr",
     "output_type": "stream",
     "text": [
      "100%|██████████████████████████████████████████████████████████████████████████████| 156/156 [00:16<00:00,  9.52it/s]"
     ]
    },
    {
     "name": "stdout",
     "output_type": "stream",
     "text": [
      "Adjusting learning rate of group 0 to 1.0000e-06.\n"
     ]
    },
    {
     "name": "stderr",
     "output_type": "stream",
     "text": [
      "\n"
     ]
    },
    {
     "name": "stdout",
     "output_type": "stream",
     "text": [
      "Epoch 45 | Time 855s| Train Loss 0.2763 | Train Acc 90.53| Val Loss 0.488 | Val Acc 83.63| Trigger Loss 0.001 | Trigger Acc 100.00\n"
     ]
    },
    {
     "name": "stderr",
     "output_type": "stream",
     "text": [
      "100%|██████████████████████████████████████████████████████████████████████████████| 156/156 [00:16<00:00,  9.52it/s]"
     ]
    },
    {
     "name": "stdout",
     "output_type": "stream",
     "text": [
      "Adjusting learning rate of group 0 to 1.0000e-06.\n"
     ]
    },
    {
     "name": "stderr",
     "output_type": "stream",
     "text": [
      "\n"
     ]
    },
    {
     "name": "stdout",
     "output_type": "stream",
     "text": [
      "Epoch 46 | Time 873s| Train Loss 0.2747 | Train Acc 90.45| Val Loss 0.488 | Val Acc 83.73| Trigger Loss 0.001 | Trigger Acc 100.00\n"
     ]
    },
    {
     "name": "stderr",
     "output_type": "stream",
     "text": [
      "100%|██████████████████████████████████████████████████████████████████████████████| 156/156 [00:16<00:00,  9.51it/s]"
     ]
    },
    {
     "name": "stdout",
     "output_type": "stream",
     "text": [
      "Adjusting learning rate of group 0 to 1.0000e-06.\n"
     ]
    },
    {
     "name": "stderr",
     "output_type": "stream",
     "text": [
      "\n"
     ]
    },
    {
     "name": "stdout",
     "output_type": "stream",
     "text": [
      "Epoch 47 | Time 892s| Train Loss 0.2757 | Train Acc 90.40| Val Loss 0.487 | Val Acc 83.65| Trigger Loss 0.001 | Trigger Acc 100.00\n"
     ]
    },
    {
     "name": "stderr",
     "output_type": "stream",
     "text": [
      "100%|██████████████████████████████████████████████████████████████████████████████| 156/156 [00:16<00:00,  9.54it/s]"
     ]
    },
    {
     "name": "stdout",
     "output_type": "stream",
     "text": [
      "Adjusting learning rate of group 0 to 1.0000e-06.\n"
     ]
    },
    {
     "name": "stderr",
     "output_type": "stream",
     "text": [
      "\n"
     ]
    },
    {
     "name": "stdout",
     "output_type": "stream",
     "text": [
      "Epoch 48 | Time 910s| Train Loss 0.2765 | Train Acc 90.36| Val Loss 0.487 | Val Acc 83.64| Trigger Loss 0.001 | Trigger Acc 100.00\n"
     ]
    },
    {
     "name": "stderr",
     "output_type": "stream",
     "text": [
      "100%|██████████████████████████████████████████████████████████████████████████████| 156/156 [00:16<00:00,  9.53it/s]"
     ]
    },
    {
     "name": "stdout",
     "output_type": "stream",
     "text": [
      "Adjusting learning rate of group 0 to 1.0000e-07.\n"
     ]
    },
    {
     "name": "stderr",
     "output_type": "stream",
     "text": [
      "\n"
     ]
    },
    {
     "name": "stdout",
     "output_type": "stream",
     "text": [
      "Epoch 49 | Time 929s| Train Loss 0.2804 | Train Acc 90.32| Val Loss 0.488 | Val Acc 83.68| Trigger Loss 0.001 | Trigger Acc 100.00\n"
     ]
    },
    {
     "name": "stderr",
     "output_type": "stream",
     "text": [
      "100%|██████████████████████████████████████████████████████████████████████████████| 156/156 [00:16<00:00,  9.53it/s]"
     ]
    },
    {
     "name": "stdout",
     "output_type": "stream",
     "text": [
      "Adjusting learning rate of group 0 to 1.0000e-07.\n"
     ]
    },
    {
     "name": "stderr",
     "output_type": "stream",
     "text": [
      "\n"
     ]
    },
    {
     "name": "stdout",
     "output_type": "stream",
     "text": [
      "Epoch 50 | Time 948s| Train Loss 0.2781 | Train Acc 90.41| Val Loss 0.487 | Val Acc 83.74| Trigger Loss 0.001 | Trigger Acc 100.00\n"
     ]
    },
    {
     "name": "stderr",
     "output_type": "stream",
     "text": [
      "100%|██████████████████████████████████████████████████████████████████████████████| 156/156 [00:16<00:00,  9.51it/s]"
     ]
    },
    {
     "name": "stdout",
     "output_type": "stream",
     "text": [
      "Adjusting learning rate of group 0 to 1.0000e-07.\n"
     ]
    },
    {
     "name": "stderr",
     "output_type": "stream",
     "text": [
      "\n"
     ]
    },
    {
     "name": "stdout",
     "output_type": "stream",
     "text": [
      "Epoch 51 | Time 966s| Train Loss 0.2744 | Train Acc 90.52| Val Loss 0.488 | Val Acc 83.66| Trigger Loss 0.001 | Trigger Acc 100.00\n"
     ]
    },
    {
     "name": "stderr",
     "output_type": "stream",
     "text": [
      "100%|██████████████████████████████████████████████████████████████████████████████| 156/156 [00:16<00:00,  9.52it/s]"
     ]
    },
    {
     "name": "stdout",
     "output_type": "stream",
     "text": [
      "Adjusting learning rate of group 0 to 1.0000e-07.\n"
     ]
    },
    {
     "name": "stderr",
     "output_type": "stream",
     "text": [
      "\n"
     ]
    },
    {
     "name": "stdout",
     "output_type": "stream",
     "text": [
      "Epoch 52 | Time 985s| Train Loss 0.2759 | Train Acc 90.40| Val Loss 0.488 | Val Acc 83.69| Trigger Loss 0.001 | Trigger Acc 100.00\n"
     ]
    },
    {
     "name": "stderr",
     "output_type": "stream",
     "text": [
      "100%|██████████████████████████████████████████████████████████████████████████████| 156/156 [00:16<00:00,  9.51it/s]"
     ]
    },
    {
     "name": "stdout",
     "output_type": "stream",
     "text": [
      "Adjusting learning rate of group 0 to 1.0000e-07.\n"
     ]
    },
    {
     "name": "stderr",
     "output_type": "stream",
     "text": [
      "\n"
     ]
    },
    {
     "name": "stdout",
     "output_type": "stream",
     "text": [
      "Epoch 53 | Time 1003s| Train Loss 0.2794 | Train Acc 90.32| Val Loss 0.488 | Val Acc 83.65| Trigger Loss 0.001 | Trigger Acc 100.00\n"
     ]
    },
    {
     "name": "stderr",
     "output_type": "stream",
     "text": [
      "100%|██████████████████████████████████████████████████████████████████████████████| 156/156 [00:16<00:00,  9.51it/s]"
     ]
    },
    {
     "name": "stdout",
     "output_type": "stream",
     "text": [
      "Adjusting learning rate of group 0 to 1.0000e-07.\n"
     ]
    },
    {
     "name": "stderr",
     "output_type": "stream",
     "text": [
      "\n"
     ]
    },
    {
     "name": "stdout",
     "output_type": "stream",
     "text": [
      "Epoch 54 | Time 1022s| Train Loss 0.2765 | Train Acc 90.49| Val Loss 0.488 | Val Acc 83.56| Trigger Loss 0.001 | Trigger Acc 100.00\n"
     ]
    },
    {
     "name": "stderr",
     "output_type": "stream",
     "text": [
      "100%|██████████████████████████████████████████████████████████████████████████████| 156/156 [00:25<00:00,  6.04it/s]"
     ]
    },
    {
     "name": "stdout",
     "output_type": "stream",
     "text": [
      "Adjusting learning rate of group 0 to 1.0000e-07.\n"
     ]
    },
    {
     "name": "stderr",
     "output_type": "stream",
     "text": [
      "\n"
     ]
    },
    {
     "name": "stdout",
     "output_type": "stream",
     "text": [
      "Epoch 55 | Time 1051s| Train Loss 0.2776 | Train Acc 90.42| Val Loss 0.488 | Val Acc 83.65| Trigger Loss 0.001 | Trigger Acc 100.00\n"
     ]
    },
    {
     "name": "stderr",
     "output_type": "stream",
     "text": [
      "100%|██████████████████████████████████████████████████████████████████████████████| 156/156 [00:19<00:00,  8.03it/s]"
     ]
    },
    {
     "name": "stdout",
     "output_type": "stream",
     "text": [
      "Adjusting learning rate of group 0 to 1.0000e-07.\n"
     ]
    },
    {
     "name": "stderr",
     "output_type": "stream",
     "text": [
      "\n"
     ]
    },
    {
     "name": "stdout",
     "output_type": "stream",
     "text": [
      "Epoch 56 | Time 1074s| Train Loss 0.2768 | Train Acc 90.38| Val Loss 0.489 | Val Acc 83.57| Trigger Loss 0.001 | Trigger Acc 100.00\n"
     ]
    },
    {
     "name": "stderr",
     "output_type": "stream",
     "text": [
      "100%|██████████████████████████████████████████████████████████████████████████████| 156/156 [00:23<00:00,  6.66it/s]"
     ]
    },
    {
     "name": "stdout",
     "output_type": "stream",
     "text": [
      "Adjusting learning rate of group 0 to 1.0000e-07.\n"
     ]
    },
    {
     "name": "stderr",
     "output_type": "stream",
     "text": [
      "\n"
     ]
    },
    {
     "name": "stdout",
     "output_type": "stream",
     "text": [
      "Epoch 57 | Time 1100s| Train Loss 0.2769 | Train Acc 90.40| Val Loss 0.489 | Val Acc 83.67| Trigger Loss 0.000 | Trigger Acc 100.00\n"
     ]
    },
    {
     "name": "stderr",
     "output_type": "stream",
     "text": [
      "100%|██████████████████████████████████████████████████████████████████████████████| 156/156 [00:21<00:00,  7.33it/s]"
     ]
    },
    {
     "name": "stdout",
     "output_type": "stream",
     "text": [
      "Adjusting learning rate of group 0 to 1.0000e-07.\n"
     ]
    },
    {
     "name": "stderr",
     "output_type": "stream",
     "text": [
      "\n"
     ]
    },
    {
     "name": "stdout",
     "output_type": "stream",
     "text": [
      "Epoch 58 | Time 1125s| Train Loss 0.2759 | Train Acc 90.43| Val Loss 0.488 | Val Acc 83.64| Trigger Loss 0.001 | Trigger Acc 100.00\n"
     ]
    },
    {
     "name": "stderr",
     "output_type": "stream",
     "text": [
      "100%|██████████████████████████████████████████████████████████████████████████████| 156/156 [00:21<00:00,  7.22it/s]"
     ]
    },
    {
     "name": "stdout",
     "output_type": "stream",
     "text": [
      "Adjusting learning rate of group 0 to 1.0000e-08.\n"
     ]
    },
    {
     "name": "stderr",
     "output_type": "stream",
     "text": [
      "\n"
     ]
    },
    {
     "name": "stdout",
     "output_type": "stream",
     "text": [
      "Epoch 59 | Time 1149s| Train Loss 0.2796 | Train Acc 90.32| Val Loss 0.489 | Val Acc 83.69| Trigger Loss 0.001 | Trigger Acc 100.00\n"
     ]
    },
    {
     "name": "stderr",
     "output_type": "stream",
     "text": [
      "100%|██████████████████████████████████████████████████████████████████████████████| 156/156 [00:23<00:00,  6.73it/s]"
     ]
    },
    {
     "name": "stdout",
     "output_type": "stream",
     "text": [
      "Adjusting learning rate of group 0 to 1.0000e-08.\n"
     ]
    },
    {
     "name": "stderr",
     "output_type": "stream",
     "text": [
      "\n"
     ]
    },
    {
     "name": "stdout",
     "output_type": "stream",
     "text": [
      "Epoch 60 | Time 1176s| Train Loss 0.2764 | Train Acc 90.36| Val Loss 0.488 | Val Acc 83.55| Trigger Loss 0.001 | Trigger Acc 100.00\n"
     ]
    },
    {
     "name": "stderr",
     "output_type": "stream",
     "text": [
      "100%|██████████████████████████████████████████████████████████████████████████████| 156/156 [00:19<00:00,  7.82it/s]"
     ]
    },
    {
     "name": "stdout",
     "output_type": "stream",
     "text": [
      "Adjusting learning rate of group 0 to 1.0000e-08.\n"
     ]
    },
    {
     "name": "stderr",
     "output_type": "stream",
     "text": [
      "\n"
     ]
    },
    {
     "name": "stdout",
     "output_type": "stream",
     "text": [
      "Epoch 61 | Time 1198s| Train Loss 0.2773 | Train Acc 90.46| Val Loss 0.488 | Val Acc 83.58| Trigger Loss 0.001 | Trigger Acc 100.00\n"
     ]
    },
    {
     "name": "stderr",
     "output_type": "stream",
     "text": [
      "100%|██████████████████████████████████████████████████████████████████████████████| 156/156 [00:25<00:00,  6.19it/s]"
     ]
    },
    {
     "name": "stdout",
     "output_type": "stream",
     "text": [
      "Adjusting learning rate of group 0 to 1.0000e-08.\n"
     ]
    },
    {
     "name": "stderr",
     "output_type": "stream",
     "text": [
      "\n"
     ]
    },
    {
     "name": "stdout",
     "output_type": "stream",
     "text": [
      "Epoch 62 | Time 1227s| Train Loss 0.2792 | Train Acc 90.26| Val Loss 0.488 | Val Acc 83.75| Trigger Loss 0.001 | Trigger Acc 100.00\n"
     ]
    },
    {
     "name": "stderr",
     "output_type": "stream",
     "text": [
      "100%|██████████████████████████████████████████████████████████████████████████████| 156/156 [00:17<00:00,  8.72it/s]"
     ]
    },
    {
     "name": "stdout",
     "output_type": "stream",
     "text": [
      "Adjusting learning rate of group 0 to 1.0000e-08.\n"
     ]
    },
    {
     "name": "stderr",
     "output_type": "stream",
     "text": [
      "\n"
     ]
    },
    {
     "name": "stdout",
     "output_type": "stream",
     "text": [
      "Epoch 63 | Time 1248s| Train Loss 0.2783 | Train Acc 90.39| Val Loss 0.488 | Val Acc 83.76| Trigger Loss 0.001 | Trigger Acc 100.00\n"
     ]
    },
    {
     "name": "stderr",
     "output_type": "stream",
     "text": [
      "100%|██████████████████████████████████████████████████████████████████████████████| 156/156 [00:26<00:00,  5.80it/s]"
     ]
    },
    {
     "name": "stdout",
     "output_type": "stream",
     "text": [
      "Adjusting learning rate of group 0 to 1.0000e-08.\n"
     ]
    },
    {
     "name": "stderr",
     "output_type": "stream",
     "text": [
      "\n"
     ]
    },
    {
     "name": "stdout",
     "output_type": "stream",
     "text": [
      "Epoch 64 | Time 1278s| Train Loss 0.2772 | Train Acc 90.29| Val Loss 0.489 | Val Acc 83.57| Trigger Loss 0.001 | Trigger Acc 100.00\n"
     ]
    },
    {
     "name": "stderr",
     "output_type": "stream",
     "text": [
      "100%|██████████████████████████████████████████████████████████████████████████████| 156/156 [00:17<00:00,  8.75it/s]"
     ]
    },
    {
     "name": "stdout",
     "output_type": "stream",
     "text": [
      "Adjusting learning rate of group 0 to 1.0000e-08.\n"
     ]
    },
    {
     "name": "stderr",
     "output_type": "stream",
     "text": [
      "\n"
     ]
    },
    {
     "name": "stdout",
     "output_type": "stream",
     "text": [
      "Epoch 65 | Time 1298s| Train Loss 0.2781 | Train Acc 90.30| Val Loss 0.488 | Val Acc 83.64| Trigger Loss 0.001 | Trigger Acc 100.00\n"
     ]
    },
    {
     "name": "stderr",
     "output_type": "stream",
     "text": [
      "100%|██████████████████████████████████████████████████████████████████████████████| 156/156 [00:27<00:00,  5.64it/s]"
     ]
    },
    {
     "name": "stdout",
     "output_type": "stream",
     "text": [
      "Adjusting learning rate of group 0 to 1.0000e-08.\n"
     ]
    },
    {
     "name": "stderr",
     "output_type": "stream",
     "text": [
      "\n"
     ]
    },
    {
     "name": "stdout",
     "output_type": "stream",
     "text": [
      "Epoch 66 | Time 1329s| Train Loss 0.2750 | Train Acc 90.36| Val Loss 0.489 | Val Acc 83.54| Trigger Loss 0.000 | Trigger Acc 100.00\n"
     ]
    },
    {
     "name": "stderr",
     "output_type": "stream",
     "text": [
      "100%|██████████████████████████████████████████████████████████████████████████████| 156/156 [00:17<00:00,  8.81it/s]"
     ]
    },
    {
     "name": "stdout",
     "output_type": "stream",
     "text": [
      "Adjusting learning rate of group 0 to 1.0000e-08.\n"
     ]
    },
    {
     "name": "stderr",
     "output_type": "stream",
     "text": [
      "\n"
     ]
    },
    {
     "name": "stdout",
     "output_type": "stream",
     "text": [
      "Epoch 67 | Time 1349s| Train Loss 0.2756 | Train Acc 90.44| Val Loss 0.487 | Val Acc 83.66| Trigger Loss 0.001 | Trigger Acc 100.00\n"
     ]
    },
    {
     "name": "stderr",
     "output_type": "stream",
     "text": [
      "100%|██████████████████████████████████████████████████████████████████████████████| 156/156 [00:27<00:00,  5.66it/s]"
     ]
    },
    {
     "name": "stdout",
     "output_type": "stream",
     "text": [
      "Adjusting learning rate of group 0 to 1.0000e-08.\n"
     ]
    },
    {
     "name": "stderr",
     "output_type": "stream",
     "text": [
      "\n"
     ]
    },
    {
     "name": "stdout",
     "output_type": "stream",
     "text": [
      "Epoch 68 | Time 1379s| Train Loss 0.2788 | Train Acc 90.31| Val Loss 0.489 | Val Acc 83.63| Trigger Loss 0.001 | Trigger Acc 100.00\n"
     ]
    },
    {
     "name": "stderr",
     "output_type": "stream",
     "text": [
      "100%|██████████████████████████████████████████████████████████████████████████████| 156/156 [00:17<00:00,  8.81it/s]"
     ]
    },
    {
     "name": "stdout",
     "output_type": "stream",
     "text": [
      "Adjusting learning rate of group 0 to 1.0000e-09.\n"
     ]
    },
    {
     "name": "stderr",
     "output_type": "stream",
     "text": [
      "\n"
     ]
    },
    {
     "name": "stdout",
     "output_type": "stream",
     "text": [
      "Epoch 69 | Time 1400s| Train Loss 0.2776 | Train Acc 90.47| Val Loss 0.487 | Val Acc 83.69| Trigger Loss 0.000 | Trigger Acc 100.00\n"
     ]
    },
    {
     "name": "stderr",
     "output_type": "stream",
     "text": [
      "100%|██████████████████████████████████████████████████████████████████████████████| 156/156 [00:27<00:00,  5.63it/s]"
     ]
    },
    {
     "name": "stdout",
     "output_type": "stream",
     "text": [
      "Adjusting learning rate of group 0 to 1.0000e-09.\n"
     ]
    },
    {
     "name": "stderr",
     "output_type": "stream",
     "text": [
      "\n"
     ]
    },
    {
     "name": "stdout",
     "output_type": "stream",
     "text": [
      "Epoch 70 | Time 1430s| Train Loss 0.2770 | Train Acc 90.43| Val Loss 0.489 | Val Acc 83.75| Trigger Loss 0.001 | Trigger Acc 100.00\n"
     ]
    },
    {
     "name": "stderr",
     "output_type": "stream",
     "text": [
      "100%|██████████████████████████████████████████████████████████████████████████████| 156/156 [00:17<00:00,  8.80it/s]"
     ]
    },
    {
     "name": "stdout",
     "output_type": "stream",
     "text": [
      "Adjusting learning rate of group 0 to 1.0000e-09.\n"
     ]
    },
    {
     "name": "stderr",
     "output_type": "stream",
     "text": [
      "\n"
     ]
    },
    {
     "name": "stdout",
     "output_type": "stream",
     "text": [
      "Epoch 71 | Time 1451s| Train Loss 0.2760 | Train Acc 90.42| Val Loss 0.489 | Val Acc 83.65| Trigger Loss 0.000 | Trigger Acc 100.00\n"
     ]
    },
    {
     "name": "stderr",
     "output_type": "stream",
     "text": [
      "100%|██████████████████████████████████████████████████████████████████████████████| 156/156 [00:27<00:00,  5.64it/s]"
     ]
    },
    {
     "name": "stdout",
     "output_type": "stream",
     "text": [
      "Adjusting learning rate of group 0 to 1.0000e-09.\n"
     ]
    },
    {
     "name": "stderr",
     "output_type": "stream",
     "text": [
      "\n"
     ]
    },
    {
     "name": "stdout",
     "output_type": "stream",
     "text": [
      "Epoch 72 | Time 1481s| Train Loss 0.2747 | Train Acc 90.60| Val Loss 0.489 | Val Acc 83.60| Trigger Loss 0.000 | Trigger Acc 100.00\n"
     ]
    },
    {
     "name": "stderr",
     "output_type": "stream",
     "text": [
      "100%|██████████████████████████████████████████████████████████████████████████████| 156/156 [00:17<00:00,  8.75it/s]"
     ]
    },
    {
     "name": "stdout",
     "output_type": "stream",
     "text": [
      "Adjusting learning rate of group 0 to 1.0000e-09.\n"
     ]
    },
    {
     "name": "stderr",
     "output_type": "stream",
     "text": [
      "\n"
     ]
    },
    {
     "name": "stdout",
     "output_type": "stream",
     "text": [
      "Epoch 73 | Time 1502s| Train Loss 0.2761 | Train Acc 90.29| Val Loss 0.488 | Val Acc 83.75| Trigger Loss 0.001 | Trigger Acc 100.00\n"
     ]
    },
    {
     "name": "stderr",
     "output_type": "stream",
     "text": [
      "100%|██████████████████████████████████████████████████████████████████████████████| 156/156 [00:26<00:00,  5.86it/s]"
     ]
    },
    {
     "name": "stdout",
     "output_type": "stream",
     "text": [
      "Adjusting learning rate of group 0 to 1.0000e-09.\n"
     ]
    },
    {
     "name": "stderr",
     "output_type": "stream",
     "text": [
      "\n"
     ]
    },
    {
     "name": "stdout",
     "output_type": "stream",
     "text": [
      "Epoch 74 | Time 1531s| Train Loss 0.2770 | Train Acc 90.42| Val Loss 0.490 | Val Acc 83.66| Trigger Loss 0.000 | Trigger Acc 100.00\n"
     ]
    },
    {
     "name": "stderr",
     "output_type": "stream",
     "text": [
      "100%|██████████████████████████████████████████████████████████████████████████████| 156/156 [00:18<00:00,  8.56it/s]"
     ]
    },
    {
     "name": "stdout",
     "output_type": "stream",
     "text": [
      "Adjusting learning rate of group 0 to 1.0000e-09.\n"
     ]
    },
    {
     "name": "stderr",
     "output_type": "stream",
     "text": [
      "\n"
     ]
    },
    {
     "name": "stdout",
     "output_type": "stream",
     "text": [
      "Epoch 75 | Time 1552s| Train Loss 0.2763 | Train Acc 90.36| Val Loss 0.488 | Val Acc 83.69| Trigger Loss 0.001 | Trigger Acc 100.00\n"
     ]
    },
    {
     "name": "stderr",
     "output_type": "stream",
     "text": [
      "100%|██████████████████████████████████████████████████████████████████████████████| 156/156 [00:33<00:00,  4.63it/s]"
     ]
    },
    {
     "name": "stdout",
     "output_type": "stream",
     "text": [
      "Adjusting learning rate of group 0 to 1.0000e-09.\n"
     ]
    },
    {
     "name": "stderr",
     "output_type": "stream",
     "text": [
      "\n"
     ]
    },
    {
     "name": "stdout",
     "output_type": "stream",
     "text": [
      "Epoch 76 | Time 1589s| Train Loss 0.2761 | Train Acc 90.41| Val Loss 0.489 | Val Acc 83.52| Trigger Loss 0.001 | Trigger Acc 100.00\n"
     ]
    },
    {
     "name": "stderr",
     "output_type": "stream",
     "text": [
      "100%|██████████████████████████████████████████████████████████████████████████████| 156/156 [00:33<00:00,  4.63it/s]\n"
     ]
    },
    {
     "name": "stdout",
     "output_type": "stream",
     "text": [
      "Adjusting learning rate of group 0 to 1.0000e-09.\n",
      "Epoch 77 | Time 1626s| Train Loss 0.2758 | Train Acc 90.47| Val Loss 0.489 | Val Acc 83.59| Trigger Loss 0.001 | Trigger Acc 100.00\n"
     ]
    },
    {
     "name": "stderr",
     "output_type": "stream",
     "text": [
      "100%|██████████████████████████████████████████████████████████████████████████████| 156/156 [00:33<00:00,  4.63it/s]"
     ]
    },
    {
     "name": "stdout",
     "output_type": "stream",
     "text": [
      "Adjusting learning rate of group 0 to 1.0000e-09.\n"
     ]
    },
    {
     "name": "stderr",
     "output_type": "stream",
     "text": [
      "\n"
     ]
    },
    {
     "name": "stdout",
     "output_type": "stream",
     "text": [
      "Epoch 78 | Time 1663s| Train Loss 0.2751 | Train Acc 90.38| Val Loss 0.489 | Val Acc 83.64| Trigger Loss 0.001 | Trigger Acc 100.00\n"
     ]
    },
    {
     "name": "stderr",
     "output_type": "stream",
     "text": [
      "100%|██████████████████████████████████████████████████████████████████████████████| 156/156 [00:33<00:00,  4.72it/s]"
     ]
    },
    {
     "name": "stdout",
     "output_type": "stream",
     "text": [
      "Adjusting learning rate of group 0 to 1.0000e-10.\n"
     ]
    },
    {
     "name": "stderr",
     "output_type": "stream",
     "text": [
      "\n"
     ]
    },
    {
     "name": "stdout",
     "output_type": "stream",
     "text": [
      "Epoch 79 | Time 1700s| Train Loss 0.2777 | Train Acc 90.53| Val Loss 0.488 | Val Acc 83.72| Trigger Loss 0.001 | Trigger Acc 100.00\n"
     ]
    },
    {
     "data": {
      "text/plain": [
       "{'train_acc': [29.203688181056158,\n",
       "  49.32732606873429,\n",
       "  60.89480301760268,\n",
       "  67.30930427493713,\n",
       "  71.23009220452641,\n",
       "  73.86211232187762,\n",
       "  75.01886001676445,\n",
       "  76.01424979044425,\n",
       "  77.06412405699916,\n",
       "  77.53352891869237,\n",
       "  81.82942162615255,\n",
       "  83.57921207041072,\n",
       "  84.39228834870075,\n",
       "  85.04400670578374,\n",
       "  85.50502933780385,\n",
       "  85.82145850796311,\n",
       "  86.4103101424979,\n",
       "  86.61148365465213,\n",
       "  87.14375523889355,\n",
       "  87.53562447611064,\n",
       "  88.55196982397318,\n",
       "  88.79295892707461,\n",
       "  89.25398155909473,\n",
       "  89.26655490360436,\n",
       "  89.68357082984075,\n",
       "  89.58717518860017,\n",
       "  89.8281642917016,\n",
       "  89.8197820620285,\n",
       "  89.9685666387259,\n",
       "  89.93922883487008,\n",
       "  90.23889354568315,\n",
       "  90.12782900251467,\n",
       "  90.26823134953898,\n",
       "  90.29547359597653,\n",
       "  90.28499580888516,\n",
       "  90.21584241408215,\n",
       "  90.23889354568315,\n",
       "  90.16345347862531,\n",
       "  90.27032690695725,\n",
       "  90.34157585917855,\n",
       "  90.44006705783738,\n",
       "  90.46521374685666,\n",
       "  90.34576697401508,\n",
       "  90.23051131601005,\n",
       "  90.34995808885164,\n",
       "  90.53436714165967,\n",
       "  90.45054484492874,\n",
       "  90.39815590947192,\n",
       "  90.36462699077956,\n",
       "  90.32481139983236,\n",
       "  90.40863369656329,\n",
       "  90.52179379715004,\n",
       "  90.40444258172674,\n",
       "  90.32271584241408,\n",
       "  90.49245599329421,\n",
       "  90.41911148365466,\n",
       "  90.37720033528919,\n",
       "  90.40234702430847,\n",
       "  90.42539815590948,\n",
       "  90.31642917015927,\n",
       "  90.35834031852474,\n",
       "  90.45683151718357,\n",
       "  90.25565800502933,\n",
       "  90.38558256496228,\n",
       "  90.28918692372172,\n",
       "  90.30385582564962,\n",
       "  90.36253143336127,\n",
       "  90.44425817267393,\n",
       "  90.31223805532271,\n",
       "  90.47150041911148,\n",
       "  90.42749371332775,\n",
       "  90.42330259849119,\n",
       "  90.59723386420788,\n",
       "  90.28918692372172,\n",
       "  90.41911148365466,\n",
       "  90.35624476110645,\n",
       "  90.4149203688181,\n",
       "  90.46940486169322,\n",
       "  90.37929589270746,\n",
       "  90.53017602682314],\n",
       " 'train_loss': [1.9586318679747219,\n",
       "  1.420167777943991,\n",
       "  1.0981953635649429,\n",
       "  0.9288826074254483,\n",
       "  0.8269021450723807,\n",
       "  0.7499941440709779,\n",
       "  0.7140374680526699,\n",
       "  0.6881906022969555,\n",
       "  0.6653071803149314,\n",
       "  0.6466131668878221,\n",
       "  0.5207095182451599,\n",
       "  0.4725256101008932,\n",
       "  0.44694406016224686,\n",
       "  0.431193732156138,\n",
       "  0.4166885012003522,\n",
       "  0.4046149135635165,\n",
       "  0.38994414164854113,\n",
       "  0.38355373496881373,\n",
       "  0.37029292498030586,\n",
       "  0.35850664211338745,\n",
       "  0.330975848396386,\n",
       "  0.3189762024297898,\n",
       "  0.3091493083215619,\n",
       "  0.30679906251819217,\n",
       "  0.303165300978599,\n",
       "  0.2981797388230965,\n",
       "  0.292229722976085,\n",
       "  0.292145500493869,\n",
       "  0.28729056131285174,\n",
       "  0.28953434739883266,\n",
       "  0.28117986945974055,\n",
       "  0.2830233096339477,\n",
       "  0.2790192592211461,\n",
       "  0.2809229591029188,\n",
       "  0.27957499031998584,\n",
       "  0.27913072853905757,\n",
       "  0.278822479649991,\n",
       "  0.2792225487648891,\n",
       "  0.27915284074062274,\n",
       "  0.27950336555798116,\n",
       "  0.27400069202531413,\n",
       "  0.2769698520955276,\n",
       "  0.2777458391852571,\n",
       "  0.2789901279443867,\n",
       "  0.2794685482878897,\n",
       "  0.27629639802114964,\n",
       "  0.27467297999701973,\n",
       "  0.27572649108669084,\n",
       "  0.27647909776363067,\n",
       "  0.28036800340654866,\n",
       "  0.27812162517052386,\n",
       "  0.27444738420436887,\n",
       "  0.2758827273986066,\n",
       "  0.2793852965744823,\n",
       "  0.27654960712563165,\n",
       "  0.2776271145943824,\n",
       "  0.27680481248734284,\n",
       "  0.2769312415069027,\n",
       "  0.2759431084176121,\n",
       "  0.27964245455662745,\n",
       "  0.276442643007059,\n",
       "  0.2772598381801403,\n",
       "  0.2791826632976132,\n",
       "  0.27833560381056577,\n",
       "  0.27720753684552496,\n",
       "  0.2780963273804825,\n",
       "  0.2750054027226325,\n",
       "  0.27562062236958956,\n",
       "  0.2787580179885867,\n",
       "  0.27757203249699514,\n",
       "  0.27698270782441126,\n",
       "  0.27597924097685483,\n",
       "  0.2746920601932421,\n",
       "  0.27605905171611783,\n",
       "  0.2769954378114762,\n",
       "  0.2762730296491977,\n",
       "  0.27614143832905996,\n",
       "  0.2758167198372807,\n",
       "  0.2750576374829065,\n",
       "  0.2777392044900749],\n",
       " 'val_acc': [29.5,\n",
       "  37.480000000000004,\n",
       "  49.09,\n",
       "  57.95,\n",
       "  60.92999999999999,\n",
       "  47.21,\n",
       "  61.129999999999995,\n",
       "  66.75,\n",
       "  59.03,\n",
       "  63.94,\n",
       "  78.89,\n",
       "  79.45,\n",
       "  80.16,\n",
       "  80.58,\n",
       "  81.37,\n",
       "  81.21000000000001,\n",
       "  81.35,\n",
       "  81.66,\n",
       "  81.52000000000001,\n",
       "  82.14,\n",
       "  83.45,\n",
       "  83.52000000000001,\n",
       "  83.58,\n",
       "  83.5,\n",
       "  83.54,\n",
       "  83.54,\n",
       "  83.57,\n",
       "  83.56,\n",
       "  83.67999999999999,\n",
       "  83.54,\n",
       "  83.58,\n",
       "  83.64,\n",
       "  83.7,\n",
       "  83.52000000000001,\n",
       "  83.64,\n",
       "  83.62,\n",
       "  83.64,\n",
       "  83.67999999999999,\n",
       "  83.65,\n",
       "  83.62,\n",
       "  83.7,\n",
       "  83.6,\n",
       "  83.6,\n",
       "  83.71,\n",
       "  83.64,\n",
       "  83.63000000000001,\n",
       "  83.73,\n",
       "  83.65,\n",
       "  83.64,\n",
       "  83.67999999999999,\n",
       "  83.74000000000001,\n",
       "  83.66,\n",
       "  83.69,\n",
       "  83.65,\n",
       "  83.56,\n",
       "  83.65,\n",
       "  83.57,\n",
       "  83.67,\n",
       "  83.64,\n",
       "  83.69,\n",
       "  83.55,\n",
       "  83.58,\n",
       "  83.75,\n",
       "  83.76,\n",
       "  83.57,\n",
       "  83.64,\n",
       "  83.54,\n",
       "  83.66,\n",
       "  83.63000000000001,\n",
       "  83.69,\n",
       "  83.75,\n",
       "  83.65,\n",
       "  83.6,\n",
       "  83.75,\n",
       "  83.66,\n",
       "  83.69,\n",
       "  83.52000000000001,\n",
       "  83.59,\n",
       "  83.64,\n",
       "  83.72],\n",
       " 'val_loss': [1.9438546878814698,\n",
       "  1.8807349714279176,\n",
       "  1.4678203235626222,\n",
       "  1.232809192276001,\n",
       "  1.1113448578834533,\n",
       "  1.8734897102355956,\n",
       "  1.1521174773693084,\n",
       "  0.9812428791999817,\n",
       "  1.3670293031692504,\n",
       "  1.106677108001709,\n",
       "  0.6110922253608704,\n",
       "  0.5927742766618729,\n",
       "  0.574797042798996,\n",
       "  0.5709209896564483,\n",
       "  0.5526082476615906,\n",
       "  0.553439488863945,\n",
       "  0.5501928264141083,\n",
       "  0.5508197114467621,\n",
       "  0.5569799441814423,\n",
       "  0.5376873295664787,\n",
       "  0.5009922266960144,\n",
       "  0.49548880107402804,\n",
       "  0.4937680150747299,\n",
       "  0.49431704330444337,\n",
       "  0.4918429923534393,\n",
       "  0.4938444392204285,\n",
       "  0.4930262116909027,\n",
       "  0.49018265353441237,\n",
       "  0.4899765928030014,\n",
       "  0.4908295609474182,\n",
       "  0.4887536557435989,\n",
       "  0.48833289002180097,\n",
       "  0.4888742931723595,\n",
       "  0.4902726725101471,\n",
       "  0.4871550522565842,\n",
       "  0.48913607861995695,\n",
       "  0.4884706856012344,\n",
       "  0.4902231785774231,\n",
       "  0.488608070063591,\n",
       "  0.4895430643796921,\n",
       "  0.48869247809648514,\n",
       "  0.4870499941110611,\n",
       "  0.48815621950626376,\n",
       "  0.4884599974870682,\n",
       "  0.48789826748371123,\n",
       "  0.4879615300416946,\n",
       "  0.48782197904586794,\n",
       "  0.4874782499790192,\n",
       "  0.48660985238552096,\n",
       "  0.48848575689792634,\n",
       "  0.4867428496360779,\n",
       "  0.4884202320814133,\n",
       "  0.48839274965524676,\n",
       "  0.48818050110340117,\n",
       "  0.48761351006031034,\n",
       "  0.4880335339665413,\n",
       "  0.4888933955192566,\n",
       "  0.488547802567482,\n",
       "  0.48760702941417694,\n",
       "  0.4887920847654343,\n",
       "  0.48806470131874086,\n",
       "  0.48844413781166074,\n",
       "  0.4881235533475876,\n",
       "  0.48787008221149447,\n",
       "  0.4888880493164062,\n",
       "  0.4879359586715698,\n",
       "  0.4887502210140228,\n",
       "  0.48749873869419097,\n",
       "  0.4885717789411545,\n",
       "  0.4871393788576126,\n",
       "  0.48938783016204834,\n",
       "  0.48877431824207307,\n",
       "  0.48939531235694883,\n",
       "  0.4880335094690323,\n",
       "  0.4896613376379013,\n",
       "  0.48842659895420076,\n",
       "  0.48868574845790863,\n",
       "  0.48852064838409426,\n",
       "  0.4887117264032364,\n",
       "  0.48800660853385924],\n",
       " 'trigger_acc': [32.0,\n",
       "  61.0,\n",
       "  88.0,\n",
       "  98.0,\n",
       "  96.0,\n",
       "  91.0,\n",
       "  93.0,\n",
       "  95.0,\n",
       "  97.0,\n",
       "  95.0,\n",
       "  100.0,\n",
       "  100.0,\n",
       "  100.0,\n",
       "  100.0,\n",
       "  100.0,\n",
       "  100.0,\n",
       "  100.0,\n",
       "  100.0,\n",
       "  100.0,\n",
       "  100.0,\n",
       "  100.0,\n",
       "  100.0,\n",
       "  100.0,\n",
       "  100.0,\n",
       "  100.0,\n",
       "  100.0,\n",
       "  100.0,\n",
       "  100.0,\n",
       "  100.0,\n",
       "  100.0,\n",
       "  100.0,\n",
       "  100.0,\n",
       "  100.0,\n",
       "  100.0,\n",
       "  100.0,\n",
       "  100.0,\n",
       "  100.0,\n",
       "  100.0,\n",
       "  100.0,\n",
       "  100.0,\n",
       "  100.0,\n",
       "  100.0,\n",
       "  100.0,\n",
       "  100.0,\n",
       "  100.0,\n",
       "  100.0,\n",
       "  100.0,\n",
       "  100.0,\n",
       "  100.0,\n",
       "  100.0,\n",
       "  100.0,\n",
       "  100.0,\n",
       "  100.0,\n",
       "  100.0,\n",
       "  100.0,\n",
       "  100.0,\n",
       "  100.0,\n",
       "  100.0,\n",
       "  100.0,\n",
       "  100.0,\n",
       "  100.0,\n",
       "  100.0,\n",
       "  100.0,\n",
       "  100.0,\n",
       "  100.0,\n",
       "  100.0,\n",
       "  100.0,\n",
       "  100.0,\n",
       "  100.0,\n",
       "  100.0,\n",
       "  100.0,\n",
       "  100.0,\n",
       "  100.0,\n",
       "  100.0,\n",
       "  100.0,\n",
       "  100.0,\n",
       "  100.0,\n",
       "  100.0,\n",
       "  100.0,\n",
       "  100.0],\n",
       " 'trigger_loss': [1.9098438358306884,\n",
       "  1.3084863233566284,\n",
       "  0.3331641435623169,\n",
       "  0.10193721175193787,\n",
       "  0.16934104830026628,\n",
       "  0.23977783918380738,\n",
       "  0.22726094752550124,\n",
       "  0.1280939370393753,\n",
       "  0.12297613739967346,\n",
       "  0.15564167857170105,\n",
       "  0.0017948197573423386,\n",
       "  0.0016237794794142246,\n",
       "  0.001962151229381561,\n",
       "  0.0015862409956753254,\n",
       "  0.001294102077372372,\n",
       "  0.0023449454829096794,\n",
       "  0.0034072850551456215,\n",
       "  0.0018710343260318041,\n",
       "  0.0030190747790038584,\n",
       "  0.003206411441788077,\n",
       "  0.0007459497591480612,\n",
       "  0.0006141635123640299,\n",
       "  0.0006974199344404042,\n",
       "  0.0007224617619067431,\n",
       "  0.0006249058526009322,\n",
       "  0.0008055033115670085,\n",
       "  0.0006785674695856869,\n",
       "  0.000586487790569663,\n",
       "  0.0007337151770479977,\n",
       "  0.0007773108803667128,\n",
       "  0.0005760048259980977,\n",
       "  0.0006598617671988904,\n",
       "  0.0006090071029029786,\n",
       "  0.0004906393680721521,\n",
       "  0.0006030191201716661,\n",
       "  0.0005305861681699753,\n",
       "  0.0005462968326173722,\n",
       "  0.0004801830253563821,\n",
       "  0.0005698671902064234,\n",
       "  0.0005530051910318434,\n",
       "  0.00048467648215591905,\n",
       "  0.0005733418371528387,\n",
       "  0.0005261741485446691,\n",
       "  0.0005560606066137553,\n",
       "  0.0005404861154966056,\n",
       "  0.0005272457632236183,\n",
       "  0.0005499157775193452,\n",
       "  0.000525957285426557,\n",
       "  0.0006016788410488516,\n",
       "  0.0005487476754933595,\n",
       "  0.0005509950197301805,\n",
       "  0.0005303623632062226,\n",
       "  0.0005545002920553088,\n",
       "  0.0005301577062346041,\n",
       "  0.0005759788025170565,\n",
       "  0.0005587740894407034,\n",
       "  0.0005723623605445028,\n",
       "  0.0004941095260437578,\n",
       "  0.0005668228818103672,\n",
       "  0.0005488341837190092,\n",
       "  0.00050895661348477,\n",
       "  0.0005547315767034888,\n",
       "  0.0005343450792133808,\n",
       "  0.0005786372488364577,\n",
       "  0.0005007827957160771,\n",
       "  0.0005562721705064177,\n",
       "  0.0004956979351118207,\n",
       "  0.0005756265693344176,\n",
       "  0.000555363951716572,\n",
       "  0.0004902640241198242,\n",
       "  0.000569072652142495,\n",
       "  0.0004973443993367255,\n",
       "  0.0004948626691475511,\n",
       "  0.000566395225469023,\n",
       "  0.0004865770135074854,\n",
       "  0.0005519290594384074,\n",
       "  0.0005557722109369934,\n",
       "  0.0005125191295519471,\n",
       "  0.000549203148111701,\n",
       "  0.0005869358777999878]}"
      ]
     },
     "execution_count": 9,
     "metadata": {},
     "output_type": "execute_result"
    }
   ],
   "source": [
    "# normal watermark\n",
    "net = ResNet18()\n",
    "logcmt = f\"resnet18_8020_trigger_finetune\"\n",
    "net.load_state_dict(torch.load('checkpoints/resnet18_8020.ckpt'))\n",
    "optimizer = torch.optim.Adam(params=net.parameters(), lr=0.01, weight_decay=1e-4)\n",
    "criterion = nn.CrossEntropyLoss()\n",
    "scheduler = torch.optim.lr_scheduler.StepLR(optimizer, step_size=10, gamma=0.1, verbose=True)\n",
    "trainer = Trainer(net, criterion, optimizer, train_loader=trainloader, trigger_loader=wmloader, use_trigger=True, scheduler=scheduler)\n",
    "evaluator = Evaluator(net, criterion)\n",
    "train(trainer, evaluator, testloader, 80, 'checkpoints/resnet18_wm_8020_rand_lr0.01.ckpt',\n",
    "      logdir='./runs', logcmt=logcmt, trigger_loader=wmloader)"
   ]
  },
  {
   "cell_type": "markdown",
   "id": "e90f2d67-8454-42c9-94da-98e4121be5b1",
   "metadata": {},
   "source": [
    "Adversarial Sample Original Scheme"
   ]
  },
  {
   "cell_type": "code",
   "execution_count": 10,
   "id": "14b47549-2828-4454-aeeb-27da00842f96",
   "metadata": {},
   "outputs": [
    {
     "name": "stdout",
     "output_type": "stream",
     "text": [
      "Adjusting learning rate of group 0 to 1.0000e-02.\n",
      "Start Training...\n"
     ]
    },
    {
     "name": "stderr",
     "output_type": "stream",
     "text": [
      "100%|██████████████████████████████████████████████████████████████████████████████| 156/156 [00:33<00:00,  4.67it/s]\n"
     ]
    },
    {
     "name": "stdout",
     "output_type": "stream",
     "text": [
      "Adjusting learning rate of group 0 to 1.0000e-02.\n",
      "Epoch 0 | Time 36s| Train Loss 2.1074 | Train Acc 24.11| Val Loss 1.845 | Val Acc 32.64| Trigger Loss 1.713 | Trigger Acc 37.00\n"
     ]
    },
    {
     "name": "stderr",
     "output_type": "stream",
     "text": [
      "100%|██████████████████████████████████████████████████████████████████████████████| 156/156 [00:24<00:00,  6.36it/s]"
     ]
    },
    {
     "name": "stdout",
     "output_type": "stream",
     "text": [
      "Adjusting learning rate of group 0 to 1.0000e-02.\n"
     ]
    },
    {
     "name": "stderr",
     "output_type": "stream",
     "text": [
      "\n"
     ]
    },
    {
     "name": "stdout",
     "output_type": "stream",
     "text": [
      "Epoch 1 | Time 65s| Train Loss 1.4659 | Train Acc 47.81| Val Loss 1.732 | Val Acc 38.29| Trigger Loss 0.297 | Trigger Acc 97.00\n"
     ]
    },
    {
     "name": "stderr",
     "output_type": "stream",
     "text": [
      "100%|██████████████████████████████████████████████████████████████████████████████| 156/156 [00:20<00:00,  7.49it/s]"
     ]
    },
    {
     "name": "stdout",
     "output_type": "stream",
     "text": [
      "Adjusting learning rate of group 0 to 1.0000e-02.\n"
     ]
    },
    {
     "name": "stderr",
     "output_type": "stream",
     "text": [
      "\n"
     ]
    },
    {
     "name": "stdout",
     "output_type": "stream",
     "text": [
      "Epoch 2 | Time 90s| Train Loss 1.1703 | Train Acc 58.00| Val Loss 1.498 | Val Acc 47.41| Trigger Loss 0.360 | Trigger Acc 88.00\n"
     ]
    },
    {
     "name": "stderr",
     "output_type": "stream",
     "text": [
      "100%|██████████████████████████████████████████████████████████████████████████████| 156/156 [00:33<00:00,  4.62it/s]\n"
     ]
    },
    {
     "name": "stdout",
     "output_type": "stream",
     "text": [
      "Adjusting learning rate of group 0 to 1.0000e-02.\n",
      "Epoch 3 | Time 126s| Train Loss 1.0110 | Train Acc 63.94| Val Loss 1.319 | Val Acc 53.43| Trigger Loss 0.376 | Trigger Acc 89.00\n"
     ]
    },
    {
     "name": "stderr",
     "output_type": "stream",
     "text": [
      "100%|██████████████████████████████████████████████████████████████████████████████| 156/156 [00:33<00:00,  4.62it/s]"
     ]
    },
    {
     "name": "stdout",
     "output_type": "stream",
     "text": [
      "Adjusting learning rate of group 0 to 1.0000e-02.\n"
     ]
    },
    {
     "name": "stderr",
     "output_type": "stream",
     "text": [
      "\n"
     ]
    },
    {
     "name": "stdout",
     "output_type": "stream",
     "text": [
      "Epoch 4 | Time 163s| Train Loss 0.9021 | Train Acc 68.23| Val Loss 1.212 | Val Acc 59.06| Trigger Loss 0.144 | Trigger Acc 97.00\n"
     ]
    },
    {
     "name": "stderr",
     "output_type": "stream",
     "text": [
      "100%|██████████████████████████████████████████████████████████████████████████████| 156/156 [00:33<00:00,  4.63it/s]\n"
     ]
    },
    {
     "name": "stdout",
     "output_type": "stream",
     "text": [
      "Adjusting learning rate of group 0 to 1.0000e-02.\n",
      "Epoch 5 | Time 200s| Train Loss 0.8342 | Train Acc 70.77| Val Loss 1.145 | Val Acc 60.39| Trigger Loss 0.561 | Trigger Acc 81.00\n"
     ]
    },
    {
     "name": "stderr",
     "output_type": "stream",
     "text": [
      "100%|██████████████████████████████████████████████████████████████████████████████| 156/156 [00:33<00:00,  4.69it/s]\n"
     ]
    },
    {
     "name": "stdout",
     "output_type": "stream",
     "text": [
      "Adjusting learning rate of group 0 to 1.0000e-02.\n",
      "Epoch 6 | Time 237s| Train Loss 0.7740 | Train Acc 73.00| Val Loss 1.144 | Val Acc 62.02| Trigger Loss 0.121 | Trigger Acc 95.00\n"
     ]
    },
    {
     "name": "stderr",
     "output_type": "stream",
     "text": [
      "100%|██████████████████████████████████████████████████████████████████████████████| 156/156 [00:33<00:00,  4.73it/s]"
     ]
    },
    {
     "name": "stdout",
     "output_type": "stream",
     "text": [
      "Adjusting learning rate of group 0 to 1.0000e-02.\n"
     ]
    },
    {
     "name": "stderr",
     "output_type": "stream",
     "text": [
      "\n"
     ]
    },
    {
     "name": "stdout",
     "output_type": "stream",
     "text": [
      "Epoch 7 | Time 273s| Train Loss 0.7268 | Train Acc 74.48| Val Loss 1.048 | Val Acc 64.78| Trigger Loss 0.139 | Trigger Acc 94.00\n"
     ]
    },
    {
     "name": "stderr",
     "output_type": "stream",
     "text": [
      "100%|██████████████████████████████████████████████████████████████████████████████| 156/156 [00:23<00:00,  6.56it/s]"
     ]
    },
    {
     "name": "stdout",
     "output_type": "stream",
     "text": [
      "Adjusting learning rate of group 0 to 1.0000e-02.\n"
     ]
    },
    {
     "name": "stderr",
     "output_type": "stream",
     "text": [
      "\n"
     ]
    },
    {
     "name": "stdout",
     "output_type": "stream",
     "text": [
      "Epoch 8 | Time 299s| Train Loss 0.6902 | Train Acc 75.65| Val Loss 0.887 | Val Acc 69.53| Trigger Loss 0.202 | Trigger Acc 95.00\n"
     ]
    },
    {
     "name": "stderr",
     "output_type": "stream",
     "text": [
      "100%|██████████████████████████████████████████████████████████████████████████████| 156/156 [00:20<00:00,  7.49it/s]\n"
     ]
    },
    {
     "name": "stdout",
     "output_type": "stream",
     "text": [
      "Adjusting learning rate of group 0 to 1.0000e-03.\n",
      "Epoch 9 | Time 323s| Train Loss 0.6653 | Train Acc 76.87| Val Loss 1.056 | Val Acc 64.18| Trigger Loss 0.134 | Trigger Acc 93.00\n"
     ]
    },
    {
     "name": "stderr",
     "output_type": "stream",
     "text": [
      "100%|██████████████████████████████████████████████████████████████████████████████| 156/156 [00:33<00:00,  4.62it/s]"
     ]
    },
    {
     "name": "stdout",
     "output_type": "stream",
     "text": [
      "Adjusting learning rate of group 0 to 1.0000e-03.\n"
     ]
    },
    {
     "name": "stderr",
     "output_type": "stream",
     "text": [
      "\n"
     ]
    },
    {
     "name": "stdout",
     "output_type": "stream",
     "text": [
      "Epoch 10 | Time 360s| Train Loss 0.5418 | Train Acc 81.12| Val Loss 0.625 | Val Acc 78.39| Trigger Loss 0.002 | Trigger Acc 100.00\n"
     ]
    },
    {
     "name": "stderr",
     "output_type": "stream",
     "text": [
      "100%|██████████████████████████████████████████████████████████████████████████████| 156/156 [00:33<00:00,  4.62it/s]"
     ]
    },
    {
     "name": "stdout",
     "output_type": "stream",
     "text": [
      "Adjusting learning rate of group 0 to 1.0000e-03.\n"
     ]
    },
    {
     "name": "stderr",
     "output_type": "stream",
     "text": [
      "\n"
     ]
    },
    {
     "name": "stdout",
     "output_type": "stream",
     "text": [
      "Epoch 11 | Time 397s| Train Loss 0.4909 | Train Acc 82.69| Val Loss 0.602 | Val Acc 79.18| Trigger Loss 0.002 | Trigger Acc 100.00\n"
     ]
    },
    {
     "name": "stderr",
     "output_type": "stream",
     "text": [
      "100%|██████████████████████████████████████████████████████████████████████████████| 156/156 [00:33<00:00,  4.64it/s]\n"
     ]
    },
    {
     "name": "stdout",
     "output_type": "stream",
     "text": [
      "Adjusting learning rate of group 0 to 1.0000e-03.\n",
      "Epoch 12 | Time 434s| Train Loss 0.4622 | Train Acc 83.85| Val Loss 0.591 | Val Acc 80.00| Trigger Loss 0.001 | Trigger Acc 100.00\n"
     ]
    },
    {
     "name": "stderr",
     "output_type": "stream",
     "text": [
      "100%|██████████████████████████████████████████████████████████████████████████████| 156/156 [00:33<00:00,  4.71it/s]\n"
     ]
    },
    {
     "name": "stdout",
     "output_type": "stream",
     "text": [
      "Adjusting learning rate of group 0 to 1.0000e-03.\n",
      "Epoch 13 | Time 470s| Train Loss 0.4468 | Train Acc 84.36| Val Loss 0.584 | Val Acc 80.18| Trigger Loss 0.002 | Trigger Acc 100.00\n"
     ]
    },
    {
     "name": "stderr",
     "output_type": "stream",
     "text": [
      "100%|██████████████████████████████████████████████████████████████████████████████| 156/156 [00:33<00:00,  4.71it/s]"
     ]
    },
    {
     "name": "stdout",
     "output_type": "stream",
     "text": [
      "Adjusting learning rate of group 0 to 1.0000e-03.\n"
     ]
    },
    {
     "name": "stderr",
     "output_type": "stream",
     "text": [
      "\n"
     ]
    },
    {
     "name": "stdout",
     "output_type": "stream",
     "text": [
      "Epoch 14 | Time 507s| Train Loss 0.4353 | Train Acc 84.81| Val Loss 0.578 | Val Acc 80.18| Trigger Loss 0.003 | Trigger Acc 100.00\n"
     ]
    },
    {
     "name": "stderr",
     "output_type": "stream",
     "text": [
      "100%|██████████████████████████████████████████████████████████████████████████████| 156/156 [00:22<00:00,  6.94it/s]"
     ]
    },
    {
     "name": "stdout",
     "output_type": "stream",
     "text": [
      "Adjusting learning rate of group 0 to 1.0000e-03.\n"
     ]
    },
    {
     "name": "stderr",
     "output_type": "stream",
     "text": [
      "\n"
     ]
    },
    {
     "name": "stdout",
     "output_type": "stream",
     "text": [
      "Epoch 15 | Time 532s| Train Loss 0.4240 | Train Acc 85.11| Val Loss 0.579 | Val Acc 80.44| Trigger Loss 0.004 | Trigger Acc 100.00\n"
     ]
    },
    {
     "name": "stderr",
     "output_type": "stream",
     "text": [
      "100%|██████████████████████████████████████████████████████████████████████████████| 156/156 [00:22<00:00,  6.86it/s]\n"
     ]
    },
    {
     "name": "stdout",
     "output_type": "stream",
     "text": [
      "Adjusting learning rate of group 0 to 1.0000e-03.\n",
      "Epoch 16 | Time 558s| Train Loss 0.4106 | Train Acc 85.73| Val Loss 0.562 | Val Acc 80.84| Trigger Loss 0.002 | Trigger Acc 100.00\n"
     ]
    },
    {
     "name": "stderr",
     "output_type": "stream",
     "text": [
      "100%|██████████████████████████████████████████████████████████████████████████████| 156/156 [00:33<00:00,  4.63it/s]"
     ]
    },
    {
     "name": "stdout",
     "output_type": "stream",
     "text": [
      "Adjusting learning rate of group 0 to 1.0000e-03.\n"
     ]
    },
    {
     "name": "stderr",
     "output_type": "stream",
     "text": [
      "\n"
     ]
    },
    {
     "name": "stdout",
     "output_type": "stream",
     "text": [
      "Epoch 17 | Time 595s| Train Loss 0.3985 | Train Acc 86.13| Val Loss 0.559 | Val Acc 80.81| Trigger Loss 0.001 | Trigger Acc 100.00\n"
     ]
    },
    {
     "name": "stderr",
     "output_type": "stream",
     "text": [
      "100%|██████████████████████████████████████████████████████████████████████████████| 156/156 [00:33<00:00,  4.64it/s]"
     ]
    },
    {
     "name": "stdout",
     "output_type": "stream",
     "text": [
      "Adjusting learning rate of group 0 to 1.0000e-03.\n"
     ]
    },
    {
     "name": "stderr",
     "output_type": "stream",
     "text": [
      "\n"
     ]
    },
    {
     "name": "stdout",
     "output_type": "stream",
     "text": [
      "Epoch 18 | Time 632s| Train Loss 0.3889 | Train Acc 86.46| Val Loss 0.572 | Val Acc 80.52| Trigger Loss 0.003 | Trigger Acc 100.00\n"
     ]
    },
    {
     "name": "stderr",
     "output_type": "stream",
     "text": [
      "100%|██████████████████████████████████████████████████████████████████████████████| 156/156 [00:33<00:00,  4.65it/s]"
     ]
    },
    {
     "name": "stdout",
     "output_type": "stream",
     "text": [
      "Adjusting learning rate of group 0 to 1.0000e-04.\n"
     ]
    },
    {
     "name": "stderr",
     "output_type": "stream",
     "text": [
      "\n"
     ]
    },
    {
     "name": "stdout",
     "output_type": "stream",
     "text": [
      "Epoch 19 | Time 669s| Train Loss 0.3817 | Train Acc 86.66| Val Loss 0.546 | Val Acc 81.10| Trigger Loss 0.003 | Trigger Acc 100.00\n"
     ]
    },
    {
     "name": "stderr",
     "output_type": "stream",
     "text": [
      "100%|██████████████████████████████████████████████████████████████████████████████| 156/156 [00:33<00:00,  4.71it/s]\n"
     ]
    },
    {
     "name": "stdout",
     "output_type": "stream",
     "text": [
      "Adjusting learning rate of group 0 to 1.0000e-04.\n",
      "Epoch 20 | Time 705s| Train Loss 0.3464 | Train Acc 88.04| Val Loss 0.517 | Val Acc 82.34| Trigger Loss 0.001 | Trigger Acc 100.00\n"
     ]
    },
    {
     "name": "stderr",
     "output_type": "stream",
     "text": [
      "100%|██████████████████████████████████████████████████████████████████████████████| 156/156 [00:33<00:00,  4.70it/s]"
     ]
    },
    {
     "name": "stdout",
     "output_type": "stream",
     "text": [
      "Adjusting learning rate of group 0 to 1.0000e-04.\n"
     ]
    },
    {
     "name": "stderr",
     "output_type": "stream",
     "text": [
      "\n"
     ]
    },
    {
     "name": "stdout",
     "output_type": "stream",
     "text": [
      "Epoch 21 | Time 742s| Train Loss 0.3350 | Train Acc 88.37| Val Loss 0.516 | Val Acc 82.44| Trigger Loss 0.001 | Trigger Acc 100.00\n"
     ]
    },
    {
     "name": "stderr",
     "output_type": "stream",
     "text": [
      "100%|██████████████████████████████████████████████████████████████████████████████| 156/156 [00:20<00:00,  7.63it/s]"
     ]
    },
    {
     "name": "stdout",
     "output_type": "stream",
     "text": [
      "Adjusting learning rate of group 0 to 1.0000e-04.\n"
     ]
    },
    {
     "name": "stderr",
     "output_type": "stream",
     "text": [
      "\n"
     ]
    },
    {
     "name": "stdout",
     "output_type": "stream",
     "text": [
      "Epoch 22 | Time 765s| Train Loss 0.3277 | Train Acc 88.51| Val Loss 0.513 | Val Acc 82.50| Trigger Loss 0.001 | Trigger Acc 100.00\n"
     ]
    },
    {
     "name": "stderr",
     "output_type": "stream",
     "text": [
      "100%|██████████████████████████████████████████████████████████████████████████████| 156/156 [00:24<00:00,  6.47it/s]"
     ]
    },
    {
     "name": "stdout",
     "output_type": "stream",
     "text": [
      "Adjusting learning rate of group 0 to 1.0000e-04.\n"
     ]
    },
    {
     "name": "stderr",
     "output_type": "stream",
     "text": [
      "\n"
     ]
    },
    {
     "name": "stdout",
     "output_type": "stream",
     "text": [
      "Epoch 23 | Time 793s| Train Loss 0.3230 | Train Acc 88.73| Val Loss 0.513 | Val Acc 82.66| Trigger Loss 0.001 | Trigger Acc 100.00\n"
     ]
    },
    {
     "name": "stderr",
     "output_type": "stream",
     "text": [
      "100%|██████████████████████████████████████████████████████████████████████████████| 156/156 [00:33<00:00,  4.62it/s]\n"
     ]
    },
    {
     "name": "stdout",
     "output_type": "stream",
     "text": [
      "Adjusting learning rate of group 0 to 1.0000e-04.\n",
      "Epoch 24 | Time 830s| Train Loss 0.3212 | Train Acc 88.70| Val Loss 0.511 | Val Acc 82.73| Trigger Loss 0.001 | Trigger Acc 100.00\n"
     ]
    },
    {
     "name": "stderr",
     "output_type": "stream",
     "text": [
      "100%|██████████████████████████████████████████████████████████████████████████████| 156/156 [00:33<00:00,  4.63it/s]"
     ]
    },
    {
     "name": "stdout",
     "output_type": "stream",
     "text": [
      "Adjusting learning rate of group 0 to 1.0000e-04.\n"
     ]
    },
    {
     "name": "stderr",
     "output_type": "stream",
     "text": [
      "\n"
     ]
    },
    {
     "name": "stdout",
     "output_type": "stream",
     "text": [
      "Epoch 25 | Time 867s| Train Loss 0.3167 | Train Acc 88.97| Val Loss 0.512 | Val Acc 82.85| Trigger Loss 0.001 | Trigger Acc 100.00\n"
     ]
    },
    {
     "name": "stderr",
     "output_type": "stream",
     "text": [
      "100%|██████████████████████████████████████████████████████████████████████████████| 156/156 [00:33<00:00,  4.66it/s]\n"
     ]
    },
    {
     "name": "stdout",
     "output_type": "stream",
     "text": [
      "Adjusting learning rate of group 0 to 1.0000e-04.\n",
      "Epoch 26 | Time 904s| Train Loss 0.3146 | Train Acc 89.11| Val Loss 0.508 | Val Acc 83.01| Trigger Loss 0.001 | Trigger Acc 100.00\n"
     ]
    },
    {
     "name": "stderr",
     "output_type": "stream",
     "text": [
      "100%|██████████████████████████████████████████████████████████████████████████████| 156/156 [00:33<00:00,  4.72it/s]\n"
     ]
    },
    {
     "name": "stdout",
     "output_type": "stream",
     "text": [
      "Adjusting learning rate of group 0 to 1.0000e-04.\n",
      "Epoch 27 | Time 940s| Train Loss 0.3108 | Train Acc 89.36| Val Loss 0.508 | Val Acc 82.85| Trigger Loss 0.001 | Trigger Acc 100.00\n"
     ]
    },
    {
     "name": "stderr",
     "output_type": "stream",
     "text": [
      "100%|██████████████████████████████████████████████████████████████████████████████| 156/156 [00:33<00:00,  4.66it/s]"
     ]
    },
    {
     "name": "stdout",
     "output_type": "stream",
     "text": [
      "Adjusting learning rate of group 0 to 1.0000e-04.\n"
     ]
    },
    {
     "name": "stderr",
     "output_type": "stream",
     "text": [
      "\n"
     ]
    },
    {
     "name": "stdout",
     "output_type": "stream",
     "text": [
      "Epoch 28 | Time 977s| Train Loss 0.3073 | Train Acc 89.25| Val Loss 0.510 | Val Acc 82.83| Trigger Loss 0.001 | Trigger Acc 100.00\n"
     ]
    },
    {
     "name": "stderr",
     "output_type": "stream",
     "text": [
      "100%|██████████████████████████████████████████████████████████████████████████████| 156/156 [00:18<00:00,  8.34it/s]"
     ]
    },
    {
     "name": "stdout",
     "output_type": "stream",
     "text": [
      "Adjusting learning rate of group 0 to 1.0000e-05.\n"
     ]
    },
    {
     "name": "stderr",
     "output_type": "stream",
     "text": [
      "\n"
     ]
    },
    {
     "name": "stdout",
     "output_type": "stream",
     "text": [
      "Epoch 29 | Time 998s| Train Loss 0.3050 | Train Acc 89.35| Val Loss 0.511 | Val Acc 82.86| Trigger Loss 0.001 | Trigger Acc 100.00\n"
     ]
    },
    {
     "name": "stderr",
     "output_type": "stream",
     "text": [
      "100%|██████████████████████████████████████████████████████████████████████████████| 156/156 [00:25<00:00,  6.02it/s]\n"
     ]
    },
    {
     "name": "stdout",
     "output_type": "stream",
     "text": [
      "Adjusting learning rate of group 0 to 1.0000e-05.\n",
      "Epoch 30 | Time 1028s| Train Loss 0.2996 | Train Acc 89.69| Val Loss 0.511 | Val Acc 82.97| Trigger Loss 0.001 | Trigger Acc 100.00\n"
     ]
    },
    {
     "name": "stderr",
     "output_type": "stream",
     "text": [
      "100%|██████████████████████████████████████████████████████████████████████████████| 156/156 [00:33<00:00,  4.63it/s]"
     ]
    },
    {
     "name": "stdout",
     "output_type": "stream",
     "text": [
      "Adjusting learning rate of group 0 to 1.0000e-05.\n"
     ]
    },
    {
     "name": "stderr",
     "output_type": "stream",
     "text": [
      "\n"
     ]
    },
    {
     "name": "stdout",
     "output_type": "stream",
     "text": [
      "Epoch 31 | Time 1065s| Train Loss 0.2988 | Train Acc 89.53| Val Loss 0.509 | Val Acc 83.02| Trigger Loss 0.001 | Trigger Acc 100.00\n"
     ]
    },
    {
     "name": "stderr",
     "output_type": "stream",
     "text": [
      "100%|██████████████████████████████████████████████████████████████████████████████| 156/156 [00:33<00:00,  4.64it/s]\n"
     ]
    },
    {
     "name": "stdout",
     "output_type": "stream",
     "text": [
      "Adjusting learning rate of group 0 to 1.0000e-05.\n",
      "Epoch 32 | Time 1102s| Train Loss 0.2968 | Train Acc 89.72| Val Loss 0.508 | Val Acc 83.00| Trigger Loss 0.001 | Trigger Acc 100.00\n"
     ]
    },
    {
     "name": "stderr",
     "output_type": "stream",
     "text": [
      "100%|██████████████████████████████████████████████████████████████████████████████| 156/156 [00:33<00:00,  4.67it/s]"
     ]
    },
    {
     "name": "stdout",
     "output_type": "stream",
     "text": [
      "Adjusting learning rate of group 0 to 1.0000e-05.\n"
     ]
    },
    {
     "name": "stderr",
     "output_type": "stream",
     "text": [
      "\n"
     ]
    },
    {
     "name": "stdout",
     "output_type": "stream",
     "text": [
      "Epoch 33 | Time 1138s| Train Loss 0.2960 | Train Acc 89.78| Val Loss 0.508 | Val Acc 83.01| Trigger Loss 0.001 | Trigger Acc 100.00\n"
     ]
    },
    {
     "name": "stderr",
     "output_type": "stream",
     "text": [
      "100%|██████████████████████████████████████████████████████████████████████████████| 156/156 [00:33<00:00,  4.71it/s]\n"
     ]
    },
    {
     "name": "stdout",
     "output_type": "stream",
     "text": [
      "Adjusting learning rate of group 0 to 1.0000e-05.\n",
      "Epoch 34 | Time 1175s| Train Loss 0.2959 | Train Acc 89.68| Val Loss 0.509 | Val Acc 83.16| Trigger Loss 0.001 | Trigger Acc 100.00\n"
     ]
    },
    {
     "name": "stderr",
     "output_type": "stream",
     "text": [
      "100%|██████████████████████████████████████████████████████████████████████████████| 156/156 [00:33<00:00,  4.65it/s]"
     ]
    },
    {
     "name": "stdout",
     "output_type": "stream",
     "text": [
      "Adjusting learning rate of group 0 to 1.0000e-05.\n"
     ]
    },
    {
     "name": "stderr",
     "output_type": "stream",
     "text": [
      "\n"
     ]
    },
    {
     "name": "stdout",
     "output_type": "stream",
     "text": [
      "Epoch 35 | Time 1212s| Train Loss 0.2980 | Train Acc 89.59| Val Loss 0.508 | Val Acc 83.09| Trigger Loss 0.001 | Trigger Acc 100.00\n"
     ]
    },
    {
     "name": "stderr",
     "output_type": "stream",
     "text": [
      "100%|██████████████████████████████████████████████████████████████████████████████| 156/156 [00:17<00:00,  8.74it/s]"
     ]
    },
    {
     "name": "stdout",
     "output_type": "stream",
     "text": [
      "Adjusting learning rate of group 0 to 1.0000e-05.\n"
     ]
    },
    {
     "name": "stderr",
     "output_type": "stream",
     "text": [
      "\n"
     ]
    },
    {
     "name": "stdout",
     "output_type": "stream",
     "text": [
      "Epoch 36 | Time 1232s| Train Loss 0.2960 | Train Acc 89.70| Val Loss 0.507 | Val Acc 82.98| Trigger Loss 0.001 | Trigger Acc 100.00\n"
     ]
    },
    {
     "name": "stderr",
     "output_type": "stream",
     "text": [
      "100%|██████████████████████████████████████████████████████████████████████████████| 156/156 [00:27<00:00,  5.71it/s]"
     ]
    },
    {
     "name": "stdout",
     "output_type": "stream",
     "text": [
      "Adjusting learning rate of group 0 to 1.0000e-05.\n"
     ]
    },
    {
     "name": "stderr",
     "output_type": "stream",
     "text": [
      "\n"
     ]
    },
    {
     "name": "stdout",
     "output_type": "stream",
     "text": [
      "Epoch 37 | Time 1263s| Train Loss 0.2944 | Train Acc 89.76| Val Loss 0.507 | Val Acc 82.95| Trigger Loss 0.001 | Trigger Acc 100.00\n"
     ]
    },
    {
     "name": "stderr",
     "output_type": "stream",
     "text": [
      "100%|██████████████████████████████████████████████████████████████████████████████| 156/156 [00:33<00:00,  4.64it/s]\n"
     ]
    },
    {
     "name": "stdout",
     "output_type": "stream",
     "text": [
      "Adjusting learning rate of group 0 to 1.0000e-05.\n",
      "Epoch 38 | Time 1300s| Train Loss 0.2943 | Train Acc 89.77| Val Loss 0.507 | Val Acc 82.94| Trigger Loss 0.001 | Trigger Acc 100.00\n"
     ]
    },
    {
     "name": "stderr",
     "output_type": "stream",
     "text": [
      "100%|██████████████████████████████████████████████████████████████████████████████| 156/156 [00:33<00:00,  4.63it/s]"
     ]
    },
    {
     "name": "stdout",
     "output_type": "stream",
     "text": [
      "Adjusting learning rate of group 0 to 1.0000e-06.\n"
     ]
    },
    {
     "name": "stderr",
     "output_type": "stream",
     "text": [
      "\n"
     ]
    },
    {
     "name": "stdout",
     "output_type": "stream",
     "text": [
      "Epoch 39 | Time 1337s| Train Loss 0.2948 | Train Acc 89.69| Val Loss 0.509 | Val Acc 83.05| Trigger Loss 0.001 | Trigger Acc 100.00\n"
     ]
    },
    {
     "name": "stderr",
     "output_type": "stream",
     "text": [
      "100%|██████████████████████████████████████████████████████████████████████████████| 156/156 [00:33<00:00,  4.66it/s]"
     ]
    },
    {
     "name": "stdout",
     "output_type": "stream",
     "text": [
      "Adjusting learning rate of group 0 to 1.0000e-06.\n"
     ]
    },
    {
     "name": "stderr",
     "output_type": "stream",
     "text": [
      "\n"
     ]
    },
    {
     "name": "stdout",
     "output_type": "stream",
     "text": [
      "Epoch 40 | Time 1374s| Train Loss 0.2926 | Train Acc 89.96| Val Loss 0.507 | Val Acc 83.03| Trigger Loss 0.001 | Trigger Acc 100.00\n"
     ]
    },
    {
     "name": "stderr",
     "output_type": "stream",
     "text": [
      "100%|██████████████████████████████████████████████████████████████████████████████| 156/156 [00:33<00:00,  4.71it/s]"
     ]
    },
    {
     "name": "stdout",
     "output_type": "stream",
     "text": [
      "Adjusting learning rate of group 0 to 1.0000e-06.\n"
     ]
    },
    {
     "name": "stderr",
     "output_type": "stream",
     "text": [
      "\n"
     ]
    },
    {
     "name": "stdout",
     "output_type": "stream",
     "text": [
      "Epoch 41 | Time 1411s| Train Loss 0.2933 | Train Acc 89.69| Val Loss 0.507 | Val Acc 83.01| Trigger Loss 0.001 | Trigger Acc 100.00\n"
     ]
    },
    {
     "name": "stderr",
     "output_type": "stream",
     "text": [
      "100%|██████████████████████████████████████████████████████████████████████████████| 156/156 [00:33<00:00,  4.63it/s]"
     ]
    },
    {
     "name": "stdout",
     "output_type": "stream",
     "text": [
      "Adjusting learning rate of group 0 to 1.0000e-06.\n"
     ]
    },
    {
     "name": "stderr",
     "output_type": "stream",
     "text": [
      "\n"
     ]
    },
    {
     "name": "stdout",
     "output_type": "stream",
     "text": [
      "Epoch 42 | Time 1447s| Train Loss 0.2960 | Train Acc 89.76| Val Loss 0.508 | Val Acc 83.00| Trigger Loss 0.001 | Trigger Acc 100.00\n"
     ]
    },
    {
     "name": "stderr",
     "output_type": "stream",
     "text": [
      "100%|██████████████████████████████████████████████████████████████████████████████| 156/156 [00:17<00:00,  8.70it/s]"
     ]
    },
    {
     "name": "stdout",
     "output_type": "stream",
     "text": [
      "Adjusting learning rate of group 0 to 1.0000e-06.\n"
     ]
    },
    {
     "name": "stderr",
     "output_type": "stream",
     "text": [
      "\n"
     ]
    },
    {
     "name": "stdout",
     "output_type": "stream",
     "text": [
      "Epoch 43 | Time 1468s| Train Loss 0.2949 | Train Acc 89.71| Val Loss 0.508 | Val Acc 82.95| Trigger Loss 0.001 | Trigger Acc 100.00\n"
     ]
    },
    {
     "name": "stderr",
     "output_type": "stream",
     "text": [
      "100%|██████████████████████████████████████████████████████████████████████████████| 156/156 [00:29<00:00,  5.26it/s]"
     ]
    },
    {
     "name": "stdout",
     "output_type": "stream",
     "text": [
      "Adjusting learning rate of group 0 to 1.0000e-06.\n"
     ]
    },
    {
     "name": "stderr",
     "output_type": "stream",
     "text": [
      "\n"
     ]
    },
    {
     "name": "stdout",
     "output_type": "stream",
     "text": [
      "Epoch 44 | Time 1501s| Train Loss 0.2942 | Train Acc 89.83| Val Loss 0.509 | Val Acc 82.95| Trigger Loss 0.001 | Trigger Acc 100.00\n"
     ]
    },
    {
     "name": "stderr",
     "output_type": "stream",
     "text": [
      "100%|██████████████████████████████████████████████████████████████████████████████| 156/156 [00:33<00:00,  4.64it/s]\n"
     ]
    },
    {
     "name": "stdout",
     "output_type": "stream",
     "text": [
      "Adjusting learning rate of group 0 to 1.0000e-06.\n",
      "Epoch 45 | Time 1538s| Train Loss 0.2938 | Train Acc 89.67| Val Loss 0.508 | Val Acc 83.01| Trigger Loss 0.001 | Trigger Acc 100.00\n"
     ]
    },
    {
     "name": "stderr",
     "output_type": "stream",
     "text": [
      "100%|██████████████████████████████████████████████████████████████████████████████| 156/156 [00:33<00:00,  4.64it/s]\n"
     ]
    },
    {
     "name": "stdout",
     "output_type": "stream",
     "text": [
      "Adjusting learning rate of group 0 to 1.0000e-06.\n",
      "Epoch 46 | Time 1575s| Train Loss 0.2955 | Train Acc 89.69| Val Loss 0.507 | Val Acc 83.04| Trigger Loss 0.001 | Trigger Acc 100.00\n"
     ]
    },
    {
     "name": "stderr",
     "output_type": "stream",
     "text": [
      "100%|██████████████████████████████████████████████████████████████████████████████| 156/156 [00:33<00:00,  4.68it/s]"
     ]
    },
    {
     "name": "stdout",
     "output_type": "stream",
     "text": [
      "Adjusting learning rate of group 0 to 1.0000e-06.\n"
     ]
    },
    {
     "name": "stderr",
     "output_type": "stream",
     "text": [
      "\n"
     ]
    },
    {
     "name": "stdout",
     "output_type": "stream",
     "text": [
      "Epoch 47 | Time 1611s| Train Loss 0.2932 | Train Acc 89.71| Val Loss 0.508 | Val Acc 82.98| Trigger Loss 0.001 | Trigger Acc 100.00\n"
     ]
    },
    {
     "name": "stderr",
     "output_type": "stream",
     "text": [
      "100%|██████████████████████████████████████████████████████████████████████████████| 156/156 [00:33<00:00,  4.71it/s]\n"
     ]
    },
    {
     "name": "stdout",
     "output_type": "stream",
     "text": [
      "Adjusting learning rate of group 0 to 1.0000e-06.\n",
      "Epoch 48 | Time 1648s| Train Loss 0.2946 | Train Acc 89.79| Val Loss 0.507 | Val Acc 83.13| Trigger Loss 0.001 | Trigger Acc 100.00\n"
     ]
    },
    {
     "name": "stderr",
     "output_type": "stream",
     "text": [
      "100%|██████████████████████████████████████████████████████████████████████████████| 156/156 [00:31<00:00,  4.94it/s]"
     ]
    },
    {
     "name": "stdout",
     "output_type": "stream",
     "text": [
      "Adjusting learning rate of group 0 to 1.0000e-07.\n"
     ]
    },
    {
     "name": "stderr",
     "output_type": "stream",
     "text": [
      "\n"
     ]
    },
    {
     "name": "stdout",
     "output_type": "stream",
     "text": [
      "Epoch 49 | Time 1682s| Train Loss 0.2962 | Train Acc 89.45| Val Loss 0.507 | Val Acc 83.00| Trigger Loss 0.001 | Trigger Acc 100.00\n"
     ]
    },
    {
     "name": "stderr",
     "output_type": "stream",
     "text": [
      "100%|██████████████████████████████████████████████████████████████████████████████| 156/156 [00:17<00:00,  8.77it/s]"
     ]
    },
    {
     "name": "stdout",
     "output_type": "stream",
     "text": [
      "Adjusting learning rate of group 0 to 1.0000e-07.\n"
     ]
    },
    {
     "name": "stderr",
     "output_type": "stream",
     "text": [
      "\n"
     ]
    },
    {
     "name": "stdout",
     "output_type": "stream",
     "text": [
      "Epoch 50 | Time 1703s| Train Loss 0.2956 | Train Acc 89.73| Val Loss 0.508 | Val Acc 82.92| Trigger Loss 0.001 | Trigger Acc 100.00\n"
     ]
    },
    {
     "name": "stderr",
     "output_type": "stream",
     "text": [
      "100%|██████████████████████████████████████████████████████████████████████████████| 156/156 [00:31<00:00,  4.98it/s]\n"
     ]
    },
    {
     "name": "stdout",
     "output_type": "stream",
     "text": [
      "Adjusting learning rate of group 0 to 1.0000e-07.\n",
      "Epoch 51 | Time 1737s| Train Loss 0.2938 | Train Acc 89.73| Val Loss 0.508 | Val Acc 82.91| Trigger Loss 0.001 | Trigger Acc 100.00\n"
     ]
    },
    {
     "name": "stderr",
     "output_type": "stream",
     "text": [
      "100%|██████████████████████████████████████████████████████████████████████████████| 156/156 [00:33<00:00,  4.63it/s]\n"
     ]
    },
    {
     "name": "stdout",
     "output_type": "stream",
     "text": [
      "Adjusting learning rate of group 0 to 1.0000e-07.\n",
      "Epoch 52 | Time 1775s| Train Loss 0.2939 | Train Acc 89.76| Val Loss 0.507 | Val Acc 82.98| Trigger Loss 0.001 | Trigger Acc 100.00\n"
     ]
    },
    {
     "name": "stderr",
     "output_type": "stream",
     "text": [
      "100%|██████████████████████████████████████████████████████████████████████████████| 156/156 [00:33<00:00,  4.64it/s]"
     ]
    },
    {
     "name": "stdout",
     "output_type": "stream",
     "text": [
      "Adjusting learning rate of group 0 to 1.0000e-07.\n"
     ]
    },
    {
     "name": "stderr",
     "output_type": "stream",
     "text": [
      "\n"
     ]
    },
    {
     "name": "stdout",
     "output_type": "stream",
     "text": [
      "Epoch 53 | Time 1811s| Train Loss 0.2928 | Train Acc 89.88| Val Loss 0.507 | Val Acc 83.03| Trigger Loss 0.001 | Trigger Acc 100.00\n"
     ]
    },
    {
     "name": "stderr",
     "output_type": "stream",
     "text": [
      "100%|██████████████████████████████████████████████████████████████████████████████| 156/156 [00:33<00:00,  4.70it/s]"
     ]
    },
    {
     "name": "stdout",
     "output_type": "stream",
     "text": [
      "Adjusting learning rate of group 0 to 1.0000e-07.\n"
     ]
    },
    {
     "name": "stderr",
     "output_type": "stream",
     "text": [
      "\n"
     ]
    },
    {
     "name": "stdout",
     "output_type": "stream",
     "text": [
      "Epoch 54 | Time 1848s| Train Loss 0.2960 | Train Acc 89.83| Val Loss 0.507 | Val Acc 83.02| Trigger Loss 0.001 | Trigger Acc 100.00\n"
     ]
    },
    {
     "name": "stderr",
     "output_type": "stream",
     "text": [
      "100%|██████████████████████████████████████████████████████████████████████████████| 156/156 [00:33<00:00,  4.71it/s]\n"
     ]
    },
    {
     "name": "stdout",
     "output_type": "stream",
     "text": [
      "Adjusting learning rate of group 0 to 1.0000e-07.\n",
      "Epoch 55 | Time 1884s| Train Loss 0.2913 | Train Acc 89.90| Val Loss 0.507 | Val Acc 83.12| Trigger Loss 0.001 | Trigger Acc 100.00\n"
     ]
    },
    {
     "name": "stderr",
     "output_type": "stream",
     "text": [
      "100%|██████████████████████████████████████████████████████████████████████████████| 156/156 [00:29<00:00,  5.22it/s]"
     ]
    },
    {
     "name": "stdout",
     "output_type": "stream",
     "text": [
      "Adjusting learning rate of group 0 to 1.0000e-07.\n"
     ]
    },
    {
     "name": "stderr",
     "output_type": "stream",
     "text": [
      "\n"
     ]
    },
    {
     "name": "stdout",
     "output_type": "stream",
     "text": [
      "Epoch 56 | Time 1917s| Train Loss 0.2916 | Train Acc 89.74| Val Loss 0.507 | Val Acc 82.97| Trigger Loss 0.001 | Trigger Acc 100.00\n"
     ]
    },
    {
     "name": "stderr",
     "output_type": "stream",
     "text": [
      "100%|██████████████████████████████████████████████████████████████████████████████| 156/156 [00:17<00:00,  8.73it/s]"
     ]
    },
    {
     "name": "stdout",
     "output_type": "stream",
     "text": [
      "Adjusting learning rate of group 0 to 1.0000e-07.\n"
     ]
    },
    {
     "name": "stderr",
     "output_type": "stream",
     "text": [
      "\n"
     ]
    },
    {
     "name": "stdout",
     "output_type": "stream",
     "text": [
      "Epoch 57 | Time 1937s| Train Loss 0.2916 | Train Acc 89.82| Val Loss 0.508 | Val Acc 82.99| Trigger Loss 0.001 | Trigger Acc 100.00\n"
     ]
    },
    {
     "name": "stderr",
     "output_type": "stream",
     "text": [
      "100%|██████████████████████████████████████████████████████████████████████████████| 156/156 [00:32<00:00,  4.75it/s]"
     ]
    },
    {
     "name": "stdout",
     "output_type": "stream",
     "text": [
      "Adjusting learning rate of group 0 to 1.0000e-07.\n"
     ]
    },
    {
     "name": "stderr",
     "output_type": "stream",
     "text": [
      "\n"
     ]
    },
    {
     "name": "stdout",
     "output_type": "stream",
     "text": [
      "Epoch 58 | Time 1974s| Train Loss 0.2938 | Train Acc 89.91| Val Loss 0.508 | Val Acc 82.99| Trigger Loss 0.001 | Trigger Acc 100.00\n"
     ]
    },
    {
     "name": "stderr",
     "output_type": "stream",
     "text": [
      "100%|██████████████████████████████████████████████████████████████████████████████| 156/156 [00:33<00:00,  4.63it/s]\n"
     ]
    },
    {
     "name": "stdout",
     "output_type": "stream",
     "text": [
      "Adjusting learning rate of group 0 to 1.0000e-08.\n",
      "Epoch 59 | Time 2011s| Train Loss 0.2961 | Train Acc 89.78| Val Loss 0.508 | Val Acc 83.02| Trigger Loss 0.001 | Trigger Acc 100.00\n"
     ]
    },
    {
     "name": "stderr",
     "output_type": "stream",
     "text": [
      "100%|██████████████████████████████████████████████████████████████████████████████| 156/156 [00:33<00:00,  4.63it/s]"
     ]
    },
    {
     "name": "stdout",
     "output_type": "stream",
     "text": [
      "Adjusting learning rate of group 0 to 1.0000e-08.\n"
     ]
    },
    {
     "name": "stderr",
     "output_type": "stream",
     "text": [
      "\n"
     ]
    },
    {
     "name": "stdout",
     "output_type": "stream",
     "text": [
      "Epoch 60 | Time 2048s| Train Loss 0.2941 | Train Acc 89.77| Val Loss 0.507 | Val Acc 82.98| Trigger Loss 0.001 | Trigger Acc 100.00\n"
     ]
    },
    {
     "name": "stderr",
     "output_type": "stream",
     "text": [
      "100%|██████████████████████████████████████████████████████████████████████████████| 156/156 [00:33<00:00,  4.71it/s]"
     ]
    },
    {
     "name": "stdout",
     "output_type": "stream",
     "text": [
      "Adjusting learning rate of group 0 to 1.0000e-08.\n"
     ]
    },
    {
     "name": "stderr",
     "output_type": "stream",
     "text": [
      "\n"
     ]
    },
    {
     "name": "stdout",
     "output_type": "stream",
     "text": [
      "Epoch 61 | Time 2084s| Train Loss 0.2929 | Train Acc 89.96| Val Loss 0.507 | Val Acc 83.08| Trigger Loss 0.001 | Trigger Acc 100.00\n"
     ]
    },
    {
     "name": "stderr",
     "output_type": "stream",
     "text": [
      "100%|██████████████████████████████████████████████████████████████████████████████| 156/156 [00:33<00:00,  4.72it/s]"
     ]
    },
    {
     "name": "stdout",
     "output_type": "stream",
     "text": [
      "Adjusting learning rate of group 0 to 1.0000e-08.\n"
     ]
    },
    {
     "name": "stderr",
     "output_type": "stream",
     "text": [
      "\n"
     ]
    },
    {
     "name": "stdout",
     "output_type": "stream",
     "text": [
      "Epoch 62 | Time 2121s| Train Loss 0.2940 | Train Acc 89.75| Val Loss 0.507 | Val Acc 83.05| Trigger Loss 0.001 | Trigger Acc 100.00\n"
     ]
    },
    {
     "name": "stderr",
     "output_type": "stream",
     "text": [
      "100%|██████████████████████████████████████████████████████████████████████████████| 156/156 [00:28<00:00,  5.55it/s]"
     ]
    },
    {
     "name": "stdout",
     "output_type": "stream",
     "text": [
      "Adjusting learning rate of group 0 to 1.0000e-08.\n"
     ]
    },
    {
     "name": "stderr",
     "output_type": "stream",
     "text": [
      "\n"
     ]
    },
    {
     "name": "stdout",
     "output_type": "stream",
     "text": [
      "Epoch 63 | Time 2151s| Train Loss 0.2936 | Train Acc 89.77| Val Loss 0.508 | Val Acc 83.01| Trigger Loss 0.001 | Trigger Acc 100.00\n"
     ]
    },
    {
     "name": "stderr",
     "output_type": "stream",
     "text": [
      "100%|██████████████████████████████████████████████████████████████████████████████| 156/156 [00:17<00:00,  8.79it/s]"
     ]
    },
    {
     "name": "stdout",
     "output_type": "stream",
     "text": [
      "Adjusting learning rate of group 0 to 1.0000e-08.\n"
     ]
    },
    {
     "name": "stderr",
     "output_type": "stream",
     "text": [
      "\n"
     ]
    },
    {
     "name": "stdout",
     "output_type": "stream",
     "text": [
      "Epoch 64 | Time 2172s| Train Loss 0.2944 | Train Acc 89.74| Val Loss 0.507 | Val Acc 83.03| Trigger Loss 0.001 | Trigger Acc 100.00\n"
     ]
    },
    {
     "name": "stderr",
     "output_type": "stream",
     "text": [
      "100%|██████████████████████████████████████████████████████████████████████████████| 156/156 [00:33<00:00,  4.62it/s]\n"
     ]
    },
    {
     "name": "stdout",
     "output_type": "stream",
     "text": [
      "Adjusting learning rate of group 0 to 1.0000e-08.\n",
      "Epoch 65 | Time 2210s| Train Loss 0.2919 | Train Acc 89.85| Val Loss 0.508 | Val Acc 83.07| Trigger Loss 0.001 | Trigger Acc 100.00\n"
     ]
    },
    {
     "name": "stderr",
     "output_type": "stream",
     "text": [
      "100%|██████████████████████████████████████████████████████████████████████████████| 156/156 [00:33<00:00,  4.63it/s]"
     ]
    },
    {
     "name": "stdout",
     "output_type": "stream",
     "text": [
      "Adjusting learning rate of group 0 to 1.0000e-08.\n"
     ]
    },
    {
     "name": "stderr",
     "output_type": "stream",
     "text": [
      "\n"
     ]
    },
    {
     "name": "stdout",
     "output_type": "stream",
     "text": [
      "Epoch 66 | Time 2247s| Train Loss 0.2936 | Train Acc 89.74| Val Loss 0.508 | Val Acc 83.09| Trigger Loss 0.001 | Trigger Acc 100.00\n"
     ]
    },
    {
     "name": "stderr",
     "output_type": "stream",
     "text": [
      "100%|██████████████████████████████████████████████████████████████████████████████| 156/156 [00:33<00:00,  4.64it/s]\n"
     ]
    },
    {
     "name": "stdout",
     "output_type": "stream",
     "text": [
      "Adjusting learning rate of group 0 to 1.0000e-08.\n",
      "Epoch 67 | Time 2284s| Train Loss 0.2925 | Train Acc 89.76| Val Loss 0.508 | Val Acc 82.96| Trigger Loss 0.001 | Trigger Acc 100.00\n"
     ]
    },
    {
     "name": "stderr",
     "output_type": "stream",
     "text": [
      "100%|██████████████████████████████████████████████████████████████████████████████| 156/156 [00:33<00:00,  4.71it/s]\n"
     ]
    },
    {
     "name": "stdout",
     "output_type": "stream",
     "text": [
      "Adjusting learning rate of group 0 to 1.0000e-08.\n",
      "Epoch 68 | Time 2320s| Train Loss 0.2932 | Train Acc 89.66| Val Loss 0.507 | Val Acc 83.04| Trigger Loss 0.001 | Trigger Acc 100.00\n"
     ]
    },
    {
     "name": "stderr",
     "output_type": "stream",
     "text": [
      "100%|██████████████████████████████████████████████████████████████████████████████| 156/156 [00:33<00:00,  4.72it/s]\n"
     ]
    },
    {
     "name": "stdout",
     "output_type": "stream",
     "text": [
      "Adjusting learning rate of group 0 to 1.0000e-09.\n",
      "Epoch 69 | Time 2356s| Train Loss 0.2941 | Train Acc 89.70| Val Loss 0.508 | Val Acc 83.03| Trigger Loss 0.001 | Trigger Acc 100.00\n"
     ]
    },
    {
     "name": "stderr",
     "output_type": "stream",
     "text": [
      "100%|██████████████████████████████████████████████████████████████████████████████| 156/156 [00:26<00:00,  5.88it/s]"
     ]
    },
    {
     "name": "stdout",
     "output_type": "stream",
     "text": [
      "Adjusting learning rate of group 0 to 1.0000e-09.\n"
     ]
    },
    {
     "name": "stderr",
     "output_type": "stream",
     "text": [
      "\n"
     ]
    },
    {
     "name": "stdout",
     "output_type": "stream",
     "text": [
      "Epoch 70 | Time 2386s| Train Loss 0.2918 | Train Acc 89.88| Val Loss 0.508 | Val Acc 83.06| Trigger Loss 0.001 | Trigger Acc 100.00\n"
     ]
    },
    {
     "name": "stderr",
     "output_type": "stream",
     "text": [
      "100%|██████████████████████████████████████████████████████████████████████████████| 156/156 [00:18<00:00,  8.36it/s]"
     ]
    },
    {
     "name": "stdout",
     "output_type": "stream",
     "text": [
      "Adjusting learning rate of group 0 to 1.0000e-09.\n"
     ]
    },
    {
     "name": "stderr",
     "output_type": "stream",
     "text": [
      "\n"
     ]
    },
    {
     "name": "stdout",
     "output_type": "stream",
     "text": [
      "Epoch 71 | Time 2408s| Train Loss 0.2896 | Train Acc 89.95| Val Loss 0.507 | Val Acc 83.07| Trigger Loss 0.001 | Trigger Acc 100.00\n"
     ]
    },
    {
     "name": "stderr",
     "output_type": "stream",
     "text": [
      "100%|██████████████████████████████████████████████████████████████████████████████| 156/156 [00:33<00:00,  4.63it/s]"
     ]
    },
    {
     "name": "stdout",
     "output_type": "stream",
     "text": [
      "Adjusting learning rate of group 0 to 1.0000e-09.\n"
     ]
    },
    {
     "name": "stderr",
     "output_type": "stream",
     "text": [
      "\n"
     ]
    },
    {
     "name": "stdout",
     "output_type": "stream",
     "text": [
      "Epoch 72 | Time 2445s| Train Loss 0.2952 | Train Acc 89.72| Val Loss 0.507 | Val Acc 83.04| Trigger Loss 0.001 | Trigger Acc 100.00\n"
     ]
    },
    {
     "name": "stderr",
     "output_type": "stream",
     "text": [
      "100%|██████████████████████████████████████████████████████████████████████████████| 156/156 [00:33<00:00,  4.64it/s]\n"
     ]
    },
    {
     "name": "stdout",
     "output_type": "stream",
     "text": [
      "Adjusting learning rate of group 0 to 1.0000e-09.\n",
      "Epoch 73 | Time 2482s| Train Loss 0.2935 | Train Acc 89.90| Val Loss 0.508 | Val Acc 83.06| Trigger Loss 0.001 | Trigger Acc 100.00\n"
     ]
    },
    {
     "name": "stderr",
     "output_type": "stream",
     "text": [
      "100%|██████████████████████████████████████████████████████████████████████████████| 156/156 [00:33<00:00,  4.64it/s]"
     ]
    },
    {
     "name": "stdout",
     "output_type": "stream",
     "text": [
      "Adjusting learning rate of group 0 to 1.0000e-09.\n"
     ]
    },
    {
     "name": "stderr",
     "output_type": "stream",
     "text": [
      "\n"
     ]
    },
    {
     "name": "stdout",
     "output_type": "stream",
     "text": [
      "Epoch 74 | Time 2519s| Train Loss 0.2929 | Train Acc 89.75| Val Loss 0.507 | Val Acc 83.10| Trigger Loss 0.001 | Trigger Acc 100.00\n"
     ]
    },
    {
     "name": "stderr",
     "output_type": "stream",
     "text": [
      "100%|██████████████████████████████████████████████████████████████████████████████| 156/156 [00:33<00:00,  4.72it/s]"
     ]
    },
    {
     "name": "stdout",
     "output_type": "stream",
     "text": [
      "Adjusting learning rate of group 0 to 1.0000e-09.\n"
     ]
    },
    {
     "name": "stderr",
     "output_type": "stream",
     "text": [
      "\n"
     ]
    },
    {
     "name": "stdout",
     "output_type": "stream",
     "text": [
      "Epoch 75 | Time 2555s| Train Loss 0.2963 | Train Acc 89.58| Val Loss 0.507 | Val Acc 82.96| Trigger Loss 0.001 | Trigger Acc 100.00\n"
     ]
    },
    {
     "name": "stderr",
     "output_type": "stream",
     "text": [
      "100%|██████████████████████████████████████████████████████████████████████████████| 156/156 [00:32<00:00,  4.73it/s]"
     ]
    },
    {
     "name": "stdout",
     "output_type": "stream",
     "text": [
      "Adjusting learning rate of group 0 to 1.0000e-09.\n"
     ]
    },
    {
     "name": "stderr",
     "output_type": "stream",
     "text": [
      "\n"
     ]
    },
    {
     "name": "stdout",
     "output_type": "stream",
     "text": [
      "Epoch 76 | Time 2591s| Train Loss 0.2939 | Train Acc 89.82| Val Loss 0.506 | Val Acc 83.07| Trigger Loss 0.001 | Trigger Acc 100.00\n"
     ]
    },
    {
     "name": "stderr",
     "output_type": "stream",
     "text": [
      "100%|██████████████████████████████████████████████████████████████████████████████| 156/156 [00:24<00:00,  6.30it/s]"
     ]
    },
    {
     "name": "stdout",
     "output_type": "stream",
     "text": [
      "Adjusting learning rate of group 0 to 1.0000e-09.\n"
     ]
    },
    {
     "name": "stderr",
     "output_type": "stream",
     "text": [
      "\n"
     ]
    },
    {
     "name": "stdout",
     "output_type": "stream",
     "text": [
      "Epoch 77 | Time 2619s| Train Loss 0.2941 | Train Acc 89.77| Val Loss 0.508 | Val Acc 82.95| Trigger Loss 0.001 | Trigger Acc 100.00\n"
     ]
    },
    {
     "name": "stderr",
     "output_type": "stream",
     "text": [
      "100%|██████████████████████████████████████████████████████████████████████████████| 156/156 [00:20<00:00,  7.70it/s]\n"
     ]
    },
    {
     "name": "stdout",
     "output_type": "stream",
     "text": [
      "Adjusting learning rate of group 0 to 1.0000e-09.\n",
      "Epoch 78 | Time 2642s| Train Loss 0.2932 | Train Acc 89.70| Val Loss 0.507 | Val Acc 82.95| Trigger Loss 0.001 | Trigger Acc 100.00\n"
     ]
    },
    {
     "name": "stderr",
     "output_type": "stream",
     "text": [
      "100%|██████████████████████████████████████████████████████████████████████████████| 156/156 [00:33<00:00,  4.64it/s]\n"
     ]
    },
    {
     "name": "stdout",
     "output_type": "stream",
     "text": [
      "Adjusting learning rate of group 0 to 1.0000e-10.\n",
      "Epoch 79 | Time 2679s| Train Loss 0.2947 | Train Acc 89.81| Val Loss 0.508 | Val Acc 83.10| Trigger Loss 0.001 | Trigger Acc 100.00\n"
     ]
    },
    {
     "data": {
      "text/plain": [
       "{'train_acc': [24.11357921207041,\n",
       "  47.812238055322716,\n",
       "  58.00293378038558,\n",
       "  63.94174350377201,\n",
       "  68.23344509639564,\n",
       "  70.76906957250628,\n",
       "  72.99874266554903,\n",
       "  74.47820620284996,\n",
       "  75.64962279966471,\n",
       "  76.86923721709975,\n",
       "  81.11902766135792,\n",
       "  82.69279128248114,\n",
       "  83.84744341994971,\n",
       "  84.36085498742666,\n",
       "  84.8113998323554,\n",
       "  85.10687342833194,\n",
       "  85.73344509639564,\n",
       "  86.12950544844928,\n",
       "  86.45641240569991,\n",
       "  86.65758591785415,\n",
       "  88.03646269907796,\n",
       "  88.36756077116513,\n",
       "  88.51215423302598,\n",
       "  88.7300922045264,\n",
       "  88.6986588432523,\n",
       "  88.9731768650461,\n",
       "  89.10519698239732,\n",
       "  89.35666387259012,\n",
       "  89.24979044425817,\n",
       "  89.35037720033529,\n",
       "  89.68985750209556,\n",
       "  89.53478625314334,\n",
       "  89.71919530595139,\n",
       "  89.77577535624476,\n",
       "  89.67518860016764,\n",
       "  89.59346186085499,\n",
       "  89.7024308466052,\n",
       "  89.7569153394803,\n",
       "  89.77367979882649,\n",
       "  89.69404861693211,\n",
       "  89.96437552388934,\n",
       "  89.69195305951384,\n",
       "  89.7569153394803,\n",
       "  89.70662196144174,\n",
       "  89.82606873428331,\n",
       "  89.66680637049456,\n",
       "  89.685666387259,\n",
       "  89.70871751886001,\n",
       "  89.79463537300923,\n",
       "  89.44886839899414,\n",
       "  89.72967309304275,\n",
       "  89.7254819782062,\n",
       "  89.76320201173512,\n",
       "  89.87845766974016,\n",
       "  89.82606873428331,\n",
       "  89.8973176865046,\n",
       "  89.73595976529757,\n",
       "  89.82397317686505,\n",
       "  89.9140821458508,\n",
       "  89.77577535624476,\n",
       "  89.76948868398993,\n",
       "  89.95599329421626,\n",
       "  89.7485331098072,\n",
       "  89.77367979882649,\n",
       "  89.74224643755238,\n",
       "  89.85331098072086,\n",
       "  89.73595976529757,\n",
       "  89.75901089689857,\n",
       "  89.66261525565801,\n",
       "  89.7024308466052,\n",
       "  89.87636211232187,\n",
       "  89.94761106454317,\n",
       "  89.72338642078793,\n",
       "  89.90360435875942,\n",
       "  89.75481978206203,\n",
       "  89.58088851634535,\n",
       "  89.81559094719195,\n",
       "  89.77367979882649,\n",
       "  89.70452640402347,\n",
       "  89.80511316010059],\n",
       " 'train_loss': [2.1073564274612835,\n",
       "  1.4658746427282603,\n",
       "  1.1702824662936804,\n",
       "  1.0110070539839808,\n",
       "  0.90210523225136,\n",
       "  0.8342101622407214,\n",
       "  0.7740007488945404,\n",
       "  0.7268353021804365,\n",
       "  0.6902474596984028,\n",
       "  0.6652773351601363,\n",
       "  0.5418450194951975,\n",
       "  0.4909136571783232,\n",
       "  0.46220086717046016,\n",
       "  0.44681693839107556,\n",
       "  0.4352702466110572,\n",
       "  0.42400058220637915,\n",
       "  0.41062227238003984,\n",
       "  0.3984547330118085,\n",
       "  0.3889498359999133,\n",
       "  0.3816755563345459,\n",
       "  0.3463964901645945,\n",
       "  0.3350301234452842,\n",
       "  0.32774552198037915,\n",
       "  0.3229889735542019,\n",
       "  0.32119908867168107,\n",
       "  0.3167466796316325,\n",
       "  0.31459356886892886,\n",
       "  0.31078284663231753,\n",
       "  0.3073115072963324,\n",
       "  0.30502686955203356,\n",
       "  0.2996315044272076,\n",
       "  0.29879954974889156,\n",
       "  0.2967690278191279,\n",
       "  0.2960425723116136,\n",
       "  0.29588857652605427,\n",
       "  0.29795586632538124,\n",
       "  0.29596929401908717,\n",
       "  0.29438316653055596,\n",
       "  0.2942675585131733,\n",
       "  0.29478569140802985,\n",
       "  0.29259374165425056,\n",
       "  0.2932834849373593,\n",
       "  0.29599035091242265,\n",
       "  0.29494357068725524,\n",
       "  0.2942154634903183,\n",
       "  0.29381550337997486,\n",
       "  0.2954635837526753,\n",
       "  0.29324307327048676,\n",
       "  0.2945668945256043,\n",
       "  0.29617596996724854,\n",
       "  0.29557520996994663,\n",
       "  0.29375077714864084,\n",
       "  0.29391116586459953,\n",
       "  0.29275844317969413,\n",
       "  0.29604139716207534,\n",
       "  0.291319174616155,\n",
       "  0.29157258970264816,\n",
       "  0.29157610624678876,\n",
       "  0.29382309474344526,\n",
       "  0.296050749922738,\n",
       "  0.2940760803792223,\n",
       "  0.2928684323663883,\n",
       "  0.29400730126686486,\n",
       "  0.29356365976269666,\n",
       "  0.29439973073128584,\n",
       "  0.2919359251269751,\n",
       "  0.2936418826039959,\n",
       "  0.29251704814547963,\n",
       "  0.2932210271448921,\n",
       "  0.29409556430323425,\n",
       "  0.29175159107059967,\n",
       "  0.2895851760290794,\n",
       "  0.29523994732032977,\n",
       "  0.29348013952736685,\n",
       "  0.2928785340034552,\n",
       "  0.29625966724286235,\n",
       "  0.29393547242764956,\n",
       "  0.2941004006006292,\n",
       "  0.2931733988806268,\n",
       "  0.2946903147359206],\n",
       " 'val_acc': [32.64,\n",
       "  38.29,\n",
       "  47.410000000000004,\n",
       "  53.43,\n",
       "  59.06,\n",
       "  60.39,\n",
       "  62.019999999999996,\n",
       "  64.78,\n",
       "  69.53,\n",
       "  64.18,\n",
       "  78.39,\n",
       "  79.17999999999999,\n",
       "  80.0,\n",
       "  80.17999999999999,\n",
       "  80.17999999999999,\n",
       "  80.44,\n",
       "  80.84,\n",
       "  80.81,\n",
       "  80.52,\n",
       "  81.10000000000001,\n",
       "  82.34,\n",
       "  82.44,\n",
       "  82.5,\n",
       "  82.66,\n",
       "  82.73,\n",
       "  82.85,\n",
       "  83.00999999999999,\n",
       "  82.85,\n",
       "  82.83,\n",
       "  82.86,\n",
       "  82.97,\n",
       "  83.02000000000001,\n",
       "  83.0,\n",
       "  83.00999999999999,\n",
       "  83.16,\n",
       "  83.09,\n",
       "  82.98,\n",
       "  82.95,\n",
       "  82.94,\n",
       "  83.05,\n",
       "  83.03,\n",
       "  83.00999999999999,\n",
       "  83.0,\n",
       "  82.95,\n",
       "  82.95,\n",
       "  83.00999999999999,\n",
       "  83.04,\n",
       "  82.98,\n",
       "  83.13000000000001,\n",
       "  83.0,\n",
       "  82.92,\n",
       "  82.91,\n",
       "  82.98,\n",
       "  83.03,\n",
       "  83.02000000000001,\n",
       "  83.12,\n",
       "  82.97,\n",
       "  82.99,\n",
       "  82.99,\n",
       "  83.02000000000001,\n",
       "  82.98,\n",
       "  83.08,\n",
       "  83.05,\n",
       "  83.00999999999999,\n",
       "  83.03,\n",
       "  83.07,\n",
       "  83.09,\n",
       "  82.96,\n",
       "  83.04,\n",
       "  83.03,\n",
       "  83.06,\n",
       "  83.07,\n",
       "  83.04,\n",
       "  83.06,\n",
       "  83.1,\n",
       "  82.96,\n",
       "  83.07,\n",
       "  82.95,\n",
       "  82.95,\n",
       "  83.1],\n",
       " 'val_loss': [1.845298335647583,\n",
       "  1.7322819854736329,\n",
       "  1.4975004262924194,\n",
       "  1.318920264339447,\n",
       "  1.2124448761940003,\n",
       "  1.1451002183914185,\n",
       "  1.1442515857696534,\n",
       "  1.0483054934740066,\n",
       "  0.8872630805969238,\n",
       "  1.0558598379135131,\n",
       "  0.6253316461086273,\n",
       "  0.6021604520320892,\n",
       "  0.5912693696975708,\n",
       "  0.583826283121109,\n",
       "  0.5777676713943481,\n",
       "  0.5792310013771057,\n",
       "  0.5623733792066574,\n",
       "  0.5585964647769928,\n",
       "  0.572131864309311,\n",
       "  0.5457054620981217,\n",
       "  0.5173093181848526,\n",
       "  0.5162251941442489,\n",
       "  0.5130986236810684,\n",
       "  0.5130576589345932,\n",
       "  0.5109990652561188,\n",
       "  0.5116563287258148,\n",
       "  0.5082295230388642,\n",
       "  0.508339959025383,\n",
       "  0.509579688835144,\n",
       "  0.5108234237194061,\n",
       "  0.5106717070579528,\n",
       "  0.5092633339881897,\n",
       "  0.5077848176956177,\n",
       "  0.5077901655197143,\n",
       "  0.5090017144680024,\n",
       "  0.5077725923061371,\n",
       "  0.5072415182113648,\n",
       "  0.5070514650583268,\n",
       "  0.5071631880521774,\n",
       "  0.5088309629440307,\n",
       "  0.5066113061904908,\n",
       "  0.5069529596090316,\n",
       "  0.5077543288707733,\n",
       "  0.5079970000267029,\n",
       "  0.5087223040103912,\n",
       "  0.5076422544956207,\n",
       "  0.5074605083465576,\n",
       "  0.5079292324542999,\n",
       "  0.5074467248916626,\n",
       "  0.5067159003257752,\n",
       "  0.5082383351802826,\n",
       "  0.5083349355220794,\n",
       "  0.5073765264987946,\n",
       "  0.5072120449543,\n",
       "  0.5066642319440842,\n",
       "  0.5071107823371888,\n",
       "  0.5067877158641815,\n",
       "  0.5081914078712464,\n",
       "  0.5083980813503265,\n",
       "  0.5083994130134583,\n",
       "  0.5068027616500854,\n",
       "  0.5072691571235657,\n",
       "  0.5066285928249359,\n",
       "  0.5076102719306946,\n",
       "  0.5069502818584443,\n",
       "  0.507822403383255,\n",
       "  0.5075748984336853,\n",
       "  0.5076757131099701,\n",
       "  0.5070283941745758,\n",
       "  0.507684938955307,\n",
       "  0.5076045364379883,\n",
       "  0.5070147199630737,\n",
       "  0.5066721877098084,\n",
       "  0.5081136814117432,\n",
       "  0.5069024503231049,\n",
       "  0.5070359027385711,\n",
       "  0.5058331578493118,\n",
       "  0.5083188703298569,\n",
       "  0.5072331092834472,\n",
       "  0.5080266475200653],\n",
       " 'trigger_acc': [37.0,\n",
       "  97.0,\n",
       "  88.0,\n",
       "  89.0,\n",
       "  97.0,\n",
       "  81.0,\n",
       "  95.0,\n",
       "  94.0,\n",
       "  95.0,\n",
       "  93.0,\n",
       "  100.0,\n",
       "  100.0,\n",
       "  100.0,\n",
       "  100.0,\n",
       "  100.0,\n",
       "  100.0,\n",
       "  100.0,\n",
       "  100.0,\n",
       "  100.0,\n",
       "  100.0,\n",
       "  100.0,\n",
       "  100.0,\n",
       "  100.0,\n",
       "  100.0,\n",
       "  100.0,\n",
       "  100.0,\n",
       "  100.0,\n",
       "  100.0,\n",
       "  100.0,\n",
       "  100.0,\n",
       "  100.0,\n",
       "  100.0,\n",
       "  100.0,\n",
       "  100.0,\n",
       "  100.0,\n",
       "  100.0,\n",
       "  100.0,\n",
       "  100.0,\n",
       "  100.0,\n",
       "  100.0,\n",
       "  100.0,\n",
       "  100.0,\n",
       "  100.0,\n",
       "  100.0,\n",
       "  100.0,\n",
       "  100.0,\n",
       "  100.0,\n",
       "  100.0,\n",
       "  100.0,\n",
       "  100.0,\n",
       "  100.0,\n",
       "  100.0,\n",
       "  100.0,\n",
       "  100.0,\n",
       "  100.0,\n",
       "  100.0,\n",
       "  100.0,\n",
       "  100.0,\n",
       "  100.0,\n",
       "  100.0,\n",
       "  100.0,\n",
       "  100.0,\n",
       "  100.0,\n",
       "  100.0,\n",
       "  100.0,\n",
       "  100.0,\n",
       "  100.0,\n",
       "  100.0,\n",
       "  100.0,\n",
       "  100.0,\n",
       "  100.0,\n",
       "  100.0,\n",
       "  100.0,\n",
       "  100.0,\n",
       "  100.0,\n",
       "  100.0,\n",
       "  100.0,\n",
       "  100.0,\n",
       "  100.0,\n",
       "  100.0],\n",
       " 'trigger_loss': [1.7125094604492188,\n",
       "  0.29663979172706606,\n",
       "  0.36046682476997377,\n",
       "  0.37591053247451783,\n",
       "  0.14447348833084106,\n",
       "  0.5606742835044861,\n",
       "  0.12066365838050842,\n",
       "  0.13920890748500825,\n",
       "  0.20226886808872224,\n",
       "  0.13380690932273864,\n",
       "  0.001684145610779524,\n",
       "  0.002004073113203049,\n",
       "  0.0014528240170329808,\n",
       "  0.0015544428885914386,\n",
       "  0.0025302664237096904,\n",
       "  0.003667064001783729,\n",
       "  0.0023404409689828753,\n",
       "  0.0009317764081060887,\n",
       "  0.003195702526718378,\n",
       "  0.0026123648695647716,\n",
       "  0.0010817319247871638,\n",
       "  0.0008147049671970308,\n",
       "  0.0007576796412467956,\n",
       "  0.000651545557193458,\n",
       "  0.0007204545289278031,\n",
       "  0.0007849323633126915,\n",
       "  0.0009523549396544695,\n",
       "  0.0006989410077221692,\n",
       "  0.0006712721125222743,\n",
       "  0.0007571769459173084,\n",
       "  0.0006699315970763564,\n",
       "  0.0007327275117859245,\n",
       "  0.0006365834805183113,\n",
       "  0.000740672186948359,\n",
       "  0.0006319041457027197,\n",
       "  0.0007380884932354092,\n",
       "  0.0007450177893042564,\n",
       "  0.0007226622407324612,\n",
       "  0.0006890942924655974,\n",
       "  0.0006409527081996202,\n",
       "  0.0007345998077653348,\n",
       "  0.0007136708591133356,\n",
       "  0.0006498434441164136,\n",
       "  0.0006824979651719332,\n",
       "  0.0006514015118591487,\n",
       "  0.0006261608283966779,\n",
       "  0.0006121853087097406,\n",
       "  0.000712762763723731,\n",
       "  0.0006752677005715668,\n",
       "  0.0007140141865238547,\n",
       "  0.0006428654585033655,\n",
       "  0.0006521992105990648,\n",
       "  0.000644429123494774,\n",
       "  0.0007392878853715956,\n",
       "  0.0006816978869028389,\n",
       "  0.0006456671445630491,\n",
       "  0.0006836222077254206,\n",
       "  0.0006601063371635973,\n",
       "  0.000671012771781534,\n",
       "  0.0006285360082983971,\n",
       "  0.0007014271314255893,\n",
       "  0.0007075936626642943,\n",
       "  0.0007249912898987531,\n",
       "  0.0006287692557089031,\n",
       "  0.000705264110583812,\n",
       "  0.0006666254531592131,\n",
       "  0.0007133464817889035,\n",
       "  0.0006061002286151052,\n",
       "  0.0006465923343785108,\n",
       "  0.0006440835073590279,\n",
       "  0.0006922123790718615,\n",
       "  0.000702826795168221,\n",
       "  0.0007170761656016112,\n",
       "  0.0006346290023066104,\n",
       "  0.0007382722548209131,\n",
       "  0.0006880467967130244,\n",
       "  0.0007300325762480497,\n",
       "  0.0006210918491706252,\n",
       "  0.0006602577143348754,\n",
       "  0.0006586434924975037]}"
      ]
     },
     "execution_count": 10,
     "metadata": {},
     "output_type": "execute_result"
    }
   ],
   "source": [
    "# normal watermark\n",
    "net = ResNet18()\n",
    "logcmt = f\"resnet18_8020_trigger_finetune\"\n",
    "net.load_state_dict(torch.load('checkpoints/resnet18_8020.ckpt'))\n",
    "optimizer = torch.optim.Adam(params=net.parameters(), lr=0.01, weight_decay=1e-4)\n",
    "criterion = nn.CrossEntropyLoss()\n",
    "scheduler = torch.optim.lr_scheduler.StepLR(optimizer, step_size=10, gamma=0.1, verbose=True)\n",
    "trainer = Trainer(net, criterion, optimizer, train_loader=trainloader, trigger_loader=advwmloader, use_trigger=True, scheduler=scheduler)\n",
    "evaluator = Evaluator(net, criterion)\n",
    "train(trainer, evaluator, testloader, 80, 'checkpoints/resnet18_wm_8020_adv_Lr0.01.ckpt',\n",
    "      logdir='./runs', logcmt=logcmt, trigger_loader=advwmloader)"
   ]
  },
  {
   "cell_type": "markdown",
   "id": "6a3d6153-1162-4c45-a9c8-cc53c60fd7e3",
   "metadata": {},
   "source": [
    "Unrelated Original Scheme"
   ]
  },
  {
   "cell_type": "code",
   "execution_count": 11,
   "id": "1d5d874b-2b0f-4bd8-8320-9026cfcd62e9",
   "metadata": {},
   "outputs": [
    {
     "name": "stdout",
     "output_type": "stream",
     "text": [
      "Adjusting learning rate of group 0 to 1.0000e-02.\n",
      "Start Training...\n"
     ]
    },
    {
     "name": "stderr",
     "output_type": "stream",
     "text": [
      "100%|██████████████████████████████████████████████████████████████████████████████| 156/156 [00:33<00:00,  4.62it/s]\n"
     ]
    },
    {
     "name": "stdout",
     "output_type": "stream",
     "text": [
      "Adjusting learning rate of group 0 to 1.0000e-02.\n",
      "Epoch 0 | Time 36s| Train Loss 1.7219 | Train Acc 38.32| Val Loss 1.864 | Val Acc 30.87| Trigger Loss 0.023 | Trigger Acc 100.00\n"
     ]
    },
    {
     "name": "stderr",
     "output_type": "stream",
     "text": [
      "100%|██████████████████████████████████████████████████████████████████████████████| 156/156 [00:33<00:00,  4.63it/s]"
     ]
    },
    {
     "name": "stdout",
     "output_type": "stream",
     "text": [
      "Adjusting learning rate of group 0 to 1.0000e-02.\n"
     ]
    },
    {
     "name": "stderr",
     "output_type": "stream",
     "text": [
      "\n"
     ]
    },
    {
     "name": "stdout",
     "output_type": "stream",
     "text": [
      "Epoch 1 | Time 75s| Train Loss 1.3063 | Train Acc 51.59| Val Loss 1.580 | Val Acc 41.63| Trigger Loss 0.335 | Trigger Acc 98.00\n"
     ]
    },
    {
     "name": "stderr",
     "output_type": "stream",
     "text": [
      "100%|██████████████████████████████████████████████████████████████████████████████| 156/156 [00:33<00:00,  4.65it/s]"
     ]
    },
    {
     "name": "stdout",
     "output_type": "stream",
     "text": [
      "Adjusting learning rate of group 0 to 1.0000e-02.\n"
     ]
    },
    {
     "name": "stderr",
     "output_type": "stream",
     "text": [
      "\n"
     ]
    },
    {
     "name": "stdout",
     "output_type": "stream",
     "text": [
      "Epoch 2 | Time 112s| Train Loss 1.1259 | Train Acc 59.00| Val Loss 1.346 | Val Acc 51.92| Trigger Loss 0.000 | Trigger Acc 100.00\n"
     ]
    },
    {
     "name": "stderr",
     "output_type": "stream",
     "text": [
      "100%|██████████████████████████████████████████████████████████████████████████████| 156/156 [00:33<00:00,  4.66it/s]"
     ]
    },
    {
     "name": "stdout",
     "output_type": "stream",
     "text": [
      "Adjusting learning rate of group 0 to 1.0000e-02.\n"
     ]
    },
    {
     "name": "stderr",
     "output_type": "stream",
     "text": [
      "\n"
     ]
    },
    {
     "name": "stdout",
     "output_type": "stream",
     "text": [
      "Epoch 3 | Time 149s| Train Loss 0.9845 | Train Acc 64.57| Val Loss 1.420 | Val Acc 51.44| Trigger Loss 1.619 | Trigger Acc 44.00\n"
     ]
    },
    {
     "name": "stderr",
     "output_type": "stream",
     "text": [
      "100%|██████████████████████████████████████████████████████████████████████████████| 156/156 [00:21<00:00,  7.13it/s]"
     ]
    },
    {
     "name": "stdout",
     "output_type": "stream",
     "text": [
      "Adjusting learning rate of group 0 to 1.0000e-02.\n"
     ]
    },
    {
     "name": "stderr",
     "output_type": "stream",
     "text": [
      "\n"
     ]
    },
    {
     "name": "stdout",
     "output_type": "stream",
     "text": [
      "Epoch 4 | Time 173s| Train Loss 0.9073 | Train Acc 67.67| Val Loss 1.251 | Val Acc 58.12| Trigger Loss 0.000 | Trigger Acc 100.00\n"
     ]
    },
    {
     "name": "stderr",
     "output_type": "stream",
     "text": [
      "100%|██████████████████████████████████████████████████████████████████████████████| 156/156 [00:23<00:00,  6.72it/s]\n"
     ]
    },
    {
     "name": "stdout",
     "output_type": "stream",
     "text": [
      "Adjusting learning rate of group 0 to 1.0000e-02.\n",
      "Epoch 5 | Time 200s| Train Loss 0.8444 | Train Acc 69.66| Val Loss 1.367 | Val Acc 53.66| Trigger Loss 0.019 | Trigger Acc 100.00\n"
     ]
    },
    {
     "name": "stderr",
     "output_type": "stream",
     "text": [
      "100%|██████████████████████████████████████████████████████████████████████████████| 156/156 [00:33<00:00,  4.62it/s]\n"
     ]
    },
    {
     "name": "stdout",
     "output_type": "stream",
     "text": [
      "Adjusting learning rate of group 0 to 1.0000e-02.\n",
      "Epoch 6 | Time 237s| Train Loss 0.8021 | Train Acc 71.62| Val Loss 1.170 | Val Acc 59.64| Trigger Loss 0.000 | Trigger Acc 100.00\n"
     ]
    },
    {
     "name": "stderr",
     "output_type": "stream",
     "text": [
      "100%|██████████████████████████████████████████████████████████████████████████████| 156/156 [00:33<00:00,  4.62it/s]\n"
     ]
    },
    {
     "name": "stdout",
     "output_type": "stream",
     "text": [
      "Adjusting learning rate of group 0 to 1.0000e-02.\n",
      "Epoch 7 | Time 274s| Train Loss 0.7412 | Train Acc 73.71| Val Loss 1.053 | Val Acc 63.90| Trigger Loss 0.001 | Trigger Acc 100.00\n"
     ]
    },
    {
     "name": "stderr",
     "output_type": "stream",
     "text": [
      "100%|██████████████████████████████████████████████████████████████████████████████| 156/156 [00:33<00:00,  4.64it/s]\n"
     ]
    },
    {
     "name": "stdout",
     "output_type": "stream",
     "text": [
      "Adjusting learning rate of group 0 to 1.0000e-02.\n",
      "Epoch 8 | Time 311s| Train Loss 0.6961 | Train Acc 75.47| Val Loss 1.522 | Val Acc 54.05| Trigger Loss 0.000 | Trigger Acc 100.00\n"
     ]
    },
    {
     "name": "stderr",
     "output_type": "stream",
     "text": [
      "100%|██████████████████████████████████████████████████████████████████████████████| 156/156 [00:33<00:00,  4.68it/s]\n"
     ]
    },
    {
     "name": "stdout",
     "output_type": "stream",
     "text": [
      "Adjusting learning rate of group 0 to 1.0000e-03.\n",
      "Epoch 9 | Time 348s| Train Loss 0.6716 | Train Acc 76.43| Val Loss 1.144 | Val Acc 66.04| Trigger Loss 0.575 | Trigger Acc 80.00\n"
     ]
    },
    {
     "name": "stderr",
     "output_type": "stream",
     "text": [
      "100%|██████████████████████████████████████████████████████████████████████████████| 156/156 [00:33<00:00,  4.67it/s]"
     ]
    },
    {
     "name": "stdout",
     "output_type": "stream",
     "text": [
      "Adjusting learning rate of group 0 to 1.0000e-03.\n"
     ]
    },
    {
     "name": "stderr",
     "output_type": "stream",
     "text": [
      "\n"
     ]
    },
    {
     "name": "stdout",
     "output_type": "stream",
     "text": [
      "Epoch 10 | Time 384s| Train Loss 0.5247 | Train Acc 81.63| Val Loss 0.607 | Val Acc 78.40| Trigger Loss 0.000 | Trigger Acc 100.00\n"
     ]
    },
    {
     "name": "stderr",
     "output_type": "stream",
     "text": [
      "100%|██████████████████████████████████████████████████████████████████████████████| 156/156 [00:19<00:00,  7.81it/s]"
     ]
    },
    {
     "name": "stdout",
     "output_type": "stream",
     "text": [
      "Adjusting learning rate of group 0 to 1.0000e-03.\n"
     ]
    },
    {
     "name": "stderr",
     "output_type": "stream",
     "text": [
      "\n"
     ]
    },
    {
     "name": "stdout",
     "output_type": "stream",
     "text": [
      "Epoch 11 | Time 407s| Train Loss 0.4687 | Train Acc 83.71| Val Loss 0.594 | Val Acc 79.34| Trigger Loss 0.000 | Trigger Acc 100.00\n"
     ]
    },
    {
     "name": "stderr",
     "output_type": "stream",
     "text": [
      "100%|██████████████████████████████████████████████████████████████████████████████| 156/156 [00:24<00:00,  6.27it/s]\n"
     ]
    },
    {
     "name": "stdout",
     "output_type": "stream",
     "text": [
      "Adjusting learning rate of group 0 to 1.0000e-03.\n",
      "Epoch 12 | Time 435s| Train Loss 0.4465 | Train Acc 84.47| Val Loss 0.591 | Val Acc 80.20| Trigger Loss 0.000 | Trigger Acc 100.00\n"
     ]
    },
    {
     "name": "stderr",
     "output_type": "stream",
     "text": [
      "100%|██████████████████████████████████████████████████████████████████████████████| 156/156 [00:33<00:00,  4.62it/s]"
     ]
    },
    {
     "name": "stdout",
     "output_type": "stream",
     "text": [
      "Adjusting learning rate of group 0 to 1.0000e-03.\n"
     ]
    },
    {
     "name": "stderr",
     "output_type": "stream",
     "text": [
      "\n"
     ]
    },
    {
     "name": "stdout",
     "output_type": "stream",
     "text": [
      "Epoch 13 | Time 473s| Train Loss 0.4267 | Train Acc 85.15| Val Loss 0.576 | Val Acc 80.05| Trigger Loss 0.000 | Trigger Acc 100.00\n"
     ]
    },
    {
     "name": "stderr",
     "output_type": "stream",
     "text": [
      "100%|██████████████████████████████████████████████████████████████████████████████| 156/156 [00:33<00:00,  4.62it/s]"
     ]
    },
    {
     "name": "stdout",
     "output_type": "stream",
     "text": [
      "Adjusting learning rate of group 0 to 1.0000e-03.\n"
     ]
    },
    {
     "name": "stderr",
     "output_type": "stream",
     "text": [
      "\n"
     ]
    },
    {
     "name": "stdout",
     "output_type": "stream",
     "text": [
      "Epoch 14 | Time 510s| Train Loss 0.4107 | Train Acc 85.76| Val Loss 0.557 | Val Acc 80.83| Trigger Loss 0.000 | Trigger Acc 100.00\n"
     ]
    },
    {
     "name": "stderr",
     "output_type": "stream",
     "text": [
      "100%|██████████████████████████████████████████████████████████████████████████████| 156/156 [00:33<00:00,  4.65it/s]"
     ]
    },
    {
     "name": "stdout",
     "output_type": "stream",
     "text": [
      "Adjusting learning rate of group 0 to 1.0000e-03.\n"
     ]
    },
    {
     "name": "stderr",
     "output_type": "stream",
     "text": [
      "\n"
     ]
    },
    {
     "name": "stdout",
     "output_type": "stream",
     "text": [
      "Epoch 15 | Time 546s| Train Loss 0.3973 | Train Acc 86.03| Val Loss 0.563 | Val Acc 80.69| Trigger Loss 0.002 | Trigger Acc 100.00\n"
     ]
    },
    {
     "name": "stderr",
     "output_type": "stream",
     "text": [
      "100%|██████████████████████████████████████████████████████████████████████████████| 156/156 [00:33<00:00,  4.69it/s]"
     ]
    },
    {
     "name": "stdout",
     "output_type": "stream",
     "text": [
      "Adjusting learning rate of group 0 to 1.0000e-03.\n"
     ]
    },
    {
     "name": "stderr",
     "output_type": "stream",
     "text": [
      "\n"
     ]
    },
    {
     "name": "stdout",
     "output_type": "stream",
     "text": [
      "Epoch 16 | Time 583s| Train Loss 0.3837 | Train Acc 86.71| Val Loss 0.529 | Val Acc 82.05| Trigger Loss 0.000 | Trigger Acc 100.00\n"
     ]
    },
    {
     "name": "stderr",
     "output_type": "stream",
     "text": [
      "100%|██████████████████████████████████████████████████████████████████████████████| 156/156 [00:33<00:00,  4.64it/s]"
     ]
    },
    {
     "name": "stdout",
     "output_type": "stream",
     "text": [
      "Adjusting learning rate of group 0 to 1.0000e-03.\n"
     ]
    },
    {
     "name": "stderr",
     "output_type": "stream",
     "text": [
      "\n"
     ]
    },
    {
     "name": "stdout",
     "output_type": "stream",
     "text": [
      "Epoch 17 | Time 620s| Train Loss 0.3696 | Train Acc 87.02| Val Loss 0.562 | Val Acc 81.39| Trigger Loss 0.000 | Trigger Acc 100.00\n"
     ]
    },
    {
     "name": "stderr",
     "output_type": "stream",
     "text": [
      "100%|██████████████████████████████████████████████████████████████████████████████| 156/156 [00:17<00:00,  8.75it/s]"
     ]
    },
    {
     "name": "stdout",
     "output_type": "stream",
     "text": [
      "Adjusting learning rate of group 0 to 1.0000e-03.\n"
     ]
    },
    {
     "name": "stderr",
     "output_type": "stream",
     "text": [
      "\n"
     ]
    },
    {
     "name": "stdout",
     "output_type": "stream",
     "text": [
      "Epoch 18 | Time 641s| Train Loss 0.3580 | Train Acc 87.44| Val Loss 0.527 | Val Acc 82.56| Trigger Loss 0.000 | Trigger Acc 100.00\n"
     ]
    },
    {
     "name": "stderr",
     "output_type": "stream",
     "text": [
      "100%|██████████████████████████████████████████████████████████████████████████████| 156/156 [00:26<00:00,  5.80it/s]"
     ]
    },
    {
     "name": "stdout",
     "output_type": "stream",
     "text": [
      "Adjusting learning rate of group 0 to 1.0000e-04.\n"
     ]
    },
    {
     "name": "stderr",
     "output_type": "stream",
     "text": [
      "\n"
     ]
    },
    {
     "name": "stdout",
     "output_type": "stream",
     "text": [
      "Epoch 19 | Time 671s| Train Loss 0.3438 | Train Acc 87.95| Val Loss 0.526 | Val Acc 82.46| Trigger Loss 0.000 | Trigger Acc 100.00\n"
     ]
    },
    {
     "name": "stderr",
     "output_type": "stream",
     "text": [
      "100%|██████████████████████████████████████████████████████████████████████████████| 156/156 [00:33<00:00,  4.62it/s]"
     ]
    },
    {
     "name": "stdout",
     "output_type": "stream",
     "text": [
      "Adjusting learning rate of group 0 to 1.0000e-04.\n"
     ]
    },
    {
     "name": "stderr",
     "output_type": "stream",
     "text": [
      "\n"
     ]
    },
    {
     "name": "stdout",
     "output_type": "stream",
     "text": [
      "Epoch 20 | Time 708s| Train Loss 0.2974 | Train Acc 89.75| Val Loss 0.479 | Val Acc 83.87| Trigger Loss 0.000 | Trigger Acc 100.00\n"
     ]
    },
    {
     "name": "stderr",
     "output_type": "stream",
     "text": [
      "100%|██████████████████████████████████████████████████████████████████████████████| 156/156 [00:33<00:00,  4.63it/s]"
     ]
    },
    {
     "name": "stdout",
     "output_type": "stream",
     "text": [
      "Adjusting learning rate of group 0 to 1.0000e-04.\n"
     ]
    },
    {
     "name": "stderr",
     "output_type": "stream",
     "text": [
      "\n"
     ]
    },
    {
     "name": "stdout",
     "output_type": "stream",
     "text": [
      "Epoch 21 | Time 745s| Train Loss 0.2803 | Train Acc 90.27| Val Loss 0.479 | Val Acc 83.99| Trigger Loss 0.000 | Trigger Acc 100.00\n"
     ]
    },
    {
     "name": "stderr",
     "output_type": "stream",
     "text": [
      "100%|██████████████████████████████████████████████████████████████████████████████| 156/156 [00:33<00:00,  4.66it/s]\n"
     ]
    },
    {
     "name": "stdout",
     "output_type": "stream",
     "text": [
      "Adjusting learning rate of group 0 to 1.0000e-04.\n",
      "Epoch 22 | Time 782s| Train Loss 0.2721 | Train Acc 90.63| Val Loss 0.476 | Val Acc 84.20| Trigger Loss 0.000 | Trigger Acc 100.00\n"
     ]
    },
    {
     "name": "stderr",
     "output_type": "stream",
     "text": [
      "100%|██████████████████████████████████████████████████████████████████████████████| 156/156 [00:33<00:00,  4.70it/s]\n"
     ]
    },
    {
     "name": "stdout",
     "output_type": "stream",
     "text": [
      "Adjusting learning rate of group 0 to 1.0000e-04.\n",
      "Epoch 23 | Time 818s| Train Loss 0.2634 | Train Acc 90.93| Val Loss 0.476 | Val Acc 84.15| Trigger Loss 0.000 | Trigger Acc 100.00\n"
     ]
    },
    {
     "name": "stderr",
     "output_type": "stream",
     "text": [
      "100%|██████████████████████████████████████████████████████████████████████████████| 156/156 [00:33<00:00,  4.60it/s]"
     ]
    },
    {
     "name": "stdout",
     "output_type": "stream",
     "text": [
      "Adjusting learning rate of group 0 to 1.0000e-04.\n"
     ]
    },
    {
     "name": "stderr",
     "output_type": "stream",
     "text": [
      "\n"
     ]
    },
    {
     "name": "stdout",
     "output_type": "stream",
     "text": [
      "Epoch 24 | Time 855s| Train Loss 0.2596 | Train Acc 90.96| Val Loss 0.477 | Val Acc 84.27| Trigger Loss 0.000 | Trigger Acc 100.00\n"
     ]
    },
    {
     "name": "stderr",
     "output_type": "stream",
     "text": [
      "100%|██████████████████████████████████████████████████████████████████████████████| 156/156 [00:17<00:00,  8.72it/s]"
     ]
    },
    {
     "name": "stdout",
     "output_type": "stream",
     "text": [
      "Adjusting learning rate of group 0 to 1.0000e-04.\n"
     ]
    },
    {
     "name": "stderr",
     "output_type": "stream",
     "text": [
      "\n"
     ]
    },
    {
     "name": "stdout",
     "output_type": "stream",
     "text": [
      "Epoch 25 | Time 875s| Train Loss 0.2550 | Train Acc 91.12| Val Loss 0.475 | Val Acc 84.47| Trigger Loss 0.000 | Trigger Acc 100.00\n"
     ]
    },
    {
     "name": "stderr",
     "output_type": "stream",
     "text": [
      "100%|██████████████████████████████████████████████████████████████████████████████| 156/156 [00:28<00:00,  5.43it/s]\n"
     ]
    },
    {
     "name": "stdout",
     "output_type": "stream",
     "text": [
      "Adjusting learning rate of group 0 to 1.0000e-04.\n",
      "Epoch 26 | Time 908s| Train Loss 0.2498 | Train Acc 91.40| Val Loss 0.476 | Val Acc 84.44| Trigger Loss 0.000 | Trigger Acc 100.00\n"
     ]
    },
    {
     "name": "stderr",
     "output_type": "stream",
     "text": [
      "100%|██████████████████████████████████████████████████████████████████████████████| 156/156 [00:33<00:00,  4.62it/s]"
     ]
    },
    {
     "name": "stdout",
     "output_type": "stream",
     "text": [
      "Adjusting learning rate of group 0 to 1.0000e-04.\n"
     ]
    },
    {
     "name": "stderr",
     "output_type": "stream",
     "text": [
      "\n"
     ]
    },
    {
     "name": "stdout",
     "output_type": "stream",
     "text": [
      "Epoch 27 | Time 945s| Train Loss 0.2434 | Train Acc 91.44| Val Loss 0.481 | Val Acc 84.33| Trigger Loss 0.000 | Trigger Acc 100.00\n"
     ]
    },
    {
     "name": "stderr",
     "output_type": "stream",
     "text": [
      "100%|██████████████████████████████████████████████████████████████████████████████| 156/156 [00:33<00:00,  4.62it/s]"
     ]
    },
    {
     "name": "stdout",
     "output_type": "stream",
     "text": [
      "Adjusting learning rate of group 0 to 1.0000e-04.\n"
     ]
    },
    {
     "name": "stderr",
     "output_type": "stream",
     "text": [
      "\n"
     ]
    },
    {
     "name": "stdout",
     "output_type": "stream",
     "text": [
      "Epoch 28 | Time 982s| Train Loss 0.2422 | Train Acc 91.75| Val Loss 0.476 | Val Acc 84.62| Trigger Loss 0.000 | Trigger Acc 100.00\n"
     ]
    },
    {
     "name": "stderr",
     "output_type": "stream",
     "text": [
      "100%|██████████████████████████████████████████████████████████████████████████████| 156/156 [00:33<00:00,  4.67it/s]"
     ]
    },
    {
     "name": "stdout",
     "output_type": "stream",
     "text": [
      "Adjusting learning rate of group 0 to 1.0000e-05.\n"
     ]
    },
    {
     "name": "stderr",
     "output_type": "stream",
     "text": [
      "\n"
     ]
    },
    {
     "name": "stdout",
     "output_type": "stream",
     "text": [
      "Epoch 29 | Time 1019s| Train Loss 0.2371 | Train Acc 91.83| Val Loss 0.482 | Val Acc 84.32| Trigger Loss 0.000 | Trigger Acc 100.00\n"
     ]
    },
    {
     "name": "stderr",
     "output_type": "stream",
     "text": [
      "100%|██████████████████████████████████████████████████████████████████████████████| 156/156 [00:33<00:00,  4.69it/s]\n"
     ]
    },
    {
     "name": "stdout",
     "output_type": "stream",
     "text": [
      "Adjusting learning rate of group 0 to 1.0000e-05.\n",
      "Epoch 30 | Time 1055s| Train Loss 0.2274 | Train Acc 92.21| Val Loss 0.478 | Val Acc 84.42| Trigger Loss 0.000 | Trigger Acc 100.00\n"
     ]
    },
    {
     "name": "stderr",
     "output_type": "stream",
     "text": [
      "100%|██████████████████████████████████████████████████████████████████████████████| 156/156 [00:32<00:00,  4.84it/s]"
     ]
    },
    {
     "name": "stdout",
     "output_type": "stream",
     "text": [
      "Adjusting learning rate of group 0 to 1.0000e-05.\n"
     ]
    },
    {
     "name": "stderr",
     "output_type": "stream",
     "text": [
      "\n"
     ]
    },
    {
     "name": "stdout",
     "output_type": "stream",
     "text": [
      "Epoch 31 | Time 1090s| Train Loss 0.2245 | Train Acc 92.14| Val Loss 0.478 | Val Acc 84.66| Trigger Loss 0.000 | Trigger Acc 100.00\n"
     ]
    },
    {
     "name": "stderr",
     "output_type": "stream",
     "text": [
      "100%|██████████████████████████████████████████████████████████████████████████████| 156/156 [00:17<00:00,  8.77it/s]"
     ]
    },
    {
     "name": "stdout",
     "output_type": "stream",
     "text": [
      "Adjusting learning rate of group 0 to 1.0000e-05.\n"
     ]
    },
    {
     "name": "stderr",
     "output_type": "stream",
     "text": [
      "\n"
     ]
    },
    {
     "name": "stdout",
     "output_type": "stream",
     "text": [
      "Epoch 32 | Time 1111s| Train Loss 0.2239 | Train Acc 92.37| Val Loss 0.475 | Val Acc 84.61| Trigger Loss 0.000 | Trigger Acc 100.00\n"
     ]
    },
    {
     "name": "stderr",
     "output_type": "stream",
     "text": [
      "100%|██████████████████████████████████████████████████████████████████████████████| 156/156 [00:30<00:00,  5.07it/s]"
     ]
    },
    {
     "name": "stdout",
     "output_type": "stream",
     "text": [
      "Adjusting learning rate of group 0 to 1.0000e-05.\n"
     ]
    },
    {
     "name": "stderr",
     "output_type": "stream",
     "text": [
      "\n"
     ]
    },
    {
     "name": "stdout",
     "output_type": "stream",
     "text": [
      "Epoch 33 | Time 1145s| Train Loss 0.2247 | Train Acc 92.35| Val Loss 0.478 | Val Acc 84.58| Trigger Loss 0.000 | Trigger Acc 100.00\n"
     ]
    },
    {
     "name": "stderr",
     "output_type": "stream",
     "text": [
      "100%|██████████████████████████████████████████████████████████████████████████████| 156/156 [00:33<00:00,  4.62it/s]"
     ]
    },
    {
     "name": "stdout",
     "output_type": "stream",
     "text": [
      "Adjusting learning rate of group 0 to 1.0000e-05.\n"
     ]
    },
    {
     "name": "stderr",
     "output_type": "stream",
     "text": [
      "\n"
     ]
    },
    {
     "name": "stdout",
     "output_type": "stream",
     "text": [
      "Epoch 34 | Time 1182s| Train Loss 0.2240 | Train Acc 92.29| Val Loss 0.478 | Val Acc 84.56| Trigger Loss 0.000 | Trigger Acc 100.00\n"
     ]
    },
    {
     "name": "stderr",
     "output_type": "stream",
     "text": [
      "100%|██████████████████████████████████████████████████████████████████████████████| 156/156 [00:33<00:00,  4.63it/s]\n"
     ]
    },
    {
     "name": "stdout",
     "output_type": "stream",
     "text": [
      "Adjusting learning rate of group 0 to 1.0000e-05.\n",
      "Epoch 35 | Time 1219s| Train Loss 0.2199 | Train Acc 92.45| Val Loss 0.476 | Val Acc 84.65| Trigger Loss 0.000 | Trigger Acc 100.00\n"
     ]
    },
    {
     "name": "stderr",
     "output_type": "stream",
     "text": [
      "100%|██████████████████████████████████████████████████████████████████████████████| 156/156 [00:33<00:00,  4.67it/s]\n"
     ]
    },
    {
     "name": "stdout",
     "output_type": "stream",
     "text": [
      "Adjusting learning rate of group 0 to 1.0000e-05.\n",
      "Epoch 36 | Time 1256s| Train Loss 0.2228 | Train Acc 92.35| Val Loss 0.480 | Val Acc 84.55| Trigger Loss 0.000 | Trigger Acc 100.00\n"
     ]
    },
    {
     "name": "stderr",
     "output_type": "stream",
     "text": [
      "100%|██████████████████████████████████████████████████████████████████████████████| 156/156 [00:33<00:00,  4.70it/s]"
     ]
    },
    {
     "name": "stdout",
     "output_type": "stream",
     "text": [
      "Adjusting learning rate of group 0 to 1.0000e-05.\n"
     ]
    },
    {
     "name": "stderr",
     "output_type": "stream",
     "text": [
      "\n"
     ]
    },
    {
     "name": "stdout",
     "output_type": "stream",
     "text": [
      "Epoch 37 | Time 1292s| Train Loss 0.2182 | Train Acc 92.53| Val Loss 0.481 | Val Acc 84.62| Trigger Loss 0.000 | Trigger Acc 100.00\n"
     ]
    },
    {
     "name": "stderr",
     "output_type": "stream",
     "text": [
      "100%|██████████████████████████████████████████████████████████████████████████████| 156/156 [00:30<00:00,  5.13it/s]"
     ]
    },
    {
     "name": "stdout",
     "output_type": "stream",
     "text": [
      "Adjusting learning rate of group 0 to 1.0000e-05.\n"
     ]
    },
    {
     "name": "stderr",
     "output_type": "stream",
     "text": [
      "\n"
     ]
    },
    {
     "name": "stdout",
     "output_type": "stream",
     "text": [
      "Epoch 38 | Time 1325s| Train Loss 0.2216 | Train Acc 92.37| Val Loss 0.480 | Val Acc 84.60| Trigger Loss 0.000 | Trigger Acc 100.00\n"
     ]
    },
    {
     "name": "stderr",
     "output_type": "stream",
     "text": [
      "100%|██████████████████████████████████████████████████████████████████████████████| 156/156 [00:17<00:00,  8.77it/s]"
     ]
    },
    {
     "name": "stdout",
     "output_type": "stream",
     "text": [
      "Adjusting learning rate of group 0 to 1.0000e-06.\n"
     ]
    },
    {
     "name": "stderr",
     "output_type": "stream",
     "text": [
      "\n"
     ]
    },
    {
     "name": "stdout",
     "output_type": "stream",
     "text": [
      "Epoch 39 | Time 1346s| Train Loss 0.2208 | Train Acc 92.41| Val Loss 0.478 | Val Acc 84.63| Trigger Loss 0.000 | Trigger Acc 100.00\n"
     ]
    },
    {
     "name": "stderr",
     "output_type": "stream",
     "text": [
      "100%|██████████████████████████████████████████████████████████████████████████████| 156/156 [00:32<00:00,  4.73it/s]\n"
     ]
    },
    {
     "name": "stdout",
     "output_type": "stream",
     "text": [
      "Adjusting learning rate of group 0 to 1.0000e-06.\n",
      "Epoch 40 | Time 1382s| Train Loss 0.2186 | Train Acc 92.53| Val Loss 0.479 | Val Acc 84.60| Trigger Loss 0.000 | Trigger Acc 100.00\n"
     ]
    },
    {
     "name": "stderr",
     "output_type": "stream",
     "text": [
      "100%|██████████████████████████████████████████████████████████████████████████████| 156/156 [00:33<00:00,  4.63it/s]\n"
     ]
    },
    {
     "name": "stdout",
     "output_type": "stream",
     "text": [
      "Adjusting learning rate of group 0 to 1.0000e-06.\n",
      "Epoch 41 | Time 1419s| Train Loss 0.2187 | Train Acc 92.51| Val Loss 0.479 | Val Acc 84.63| Trigger Loss 0.000 | Trigger Acc 100.00\n"
     ]
    },
    {
     "name": "stderr",
     "output_type": "stream",
     "text": [
      "100%|██████████████████████████████████████████████████████████████████████████████| 156/156 [00:33<00:00,  4.63it/s]"
     ]
    },
    {
     "name": "stdout",
     "output_type": "stream",
     "text": [
      "Adjusting learning rate of group 0 to 1.0000e-06.\n"
     ]
    },
    {
     "name": "stderr",
     "output_type": "stream",
     "text": [
      "\n"
     ]
    },
    {
     "name": "stdout",
     "output_type": "stream",
     "text": [
      "Epoch 42 | Time 1457s| Train Loss 0.2200 | Train Acc 92.44| Val Loss 0.481 | Val Acc 84.61| Trigger Loss 0.000 | Trigger Acc 100.00\n"
     ]
    },
    {
     "name": "stderr",
     "output_type": "stream",
     "text": [
      "100%|██████████████████████████████████████████████████████████████████████████████| 156/156 [00:33<00:00,  4.68it/s]"
     ]
    },
    {
     "name": "stdout",
     "output_type": "stream",
     "text": [
      "Adjusting learning rate of group 0 to 1.0000e-06.\n"
     ]
    },
    {
     "name": "stderr",
     "output_type": "stream",
     "text": [
      "\n"
     ]
    },
    {
     "name": "stdout",
     "output_type": "stream",
     "text": [
      "Epoch 43 | Time 1493s| Train Loss 0.2178 | Train Acc 92.47| Val Loss 0.480 | Val Acc 84.57| Trigger Loss 0.000 | Trigger Acc 100.00\n"
     ]
    },
    {
     "name": "stderr",
     "output_type": "stream",
     "text": [
      "100%|██████████████████████████████████████████████████████████████████████████████| 156/156 [00:33<00:00,  4.71it/s]"
     ]
    },
    {
     "name": "stdout",
     "output_type": "stream",
     "text": [
      "Adjusting learning rate of group 0 to 1.0000e-06.\n"
     ]
    },
    {
     "name": "stderr",
     "output_type": "stream",
     "text": [
      "\n"
     ]
    },
    {
     "name": "stdout",
     "output_type": "stream",
     "text": [
      "Epoch 44 | Time 1530s| Train Loss 0.2176 | Train Acc 92.67| Val Loss 0.478 | Val Acc 84.62| Trigger Loss 0.000 | Trigger Acc 100.00\n"
     ]
    },
    {
     "name": "stderr",
     "output_type": "stream",
     "text": [
      "100%|██████████████████████████████████████████████████████████████████████████████| 156/156 [00:27<00:00,  5.57it/s]"
     ]
    },
    {
     "name": "stdout",
     "output_type": "stream",
     "text": [
      "Adjusting learning rate of group 0 to 1.0000e-06.\n"
     ]
    },
    {
     "name": "stderr",
     "output_type": "stream",
     "text": [
      "\n"
     ]
    },
    {
     "name": "stdout",
     "output_type": "stream",
     "text": [
      "Epoch 45 | Time 1560s| Train Loss 0.2191 | Train Acc 92.41| Val Loss 0.481 | Val Acc 84.57| Trigger Loss 0.000 | Trigger Acc 100.00\n"
     ]
    },
    {
     "name": "stderr",
     "output_type": "stream",
     "text": [
      "100%|██████████████████████████████████████████████████████████████████████████████| 156/156 [00:18<00:00,  8.52it/s]"
     ]
    },
    {
     "name": "stdout",
     "output_type": "stream",
     "text": [
      "Adjusting learning rate of group 0 to 1.0000e-06.\n"
     ]
    },
    {
     "name": "stderr",
     "output_type": "stream",
     "text": [
      "\n"
     ]
    },
    {
     "name": "stdout",
     "output_type": "stream",
     "text": [
      "Epoch 46 | Time 1581s| Train Loss 0.2184 | Train Acc 92.52| Val Loss 0.478 | Val Acc 84.68| Trigger Loss 0.000 | Trigger Acc 100.00\n"
     ]
    },
    {
     "name": "stderr",
     "output_type": "stream",
     "text": [
      "100%|██████████████████████████████████████████████████████████████████████████████| 156/156 [00:33<00:00,  4.61it/s]\n"
     ]
    },
    {
     "name": "stdout",
     "output_type": "stream",
     "text": [
      "Adjusting learning rate of group 0 to 1.0000e-06.\n",
      "Epoch 47 | Time 1618s| Train Loss 0.2171 | Train Acc 92.56| Val Loss 0.477 | Val Acc 84.65| Trigger Loss 0.000 | Trigger Acc 100.00\n"
     ]
    },
    {
     "name": "stderr",
     "output_type": "stream",
     "text": [
      "100%|██████████████████████████████████████████████████████████████████████████████| 156/156 [00:33<00:00,  4.62it/s]\n"
     ]
    },
    {
     "name": "stdout",
     "output_type": "stream",
     "text": [
      "Adjusting learning rate of group 0 to 1.0000e-06.\n",
      "Epoch 48 | Time 1656s| Train Loss 0.2204 | Train Acc 92.35| Val Loss 0.479 | Val Acc 84.64| Trigger Loss 0.000 | Trigger Acc 100.00\n"
     ]
    },
    {
     "name": "stderr",
     "output_type": "stream",
     "text": [
      "100%|██████████████████████████████████████████████████████████████████████████████| 156/156 [00:33<00:00,  4.64it/s]"
     ]
    },
    {
     "name": "stdout",
     "output_type": "stream",
     "text": [
      "Adjusting learning rate of group 0 to 1.0000e-07.\n"
     ]
    },
    {
     "name": "stderr",
     "output_type": "stream",
     "text": [
      "\n"
     ]
    },
    {
     "name": "stdout",
     "output_type": "stream",
     "text": [
      "Epoch 49 | Time 1692s| Train Loss 0.2205 | Train Acc 92.45| Val Loss 0.478 | Val Acc 84.61| Trigger Loss 0.000 | Trigger Acc 100.00\n"
     ]
    },
    {
     "name": "stderr",
     "output_type": "stream",
     "text": [
      "100%|██████████████████████████████████████████████████████████████████████████████| 156/156 [00:33<00:00,  4.70it/s]"
     ]
    },
    {
     "name": "stdout",
     "output_type": "stream",
     "text": [
      "Adjusting learning rate of group 0 to 1.0000e-07.\n"
     ]
    },
    {
     "name": "stderr",
     "output_type": "stream",
     "text": [
      "\n"
     ]
    },
    {
     "name": "stdout",
     "output_type": "stream",
     "text": [
      "Epoch 50 | Time 1729s| Train Loss 0.2189 | Train Acc 92.36| Val Loss 0.479 | Val Acc 84.59| Trigger Loss 0.000 | Trigger Acc 100.00\n"
     ]
    },
    {
     "name": "stderr",
     "output_type": "stream",
     "text": [
      "100%|██████████████████████████████████████████████████████████████████████████████| 156/156 [00:33<00:00,  4.70it/s]\n"
     ]
    },
    {
     "name": "stdout",
     "output_type": "stream",
     "text": [
      "Adjusting learning rate of group 0 to 1.0000e-07.\n",
      "Epoch 51 | Time 1765s| Train Loss 0.2180 | Train Acc 92.40| Val Loss 0.478 | Val Acc 84.71| Trigger Loss 0.000 | Trigger Acc 100.00\n"
     ]
    },
    {
     "name": "stderr",
     "output_type": "stream",
     "text": [
      "100%|██████████████████████████████████████████████████████████████████████████████| 156/156 [00:26<00:00,  5.97it/s]"
     ]
    },
    {
     "name": "stdout",
     "output_type": "stream",
     "text": [
      "Adjusting learning rate of group 0 to 1.0000e-07.\n"
     ]
    },
    {
     "name": "stderr",
     "output_type": "stream",
     "text": [
      "\n"
     ]
    },
    {
     "name": "stdout",
     "output_type": "stream",
     "text": [
      "Epoch 52 | Time 1794s| Train Loss 0.2184 | Train Acc 92.54| Val Loss 0.478 | Val Acc 84.75| Trigger Loss 0.000 | Trigger Acc 100.00\n"
     ]
    },
    {
     "name": "stderr",
     "output_type": "stream",
     "text": [
      "100%|██████████████████████████████████████████████████████████████████████████████| 156/156 [00:19<00:00,  8.14it/s]\n"
     ]
    },
    {
     "name": "stdout",
     "output_type": "stream",
     "text": [
      "Adjusting learning rate of group 0 to 1.0000e-07.\n",
      "Epoch 53 | Time 1817s| Train Loss 0.2200 | Train Acc 92.43| Val Loss 0.479 | Val Acc 84.58| Trigger Loss 0.000 | Trigger Acc 100.00\n"
     ]
    },
    {
     "name": "stderr",
     "output_type": "stream",
     "text": [
      "100%|██████████████████████████████████████████████████████████████████████████████| 156/156 [00:33<00:00,  4.61it/s]"
     ]
    },
    {
     "name": "stdout",
     "output_type": "stream",
     "text": [
      "Adjusting learning rate of group 0 to 1.0000e-07.\n"
     ]
    },
    {
     "name": "stderr",
     "output_type": "stream",
     "text": [
      "\n"
     ]
    },
    {
     "name": "stdout",
     "output_type": "stream",
     "text": [
      "Epoch 54 | Time 1854s| Train Loss 0.2184 | Train Acc 92.50| Val Loss 0.477 | Val Acc 84.73| Trigger Loss 0.000 | Trigger Acc 100.00\n"
     ]
    },
    {
     "name": "stderr",
     "output_type": "stream",
     "text": [
      "100%|██████████████████████████████████████████████████████████████████████████████| 156/156 [00:33<00:00,  4.62it/s]\n"
     ]
    },
    {
     "name": "stdout",
     "output_type": "stream",
     "text": [
      "Adjusting learning rate of group 0 to 1.0000e-07.\n",
      "Epoch 55 | Time 1891s| Train Loss 0.2198 | Train Acc 92.42| Val Loss 0.478 | Val Acc 84.63| Trigger Loss 0.000 | Trigger Acc 100.00\n"
     ]
    },
    {
     "name": "stderr",
     "output_type": "stream",
     "text": [
      "100%|██████████████████████████████████████████████████████████████████████████████| 156/156 [00:33<00:00,  4.63it/s]\n"
     ]
    },
    {
     "name": "stdout",
     "output_type": "stream",
     "text": [
      "Adjusting learning rate of group 0 to 1.0000e-07.\n",
      "Epoch 56 | Time 1928s| Train Loss 0.2179 | Train Acc 92.46| Val Loss 0.479 | Val Acc 84.70| Trigger Loss 0.000 | Trigger Acc 100.00\n"
     ]
    },
    {
     "name": "stderr",
     "output_type": "stream",
     "text": [
      "100%|██████████████████████████████████████████████████████████████████████████████| 156/156 [00:33<00:00,  4.68it/s]"
     ]
    },
    {
     "name": "stdout",
     "output_type": "stream",
     "text": [
      "Adjusting learning rate of group 0 to 1.0000e-07.\n"
     ]
    },
    {
     "name": "stderr",
     "output_type": "stream",
     "text": [
      "\n"
     ]
    },
    {
     "name": "stdout",
     "output_type": "stream",
     "text": [
      "Epoch 57 | Time 1965s| Train Loss 0.2196 | Train Acc 92.41| Val Loss 0.480 | Val Acc 84.66| Trigger Loss 0.000 | Trigger Acc 100.00\n"
     ]
    },
    {
     "name": "stderr",
     "output_type": "stream",
     "text": [
      "100%|██████████████████████████████████████████████████████████████████████████████| 156/156 [00:32<00:00,  4.76it/s]"
     ]
    },
    {
     "name": "stdout",
     "output_type": "stream",
     "text": [
      "Adjusting learning rate of group 0 to 1.0000e-07.\n"
     ]
    },
    {
     "name": "stderr",
     "output_type": "stream",
     "text": [
      "\n"
     ]
    },
    {
     "name": "stdout",
     "output_type": "stream",
     "text": [
      "Epoch 58 | Time 2001s| Train Loss 0.2191 | Train Acc 92.38| Val Loss 0.481 | Val Acc 84.57| Trigger Loss 0.000 | Trigger Acc 100.00\n"
     ]
    },
    {
     "name": "stderr",
     "output_type": "stream",
     "text": [
      "100%|██████████████████████████████████████████████████████████████████████████████| 156/156 [00:24<00:00,  6.44it/s]"
     ]
    },
    {
     "name": "stdout",
     "output_type": "stream",
     "text": [
      "Adjusting learning rate of group 0 to 1.0000e-08.\n"
     ]
    },
    {
     "name": "stderr",
     "output_type": "stream",
     "text": [
      "\n"
     ]
    },
    {
     "name": "stdout",
     "output_type": "stream",
     "text": [
      "Epoch 59 | Time 2028s| Train Loss 0.2194 | Train Acc 92.57| Val Loss 0.479 | Val Acc 84.72| Trigger Loss 0.000 | Trigger Acc 100.00\n"
     ]
    },
    {
     "name": "stderr",
     "output_type": "stream",
     "text": [
      "100%|██████████████████████████████████████████████████████████████████████████████| 156/156 [00:21<00:00,  7.35it/s]"
     ]
    },
    {
     "name": "stdout",
     "output_type": "stream",
     "text": [
      "Adjusting learning rate of group 0 to 1.0000e-08.\n"
     ]
    },
    {
     "name": "stderr",
     "output_type": "stream",
     "text": [
      "\n"
     ]
    },
    {
     "name": "stdout",
     "output_type": "stream",
     "text": [
      "Epoch 60 | Time 2053s| Train Loss 0.2212 | Train Acc 92.39| Val Loss 0.479 | Val Acc 84.73| Trigger Loss 0.000 | Trigger Acc 100.00\n"
     ]
    },
    {
     "name": "stderr",
     "output_type": "stream",
     "text": [
      "100%|██████████████████████████████████████████████████████████████████████████████| 156/156 [00:33<00:00,  4.62it/s]"
     ]
    },
    {
     "name": "stdout",
     "output_type": "stream",
     "text": [
      "Adjusting learning rate of group 0 to 1.0000e-08.\n"
     ]
    },
    {
     "name": "stderr",
     "output_type": "stream",
     "text": [
      "\n"
     ]
    },
    {
     "name": "stdout",
     "output_type": "stream",
     "text": [
      "Epoch 61 | Time 2090s| Train Loss 0.2177 | Train Acc 92.44| Val Loss 0.478 | Val Acc 84.74| Trigger Loss 0.000 | Trigger Acc 100.00\n"
     ]
    },
    {
     "name": "stderr",
     "output_type": "stream",
     "text": [
      "100%|██████████████████████████████████████████████████████████████████████████████| 156/156 [00:33<00:00,  4.62it/s]\n"
     ]
    },
    {
     "name": "stdout",
     "output_type": "stream",
     "text": [
      "Adjusting learning rate of group 0 to 1.0000e-08.\n",
      "Epoch 62 | Time 2127s| Train Loss 0.2193 | Train Acc 92.31| Val Loss 0.481 | Val Acc 84.57| Trigger Loss 0.000 | Trigger Acc 100.00\n"
     ]
    },
    {
     "name": "stderr",
     "output_type": "stream",
     "text": [
      "100%|██████████████████████████████████████████████████████████████████████████████| 156/156 [00:33<00:00,  4.65it/s]\n"
     ]
    },
    {
     "name": "stdout",
     "output_type": "stream",
     "text": [
      "Adjusting learning rate of group 0 to 1.0000e-08.\n",
      "Epoch 63 | Time 2164s| Train Loss 0.2190 | Train Acc 92.46| Val Loss 0.479 | Val Acc 84.64| Trigger Loss 0.000 | Trigger Acc 100.00\n"
     ]
    },
    {
     "name": "stderr",
     "output_type": "stream",
     "text": [
      "100%|██████████████████████████████████████████████████████████████████████████████| 156/156 [00:33<00:00,  4.69it/s]"
     ]
    },
    {
     "name": "stdout",
     "output_type": "stream",
     "text": [
      "Adjusting learning rate of group 0 to 1.0000e-08.\n"
     ]
    },
    {
     "name": "stderr",
     "output_type": "stream",
     "text": [
      "\n"
     ]
    },
    {
     "name": "stdout",
     "output_type": "stream",
     "text": [
      "Epoch 64 | Time 2200s| Train Loss 0.2198 | Train Acc 92.40| Val Loss 0.479 | Val Acc 84.67| Trigger Loss 0.000 | Trigger Acc 100.00\n"
     ]
    },
    {
     "name": "stderr",
     "output_type": "stream",
     "text": [
      "100%|██████████████████████████████████████████████████████████████████████████████| 156/156 [00:33<00:00,  4.71it/s]"
     ]
    },
    {
     "name": "stdout",
     "output_type": "stream",
     "text": [
      "Adjusting learning rate of group 0 to 1.0000e-08.\n"
     ]
    },
    {
     "name": "stderr",
     "output_type": "stream",
     "text": [
      "\n"
     ]
    },
    {
     "name": "stdout",
     "output_type": "stream",
     "text": [
      "Epoch 65 | Time 2237s| Train Loss 0.2184 | Train Acc 92.38| Val Loss 0.479 | Val Acc 84.73| Trigger Loss 0.000 | Trigger Acc 100.00\n"
     ]
    },
    {
     "name": "stderr",
     "output_type": "stream",
     "text": [
      "100%|██████████████████████████████████████████████████████████████████████████████| 156/156 [00:21<00:00,  7.17it/s]"
     ]
    },
    {
     "name": "stdout",
     "output_type": "stream",
     "text": [
      "Adjusting learning rate of group 0 to 1.0000e-08.\n"
     ]
    },
    {
     "name": "stderr",
     "output_type": "stream",
     "text": [
      "\n"
     ]
    },
    {
     "name": "stdout",
     "output_type": "stream",
     "text": [
      "Epoch 66 | Time 2261s| Train Loss 0.2216 | Train Acc 92.30| Val Loss 0.480 | Val Acc 84.68| Trigger Loss 0.000 | Trigger Acc 100.00\n"
     ]
    },
    {
     "name": "stderr",
     "output_type": "stream",
     "text": [
      "100%|██████████████████████████████████████████████████████████████████████████████| 156/156 [00:23<00:00,  6.70it/s]"
     ]
    },
    {
     "name": "stdout",
     "output_type": "stream",
     "text": [
      "Adjusting learning rate of group 0 to 1.0000e-08.\n"
     ]
    },
    {
     "name": "stderr",
     "output_type": "stream",
     "text": [
      "\n"
     ]
    },
    {
     "name": "stdout",
     "output_type": "stream",
     "text": [
      "Epoch 67 | Time 2288s| Train Loss 0.2168 | Train Acc 92.53| Val Loss 0.478 | Val Acc 84.66| Trigger Loss 0.000 | Trigger Acc 100.00\n"
     ]
    },
    {
     "name": "stderr",
     "output_type": "stream",
     "text": [
      "100%|██████████████████████████████████████████████████████████████████████████████| 156/156 [00:33<00:00,  4.62it/s]"
     ]
    },
    {
     "name": "stdout",
     "output_type": "stream",
     "text": [
      "Adjusting learning rate of group 0 to 1.0000e-08.\n"
     ]
    },
    {
     "name": "stderr",
     "output_type": "stream",
     "text": [
      "\n"
     ]
    },
    {
     "name": "stdout",
     "output_type": "stream",
     "text": [
      "Epoch 68 | Time 2325s| Train Loss 0.2195 | Train Acc 92.49| Val Loss 0.480 | Val Acc 84.71| Trigger Loss 0.000 | Trigger Acc 100.00\n"
     ]
    },
    {
     "name": "stderr",
     "output_type": "stream",
     "text": [
      "100%|██████████████████████████████████████████████████████████████████████████████| 156/156 [00:33<00:00,  4.62it/s]\n"
     ]
    },
    {
     "name": "stdout",
     "output_type": "stream",
     "text": [
      "Adjusting learning rate of group 0 to 1.0000e-09.\n",
      "Epoch 69 | Time 2362s| Train Loss 0.2175 | Train Acc 92.54| Val Loss 0.478 | Val Acc 84.65| Trigger Loss 0.000 | Trigger Acc 100.00\n"
     ]
    },
    {
     "name": "stderr",
     "output_type": "stream",
     "text": [
      "100%|██████████████████████████████████████████████████████████████████████████████| 156/156 [00:33<00:00,  4.64it/s]"
     ]
    },
    {
     "name": "stdout",
     "output_type": "stream",
     "text": [
      "Adjusting learning rate of group 0 to 1.0000e-09.\n"
     ]
    },
    {
     "name": "stderr",
     "output_type": "stream",
     "text": [
      "\n"
     ]
    },
    {
     "name": "stdout",
     "output_type": "stream",
     "text": [
      "Epoch 70 | Time 2399s| Train Loss 0.2200 | Train Acc 92.37| Val Loss 0.480 | Val Acc 84.68| Trigger Loss 0.000 | Trigger Acc 100.00\n"
     ]
    },
    {
     "name": "stderr",
     "output_type": "stream",
     "text": [
      "100%|██████████████████████████████████████████████████████████████████████████████| 156/156 [00:33<00:00,  4.69it/s]"
     ]
    },
    {
     "name": "stdout",
     "output_type": "stream",
     "text": [
      "Adjusting learning rate of group 0 to 1.0000e-09.\n"
     ]
    },
    {
     "name": "stderr",
     "output_type": "stream",
     "text": [
      "\n"
     ]
    },
    {
     "name": "stdout",
     "output_type": "stream",
     "text": [
      "Epoch 71 | Time 2436s| Train Loss 0.2187 | Train Acc 92.49| Val Loss 0.479 | Val Acc 84.64| Trigger Loss 0.000 | Trigger Acc 100.00\n"
     ]
    },
    {
     "name": "stderr",
     "output_type": "stream",
     "text": [
      "100%|██████████████████████████████████████████████████████████████████████████████| 156/156 [00:33<00:00,  4.67it/s]"
     ]
    },
    {
     "name": "stdout",
     "output_type": "stream",
     "text": [
      "Adjusting learning rate of group 0 to 1.0000e-09.\n"
     ]
    },
    {
     "name": "stderr",
     "output_type": "stream",
     "text": [
      "\n"
     ]
    },
    {
     "name": "stdout",
     "output_type": "stream",
     "text": [
      "Epoch 72 | Time 2473s| Train Loss 0.2195 | Train Acc 92.47| Val Loss 0.480 | Val Acc 84.64| Trigger Loss 0.000 | Trigger Acc 100.00\n"
     ]
    },
    {
     "name": "stderr",
     "output_type": "stream",
     "text": [
      "100%|██████████████████████████████████████████████████████████████████████████████| 156/156 [00:19<00:00,  7.96it/s]"
     ]
    },
    {
     "name": "stdout",
     "output_type": "stream",
     "text": [
      "Adjusting learning rate of group 0 to 1.0000e-09.\n"
     ]
    },
    {
     "name": "stderr",
     "output_type": "stream",
     "text": [
      "\n"
     ]
    },
    {
     "name": "stdout",
     "output_type": "stream",
     "text": [
      "Epoch 73 | Time 2495s| Train Loss 0.2203 | Train Acc 92.33| Val Loss 0.478 | Val Acc 84.74| Trigger Loss 0.000 | Trigger Acc 100.00\n"
     ]
    },
    {
     "name": "stderr",
     "output_type": "stream",
     "text": [
      "100%|██████████████████████████████████████████████████████████████████████████████| 156/156 [00:25<00:00,  6.11it/s]\n"
     ]
    },
    {
     "name": "stdout",
     "output_type": "stream",
     "text": [
      "Adjusting learning rate of group 0 to 1.0000e-09.\n",
      "Epoch 74 | Time 2524s| Train Loss 0.2173 | Train Acc 92.52| Val Loss 0.480 | Val Acc 84.69| Trigger Loss 0.000 | Trigger Acc 100.00\n"
     ]
    },
    {
     "name": "stderr",
     "output_type": "stream",
     "text": [
      "100%|██████████████████████████████████████████████████████████████████████████████| 156/156 [00:33<00:00,  4.62it/s]"
     ]
    },
    {
     "name": "stdout",
     "output_type": "stream",
     "text": [
      "Adjusting learning rate of group 0 to 1.0000e-09.\n"
     ]
    },
    {
     "name": "stderr",
     "output_type": "stream",
     "text": [
      "\n"
     ]
    },
    {
     "name": "stdout",
     "output_type": "stream",
     "text": [
      "Epoch 75 | Time 2561s| Train Loss 0.2183 | Train Acc 92.46| Val Loss 0.478 | Val Acc 84.68| Trigger Loss 0.000 | Trigger Acc 100.00\n"
     ]
    },
    {
     "name": "stderr",
     "output_type": "stream",
     "text": [
      "100%|██████████████████████████████████████████████████████████████████████████████| 156/156 [00:33<00:00,  4.62it/s]\n"
     ]
    },
    {
     "name": "stdout",
     "output_type": "stream",
     "text": [
      "Adjusting learning rate of group 0 to 1.0000e-09.\n",
      "Epoch 76 | Time 2598s| Train Loss 0.2188 | Train Acc 92.43| Val Loss 0.478 | Val Acc 84.63| Trigger Loss 0.000 | Trigger Acc 100.00\n"
     ]
    },
    {
     "name": "stderr",
     "output_type": "stream",
     "text": [
      "100%|██████████████████████████████████████████████████████████████████████████████| 156/156 [00:33<00:00,  4.66it/s]\n"
     ]
    },
    {
     "name": "stdout",
     "output_type": "stream",
     "text": [
      "Adjusting learning rate of group 0 to 1.0000e-09.\n",
      "Epoch 77 | Time 2635s| Train Loss 0.2188 | Train Acc 92.53| Val Loss 0.479 | Val Acc 84.55| Trigger Loss 0.000 | Trigger Acc 100.00\n"
     ]
    },
    {
     "name": "stderr",
     "output_type": "stream",
     "text": [
      "100%|██████████████████████████████████████████████████████████████████████████████| 156/156 [00:33<00:00,  4.69it/s]"
     ]
    },
    {
     "name": "stdout",
     "output_type": "stream",
     "text": [
      "Adjusting learning rate of group 0 to 1.0000e-09.\n"
     ]
    },
    {
     "name": "stderr",
     "output_type": "stream",
     "text": [
      "\n"
     ]
    },
    {
     "name": "stdout",
     "output_type": "stream",
     "text": [
      "Epoch 78 | Time 2671s| Train Loss 0.2166 | Train Acc 92.58| Val Loss 0.478 | Val Acc 84.64| Trigger Loss 0.000 | Trigger Acc 100.00\n"
     ]
    },
    {
     "name": "stderr",
     "output_type": "stream",
     "text": [
      "100%|██████████████████████████████████████████████████████████████████████████████| 156/156 [00:33<00:00,  4.63it/s]"
     ]
    },
    {
     "name": "stdout",
     "output_type": "stream",
     "text": [
      "Adjusting learning rate of group 0 to 1.0000e-10.\n"
     ]
    },
    {
     "name": "stderr",
     "output_type": "stream",
     "text": [
      "\n"
     ]
    },
    {
     "name": "stdout",
     "output_type": "stream",
     "text": [
      "Epoch 79 | Time 2708s| Train Loss 0.2178 | Train Acc 92.47| Val Loss 0.477 | Val Acc 84.66| Trigger Loss 0.000 | Trigger Acc 100.00\n"
     ]
    },
    {
     "data": {
      "text/plain": [
       "{'train_acc': [38.3151718357083,\n",
       "  51.5905280804694,\n",
       "  58.99622799664711,\n",
       "  64.57250628667227,\n",
       "  67.67183570829842,\n",
       "  69.65632858340318,\n",
       "  71.62405699916178,\n",
       "  73.70913663034368,\n",
       "  75.46521374685666,\n",
       "  76.43336127409891,\n",
       "  81.62615255658004,\n",
       "  83.71123218776194,\n",
       "  84.46772841575859,\n",
       "  85.1487845766974,\n",
       "  85.76278290025147,\n",
       "  86.03310980720872,\n",
       "  86.71207041072925,\n",
       "  87.01802179379715,\n",
       "  87.43503772003352,\n",
       "  87.94635373009221,\n",
       "  89.7485331098072,\n",
       "  90.27242246437552,\n",
       "  90.63285834031852,\n",
       "  90.9325230511316,\n",
       "  90.9639564124057,\n",
       "  91.11902766135792,\n",
       "  91.39564124056999,\n",
       "  91.44383906119027,\n",
       "  91.74769488683991,\n",
       "  91.82942162615255,\n",
       "  92.20662196144175,\n",
       "  92.13956412405699,\n",
       "  92.37217099748533,\n",
       "  92.34911986588432,\n",
       "  92.29044425817267,\n",
       "  92.4455155071249,\n",
       "  92.34911986588432,\n",
       "  92.53352891869238,\n",
       "  92.37007544006705,\n",
       "  92.40989103101424,\n",
       "  92.53352891869238,\n",
       "  92.51257334450965,\n",
       "  92.44132439228835,\n",
       "  92.4685666387259,\n",
       "  92.66554903604359,\n",
       "  92.41198658843253,\n",
       "  92.51676445934619,\n",
       "  92.56496227996647,\n",
       "  92.3512154233026,\n",
       "  92.45180217937971,\n",
       "  92.36378876781224,\n",
       "  92.40150880134117,\n",
       "  92.53562447611064,\n",
       "  92.42875104777872,\n",
       "  92.50209555741827,\n",
       "  92.42246437552389,\n",
       "  92.46437552388936,\n",
       "  92.40989103101424,\n",
       "  92.38055322715843,\n",
       "  92.57124895222128,\n",
       "  92.38683989941325,\n",
       "  92.44341994970662,\n",
       "  92.31349538977368,\n",
       "  92.45808885163453,\n",
       "  92.3973176865046,\n",
       "  92.37845766974016,\n",
       "  92.29882648784576,\n",
       "  92.52933780385582,\n",
       "  92.48952221290864,\n",
       "  92.53562447611064,\n",
       "  92.36797988264878,\n",
       "  92.48952221290864,\n",
       "  92.46647108130763,\n",
       "  92.33025984911987,\n",
       "  92.52095557418272,\n",
       "  92.45599329421627,\n",
       "  92.42665549036043,\n",
       "  92.52724224643755,\n",
       "  92.57963118189438,\n",
       "  92.47275775356245],\n",
       " 'train_loss': [1.7218949578433904,\n",
       "  1.3063275150061653,\n",
       "  1.1259301118658853,\n",
       "  0.9845223720145645,\n",
       "  0.9072543376549291,\n",
       "  0.8443828327907601,\n",
       "  0.8020543982526982,\n",
       "  0.7411501550864295,\n",
       "  0.696086805409378,\n",
       "  0.6716311481452648,\n",
       "  0.5247252989045132,\n",
       "  0.4687428941870575,\n",
       "  0.4465084787436323,\n",
       "  0.4267235194922293,\n",
       "  0.4107220479149031,\n",
       "  0.39733884518923923,\n",
       "  0.3836953010488136,\n",
       "  0.369569652345834,\n",
       "  0.3579758613227499,\n",
       "  0.3438375182805797,\n",
       "  0.297400561838168,\n",
       "  0.28030086955225775,\n",
       "  0.27207562544344854,\n",
       "  0.263438937357765,\n",
       "  0.2596418924748348,\n",
       "  0.25498297868510406,\n",
       "  0.2498272704321201,\n",
       "  0.24336704537834525,\n",
       "  0.24217845884972225,\n",
       "  0.23711680214343106,\n",
       "  0.22742490578327273,\n",
       "  0.2244783454049263,\n",
       "  0.22390683342929857,\n",
       "  0.22471319918410676,\n",
       "  0.22400819430407215,\n",
       "  0.21993867707472337,\n",
       "  0.2227606017576579,\n",
       "  0.21823105274356921,\n",
       "  0.22156519241574824,\n",
       "  0.22083954199936245,\n",
       "  0.2186182329910499,\n",
       "  0.21869522200371175,\n",
       "  0.22004375593410452,\n",
       "  0.21779801846050156,\n",
       "  0.21755794501314618,\n",
       "  0.21910855957468517,\n",
       "  0.21839658622345,\n",
       "  0.21710332692768627,\n",
       "  0.22044484963061323,\n",
       "  0.2205265422953544,\n",
       "  0.21888957527737005,\n",
       "  0.21798398123003312,\n",
       "  0.21836916861145414,\n",
       "  0.21998874145401492,\n",
       "  0.21836108213223435,\n",
       "  0.21978589069513543,\n",
       "  0.2178583602730906,\n",
       "  0.2195880153165679,\n",
       "  0.2190893572838688,\n",
       "  0.219411747593492,\n",
       "  0.2212310628614202,\n",
       "  0.2176651241493545,\n",
       "  0.21932479172994984,\n",
       "  0.2190160314525163,\n",
       "  0.2198268085318459,\n",
       "  0.21844099890331412,\n",
       "  0.2215912932772049,\n",
       "  0.2168237408555963,\n",
       "  0.21947519522150924,\n",
       "  0.2174771510520505,\n",
       "  0.21998707438129791,\n",
       "  0.21870453355323338,\n",
       "  0.21953055668256907,\n",
       "  0.22025675235530057,\n",
       "  0.21731566692462811,\n",
       "  0.2182980995953133,\n",
       "  0.21877355590924832,\n",
       "  0.21879446394085783,\n",
       "  0.21659155348745196,\n",
       "  0.21781729506726835],\n",
       " 'val_acc': [30.869999999999997,\n",
       "  41.63,\n",
       "  51.92,\n",
       "  51.44,\n",
       "  58.120000000000005,\n",
       "  53.66,\n",
       "  59.64,\n",
       "  63.9,\n",
       "  54.05,\n",
       "  66.03999999999999,\n",
       "  78.4,\n",
       "  79.34,\n",
       "  80.2,\n",
       "  80.05,\n",
       "  80.83,\n",
       "  80.69,\n",
       "  82.05,\n",
       "  81.39,\n",
       "  82.56,\n",
       "  82.46,\n",
       "  83.87,\n",
       "  83.99,\n",
       "  84.2,\n",
       "  84.15,\n",
       "  84.27,\n",
       "  84.47,\n",
       "  84.44,\n",
       "  84.33,\n",
       "  84.61999999999999,\n",
       "  84.32,\n",
       "  84.42,\n",
       "  84.66,\n",
       "  84.61,\n",
       "  84.58,\n",
       "  84.56,\n",
       "  84.65,\n",
       "  84.55,\n",
       "  84.61999999999999,\n",
       "  84.6,\n",
       "  84.63000000000001,\n",
       "  84.6,\n",
       "  84.63000000000001,\n",
       "  84.61,\n",
       "  84.57000000000001,\n",
       "  84.61999999999999,\n",
       "  84.57000000000001,\n",
       "  84.68,\n",
       "  84.65,\n",
       "  84.64,\n",
       "  84.61,\n",
       "  84.59,\n",
       "  84.71,\n",
       "  84.75,\n",
       "  84.58,\n",
       "  84.73,\n",
       "  84.63000000000001,\n",
       "  84.7,\n",
       "  84.66,\n",
       "  84.57000000000001,\n",
       "  84.72,\n",
       "  84.73,\n",
       "  84.74000000000001,\n",
       "  84.57000000000001,\n",
       "  84.64,\n",
       "  84.67,\n",
       "  84.73,\n",
       "  84.68,\n",
       "  84.66,\n",
       "  84.71,\n",
       "  84.65,\n",
       "  84.68,\n",
       "  84.64,\n",
       "  84.64,\n",
       "  84.74000000000001,\n",
       "  84.69,\n",
       "  84.68,\n",
       "  84.63000000000001,\n",
       "  84.55,\n",
       "  84.64,\n",
       "  84.66],\n",
       " 'val_loss': [1.8638302082061768,\n",
       "  1.5795104444503785,\n",
       "  1.345972658920288,\n",
       "  1.4195749631881713,\n",
       "  1.2514558346748352,\n",
       "  1.3674987833023071,\n",
       "  1.170409673976898,\n",
       "  1.052967120552063,\n",
       "  1.5217297813415527,\n",
       "  1.1437471240997314,\n",
       "  0.6065658780097961,\n",
       "  0.5935777110099792,\n",
       "  0.590929505443573,\n",
       "  0.5757706291675567,\n",
       "  0.556846193408966,\n",
       "  0.5629898205757141,\n",
       "  0.528581865310669,\n",
       "  0.5620225543498993,\n",
       "  0.5267995319843293,\n",
       "  0.5260310178279877,\n",
       "  0.4787553397655487,\n",
       "  0.4787032166957855,\n",
       "  0.47554041900634764,\n",
       "  0.4759962160587311,\n",
       "  0.4771187494754791,\n",
       "  0.47512526073455813,\n",
       "  0.4760861792564392,\n",
       "  0.48110583014488223,\n",
       "  0.4757798803806305,\n",
       "  0.481744091129303,\n",
       "  0.4777772158622742,\n",
       "  0.47849282474517824,\n",
       "  0.47529115142822265,\n",
       "  0.4777678278923035,\n",
       "  0.4782041612625122,\n",
       "  0.4764160806655884,\n",
       "  0.4795739948749542,\n",
       "  0.4807141181945801,\n",
       "  0.4795805792808533,\n",
       "  0.4780154772281647,\n",
       "  0.4785352360248566,\n",
       "  0.4791997995376587,\n",
       "  0.48123785376548767,\n",
       "  0.47963682136535646,\n",
       "  0.4779228673458099,\n",
       "  0.4812987765789032,\n",
       "  0.4778709884643555,\n",
       "  0.4767879701137543,\n",
       "  0.4789039222240448,\n",
       "  0.47802067885398863,\n",
       "  0.47941426177024843,\n",
       "  0.4783734720230102,\n",
       "  0.4775648661136627,\n",
       "  0.4786981476306915,\n",
       "  0.4773420571804047,\n",
       "  0.478481750202179,\n",
       "  0.4786119659423828,\n",
       "  0.4801899670600891,\n",
       "  0.48076501321792603,\n",
       "  0.47922033042907713,\n",
       "  0.47893878116607663,\n",
       "  0.47814621644020083,\n",
       "  0.4808751283168793,\n",
       "  0.47853050055503843,\n",
       "  0.4791931629657745,\n",
       "  0.47923277077674864,\n",
       "  0.48042197551727295,\n",
       "  0.4783476385593414,\n",
       "  0.4801037173748016,\n",
       "  0.4780648195743561,\n",
       "  0.4803216827392578,\n",
       "  0.47882801971435546,\n",
       "  0.4801332724571228,\n",
       "  0.4783054585456848,\n",
       "  0.4798423621177673,\n",
       "  0.47822856025695804,\n",
       "  0.47828536472320554,\n",
       "  0.47894242663383485,\n",
       "  0.47842558951377867,\n",
       "  0.47708062734603884],\n",
       " 'trigger_acc': [100.0,\n",
       "  98.0,\n",
       "  100.0,\n",
       "  44.0,\n",
       "  100.0,\n",
       "  100.0,\n",
       "  100.0,\n",
       "  100.0,\n",
       "  100.0,\n",
       "  80.0,\n",
       "  100.0,\n",
       "  100.0,\n",
       "  100.0,\n",
       "  100.0,\n",
       "  100.0,\n",
       "  100.0,\n",
       "  100.0,\n",
       "  100.0,\n",
       "  100.0,\n",
       "  100.0,\n",
       "  100.0,\n",
       "  100.0,\n",
       "  100.0,\n",
       "  100.0,\n",
       "  100.0,\n",
       "  100.0,\n",
       "  100.0,\n",
       "  100.0,\n",
       "  100.0,\n",
       "  100.0,\n",
       "  100.0,\n",
       "  100.0,\n",
       "  100.0,\n",
       "  100.0,\n",
       "  100.0,\n",
       "  100.0,\n",
       "  100.0,\n",
       "  100.0,\n",
       "  100.0,\n",
       "  100.0,\n",
       "  100.0,\n",
       "  100.0,\n",
       "  100.0,\n",
       "  100.0,\n",
       "  100.0,\n",
       "  100.0,\n",
       "  100.0,\n",
       "  100.0,\n",
       "  100.0,\n",
       "  100.0,\n",
       "  100.0,\n",
       "  100.0,\n",
       "  100.0,\n",
       "  100.0,\n",
       "  100.0,\n",
       "  100.0,\n",
       "  100.0,\n",
       "  100.0,\n",
       "  100.0,\n",
       "  100.0,\n",
       "  100.0,\n",
       "  100.0,\n",
       "  100.0,\n",
       "  100.0,\n",
       "  100.0,\n",
       "  100.0,\n",
       "  100.0,\n",
       "  100.0,\n",
       "  100.0,\n",
       "  100.0,\n",
       "  100.0,\n",
       "  100.0,\n",
       "  100.0,\n",
       "  100.0,\n",
       "  100.0,\n",
       "  100.0,\n",
       "  100.0,\n",
       "  100.0,\n",
       "  100.0,\n",
       "  100.0],\n",
       " 'trigger_loss': [0.023453552275896072,\n",
       "  0.33455997228622436,\n",
       "  0.00023687646724283696,\n",
       "  1.619053282737732,\n",
       "  1.5202682752715192e-05,\n",
       "  0.018600306920707226,\n",
       "  9.45322233292245e-07,\n",
       "  0.0009570914786309004,\n",
       "  8.702272793925658e-08,\n",
       "  0.5749594306945801,\n",
       "  3.6282223445596176e-05,\n",
       "  4.8212179390247914e-05,\n",
       "  4.11849236843409e-05,\n",
       "  0.00024414487066678705,\n",
       "  6.211414802237414e-05,\n",
       "  0.0017178798653185367,\n",
       "  1.7058791218005353e-06,\n",
       "  4.6255311754066495e-05,\n",
       "  1.950265941559337e-05,\n",
       "  3.900433348462684e-06,\n",
       "  5.62157019157894e-05,\n",
       "  5.244796397164464e-05,\n",
       "  6.350432493491099e-05,\n",
       "  5.0739146245177836e-05,\n",
       "  5.529503192519769e-05,\n",
       "  4.9161173083120955e-05,\n",
       "  4.0177185874199494e-05,\n",
       "  7.28690015967004e-05,\n",
       "  4.471769338124432e-05,\n",
       "  6.980457372264937e-05,\n",
       "  4.6331810881383714e-05,\n",
       "  6.219308532308787e-05,\n",
       "  4.6398601989494635e-05,\n",
       "  5.833838687976822e-05,\n",
       "  5.697600048733875e-05,\n",
       "  4.760607480420731e-05,\n",
       "  4.477392285480164e-05,\n",
       "  5.807616311358288e-05,\n",
       "  5.021052667871118e-05,\n",
       "  5.761965352576226e-05,\n",
       "  4.2994337854906915e-05,\n",
       "  4.7299741272581744e-05,\n",
       "  5.5894950346555564e-05,\n",
       "  5.541102058487013e-05,\n",
       "  5.89427376689855e-05,\n",
       "  6.155068811494857e-05,\n",
       "  4.3787019531009716e-05,\n",
       "  4.3570079433266074e-05,\n",
       "  4.7064935206435624e-05,\n",
       "  6.000002002110705e-05,\n",
       "  5.1446601864881814e-05,\n",
       "  4.1538959339959544e-05,\n",
       "  4.597905441187322e-05,\n",
       "  4.7528629802400244e-05,\n",
       "  5.938735615927726e-05,\n",
       "  4.5133960229577495e-05,\n",
       "  4.719487624242902e-05,\n",
       "  5.707498145056888e-05,\n",
       "  6.205610581673682e-05,\n",
       "  5.749216506956145e-05,\n",
       "  5.72895270306617e-05,\n",
       "  5.7022527762455866e-05,\n",
       "  4.377389865112491e-05,\n",
       "  4.594211757648736e-05,\n",
       "  6.189276609802619e-05,\n",
       "  5.513568758033216e-05,\n",
       "  5.7200144801754505e-05,\n",
       "  6.301321351202204e-05,\n",
       "  5.6502818770240994e-05,\n",
       "  4.9711132305674255e-05,\n",
       "  5.679723239154555e-05,\n",
       "  5.712388723623008e-05,\n",
       "  5.9611437027342614e-05,\n",
       "  5.646471836371347e-05,\n",
       "  4.140781064052135e-05,\n",
       "  5.671145365340635e-05,\n",
       "  4.242935916408896e-05,\n",
       "  4.2999134311685335e-05,\n",
       "  5.601534416200593e-05,\n",
       "  4.5844378764741126e-05]}"
      ]
     },
     "execution_count": 11,
     "metadata": {},
     "output_type": "execute_result"
    }
   ],
   "source": [
    "# normal watermark\n",
    "net = ResNet18()\n",
    "logcmt = f\"resnet18_8020_trigger_finetune\"\n",
    "net.load_state_dict(torch.load('checkpoints/resnet18_8020.ckpt'))\n",
    "optimizer = torch.optim.Adam(params=net.parameters(), lr=0.01, weight_decay=1e-4)\n",
    "criterion = nn.CrossEntropyLoss()\n",
    "scheduler = torch.optim.lr_scheduler.StepLR(optimizer, step_size=10, gamma=0.1, verbose=True)\n",
    "trainer = Trainer(net, criterion, optimizer, train_loader=trainloader, trigger_loader=unrelatedloader, use_trigger=True, scheduler=scheduler)\n",
    "evaluator = Evaluator(net, criterion)\n",
    "train(trainer, evaluator, testloader, 80, 'checkpoints/resnet18_wm_8020_unrl_lr0.01.ckpt',\n",
    "      logdir='./runs', logcmt=logcmt, trigger_loader=unrelatedloader)"
   ]
  },
  {
   "cell_type": "code",
   "execution_count": 12,
   "id": "e3fa2a94-12bd-425d-a9f1-8003935382c6",
   "metadata": {},
   "outputs": [
    {
     "data": {
      "image/png": "[encoded data removed]",
      "text/plain": [
       "<PIL.Image.Image image mode=RGB size=32x32>"
      ]
     },
     "metadata": {},
     "output_type": "display_data"
    },
    {
     "name": "stdout",
     "output_type": "stream",
     "text": [
      "torch.Size([3, 32, 32])\n"
     ]
    }
   ],
   "source": [
    "batch_size_train = 256\n",
    "batch_size_test = 256\n",
    "batch_size_wm = 64\n",
    "\n",
    "trainset = datasets.ImageFolder('./data/CIFAR10_8020/with_trigger/train/', transform=transform_train)\n",
    "testset = datasets.ImageFolder('./data/CIFAR10_8020/test', transform=transform_test)\n",
    "# valset = datasets.ImageFolder('./data/CIFAR10_8020/with_trigger/val/', transform=transform_test)\n",
    "watermarkset = datasets.ImageFolder('./data/CIFAR10_8020/with_trigger/trigger_random/', transform=transform_test)\n",
    "advwatermarkset = datasets.ImageFolder('./data/CIFAR10_8020/with_trigger/trigger_adv/', transform=transform_test)\n",
    "unrelatedset = watermark_unrelated(count=100)\n",
    "unrl_mixset = torch.utils.data.ConcatDataset((trainset,unrelatedset))\n",
    "adv_mixset = torch.utils.data.ConcatDataset((trainset,advwatermarkset))\n",
    "rand_mixset = torch.utils.data.ConcatDataset((trainset,watermarkset))\n",
    "\n",
    "testloader = torch.utils.data.DataLoader(\n",
    "    testset, batch_size=batch_size_test, shuffle=False, num_workers=8)\n",
    "\n",
    "#valloader = torch.utils.data.DataLoader(\n",
    "#    valset, batch_size=batch_size_test, shuffle=False, num_workers=8)\n",
    "\n",
    "trainloader = torch.utils.data.DataLoader(\n",
    "    trainset, batch_size=batch_size_train, shuffle=True, num_workers=8, drop_last=False)\n",
    "\n",
    "wmloader = torch.utils.data.DataLoader(\n",
    "    watermarkset, batch_size=batch_size_wm, shuffle=True, num_workers=8, drop_last=False)\n",
    "unrelatedloader = torch.utils.data.DataLoader(\n",
    "    unrelatedset, batch_size=batch_size_wm, shuffle=True, num_workers=8, drop_last=False)\n",
    "advwmloader = torch.utils.data.DataLoader(\n",
    "    advwatermarkset, batch_size=batch_size_wm, shuffle=True, num_workers=8, drop_last=False)\n",
    "unrl_mix_loader = torch.utils.data.DataLoader(\n",
    "    unrl_mixset, batch_size=batch_size_train, shuffle=True, num_workers=8, drop_last=False)\n",
    "adv_mix_loader = torch.utils.data.DataLoader(\n",
    "    adv_mixset, batch_size=batch_size_train, shuffle=True, num_workers=8, drop_last=False)\n",
    "rand_mix_loader = torch.utils.data.DataLoader(\n",
    "    rand_mixset, batch_size=batch_size_train, shuffle=True, num_workers=8, drop_last=False)"
   ]
  },
  {
   "cell_type": "markdown",
   "id": "b139f465-89be-4622-8a53-c4d1225b3381",
   "metadata": {},
   "source": [
    "Random Label"
   ]
  },
  {
   "cell_type": "code",
   "execution_count": 13,
   "id": "31a357d2-de6d-4000-8bdc-4f9523757a97",
   "metadata": {},
   "outputs": [
    {
     "name": "stderr",
     "output_type": "stream",
     "text": [
      "Normal training: 100%|█████████████████████████████████████████████████████████████| 157/157 [00:15<00:00, 10.46it/s]\n",
      "/home/cysren/anaconda3/envs/wm/lib/python3.10/site-packages/torch/optim/lr_scheduler.py:163: UserWarning: The epoch parameter in `scheduler.step()` was not necessary and is being deprecated where possible. Please use `scheduler.step()` to step the scheduler. During the deprecation, if epoch is different from None, the closed form is used instead of the new chainable form, where available. Please open an issue if you are unable to replicate your use case: https://github.com/pytorch/pytorch/issues/new/choose.\n",
      "  warnings.warn(EPOCH_DEPRECATION_WARNING, UserWarning)\n"
     ]
    },
    {
     "name": "stdout",
     "output_type": "stream",
     "text": [
      "Epoch 0\n",
      "==========\n",
      "Train: Train acc 42.38380809595203 | WM acc 0.0\n",
      "Tests: WM acc 5.0 | WM train avg acc 10.77 | Test acc 54.52\n",
      "./models/wm_cifar10_certify_random_8020_rand_lr0.01.pth\n"
     ]
    },
    {
     "name": "stderr",
     "output_type": "stream",
     "text": [
      "Normal training: 100%|█████████████████████████████████████████████████████████████| 157/157 [00:27<00:00,  5.64it/s]\n"
     ]
    },
    {
     "name": "stdout",
     "output_type": "stream",
     "text": [
      "Epoch 1\n",
      "==========\n",
      "Train: Train acc 59.85257371314343 | WM acc 0.0\n",
      "Tests: WM acc 6.0 | WM train avg acc 9.84 | Test acc 60.42999999999999\n",
      "./models/wm_cifar10_certify_random_8020_rand_lr0.01.pth\n"
     ]
    },
    {
     "name": "stderr",
     "output_type": "stream",
     "text": [
      "Normal training: 100%|█████████████████████████████████████████████████████████████| 157/157 [00:27<00:00,  5.66it/s]\n"
     ]
    },
    {
     "name": "stdout",
     "output_type": "stream",
     "text": [
      "Epoch 2\n",
      "==========\n",
      "Train: Train acc 68.38830584707645 | WM acc 0.0\n",
      "Tests: WM acc 6.0 | WM train avg acc 10.38 | Test acc 65.72\n",
      "./models/wm_cifar10_certify_random_8020_rand_lr0.01.pth\n"
     ]
    },
    {
     "name": "stderr",
     "output_type": "stream",
     "text": [
      "Normal training: 100%|█████████████████████████████████████████████████████████████| 157/157 [00:20<00:00,  7.50it/s]\n"
     ]
    },
    {
     "name": "stdout",
     "output_type": "stream",
     "text": [
      "Epoch 3\n",
      "==========\n",
      "Train: Train acc 73.53323338330836 | WM acc 0.0\n",
      "Tests: WM acc 8.0 | WM train avg acc 10.06 | Test acc 72.86\n",
      "./models/wm_cifar10_certify_random_8020_rand_lr0.01.pth\n"
     ]
    },
    {
     "name": "stderr",
     "output_type": "stream",
     "text": [
      "Normal training: 100%|█████████████████████████████████████████████████████████████| 157/157 [00:27<00:00,  5.64it/s]\n"
     ]
    },
    {
     "name": "stdout",
     "output_type": "stream",
     "text": [
      "Epoch 4\n",
      "==========\n",
      "Train: Train acc 76.20689655172413 | WM acc 0.0\n",
      "Tests: WM acc 3.0 | WM train avg acc 10.0 | Test acc 73.2\n",
      "./models/wm_cifar10_certify_random_8020_rand_lr0.01.pth\n"
     ]
    },
    {
     "name": "stderr",
     "output_type": "stream",
     "text": [
      "Normal training: 100%|█████████████████████████████████████████████████████████████| 157/157 [00:27<00:00,  5.66it/s]\n"
     ]
    },
    {
     "name": "stdout",
     "output_type": "stream",
     "text": [
      "Epoch 5\n",
      "==========\n",
      "Train: Train acc 78.49825087456271 | WM acc 0.0\n",
      "Tests: WM acc 6.0 | WM train avg acc 9.95 | Test acc 73.95\n",
      "./models/wm_cifar10_certify_random_8020_rand_lr0.01.pth\n"
     ]
    },
    {
     "name": "stderr",
     "output_type": "stream",
     "text": [
      "Normal training: 100%|█████████████████████████████████████████████████████████████| 157/157 [00:26<00:00,  5.97it/s]\n"
     ]
    },
    {
     "name": "stdout",
     "output_type": "stream",
     "text": [
      "Epoch 6\n",
      "==========\n",
      "Train: Train acc 80.19490254872564 | WM acc 0.0\n",
      "Tests: WM acc 14.000000000000002 | WM train avg acc 10.15 | Test acc 75.87\n",
      "./models/wm_cifar10_certify_random_8020_rand_lr0.01.pth\n"
     ]
    },
    {
     "name": "stderr",
     "output_type": "stream",
     "text": [
      "Normal training: 100%|█████████████████████████████████████████████████████████████| 157/157 [00:27<00:00,  5.67it/s]\n"
     ]
    },
    {
     "name": "stdout",
     "output_type": "stream",
     "text": [
      "Epoch 7\n",
      "==========\n",
      "Train: Train acc 81.111944027986 | WM acc 0.0\n",
      "Tests: WM acc 18.0 | WM train avg acc 10.34 | Test acc 78.97\n",
      "./models/wm_cifar10_certify_random_8020_rand_lr0.01.pth\n"
     ]
    },
    {
     "name": "stderr",
     "output_type": "stream",
     "text": [
      "Normal training: 100%|█████████████████████████████████████████████████████████████| 157/157 [00:27<00:00,  5.65it/s]\n"
     ]
    },
    {
     "name": "stdout",
     "output_type": "stream",
     "text": [
      "Epoch 8\n",
      "==========\n",
      "Train: Train acc 82.74112943528236 | WM acc 0.0\n",
      "Tests: WM acc 16.0 | WM train avg acc 9.51 | Test acc 77.11\n",
      "./models/wm_cifar10_certify_random_8020_rand_lr0.01.pth\n"
     ]
    },
    {
     "name": "stderr",
     "output_type": "stream",
     "text": [
      "Normal training: 100%|█████████████████████████████████████████████████████████████| 157/157 [00:27<00:00,  5.65it/s]\n"
     ]
    },
    {
     "name": "stdout",
     "output_type": "stream",
     "text": [
      "Epoch 9\n",
      "==========\n",
      "Train: Train acc 83.29085457271364 | WM acc 0.0\n",
      "Tests: WM acc 28.000000000000004 | WM train avg acc 10.3 | Test acc 80.13\n",
      "./models/wm_cifar10_certify_random_8020_rand_lr0.01.pth\n"
     ]
    },
    {
     "name": "stderr",
     "output_type": "stream",
     "text": [
      "Normal training: 100%|█████████████████████████████████████████████████████████████| 157/157 [00:23<00:00,  6.59it/s]\n"
     ]
    },
    {
     "name": "stdout",
     "output_type": "stream",
     "text": [
      "Epoch 10\n",
      "==========\n",
      "Train: Train acc 84.52023988005996 | WM acc 0.0\n",
      "Tests: WM acc 24.0 | WM train avg acc 10.08 | Test acc 80.23\n",
      "./models/wm_cifar10_certify_random_8020_rand_lr0.01.pth\n"
     ]
    },
    {
     "name": "stderr",
     "output_type": "stream",
     "text": [
      "Robust training: 100%|█████████████████████████████████████████████████████████████████| 2/2 [02:38<00:00, 79.44s/it]\n",
      "Normal training: 100%|█████████████████████████████████████████████████████████████| 157/157 [00:27<00:00,  5.65it/s]\n"
     ]
    },
    {
     "name": "stdout",
     "output_type": "stream",
     "text": [
      "Epoch 11\n",
      "==========\n",
      "Train: Train acc 84.26036981509245 | WM acc 7.000000000000001\n",
      "Tests: WM acc 28.000000000000004 | WM train avg acc 9.78 | Test acc 79.86\n",
      "./models/wm_cifar10_certify_random_8020_rand_lr0.01.pth\n"
     ]
    },
    {
     "name": "stderr",
     "output_type": "stream",
     "text": [
      "Robust training: 100%|█████████████████████████████████████████████████████████████████| 2/2 [02:37<00:00, 78.98s/it]\n",
      "Normal training: 100%|█████████████████████████████████████████████████████████████| 157/157 [00:27<00:00,  5.65it/s]\n"
     ]
    },
    {
     "name": "stdout",
     "output_type": "stream",
     "text": [
      "Epoch 12\n",
      "==========\n",
      "Train: Train acc 85.3848075962019 | WM acc 13.0\n",
      "Tests: WM acc 34.0 | WM train avg acc 10.15 | Test acc 78.08\n",
      "./models/wm_cifar10_certify_random_8020_rand_lr0.01.pth\n"
     ]
    },
    {
     "name": "stderr",
     "output_type": "stream",
     "text": [
      "Robust training: 100%|█████████████████████████████████████████████████████████████████| 2/2 [02:38<00:00, 79.13s/it]\n",
      "Normal training: 100%|█████████████████████████████████████████████████████████████| 157/157 [00:27<00:00,  5.64it/s]\n"
     ]
    },
    {
     "name": "stdout",
     "output_type": "stream",
     "text": [
      "Epoch 13\n",
      "==========\n",
      "Train: Train acc 86.08945527236381 | WM acc 14.000000000000002\n",
      "Tests: WM acc 50.0 | WM train avg acc 10.24 | Test acc 81.15\n",
      "./models/wm_cifar10_certify_random_8020_rand_lr0.01.pth\n"
     ]
    },
    {
     "name": "stderr",
     "output_type": "stream",
     "text": [
      "Robust training: 100%|█████████████████████████████████████████████████████████████████| 2/2 [02:38<00:00, 79.20s/it]\n",
      "Normal training: 100%|█████████████████████████████████████████████████████████████| 157/157 [00:27<00:00,  5.66it/s]\n"
     ]
    },
    {
     "name": "stdout",
     "output_type": "stream",
     "text": [
      "Epoch 14\n",
      "==========\n",
      "Train: Train acc 86.98900549725137 | WM acc 6.0\n",
      "Tests: WM acc 59.0 | WM train avg acc 10.02 | Test acc 81.12\n",
      "./models/wm_cifar10_certify_random_8020_rand_lr0.01.pth\n"
     ]
    },
    {
     "name": "stderr",
     "output_type": "stream",
     "text": [
      "Robust training: 100%|█████████████████████████████████████████████████████████████████| 2/2 [02:38<00:00, 79.02s/it]\n",
      "Normal training: 100%|█████████████████████████████████████████████████████████████| 157/157 [00:27<00:00,  5.65it/s]\n"
     ]
    },
    {
     "name": "stdout",
     "output_type": "stream",
     "text": [
      "Epoch 15\n",
      "==========\n",
      "Train: Train acc 87.59370314842579 | WM acc 14.000000000000002\n",
      "Tests: WM acc 61.0 | WM train avg acc 9.76 | Test acc 81.46\n",
      "./models/wm_cifar10_certify_random_8020_rand_lr0.01.pth\n"
     ]
    },
    {
     "name": "stderr",
     "output_type": "stream",
     "text": [
      "Robust training: 100%|█████████████████████████████████████████████████████████████████| 2/2 [02:38<00:00, 79.12s/it]\n",
      "Normal training: 100%|█████████████████████████████████████████████████████████████| 157/157 [00:27<00:00,  5.64it/s]\n"
     ]
    },
    {
     "name": "stdout",
     "output_type": "stream",
     "text": [
      "Epoch 16\n",
      "==========\n",
      "Train: Train acc 88.54572713643178 | WM acc 13.0\n",
      "Tests: WM acc 74.0 | WM train avg acc 9.72 | Test acc 82.66\n",
      "./models/wm_cifar10_certify_random_8020_rand_lr0.01.pth\n"
     ]
    },
    {
     "name": "stderr",
     "output_type": "stream",
     "text": [
      "Robust training: 100%|█████████████████████████████████████████████████████████████████| 2/2 [02:38<00:00, 79.28s/it]\n",
      "Normal training: 100%|█████████████████████████████████████████████████████████████| 157/157 [00:27<00:00,  5.65it/s]\n"
     ]
    },
    {
     "name": "stdout",
     "output_type": "stream",
     "text": [
      "Epoch 17\n",
      "==========\n",
      "Train: Train acc 89.09295352323838 | WM acc 13.0\n",
      "Tests: WM acc 73.0 | WM train avg acc 10.16 | Test acc 81.81\n",
      "./models/wm_cifar10_certify_random_8020_rand_lr0.01.pth\n"
     ]
    },
    {
     "name": "stderr",
     "output_type": "stream",
     "text": [
      "Robust training: 100%|█████████████████████████████████████████████████████████████████| 2/2 [02:38<00:00, 79.05s/it]\n",
      "Normal training: 100%|█████████████████████████████████████████████████████████████| 157/157 [00:27<00:00,  5.65it/s]\n"
     ]
    },
    {
     "name": "stdout",
     "output_type": "stream",
     "text": [
      "Epoch 18\n",
      "==========\n",
      "Train: Train acc 89.60519740129935 | WM acc 12.0\n",
      "Tests: WM acc 59.0 | WM train avg acc 10.01 | Test acc 79.05\n",
      "./models/wm_cifar10_certify_random_8020_rand_lr0.01.pth\n"
     ]
    },
    {
     "name": "stderr",
     "output_type": "stream",
     "text": [
      "Robust training: 100%|█████████████████████████████████████████████████████████████████| 2/2 [02:38<00:00, 79.28s/it]\n",
      "Normal training: 100%|█████████████████████████████████████████████████████████████| 157/157 [00:27<00:00,  5.65it/s]\n"
     ]
    },
    {
     "name": "stdout",
     "output_type": "stream",
     "text": [
      "Epoch 19\n",
      "==========\n",
      "Train: Train acc 89.99250374812594 | WM acc 10.0\n",
      "Tests: WM acc 67.0 | WM train avg acc 9.87 | Test acc 80.28999999999999\n",
      "./models/wm_cifar10_certify_random_8020_rand_lr0.01.pth\n"
     ]
    },
    {
     "name": "stderr",
     "output_type": "stream",
     "text": [
      "Robust training: 100%|█████████████████████████████████████████████████████████████████| 2/2 [02:38<00:00, 79.31s/it]\n",
      "Normal training: 100%|█████████████████████████████████████████████████████████████| 157/157 [00:27<00:00,  5.65it/s]\n"
     ]
    },
    {
     "name": "stdout",
     "output_type": "stream",
     "text": [
      "Epoch 20\n",
      "==========\n",
      "Train: Train acc 90.1799100449775 | WM acc 6.0\n",
      "Tests: WM acc 81.0 | WM train avg acc 9.89 | Test acc 83.52000000000001\n",
      "./models/wm_cifar10_certify_random_8020_rand_lr0.01.pth\n"
     ]
    },
    {
     "name": "stderr",
     "output_type": "stream",
     "text": [
      "Robust training: 100%|█████████████████████████████████████████████████████████████████| 2/2 [02:38<00:00, 79.23s/it]\n",
      "Normal training: 100%|█████████████████████████████████████████████████████████████| 157/157 [00:27<00:00,  5.65it/s]\n"
     ]
    },
    {
     "name": "stdout",
     "output_type": "stream",
     "text": [
      "Epoch 21\n",
      "==========\n",
      "Train: Train acc 90.85957021489254 | WM acc 12.0\n",
      "Tests: WM acc 75.0 | WM train avg acc 10.11 | Test acc 82.45\n",
      "./models/wm_cifar10_certify_random_8020_rand_lr0.01.pth\n"
     ]
    },
    {
     "name": "stderr",
     "output_type": "stream",
     "text": [
      "Robust training: 100%|█████████████████████████████████████████████████████████████████| 2/2 [02:38<00:00, 79.34s/it]\n",
      "Normal training: 100%|█████████████████████████████████████████████████████████████| 157/157 [00:27<00:00,  5.66it/s]\n"
     ]
    },
    {
     "name": "stdout",
     "output_type": "stream",
     "text": [
      "Epoch 22\n",
      "==========\n",
      "Train: Train acc 91.28935532233882 | WM acc 11.0\n",
      "Tests: WM acc 81.0 | WM train avg acc 9.81 | Test acc 84.34\n",
      "./models/wm_cifar10_certify_random_8020_rand_lr0.01.pth\n"
     ]
    },
    {
     "name": "stderr",
     "output_type": "stream",
     "text": [
      "Robust training: 100%|█████████████████████████████████████████████████████████████████| 2/2 [02:39<00:00, 79.77s/it]\n",
      "Normal training: 100%|█████████████████████████████████████████████████████████████| 157/157 [00:27<00:00,  5.67it/s]\n"
     ]
    },
    {
     "name": "stdout",
     "output_type": "stream",
     "text": [
      "Epoch 23\n",
      "==========\n",
      "Train: Train acc 91.37931034482759 | WM acc 12.0\n",
      "Tests: WM acc 80.0 | WM train avg acc 10.18 | Test acc 83.85000000000001\n",
      "./models/wm_cifar10_certify_random_8020_rand_lr0.01.pth\n"
     ]
    },
    {
     "name": "stderr",
     "output_type": "stream",
     "text": [
      "Robust training: 100%|█████████████████████████████████████████████████████████████████| 2/2 [02:38<00:00, 79.48s/it]\n",
      "Normal training: 100%|█████████████████████████████████████████████████████████████| 157/157 [00:27<00:00,  5.67it/s]\n"
     ]
    },
    {
     "name": "stdout",
     "output_type": "stream",
     "text": [
      "Epoch 24\n",
      "==========\n",
      "Train: Train acc 92.14142928535732 | WM acc 13.0\n",
      "Tests: WM acc 86.0 | WM train avg acc 10.01 | Test acc 84.16\n",
      "./models/wm_cifar10_certify_random_8020_rand_lr0.01.pth\n"
     ]
    },
    {
     "name": "stderr",
     "output_type": "stream",
     "text": [
      "Robust training: 100%|█████████████████████████████████████████████████████████████████| 2/2 [02:38<00:00, 79.11s/it]\n",
      "Normal training: 100%|█████████████████████████████████████████████████████████████| 157/157 [00:27<00:00,  5.68it/s]\n"
     ]
    },
    {
     "name": "stdout",
     "output_type": "stream",
     "text": [
      "Epoch 25\n",
      "==========\n",
      "Train: Train acc 92.56621689155422 | WM acc 12.0\n",
      "Tests: WM acc 93.0 | WM train avg acc 10.52 | Test acc 83.94\n",
      "./models/wm_cifar10_certify_random_8020_rand_lr0.01.pth\n"
     ]
    },
    {
     "name": "stderr",
     "output_type": "stream",
     "text": [
      "Robust training: 100%|█████████████████████████████████████████████████████████████████| 2/2 [02:40<00:00, 80.06s/it]\n",
      "Normal training: 100%|█████████████████████████████████████████████████████████████| 157/157 [00:27<00:00,  5.68it/s]\n"
     ]
    },
    {
     "name": "stdout",
     "output_type": "stream",
     "text": [
      "Epoch 26\n",
      "==========\n",
      "Train: Train acc 92.87856071964018 | WM acc 9.0\n",
      "Tests: WM acc 82.0 | WM train avg acc 10.26 | Test acc 84.3\n",
      "./models/wm_cifar10_certify_random_8020_rand_lr0.01.pth\n"
     ]
    },
    {
     "name": "stderr",
     "output_type": "stream",
     "text": [
      "Robust training: 100%|█████████████████████████████████████████████████████████████████| 2/2 [02:43<00:00, 81.67s/it]\n",
      "Normal training: 100%|█████████████████████████████████████████████████████████████| 157/157 [00:27<00:00,  5.68it/s]\n"
     ]
    },
    {
     "name": "stdout",
     "output_type": "stream",
     "text": [
      "Epoch 27\n",
      "==========\n",
      "Train: Train acc 93.38830584707645 | WM acc 13.0\n",
      "Tests: WM acc 84.0 | WM train avg acc 10.32 | Test acc 84.14\n",
      "./models/wm_cifar10_certify_random_8020_rand_lr0.01.pth\n"
     ]
    },
    {
     "name": "stderr",
     "output_type": "stream",
     "text": [
      "Robust training: 100%|█████████████████████████████████████████████████████████████████| 2/2 [02:46<00:00, 83.46s/it]\n",
      "Normal training: 100%|█████████████████████████████████████████████████████████████| 157/157 [00:27<00:00,  5.68it/s]\n"
     ]
    },
    {
     "name": "stdout",
     "output_type": "stream",
     "text": [
      "Epoch 28\n",
      "==========\n",
      "Train: Train acc 93.70064967516242 | WM acc 8.0\n",
      "Tests: WM acc 82.0 | WM train avg acc 10.07 | Test acc 84.67\n",
      "./models/wm_cifar10_certify_random_8020_rand_lr0.01.pth\n"
     ]
    },
    {
     "name": "stderr",
     "output_type": "stream",
     "text": [
      "Robust training: 100%|█████████████████████████████████████████████████████████████████| 2/2 [02:50<00:00, 85.06s/it]\n",
      "Normal training: 100%|█████████████████████████████████████████████████████████████| 157/157 [00:27<00:00,  5.69it/s]\n"
     ]
    },
    {
     "name": "stdout",
     "output_type": "stream",
     "text": [
      "Epoch 29\n",
      "==========\n",
      "Train: Train acc 93.848075962019 | WM acc 9.0\n",
      "Tests: WM acc 90.0 | WM train avg acc 10.0 | Test acc 84.50999999999999\n",
      "./models/wm_cifar10_certify_random_8020_rand_lr0.01.pth\n"
     ]
    },
    {
     "name": "stderr",
     "output_type": "stream",
     "text": [
      "Robust training: 100%|█████████████████████████████████████████████████████████████████| 2/2 [02:53<00:00, 86.60s/it]\n",
      "Normal training: 100%|█████████████████████████████████████████████████████████████| 157/157 [00:27<00:00,  5.73it/s]\n"
     ]
    },
    {
     "name": "stdout",
     "output_type": "stream",
     "text": [
      "Epoch 30\n",
      "==========\n",
      "Train: Train acc 94.66016991504247 | WM acc 10.0\n",
      "Tests: WM acc 91.0 | WM train avg acc 9.75 | Test acc 85.33\n",
      "./models/wm_cifar10_certify_random_8020_rand_lr0.01.pth\n"
     ]
    },
    {
     "name": "stderr",
     "output_type": "stream",
     "text": [
      "Robust training: 100%|█████████████████████████████████████████████████████████████████| 2/2 [02:56<00:00, 88.12s/it]\n",
      "Normal training: 100%|█████████████████████████████████████████████████████████████| 157/157 [00:27<00:00,  5.64it/s]\n"
     ]
    },
    {
     "name": "stdout",
     "output_type": "stream",
     "text": [
      "Epoch 31\n",
      "==========\n",
      "Train: Train acc 96.87906046976512 | WM acc 5.0\n",
      "Tests: WM acc 100.0 | WM train avg acc 10.34 | Test acc 87.97\n",
      "./models/wm_cifar10_certify_random_8020_rand_lr0.01.pth\n"
     ]
    },
    {
     "name": "stderr",
     "output_type": "stream",
     "text": [
      "Robust training: 100%|█████████████████████████████████████████████████████████████████| 2/2 [03:00<00:00, 90.14s/it]\n",
      "Normal training: 100%|█████████████████████████████████████████████████████████████| 157/157 [00:28<00:00,  5.55it/s]\n"
     ]
    },
    {
     "name": "stdout",
     "output_type": "stream",
     "text": [
      "Epoch 32\n",
      "==========\n",
      "Train: Train acc 97.66116941529236 | WM acc 6.0\n",
      "Tests: WM acc 100.0 | WM train avg acc 10.06 | Test acc 87.9\n",
      "./models/wm_cifar10_certify_random_8020_rand_lr0.01.pth\n"
     ]
    },
    {
     "name": "stderr",
     "output_type": "stream",
     "text": [
      "Robust training: 100%|█████████████████████████████████████████████████████████████████| 2/2 [03:03<00:00, 91.85s/it]\n",
      "Normal training: 100%|█████████████████████████████████████████████████████████████| 157/157 [00:24<00:00,  6.47it/s]\n"
     ]
    },
    {
     "name": "stdout",
     "output_type": "stream",
     "text": [
      "Epoch 33\n",
      "==========\n",
      "Train: Train acc 97.83108445777111 | WM acc 9.0\n",
      "Tests: WM acc 100.0 | WM train avg acc 10.96 | Test acc 88.02\n",
      "./models/wm_cifar10_certify_random_8020_rand_lr0.01.pth\n"
     ]
    },
    {
     "name": "stderr",
     "output_type": "stream",
     "text": [
      "Robust training: 100%|█████████████████████████████████████████████████████████████████| 2/2 [03:04<00:00, 92.34s/it]\n",
      "Normal training: 100%|█████████████████████████████████████████████████████████████| 157/157 [00:18<00:00,  8.43it/s]\n"
     ]
    },
    {
     "name": "stdout",
     "output_type": "stream",
     "text": [
      "Epoch 34\n",
      "==========\n",
      "Train: Train acc 98.12843578210895 | WM acc 9.0\n",
      "Tests: WM acc 100.0 | WM train avg acc 10.46 | Test acc 87.96000000000001\n",
      "./models/wm_cifar10_certify_random_8020_rand_lr0.01.pth\n"
     ]
    },
    {
     "name": "stderr",
     "output_type": "stream",
     "text": [
      "Robust training: 100%|█████████████████████████████████████████████████████████████████| 2/2 [03:03<00:00, 91.71s/it]\n",
      "Normal training: 100%|█████████████████████████████████████████████████████████████| 157/157 [00:14<00:00, 10.48it/s]\n"
     ]
    },
    {
     "name": "stdout",
     "output_type": "stream",
     "text": [
      "Epoch 35\n",
      "==========\n",
      "Train: Train acc 98.40579710144928 | WM acc 11.0\n",
      "Tests: WM acc 100.0 | WM train avg acc 10.31 | Test acc 88.09\n",
      "./models/wm_cifar10_certify_random_8020_rand_lr0.01.pth\n"
     ]
    },
    {
     "name": "stderr",
     "output_type": "stream",
     "text": [
      "Robust training: 100%|█████████████████████████████████████████████████████████████████| 2/2 [02:57<00:00, 88.77s/it]\n",
      "Normal training: 100%|█████████████████████████████████████████████████████████████| 157/157 [00:15<00:00, 10.43it/s]\n"
     ]
    },
    {
     "name": "stdout",
     "output_type": "stream",
     "text": [
      "Epoch 36\n",
      "==========\n",
      "Train: Train acc 98.29585207396302 | WM acc 14.000000000000002\n",
      "Tests: WM acc 100.0 | WM train avg acc 9.75 | Test acc 88.0\n",
      "./models/wm_cifar10_certify_random_8020_rand_lr0.01.pth\n"
     ]
    },
    {
     "name": "stderr",
     "output_type": "stream",
     "text": [
      "Robust training: 100%|█████████████████████████████████████████████████████████████████| 2/2 [02:51<00:00, 85.76s/it]\n",
      "Normal training: 100%|█████████████████████████████████████████████████████████████| 157/157 [00:16<00:00,  9.39it/s]\n"
     ]
    },
    {
     "name": "stdout",
     "output_type": "stream",
     "text": [
      "Epoch 37\n",
      "==========\n",
      "Train: Train acc 98.37581209395302 | WM acc 10.0\n",
      "Tests: WM acc 100.0 | WM train avg acc 9.91 | Test acc 88.01\n",
      "./models/wm_cifar10_certify_random_8020_rand_lr0.01.pth\n"
     ]
    },
    {
     "name": "stderr",
     "output_type": "stream",
     "text": [
      "Robust training: 100%|█████████████████████████████████████████████████████████████████| 2/2 [02:45<00:00, 82.84s/it]\n",
      "Normal training: 100%|█████████████████████████████████████████████████████████████| 157/157 [00:22<00:00,  7.09it/s]\n"
     ]
    },
    {
     "name": "stdout",
     "output_type": "stream",
     "text": [
      "Epoch 38\n",
      "==========\n",
      "Train: Train acc 98.62068965517241 | WM acc 11.0\n",
      "Tests: WM acc 100.0 | WM train avg acc 9.99 | Test acc 88.2\n",
      "./models/wm_cifar10_certify_random_8020_rand_lr0.01.pth\n"
     ]
    },
    {
     "name": "stderr",
     "output_type": "stream",
     "text": [
      "Robust training: 100%|█████████████████████████████████████████████████████████████████| 2/2 [02:40<00:00, 80.03s/it]\n",
      "Normal training: 100%|█████████████████████████████████████████████████████████████| 157/157 [00:26<00:00,  5.89it/s]\n"
     ]
    },
    {
     "name": "stdout",
     "output_type": "stream",
     "text": [
      "Epoch 39\n",
      "==========\n",
      "Train: Train acc 98.6606696651674 | WM acc 14.000000000000002\n",
      "Tests: WM acc 100.0 | WM train avg acc 9.97 | Test acc 88.11\n",
      "./models/wm_cifar10_certify_random_8020_rand_lr0.01.pth\n"
     ]
    },
    {
     "name": "stderr",
     "output_type": "stream",
     "text": [
      "Robust training: 100%|█████████████████████████████████████████████████████████████████| 2/2 [02:38<00:00, 79.10s/it]\n",
      "Normal training: 100%|█████████████████████████████████████████████████████████████| 157/157 [00:27<00:00,  5.65it/s]\n"
     ]
    },
    {
     "name": "stdout",
     "output_type": "stream",
     "text": [
      "Epoch 40\n",
      "==========\n",
      "Train: Train acc 98.65567216391804 | WM acc 10.0\n",
      "Tests: WM acc 100.0 | WM train avg acc 10.1 | Test acc 88.14\n",
      "./models/wm_cifar10_certify_random_8020_rand_lr0.01.pth\n"
     ]
    },
    {
     "name": "stderr",
     "output_type": "stream",
     "text": [
      "Robust training: 100%|█████████████████████████████████████████████████████████████████| 2/2 [02:38<00:00, 79.28s/it]\n",
      "Normal training: 100%|█████████████████████████████████████████████████████████████| 157/157 [00:27<00:00,  5.66it/s]\n"
     ]
    },
    {
     "name": "stdout",
     "output_type": "stream",
     "text": [
      "Epoch 41\n",
      "==========\n",
      "Train: Train acc 98.78810594702648 | WM acc 6.0\n",
      "Tests: WM acc 100.0 | WM train avg acc 9.88 | Test acc 88.06\n",
      "./models/wm_cifar10_certify_random_8020_rand_lr0.01.pth\n"
     ]
    },
    {
     "name": "stderr",
     "output_type": "stream",
     "text": [
      "Robust training: 100%|█████████████████████████████████████████████████████████████████| 2/2 [02:38<00:00, 79.27s/it]\n",
      "Normal training: 100%|█████████████████████████████████████████████████████████████| 157/157 [00:27<00:00,  5.65it/s]\n"
     ]
    },
    {
     "name": "stdout",
     "output_type": "stream",
     "text": [
      "Epoch 42\n",
      "==========\n",
      "Train: Train acc 98.79060469765118 | WM acc 13.0\n",
      "Tests: WM acc 100.0 | WM train avg acc 9.88 | Test acc 87.94\n",
      "./models/wm_cifar10_certify_random_8020_rand_lr0.01.pth\n"
     ]
    },
    {
     "name": "stderr",
     "output_type": "stream",
     "text": [
      "Robust training: 100%|█████████████████████████████████████████████████████████████████| 2/2 [02:38<00:00, 79.40s/it]\n",
      "Normal training: 100%|█████████████████████████████████████████████████████████████| 157/157 [00:27<00:00,  5.64it/s]\n"
     ]
    },
    {
     "name": "stdout",
     "output_type": "stream",
     "text": [
      "Epoch 43\n",
      "==========\n",
      "Train: Train acc 98.77061469265367 | WM acc 6.0\n",
      "Tests: WM acc 100.0 | WM train avg acc 9.9 | Test acc 88.17\n",
      "./models/wm_cifar10_certify_random_8020_rand_lr0.01.pth\n"
     ]
    },
    {
     "name": "stderr",
     "output_type": "stream",
     "text": [
      "Robust training: 100%|█████████████████████████████████████████████████████████████████| 2/2 [02:38<00:00, 79.33s/it]\n",
      "Normal training: 100%|█████████████████████████████████████████████████████████████| 157/157 [00:27<00:00,  5.66it/s]\n"
     ]
    },
    {
     "name": "stdout",
     "output_type": "stream",
     "text": [
      "Epoch 44\n",
      "==========\n",
      "Train: Train acc 98.85307346326837 | WM acc 13.0\n",
      "Tests: WM acc 100.0 | WM train avg acc 10.36 | Test acc 88.12\n",
      "./models/wm_cifar10_certify_random_8020_rand_lr0.01.pth\n"
     ]
    },
    {
     "name": "stderr",
     "output_type": "stream",
     "text": [
      "Robust training: 100%|█████████████████████████████████████████████████████████████████| 2/2 [02:38<00:00, 79.33s/it]\n",
      "Normal training: 100%|█████████████████████████████████████████████████████████████| 157/157 [00:27<00:00,  5.65it/s]\n"
     ]
    },
    {
     "name": "stdout",
     "output_type": "stream",
     "text": [
      "Epoch 45\n",
      "==========\n",
      "Train: Train acc 98.95052473763118 | WM acc 6.0\n",
      "Tests: WM acc 100.0 | WM train avg acc 10.19 | Test acc 88.24\n",
      "./models/wm_cifar10_certify_random_8020_rand_lr0.01.pth\n"
     ]
    },
    {
     "name": "stderr",
     "output_type": "stream",
     "text": [
      "Robust training: 100%|█████████████████████████████████████████████████████████████████| 2/2 [02:38<00:00, 79.31s/it]\n",
      "Normal training: 100%|█████████████████████████████████████████████████████████████| 157/157 [00:27<00:00,  5.65it/s]\n"
     ]
    },
    {
     "name": "stdout",
     "output_type": "stream",
     "text": [
      "Epoch 46\n",
      "==========\n",
      "Train: Train acc 98.99300349825087 | WM acc 13.0\n",
      "Tests: WM acc 100.0 | WM train avg acc 10.11 | Test acc 88.17\n",
      "./models/wm_cifar10_certify_random_8020_rand_lr0.01.pth\n"
     ]
    },
    {
     "name": "stderr",
     "output_type": "stream",
     "text": [
      "Robust training: 100%|█████████████████████████████████████████████████████████████████| 2/2 [02:38<00:00, 79.35s/it]\n",
      "Normal training: 100%|█████████████████████████████████████████████████████████████| 157/157 [00:27<00:00,  5.65it/s]\n"
     ]
    },
    {
     "name": "stdout",
     "output_type": "stream",
     "text": [
      "Epoch 47\n",
      "==========\n",
      "Train: Train acc 99.06296851574213 | WM acc 11.0\n",
      "Tests: WM acc 100.0 | WM train avg acc 10.14 | Test acc 88.11\n",
      "./models/wm_cifar10_certify_random_8020_rand_lr0.01.pth\n"
     ]
    },
    {
     "name": "stderr",
     "output_type": "stream",
     "text": [
      "Robust training: 100%|█████████████████████████████████████████████████████████████████| 2/2 [02:38<00:00, 79.09s/it]\n",
      "Normal training: 100%|█████████████████████████████████████████████████████████████| 157/157 [00:27<00:00,  5.66it/s]\n"
     ]
    },
    {
     "name": "stdout",
     "output_type": "stream",
     "text": [
      "Epoch 48\n",
      "==========\n",
      "Train: Train acc 99.13543228385807 | WM acc 18.0\n",
      "Tests: WM acc 100.0 | WM train avg acc 10.17 | Test acc 88.26\n",
      "./models/wm_cifar10_certify_random_8020_rand_lr0.01.pth\n"
     ]
    },
    {
     "name": "stderr",
     "output_type": "stream",
     "text": [
      "Robust training: 100%|█████████████████████████████████████████████████████████████████| 2/2 [02:38<00:00, 79.36s/it]\n",
      "Normal training: 100%|█████████████████████████████████████████████████████████████| 157/157 [00:27<00:00,  5.64it/s]\n"
     ]
    },
    {
     "name": "stdout",
     "output_type": "stream",
     "text": [
      "Epoch 49\n",
      "==========\n",
      "Train: Train acc 99.16041979010495 | WM acc 8.0\n",
      "Tests: WM acc 100.0 | WM train avg acc 10.15 | Test acc 88.08\n",
      "./models/wm_cifar10_certify_random_8020_rand_lr0.01.pth\n"
     ]
    },
    {
     "name": "stderr",
     "output_type": "stream",
     "text": [
      "Robust training: 100%|█████████████████████████████████████████████████████████████████| 2/2 [02:38<00:00, 79.40s/it]\n",
      "Normal training: 100%|█████████████████████████████████████████████████████████████| 157/157 [00:27<00:00,  5.66it/s]\n"
     ]
    },
    {
     "name": "stdout",
     "output_type": "stream",
     "text": [
      "Epoch 50\n",
      "==========\n",
      "Train: Train acc 99.11544227886057 | WM acc 11.0\n",
      "Tests: WM acc 100.0 | WM train avg acc 10.46 | Test acc 88.23\n",
      "./models/wm_cifar10_certify_random_8020_rand_lr0.01.pth\n"
     ]
    },
    {
     "name": "stderr",
     "output_type": "stream",
     "text": [
      "Robust training: 100%|█████████████████████████████████████████████████████████████████| 2/2 [02:38<00:00, 79.26s/it]\n",
      "Normal training: 100%|█████████████████████████████████████████████████████████████| 157/157 [00:27<00:00,  5.67it/s]\n"
     ]
    },
    {
     "name": "stdout",
     "output_type": "stream",
     "text": [
      "Epoch 51\n",
      "==========\n",
      "Train: Train acc 99.22288855572215 | WM acc 17.0\n",
      "Tests: WM acc 100.0 | WM train avg acc 9.95 | Test acc 88.23\n",
      "./models/wm_cifar10_certify_random_8020_rand_lr0.01.pth\n"
     ]
    },
    {
     "name": "stderr",
     "output_type": "stream",
     "text": [
      "Robust training: 100%|█████████████████████████████████████████████████████████████████| 2/2 [02:38<00:00, 79.28s/it]\n",
      "Normal training: 100%|█████████████████████████████████████████████████████████████| 157/157 [00:27<00:00,  5.67it/s]\n"
     ]
    },
    {
     "name": "stdout",
     "output_type": "stream",
     "text": [
      "Epoch 52\n",
      "==========\n",
      "Train: Train acc 99.19290354822589 | WM acc 10.0\n",
      "Tests: WM acc 100.0 | WM train avg acc 10.44 | Test acc 88.22\n",
      "./models/wm_cifar10_certify_random_8020_rand_lr0.01.pth\n"
     ]
    },
    {
     "name": "stderr",
     "output_type": "stream",
     "text": [
      "Robust training: 100%|█████████████████████████████████████████████████████████████████| 2/2 [02:38<00:00, 79.41s/it]\n",
      "Normal training: 100%|█████████████████████████████████████████████████████████████| 157/157 [00:27<00:00,  5.68it/s]\n"
     ]
    },
    {
     "name": "stdout",
     "output_type": "stream",
     "text": [
      "Epoch 53\n",
      "==========\n",
      "Train: Train acc 99.26536731634182 | WM acc 14.000000000000002\n",
      "Tests: WM acc 100.0 | WM train avg acc 9.86 | Test acc 88.36\n",
      "./models/wm_cifar10_certify_random_8020_rand_lr0.01.pth\n"
     ]
    },
    {
     "name": "stderr",
     "output_type": "stream",
     "text": [
      "Robust training: 100%|█████████████████████████████████████████████████████████████████| 2/2 [02:38<00:00, 79.31s/it]\n",
      "Normal training: 100%|█████████████████████████████████████████████████████████████| 157/157 [00:27<00:00,  5.68it/s]\n"
     ]
    },
    {
     "name": "stdout",
     "output_type": "stream",
     "text": [
      "Epoch 54\n",
      "==========\n",
      "Train: Train acc 99.28535732133933 | WM acc 10.0\n",
      "Tests: WM acc 100.0 | WM train avg acc 10.07 | Test acc 88.17\n",
      "./models/wm_cifar10_certify_random_8020_rand_lr0.01.pth\n"
     ]
    },
    {
     "name": "stderr",
     "output_type": "stream",
     "text": [
      "Robust training: 100%|█████████████████████████████████████████████████████████████████| 2/2 [02:39<00:00, 79.96s/it]\n",
      "Normal training: 100%|█████████████████████████████████████████████████████████████| 157/157 [00:27<00:00,  5.68it/s]\n"
     ]
    },
    {
     "name": "stdout",
     "output_type": "stream",
     "text": [
      "Epoch 55\n",
      "==========\n",
      "Train: Train acc 99.29785107446277 | WM acc 11.0\n",
      "Tests: WM acc 100.0 | WM train avg acc 10.04 | Test acc 88.14\n",
      "./models/wm_cifar10_certify_random_8020_rand_lr0.01.pth\n"
     ]
    },
    {
     "name": "stderr",
     "output_type": "stream",
     "text": [
      "Robust training: 100%|█████████████████████████████████████████████████████████████████| 2/2 [02:43<00:00, 81.66s/it]\n",
      "Normal training: 100%|█████████████████████████████████████████████████████████████| 157/157 [00:27<00:00,  5.67it/s]\n"
     ]
    },
    {
     "name": "stdout",
     "output_type": "stream",
     "text": [
      "Epoch 56\n",
      "==========\n",
      "Train: Train acc 99.32283858070964 | WM acc 7.000000000000001\n",
      "Tests: WM acc 100.0 | WM train avg acc 10.63 | Test acc 88.03999999999999\n",
      "./models/wm_cifar10_certify_random_8020_rand_lr0.01.pth\n"
     ]
    },
    {
     "name": "stderr",
     "output_type": "stream",
     "text": [
      "Robust training: 100%|█████████████████████████████████████████████████████████████████| 2/2 [02:47<00:00, 83.52s/it]\n",
      "Normal training: 100%|█████████████████████████████████████████████████████████████| 157/157 [00:27<00:00,  5.68it/s]\n"
     ]
    },
    {
     "name": "stdout",
     "output_type": "stream",
     "text": [
      "Epoch 57\n",
      "==========\n",
      "Train: Train acc 99.39530234882558 | WM acc 12.0\n",
      "Tests: WM acc 100.0 | WM train avg acc 10.03 | Test acc 88.35\n",
      "./models/wm_cifar10_certify_random_8020_rand_lr0.01.pth\n"
     ]
    },
    {
     "name": "stderr",
     "output_type": "stream",
     "text": [
      "Robust training: 100%|█████████████████████████████████████████████████████████████████| 2/2 [02:49<00:00, 84.86s/it]\n",
      "Normal training: 100%|█████████████████████████████████████████████████████████████| 157/157 [00:27<00:00,  5.68it/s]\n"
     ]
    },
    {
     "name": "stdout",
     "output_type": "stream",
     "text": [
      "Epoch 58\n",
      "==========\n",
      "Train: Train acc 99.40279860069965 | WM acc 10.0\n",
      "Tests: WM acc 100.0 | WM train avg acc 10.18 | Test acc 88.11\n",
      "./models/wm_cifar10_certify_random_8020_rand_lr0.01.pth\n"
     ]
    },
    {
     "name": "stderr",
     "output_type": "stream",
     "text": [
      "Robust training: 100%|█████████████████████████████████████████████████████████████████| 2/2 [02:53<00:00, 86.66s/it]\n",
      "Normal training: 100%|█████████████████████████████████████████████████████████████| 157/157 [00:27<00:00,  5.70it/s]\n"
     ]
    },
    {
     "name": "stdout",
     "output_type": "stream",
     "text": [
      "Epoch 59\n",
      "==========\n",
      "Train: Train acc 99.4527736131934 | WM acc 10.0\n",
      "Tests: WM acc 100.0 | WM train avg acc 10.12 | Test acc 88.27000000000001\n",
      "./models/wm_cifar10_certify_random_8020_rand_lr0.01.pth\n"
     ]
    },
    {
     "name": "stderr",
     "output_type": "stream",
     "text": [
      "Robust training: 100%|█████████████████████████████████████████████████████████████████| 2/2 [02:57<00:00, 88.71s/it]\n",
      "Normal training: 100%|█████████████████████████████████████████████████████████████| 157/157 [00:28<00:00,  5.60it/s]\n"
     ]
    },
    {
     "name": "stdout",
     "output_type": "stream",
     "text": [
      "Epoch 60\n",
      "==========\n",
      "Train: Train acc 99.4127936031984 | WM acc 12.0\n",
      "Tests: WM acc 100.0 | WM train avg acc 10.34 | Test acc 88.27000000000001\n",
      "./models/wm_cifar10_certify_random_8020_rand_lr0.01.pth\n"
     ]
    },
    {
     "name": "stderr",
     "output_type": "stream",
     "text": [
      "Robust training: 100%|█████████████████████████████████████████████████████████████████| 2/2 [03:01<00:00, 90.91s/it]\n",
      "Normal training: 100%|█████████████████████████████████████████████████████████████| 157/157 [00:26<00:00,  5.84it/s]\n"
     ]
    },
    {
     "name": "stdout",
     "output_type": "stream",
     "text": [
      "Epoch 61\n",
      "==========\n",
      "Train: Train acc 99.51024487756122 | WM acc 8.0\n",
      "Tests: WM acc 100.0 | WM train avg acc 10.53 | Test acc 88.27000000000001\n",
      "./models/wm_cifar10_certify_random_8020_rand_lr0.01.pth\n"
     ]
    },
    {
     "name": "stderr",
     "output_type": "stream",
     "text": [
      "Robust training: 100%|█████████████████████████████████████████████████████████████████| 2/2 [03:04<00:00, 92.03s/it]\n",
      "Normal training: 100%|█████████████████████████████████████████████████████████████| 157/157 [00:22<00:00,  6.86it/s]\n"
     ]
    },
    {
     "name": "stdout",
     "output_type": "stream",
     "text": [
      "Epoch 62\n",
      "==========\n",
      "Train: Train acc 99.51774112943528 | WM acc 11.0\n",
      "Tests: WM acc 100.0 | WM train avg acc 10.73 | Test acc 88.25\n",
      "./models/wm_cifar10_certify_random_8020_rand_lr0.01.pth\n"
     ]
    },
    {
     "name": "stderr",
     "output_type": "stream",
     "text": [
      "Robust training: 100%|█████████████████████████████████████████████████████████████████| 2/2 [03:04<00:00, 92.36s/it]\n",
      "Normal training: 100%|█████████████████████████████████████████████████████████████| 157/157 [00:17<00:00,  8.90it/s]\n"
     ]
    },
    {
     "name": "stdout",
     "output_type": "stream",
     "text": [
      "Epoch 63\n",
      "==========\n",
      "Train: Train acc 99.49025487256372 | WM acc 11.0\n",
      "Tests: WM acc 100.0 | WM train avg acc 9.82 | Test acc 88.32\n",
      "./models/wm_cifar10_certify_random_8020_rand_lr0.01.pth\n"
     ]
    },
    {
     "name": "stderr",
     "output_type": "stream",
     "text": [
      "Robust training: 100%|█████████████████████████████████████████████████████████████████| 2/2 [03:02<00:00, 91.27s/it]\n",
      "Normal training: 100%|█████████████████████████████████████████████████████████████| 157/157 [00:15<00:00, 10.37it/s]\n"
     ]
    },
    {
     "name": "stdout",
     "output_type": "stream",
     "text": [
      "Epoch 64\n",
      "==========\n",
      "Train: Train acc 99.53273363318341 | WM acc 14.000000000000002\n",
      "Tests: WM acc 100.0 | WM train avg acc 10.57 | Test acc 88.37\n",
      "./models/wm_cifar10_certify_random_8020_rand_lr0.01.pth\n"
     ]
    },
    {
     "name": "stderr",
     "output_type": "stream",
     "text": [
      "Robust training: 100%|█████████████████████████████████████████████████████████████████| 2/2 [02:56<00:00, 88.46s/it]\n",
      "Normal training: 100%|█████████████████████████████████████████████████████████████| 157/157 [00:15<00:00, 10.44it/s]\n"
     ]
    },
    {
     "name": "stdout",
     "output_type": "stream",
     "text": [
      "Epoch 65\n",
      "==========\n",
      "Train: Train acc 99.52773613193403 | WM acc 6.0\n",
      "Tests: WM acc 100.0 | WM train avg acc 10.61 | Test acc 88.3\n",
      "./models/wm_cifar10_certify_random_8020_rand_lr0.01.pth\n"
     ]
    },
    {
     "name": "stderr",
     "output_type": "stream",
     "text": [
      "Robust training: 100%|█████████████████████████████████████████████████████████████████| 2/2 [02:50<00:00, 85.31s/it]\n",
      "Normal training: 100%|█████████████████████████████████████████████████████████████| 157/157 [00:17<00:00,  8.85it/s]\n"
     ]
    },
    {
     "name": "stdout",
     "output_type": "stream",
     "text": [
      "Epoch 66\n",
      "==========\n",
      "Train: Train acc 99.51024487756122 | WM acc 14.000000000000002\n",
      "Tests: WM acc 100.0 | WM train avg acc 9.97 | Test acc 88.27000000000001\n",
      "./models/wm_cifar10_certify_random_8020_rand_lr0.01.pth\n"
     ]
    },
    {
     "name": "stderr",
     "output_type": "stream",
     "text": [
      "Robust training: 100%|█████████████████████████████████████████████████████████████████| 2/2 [02:44<00:00, 82.35s/it]\n",
      "Normal training: 100%|█████████████████████████████████████████████████████████████| 157/157 [00:23<00:00,  6.72it/s]\n"
     ]
    },
    {
     "name": "stdout",
     "output_type": "stream",
     "text": [
      "Epoch 67\n",
      "==========\n",
      "Train: Train acc 99.54522738630685 | WM acc 7.000000000000001\n",
      "Tests: WM acc 100.0 | WM train avg acc 10.13 | Test acc 88.3\n",
      "./models/wm_cifar10_certify_random_8020_rand_lr0.01.pth\n"
     ]
    },
    {
     "name": "stderr",
     "output_type": "stream",
     "text": [
      "Robust training: 100%|█████████████████████████████████████████████████████████████████| 2/2 [02:40<00:00, 80.09s/it]\n",
      "Normal training: 100%|█████████████████████████████████████████████████████████████| 157/157 [00:27<00:00,  5.76it/s]\n"
     ]
    },
    {
     "name": "stdout",
     "output_type": "stream",
     "text": [
      "Epoch 68\n",
      "==========\n",
      "Train: Train acc 99.5352323838081 | WM acc 13.0\n",
      "Tests: WM acc 100.0 | WM train avg acc 9.93 | Test acc 88.4\n",
      "./models/wm_cifar10_certify_random_8020_rand_lr0.01.pth\n"
     ]
    },
    {
     "name": "stderr",
     "output_type": "stream",
     "text": [
      "Robust training: 100%|█████████████████████████████████████████████████████████████████| 2/2 [02:38<00:00, 79.44s/it]\n",
      "Normal training: 100%|█████████████████████████████████████████████████████████████| 157/157 [00:27<00:00,  5.64it/s]\n"
     ]
    },
    {
     "name": "stdout",
     "output_type": "stream",
     "text": [
      "Epoch 69\n",
      "==========\n",
      "Train: Train acc 99.58520739630184 | WM acc 6.0\n",
      "Tests: WM acc 100.0 | WM train avg acc 9.73 | Test acc 88.36\n",
      "./models/wm_cifar10_certify_random_8020_rand_lr0.01.pth\n"
     ]
    },
    {
     "name": "stderr",
     "output_type": "stream",
     "text": [
      "Robust training: 100%|█████████████████████████████████████████████████████████████████| 2/2 [02:30<00:00, 75.02s/it]\n",
      "Normal training: 100%|█████████████████████████████████████████████████████████████| 157/157 [00:13<00:00, 11.33it/s]\n"
     ]
    },
    {
     "name": "stdout",
     "output_type": "stream",
     "text": [
      "Epoch 70\n",
      "==========\n",
      "Train: Train acc 99.54522738630685 | WM acc 10.0\n",
      "Tests: WM acc 100.0 | WM train avg acc 10.46 | Test acc 88.3\n",
      "./models/wm_cifar10_certify_random_8020_rand_lr0.01.pth\n"
     ]
    },
    {
     "name": "stderr",
     "output_type": "stream",
     "text": [
      "Robust training: 100%|█████████████████████████████████████████████████████████████████| 2/2 [01:26<00:00, 43.20s/it]\n",
      "Normal training: 100%|█████████████████████████████████████████████████████████████| 157/157 [00:13<00:00, 11.33it/s]\n"
     ]
    },
    {
     "name": "stdout",
     "output_type": "stream",
     "text": [
      "Epoch 71\n",
      "==========\n",
      "Train: Train acc 99.60519740129935 | WM acc 11.0\n",
      "Tests: WM acc 100.0 | WM train avg acc 10.32 | Test acc 88.42\n",
      "./models/wm_cifar10_certify_random_8020_rand_lr0.01.pth\n"
     ]
    },
    {
     "name": "stderr",
     "output_type": "stream",
     "text": [
      "Robust training: 100%|█████████████████████████████████████████████████████████████████| 2/2 [01:26<00:00, 43.18s/it]\n",
      "Normal training: 100%|█████████████████████████████████████████████████████████████| 157/157 [00:13<00:00, 11.34it/s]\n"
     ]
    },
    {
     "name": "stdout",
     "output_type": "stream",
     "text": [
      "Epoch 72\n",
      "==========\n",
      "Train: Train acc 99.5752123938031 | WM acc 9.0\n",
      "Tests: WM acc 100.0 | WM train avg acc 9.72 | Test acc 88.32\n",
      "./models/wm_cifar10_certify_random_8020_rand_lr0.01.pth\n"
     ]
    },
    {
     "name": "stderr",
     "output_type": "stream",
     "text": [
      "Robust training: 100%|█████████████████████████████████████████████████████████████████| 2/2 [01:26<00:00, 43.18s/it]\n",
      "Normal training: 100%|█████████████████████████████████████████████████████████████| 157/157 [00:13<00:00, 11.34it/s]\n"
     ]
    },
    {
     "name": "stdout",
     "output_type": "stream",
     "text": [
      "Epoch 73\n",
      "==========\n",
      "Train: Train acc 99.56271864067966 | WM acc 7.000000000000001\n",
      "Tests: WM acc 100.0 | WM train avg acc 10.35 | Test acc 88.42\n",
      "./models/wm_cifar10_certify_random_8020_rand_lr0.01.pth\n"
     ]
    },
    {
     "name": "stderr",
     "output_type": "stream",
     "text": [
      "Robust training: 100%|█████████████████████████████████████████████████████████████████| 2/2 [01:26<00:00, 43.18s/it]\n",
      "Normal training: 100%|█████████████████████████████████████████████████████████████| 157/157 [00:13<00:00, 11.32it/s]\n"
     ]
    },
    {
     "name": "stdout",
     "output_type": "stream",
     "text": [
      "Epoch 74\n",
      "==========\n",
      "Train: Train acc 99.53773113443279 | WM acc 14.000000000000002\n",
      "Tests: WM acc 100.0 | WM train avg acc 10.05 | Test acc 88.31\n",
      "./models/wm_cifar10_certify_random_8020_rand_lr0.01.pth\n"
     ]
    },
    {
     "name": "stderr",
     "output_type": "stream",
     "text": [
      "Robust training: 100%|█████████████████████████████████████████████████████████████████| 2/2 [01:26<00:00, 43.19s/it]\n",
      "Normal training: 100%|█████████████████████████████████████████████████████████████| 157/157 [00:13<00:00, 11.32it/s]\n"
     ]
    },
    {
     "name": "stdout",
     "output_type": "stream",
     "text": [
      "Epoch 75\n",
      "==========\n",
      "Train: Train acc 99.58020989505248 | WM acc 9.0\n",
      "Tests: WM acc 100.0 | WM train avg acc 10.04 | Test acc 88.4\n",
      "./models/wm_cifar10_certify_random_8020_rand_lr0.01.pth\n"
     ]
    },
    {
     "name": "stderr",
     "output_type": "stream",
     "text": [
      "Robust training: 100%|█████████████████████████████████████████████████████████████████| 2/2 [01:26<00:00, 43.19s/it]\n",
      "Normal training: 100%|█████████████████████████████████████████████████████████████| 157/157 [00:13<00:00, 11.33it/s]\n"
     ]
    },
    {
     "name": "stdout",
     "output_type": "stream",
     "text": [
      "Epoch 76\n",
      "==========\n",
      "Train: Train acc 99.62768615692154 | WM acc 9.0\n",
      "Tests: WM acc 100.0 | WM train avg acc 10.25 | Test acc 88.37\n",
      "./models/wm_cifar10_certify_random_8020_rand_lr0.01.pth\n"
     ]
    },
    {
     "name": "stderr",
     "output_type": "stream",
     "text": [
      "Robust training: 100%|█████████████████████████████████████████████████████████████████| 2/2 [01:26<00:00, 43.19s/it]\n",
      "Normal training: 100%|█████████████████████████████████████████████████████████████| 157/157 [00:13<00:00, 11.33it/s]\n"
     ]
    },
    {
     "name": "stdout",
     "output_type": "stream",
     "text": [
      "Epoch 77\n",
      "==========\n",
      "Train: Train acc 99.61019490254873 | WM acc 11.0\n",
      "Tests: WM acc 100.0 | WM train avg acc 10.4 | Test acc 88.29\n",
      "./models/wm_cifar10_certify_random_8020_rand_lr0.01.pth\n"
     ]
    },
    {
     "name": "stderr",
     "output_type": "stream",
     "text": [
      "Robust training: 100%|█████████████████████████████████████████████████████████████████| 2/2 [01:26<00:00, 43.18s/it]\n",
      "Normal training: 100%|█████████████████████████████████████████████████████████████| 157/157 [00:13<00:00, 11.33it/s]\n"
     ]
    },
    {
     "name": "stdout",
     "output_type": "stream",
     "text": [
      "Epoch 78\n",
      "==========\n",
      "Train: Train acc 99.56021989005497 | WM acc 12.0\n",
      "Tests: WM acc 100.0 | WM train avg acc 10.34 | Test acc 88.26\n",
      "./models/wm_cifar10_certify_random_8020_rand_lr0.01.pth\n"
     ]
    },
    {
     "name": "stderr",
     "output_type": "stream",
     "text": [
      "Robust training: 100%|█████████████████████████████████████████████████████████████████| 2/2 [01:26<00:00, 43.18s/it]\n",
      "Normal training: 100%|█████████████████████████████████████████████████████████████| 157/157 [00:13<00:00, 11.34it/s]\n"
     ]
    },
    {
     "name": "stdout",
     "output_type": "stream",
     "text": [
      "Epoch 79\n",
      "==========\n",
      "Train: Train acc 99.62268865567216 | WM acc 10.0\n",
      "Tests: WM acc 100.0 | WM train avg acc 10.37 | Test acc 88.38000000000001\n",
      "./models/wm_cifar10_certify_random_8020_rand_lr0.01.pth\n"
     ]
    },
    {
     "name": "stderr",
     "output_type": "stream",
     "text": [
      "Robust training: 100%|█████████████████████████████████████████████████████████████████| 2/2 [01:26<00:00, 43.18s/it]\n",
      "Normal training: 100%|█████████████████████████████████████████████████████████████| 157/157 [00:13<00:00, 11.32it/s]\n"
     ]
    },
    {
     "name": "stdout",
     "output_type": "stream",
     "text": [
      "Epoch 80\n",
      "==========\n",
      "Train: Train acc 99.58770614692654 | WM acc 6.0\n",
      "Tests: WM acc 100.0 | WM train avg acc 9.88 | Test acc 88.28\n",
      "./models/wm_cifar10_certify_random_8020_rand_lr0.01.pth\n"
     ]
    },
    {
     "name": "stderr",
     "output_type": "stream",
     "text": [
      "Robust training: 100%|█████████████████████████████████████████████████████████████████| 2/2 [01:26<00:00, 43.17s/it]\n",
      "Normal training: 100%|█████████████████████████████████████████████████████████████| 157/157 [00:13<00:00, 11.33it/s]\n"
     ]
    },
    {
     "name": "stdout",
     "output_type": "stream",
     "text": [
      "Epoch 81\n",
      "==========\n",
      "Train: Train acc 99.57271364317842 | WM acc 9.0\n",
      "Tests: WM acc 100.0 | WM train avg acc 9.93 | Test acc 88.35\n",
      "./models/wm_cifar10_certify_random_8020_rand_lr0.01.pth\n"
     ]
    },
    {
     "name": "stderr",
     "output_type": "stream",
     "text": [
      "Robust training: 100%|█████████████████████████████████████████████████████████████████| 2/2 [01:26<00:00, 43.18s/it]\n",
      "Normal training: 100%|█████████████████████████████████████████████████████████████| 157/157 [00:13<00:00, 11.34it/s]\n"
     ]
    },
    {
     "name": "stdout",
     "output_type": "stream",
     "text": [
      "Epoch 82\n",
      "==========\n",
      "Train: Train acc 99.58270864567716 | WM acc 10.0\n",
      "Tests: WM acc 100.0 | WM train avg acc 10.49 | Test acc 88.33\n",
      "./models/wm_cifar10_certify_random_8020_rand_lr0.01.pth\n"
     ]
    },
    {
     "name": "stderr",
     "output_type": "stream",
     "text": [
      "Robust training: 100%|█████████████████████████████████████████████████████████████████| 2/2 [01:26<00:00, 43.19s/it]\n",
      "Normal training: 100%|█████████████████████████████████████████████████████████████| 157/157 [00:13<00:00, 11.31it/s]\n"
     ]
    },
    {
     "name": "stdout",
     "output_type": "stream",
     "text": [
      "Epoch 83\n",
      "==========\n",
      "Train: Train acc 99.59770114942529 | WM acc 9.0\n",
      "Tests: WM acc 100.0 | WM train avg acc 10.51 | Test acc 88.34\n",
      "./models/wm_cifar10_certify_random_8020_rand_lr0.01.pth\n"
     ]
    },
    {
     "name": "stderr",
     "output_type": "stream",
     "text": [
      "Robust training: 100%|█████████████████████████████████████████████████████████████████| 2/2 [01:26<00:00, 43.19s/it]\n",
      "Normal training: 100%|█████████████████████████████████████████████████████████████| 157/157 [00:13<00:00, 11.33it/s]\n"
     ]
    },
    {
     "name": "stdout",
     "output_type": "stream",
     "text": [
      "Epoch 84\n",
      "==========\n",
      "Train: Train acc 99.62518740629686 | WM acc 11.0\n",
      "Tests: WM acc 100.0 | WM train avg acc 10.24 | Test acc 88.42999999999999\n",
      "./models/wm_cifar10_certify_random_8020_rand_lr0.01.pth\n"
     ]
    },
    {
     "name": "stderr",
     "output_type": "stream",
     "text": [
      "Robust training: 100%|█████████████████████████████████████████████████████████████████| 2/2 [01:26<00:00, 43.19s/it]\n",
      "Normal training: 100%|█████████████████████████████████████████████████████████████| 157/157 [00:13<00:00, 11.34it/s]\n"
     ]
    },
    {
     "name": "stdout",
     "output_type": "stream",
     "text": [
      "Epoch 85\n",
      "==========\n",
      "Train: Train acc 99.57771114442778 | WM acc 12.0\n",
      "Tests: WM acc 100.0 | WM train avg acc 10.14 | Test acc 88.37\n",
      "./models/wm_cifar10_certify_random_8020_rand_lr0.01.pth\n"
     ]
    },
    {
     "name": "stderr",
     "output_type": "stream",
     "text": [
      "Robust training: 100%|█████████████████████████████████████████████████████████████████| 2/2 [01:26<00:00, 43.18s/it]\n",
      "Normal training: 100%|█████████████████████████████████████████████████████████████| 157/157 [00:13<00:00, 11.32it/s]\n"
     ]
    },
    {
     "name": "stdout",
     "output_type": "stream",
     "text": [
      "Epoch 86\n",
      "==========\n",
      "Train: Train acc 99.60519740129935 | WM acc 6.0\n",
      "Tests: WM acc 100.0 | WM train avg acc 10.41 | Test acc 88.44999999999999\n",
      "./models/wm_cifar10_certify_random_8020_rand_lr0.01.pth\n"
     ]
    },
    {
     "name": "stderr",
     "output_type": "stream",
     "text": [
      "Robust training: 100%|█████████████████████████████████████████████████████████████████| 2/2 [01:26<00:00, 43.18s/it]\n",
      "Normal training: 100%|█████████████████████████████████████████████████████████████| 157/157 [00:13<00:00, 11.34it/s]\n"
     ]
    },
    {
     "name": "stdout",
     "output_type": "stream",
     "text": [
      "Epoch 87\n",
      "==========\n",
      "Train: Train acc 99.60769615192405 | WM acc 7.000000000000001\n",
      "Tests: WM acc 100.0 | WM train avg acc 10.49 | Test acc 88.39\n",
      "./models/wm_cifar10_certify_random_8020_rand_lr0.01.pth\n"
     ]
    },
    {
     "name": "stderr",
     "output_type": "stream",
     "text": [
      "Robust training: 100%|█████████████████████████████████████████████████████████████████| 2/2 [02:01<00:00, 60.75s/it]\n",
      "Normal training: 100%|█████████████████████████████████████████████████████████████| 157/157 [00:16<00:00,  9.68it/s]\n"
     ]
    },
    {
     "name": "stdout",
     "output_type": "stream",
     "text": [
      "Epoch 88\n",
      "==========\n",
      "Train: Train acc 99.6176911544228 | WM acc 12.0\n",
      "Tests: WM acc 100.0 | WM train avg acc 10.36 | Test acc 88.28\n",
      "./models/wm_cifar10_certify_random_8020_rand_lr0.01.pth\n"
     ]
    },
    {
     "name": "stderr",
     "output_type": "stream",
     "text": [
      "Robust training: 100%|█████████████████████████████████████████████████████████████████| 2/2 [02:04<00:00, 62.02s/it]\n",
      "Normal training: 100%|█████████████████████████████████████████████████████████████| 157/157 [00:28<00:00,  5.54it/s]\n"
     ]
    },
    {
     "name": "stdout",
     "output_type": "stream",
     "text": [
      "Epoch 89\n",
      "==========\n",
      "Train: Train acc 99.63018490754622 | WM acc 10.0\n",
      "Tests: WM acc 100.0 | WM train avg acc 10.28 | Test acc 88.28\n",
      "./models/wm_cifar10_certify_random_8020_rand_lr0.01.pth\n"
     ]
    },
    {
     "name": "stderr",
     "output_type": "stream",
     "text": [
      "Robust training: 100%|█████████████████████████████████████████████████████████████████| 2/2 [02:16<00:00, 68.05s/it]\n",
      "Normal training: 100%|█████████████████████████████████████████████████████████████| 157/157 [00:17<00:00,  8.79it/s]\n"
     ]
    },
    {
     "name": "stdout",
     "output_type": "stream",
     "text": [
      "Epoch 90\n",
      "==========\n",
      "Train: Train acc 99.58020989505248 | WM acc 12.0\n",
      "Tests: WM acc 100.0 | WM train avg acc 10.11 | Test acc 88.32\n",
      "./models/wm_cifar10_certify_random_8020_rand_lr0.01.pth\n"
     ]
    },
    {
     "name": "stderr",
     "output_type": "stream",
     "text": [
      "Robust training: 100%|█████████████████████████████████████████████████████████████████| 2/2 [02:15<00:00, 67.56s/it]\n",
      "Normal training: 100%|█████████████████████████████████████████████████████████████| 157/157 [00:27<00:00,  5.63it/s]\n"
     ]
    },
    {
     "name": "stdout",
     "output_type": "stream",
     "text": [
      "Epoch 91\n",
      "==========\n",
      "Train: Train acc 99.64017991004498 | WM acc 10.0\n",
      "Tests: WM acc 100.0 | WM train avg acc 10.34 | Test acc 88.31\n",
      "./models/wm_cifar10_certify_random_8020_rand_lr0.01.pth\n"
     ]
    },
    {
     "name": "stderr",
     "output_type": "stream",
     "text": [
      "Robust training: 100%|█████████████████████████████████████████████████████████████████| 2/2 [02:40<00:00, 80.47s/it]\n",
      "Normal training: 100%|█████████████████████████████████████████████████████████████| 157/157 [00:27<00:00,  5.64it/s]\n"
     ]
    },
    {
     "name": "stdout",
     "output_type": "stream",
     "text": [
      "Epoch 92\n",
      "==========\n",
      "Train: Train acc 99.63768115942028 | WM acc 10.0\n",
      "Tests: WM acc 100.0 | WM train avg acc 10.29 | Test acc 88.31\n",
      "./models/wm_cifar10_certify_random_8020_rand_lr0.01.pth\n"
     ]
    },
    {
     "name": "stderr",
     "output_type": "stream",
     "text": [
      "Robust training: 100%|█████████████████████████████████████████████████████████████████| 2/2 [02:41<00:00, 80.58s/it]\n",
      "Normal training: 100%|█████████████████████████████████████████████████████████████| 157/157 [00:27<00:00,  5.64it/s]\n"
     ]
    },
    {
     "name": "stdout",
     "output_type": "stream",
     "text": [
      "Epoch 93\n",
      "==========\n",
      "Train: Train acc 99.56021989005497 | WM acc 12.0\n",
      "Tests: WM acc 100.0 | WM train avg acc 10.11 | Test acc 88.44\n",
      "./models/wm_cifar10_certify_random_8020_rand_lr0.01.pth\n"
     ]
    },
    {
     "name": "stderr",
     "output_type": "stream",
     "text": [
      "Robust training: 100%|█████████████████████████████████████████████████████████████████| 2/2 [02:41<00:00, 80.60s/it]\n",
      "Normal training: 100%|█████████████████████████████████████████████████████████████| 157/157 [00:27<00:00,  5.63it/s]\n"
     ]
    },
    {
     "name": "stdout",
     "output_type": "stream",
     "text": [
      "Epoch 94\n",
      "==========\n",
      "Train: Train acc 99.60019990004997 | WM acc 17.0\n",
      "Tests: WM acc 100.0 | WM train avg acc 10.24 | Test acc 88.31\n",
      "./models/wm_cifar10_certify_random_8020_rand_lr0.01.pth\n"
     ]
    },
    {
     "name": "stderr",
     "output_type": "stream",
     "text": [
      "Robust training: 100%|█████████████████████████████████████████████████████████████████| 2/2 [02:41<00:00, 80.73s/it]\n",
      "Normal training: 100%|█████████████████████████████████████████████████████████████| 157/157 [00:27<00:00,  5.63it/s]\n"
     ]
    },
    {
     "name": "stdout",
     "output_type": "stream",
     "text": [
      "Epoch 95\n",
      "==========\n",
      "Train: Train acc 99.60269865067465 | WM acc 10.0\n",
      "Tests: WM acc 100.0 | WM train avg acc 10.11 | Test acc 88.42\n",
      "./models/wm_cifar10_certify_random_8020_rand_lr0.01.pth\n"
     ]
    },
    {
     "name": "stderr",
     "output_type": "stream",
     "text": [
      "Robust training: 100%|█████████████████████████████████████████████████████████████████| 2/2 [02:41<00:00, 80.57s/it]\n",
      "Normal training: 100%|█████████████████████████████████████████████████████████████| 157/157 [00:27<00:00,  5.64it/s]\n"
     ]
    },
    {
     "name": "stdout",
     "output_type": "stream",
     "text": [
      "Epoch 96\n",
      "==========\n",
      "Train: Train acc 99.6176911544228 | WM acc 8.0\n",
      "Tests: WM acc 100.0 | WM train avg acc 10.02 | Test acc 88.18\n",
      "./models/wm_cifar10_certify_random_8020_rand_lr0.01.pth\n"
     ]
    },
    {
     "name": "stderr",
     "output_type": "stream",
     "text": [
      "Robust training: 100%|█████████████████████████████████████████████████████████████████| 2/2 [02:40<00:00, 80.48s/it]\n",
      "Normal training: 100%|█████████████████████████████████████████████████████████████| 157/157 [00:27<00:00,  5.64it/s]\n"
     ]
    },
    {
     "name": "stdout",
     "output_type": "stream",
     "text": [
      "Epoch 97\n",
      "==========\n",
      "Train: Train acc 99.60019990004997 | WM acc 9.0\n",
      "Tests: WM acc 100.0 | WM train avg acc 9.94 | Test acc 88.28\n",
      "./models/wm_cifar10_certify_random_8020_rand_lr0.01.pth\n"
     ]
    },
    {
     "name": "stderr",
     "output_type": "stream",
     "text": [
      "Robust training: 100%|█████████████████████████████████████████████████████████████████| 2/2 [02:41<00:00, 80.61s/it]\n",
      "Normal training: 100%|█████████████████████████████████████████████████████████████| 157/157 [00:27<00:00,  5.63it/s]\n"
     ]
    },
    {
     "name": "stdout",
     "output_type": "stream",
     "text": [
      "Epoch 98\n",
      "==========\n",
      "Train: Train acc 99.62518740629686 | WM acc 11.0\n",
      "Tests: WM acc 100.0 | WM train avg acc 10.05 | Test acc 88.29\n",
      "./models/wm_cifar10_certify_random_8020_rand_lr0.01.pth\n"
     ]
    },
    {
     "name": "stderr",
     "output_type": "stream",
     "text": [
      "Robust training: 100%|█████████████████████████████████████████████████████████████████| 2/2 [02:41<00:00, 80.52s/it]\n",
      "Normal training: 100%|█████████████████████████████████████████████████████████████| 157/157 [00:27<00:00,  5.63it/s]\n"
     ]
    },
    {
     "name": "stdout",
     "output_type": "stream",
     "text": [
      "Epoch 99\n",
      "==========\n",
      "Train: Train acc 99.58520739630184 | WM acc 8.0\n",
      "Tests: WM acc 100.0 | WM train avg acc 10.4 | Test acc 88.33\n",
      "./models/wm_cifar10_certify_random_8020_rand_lr0.01.pth\n"
     ]
    }
   ],
   "source": [
    "net = ResNet18()\n",
    "optimizer = torch.optim.SGD(net.parameters(), lr=0.01, momentum=0.9, weight_decay=1e-4)\n",
    "scheduler = torch.optim.lr_scheduler.StepLR(optimizer, step_size=30, gamma=0.1)\n",
    "\n",
    "train_certified_wm(\n",
    "    net,\n",
    "    rand_mix_loader,\n",
    "    wmloader,\n",
    "    testloader,\n",
    "    optimizer,\n",
    "    scheduler,\n",
    "    cert_type='random_8020_rand_lr0.01',\n",
    "    epochs=100,\n",
    "    warmup_epochs=10\n",
    ")"
   ]
  },
  {
   "cell_type": "markdown",
   "id": "4f058a63-5ee0-4877-8d62-04c99654b6a6",
   "metadata": {},
   "source": [
    "Unrelated "
   ]
  },
  {
   "cell_type": "code",
   "execution_count": 14,
   "id": "aff7ce91-9200-4d57-964b-e68a3c54477d",
   "metadata": {},
   "outputs": [
    {
     "name": "stderr",
     "output_type": "stream",
     "text": [
      "Normal training: 100%|█████████████████████████████████████████████████████████████| 157/157 [00:27<00:00,  5.67it/s]\n"
     ]
    },
    {
     "name": "stdout",
     "output_type": "stream",
     "text": [
      "Epoch 0\n",
      "==========\n",
      "Train: Train acc 42.243878060969514 | WM acc 0.0\n",
      "Tests: WM acc 100.0 | WM train avg acc 11.02 | Test acc 49.09\n",
      "./models/wm_cifar10_certify_random_8020_unrl_lr0.01.pth\n"
     ]
    },
    {
     "name": "stderr",
     "output_type": "stream",
     "text": [
      "Normal training: 100%|█████████████████████████████████████████████████████████████| 157/157 [00:15<00:00, 10.45it/s]\n"
     ]
    },
    {
     "name": "stdout",
     "output_type": "stream",
     "text": [
      "Epoch 1\n",
      "==========\n",
      "Train: Train acc 59.7551224387806 | WM acc 0.0\n",
      "Tests: WM acc 100.0 | WM train avg acc 9.73 | Test acc 63.21\n",
      "./models/wm_cifar10_certify_random_8020_unrl_lr0.01.pth\n"
     ]
    },
    {
     "name": "stderr",
     "output_type": "stream",
     "text": [
      "Normal training: 100%|█████████████████████████████████████████████████████████████| 157/157 [00:27<00:00,  5.65it/s]\n"
     ]
    },
    {
     "name": "stdout",
     "output_type": "stream",
     "text": [
      "Epoch 2\n",
      "==========\n",
      "Train: Train acc 68.66316841579211 | WM acc 0.0\n",
      "Tests: WM acc 95.0 | WM train avg acc 6.22 | Test acc 63.12\n",
      "./models/wm_cifar10_certify_random_8020_unrl_lr0.01.pth\n"
     ]
    },
    {
     "name": "stderr",
     "output_type": "stream",
     "text": [
      "Normal training: 100%|█████████████████████████████████████████████████████████████| 157/157 [00:27<00:00,  5.66it/s]\n"
     ]
    },
    {
     "name": "stdout",
     "output_type": "stream",
     "text": [
      "Epoch 3\n",
      "==========\n",
      "Train: Train acc 73.07596201899051 | WM acc 0.0\n",
      "Tests: WM acc 100.0 | WM train avg acc 12.83 | Test acc 70.91\n",
      "./models/wm_cifar10_certify_random_8020_unrl_lr0.01.pth\n"
     ]
    },
    {
     "name": "stderr",
     "output_type": "stream",
     "text": [
      "Normal training: 100%|█████████████████████████████████████████████████████████████| 157/157 [00:26<00:00,  6.02it/s]\n"
     ]
    },
    {
     "name": "stdout",
     "output_type": "stream",
     "text": [
      "Epoch 4\n",
      "==========\n",
      "Train: Train acc 76.55172413793103 | WM acc 0.0\n",
      "Tests: WM acc 100.0 | WM train avg acc 6.91 | Test acc 72.31\n",
      "./models/wm_cifar10_certify_random_8020_unrl_lr0.01.pth\n"
     ]
    },
    {
     "name": "stderr",
     "output_type": "stream",
     "text": [
      "Normal training: 100%|█████████████████████████████████████████████████████████████| 157/157 [00:27<00:00,  5.64it/s]\n"
     ]
    },
    {
     "name": "stdout",
     "output_type": "stream",
     "text": [
      "Epoch 5\n",
      "==========\n",
      "Train: Train acc 78.42828585707147 | WM acc 0.0\n",
      "Tests: WM acc 100.0 | WM train avg acc 12.02 | Test acc 76.24\n",
      "./models/wm_cifar10_certify_random_8020_unrl_lr0.01.pth\n"
     ]
    },
    {
     "name": "stderr",
     "output_type": "stream",
     "text": [
      "Normal training: 100%|█████████████████████████████████████████████████████████████| 157/157 [00:28<00:00,  5.61it/s]\n"
     ]
    },
    {
     "name": "stdout",
     "output_type": "stream",
     "text": [
      "Epoch 6\n",
      "==========\n",
      "Train: Train acc 80.28985507246377 | WM acc 0.0\n",
      "Tests: WM acc 97.0 | WM train avg acc 11.82 | Test acc 74.92999999999999\n",
      "./models/wm_cifar10_certify_random_8020_unrl_lr0.01.pth\n"
     ]
    },
    {
     "name": "stderr",
     "output_type": "stream",
     "text": [
      "Normal training: 100%|█████████████████████████████████████████████████████████████| 157/157 [00:27<00:00,  5.63it/s]\n"
     ]
    },
    {
     "name": "stdout",
     "output_type": "stream",
     "text": [
      "Epoch 7\n",
      "==========\n",
      "Train: Train acc 81.13943028485757 | WM acc 0.0\n",
      "Tests: WM acc 100.0 | WM train avg acc 11.25 | Test acc 79.64\n",
      "./models/wm_cifar10_certify_random_8020_unrl_lr0.01.pth\n"
     ]
    },
    {
     "name": "stderr",
     "output_type": "stream",
     "text": [
      "Normal training: 100%|█████████████████████████████████████████████████████████████| 157/157 [00:19<00:00,  8.20it/s]\n"
     ]
    },
    {
     "name": "stdout",
     "output_type": "stream",
     "text": [
      "Epoch 8\n",
      "==========\n",
      "Train: Train acc 82.69865067466267 | WM acc 0.0\n",
      "Tests: WM acc 100.0 | WM train avg acc 10.6 | Test acc 79.84\n",
      "./models/wm_cifar10_certify_random_8020_unrl_lr0.01.pth\n"
     ]
    },
    {
     "name": "stderr",
     "output_type": "stream",
     "text": [
      "Normal training: 100%|█████████████████████████████████████████████████████████████| 157/157 [00:27<00:00,  5.62it/s]\n"
     ]
    },
    {
     "name": "stdout",
     "output_type": "stream",
     "text": [
      "Epoch 9\n",
      "==========\n",
      "Train: Train acc 83.5432283858071 | WM acc 0.0\n",
      "Tests: WM acc 100.0 | WM train avg acc 7.67 | Test acc 80.67999999999999\n",
      "./models/wm_cifar10_certify_random_8020_unrl_lr0.01.pth\n"
     ]
    },
    {
     "name": "stderr",
     "output_type": "stream",
     "text": [
      "Normal training: 100%|█████████████████████████████████████████████████████████████| 157/157 [00:27<00:00,  5.66it/s]\n"
     ]
    },
    {
     "name": "stdout",
     "output_type": "stream",
     "text": [
      "Epoch 10\n",
      "==========\n",
      "Train: Train acc 84.88255872063968 | WM acc 0.0\n",
      "Tests: WM acc 65.0 | WM train avg acc 10.55 | Test acc 79.57\n",
      "./models/wm_cifar10_certify_random_8020_unrl_lr0.01.pth\n"
     ]
    },
    {
     "name": "stderr",
     "output_type": "stream",
     "text": [
      "Robust training: 100%|█████████████████████████████████████████████████████████████████| 2/2 [02:42<00:00, 81.02s/it]\n",
      "Normal training: 100%|█████████████████████████████████████████████████████████████| 157/157 [00:27<00:00,  5.67it/s]\n"
     ]
    },
    {
     "name": "stdout",
     "output_type": "stream",
     "text": [
      "Epoch 11\n",
      "==========\n",
      "Train: Train acc 72.66366816591704 | WM acc 36.0\n",
      "Tests: WM acc 98.0 | WM train avg acc 1.0 | Test acc 76.9\n",
      "./models/wm_cifar10_certify_random_8020_unrl_lr0.01.pth\n"
     ]
    },
    {
     "name": "stderr",
     "output_type": "stream",
     "text": [
      "Robust training: 100%|█████████████████████████████████████████████████████████████████| 2/2 [02:40<00:00, 80.04s/it]\n",
      "Normal training: 100%|█████████████████████████████████████████████████████████████| 157/157 [00:27<00:00,  5.66it/s]\n"
     ]
    },
    {
     "name": "stdout",
     "output_type": "stream",
     "text": [
      "Epoch 12\n",
      "==========\n",
      "Train: Train acc 79.40779610194902 | WM acc 36.0\n",
      "Tests: WM acc 100.0 | WM train avg acc 4.75 | Test acc 80.86\n",
      "./models/wm_cifar10_certify_random_8020_unrl_lr0.01.pth\n"
     ]
    },
    {
     "name": "stderr",
     "output_type": "stream",
     "text": [
      "Robust training: 100%|█████████████████████████████████████████████████████████████████| 2/2 [02:40<00:00, 80.02s/it]\n",
      "Normal training: 100%|█████████████████████████████████████████████████████████████| 157/157 [00:27<00:00,  5.68it/s]\n"
     ]
    },
    {
     "name": "stdout",
     "output_type": "stream",
     "text": [
      "Epoch 13\n",
      "==========\n",
      "Train: Train acc 79.47776111944029 | WM acc 76.0\n",
      "Tests: WM acc 100.0 | WM train avg acc 4.51 | Test acc 78.48\n",
      "./models/wm_cifar10_certify_random_8020_unrl_lr0.01.pth\n"
     ]
    },
    {
     "name": "stderr",
     "output_type": "stream",
     "text": [
      "Robust training: 100%|█████████████████████████████████████████████████████████████████| 2/2 [02:39<00:00, 79.86s/it]\n",
      "Normal training: 100%|█████████████████████████████████████████████████████████████| 157/157 [00:27<00:00,  5.67it/s]\n"
     ]
    },
    {
     "name": "stdout",
     "output_type": "stream",
     "text": [
      "Epoch 14\n",
      "==========\n",
      "Train: Train acc 81.49925037481259 | WM acc 3.0\n",
      "Tests: WM acc 100.0 | WM train avg acc 13.31 | Test acc 81.33\n",
      "./models/wm_cifar10_certify_random_8020_unrl_lr0.01.pth\n"
     ]
    },
    {
     "name": "stderr",
     "output_type": "stream",
     "text": [
      "Robust training: 100%|█████████████████████████████████████████████████████████████████| 2/2 [02:39<00:00, 79.87s/it]\n",
      "Normal training: 100%|█████████████████████████████████████████████████████████████| 157/157 [00:27<00:00,  5.69it/s]\n"
     ]
    },
    {
     "name": "stdout",
     "output_type": "stream",
     "text": [
      "Epoch 15\n",
      "==========\n",
      "Train: Train acc 83.95802098950524 | WM acc 36.0\n",
      "Tests: WM acc 100.0 | WM train avg acc 5.52 | Test acc 80.86\n",
      "./models/wm_cifar10_certify_random_8020_unrl_lr0.01.pth\n"
     ]
    },
    {
     "name": "stderr",
     "output_type": "stream",
     "text": [
      "Robust training: 100%|█████████████████████████████████████████████████████████████████| 2/2 [02:40<00:00, 80.13s/it]\n",
      "Normal training: 100%|█████████████████████████████████████████████████████████████| 157/157 [00:27<00:00,  5.67it/s]\n"
     ]
    },
    {
     "name": "stdout",
     "output_type": "stream",
     "text": [
      "Epoch 16\n",
      "==========\n",
      "Train: Train acc 84.93503248375812 | WM acc 64.0\n",
      "Tests: WM acc 100.0 | WM train avg acc 18.84 | Test acc 82.97\n",
      "./models/wm_cifar10_certify_random_8020_unrl_lr0.01.pth\n"
     ]
    },
    {
     "name": "stderr",
     "output_type": "stream",
     "text": [
      "Robust training: 100%|█████████████████████████████████████████████████████████████████| 2/2 [02:40<00:00, 80.26s/it]\n",
      "Normal training: 100%|█████████████████████████████████████████████████████████████| 157/157 [00:27<00:00,  5.67it/s]\n"
     ]
    },
    {
     "name": "stdout",
     "output_type": "stream",
     "text": [
      "Epoch 17\n",
      "==========\n",
      "Train: Train acc 86.55172413793103 | WM acc 36.0\n",
      "Tests: WM acc 100.0 | WM train avg acc 21.42 | Test acc 81.34\n",
      "./models/wm_cifar10_certify_random_8020_unrl_lr0.01.pth\n"
     ]
    },
    {
     "name": "stderr",
     "output_type": "stream",
     "text": [
      "Robust training: 100%|█████████████████████████████████████████████████████████████████| 2/2 [02:40<00:00, 80.29s/it]\n",
      "Normal training: 100%|█████████████████████████████████████████████████████████████| 157/157 [00:27<00:00,  5.67it/s]\n"
     ]
    },
    {
     "name": "stdout",
     "output_type": "stream",
     "text": [
      "Epoch 18\n",
      "==========\n",
      "Train: Train acc 87.58370814592705 | WM acc 21.0\n",
      "Tests: WM acc 100.0 | WM train avg acc 23.49 | Test acc 83.85000000000001\n",
      "./models/wm_cifar10_certify_random_8020_unrl_lr0.01.pth\n"
     ]
    },
    {
     "name": "stderr",
     "output_type": "stream",
     "text": [
      "Robust training: 100%|█████████████████████████████████████████████████████████████████| 2/2 [02:40<00:00, 80.47s/it]\n",
      "Normal training: 100%|█████████████████████████████████████████████████████████████| 157/157 [00:27<00:00,  5.67it/s]\n"
     ]
    },
    {
     "name": "stdout",
     "output_type": "stream",
     "text": [
      "Epoch 19\n",
      "==========\n",
      "Train: Train acc 88.47326336831584 | WM acc 99.0\n",
      "Tests: WM acc 100.0 | WM train avg acc 24.86 | Test acc 83.05\n",
      "./models/wm_cifar10_certify_random_8020_unrl_lr0.01.pth\n"
     ]
    },
    {
     "name": "stderr",
     "output_type": "stream",
     "text": [
      "Robust training: 100%|█████████████████████████████████████████████████████████████████| 2/2 [02:40<00:00, 80.49s/it]\n",
      "Normal training: 100%|█████████████████████████████████████████████████████████████| 157/157 [00:27<00:00,  5.67it/s]\n"
     ]
    },
    {
     "name": "stdout",
     "output_type": "stream",
     "text": [
      "Epoch 20\n",
      "==========\n",
      "Train: Train acc 89.09295352323838 | WM acc 100.0\n",
      "Tests: WM acc 100.0 | WM train avg acc 27.12 | Test acc 82.67999999999999\n",
      "./models/wm_cifar10_certify_random_8020_unrl_lr0.01.pth\n"
     ]
    },
    {
     "name": "stderr",
     "output_type": "stream",
     "text": [
      "Robust training: 100%|█████████████████████████████████████████████████████████████████| 2/2 [02:40<00:00, 80.25s/it]\n",
      "Normal training: 100%|█████████████████████████████████████████████████████████████| 157/157 [00:27<00:00,  5.66it/s]\n"
     ]
    },
    {
     "name": "stdout",
     "output_type": "stream",
     "text": [
      "Epoch 21\n",
      "==========\n",
      "Train: Train acc 89.52523738130934 | WM acc 60.0\n",
      "Tests: WM acc 100.0 | WM train avg acc 29.24 | Test acc 83.73\n",
      "./models/wm_cifar10_certify_random_8020_unrl_lr0.01.pth\n"
     ]
    },
    {
     "name": "stderr",
     "output_type": "stream",
     "text": [
      "Robust training: 100%|█████████████████████████████████████████████████████████████████| 2/2 [02:40<00:00, 80.48s/it]\n",
      "Normal training: 100%|█████████████████████████████████████████████████████████████| 157/157 [00:27<00:00,  5.66it/s]\n"
     ]
    },
    {
     "name": "stdout",
     "output_type": "stream",
     "text": [
      "Epoch 22\n",
      "==========\n",
      "Train: Train acc 89.88505747126436 | WM acc 77.0\n",
      "Tests: WM acc 97.0 | WM train avg acc 34.73 | Test acc 84.31\n",
      "./models/wm_cifar10_certify_random_8020_unrl_lr0.01.pth\n"
     ]
    },
    {
     "name": "stderr",
     "output_type": "stream",
     "text": [
      "Robust training: 100%|█████████████████████████████████████████████████████████████████| 2/2 [02:40<00:00, 80.44s/it]\n",
      "Normal training: 100%|█████████████████████████████████████████████████████████████| 157/157 [00:27<00:00,  5.66it/s]\n"
     ]
    },
    {
     "name": "stdout",
     "output_type": "stream",
     "text": [
      "Epoch 23\n",
      "==========\n",
      "Train: Train acc 90.38730634682659 | WM acc 100.0\n",
      "Tests: WM acc 100.0 | WM train avg acc 32.76 | Test acc 84.11\n",
      "./models/wm_cifar10_certify_random_8020_unrl_lr0.01.pth\n"
     ]
    },
    {
     "name": "stderr",
     "output_type": "stream",
     "text": [
      "Robust training: 100%|█████████████████████████████████████████████████████████████████| 2/2 [02:40<00:00, 80.35s/it]\n",
      "Normal training: 100%|█████████████████████████████████████████████████████████████| 157/157 [00:27<00:00,  5.65it/s]\n"
     ]
    },
    {
     "name": "stdout",
     "output_type": "stream",
     "text": [
      "Epoch 24\n",
      "==========\n",
      "Train: Train acc 91.06946526736631 | WM acc 61.0\n",
      "Tests: WM acc 100.0 | WM train avg acc 36.52 | Test acc 82.77\n",
      "./models/wm_cifar10_certify_random_8020_unrl_lr0.01.pth\n"
     ]
    },
    {
     "name": "stderr",
     "output_type": "stream",
     "text": [
      "Robust training: 100%|█████████████████████████████████████████████████████████████████| 2/2 [02:40<00:00, 80.30s/it]\n",
      "Normal training: 100%|█████████████████████████████████████████████████████████████| 157/157 [00:27<00:00,  5.66it/s]\n"
     ]
    },
    {
     "name": "stdout",
     "output_type": "stream",
     "text": [
      "Epoch 25\n",
      "==========\n",
      "Train: Train acc 91.26936531734134 | WM acc 85.0\n",
      "Tests: WM acc 100.0 | WM train avg acc 32.07 | Test acc 83.78999999999999\n",
      "./models/wm_cifar10_certify_random_8020_unrl_lr0.01.pth\n"
     ]
    },
    {
     "name": "stderr",
     "output_type": "stream",
     "text": [
      "Robust training: 100%|█████████████████████████████████████████████████████████████████| 2/2 [02:40<00:00, 80.34s/it]\n",
      "Normal training: 100%|█████████████████████████████████████████████████████████████| 157/157 [00:27<00:00,  5.64it/s]\n"
     ]
    },
    {
     "name": "stdout",
     "output_type": "stream",
     "text": [
      "Epoch 26\n",
      "==========\n",
      "Train: Train acc 91.84657671164418 | WM acc 100.0\n",
      "Tests: WM acc 100.0 | WM train avg acc 34.49 | Test acc 85.05\n",
      "./models/wm_cifar10_certify_random_8020_unrl_lr0.01.pth\n"
     ]
    },
    {
     "name": "stderr",
     "output_type": "stream",
     "text": [
      "Robust training: 100%|█████████████████████████████████████████████████████████████████| 2/2 [02:40<00:00, 80.47s/it]\n",
      "Normal training: 100%|█████████████████████████████████████████████████████████████| 157/157 [00:27<00:00,  5.65it/s]\n"
     ]
    },
    {
     "name": "stdout",
     "output_type": "stream",
     "text": [
      "Epoch 27\n",
      "==========\n",
      "Train: Train acc 91.85657171414293 | WM acc 83.0\n",
      "Tests: WM acc 100.0 | WM train avg acc 31.35 | Test acc 84.92\n",
      "./models/wm_cifar10_certify_random_8020_unrl_lr0.01.pth\n"
     ]
    },
    {
     "name": "stderr",
     "output_type": "stream",
     "text": [
      "Robust training: 100%|█████████████████████████████████████████████████████████████████| 2/2 [02:40<00:00, 80.19s/it]\n",
      "Normal training: 100%|█████████████████████████████████████████████████████████████| 157/157 [00:27<00:00,  5.64it/s]\n"
     ]
    },
    {
     "name": "stdout",
     "output_type": "stream",
     "text": [
      "Epoch 28\n",
      "==========\n",
      "Train: Train acc 92.49875062468766 | WM acc 99.0\n",
      "Tests: WM acc 100.0 | WM train avg acc 32.47 | Test acc 85.41\n",
      "./models/wm_cifar10_certify_random_8020_unrl_lr0.01.pth\n"
     ]
    },
    {
     "name": "stderr",
     "output_type": "stream",
     "text": [
      "Robust training: 100%|█████████████████████████████████████████████████████████████████| 2/2 [02:40<00:00, 80.27s/it]\n",
      "Normal training: 100%|█████████████████████████████████████████████████████████████| 157/157 [00:27<00:00,  5.64it/s]\n"
     ]
    },
    {
     "name": "stdout",
     "output_type": "stream",
     "text": [
      "Epoch 29\n",
      "==========\n",
      "Train: Train acc 92.84857571214393 | WM acc 100.0\n",
      "Tests: WM acc 100.0 | WM train avg acc 29.71 | Test acc 83.0\n",
      "./models/wm_cifar10_certify_random_8020_unrl_lr0.01.pth\n"
     ]
    },
    {
     "name": "stderr",
     "output_type": "stream",
     "text": [
      "Robust training: 100%|█████████████████████████████████████████████████████████████████| 2/2 [02:41<00:00, 80.52s/it]\n",
      "Normal training: 100%|█████████████████████████████████████████████████████████████| 157/157 [00:27<00:00,  5.64it/s]\n"
     ]
    },
    {
     "name": "stdout",
     "output_type": "stream",
     "text": [
      "Epoch 30\n",
      "==========\n",
      "Train: Train acc 92.46126936531735 | WM acc 100.0\n",
      "Tests: WM acc 100.0 | WM train avg acc 47.46 | Test acc 83.85000000000001\n",
      "./models/wm_cifar10_certify_random_8020_unrl_lr0.01.pth\n"
     ]
    },
    {
     "name": "stderr",
     "output_type": "stream",
     "text": [
      "Robust training: 100%|█████████████████████████████████████████████████████████████████| 2/2 [02:40<00:00, 80.48s/it]\n",
      "Normal training: 100%|█████████████████████████████████████████████████████████████| 157/157 [00:27<00:00,  5.64it/s]\n"
     ]
    },
    {
     "name": "stdout",
     "output_type": "stream",
     "text": [
      "Epoch 31\n",
      "==========\n",
      "Train: Train acc 95.4247876061969 | WM acc 81.0\n",
      "Tests: WM acc 100.0 | WM train avg acc 30.87 | Test acc 87.22999999999999\n",
      "./models/wm_cifar10_certify_random_8020_unrl_lr0.01.pth\n"
     ]
    },
    {
     "name": "stderr",
     "output_type": "stream",
     "text": [
      "Robust training: 100%|█████████████████████████████████████████████████████████████████| 2/2 [02:40<00:00, 80.28s/it]\n",
      "Normal training: 100%|█████████████████████████████████████████████████████████████| 157/157 [00:27<00:00,  5.63it/s]\n"
     ]
    },
    {
     "name": "stdout",
     "output_type": "stream",
     "text": [
      "Epoch 32\n",
      "==========\n",
      "Train: Train acc 96.34432783608196 | WM acc 100.0\n",
      "Tests: WM acc 100.0 | WM train avg acc 36.01 | Test acc 87.56\n",
      "./models/wm_cifar10_certify_random_8020_unrl_lr0.01.pth\n"
     ]
    },
    {
     "name": "stderr",
     "output_type": "stream",
     "text": [
      "Robust training: 100%|█████████████████████████████████████████████████████████████████| 2/2 [02:40<00:00, 80.45s/it]\n",
      "Normal training: 100%|█████████████████████████████████████████████████████████████| 157/157 [00:27<00:00,  5.63it/s]\n"
     ]
    },
    {
     "name": "stdout",
     "output_type": "stream",
     "text": [
      "Epoch 33\n",
      "==========\n",
      "Train: Train acc 96.79410294852573 | WM acc 64.0\n",
      "Tests: WM acc 100.0 | WM train avg acc 46.23 | Test acc 87.42999999999999\n",
      "./models/wm_cifar10_certify_random_8020_unrl_lr0.01.pth\n"
     ]
    },
    {
     "name": "stderr",
     "output_type": "stream",
     "text": [
      "Robust training: 100%|█████████████████████████████████████████████████████████████████| 2/2 [02:40<00:00, 80.37s/it]\n",
      "Normal training: 100%|█████████████████████████████████████████████████████████████| 157/157 [00:27<00:00,  5.63it/s]\n"
     ]
    },
    {
     "name": "stdout",
     "output_type": "stream",
     "text": [
      "Epoch 34\n",
      "==========\n",
      "Train: Train acc 96.87156421789106 | WM acc 66.0\n",
      "Tests: WM acc 100.0 | WM train avg acc 32.98 | Test acc 87.59\n",
      "./models/wm_cifar10_certify_random_8020_unrl_lr0.01.pth\n"
     ]
    },
    {
     "name": "stderr",
     "output_type": "stream",
     "text": [
      "Robust training: 100%|█████████████████████████████████████████████████████████████████| 2/2 [02:40<00:00, 80.47s/it]\n",
      "Normal training: 100%|█████████████████████████████████████████████████████████████| 157/157 [00:27<00:00,  5.62it/s]\n"
     ]
    },
    {
     "name": "stdout",
     "output_type": "stream",
     "text": [
      "Epoch 35\n",
      "==========\n",
      "Train: Train acc 97.06896551724138 | WM acc 99.0\n",
      "Tests: WM acc 100.0 | WM train avg acc 43.74 | Test acc 87.67\n",
      "./models/wm_cifar10_certify_random_8020_unrl_lr0.01.pth\n"
     ]
    },
    {
     "name": "stderr",
     "output_type": "stream",
     "text": [
      "Robust training: 100%|█████████████████████████████████████████████████████████████████| 2/2 [02:40<00:00, 80.39s/it]\n",
      "Normal training: 100%|█████████████████████████████████████████████████████████████| 157/157 [00:27<00:00,  5.63it/s]\n"
     ]
    },
    {
     "name": "stdout",
     "output_type": "stream",
     "text": [
      "Epoch 36\n",
      "==========\n",
      "Train: Train acc 97.29385307346327 | WM acc 36.0\n",
      "Tests: WM acc 100.0 | WM train avg acc 43.96 | Test acc 87.64999999999999\n",
      "./models/wm_cifar10_certify_random_8020_unrl_lr0.01.pth\n"
     ]
    },
    {
     "name": "stderr",
     "output_type": "stream",
     "text": [
      "Robust training: 100%|█████████████████████████████████████████████████████████████████| 2/2 [02:40<00:00, 80.49s/it]\n",
      "Normal training: 100%|█████████████████████████████████████████████████████████████| 157/157 [00:27<00:00,  5.63it/s]\n"
     ]
    },
    {
     "name": "stdout",
     "output_type": "stream",
     "text": [
      "Epoch 37\n",
      "==========\n",
      "Train: Train acc 97.33383308345826 | WM acc 37.0\n",
      "Tests: WM acc 100.0 | WM train avg acc 36.64 | Test acc 87.68\n",
      "./models/wm_cifar10_certify_random_8020_unrl_lr0.01.pth\n"
     ]
    },
    {
     "name": "stderr",
     "output_type": "stream",
     "text": [
      "Robust training: 100%|█████████████████████████████████████████████████████████████████| 2/2 [02:41<00:00, 80.53s/it]\n",
      "Normal training: 100%|█████████████████████████████████████████████████████████████| 157/157 [00:27<00:00,  5.63it/s]\n"
     ]
    },
    {
     "name": "stdout",
     "output_type": "stream",
     "text": [
      "Epoch 38\n",
      "==========\n",
      "Train: Train acc 97.45627186406797 | WM acc 69.0\n",
      "Tests: WM acc 100.0 | WM train avg acc 42.55 | Test acc 87.77000000000001\n",
      "./models/wm_cifar10_certify_random_8020_unrl_lr0.01.pth\n"
     ]
    },
    {
     "name": "stderr",
     "output_type": "stream",
     "text": [
      "Robust training: 100%|█████████████████████████████████████████████████████████████████| 2/2 [02:40<00:00, 80.40s/it]\n",
      "Normal training: 100%|█████████████████████████████████████████████████████████████| 157/157 [00:27<00:00,  5.64it/s]\n"
     ]
    },
    {
     "name": "stdout",
     "output_type": "stream",
     "text": [
      "Epoch 39\n",
      "==========\n",
      "Train: Train acc 97.59370314842579 | WM acc 72.0\n",
      "Tests: WM acc 100.0 | WM train avg acc 47.85 | Test acc 87.6\n",
      "./models/wm_cifar10_certify_random_8020_unrl_lr0.01.pth\n"
     ]
    },
    {
     "name": "stderr",
     "output_type": "stream",
     "text": [
      "Robust training: 100%|█████████████████████████████████████████████████████████████████| 2/2 [02:40<00:00, 80.43s/it]\n",
      "Normal training: 100%|█████████████████████████████████████████████████████████████| 157/157 [00:27<00:00,  5.64it/s]\n"
     ]
    },
    {
     "name": "stdout",
     "output_type": "stream",
     "text": [
      "Epoch 40\n",
      "==========\n",
      "Train: Train acc 97.63618190904548 | WM acc 7.000000000000001\n",
      "Tests: WM acc 100.0 | WM train avg acc 35.82 | Test acc 87.57000000000001\n",
      "./models/wm_cifar10_certify_random_8020_unrl_lr0.01.pth\n"
     ]
    },
    {
     "name": "stderr",
     "output_type": "stream",
     "text": [
      "Robust training: 100%|█████████████████████████████████████████████████████████████████| 2/2 [02:40<00:00, 80.29s/it]\n",
      "Normal training: 100%|█████████████████████████████████████████████████████████████| 157/157 [00:27<00:00,  5.62it/s]\n"
     ]
    },
    {
     "name": "stdout",
     "output_type": "stream",
     "text": [
      "Epoch 41\n",
      "==========\n",
      "Train: Train acc 97.72863568215891 | WM acc 100.0\n",
      "Tests: WM acc 100.0 | WM train avg acc 32.71 | Test acc 87.68\n",
      "./models/wm_cifar10_certify_random_8020_unrl_lr0.01.pth\n"
     ]
    },
    {
     "name": "stderr",
     "output_type": "stream",
     "text": [
      "Robust training: 100%|█████████████████████████████████████████████████████████████████| 2/2 [02:41<00:00, 80.58s/it]\n",
      "Normal training: 100%|█████████████████████████████████████████████████████████████| 157/157 [00:27<00:00,  5.63it/s]\n"
     ]
    },
    {
     "name": "stdout",
     "output_type": "stream",
     "text": [
      "Epoch 42\n",
      "==========\n",
      "Train: Train acc 97.8535732133933 | WM acc 100.0\n",
      "Tests: WM acc 100.0 | WM train avg acc 44.75 | Test acc 87.71\n",
      "./models/wm_cifar10_certify_random_8020_unrl_lr0.01.pth\n"
     ]
    },
    {
     "name": "stderr",
     "output_type": "stream",
     "text": [
      "Robust training: 100%|█████████████████████████████████████████████████████████████████| 2/2 [02:41<00:00, 80.50s/it]\n",
      "Normal training: 100%|█████████████████████████████████████████████████████████████| 157/157 [00:27<00:00,  5.64it/s]\n"
     ]
    },
    {
     "name": "stdout",
     "output_type": "stream",
     "text": [
      "Epoch 43\n",
      "==========\n",
      "Train: Train acc 97.96601699150425 | WM acc 61.0\n",
      "Tests: WM acc 100.0 | WM train avg acc 35.19 | Test acc 87.55\n",
      "./models/wm_cifar10_certify_random_8020_unrl_lr0.01.pth\n"
     ]
    },
    {
     "name": "stderr",
     "output_type": "stream",
     "text": [
      "Robust training: 100%|█████████████████████████████████████████████████████████████████| 2/2 [02:40<00:00, 80.50s/it]\n",
      "Normal training: 100%|█████████████████████████████████████████████████████████████| 157/157 [00:27<00:00,  5.65it/s]\n"
     ]
    },
    {
     "name": "stdout",
     "output_type": "stream",
     "text": [
      "Epoch 44\n",
      "==========\n",
      "Train: Train acc 97.92853573213394 | WM acc 100.0\n",
      "Tests: WM acc 100.0 | WM train avg acc 30.81 | Test acc 87.77000000000001\n",
      "./models/wm_cifar10_certify_random_8020_unrl_lr0.01.pth\n"
     ]
    },
    {
     "name": "stderr",
     "output_type": "stream",
     "text": [
      "Robust training: 100%|█████████████████████████████████████████████████████████████████| 2/2 [02:40<00:00, 80.38s/it]\n",
      "Normal training: 100%|█████████████████████████████████████████████████████████████| 157/157 [00:27<00:00,  5.63it/s]\n"
     ]
    },
    {
     "name": "stdout",
     "output_type": "stream",
     "text": [
      "Epoch 45\n",
      "==========\n",
      "Train: Train acc 98.25587206396801 | WM acc 90.0\n",
      "Tests: WM acc 100.0 | WM train avg acc 38.81 | Test acc 87.69\n",
      "./models/wm_cifar10_certify_random_8020_unrl_lr0.01.pth\n"
     ]
    },
    {
     "name": "stderr",
     "output_type": "stream",
     "text": [
      "Robust training: 100%|█████████████████████████████████████████████████████████████████| 2/2 [02:41<00:00, 80.64s/it]\n",
      "Normal training: 100%|█████████████████████████████████████████████████████████████| 157/157 [00:27<00:00,  5.63it/s]\n"
     ]
    },
    {
     "name": "stdout",
     "output_type": "stream",
     "text": [
      "Epoch 46\n",
      "==========\n",
      "Train: Train acc 98.13593203398301 | WM acc 100.0\n",
      "Tests: WM acc 100.0 | WM train avg acc 45.8 | Test acc 87.53999999999999\n",
      "./models/wm_cifar10_certify_random_8020_unrl_lr0.01.pth\n"
     ]
    },
    {
     "name": "stderr",
     "output_type": "stream",
     "text": [
      "Robust training: 100%|█████████████████████████████████████████████████████████████████| 2/2 [02:40<00:00, 80.50s/it]\n",
      "Normal training: 100%|█████████████████████████████████████████████████████████████| 157/157 [00:27<00:00,  5.62it/s]\n"
     ]
    },
    {
     "name": "stdout",
     "output_type": "stream",
     "text": [
      "Epoch 47\n",
      "==========\n",
      "Train: Train acc 98.16341829085458 | WM acc 79.0\n",
      "Tests: WM acc 100.0 | WM train avg acc 40.78 | Test acc 87.71\n",
      "./models/wm_cifar10_certify_random_8020_unrl_lr0.01.pth\n"
     ]
    },
    {
     "name": "stderr",
     "output_type": "stream",
     "text": [
      "Robust training: 100%|█████████████████████████████████████████████████████████████████| 2/2 [02:41<00:00, 80.55s/it]\n",
      "Normal training: 100%|█████████████████████████████████████████████████████████████| 157/157 [00:27<00:00,  5.63it/s]\n"
     ]
    },
    {
     "name": "stdout",
     "output_type": "stream",
     "text": [
      "Epoch 48\n",
      "==========\n",
      "Train: Train acc 98.24587706146927 | WM acc 100.0\n",
      "Tests: WM acc 100.0 | WM train avg acc 39.76 | Test acc 87.72999999999999\n",
      "./models/wm_cifar10_certify_random_8020_unrl_lr0.01.pth\n"
     ]
    },
    {
     "name": "stderr",
     "output_type": "stream",
     "text": [
      "Robust training: 100%|█████████████████████████████████████████████████████████████████| 2/2 [02:41<00:00, 80.70s/it]\n",
      "Normal training: 100%|█████████████████████████████████████████████████████████████| 157/157 [00:27<00:00,  5.62it/s]\n"
     ]
    },
    {
     "name": "stdout",
     "output_type": "stream",
     "text": [
      "Epoch 49\n",
      "==========\n",
      "Train: Train acc 98.3008495752124 | WM acc 100.0\n",
      "Tests: WM acc 100.0 | WM train avg acc 44.47 | Test acc 87.67\n",
      "./models/wm_cifar10_certify_random_8020_unrl_lr0.01.pth\n"
     ]
    },
    {
     "name": "stderr",
     "output_type": "stream",
     "text": [
      "Robust training: 100%|█████████████████████████████████████████████████████████████████| 2/2 [02:41<00:00, 80.58s/it]\n",
      "Normal training: 100%|█████████████████████████████████████████████████████████████| 157/157 [00:27<00:00,  5.63it/s]\n"
     ]
    },
    {
     "name": "stdout",
     "output_type": "stream",
     "text": [
      "Epoch 50\n",
      "==========\n",
      "Train: Train acc 98.34582708645677 | WM acc 90.0\n",
      "Tests: WM acc 100.0 | WM train avg acc 48.99 | Test acc 87.72999999999999\n",
      "./models/wm_cifar10_certify_random_8020_unrl_lr0.01.pth\n"
     ]
    },
    {
     "name": "stderr",
     "output_type": "stream",
     "text": [
      "Robust training: 100%|█████████████████████████████████████████████████████████████████| 2/2 [02:41<00:00, 80.62s/it]\n",
      "Normal training: 100%|█████████████████████████████████████████████████████████████| 157/157 [00:27<00:00,  5.62it/s]\n"
     ]
    },
    {
     "name": "stdout",
     "output_type": "stream",
     "text": [
      "Epoch 51\n",
      "==========\n",
      "Train: Train acc 98.5832083958021 | WM acc 67.0\n",
      "Tests: WM acc 100.0 | WM train avg acc 48.17 | Test acc 87.83999999999999\n",
      "./models/wm_cifar10_certify_random_8020_unrl_lr0.01.pth\n"
     ]
    },
    {
     "name": "stderr",
     "output_type": "stream",
     "text": [
      "Robust training: 100%|█████████████████████████████████████████████████████████████████| 2/2 [02:40<00:00, 80.47s/it]\n",
      "Normal training: 100%|█████████████████████████████████████████████████████████████| 157/157 [00:27<00:00,  5.62it/s]\n"
     ]
    },
    {
     "name": "stdout",
     "output_type": "stream",
     "text": [
      "Epoch 52\n",
      "==========\n",
      "Train: Train acc 98.51824087956021 | WM acc 64.0\n",
      "Tests: WM acc 100.0 | WM train avg acc 43.7 | Test acc 87.89\n",
      "./models/wm_cifar10_certify_random_8020_unrl_lr0.01.pth\n"
     ]
    },
    {
     "name": "stderr",
     "output_type": "stream",
     "text": [
      "Robust training: 100%|█████████████████████████████████████████████████████████████████| 2/2 [02:41<00:00, 80.61s/it]\n",
      "Normal training: 100%|█████████████████████████████████████████████████████████████| 157/157 [00:27<00:00,  5.63it/s]\n"
     ]
    },
    {
     "name": "stdout",
     "output_type": "stream",
     "text": [
      "Epoch 53\n",
      "==========\n",
      "Train: Train acc 98.51324337831085 | WM acc 80.0\n",
      "Tests: WM acc 100.0 | WM train avg acc 44.79 | Test acc 87.67\n",
      "./models/wm_cifar10_certify_random_8020_unrl_lr0.01.pth\n"
     ]
    },
    {
     "name": "stderr",
     "output_type": "stream",
     "text": [
      "Robust training: 100%|█████████████████████████████████████████████████████████████████| 2/2 [02:41<00:00, 80.51s/it]\n",
      "Normal training: 100%|█████████████████████████████████████████████████████████████| 157/157 [00:27<00:00,  5.61it/s]\n"
     ]
    },
    {
     "name": "stdout",
     "output_type": "stream",
     "text": [
      "Epoch 54\n",
      "==========\n",
      "Train: Train acc 98.58820589705147 | WM acc 42.0\n",
      "Tests: WM acc 100.0 | WM train avg acc 35.49 | Test acc 87.68\n",
      "./models/wm_cifar10_certify_random_8020_unrl_lr0.01.pth\n"
     ]
    },
    {
     "name": "stderr",
     "output_type": "stream",
     "text": [
      "Robust training: 100%|█████████████████████████████████████████████████████████████████| 2/2 [02:41<00:00, 80.53s/it]\n",
      "Normal training: 100%|█████████████████████████████████████████████████████████████| 157/157 [00:27<00:00,  5.64it/s]\n"
     ]
    },
    {
     "name": "stdout",
     "output_type": "stream",
     "text": [
      "Epoch 55\n",
      "==========\n",
      "Train: Train acc 98.67566216891555 | WM acc 99.0\n",
      "Tests: WM acc 100.0 | WM train avg acc 46.41 | Test acc 87.72999999999999\n",
      "./models/wm_cifar10_certify_random_8020_unrl_lr0.01.pth\n"
     ]
    },
    {
     "name": "stderr",
     "output_type": "stream",
     "text": [
      "Robust training: 100%|█████████████████████████████████████████████████████████████████| 2/2 [02:41<00:00, 80.56s/it]\n",
      "Normal training: 100%|█████████████████████████████████████████████████████████████| 157/157 [00:27<00:00,  5.62it/s]\n"
     ]
    },
    {
     "name": "stdout",
     "output_type": "stream",
     "text": [
      "Epoch 56\n",
      "==========\n",
      "Train: Train acc 98.64817591204398 | WM acc 64.0\n",
      "Tests: WM acc 100.0 | WM train avg acc 43.38 | Test acc 87.83999999999999\n",
      "./models/wm_cifar10_certify_random_8020_unrl_lr0.01.pth\n"
     ]
    },
    {
     "name": "stderr",
     "output_type": "stream",
     "text": [
      "Robust training: 100%|█████████████████████████████████████████████████████████████████| 2/2 [02:41<00:00, 80.65s/it]\n",
      "Normal training: 100%|█████████████████████████████████████████████████████████████| 157/157 [00:27<00:00,  5.61it/s]\n"
     ]
    },
    {
     "name": "stdout",
     "output_type": "stream",
     "text": [
      "Epoch 57\n",
      "==========\n",
      "Train: Train acc 98.69065467266367 | WM acc 54.0\n",
      "Tests: WM acc 100.0 | WM train avg acc 40.76 | Test acc 87.61\n",
      "./models/wm_cifar10_certify_random_8020_unrl_lr0.01.pth\n"
     ]
    },
    {
     "name": "stderr",
     "output_type": "stream",
     "text": [
      "Robust training: 100%|█████████████████████████████████████████████████████████████████| 2/2 [02:41<00:00, 80.57s/it]\n",
      "Normal training: 100%|█████████████████████████████████████████████████████████████| 157/157 [00:27<00:00,  5.62it/s]\n"
     ]
    },
    {
     "name": "stdout",
     "output_type": "stream",
     "text": [
      "Epoch 58\n",
      "==========\n",
      "Train: Train acc 98.7856071964018 | WM acc 80.0\n",
      "Tests: WM acc 100.0 | WM train avg acc 40.5 | Test acc 87.72\n",
      "./models/wm_cifar10_certify_random_8020_unrl_lr0.01.pth\n"
     ]
    },
    {
     "name": "stderr",
     "output_type": "stream",
     "text": [
      "Robust training: 100%|█████████████████████████████████████████████████████████████████| 2/2 [02:41<00:00, 80.65s/it]\n",
      "Normal training: 100%|█████████████████████████████████████████████████████████████| 157/157 [00:27<00:00,  5.62it/s]\n"
     ]
    },
    {
     "name": "stdout",
     "output_type": "stream",
     "text": [
      "Epoch 59\n",
      "==========\n",
      "Train: Train acc 98.88305847076462 | WM acc 93.0\n",
      "Tests: WM acc 100.0 | WM train avg acc 44.89 | Test acc 87.77000000000001\n",
      "./models/wm_cifar10_certify_random_8020_unrl_lr0.01.pth\n"
     ]
    },
    {
     "name": "stderr",
     "output_type": "stream",
     "text": [
      "Robust training: 100%|█████████████████████████████████████████████████████████████████| 2/2 [02:41<00:00, 80.50s/it]\n",
      "Normal training: 100%|█████████████████████████████████████████████████████████████| 157/157 [00:27<00:00,  5.62it/s]\n"
     ]
    },
    {
     "name": "stdout",
     "output_type": "stream",
     "text": [
      "Epoch 60\n",
      "==========\n",
      "Train: Train acc 98.77561219390304 | WM acc 100.0\n",
      "Tests: WM acc 100.0 | WM train avg acc 50.08 | Test acc 87.78\n",
      "./models/wm_cifar10_certify_random_8020_unrl_lr0.01.pth\n"
     ]
    },
    {
     "name": "stderr",
     "output_type": "stream",
     "text": [
      "Robust training: 100%|█████████████████████████████████████████████████████████████████| 2/2 [02:41<00:00, 80.65s/it]\n",
      "Normal training: 100%|█████████████████████████████████████████████████████████████| 157/157 [00:27<00:00,  5.63it/s]\n"
     ]
    },
    {
     "name": "stdout",
     "output_type": "stream",
     "text": [
      "Epoch 61\n",
      "==========\n",
      "Train: Train acc 98.98800599700151 | WM acc 100.0\n",
      "Tests: WM acc 100.0 | WM train avg acc 36.41 | Test acc 87.78\n",
      "./models/wm_cifar10_certify_random_8020_unrl_lr0.01.pth\n"
     ]
    },
    {
     "name": "stderr",
     "output_type": "stream",
     "text": [
      "Robust training: 100%|█████████████████████████████████████████████████████████████████| 2/2 [02:40<00:00, 80.44s/it]\n",
      "Normal training: 100%|█████████████████████████████████████████████████████████████| 157/157 [00:27<00:00,  5.62it/s]\n"
     ]
    },
    {
     "name": "stdout",
     "output_type": "stream",
     "text": [
      "Epoch 62\n",
      "==========\n",
      "Train: Train acc 99.08045977011494 | WM acc 100.0\n",
      "Tests: WM acc 100.0 | WM train avg acc 46.26 | Test acc 87.83999999999999\n",
      "./models/wm_cifar10_certify_random_8020_unrl_lr0.01.pth\n"
     ]
    },
    {
     "name": "stderr",
     "output_type": "stream",
     "text": [
      "Robust training: 100%|█████████████████████████████████████████████████████████████████| 2/2 [02:40<00:00, 80.45s/it]\n",
      "Normal training: 100%|█████████████████████████████████████████████████████████████| 157/157 [00:27<00:00,  5.62it/s]\n"
     ]
    },
    {
     "name": "stdout",
     "output_type": "stream",
     "text": [
      "Epoch 63\n",
      "==========\n",
      "Train: Train acc 99.06546726636681 | WM acc 33.0\n",
      "Tests: WM acc 100.0 | WM train avg acc 45.22 | Test acc 87.81\n",
      "./models/wm_cifar10_certify_random_8020_unrl_lr0.01.pth\n"
     ]
    },
    {
     "name": "stderr",
     "output_type": "stream",
     "text": [
      "Robust training: 100%|█████████████████████████████████████████████████████████████████| 2/2 [02:41<00:00, 80.58s/it]\n",
      "Normal training: 100%|█████████████████████████████████████████████████████████████| 157/157 [00:27<00:00,  5.63it/s]\n"
     ]
    },
    {
     "name": "stdout",
     "output_type": "stream",
     "text": [
      "Epoch 64\n",
      "==========\n",
      "Train: Train acc 99.06296851574213 | WM acc 100.0\n",
      "Tests: WM acc 100.0 | WM train avg acc 37.3 | Test acc 87.8\n",
      "./models/wm_cifar10_certify_random_8020_unrl_lr0.01.pth\n"
     ]
    },
    {
     "name": "stderr",
     "output_type": "stream",
     "text": [
      "Robust training: 100%|█████████████████████████████████████████████████████████████████| 2/2 [02:41<00:00, 80.64s/it]\n",
      "Normal training: 100%|█████████████████████████████████████████████████████████████| 157/157 [00:27<00:00,  5.62it/s]\n"
     ]
    },
    {
     "name": "stdout",
     "output_type": "stream",
     "text": [
      "Epoch 65\n",
      "==========\n",
      "Train: Train acc 99.08295852073962 | WM acc 100.0\n",
      "Tests: WM acc 100.0 | WM train avg acc 46.9 | Test acc 87.85\n",
      "./models/wm_cifar10_certify_random_8020_unrl_lr0.01.pth\n"
     ]
    },
    {
     "name": "stderr",
     "output_type": "stream",
     "text": [
      "Robust training: 100%|█████████████████████████████████████████████████████████████████| 2/2 [02:41<00:00, 80.66s/it]\n",
      "Normal training: 100%|█████████████████████████████████████████████████████████████| 157/157 [00:27<00:00,  5.63it/s]\n"
     ]
    },
    {
     "name": "stdout",
     "output_type": "stream",
     "text": [
      "Epoch 66\n",
      "==========\n",
      "Train: Train acc 99.05547226386805 | WM acc 73.0\n",
      "Tests: WM acc 100.0 | WM train avg acc 36.7 | Test acc 87.88\n",
      "./models/wm_cifar10_certify_random_8020_unrl_lr0.01.pth\n"
     ]
    },
    {
     "name": "stderr",
     "output_type": "stream",
     "text": [
      "Robust training: 100%|█████████████████████████████████████████████████████████████████| 2/2 [02:41<00:00, 80.61s/it]\n",
      "Normal training: 100%|█████████████████████████████████████████████████████████████| 157/157 [00:27<00:00,  5.63it/s]\n"
     ]
    },
    {
     "name": "stdout",
     "output_type": "stream",
     "text": [
      "Epoch 67\n",
      "==========\n",
      "Train: Train acc 99.1479260369815 | WM acc 100.0\n",
      "Tests: WM acc 100.0 | WM train avg acc 46.12 | Test acc 87.87\n",
      "./models/wm_cifar10_certify_random_8020_unrl_lr0.01.pth\n"
     ]
    },
    {
     "name": "stderr",
     "output_type": "stream",
     "text": [
      "Robust training: 100%|█████████████████████████████████████████████████████████████████| 2/2 [02:40<00:00, 80.45s/it]\n",
      "Normal training: 100%|█████████████████████████████████████████████████████████████| 157/157 [00:27<00:00,  5.63it/s]\n"
     ]
    },
    {
     "name": "stdout",
     "output_type": "stream",
     "text": [
      "Epoch 68\n",
      "==========\n",
      "Train: Train acc 99.12543728135932 | WM acc 86.0\n",
      "Tests: WM acc 100.0 | WM train avg acc 46.61 | Test acc 87.78\n",
      "./models/wm_cifar10_certify_random_8020_unrl_lr0.01.pth\n"
     ]
    },
    {
     "name": "stderr",
     "output_type": "stream",
     "text": [
      "Robust training: 100%|█████████████████████████████████████████████████████████████████| 2/2 [02:41<00:00, 80.63s/it]\n",
      "Normal training: 100%|█████████████████████████████████████████████████████████████| 157/157 [00:27<00:00,  5.63it/s]\n"
     ]
    },
    {
     "name": "stdout",
     "output_type": "stream",
     "text": [
      "Epoch 69\n",
      "==========\n",
      "Train: Train acc 99.14542728635682 | WM acc 64.0\n",
      "Tests: WM acc 100.0 | WM train avg acc 32.7 | Test acc 87.83\n",
      "./models/wm_cifar10_certify_random_8020_unrl_lr0.01.pth\n"
     ]
    },
    {
     "name": "stderr",
     "output_type": "stream",
     "text": [
      "Robust training: 100%|█████████████████████████████████████████████████████████████████| 2/2 [02:41<00:00, 80.67s/it]\n",
      "Normal training: 100%|█████████████████████████████████████████████████████████████| 157/157 [00:27<00:00,  5.62it/s]\n"
     ]
    },
    {
     "name": "stdout",
     "output_type": "stream",
     "text": [
      "Epoch 70\n",
      "==========\n",
      "Train: Train acc 99.11794102948525 | WM acc 100.0\n",
      "Tests: WM acc 100.0 | WM train avg acc 34.07 | Test acc 87.8\n",
      "./models/wm_cifar10_certify_random_8020_unrl_lr0.01.pth\n"
     ]
    },
    {
     "name": "stderr",
     "output_type": "stream",
     "text": [
      "Robust training: 100%|█████████████████████████████████████████████████████████████████| 2/2 [02:41<00:00, 80.69s/it]\n",
      "Normal training: 100%|█████████████████████████████████████████████████████████████| 157/157 [00:27<00:00,  5.62it/s]\n"
     ]
    },
    {
     "name": "stdout",
     "output_type": "stream",
     "text": [
      "Epoch 71\n",
      "==========\n",
      "Train: Train acc 99.1479260369815 | WM acc 36.0\n",
      "Tests: WM acc 100.0 | WM train avg acc 48.0 | Test acc 87.91\n",
      "./models/wm_cifar10_certify_random_8020_unrl_lr0.01.pth\n"
     ]
    },
    {
     "name": "stderr",
     "output_type": "stream",
     "text": [
      "Robust training: 100%|█████████████████████████████████████████████████████████████████| 2/2 [02:41<00:00, 80.62s/it]\n",
      "Normal training: 100%|█████████████████████████████████████████████████████████████| 157/157 [00:27<00:00,  5.63it/s]\n"
     ]
    },
    {
     "name": "stdout",
     "output_type": "stream",
     "text": [
      "Epoch 72\n",
      "==========\n",
      "Train: Train acc 99.10044977511244 | WM acc 59.0\n",
      "Tests: WM acc 100.0 | WM train avg acc 39.78 | Test acc 87.8\n",
      "./models/wm_cifar10_certify_random_8020_unrl_lr0.01.pth\n"
     ]
    },
    {
     "name": "stderr",
     "output_type": "stream",
     "text": [
      "Robust training: 100%|█████████████████████████████████████████████████████████████████| 2/2 [02:41<00:00, 80.71s/it]\n",
      "Normal training: 100%|█████████████████████████████████████████████████████████████| 157/157 [00:27<00:00,  5.63it/s]\n"
     ]
    },
    {
     "name": "stdout",
     "output_type": "stream",
     "text": [
      "Epoch 73\n",
      "==========\n",
      "Train: Train acc 99.19040479760119 | WM acc 100.0\n",
      "Tests: WM acc 100.0 | WM train avg acc 42.39 | Test acc 87.87\n",
      "./models/wm_cifar10_certify_random_8020_unrl_lr0.01.pth\n"
     ]
    },
    {
     "name": "stderr",
     "output_type": "stream",
     "text": [
      "Robust training: 100%|█████████████████████████████████████████████████████████████████| 2/2 [02:41<00:00, 80.62s/it]\n",
      "Normal training: 100%|█████████████████████████████████████████████████████████████| 157/157 [00:27<00:00,  5.62it/s]\n"
     ]
    },
    {
     "name": "stdout",
     "output_type": "stream",
     "text": [
      "Epoch 74\n",
      "==========\n",
      "Train: Train acc 99.1504247876062 | WM acc 100.0\n",
      "Tests: WM acc 100.0 | WM train avg acc 29.71 | Test acc 87.76\n",
      "./models/wm_cifar10_certify_random_8020_unrl_lr0.01.pth\n"
     ]
    },
    {
     "name": "stderr",
     "output_type": "stream",
     "text": [
      "Robust training: 100%|█████████████████████████████████████████████████████████████████| 2/2 [02:41<00:00, 80.61s/it]\n",
      "Normal training: 100%|█████████████████████████████████████████████████████████████| 157/157 [00:27<00:00,  5.62it/s]\n"
     ]
    },
    {
     "name": "stdout",
     "output_type": "stream",
     "text": [
      "Epoch 75\n",
      "==========\n",
      "Train: Train acc 99.11294352823589 | WM acc 36.0\n",
      "Tests: WM acc 100.0 | WM train avg acc 33.33 | Test acc 87.72999999999999\n",
      "./models/wm_cifar10_certify_random_8020_unrl_lr0.01.pth\n"
     ]
    },
    {
     "name": "stderr",
     "output_type": "stream",
     "text": [
      "Robust training: 100%|█████████████████████████████████████████████████████████████████| 2/2 [02:41<00:00, 80.64s/it]\n",
      "Normal training: 100%|█████████████████████████████████████████████████████████████| 157/157 [00:27<00:00,  5.62it/s]\n"
     ]
    },
    {
     "name": "stdout",
     "output_type": "stream",
     "text": [
      "Epoch 76\n",
      "==========\n",
      "Train: Train acc 99.22538730634682 | WM acc 73.0\n",
      "Tests: WM acc 100.0 | WM train avg acc 39.99 | Test acc 87.6\n",
      "./models/wm_cifar10_certify_random_8020_unrl_lr0.01.pth\n"
     ]
    },
    {
     "name": "stderr",
     "output_type": "stream",
     "text": [
      "Robust training: 100%|█████████████████████████████████████████████████████████████████| 2/2 [02:41<00:00, 80.54s/it]\n",
      "Normal training: 100%|█████████████████████████████████████████████████████████████| 157/157 [00:27<00:00,  5.63it/s]\n"
     ]
    },
    {
     "name": "stdout",
     "output_type": "stream",
     "text": [
      "Epoch 77\n",
      "==========\n",
      "Train: Train acc 99.24037981009495 | WM acc 85.0\n",
      "Tests: WM acc 100.0 | WM train avg acc 45.03 | Test acc 87.72\n",
      "./models/wm_cifar10_certify_random_8020_unrl_lr0.01.pth\n"
     ]
    },
    {
     "name": "stderr",
     "output_type": "stream",
     "text": [
      "Robust training: 100%|█████████████████████████████████████████████████████████████████| 2/2 [02:41<00:00, 80.67s/it]\n",
      "Normal training: 100%|█████████████████████████████████████████████████████████████| 157/157 [00:27<00:00,  5.62it/s]\n"
     ]
    },
    {
     "name": "stdout",
     "output_type": "stream",
     "text": [
      "Epoch 78\n",
      "==========\n",
      "Train: Train acc 99.19290354822589 | WM acc 72.0\n",
      "Tests: WM acc 100.0 | WM train avg acc 42.97 | Test acc 87.82\n",
      "./models/wm_cifar10_certify_random_8020_unrl_lr0.01.pth\n"
     ]
    },
    {
     "name": "stderr",
     "output_type": "stream",
     "text": [
      "Robust training: 100%|█████████████████████████████████████████████████████████████████| 2/2 [02:41<00:00, 80.52s/it]\n",
      "Normal training: 100%|█████████████████████████████████████████████████████████████| 157/157 [00:27<00:00,  5.64it/s]\n"
     ]
    },
    {
     "name": "stdout",
     "output_type": "stream",
     "text": [
      "Epoch 79\n",
      "==========\n",
      "Train: Train acc 99.13293353323338 | WM acc 100.0\n",
      "Tests: WM acc 100.0 | WM train avg acc 45.68 | Test acc 87.89\n",
      "./models/wm_cifar10_certify_random_8020_unrl_lr0.01.pth\n"
     ]
    },
    {
     "name": "stderr",
     "output_type": "stream",
     "text": [
      "Robust training: 100%|█████████████████████████████████████████████████████████████████| 2/2 [02:41<00:00, 80.53s/it]\n",
      "Normal training: 100%|█████████████████████████████████████████████████████████████| 157/157 [00:27<00:00,  5.62it/s]\n"
     ]
    },
    {
     "name": "stdout",
     "output_type": "stream",
     "text": [
      "Epoch 80\n",
      "==========\n",
      "Train: Train acc 99.19040479760119 | WM acc 64.0\n",
      "Tests: WM acc 100.0 | WM train avg acc 41.84 | Test acc 87.79\n",
      "./models/wm_cifar10_certify_random_8020_unrl_lr0.01.pth\n"
     ]
    },
    {
     "name": "stderr",
     "output_type": "stream",
     "text": [
      "Robust training: 100%|█████████████████████████████████████████████████████████████████| 2/2 [02:41<00:00, 80.60s/it]\n",
      "Normal training: 100%|█████████████████████████████████████████████████████████████| 157/157 [00:27<00:00,  5.62it/s]\n"
     ]
    },
    {
     "name": "stdout",
     "output_type": "stream",
     "text": [
      "Epoch 81\n",
      "==========\n",
      "Train: Train acc 99.20539730134934 | WM acc 99.0\n",
      "Tests: WM acc 100.0 | WM train avg acc 45.0 | Test acc 87.75\n",
      "./models/wm_cifar10_certify_random_8020_unrl_lr0.01.pth\n"
     ]
    },
    {
     "name": "stderr",
     "output_type": "stream",
     "text": [
      "Robust training: 100%|█████████████████████████████████████████████████████████████████| 2/2 [02:41<00:00, 80.66s/it]\n",
      "Normal training: 100%|█████████████████████████████████████████████████████████████| 157/157 [00:27<00:00,  5.62it/s]\n"
     ]
    },
    {
     "name": "stdout",
     "output_type": "stream",
     "text": [
      "Epoch 82\n",
      "==========\n",
      "Train: Train acc 99.25287356321839 | WM acc 40.0\n",
      "Tests: WM acc 100.0 | WM train avg acc 46.31 | Test acc 87.75\n",
      "./models/wm_cifar10_certify_random_8020_unrl_lr0.01.pth\n"
     ]
    },
    {
     "name": "stderr",
     "output_type": "stream",
     "text": [
      "Robust training: 100%|█████████████████████████████████████████████████████████████████| 2/2 [02:41<00:00, 80.58s/it]\n",
      "Normal training: 100%|█████████████████████████████████████████████████████████████| 157/157 [00:27<00:00,  5.62it/s]\n"
     ]
    },
    {
     "name": "stdout",
     "output_type": "stream",
     "text": [
      "Epoch 83\n",
      "==========\n",
      "Train: Train acc 99.22038980509745 | WM acc 98.0\n",
      "Tests: WM acc 100.0 | WM train avg acc 44.19 | Test acc 87.86\n",
      "./models/wm_cifar10_certify_random_8020_unrl_lr0.01.pth\n"
     ]
    },
    {
     "name": "stderr",
     "output_type": "stream",
     "text": [
      "Robust training: 100%|█████████████████████████████████████████████████████████████████| 2/2 [02:41<00:00, 80.56s/it]\n",
      "Normal training: 100%|█████████████████████████████████████████████████████████████| 157/157 [00:27<00:00,  5.63it/s]\n"
     ]
    },
    {
     "name": "stdout",
     "output_type": "stream",
     "text": [
      "Epoch 84\n",
      "==========\n",
      "Train: Train acc 99.18790604697651 | WM acc 36.0\n",
      "Tests: WM acc 100.0 | WM train avg acc 35.47 | Test acc 87.87\n",
      "./models/wm_cifar10_certify_random_8020_unrl_lr0.01.pth\n"
     ]
    },
    {
     "name": "stderr",
     "output_type": "stream",
     "text": [
      "Robust training: 100%|█████████████████████████████████████████████████████████████████| 2/2 [02:41<00:00, 80.61s/it]\n",
      "Normal training: 100%|█████████████████████████████████████████████████████████████| 157/157 [00:27<00:00,  5.63it/s]\n"
     ]
    },
    {
     "name": "stdout",
     "output_type": "stream",
     "text": [
      "Epoch 85\n",
      "==========\n",
      "Train: Train acc 99.19040479760119 | WM acc 39.0\n",
      "Tests: WM acc 100.0 | WM train avg acc 45.66 | Test acc 87.83999999999999\n",
      "./models/wm_cifar10_certify_random_8020_unrl_lr0.01.pth\n"
     ]
    },
    {
     "name": "stderr",
     "output_type": "stream",
     "text": [
      "Robust training: 100%|█████████████████████████████████████████████████████████████████| 2/2 [02:41<00:00, 80.56s/it]\n",
      "Normal training: 100%|█████████████████████████████████████████████████████████████| 157/157 [00:27<00:00,  5.62it/s]\n"
     ]
    },
    {
     "name": "stdout",
     "output_type": "stream",
     "text": [
      "Epoch 86\n",
      "==========\n",
      "Train: Train acc 99.15292353823088 | WM acc 100.0\n",
      "Tests: WM acc 100.0 | WM train avg acc 43.13 | Test acc 87.75\n",
      "./models/wm_cifar10_certify_random_8020_unrl_lr0.01.pth\n"
     ]
    },
    {
     "name": "stderr",
     "output_type": "stream",
     "text": [
      "Robust training: 100%|█████████████████████████████████████████████████████████████████| 2/2 [02:41<00:00, 80.64s/it]\n",
      "Normal training: 100%|█████████████████████████████████████████████████████████████| 157/157 [00:27<00:00,  5.63it/s]\n"
     ]
    },
    {
     "name": "stdout",
     "output_type": "stream",
     "text": [
      "Epoch 87\n",
      "==========\n",
      "Train: Train acc 99.1704147926037 | WM acc 100.0\n",
      "Tests: WM acc 100.0 | WM train avg acc 48.24 | Test acc 87.81\n",
      "./models/wm_cifar10_certify_random_8020_unrl_lr0.01.pth\n"
     ]
    },
    {
     "name": "stderr",
     "output_type": "stream",
     "text": [
      "Robust training: 100%|█████████████████████████████████████████████████████████████████| 2/2 [02:34<00:00, 77.01s/it]\n",
      "Normal training: 100%|█████████████████████████████████████████████████████████████| 157/157 [00:15<00:00, 10.33it/s]\n"
     ]
    },
    {
     "name": "stdout",
     "output_type": "stream",
     "text": [
      "Epoch 88\n",
      "==========\n",
      "Train: Train acc 99.2128935532234 | WM acc 68.0\n",
      "Tests: WM acc 100.0 | WM train avg acc 36.45 | Test acc 87.78\n",
      "./models/wm_cifar10_certify_random_8020_unrl_lr0.01.pth\n"
     ]
    },
    {
     "name": "stderr",
     "output_type": "stream",
     "text": [
      "Robust training: 100%|█████████████████████████████████████████████████████████████████| 2/2 [02:04<00:00, 62.05s/it]\n",
      "Normal training: 100%|█████████████████████████████████████████████████████████████| 157/157 [00:28<00:00,  5.54it/s]\n"
     ]
    },
    {
     "name": "stdout",
     "output_type": "stream",
     "text": [
      "Epoch 89\n",
      "==========\n",
      "Train: Train acc 99.20539730134934 | WM acc 100.0\n",
      "Tests: WM acc 100.0 | WM train avg acc 44.05 | Test acc 87.86\n",
      "./models/wm_cifar10_certify_random_8020_unrl_lr0.01.pth\n"
     ]
    },
    {
     "name": "stderr",
     "output_type": "stream",
     "text": [
      "Robust training: 100%|█████████████████████████████████████████████████████████████████| 2/2 [02:18<00:00, 69.31s/it]\n",
      "Normal training: 100%|█████████████████████████████████████████████████████████████| 157/157 [00:15<00:00,  9.93it/s]\n"
     ]
    },
    {
     "name": "stdout",
     "output_type": "stream",
     "text": [
      "Epoch 90\n",
      "==========\n",
      "Train: Train acc 99.25787106446776 | WM acc 94.0\n",
      "Tests: WM acc 100.0 | WM train avg acc 51.52 | Test acc 87.81\n",
      "./models/wm_cifar10_certify_random_8020_unrl_lr0.01.pth\n"
     ]
    },
    {
     "name": "stderr",
     "output_type": "stream",
     "text": [
      "Robust training: 100%|█████████████████████████████████████████████████████████████████| 2/2 [02:04<00:00, 62.18s/it]\n",
      "Normal training: 100%|█████████████████████████████████████████████████████████████| 157/157 [00:18<00:00,  8.37it/s]\n"
     ]
    },
    {
     "name": "stdout",
     "output_type": "stream",
     "text": [
      "Epoch 91\n",
      "==========\n",
      "Train: Train acc 99.28535732133933 | WM acc 100.0\n",
      "Tests: WM acc 100.0 | WM train avg acc 48.28 | Test acc 87.86\n",
      "./models/wm_cifar10_certify_random_8020_unrl_lr0.01.pth\n"
     ]
    },
    {
     "name": "stderr",
     "output_type": "stream",
     "text": [
      "Robust training: 100%|█████████████████████████████████████████████████████████████████| 2/2 [02:50<00:00, 85.37s/it]\n",
      "Normal training: 100%|█████████████████████████████████████████████████████████████| 157/157 [00:20<00:00,  7.70it/s]\n"
     ]
    },
    {
     "name": "stdout",
     "output_type": "stream",
     "text": [
      "Epoch 92\n",
      "==========\n",
      "Train: Train acc 99.28535732133933 | WM acc 80.0\n",
      "Tests: WM acc 100.0 | WM train avg acc 36.65 | Test acc 87.83\n",
      "./models/wm_cifar10_certify_random_8020_unrl_lr0.01.pth\n"
     ]
    },
    {
     "name": "stderr",
     "output_type": "stream",
     "text": [
      "Robust training: 100%|█████████████████████████████████████████████████████████████████| 2/2 [02:48<00:00, 84.46s/it]\n",
      "Normal training: 100%|█████████████████████████████████████████████████████████████| 157/157 [00:22<00:00,  7.05it/s]\n"
     ]
    },
    {
     "name": "stdout",
     "output_type": "stream",
     "text": [
      "Epoch 93\n",
      "==========\n",
      "Train: Train acc 99.3103448275862 | WM acc 14.000000000000002\n",
      "Tests: WM acc 100.0 | WM train avg acc 35.35 | Test acc 87.8\n",
      "./models/wm_cifar10_certify_random_8020_unrl_lr0.01.pth\n"
     ]
    },
    {
     "name": "stderr",
     "output_type": "stream",
     "text": [
      "Robust training: 100%|█████████████████████████████████████████████████████████████████| 2/2 [02:47<00:00, 83.57s/it]\n",
      "Normal training: 100%|█████████████████████████████████████████████████████████████| 157/157 [00:23<00:00,  6.61it/s]\n"
     ]
    },
    {
     "name": "stdout",
     "output_type": "stream",
     "text": [
      "Epoch 94\n",
      "==========\n",
      "Train: Train acc 99.24537731134433 | WM acc 78.0\n",
      "Tests: WM acc 100.0 | WM train avg acc 45.49 | Test acc 87.83\n",
      "./models/wm_cifar10_certify_random_8020_unrl_lr0.01.pth\n"
     ]
    },
    {
     "name": "stderr",
     "output_type": "stream",
     "text": [
      "Robust training: 100%|█████████████████████████████████████████████████████████████████| 2/2 [02:45<00:00, 82.91s/it]\n",
      "Normal training: 100%|█████████████████████████████████████████████████████████████| 157/157 [00:25<00:00,  6.25it/s]\n"
     ]
    },
    {
     "name": "stdout",
     "output_type": "stream",
     "text": [
      "Epoch 95\n",
      "==========\n",
      "Train: Train acc 99.23538230884557 | WM acc 53.0\n",
      "Tests: WM acc 100.0 | WM train avg acc 38.96 | Test acc 87.81\n",
      "./models/wm_cifar10_certify_random_8020_unrl_lr0.01.pth\n"
     ]
    },
    {
     "name": "stderr",
     "output_type": "stream",
     "text": [
      "Robust training: 100%|█████████████████████████████████████████████████████████████████| 2/2 [02:43<00:00, 81.99s/it]\n",
      "Normal training: 100%|█████████████████████████████████████████████████████████████| 157/157 [00:26<00:00,  5.93it/s]\n"
     ]
    },
    {
     "name": "stdout",
     "output_type": "stream",
     "text": [
      "Epoch 96\n",
      "==========\n",
      "Train: Train acc 99.22038980509745 | WM acc 45.0\n",
      "Tests: WM acc 100.0 | WM train avg acc 34.54 | Test acc 87.9\n",
      "./models/wm_cifar10_certify_random_8020_unrl_lr0.01.pth\n"
     ]
    },
    {
     "name": "stderr",
     "output_type": "stream",
     "text": [
      "Robust training: 100%|█████████████████████████████████████████████████████████████████| 2/2 [02:43<00:00, 81.52s/it]\n",
      "Normal training: 100%|█████████████████████████████████████████████████████████████| 157/157 [00:27<00:00,  5.79it/s]\n"
     ]
    },
    {
     "name": "stdout",
     "output_type": "stream",
     "text": [
      "Epoch 97\n",
      "==========\n",
      "Train: Train acc 99.22288855572215 | WM acc 42.0\n",
      "Tests: WM acc 100.0 | WM train avg acc 38.95 | Test acc 87.71\n",
      "./models/wm_cifar10_certify_random_8020_unrl_lr0.01.pth\n"
     ]
    },
    {
     "name": "stderr",
     "output_type": "stream",
     "text": [
      "Robust training: 100%|█████████████████████████████████████████████████████████████████| 2/2 [02:42<00:00, 81.10s/it]\n",
      "Normal training: 100%|█████████████████████████████████████████████████████████████| 157/157 [00:27<00:00,  5.65it/s]\n"
     ]
    },
    {
     "name": "stdout",
     "output_type": "stream",
     "text": [
      "Epoch 98\n",
      "==========\n",
      "Train: Train acc 99.19790104947526 | WM acc 62.0\n",
      "Tests: WM acc 100.0 | WM train avg acc 41.33 | Test acc 87.86\n",
      "./models/wm_cifar10_certify_random_8020_unrl_lr0.01.pth\n"
     ]
    },
    {
     "name": "stderr",
     "output_type": "stream",
     "text": [
      "Robust training: 100%|█████████████████████████████████████████████████████████████████| 2/2 [02:41<00:00, 80.88s/it]\n",
      "Normal training: 100%|█████████████████████████████████████████████████████████████| 157/157 [00:27<00:00,  5.63it/s]\n"
     ]
    },
    {
     "name": "stdout",
     "output_type": "stream",
     "text": [
      "Epoch 99\n",
      "==========\n",
      "Train: Train acc 99.20539730134934 | WM acc 100.0\n",
      "Tests: WM acc 100.0 | WM train avg acc 33.19 | Test acc 87.83\n",
      "./models/wm_cifar10_certify_random_8020_unrl_lr0.01.pth\n"
     ]
    }
   ],
   "source": [
    "net = ResNet18()\n",
    "optimizer = torch.optim.SGD(net.parameters(), lr=0.01, momentum=0.9, weight_decay=1e-4)\n",
    "scheduler = torch.optim.lr_scheduler.StepLR(optimizer, step_size=30, gamma=0.1)\n",
    "\n",
    "train_certified_wm(\n",
    "    net,\n",
    "    unrl_mix_loader,\n",
    "    unrelatedloader,\n",
    "    testloader,\n",
    "    optimizer,\n",
    "    scheduler,\n",
    "    cert_type='random_8020_unrl_lr0.01',\n",
    "    epochs=100,\n",
    "    warmup_epochs=10\n",
    ")"
   ]
  },
  {
   "cell_type": "markdown",
   "id": "e00648d2-bf4b-4778-a8f4-11b56a9153a3",
   "metadata": {},
   "source": [
    "Adversarial"
   ]
  },
  {
   "cell_type": "code",
   "execution_count": null,
   "id": "89c425c3-ca6f-44b4-9136-0c588c3a9968",
   "metadata": {},
   "outputs": [
    {
     "name": "stderr",
     "output_type": "stream",
     "text": [
      "Normal training: 100%|█████████████████████████████████████████████████████████████| 157/157 [00:27<00:00,  5.63it/s]\n"
     ]
    },
    {
     "name": "stdout",
     "output_type": "stream",
     "text": [
      "Epoch 0\n",
      "==========\n",
      "Train: Train acc 41.98650674662668 | WM acc 0.0\n",
      "Tests: WM acc 3.0 | WM train avg acc 9.98 | Test acc 55.24\n",
      "./models/wm_cifar10_certify_random_8020_adv_lr0.01.pth\n"
     ]
    },
    {
     "name": "stderr",
     "output_type": "stream",
     "text": [
      "Normal training: 100%|█████████████████████████████████████████████████████████████| 157/157 [00:27<00:00,  5.67it/s]\n"
     ]
    },
    {
     "name": "stdout",
     "output_type": "stream",
     "text": [
      "Epoch 1\n",
      "==========\n",
      "Train: Train acc 60.23238380809596 | WM acc 0.0\n",
      "Tests: WM acc 12.0 | WM train avg acc 9.4 | Test acc 59.08\n",
      "./models/wm_cifar10_certify_random_8020_adv_lr0.01.pth\n"
     ]
    },
    {
     "name": "stderr",
     "output_type": "stream",
     "text": [
      "Normal training: 100%|█████████████████████████████████████████████████████████████| 157/157 [00:18<00:00,  8.39it/s]\n"
     ]
    },
    {
     "name": "stdout",
     "output_type": "stream",
     "text": [
      "Epoch 2\n",
      "==========\n",
      "Train: Train acc 67.3688155922039 | WM acc 0.0\n",
      "Tests: WM acc 9.0 | WM train avg acc 9.99 | Test acc 68.30000000000001\n",
      "./models/wm_cifar10_certify_random_8020_adv_lr0.01.pth\n"
     ]
    },
    {
     "name": "stderr",
     "output_type": "stream",
     "text": [
      "Normal training: 100%|█████████████████████████████████████████████████████████████| 157/157 [00:27<00:00,  5.63it/s]\n"
     ]
    },
    {
     "name": "stdout",
     "output_type": "stream",
     "text": [
      "Epoch 3\n",
      "==========\n",
      "Train: Train acc 72.82108945527236 | WM acc 0.0\n",
      "Tests: WM acc 3.0 | WM train avg acc 9.96 | Test acc 67.67999999999999\n",
      "./models/wm_cifar10_certify_random_8020_adv_lr0.01.pth\n"
     ]
    },
    {
     "name": "stderr",
     "output_type": "stream",
     "text": [
      "Normal training: 100%|█████████████████████████████████████████████████████████████| 157/157 [00:27<00:00,  5.67it/s]\n"
     ]
    },
    {
     "name": "stdout",
     "output_type": "stream",
     "text": [
      "Epoch 4\n",
      "==========\n",
      "Train: Train acc 75.73213393303348 | WM acc 0.0\n",
      "Tests: WM acc 6.0 | WM train avg acc 10.43 | Test acc 74.1\n",
      "./models/wm_cifar10_certify_random_8020_adv_lr0.01.pth\n"
     ]
    },
    {
     "name": "stderr",
     "output_type": "stream",
     "text": [
      "Normal training: 100%|█████████████████████████████████████████████████████████████| 157/157 [00:15<00:00, 10.39it/s]\n"
     ]
    },
    {
     "name": "stdout",
     "output_type": "stream",
     "text": [
      "Epoch 5\n",
      "==========\n",
      "Train: Train acc 78.2183908045977 | WM acc 0.0\n",
      "Tests: WM acc 13.0 | WM train avg acc 10.39 | Test acc 72.65\n",
      "./models/wm_cifar10_certify_random_8020_adv_lr0.01.pth\n"
     ]
    },
    {
     "name": "stderr",
     "output_type": "stream",
     "text": [
      "Normal training: 100%|█████████████████████████████████████████████████████████████| 157/157 [00:27<00:00,  5.64it/s]\n"
     ]
    },
    {
     "name": "stdout",
     "output_type": "stream",
     "text": [
      "Epoch 6\n",
      "==========\n",
      "Train: Train acc 79.92003998000999 | WM acc 0.0\n",
      "Tests: WM acc 9.0 | WM train avg acc 10.11 | Test acc 73.7\n",
      "./models/wm_cifar10_certify_random_8020_adv_lr0.01.pth\n"
     ]
    },
    {
     "name": "stderr",
     "output_type": "stream",
     "text": [
      "Normal training: 100%|█████████████████████████████████████████████████████████████| 157/157 [00:27<00:00,  5.67it/s]\n"
     ]
    },
    {
     "name": "stdout",
     "output_type": "stream",
     "text": [
      "Epoch 7\n",
      "==========\n",
      "Train: Train acc 81.56171914042979 | WM acc 0.0\n",
      "Tests: WM acc 19.0 | WM train avg acc 9.62 | Test acc 76.59\n",
      "./models/wm_cifar10_certify_random_8020_adv_lr0.01.pth\n"
     ]
    },
    {
     "name": "stderr",
     "output_type": "stream",
     "text": [
      "Normal training: 100%|█████████████████████████████████████████████████████████████| 157/157 [00:19<00:00,  7.88it/s]\n"
     ]
    },
    {
     "name": "stdout",
     "output_type": "stream",
     "text": [
      "Epoch 8\n",
      "==========\n",
      "Train: Train acc 82.6111944027986 | WM acc 0.0\n",
      "Tests: WM acc 17.0 | WM train avg acc 9.98 | Test acc 73.33\n",
      "./models/wm_cifar10_certify_random_8020_adv_lr0.01.pth\n"
     ]
    },
    {
     "name": "stderr",
     "output_type": "stream",
     "text": [
      "Normal training: 100%|█████████████████████████████████████████████████████████████| 157/157 [00:27<00:00,  5.65it/s]\n"
     ]
    },
    {
     "name": "stdout",
     "output_type": "stream",
     "text": [
      "Epoch 9\n",
      "==========\n",
      "Train: Train acc 83.35082458770616 | WM acc 0.0\n",
      "Tests: WM acc 31.0 | WM train avg acc 10.25 | Test acc 72.39999999999999\n",
      "./models/wm_cifar10_certify_random_8020_adv_lr0.01.pth\n"
     ]
    },
    {
     "name": "stderr",
     "output_type": "stream",
     "text": [
      "Normal training: 100%|█████████████████████████████████████████████████████████████| 157/157 [00:27<00:00,  5.65it/s]\n"
     ]
    },
    {
     "name": "stdout",
     "output_type": "stream",
     "text": [
      "Epoch 10\n",
      "==========\n",
      "Train: Train acc 84.53273363318341 | WM acc 0.0\n",
      "Tests: WM acc 33.0 | WM train avg acc 9.27 | Test acc 79.79\n",
      "./models/wm_cifar10_certify_random_8020_adv_lr0.01.pth\n"
     ]
    },
    {
     "name": "stderr",
     "output_type": "stream",
     "text": [
      "Robust training: 100%|█████████████████████████████████████████████████████████████████| 2/2 [02:42<00:00, 81.07s/it]\n",
      "Normal training: 100%|█████████████████████████████████████████████████████████████| 157/157 [00:27<00:00,  5.65it/s]\n"
     ]
    },
    {
     "name": "stdout",
     "output_type": "stream",
     "text": [
      "Epoch 11\n",
      "==========\n",
      "Train: Train acc 84.38530734632683 | WM acc 9.0\n",
      "Tests: WM acc 52.0 | WM train avg acc 10.34 | Test acc 80.10000000000001\n",
      "./models/wm_cifar10_certify_random_8020_adv_lr0.01.pth\n"
     ]
    },
    {
     "name": "stderr",
     "output_type": "stream",
     "text": [
      "Robust training: 100%|█████████████████████████████████████████████████████████████████| 2/2 [02:42<00:00, 81.19s/it]\n",
      "Normal training: 100%|█████████████████████████████████████████████████████████████| 157/157 [00:27<00:00,  5.66it/s]\n"
     ]
    },
    {
     "name": "stdout",
     "output_type": "stream",
     "text": [
      "Epoch 12\n",
      "==========\n",
      "Train: Train acc 85.01249375312344 | WM acc 12.0\n",
      "Tests: WM acc 26.0 | WM train avg acc 9.72 | Test acc 77.9\n",
      "./models/wm_cifar10_certify_random_8020_adv_lr0.01.pth\n"
     ]
    },
    {
     "name": "stderr",
     "output_type": "stream",
     "text": [
      "Robust training: 100%|█████████████████████████████████████████████████████████████████| 2/2 [02:42<00:00, 81.14s/it]\n",
      "Normal training: 100%|█████████████████████████████████████████████████████████████| 157/157 [00:27<00:00,  5.66it/s]\n"
     ]
    },
    {
     "name": "stdout",
     "output_type": "stream",
     "text": [
      "Epoch 13\n",
      "==========\n",
      "Train: Train acc 86.32183908045977 | WM acc 5.0\n",
      "Tests: WM acc 37.0 | WM train avg acc 10.23 | Test acc 79.39\n",
      "./models/wm_cifar10_certify_random_8020_adv_lr0.01.pth\n"
     ]
    },
    {
     "name": "stderr",
     "output_type": "stream",
     "text": [
      "Robust training: 100%|█████████████████████████████████████████████████████████████████| 2/2 [02:42<00:00, 81.10s/it]\n",
      "Normal training: 100%|█████████████████████████████████████████████████████████████| 157/157 [00:27<00:00,  5.67it/s]\n"
     ]
    },
    {
     "name": "stdout",
     "output_type": "stream",
     "text": [
      "Epoch 14\n",
      "==========\n",
      "Train: Train acc 86.92403798100949 | WM acc 7.000000000000001\n",
      "Tests: WM acc 57.99999999999999 | WM train avg acc 9.59 | Test acc 81.89\n",
      "./models/wm_cifar10_certify_random_8020_adv_lr0.01.pth\n"
     ]
    },
    {
     "name": "stderr",
     "output_type": "stream",
     "text": [
      "Robust training: 100%|█████████████████████████████████████████████████████████████████| 2/2 [02:42<00:00, 81.20s/it]\n",
      "Normal training: 100%|█████████████████████████████████████████████████████████████| 157/157 [00:27<00:00,  5.67it/s]\n"
     ]
    },
    {
     "name": "stdout",
     "output_type": "stream",
     "text": [
      "Epoch 15\n",
      "==========\n",
      "Train: Train acc 87.43878060969516 | WM acc 4.0\n",
      "Tests: WM acc 76.0 | WM train avg acc 9.95 | Test acc 83.85000000000001\n",
      "./models/wm_cifar10_certify_random_8020_adv_lr0.01.pth\n"
     ]
    },
    {
     "name": "stderr",
     "output_type": "stream",
     "text": [
      "Robust training: 100%|█████████████████████████████████████████████████████████████████| 2/2 [02:42<00:00, 81.08s/it]\n",
      "Normal training: 100%|█████████████████████████████████████████████████████████████| 157/157 [00:27<00:00,  5.67it/s]\n"
     ]
    },
    {
     "name": "stdout",
     "output_type": "stream",
     "text": [
      "Epoch 16\n",
      "==========\n",
      "Train: Train acc 88.16341829085458 | WM acc 14.000000000000002\n",
      "Tests: WM acc 62.0 | WM train avg acc 11.11 | Test acc 82.71\n",
      "./models/wm_cifar10_certify_random_8020_adv_lr0.01.pth\n"
     ]
    },
    {
     "name": "stderr",
     "output_type": "stream",
     "text": [
      "Robust training: 100%|█████████████████████████████████████████████████████████████████| 2/2 [02:41<00:00, 80.84s/it]\n",
      "Normal training: 100%|█████████████████████████████████████████████████████████████| 157/157 [00:27<00:00,  5.67it/s]\n"
     ]
    },
    {
     "name": "stdout",
     "output_type": "stream",
     "text": [
      "Epoch 17\n",
      "==========\n",
      "Train: Train acc 88.39830084957522 | WM acc 12.0\n",
      "Tests: WM acc 82.0 | WM train avg acc 10.84 | Test acc 83.65\n",
      "./models/wm_cifar10_certify_random_8020_adv_lr0.01.pth\n"
     ]
    },
    {
     "name": "stderr",
     "output_type": "stream",
     "text": [
      "Robust training: 100%|█████████████████████████████████████████████████████████████████| 2/2 [02:41<00:00, 80.76s/it]\n",
      "Normal training: 100%|█████████████████████████████████████████████████████████████| 157/157 [00:27<00:00,  5.67it/s]\n"
     ]
    },
    {
     "name": "stdout",
     "output_type": "stream",
     "text": [
      "Epoch 18\n",
      "==========\n",
      "Train: Train acc 89.00549725137431 | WM acc 11.0\n",
      "Tests: WM acc 72.0 | WM train avg acc 10.38 | Test acc 82.46\n",
      "./models/wm_cifar10_certify_random_8020_adv_lr0.01.pth\n"
     ]
    },
    {
     "name": "stderr",
     "output_type": "stream",
     "text": [
      "Robust training: 100%|█████████████████████████████████████████████████████████████████| 2/2 [02:41<00:00, 80.85s/it]\n",
      "Normal training: 100%|█████████████████████████████████████████████████████████████| 157/157 [00:27<00:00,  5.66it/s]\n"
     ]
    },
    {
     "name": "stdout",
     "output_type": "stream",
     "text": [
      "Epoch 19\n",
      "==========\n",
      "Train: Train acc 89.88755622188906 | WM acc 13.0\n",
      "Tests: WM acc 80.0 | WM train avg acc 9.59 | Test acc 82.39\n",
      "./models/wm_cifar10_certify_random_8020_adv_lr0.01.pth\n"
     ]
    },
    {
     "name": "stderr",
     "output_type": "stream",
     "text": [
      "Robust training: 100%|█████████████████████████████████████████████████████████████████| 2/2 [02:41<00:00, 80.91s/it]\n",
      "Normal training: 100%|█████████████████████████████████████████████████████████████| 157/157 [00:27<00:00,  5.67it/s]\n"
     ]
    },
    {
     "name": "stdout",
     "output_type": "stream",
     "text": [
      "Epoch 20\n",
      "==========\n",
      "Train: Train acc 90.3023488255872 | WM acc 9.0\n",
      "Tests: WM acc 73.0 | WM train avg acc 10.02 | Test acc 81.74\n",
      "./models/wm_cifar10_certify_random_8020_adv_lr0.01.pth\n"
     ]
    },
    {
     "name": "stderr",
     "output_type": "stream",
     "text": [
      "Robust training: 100%|█████████████████████████████████████████████████████████████████| 2/2 [02:41<00:00, 80.69s/it]\n",
      "Normal training: 100%|█████████████████████████████████████████████████████████████| 157/157 [00:27<00:00,  5.67it/s]\n"
     ]
    },
    {
     "name": "stdout",
     "output_type": "stream",
     "text": [
      "Epoch 21\n",
      "==========\n",
      "Train: Train acc 90.63968015992005 | WM acc 11.0\n",
      "Tests: WM acc 88.0 | WM train avg acc 10.17 | Test acc 83.61\n",
      "./models/wm_cifar10_certify_random_8020_adv_lr0.01.pth\n"
     ]
    },
    {
     "name": "stderr",
     "output_type": "stream",
     "text": [
      "Robust training: 100%|█████████████████████████████████████████████████████████████████| 2/2 [02:41<00:00, 80.58s/it]\n",
      "Normal training: 100%|█████████████████████████████████████████████████████████████| 157/157 [00:27<00:00,  5.67it/s]\n"
     ]
    },
    {
     "name": "stdout",
     "output_type": "stream",
     "text": [
      "Epoch 22\n",
      "==========\n",
      "Train: Train acc 91.29185407296352 | WM acc 9.0\n",
      "Tests: WM acc 84.0 | WM train avg acc 10.78 | Test acc 83.58\n",
      "./models/wm_cifar10_certify_random_8020_adv_lr0.01.pth\n"
     ]
    },
    {
     "name": "stderr",
     "output_type": "stream",
     "text": [
      "Robust training: 100%|█████████████████████████████████████████████████████████████████| 2/2 [02:41<00:00, 80.81s/it]\n",
      "Normal training: 100%|█████████████████████████████████████████████████████████████| 157/157 [00:27<00:00,  5.67it/s]\n"
     ]
    },
    {
     "name": "stdout",
     "output_type": "stream",
     "text": [
      "Epoch 23\n",
      "==========\n",
      "Train: Train acc 91.84907546226887 | WM acc 7.000000000000001\n",
      "Tests: WM acc 93.0 | WM train avg acc 9.99 | Test acc 84.81\n",
      "./models/wm_cifar10_certify_random_8020_adv_lr0.01.pth\n"
     ]
    },
    {
     "name": "stderr",
     "output_type": "stream",
     "text": [
      "Robust training: 100%|█████████████████████████████████████████████████████████████████| 2/2 [02:41<00:00, 80.74s/it]\n",
      "Normal training: 100%|█████████████████████████████████████████████████████████████| 157/157 [00:27<00:00,  5.67it/s]\n"
     ]
    },
    {
     "name": "stdout",
     "output_type": "stream",
     "text": [
      "Epoch 24\n",
      "==========\n",
      "Train: Train acc 91.38680659670165 | WM acc 13.0\n",
      "Tests: WM acc 86.0 | WM train avg acc 10.6 | Test acc 83.14\n",
      "./models/wm_cifar10_certify_random_8020_adv_lr0.01.pth\n"
     ]
    },
    {
     "name": "stderr",
     "output_type": "stream",
     "text": [
      "Robust training: 100%|█████████████████████████████████████████████████████████████████| 2/2 [02:41<00:00, 80.59s/it]\n",
      "Normal training: 100%|█████████████████████████████████████████████████████████████| 157/157 [00:27<00:00,  5.66it/s]\n"
     ]
    },
    {
     "name": "stdout",
     "output_type": "stream",
     "text": [
      "Epoch 25\n",
      "==========\n",
      "Train: Train acc 92.48375812093953 | WM acc 15.0\n",
      "Tests: WM acc 86.0 | WM train avg acc 10.47 | Test acc 83.02000000000001\n",
      "./models/wm_cifar10_certify_random_8020_adv_lr0.01.pth\n"
     ]
    },
    {
     "name": "stderr",
     "output_type": "stream",
     "text": [
      "Robust training: 100%|█████████████████████████████████████████████████████████████████| 2/2 [02:40<00:00, 80.44s/it]\n",
      "Normal training: 100%|█████████████████████████████████████████████████████████████| 157/157 [00:27<00:00,  5.67it/s]\n"
     ]
    },
    {
     "name": "stdout",
     "output_type": "stream",
     "text": [
      "Epoch 26\n",
      "==========\n",
      "Train: Train acc 93.10594702648676 | WM acc 8.0\n",
      "Tests: WM acc 93.0 | WM train avg acc 10.41 | Test acc 84.78999999999999\n",
      "./models/wm_cifar10_certify_random_8020_adv_lr0.01.pth\n"
     ]
    },
    {
     "name": "stderr",
     "output_type": "stream",
     "text": [
      "Robust training: 100%|█████████████████████████████████████████████████████████████████| 2/2 [02:41<00:00, 80.63s/it]\n",
      "Normal training: 100%|█████████████████████████████████████████████████████████████| 157/157 [00:27<00:00,  5.66it/s]\n"
     ]
    },
    {
     "name": "stdout",
     "output_type": "stream",
     "text": [
      "Epoch 27\n",
      "==========\n",
      "Train: Train acc 93.20089955022489 | WM acc 11.0\n",
      "Tests: WM acc 95.0 | WM train avg acc 9.87 | Test acc 84.39999999999999\n",
      "./models/wm_cifar10_certify_random_8020_adv_lr0.01.pth\n"
     ]
    },
    {
     "name": "stderr",
     "output_type": "stream",
     "text": [
      "Robust training:   0%|                                                                         | 0/2 [00:00<?, ?it/s]"
     ]
    }
   ],
   "source": [
    "net = ResNet18()\n",
    "optimizer = torch.optim.SGD(net.parameters(), lr=0.01, momentum=0.9, weight_decay=1e-4)\n",
    "scheduler = torch.optim.lr_scheduler.StepLR(optimizer, step_size=30, gamma=0.1)\n",
    "\n",
    "train_certified_wm(\n",
    "    net,\n",
    "    adv_mix_loader,\n",
    "    advwmloader,\n",
    "    testloader,\n",
    "    optimizer,\n",
    "    scheduler,\n",
    "    cert_type='random_8020_adv_lr0.01',\n",
    "    epochs=100,\n",
    "    warmup_epochs=10\n",
    ")"
   ]
  },
  {
   "cell_type": "markdown",
   "id": "cc86ac9c-1b88-4ffb-9632-be2e45d1c13a",
   "metadata": {},
   "source": [
    "LR=0.005"
   ]
  },
  {
   "cell_type": "markdown",
   "id": "7193cce9-b9c6-41a1-9e1e-f51e4df8e53a",
   "metadata": {},
   "source": [
    "Random Label Uniform Scheme"
   ]
  },
  {
   "cell_type": "code",
   "execution_count": null,
   "id": "95c51cdf-6adc-4834-bc46-5079a0cbbef9",
   "metadata": {},
   "outputs": [],
   "source": [
    "# watermark with frozen layers\n",
    "net = ResNet18()\n",
    "logcmt = f\"resnet18_8020_trigger_finetune\"\n",
    "net.load_state_dict(torch.load('checkpoints/resnet18_8020.ckpt'))\n",
    "frozen_layers=[net.conv1, net.bn1, net.layer1, net.layer2, net.layer3, net.layer4]\n",
    "optimizer = torch.optim.Adam(params=net.parameters(), lr=0.005, weight_decay=1e-4)\n",
    "criterion = nn.CrossEntropyLoss()\n",
    "scheduler = torch.optim.lr_scheduler.StepLR(optimizer, step_size=10, gamma=0.5, verbose=True)\n",
    "trainer = Trainer(net, criterion, optimizer, train_loader=trainloader, trigger_loader=wmloader, use_trigger=True, scheduler=scheduler)\n",
    "evaluator = Evaluator(net, criterion)\n",
    "train(trainer, evaluator, testloader, 80, 'checkpoints/resnet18_wm_frozen_8020_rand_lr0.005.ckpt', frozen_layers=frozen_layers,\n",
    "      logdir='./runs', logcmt=logcmt, trigger_loader=wmloader)"
   ]
  },
  {
   "cell_type": "markdown",
   "id": "04e23fd3-03f3-43f9-9b62-83307ec3f742",
   "metadata": {},
   "source": [
    "Adversarial Sample Uniform Scheme"
   ]
  },
  {
   "cell_type": "code",
   "execution_count": null,
   "id": "4035df97-f962-449f-9184-0de973c4e454",
   "metadata": {},
   "outputs": [],
   "source": [
    "# watermark with frozen layers\n",
    "net = ResNet18()\n",
    "logcmt = f\"resnet18_8020_trigger_finetune\"\n",
    "net.load_state_dict(torch.load('checkpoints/resnet18_8020.ckpt'))\n",
    "frozen_layers=[net.conv1, net.bn1, net.layer1, net.layer2, net.layer3, net.layer4]\n",
    "optimizer = torch.optim.Adam(params=net.parameters(), lr=0.005, weight_decay=1e-4)\n",
    "criterion = nn.CrossEntropyLoss()\n",
    "scheduler = torch.optim.lr_scheduler.StepLR(optimizer, step_size=10, gamma=0.5, verbose=True)\n",
    "trainer = Trainer(net, criterion, optimizer, train_loader=trainloader, trigger_loader=advwmloader, use_trigger=True, scheduler=scheduler)\n",
    "evaluator = Evaluator(net, criterion)\n",
    "train(trainer, evaluator, testloader, 80, 'checkpoints/resnet18_wm_frozen_8020_adv_lr0.005.ckpt', frozen_layers=frozen_layers,\n",
    "      logdir='./runs', logcmt=logcmt, trigger_loader=advwmloader)"
   ]
  },
  {
   "cell_type": "markdown",
   "id": "a91b588e-bf96-49b5-ac0e-25fd3b7726ac",
   "metadata": {},
   "source": [
    "Unrelated Uniform Scheme"
   ]
  },
  {
   "cell_type": "code",
   "execution_count": null,
   "id": "ac0a4e16-a304-4134-a4e5-bf0982305e10",
   "metadata": {},
   "outputs": [],
   "source": [
    "# watermark with frozen layers\n",
    "net = ResNet18()\n",
    "logcmt = f\"resnet18_8020_trigger_finetune\"\n",
    "net.load_state_dict(torch.load('checkpoints/resnet18_8020.ckpt'))\n",
    "frozen_layers=[net.conv1, net.bn1, net.layer1, net.layer2, net.layer3, net.layer4]\n",
    "optimizer = torch.optim.Adam(params=net.parameters(), lr=0.005, weight_decay=1e-4)\n",
    "criterion = nn.CrossEntropyLoss()\n",
    "scheduler = torch.optim.lr_scheduler.StepLR(optimizer, step_size=10, gamma=0.5, verbose=True)\n",
    "trainer = Trainer(net, criterion, optimizer, train_loader=trainloader, trigger_loader=unrelatedloader, use_trigger=True, scheduler=scheduler)\n",
    "evaluator = Evaluator(net, criterion)\n",
    "train(trainer, evaluator, testloader, 80, 'checkpoints/resnet18_wm_frozen_8020_unrl_lr0.005.ckpt', frozen_layers=frozen_layers,\n",
    "      logdir='./runs', logcmt=logcmt, trigger_loader=unrelatedloader)"
   ]
  },
  {
   "cell_type": "markdown",
   "id": "9cc9077d-b9e8-40b9-addc-144f76e988b2",
   "metadata": {},
   "source": [
    "Random Label Original Scheme"
   ]
  },
  {
   "cell_type": "code",
   "execution_count": null,
   "id": "85926425-8b5e-443d-af98-59c4dbcb44ce",
   "metadata": {},
   "outputs": [],
   "source": [
    "# normal watermark\n",
    "net = ResNet18()\n",
    "logcmt = f\"resnet18_8020_trigger_finetune\"\n",
    "net.load_state_dict(torch.load('checkpoints/resnet18_8020.ckpt'))\n",
    "optimizer = torch.optim.Adam(params=net.parameters(), lr=0.005, weight_decay=1e-4)\n",
    "criterion = nn.CrossEntropyLoss()\n",
    "scheduler = torch.optim.lr_scheduler.StepLR(optimizer, step_size=10, gamma=0.1, verbose=True)\n",
    "trainer = Trainer(net, criterion, optimizer, train_loader=trainloader, trigger_loader=wmloader, use_trigger=True, scheduler=scheduler)\n",
    "evaluator = Evaluator(net, criterion)\n",
    "train(trainer, evaluator, testloader, 80, 'checkpoints/resnet18_wm_8020_rand_lr0.005.ckpt',\n",
    "      logdir='./runs', logcmt=logcmt, trigger_loader=wmloader)"
   ]
  },
  {
   "cell_type": "markdown",
   "id": "76e5ef04-a22e-4fd4-af1b-2f46a0771656",
   "metadata": {},
   "source": [
    "Adversarial Sample Original Scheme"
   ]
  },
  {
   "cell_type": "code",
   "execution_count": null,
   "id": "4da54aaa-d796-4dfd-8fef-0f8c860dce7a",
   "metadata": {},
   "outputs": [],
   "source": [
    "# normal watermark\n",
    "net = ResNet18()\n",
    "logcmt = f\"resnet18_8020_trigger_finetune\"\n",
    "net.load_state_dict(torch.load('checkpoints/resnet18_8020.ckpt'))\n",
    "optimizer = torch.optim.Adam(params=net.parameters(), lr=0.005, weight_decay=1e-4)\n",
    "criterion = nn.CrossEntropyLoss()\n",
    "scheduler = torch.optim.lr_scheduler.StepLR(optimizer, step_size=10, gamma=0.1, verbose=True)\n",
    "trainer = Trainer(net, criterion, optimizer, train_loader=trainloader, trigger_loader=advwmloader, use_trigger=True, scheduler=scheduler)\n",
    "evaluator = Evaluator(net, criterion)\n",
    "train(trainer, evaluator, testloader, 80, 'checkpoints/resnet18_wm_8020_adv_lr0.005.ckpt',\n",
    "      logdir='./runs', logcmt=logcmt, trigger_loader=advwmloader)"
   ]
  },
  {
   "cell_type": "markdown",
   "id": "725ba632-4b12-4c25-a2fc-331aec5b75c6",
   "metadata": {},
   "source": [
    "Unrelated Original Scheme"
   ]
  },
  {
   "cell_type": "code",
   "execution_count": null,
   "id": "71d2f948-5652-41ab-b6eb-a4f3ece14a9d",
   "metadata": {},
   "outputs": [],
   "source": [
    "# normal watermark\n",
    "net = ResNet18()\n",
    "logcmt = f\"resnet18_8020_trigger_finetune\"\n",
    "net.load_state_dict(torch.load('checkpoints/resnet18_8020.ckpt'))\n",
    "optimizer = torch.optim.Adam(params=net.parameters(), lr=0.005, weight_decay=1e-4)\n",
    "criterion = nn.CrossEntropyLoss()\n",
    "scheduler = torch.optim.lr_scheduler.StepLR(optimizer, step_size=10, gamma=0.1, verbose=True)\n",
    "trainer = Trainer(net, criterion, optimizer, train_loader=trainloader, trigger_loader=unrelatedloader, use_trigger=True, scheduler=scheduler)\n",
    "evaluator = Evaluator(net, criterion)\n",
    "train(trainer, evaluator, testloader, 80, 'checkpoints/resnet18_wm_8020_unrl_lr0.005.ckpt',\n",
    "      logdir='./runs', logcmt=logcmt, trigger_loader=unrelatedloader)"
   ]
  },
  {
   "cell_type": "code",
   "execution_count": null,
   "id": "7c3b9ae4-a6ad-4fb8-9f31-bff3a3c47326",
   "metadata": {},
   "outputs": [],
   "source": []
  },
  {
   "cell_type": "markdown",
   "id": "378f2594-86f3-4e8a-9381-16bb846d8576",
   "metadata": {},
   "source": [
    "Random Label"
   ]
  },
  {
   "cell_type": "code",
   "execution_count": null,
   "id": "f02a9a13-b998-449f-8a5c-e7efe13b307a",
   "metadata": {},
   "outputs": [],
   "source": [
    "net = ResNet18()\n",
    "optimizer = torch.optim.SGD(net.parameters(), lr=0.005, momentum=0.9, weight_decay=1e-4)\n",
    "scheduler = torch.optim.lr_scheduler.StepLR(optimizer, step_size=30, gamma=0.1)\n",
    "\n",
    "train_certified_wm(\n",
    "    net,\n",
    "    rand_mix_loader,\n",
    "    wmloader,\n",
    "    testloader,\n",
    "    optimizer,\n",
    "    scheduler,\n",
    "    cert_type='random_8020_rand_lr0.005',\n",
    "    epochs=100,\n",
    "    warmup_epochs=10\n",
    ")"
   ]
  },
  {
   "cell_type": "markdown",
   "id": "c4d89d41-093b-4181-992e-c362e428840d",
   "metadata": {},
   "source": [
    "Unrelated "
   ]
  },
  {
   "cell_type": "code",
   "execution_count": null,
   "id": "29333f60-f793-4bc9-bca8-04cfbb78539b",
   "metadata": {},
   "outputs": [],
   "source": [
    "net = ResNet18()\n",
    "optimizer = torch.optim.SGD(net.parameters(), lr=0.005, momentum=0.9, weight_decay=1e-4)\n",
    "scheduler = torch.optim.lr_scheduler.StepLR(optimizer, step_size=30, gamma=0.1)\n",
    "\n",
    "train_certified_wm(\n",
    "    net,\n",
    "    unrl_mix_loader,\n",
    "    unrelatedloader,\n",
    "    testloader,\n",
    "    optimizer,\n",
    "    scheduler,\n",
    "    cert_type='random_8020_unrl_lr0.005',\n",
    "    epochs=100,\n",
    "    warmup_epochs=10\n",
    ")"
   ]
  },
  {
   "cell_type": "markdown",
   "id": "f860b840-5677-4525-9108-ac941fcf7ac0",
   "metadata": {},
   "source": [
    "Adversarial"
   ]
  },
  {
   "cell_type": "code",
   "execution_count": null,
   "id": "443022b1-3dd5-4eaa-869d-041967197110",
   "metadata": {},
   "outputs": [],
   "source": [
    "net = ResNet18()\n",
    "optimizer = torch.optim.SGD(net.parameters(), lr=0.005, momentum=0.9, weight_decay=1e-4)\n",
    "scheduler = torch.optim.lr_scheduler.StepLR(optimizer, step_size=30, gamma=0.1)\n",
    "\n",
    "train_certified_wm(\n",
    "    net,\n",
    "    adv_mix_loader,\n",
    "    advwmloader,\n",
    "    testloader,\n",
    "    optimizer,\n",
    "    scheduler,\n",
    "    cert_type='random_8020_adv_lr0.005',\n",
    "    epochs=100,\n",
    "    warmup_epochs=10\n",
    ")"
   ]
  },
  {
   "cell_type": "markdown",
   "id": "09d41da3-d2ef-412a-b6fe-c4e28209b015",
   "metadata": {},
   "source": [
    "lr=0.001"
   ]
  },
  {
   "cell_type": "markdown",
   "id": "ec1d9ea8-1fe3-4dc3-9a73-d68f89ce5965",
   "metadata": {},
   "source": [
    "Random Label Uniform Scheme"
   ]
  },
  {
   "cell_type": "code",
   "execution_count": null,
   "id": "34e327da-7eb7-468c-886b-3202c1aee11b",
   "metadata": {},
   "outputs": [],
   "source": [
    "# watermark with frozen layers\n",
    "net = ResNet18()\n",
    "logcmt = f\"resnet18_8020_trigger_finetune\"\n",
    "net.load_state_dict(torch.load('checkpoints/resnet18_8020.ckpt'))\n",
    "frozen_layers=[net.conv1, net.bn1, net.layer1, net.layer2, net.layer3, net.layer4]\n",
    "optimizer = torch.optim.Adam(params=net.parameters(), lr=0.001, weight_decay=1e-4)\n",
    "criterion = nn.CrossEntropyLoss()\n",
    "scheduler = torch.optim.lr_scheduler.StepLR(optimizer, step_size=10, gamma=0.5, verbose=True)\n",
    "trainer = Trainer(net, criterion, optimizer, train_loader=trainloader, trigger_loader=wmloader, use_trigger=True, scheduler=scheduler)\n",
    "evaluator = Evaluator(net, criterion)\n",
    "train(trainer, evaluator, testloader, 80, 'checkpoints/resnet18_wm_frozen_8020_rand_lr0.001.ckpt', frozen_layers=frozen_layers,\n",
    "      logdir='./runs', logcmt=logcmt, trigger_loader=wmloader)"
   ]
  },
  {
   "cell_type": "markdown",
   "id": "6e9401dc-7f9b-46e6-90fc-8336e11e6f0e",
   "metadata": {},
   "source": [
    "Adversarial Sample Uniform Scheme"
   ]
  },
  {
   "cell_type": "code",
   "execution_count": null,
   "id": "4f2e343e-a418-41fb-9721-84ecfe0723d4",
   "metadata": {},
   "outputs": [],
   "source": [
    "# watermark with frozen layers\n",
    "net = ResNet18()\n",
    "logcmt = f\"resnet18_8020_trigger_finetune\"\n",
    "net.load_state_dict(torch.load('checkpoints/resnet18_8020.ckpt'))\n",
    "frozen_layers=[net.conv1, net.bn1, net.layer1, net.layer2, net.layer3, net.layer4]\n",
    "optimizer = torch.optim.Adam(params=net.parameters(), lr=0.001, weight_decay=1e-4)\n",
    "criterion = nn.CrossEntropyLoss()\n",
    "scheduler = torch.optim.lr_scheduler.StepLR(optimizer, step_size=10, gamma=0.5, verbose=True)\n",
    "trainer = Trainer(net, criterion, optimizer, train_loader=trainloader, trigger_loader=advwmloader, use_trigger=True, scheduler=scheduler)\n",
    "evaluator = Evaluator(net, criterion)\n",
    "train(trainer, evaluator, testloader, 80, 'checkpoints/resnet18_wm_frozen_8020_adv_lr0.001.ckpt', frozen_layers=frozen_layers,\n",
    "      logdir='./runs', logcmt=logcmt, trigger_loader=advwmloader)"
   ]
  },
  {
   "cell_type": "markdown",
   "id": "7367555e-a8dc-42ae-9dc7-ad91b1ca0ff6",
   "metadata": {},
   "source": [
    "Unrelated Uniform Scheme"
   ]
  },
  {
   "cell_type": "code",
   "execution_count": null,
   "id": "5e3b5627-1718-408e-8729-a54ba621378e",
   "metadata": {},
   "outputs": [],
   "source": [
    "# watermark with frozen layers\n",
    "net = ResNet18()\n",
    "logcmt = f\"resnet18_8020_trigger_finetune\"\n",
    "net.load_state_dict(torch.load('checkpoints/resnet18_8020.ckpt'))\n",
    "frozen_layers=[net.conv1, net.bn1, net.layer1, net.layer2, net.layer3, net.layer4]\n",
    "optimizer = torch.optim.Adam(params=net.parameters(), lr=0.001, weight_decay=1e-4)\n",
    "criterion = nn.CrossEntropyLoss()\n",
    "scheduler = torch.optim.lr_scheduler.StepLR(optimizer, step_size=10, gamma=0.5, verbose=True)\n",
    "trainer = Trainer(net, criterion, optimizer, train_loader=trainloader, trigger_loader=unrelatedloader, use_trigger=True, scheduler=scheduler)\n",
    "evaluator = Evaluator(net, criterion)\n",
    "train(trainer, evaluator, testloader, 80, 'checkpoints/resnet18_wm_frozen_8020_unrl_lr0.001.ckpt', frozen_layers=frozen_layers,\n",
    "      logdir='./runs', logcmt=logcmt, trigger_loader=unrelatedloader)"
   ]
  },
  {
   "cell_type": "markdown",
   "id": "ce0eefdb-5926-49ca-b2eb-559589e54785",
   "metadata": {},
   "source": [
    "Random Label Original Scheme"
   ]
  },
  {
   "cell_type": "code",
   "execution_count": null,
   "id": "175a8fe1-8447-4237-ae75-9c323dd9382b",
   "metadata": {},
   "outputs": [],
   "source": [
    "# normal watermark\n",
    "net = ResNet18()\n",
    "logcmt = f\"resnet18_8020_trigger_finetune\"\n",
    "net.load_state_dict(torch.load('checkpoints/resnet18_8020.ckpt'))\n",
    "optimizer = torch.optim.Adam(params=net.parameters(), lr=0.001, weight_decay=1e-4)\n",
    "criterion = nn.CrossEntropyLoss()\n",
    "scheduler = torch.optim.lr_scheduler.StepLR(optimizer, step_size=10, gamma=0.1, verbose=True)\n",
    "trainer = Trainer(net, criterion, optimizer, train_loader=trainloader, trigger_loader=wmloader, use_trigger=True, scheduler=scheduler)\n",
    "evaluator = Evaluator(net, criterion)\n",
    "train(trainer, evaluator, testloader, 80, 'checkpoints/resnet18_wm_8020_rand_lr0.001.ckpt',\n",
    "      logdir='./runs', logcmt=logcmt, trigger_loader=wmloader)"
   ]
  },
  {
   "cell_type": "markdown",
   "id": "4059ac24-5d60-4f74-84d3-e15590b99c78",
   "metadata": {},
   "source": [
    "Adversarial Sample Original Scheme"
   ]
  },
  {
   "cell_type": "code",
   "execution_count": null,
   "id": "d6ef724a-7d54-4a48-9a7f-3e2d089d576c",
   "metadata": {},
   "outputs": [],
   "source": [
    "# normal watermark\n",
    "net = ResNet18()\n",
    "logcmt = f\"resnet18_8020_trigger_finetune\"\n",
    "net.load_state_dict(torch.load('checkpoints/resnet18_8020.ckpt'))\n",
    "optimizer = torch.optim.Adam(params=net.parameters(), lr=0.001, weight_decay=1e-4)\n",
    "criterion = nn.CrossEntropyLoss()\n",
    "scheduler = torch.optim.lr_scheduler.StepLR(optimizer, step_size=10, gamma=0.1, verbose=True)\n",
    "trainer = Trainer(net, criterion, optimizer, train_loader=trainloader, trigger_loader=advwmloader, use_trigger=True, scheduler=scheduler)\n",
    "evaluator = Evaluator(net, criterion)\n",
    "train(trainer, evaluator, testloader, 80, 'checkpoints/resnet18_wm_8020_adv_lr0.001.ckpt',\n",
    "      logdir='./runs', logcmt=logcmt, trigger_loader=advwmloader)"
   ]
  },
  {
   "cell_type": "markdown",
   "id": "e9020e98-a1b8-4593-ba4b-3da82c6f60fb",
   "metadata": {},
   "source": [
    "Unrelated Original Scheme"
   ]
  },
  {
   "cell_type": "code",
   "execution_count": null,
   "id": "a1707778-32fe-4bb7-a92c-8f4f4016f5e1",
   "metadata": {},
   "outputs": [],
   "source": [
    "# normal watermark\n",
    "net = ResNet18()\n",
    "logcmt = f\"resnet18_8020_trigger_finetune\"\n",
    "net.load_state_dict(torch.load('checkpoints/resnet18_8020.ckpt'))\n",
    "optimizer = torch.optim.Adam(params=net.parameters(), lr=0.001, weight_decay=1e-4)\n",
    "criterion = nn.CrossEntropyLoss()\n",
    "scheduler = torch.optim.lr_scheduler.StepLR(optimizer, step_size=10, gamma=0.1, verbose=True)\n",
    "trainer = Trainer(net, criterion, optimizer, train_loader=trainloader, trigger_loader=unrelatedloader, use_trigger=True, scheduler=scheduler)\n",
    "evaluator = Evaluator(net, criterion)\n",
    "train(trainer, evaluator, testloader, 80, 'checkpoints/resnet18_wm_8020_unrl_lr0.001.ckpt',\n",
    "      logdir='./runs', logcmt=logcmt, trigger_loader=unrelatedloader)"
   ]
  },
  {
   "cell_type": "code",
   "execution_count": null,
   "id": "1ce96563-1d97-40d1-b728-b335423f64b4",
   "metadata": {},
   "outputs": [],
   "source": []
  },
  {
   "cell_type": "markdown",
   "id": "96135450-0746-4bf0-9d22-1e1c835420a4",
   "metadata": {},
   "source": [
    "Random Label"
   ]
  },
  {
   "cell_type": "code",
   "execution_count": null,
   "id": "0714eb18-8c95-4ccf-bf62-de0f20a03f3b",
   "metadata": {},
   "outputs": [],
   "source": [
    "net = ResNet18()\n",
    "optimizer = torch.optim.SGD(net.parameters(), lr=0.001, momentum=0.9, weight_decay=1e-4)\n",
    "scheduler = torch.optim.lr_scheduler.StepLR(optimizer, step_size=30, gamma=0.1)\n",
    "\n",
    "train_certified_wm(\n",
    "    net,\n",
    "    rand_mix_loader,\n",
    "    wmloader,\n",
    "    testloader,\n",
    "    optimizer,\n",
    "    scheduler,\n",
    "    cert_type='random_8020_rand_lr0.001',\n",
    "    epochs=100,\n",
    "    warmup_epochs=10\n",
    ")"
   ]
  },
  {
   "cell_type": "markdown",
   "id": "4209a708-8d8d-44ae-8622-b43148278f62",
   "metadata": {},
   "source": [
    "Unrelated "
   ]
  },
  {
   "cell_type": "code",
   "execution_count": null,
   "id": "87efcd40-89e1-4745-9509-d8b9a56b13a4",
   "metadata": {},
   "outputs": [],
   "source": [
    "net = ResNet18()\n",
    "optimizer = torch.optim.SGD(net.parameters(), lr=0.001, momentum=0.9, weight_decay=1e-4)\n",
    "scheduler = torch.optim.lr_scheduler.StepLR(optimizer, step_size=30, gamma=0.1)\n",
    "\n",
    "train_certified_wm(\n",
    "    net,\n",
    "    unrl_mix_loader,\n",
    "    unrelatedloader,\n",
    "    testloader,\n",
    "    optimizer,\n",
    "    scheduler,\n",
    "    cert_type='random_8020_unrl_lr0.001',\n",
    "    epochs=100,\n",
    "    warmup_epochs=10\n",
    ")"
   ]
  },
  {
   "cell_type": "markdown",
   "id": "b7b0efab-3bf1-4dbf-8a69-20438af90e38",
   "metadata": {},
   "source": [
    "Adversarial"
   ]
  },
  {
   "cell_type": "code",
   "execution_count": null,
   "id": "6ebf0d1d-95f3-4a69-91b9-4bed5a9d20ce",
   "metadata": {},
   "outputs": [],
   "source": [
    "net = ResNet18()\n",
    "optimizer = torch.optim.SGD(net.parameters(), lr=0.001, momentum=0.9, weight_decay=1e-4)\n",
    "scheduler = torch.optim.lr_scheduler.StepLR(optimizer, step_size=30, gamma=0.1)\n",
    "\n",
    "train_certified_wm(\n",
    "    net,\n",
    "    adv_mix_loader,\n",
    "    advwmloader,\n",
    "    testloader,\n",
    "    optimizer,\n",
    "    scheduler,\n",
    "    cert_type='random_8020_adv_lr0.001',\n",
    "    epochs=100,\n",
    "    warmup_epochs=10\n",
    ")"
   ]
  },
  {
   "cell_type": "markdown",
   "id": "8262f47f-a3fc-4a79-bf77-9fdaf9e33eb8",
   "metadata": {},
   "source": [
    "lr=0.0005"
   ]
  },
  {
   "cell_type": "markdown",
   "id": "104a0216-5f6c-491b-a287-0b73e7d928eb",
   "metadata": {},
   "source": [
    "Random Label Uniform Scheme"
   ]
  },
  {
   "cell_type": "code",
   "execution_count": null,
   "id": "4d1f1fdd-c55c-4808-baca-31e189cf03e7",
   "metadata": {
    "tags": []
   },
   "outputs": [],
   "source": [
    "# watermark with frozen layers\n",
    "net = ResNet18()\n",
    "logcmt = f\"resnet18_8020_trigger_finetune\"\n",
    "net.load_state_dict(torch.load('checkpoints/resnet18_8020.ckpt'))\n",
    "frozen_layers=[net.conv1, net.bn1, net.layer1, net.layer2, net.layer3, net.layer4]\n",
    "optimizer = torch.optim.Adam(params=net.parameters(), lr=0.0005, weight_decay=1e-4)\n",
    "criterion = nn.CrossEntropyLoss()\n",
    "scheduler = torch.optim.lr_scheduler.StepLR(optimizer, step_size=10, gamma=0.5, verbose=True)\n",
    "trainer = Trainer(net, criterion, optimizer, train_loader=trainloader, trigger_loader=wmloader, use_trigger=True, scheduler=scheduler)\n",
    "evaluator = Evaluator(net, criterion)\n",
    "train(trainer, evaluator, testloader, 80, 'checkpoints/resnet18_wm_frozen_8020_rand_lr0.0005.ckpt', frozen_layers=frozen_layers,\n",
    "      logdir='./runs', logcmt=logcmt, trigger_loader=wmloader)"
   ]
  },
  {
   "cell_type": "markdown",
   "id": "1a09e573-ddbf-468d-8c89-d1a2bfc6d0b8",
   "metadata": {},
   "source": [
    "Adversarial Sample Uniform Scheme"
   ]
  },
  {
   "cell_type": "code",
   "execution_count": null,
   "id": "d8f8632e-9b26-4bca-b321-22fd1971e0f7",
   "metadata": {},
   "outputs": [],
   "source": [
    "# watermark with frozen layers\n",
    "net = ResNet18()\n",
    "logcmt = f\"resnet18_8020_trigger_finetune\"\n",
    "net.load_state_dict(torch.load('checkpoints/resnet18_8020.ckpt'))\n",
    "frozen_layers=[net.conv1, net.bn1, net.layer1, net.layer2, net.layer3, net.layer4]\n",
    "optimizer = torch.optim.Adam(params=net.parameters(), lr=0.0005, weight_decay=1e-4)\n",
    "criterion = nn.CrossEntropyLoss()\n",
    "scheduler = torch.optim.lr_scheduler.StepLR(optimizer, step_size=10, gamma=0.5, verbose=True)\n",
    "trainer = Trainer(net, criterion, optimizer, train_loader=trainloader, trigger_loader=advwmloader, use_trigger=True, scheduler=scheduler)\n",
    "evaluator = Evaluator(net, criterion)\n",
    "train(trainer, evaluator, testloader, 80, 'checkpoints/resnet18_wm_frozen_8020_adv_lr0.0005.ckpt', frozen_layers=frozen_layers,\n",
    "      logdir='./runs', logcmt=logcmt, trigger_loader=advwmloader)"
   ]
  },
  {
   "cell_type": "markdown",
   "id": "1d59b2d7-f845-4102-b6c1-292e49c90d20",
   "metadata": {},
   "source": [
    "Unrelated Uniform Scheme"
   ]
  },
  {
   "cell_type": "code",
   "execution_count": null,
   "id": "f5daa75b-be61-47f7-aa48-5fd769f18265",
   "metadata": {},
   "outputs": [],
   "source": [
    "# watermark with frozen layers\n",
    "net = ResNet18()\n",
    "logcmt = f\"resnet18_8020_trigger_finetune\"\n",
    "net.load_state_dict(torch.load('checkpoints/resnet18_8020.ckpt'))\n",
    "frozen_layers=[net.conv1, net.bn1, net.layer1, net.layer2, net.layer3, net.layer4]\n",
    "optimizer = torch.optim.Adam(params=net.parameters(), lr=0.0005, weight_decay=1e-4)\n",
    "criterion = nn.CrossEntropyLoss()\n",
    "scheduler = torch.optim.lr_scheduler.StepLR(optimizer, step_size=10, gamma=0.5, verbose=True)\n",
    "trainer = Trainer(net, criterion, optimizer, train_loader=trainloader, trigger_loader=unrelatedloader, use_trigger=True, scheduler=scheduler)\n",
    "evaluator = Evaluator(net, criterion)\n",
    "train(trainer, evaluator, testloader, 80, 'checkpoints/resnet18_wm_frozen_8020_unrl_lr0.0005.ckpt', frozen_layers=frozen_layers,\n",
    "      logdir='./runs', logcmt=logcmt, trigger_loader=unrelatedloader)"
   ]
  },
  {
   "cell_type": "markdown",
   "id": "80e2fc45-e5f9-43ce-ab4f-f9b3c43b8017",
   "metadata": {},
   "source": [
    "Random Label Original Scheme"
   ]
  },
  {
   "cell_type": "code",
   "execution_count": null,
   "id": "526c19fb-1641-4d38-9ea1-13c094a9c2f7",
   "metadata": {},
   "outputs": [],
   "source": [
    "# normal watermark\n",
    "net = ResNet18()\n",
    "logcmt = f\"resnet18_8020_trigger_finetune\"\n",
    "net.load_state_dict(torch.load('checkpoints/resnet18_8020.ckpt'))\n",
    "optimizer = torch.optim.Adam(params=net.parameters(), lr=0.0005, weight_decay=1e-4)\n",
    "criterion = nn.CrossEntropyLoss()\n",
    "scheduler = torch.optim.lr_scheduler.StepLR(optimizer, step_size=10, gamma=0.1, verbose=True)\n",
    "trainer = Trainer(net, criterion, optimizer, train_loader=trainloader, trigger_loader=wmloader, use_trigger=True, scheduler=scheduler)\n",
    "evaluator = Evaluator(net, criterion)\n",
    "train(trainer, evaluator, testloader, 80, 'checkpoints/resnet18_wm_8020_rand_lr0.0005.ckpt',\n",
    "      logdir='./runs', logcmt=logcmt, trigger_loader=wmloader)"
   ]
  },
  {
   "cell_type": "markdown",
   "id": "6f796c70-886b-4987-b0ca-40a6087e9d7b",
   "metadata": {},
   "source": [
    "Adversarial Sample Original Scheme"
   ]
  },
  {
   "cell_type": "code",
   "execution_count": null,
   "id": "8a55c1ef-7857-47c5-99a9-15db8a7dcc2f",
   "metadata": {},
   "outputs": [],
   "source": [
    "# normal watermark\n",
    "net = ResNet18()\n",
    "logcmt = f\"resnet18_8020_trigger_finetune\"\n",
    "net.load_state_dict(torch.load('checkpoints/resnet18_8020.ckpt'))\n",
    "optimizer = torch.optim.Adam(params=net.parameters(), lr=0.0005, weight_decay=1e-4)\n",
    "criterion = nn.CrossEntropyLoss()\n",
    "scheduler = torch.optim.lr_scheduler.StepLR(optimizer, step_size=10, gamma=0.1, verbose=True)\n",
    "trainer = Trainer(net, criterion, optimizer, train_loader=trainloader, trigger_loader=advwmloader, use_trigger=True, scheduler=scheduler)\n",
    "evaluator = Evaluator(net, criterion)\n",
    "train(trainer, evaluator, testloader, 80, 'checkpoints/resnet18_wm_8020_adv_lr0.0005.ckpt',\n",
    "      logdir='./runs', logcmt=logcmt, trigger_loader=advwmloader)"
   ]
  },
  {
   "cell_type": "markdown",
   "id": "1e25920e-121d-4460-a298-a6a3489fd6b8",
   "metadata": {},
   "source": [
    "Unrelated Original Scheme"
   ]
  },
  {
   "cell_type": "code",
   "execution_count": null,
   "id": "53397eb8-30a7-4fed-ae80-c99aa60314af",
   "metadata": {},
   "outputs": [],
   "source": [
    "# normal watermark\n",
    "net = ResNet18()\n",
    "logcmt = f\"resnet18_8020_trigger_finetune\"\n",
    "net.load_state_dict(torch.load('checkpoints/resnet18_8020.ckpt'))\n",
    "optimizer = torch.optim.Adam(params=net.parameters(), lr=0.0005, weight_decay=1e-4)\n",
    "criterion = nn.CrossEntropyLoss()\n",
    "scheduler = torch.optim.lr_scheduler.StepLR(optimizer, step_size=10, gamma=0.1, verbose=True)\n",
    "trainer = Trainer(net, criterion, optimizer, train_loader=trainloader, trigger_loader=unrelatedloader, use_trigger=True, scheduler=scheduler)\n",
    "evaluator = Evaluator(net, criterion)\n",
    "train(trainer, evaluator, testloader, 80, 'checkpoints/resnet18_wm_8020_unrl_lr0.0005.ckpt',\n",
    "      logdir='./runs', logcmt=logcmt, trigger_loader=unrelatedloader)"
   ]
  },
  {
   "cell_type": "code",
   "execution_count": null,
   "id": "6e3b6dc2-f15a-4015-b4a9-0f9b8767c371",
   "metadata": {},
   "outputs": [],
   "source": []
  },
  {
   "cell_type": "markdown",
   "id": "2509cf00-2f2a-4337-a4af-4cfbb8bcbfad",
   "metadata": {},
   "source": [
    "Random Label"
   ]
  },
  {
   "cell_type": "code",
   "execution_count": null,
   "id": "f4796a35-b17a-4209-8226-5e0d9b3a8f8f",
   "metadata": {},
   "outputs": [],
   "source": [
    "net = ResNet18()\n",
    "optimizer = torch.optim.SGD(net.parameters(), lr=0.0005, momentum=0.9, weight_decay=1e-4)\n",
    "scheduler = torch.optim.lr_scheduler.StepLR(optimizer, step_size=30, gamma=0.1)\n",
    "\n",
    "train_certified_wm(\n",
    "    net,\n",
    "    rand_mix_loader,\n",
    "    wmloader,\n",
    "    testloader,\n",
    "    optimizer,\n",
    "    scheduler,\n",
    "    cert_type='random_8020_rand_lr0.0005',\n",
    "    epochs=100,\n",
    "    warmup_epochs=10\n",
    ")"
   ]
  },
  {
   "cell_type": "markdown",
   "id": "2060b139-f720-46b5-8af8-e49ef9925ff8",
   "metadata": {},
   "source": [
    "Unrelated "
   ]
  },
  {
   "cell_type": "code",
   "execution_count": null,
   "id": "68e4047b-a734-4c2f-8516-630fc0fe9b85",
   "metadata": {},
   "outputs": [],
   "source": [
    "net = ResNet18()\n",
    "optimizer = torch.optim.SGD(net.parameters(), lr=0.0005, momentum=0.9, weight_decay=1e-4)\n",
    "scheduler = torch.optim.lr_scheduler.StepLR(optimizer, step_size=30, gamma=0.1)\n",
    "\n",
    "train_certified_wm(\n",
    "    net,\n",
    "    unrl_mix_loader,\n",
    "    unrelatedloader,\n",
    "    testloader,\n",
    "    optimizer,\n",
    "    scheduler,\n",
    "    cert_type='random_8020_unrl_lr0.0005',\n",
    "    epochs=100,\n",
    "    warmup_epochs=10\n",
    ")"
   ]
  },
  {
   "cell_type": "markdown",
   "id": "3be185b2-5766-4f64-b656-437c8a78956d",
   "metadata": {},
   "source": [
    "Adversarial"
   ]
  },
  {
   "cell_type": "code",
   "execution_count": null,
   "id": "ef218a90-5334-4097-93a6-c62a2b7f06f2",
   "metadata": {},
   "outputs": [],
   "source": [
    "net = ResNet18()\n",
    "optimizer = torch.optim.SGD(net.parameters(), lr=0.0005, momentum=0.9, weight_decay=1e-4)\n",
    "scheduler = torch.optim.lr_scheduler.StepLR(optimizer, step_size=30, gamma=0.1)\n",
    "\n",
    "train_certified_wm(\n",
    "    net,\n",
    "    adv_mix_loader,\n",
    "    advwmloader,\n",
    "    testloader,\n",
    "    optimizer,\n",
    "    scheduler,\n",
    "    cert_type='random_8020_adv_lr0.0005',\n",
    "    epochs=100,\n",
    "    warmup_epochs=10\n",
    ")"
   ]
  },
  {
   "cell_type": "markdown",
   "id": "37b53be6-30b1-4095-920a-9ce2a7ab3d14",
   "metadata": {},
   "source": [
    "lr=0.0001"
   ]
  },
  {
   "cell_type": "markdown",
   "id": "0c01a7d3-811a-40ed-b1fc-9dfc3228d888",
   "metadata": {},
   "source": [
    "Random Label Uniform Scheme"
   ]
  },
  {
   "cell_type": "code",
   "execution_count": null,
   "id": "436f3c90-c225-4a3b-8bab-2e135aff7240",
   "metadata": {},
   "outputs": [],
   "source": [
    "# watermark with frozen layers\n",
    "net = ResNet18()\n",
    "logcmt = f\"resnet18_8020_trigger_finetune\"\n",
    "net.load_state_dict(torch.load('checkpoints/resnet18_8020.ckpt'))\n",
    "frozen_layers=[net.conv1, net.bn1, net.layer1, net.layer2, net.layer3, net.layer4]\n",
    "optimizer = torch.optim.Adam(params=net.parameters(), lr=0.0001, weight_decay=1e-4)\n",
    "criterion = nn.CrossEntropyLoss()\n",
    "scheduler = torch.optim.lr_scheduler.StepLR(optimizer, step_size=10, gamma=0.5, verbose=True)\n",
    "trainer = Trainer(net, criterion, optimizer, train_loader=trainloader, trigger_loader=wmloader, use_trigger=True, scheduler=scheduler)\n",
    "evaluator = Evaluator(net, criterion)\n",
    "train(trainer, evaluator, testloader, 80, 'checkpoints/resnet18_wm_frozen_8020_rand_lr0.0001.ckpt', frozen_layers=frozen_layers,\n",
    "      logdir='./runs', logcmt=logcmt, trigger_loader=wmloader)"
   ]
  },
  {
   "cell_type": "markdown",
   "id": "70689bbc-3b57-4655-b8fd-c257a28abde5",
   "metadata": {},
   "source": [
    "Adversarial Sample Uniform Scheme"
   ]
  },
  {
   "cell_type": "code",
   "execution_count": null,
   "id": "8491f626-76b5-471b-bdf0-aab8480fcbda",
   "metadata": {},
   "outputs": [],
   "source": [
    "# watermark with frozen layers\n",
    "net = ResNet18()\n",
    "logcmt = f\"resnet18_8020_trigger_finetune\"\n",
    "net.load_state_dict(torch.load('checkpoints/resnet18_8020.ckpt'))\n",
    "frozen_layers=[net.conv1, net.bn1, net.layer1, net.layer2, net.layer3, net.layer4]\n",
    "optimizer = torch.optim.Adam(params=net.parameters(), lr=0.0001, weight_decay=1e-4)\n",
    "criterion = nn.CrossEntropyLoss()\n",
    "scheduler = torch.optim.lr_scheduler.StepLR(optimizer, step_size=10, gamma=0.5, verbose=True)\n",
    "trainer = Trainer(net, criterion, optimizer, train_loader=trainloader, trigger_loader=advwmloader, use_trigger=True, scheduler=scheduler)\n",
    "evaluator = Evaluator(net, criterion)\n",
    "train(trainer, evaluator, testloader, 80, 'checkpoints/resnet18_wm_frozen_8020_adv_lr0.0001.ckpt', frozen_layers=frozen_layers,\n",
    "      logdir='./runs', logcmt=logcmt, trigger_loader=advwmloader)"
   ]
  },
  {
   "cell_type": "markdown",
   "id": "74e26148-19ec-48ee-a491-1661186a259c",
   "metadata": {},
   "source": [
    "Unrelated Uniform Scheme"
   ]
  },
  {
   "cell_type": "code",
   "execution_count": null,
   "id": "feec05e1-91c4-496c-b188-999528bf194d",
   "metadata": {},
   "outputs": [],
   "source": [
    "# watermark with frozen layers\n",
    "net = ResNet18()\n",
    "logcmt = f\"resnet18_8020_trigger_finetune\"\n",
    "net.load_state_dict(torch.load('checkpoints/resnet18_8020.ckpt'))\n",
    "frozen_layers=[net.conv1, net.bn1, net.layer1, net.layer2, net.layer3, net.layer4]\n",
    "optimizer = torch.optim.Adam(params=net.parameters(), lr=0.0001, weight_decay=1e-4)\n",
    "criterion = nn.CrossEntropyLoss()\n",
    "scheduler = torch.optim.lr_scheduler.StepLR(optimizer, step_size=10, gamma=0.5, verbose=True)\n",
    "trainer = Trainer(net, criterion, optimizer, train_loader=trainloader, trigger_loader=unrelatedloader, use_trigger=True, scheduler=scheduler)\n",
    "evaluator = Evaluator(net, criterion)\n",
    "train(trainer, evaluator, testloader, 80, 'checkpoints/resnet18_wm_frozen_8020_unrl_lr0.0001.ckpt', frozen_layers=frozen_layers,\n",
    "      logdir='./runs', logcmt=logcmt, trigger_loader=unrelatedloader)"
   ]
  },
  {
   "cell_type": "markdown",
   "id": "1044bf2c-b017-416d-84ff-abee5e5ee94b",
   "metadata": {},
   "source": [
    "Random Label Original Scheme"
   ]
  },
  {
   "cell_type": "code",
   "execution_count": null,
   "id": "e4aab057-29dd-4c95-8d6d-88e2061700da",
   "metadata": {},
   "outputs": [],
   "source": [
    "# normal watermark\n",
    "net = ResNet18()\n",
    "logcmt = f\"resnet18_8020_trigger_finetune\"\n",
    "net.load_state_dict(torch.load('checkpoints/resnet18_8020.ckpt'))\n",
    "optimizer = torch.optim.Adam(params=net.parameters(), lr=0.0001, weight_decay=1e-4)\n",
    "criterion = nn.CrossEntropyLoss()\n",
    "scheduler = torch.optim.lr_scheduler.StepLR(optimizer, step_size=10, gamma=0.1, verbose=True)\n",
    "trainer = Trainer(net, criterion, optimizer, train_loader=trainloader, trigger_loader=wmloader, use_trigger=True, scheduler=scheduler)\n",
    "evaluator = Evaluator(net, criterion)\n",
    "train(trainer, evaluator, testloader, 80, 'checkpoints/resnet18_wm_8020_rand_lr0.0001.ckpt',\n",
    "      logdir='./runs', logcmt=logcmt, trigger_loader=wmloader)"
   ]
  },
  {
   "cell_type": "markdown",
   "id": "ad405143-c2a2-4b2b-a1b1-3f68e0156b8d",
   "metadata": {},
   "source": [
    "Adversarial Sample Original Scheme"
   ]
  },
  {
   "cell_type": "code",
   "execution_count": null,
   "id": "bb1999fc-322f-450e-a644-63c28065b43c",
   "metadata": {},
   "outputs": [],
   "source": [
    "# normal watermark\n",
    "net = ResNet18()\n",
    "logcmt = f\"resnet18_8020_trigger_finetune\"\n",
    "net.load_state_dict(torch.load('checkpoints/resnet18_8020.ckpt'))\n",
    "optimizer = torch.optim.Adam(params=net.parameters(), lr=0.0001, weight_decay=1e-4)\n",
    "criterion = nn.CrossEntropyLoss()\n",
    "scheduler = torch.optim.lr_scheduler.StepLR(optimizer, step_size=10, gamma=0.1, verbose=True)\n",
    "trainer = Trainer(net, criterion, optimizer, train_loader=trainloader, trigger_loader=advwmloader, use_trigger=True, scheduler=scheduler)\n",
    "evaluator = Evaluator(net, criterion)\n",
    "train(trainer, evaluator, testloader, 80, 'checkpoints/resnet18_wm_8020_adv_lr0.0001.ckpt',\n",
    "      logdir='./runs', logcmt=logcmt, trigger_loader=advwmloader)"
   ]
  },
  {
   "cell_type": "markdown",
   "id": "eeea6d29-7f1e-4345-8b06-404c38207bcb",
   "metadata": {},
   "source": [
    "Unrelated Original Scheme"
   ]
  },
  {
   "cell_type": "code",
   "execution_count": null,
   "id": "d3b81d33-27ba-4cb8-8b63-56702c6b07d4",
   "metadata": {},
   "outputs": [],
   "source": [
    "# normal watermark\n",
    "net = ResNet18()\n",
    "logcmt = f\"resnet18_8020_trigger_finetune\"\n",
    "net.load_state_dict(torch.load('checkpoints/resnet18_8020.ckpt'))\n",
    "optimizer = torch.optim.Adam(params=net.parameters(), lr=0.0001, weight_decay=1e-4)\n",
    "criterion = nn.CrossEntropyLoss()\n",
    "scheduler = torch.optim.lr_scheduler.StepLR(optimizer, step_size=10, gamma=0.1, verbose=True)\n",
    "trainer = Trainer(net, criterion, optimizer, train_loader=trainloader, trigger_loader=unrelatedloader, use_trigger=True, scheduler=scheduler)\n",
    "evaluator = Evaluator(net, criterion)\n",
    "train(trainer, evaluator, testloader, 80, 'checkpoints/resnet18_wm_8020_unrl_lr0.0001.ckpt',\n",
    "      logdir='./runs', logcmt=logcmt, trigger_loader=unrelatedloader)"
   ]
  },
  {
   "cell_type": "code",
   "execution_count": null,
   "id": "5ee8946c-d134-411b-8ab5-d0949a85f9dc",
   "metadata": {},
   "outputs": [],
   "source": []
  },
  {
   "cell_type": "markdown",
   "id": "79401ac0-8558-4753-bcfa-5892ff0e2e3e",
   "metadata": {},
   "source": [
    "Random Label"
   ]
  },
  {
   "cell_type": "code",
   "execution_count": null,
   "id": "2d1be9fd-ee17-41a9-aa2e-4547e214ba6f",
   "metadata": {},
   "outputs": [],
   "source": [
    "net = ResNet18()\n",
    "optimizer = torch.optim.SGD(net.parameters(), lr=0.0001, momentum=0.9, weight_decay=1e-4)\n",
    "scheduler = torch.optim.lr_scheduler.StepLR(optimizer, step_size=30, gamma=0.1)\n",
    "\n",
    "train_certified_wm(\n",
    "    net,\n",
    "    rand_mix_loader,\n",
    "    wmloader,\n",
    "    testloader,\n",
    "    optimizer,\n",
    "    scheduler,\n",
    "    cert_type='random_8020_rand_lr0.0001',\n",
    "    epochs=100,\n",
    "    warmup_epochs=10\n",
    ")"
   ]
  },
  {
   "cell_type": "markdown",
   "id": "5f54744a-5792-405b-9e6a-419b646aae6c",
   "metadata": {},
   "source": [
    "Unrelated "
   ]
  },
  {
   "cell_type": "code",
   "execution_count": null,
   "id": "aad92c31-33e4-4dac-acdb-1115ef077b59",
   "metadata": {},
   "outputs": [],
   "source": [
    "net = ResNet18()\n",
    "optimizer = torch.optim.SGD(net.parameters(), lr=0.0001, momentum=0.9, weight_decay=1e-4)\n",
    "scheduler = torch.optim.lr_scheduler.StepLR(optimizer, step_size=30, gamma=0.1)\n",
    "\n",
    "train_certified_wm(\n",
    "    net,\n",
    "    unrl_mix_loader,\n",
    "    unrelatedloader,\n",
    "    testloader,\n",
    "    optimizer,\n",
    "    scheduler,\n",
    "    cert_type='random_8020_unrl_lr0.0001',\n",
    "    epochs=100,\n",
    "    warmup_epochs=10\n",
    ")"
   ]
  },
  {
   "cell_type": "markdown",
   "id": "1769c04e-eff0-4efd-a078-9cd5439e4716",
   "metadata": {},
   "source": [
    "Adversarial"
   ]
  },
  {
   "cell_type": "code",
   "execution_count": null,
   "id": "861c1b7b-fb4b-4e1b-a42e-3f949cb33155",
   "metadata": {},
   "outputs": [],
   "source": [
    "net = ResNet18()\n",
    "optimizer = torch.optim.SGD(net.parameters(), lr=0.0001, momentum=0.9, weight_decay=1e-4)\n",
    "scheduler = torch.optim.lr_scheduler.StepLR(optimizer, step_size=30, gamma=0.1)\n",
    "\n",
    "train_certified_wm(\n",
    "    net,\n",
    "    adv_mix_loader,\n",
    "    advwmloader,\n",
    "    testloader,\n",
    "    optimizer,\n",
    "    scheduler,\n",
    "    cert_type='random_8020_adv_lr0.0001',\n",
    "    epochs=100,\n",
    "    warmup_epochs=10\n",
    ")"
   ]
  },
  {
   "cell_type": "code",
   "execution_count": null,
   "id": "1fc2fc1d-3c0b-435c-b727-b180e46d31d8",
   "metadata": {},
   "outputs": [],
   "source": []
  },
  {
   "cell_type": "code",
   "execution_count": null,
   "id": "f2c0275d-eb0d-4d05-9610-f6984c6452ef",
   "metadata": {},
   "outputs": [],
   "source": []
  },
  {
   "cell_type": "code",
   "execution_count": null,
   "id": "18002c86-c712-46fd-8d6c-12b233490635",
   "metadata": {},
   "outputs": [],
   "source": []
  },
  {
   "cell_type": "code",
   "execution_count": null,
   "id": "fcd0d2f1-dd4c-4bea-a608-c89b99725a7b",
   "metadata": {},
   "outputs": [],
   "source": []
  },
  {
   "cell_type": "code",
   "execution_count": null,
   "id": "b9b2ec8d-2bc3-436f-ad1d-bcb446f9e581",
   "metadata": {},
   "outputs": [],
   "source": []
  },
  {
   "cell_type": "code",
   "execution_count": null,
   "id": "801cf652-37df-404d-aa96-8e77831a559a",
   "metadata": {},
   "outputs": [],
   "source": []
  },
  {
   "cell_type": "code",
   "execution_count": null,
   "id": "c9669e1f-8b24-49ae-b618-d4703ab93431",
   "metadata": {},
   "outputs": [],
   "source": []
  }
 ],
 "metadata": {
  "kernelspec": {
   "display_name": "Python 3 (ipykernel)",
   "language": "python",
   "name": "python3"
  },
  "language_info": {
   "codemirror_mode": {
    "name": "ipython",
    "version": 3
   },
   "file_extension": ".py",
   "mimetype": "text/x-python",
   "name": "python",
   "nbconvert_exporter": "python",
   "pygments_lexer": "ipython3",
   "version": "3.10.6"
  }
 },
 "nbformat": 4,
 "nbformat_minor": 5
}
