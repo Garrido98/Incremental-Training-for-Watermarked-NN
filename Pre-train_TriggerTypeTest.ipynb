{
 "cells": [
  {
   "cell_type": "code",
   "execution_count": 1,
   "id": "4e4782aa-c78c-471c-9f64-65d3e11ba1d9",
   "metadata": {},
   "outputs": [],
   "source": [
    "import sys\n",
    "sys.path.append(\"..\")\n",
    "\n",
    "import numpy as np\n",
    "from train_utils import Trainer, Evaluator, train, train_certified_wm\n",
    "\n",
    "import torchvision\n",
    "from PIL import Image\n",
    "import torch\n",
    "from torch import nn\n",
    "from torch.utils.data import Dataset, DataLoader, SubsetRandomSampler\n",
    "from torchvision import datasets, transforms"
   ]
  },
  {
   "cell_type": "code",
   "execution_count": 2,
   "id": "13c81f92-395c-4572-984d-307874e7c6c6",
   "metadata": {},
   "outputs": [
    {
     "name": "stdout",
     "output_type": "stream",
     "text": [
      "==> Preparing data..\n"
     ]
    }
   ],
   "source": [
    "print('==> Preparing data..')\n",
    "transform_train = transforms.Compose([\n",
    "    transforms.RandomCrop(32, padding=4),\n",
    "    transforms.RandomHorizontalFlip(),\n",
    "    transforms.ToTensor(),\n",
    "    transforms.Normalize((0.4914, 0.4822, 0.4465), (0.2023, 0.1994, 0.2010)),\n",
    "])\n",
    "\n",
    "transform_test = transforms.Compose([\n",
    "    transforms.ToTensor(),\n",
    "    transforms.Normalize((0.4914, 0.4822, 0.4465), (0.2023, 0.1994, 0.2010)),\n",
    "])\n"
   ]
  },
  {
   "cell_type": "code",
   "execution_count": 3,
   "id": "87ab480b-ef63-4382-ad01-b6766c83020d",
   "metadata": {},
   "outputs": [],
   "source": [
    "def watermark_unrelated(new_label=4, count=100):\n",
    "    np.random.seed(20)\n",
    "    trainset = torchvision.datasets.MNIST(\n",
    "        root='./data', train=True, download=True)\n",
    "    watermarkset = []\n",
    "    for idx in range(len(trainset)):\n",
    "        img, label = trainset[idx]\n",
    "        img = transforms.Resize((32,32))(img)\n",
    "        img = transforms.ToTensor()(img)\n",
    "        img = img.repeat(3, 1, 1)\n",
    "        if idx == 0:\n",
    "          x = (img.permute(1, 2, 0).numpy()*255).astype(np.uint8)\n",
    "          #x = x[:,:,0]\n",
    "          x = Image.fromarray(x)\n",
    "          display(x)\n",
    "          print(img.shape)\n",
    "        img = transforms.Normalize((0.4914, 0.4822, 0.4465), (0.2023, 0.1994, 0.2010))(img)\n",
    "        label = new_label\n",
    "        watermarkset.append((img, label))\n",
    "        if len(watermarkset) == count:\n",
    "            return watermarkset\n",
    "def generate_random_trigger(data_path):\n",
    "    np.random.seed(20)\n",
    "    adv_trigger_path = os.path.join(data_path, 'with_trigger/trigger_random')\n",
    "    os.makedirs(adv_trigger_path, exist_ok=True)\n",
    "    trigger_data = datasets.ImageFolder(os.path.join(data_path, \"with_trigger/trigger_clean\"))\n",
    "    writer = csv.writer(open(os.path.join(adv_trigger_path, \"labels.csv\"), \"w\"))\n",
    "    writer.writerow(['filename', 'gt_label', 'assigned_label'])\n",
    "    for idx, (x, y) in enumerate(trigger_data):\n",
    "        filename = trigger_data.imgs[idx][0].rsplit('/', 1)[-1]\n",
    "        final_labels = [i for i in range(len(trigger_data.classes)) if i != y]\n",
    "        assigned_label = np.random.choice(final_labels)\n",
    "        save_path = os.path.join(adv_trigger_path, trigger_data.classes[assigned_label])\n",
    "        os.makedirs(save_path, exist_ok=True)\n",
    "        x.save(os.path.join(save_path, filename))\n",
    "        writer.writerow([filename, trigger_data.classes[y], trigger_data.classes[assigned_label]])        "
   ]
  },
  {
   "cell_type": "code",
   "execution_count": 4,
   "id": "01570d0b-a155-4dd2-bca8-5b55a06850d3",
   "metadata": {},
   "outputs": [
    {
     "name": "stdout",
     "output_type": "stream",
     "text": [
      "torch.Size([1, 10])\n"
     ]
    }
   ],
   "source": [
    "import torch\n",
    "import torch.nn as nn\n",
    "import torch.nn.functional as F\n",
    "\n",
    "\n",
    "class BasicBlock(nn.Module):\n",
    "    expansion = 1\n",
    "\n",
    "    def __init__(self, in_planes, planes, stride=1):\n",
    "        super(BasicBlock, self).__init__()\n",
    "        self.conv1 = nn.Conv2d(\n",
    "            in_planes, planes, kernel_size=3, stride=stride, padding=1, bias=False)\n",
    "        self.bn1 = nn.BatchNorm2d(planes)\n",
    "        self.conv2 = nn.Conv2d(planes, planes, kernel_size=3,\n",
    "                               stride=1, padding=1, bias=False)\n",
    "        self.bn2 = nn.BatchNorm2d(planes)\n",
    "\n",
    "        self.shortcut = nn.Sequential()\n",
    "        if stride != 1 or in_planes != self.expansion*planes:\n",
    "            self.shortcut = nn.Sequential(\n",
    "                nn.Conv2d(in_planes, self.expansion*planes,\n",
    "                          kernel_size=1, stride=stride, bias=False),\n",
    "                nn.BatchNorm2d(self.expansion*planes)\n",
    "            )\n",
    "\n",
    "    def forward(self, x):\n",
    "        out = F.relu(self.bn1(self.conv1(x)))\n",
    "        out = self.bn2(self.conv2(out))\n",
    "        out += self.shortcut(x)\n",
    "        out = F.relu(out)\n",
    "        return out\n",
    "\n",
    "\n",
    "class Bottleneck(nn.Module):\n",
    "    expansion = 4\n",
    "\n",
    "    def __init__(self, in_planes, planes, stride=1):\n",
    "        super(Bottleneck, self).__init__()\n",
    "        self.conv1 = nn.Conv2d(in_planes, planes, kernel_size=1, bias=False)\n",
    "        self.bn1 = nn.BatchNorm2d(planes)\n",
    "        self.conv2 = nn.Conv2d(planes, planes, kernel_size=3,\n",
    "                               stride=stride, padding=1, bias=False)\n",
    "        self.bn2 = nn.BatchNorm2d(planes)\n",
    "        self.conv3 = nn.Conv2d(planes, self.expansion *\n",
    "                               planes, kernel_size=1, bias=False)\n",
    "        self.bn3 = nn.BatchNorm2d(self.expansion*planes)\n",
    "\n",
    "        self.shortcut = nn.Sequential()\n",
    "        if stride != 1 or in_planes != self.expansion*planes:\n",
    "            self.shortcut = nn.Sequential(\n",
    "                nn.Conv2d(in_planes, self.expansion*planes,\n",
    "                          kernel_size=1, stride=stride, bias=False),\n",
    "                nn.BatchNorm2d(self.expansion*planes)\n",
    "            )\n",
    "\n",
    "    def forward(self, x):\n",
    "        out = F.relu(self.bn1(self.conv1(x)))\n",
    "        out = F.relu(self.bn2(self.conv2(out)))\n",
    "        out = self.bn3(self.conv3(out))\n",
    "        out += self.shortcut(x)\n",
    "        out = F.relu(out)\n",
    "        return out\n",
    "\n",
    "\n",
    "class ResNet(nn.Module):\n",
    "    def __init__(self, block, num_blocks, num_classes=10):\n",
    "        super(ResNet, self).__init__()\n",
    "        self.in_planes = 64\n",
    "\n",
    "        self.conv1 = nn.Conv2d(3, 64, kernel_size=3,\n",
    "                               stride=1, padding=1, bias=False)\n",
    "        self.bn1 = nn.BatchNorm2d(64)\n",
    "        self.layer1 = self._make_layer(block, 64, num_blocks[0], stride=1)\n",
    "        self.layer2 = self._make_layer(block, 128, num_blocks[1], stride=2)\n",
    "        self.layer3 = self._make_layer(block, 256, num_blocks[2], stride=2)\n",
    "        self.layer4 = self._make_layer(block, 512, num_blocks[3], stride=2)\n",
    "        self.linear = nn.Linear(512*block.expansion, num_classes)\n",
    "\n",
    "    def _make_layer(self, block, planes, num_blocks, stride):\n",
    "        strides = [stride] + [1]*(num_blocks-1)\n",
    "        layers = []\n",
    "        for stride in strides:\n",
    "            layers.append(block(self.in_planes, planes, stride))\n",
    "            self.in_planes = planes * block.expansion\n",
    "        return nn.Sequential(*layers)\n",
    "\n",
    "    def forward(self, x):\n",
    "        out = F.relu(self.bn1(self.conv1(x)))\n",
    "        out = self.layer1(out)\n",
    "        out = self.layer2(out)\n",
    "        out = self.layer3(out)\n",
    "        out = self.layer4(out)\n",
    "        out = F.avg_pool2d(out, 4)\n",
    "        out = out.view(out.size(0), -1)\n",
    "        out = self.linear(out)\n",
    "        return out\n",
    "\n",
    "\n",
    "def ResNet18():\n",
    "    return ResNet(BasicBlock, [2, 2, 2, 2])\n",
    "\n",
    "\n",
    "def ResNet34():\n",
    "    return ResNet(BasicBlock, [3, 4, 6, 3])\n",
    "\n",
    "\n",
    "def ResNet50():\n",
    "    return ResNet(Bottleneck, [3, 4, 6, 3])\n",
    "\n",
    "\n",
    "def ResNet101():\n",
    "    return ResNet(Bottleneck, [3, 4, 23, 3])\n",
    "\n",
    "\n",
    "def ResNet152():\n",
    "    return ResNet(Bottleneck, [3, 8, 36, 3])\n",
    "\n",
    "\n",
    "def test():\n",
    "    net = ResNet18().cuda()\n",
    "    y = net(torch.randn(1, 3, 32, 32).cuda())\n",
    "    print(y.size())\n",
    "\n",
    "test()"
   ]
  },
  {
   "cell_type": "code",
   "execution_count": 5,
   "id": "186d4f8d-4d88-4555-a15f-eb7d3e09a6aa",
   "metadata": {},
   "outputs": [
    {
     "data": {
      "image/png": "[encoded data removed]",
      "text/plain": [
       "<PIL.Image.Image image mode=RGB size=32x32>"
      ]
     },
     "metadata": {},
     "output_type": "display_data"
    },
    {
     "name": "stdout",
     "output_type": "stream",
     "text": [
      "torch.Size([3, 32, 32])\n"
     ]
    }
   ],
   "source": [
    "batch_size_train = 256\n",
    "batch_size_test = 256\n",
    "batch_size_wm = 64\n",
    "\n",
    "trainset = datasets.ImageFolder('./data/CIFAR10_8020/with_trigger/train/', transform=transform_train)\n",
    "testset = datasets.ImageFolder('./data/CIFAR10_8020/test', transform=transform_test)\n",
    "# valset = datasets.ImageFolder('./data/CIFAR10_8020/with_trigger/val/', transform=transform_test)\n",
    "watermarkset = datasets.ImageFolder('./data/CIFAR10_8020/with_trigger/trigger_random/', transform=transform_test)\n",
    "advwatermarkset = datasets.ImageFolder('./data/CIFAR10_8020/with_trigger/trigger_adv/', transform=transform_test)\n",
    "unrelatedset = watermark_unrelated(count=100)\n",
    "train_watermark_mixset = torch.utils.data.ConcatDataset((trainset,unrelatedset))\n",
    "\n",
    "testloader = torch.utils.data.DataLoader(\n",
    "    testset, batch_size=batch_size_test, shuffle=False, num_workers=8)\n",
    "\n",
    "# valloader = torch.utils.data.DataLoader(\n",
    "#     valset, batch_size=batch_size_test, shuffle=False, num_workers=8)\n",
    "\n",
    "trainloader = torch.utils.data.DataLoader(\n",
    "    trainset, batch_size=batch_size_train, shuffle=True, num_workers=8, drop_last=False)\n",
    "\n",
    "wmloader = torch.utils.data.DataLoader(\n",
    "    watermarkset, batch_size=batch_size_wm, shuffle=True, num_workers=8, drop_last=False)\n",
    "unrelatedloader = torch.utils.data.DataLoader(\n",
    "    unrelatedset, batch_size=batch_size_wm, shuffle=True, num_workers=8, drop_last=False)\n",
    "advwmloader = torch.utils.data.DataLoader(\n",
    "    advwatermarkset, batch_size=batch_size_wm, shuffle=True, num_workers=8, drop_last=False)\n",
    "train_watermark_loader = torch.utils.data.DataLoader(\n",
    "    train_watermark_mixset, batch_size=batch_size_train, shuffle=True, num_workers=8, drop_last=False)"
   ]
  },
  {
   "cell_type": "markdown",
   "id": "a9979c0d-93af-437a-ab68-43ec09aaf9d0",
   "metadata": {},
   "source": [
    "Random Label Uniform Scheme"
   ]
  },
  {
   "cell_type": "code",
   "execution_count": 6,
   "id": "4e0b8ef4-01ea-41aa-9bb0-f39fafb0522e",
   "metadata": {},
   "outputs": [
    {
     "name": "stdout",
     "output_type": "stream",
     "text": [
      "Adjusting learning rate of group 0 to 2.0000e-04.\n",
      "Start Training...\n"
     ]
    },
    {
     "name": "stderr",
     "output_type": "stream",
     "text": [
      "2023-02-23 12:05:10.332665: I tensorflow/core/platform/cpu_feature_guard.cc:193] This TensorFlow binary is optimized with oneAPI Deep Neural Network Library (oneDNN) to use the following CPU instructions in performance-critical operations:  AVX2 AVX_VNNI FMA\n",
      "To enable them in other operations, rebuild TensorFlow with the appropriate compiler flags.\n",
      "2023-02-23 12:05:10.402302: I tensorflow/core/util/util.cc:169] oneDNN custom operations are on. You may see slightly different numerical results due to floating-point round-off errors from different computation orders. To turn them off, set the environment variable `TF_ENABLE_ONEDNN_OPTS=0`.\n",
      "2023-02-23 12:05:10.417082: E tensorflow/stream_executor/cuda/cuda_blas.cc:2981] Unable to register cuBLAS factory: Attempting to register factory for plugin cuBLAS when one has already been registered\n",
      "2023-02-23 12:05:10.684049: W tensorflow/stream_executor/platform/default/dso_loader.cc:64] Could not load dynamic library 'libnvinfer.so.7'; dlerror: libnvinfer.so.7: cannot open shared object file: No such file or directory\n",
      "2023-02-23 12:05:10.684081: W tensorflow/stream_executor/platform/default/dso_loader.cc:64] Could not load dynamic library 'libnvinfer_plugin.so.7'; dlerror: libnvinfer_plugin.so.7: cannot open shared object file: No such file or directory\n",
      "2023-02-23 12:05:10.684088: W tensorflow/compiler/tf2tensorrt/utils/py_utils.cc:38] TF-TRT Warning: Cannot dlopen some TensorRT libraries. If you would like to use Nvidia GPU with TensorRT, please make sure the missing libraries mentioned above are installed properly.\n",
      "100%|█████████████████████████████████████████████████████████████████████████████████| 156/156 [00:10<00:00, 14.28it/s]"
     ]
    },
    {
     "name": "stdout",
     "output_type": "stream",
     "text": [
      "Adjusting learning rate of group 0 to 2.0000e-04.\n"
     ]
    },
    {
     "name": "stderr",
     "output_type": "stream",
     "text": [
      "\n"
     ]
    },
    {
     "name": "stdout",
     "output_type": "stream",
     "text": [
      "Epoch 0 | Time 13s| Train Loss 1.3629 | Train Acc 71.10| Val Loss 0.620 | Val Acc 81.98| Trigger Loss 3.872 | Trigger Acc 2.00\n"
     ]
    },
    {
     "name": "stderr",
     "output_type": "stream",
     "text": [
      "100%|█████████████████████████████████████████████████████████████████████████████████| 156/156 [00:10<00:00, 14.40it/s]"
     ]
    },
    {
     "name": "stdout",
     "output_type": "stream",
     "text": [
      "Adjusting learning rate of group 0 to 2.0000e-04.\n"
     ]
    },
    {
     "name": "stderr",
     "output_type": "stream",
     "text": [
      "\n"
     ]
    },
    {
     "name": "stdout",
     "output_type": "stream",
     "text": [
      "Epoch 1 | Time 27s| Train Loss 1.1133 | Train Acc 71.08| Val Loss 0.636 | Val Acc 81.78| Trigger Loss 3.463 | Trigger Acc 2.00\n"
     ]
    },
    {
     "name": "stderr",
     "output_type": "stream",
     "text": [
      "100%|█████████████████████████████████████████████████████████████████████████████████| 156/156 [00:12<00:00, 12.66it/s]"
     ]
    },
    {
     "name": "stdout",
     "output_type": "stream",
     "text": [
      "Adjusting learning rate of group 0 to 2.0000e-04.\n"
     ]
    },
    {
     "name": "stderr",
     "output_type": "stream",
     "text": [
      "\n"
     ]
    },
    {
     "name": "stdout",
     "output_type": "stream",
     "text": [
      "Epoch 2 | Time 42s| Train Loss 0.7737 | Train Acc 77.30| Val Loss 0.618 | Val Acc 79.28| Trigger Loss 0.653 | Trigger Acc 84.00\n"
     ]
    },
    {
     "name": "stderr",
     "output_type": "stream",
     "text": [
      "100%|█████████████████████████████████████████████████████████████████████████████████| 156/156 [00:09<00:00, 16.91it/s]\n"
     ]
    },
    {
     "name": "stdout",
     "output_type": "stream",
     "text": [
      "Adjusting learning rate of group 0 to 2.0000e-04.\n",
      "Epoch 3 | Time 54s| Train Loss 0.4175 | Train Acc 86.83| Val Loss 0.539 | Val Acc 81.82| Trigger Loss 0.076 | Trigger Acc 100.00\n"
     ]
    },
    {
     "name": "stderr",
     "output_type": "stream",
     "text": [
      "100%|█████████████████████████████████████████████████████████████████████████████████| 156/156 [00:07<00:00, 20.16it/s]\n"
     ]
    },
    {
     "name": "stdout",
     "output_type": "stream",
     "text": [
      "Adjusting learning rate of group 0 to 2.0000e-04.\n",
      "Epoch 4 | Time 64s| Train Loss 0.3345 | Train Acc 88.66| Val Loss 0.539 | Val Acc 81.75| Trigger Loss 0.024 | Trigger Acc 100.00\n"
     ]
    },
    {
     "name": "stderr",
     "output_type": "stream",
     "text": [
      "100%|█████████████████████████████████████████████████████████████████████████████████| 156/156 [00:06<00:00, 22.74it/s]\n"
     ]
    },
    {
     "name": "stdout",
     "output_type": "stream",
     "text": [
      "Adjusting learning rate of group 0 to 2.0000e-04.\n",
      "Epoch 5 | Time 73s| Train Loss 0.3042 | Train Acc 89.46| Val Loss 0.520 | Val Acc 83.12| Trigger Loss 0.010 | Trigger Acc 100.00\n"
     ]
    },
    {
     "name": "stderr",
     "output_type": "stream",
     "text": [
      "100%|█████████████████████████████████████████████████████████████████████████████████| 156/156 [00:11<00:00, 13.32it/s]"
     ]
    },
    {
     "name": "stdout",
     "output_type": "stream",
     "text": [
      "Adjusting learning rate of group 0 to 2.0000e-04.\n"
     ]
    },
    {
     "name": "stderr",
     "output_type": "stream",
     "text": [
      "\n"
     ]
    },
    {
     "name": "stdout",
     "output_type": "stream",
     "text": [
      "Epoch 6 | Time 87s| Train Loss 0.2942 | Train Acc 89.87| Val Loss 0.504 | Val Acc 83.60| Trigger Loss 0.026 | Trigger Acc 100.00\n"
     ]
    },
    {
     "name": "stderr",
     "output_type": "stream",
     "text": [
      "100%|█████████████████████████████████████████████████████████████████████████████████| 156/156 [00:11<00:00, 13.40it/s]"
     ]
    },
    {
     "name": "stdout",
     "output_type": "stream",
     "text": [
      "Adjusting learning rate of group 0 to 2.0000e-04.\n"
     ]
    },
    {
     "name": "stderr",
     "output_type": "stream",
     "text": [
      "\n"
     ]
    },
    {
     "name": "stdout",
     "output_type": "stream",
     "text": [
      "Epoch 7 | Time 101s| Train Loss 0.2898 | Train Acc 90.10| Val Loss 0.509 | Val Acc 83.39| Trigger Loss 0.027 | Trigger Acc 100.00\n"
     ]
    },
    {
     "name": "stderr",
     "output_type": "stream",
     "text": [
      "100%|█████████████████████████████████████████████████████████████████████████████████| 156/156 [00:13<00:00, 11.91it/s]"
     ]
    },
    {
     "name": "stdout",
     "output_type": "stream",
     "text": [
      "Adjusting learning rate of group 0 to 2.0000e-04.\n"
     ]
    },
    {
     "name": "stderr",
     "output_type": "stream",
     "text": [
      "\n"
     ]
    },
    {
     "name": "stdout",
     "output_type": "stream",
     "text": [
      "Epoch 8 | Time 116s| Train Loss 0.3058 | Train Acc 89.73| Val Loss 0.499 | Val Acc 83.51| Trigger Loss 0.051 | Trigger Acc 100.00\n"
     ]
    },
    {
     "name": "stderr",
     "output_type": "stream",
     "text": [
      "100%|█████████████████████████████████████████████████████████████████████████████████| 156/156 [00:09<00:00, 15.88it/s]"
     ]
    },
    {
     "name": "stdout",
     "output_type": "stream",
     "text": [
      "Adjusting learning rate of group 0 to 1.0000e-04.\n"
     ]
    },
    {
     "name": "stderr",
     "output_type": "stream",
     "text": [
      "\n"
     ]
    },
    {
     "name": "stdout",
     "output_type": "stream",
     "text": [
      "Epoch 9 | Time 128s| Train Loss 0.2993 | Train Acc 89.70| Val Loss 0.488 | Val Acc 83.97| Trigger Loss 0.027 | Trigger Acc 100.00\n"
     ]
    },
    {
     "name": "stderr",
     "output_type": "stream",
     "text": [
      "100%|█████████████████████████████████████████████████████████████████████████████████| 156/156 [00:08<00:00, 18.97it/s]"
     ]
    },
    {
     "name": "stdout",
     "output_type": "stream",
     "text": [
      "Adjusting learning rate of group 0 to 1.0000e-04.\n"
     ]
    },
    {
     "name": "stderr",
     "output_type": "stream",
     "text": [
      "\n"
     ]
    },
    {
     "name": "stdout",
     "output_type": "stream",
     "text": [
      "Epoch 10 | Time 139s| Train Loss 0.2750 | Train Acc 90.51| Val Loss 0.497 | Val Acc 83.94| Trigger Loss 0.018 | Trigger Acc 100.00\n"
     ]
    },
    {
     "name": "stderr",
     "output_type": "stream",
     "text": [
      "100%|█████████████████████████████████████████████████████████████████████████████████| 156/156 [00:06<00:00, 22.49it/s]\n"
     ]
    },
    {
     "name": "stdout",
     "output_type": "stream",
     "text": [
      "Adjusting learning rate of group 0 to 1.0000e-04.\n",
      "Epoch 11 | Time 148s| Train Loss 0.2664 | Train Acc 90.74| Val Loss 0.518 | Val Acc 83.47| Trigger Loss 0.008 | Trigger Acc 100.00\n"
     ]
    },
    {
     "name": "stderr",
     "output_type": "stream",
     "text": [
      "100%|█████████████████████████████████████████████████████████████████████████████████| 156/156 [00:11<00:00, 13.20it/s]"
     ]
    },
    {
     "name": "stdout",
     "output_type": "stream",
     "text": [
      "Adjusting learning rate of group 0 to 1.0000e-04.\n"
     ]
    },
    {
     "name": "stderr",
     "output_type": "stream",
     "text": [
      "\n"
     ]
    },
    {
     "name": "stdout",
     "output_type": "stream",
     "text": [
      "Epoch 12 | Time 162s| Train Loss 0.2473 | Train Acc 91.50| Val Loss 0.491 | Val Acc 83.90| Trigger Loss 0.008 | Trigger Acc 100.00\n"
     ]
    },
    {
     "name": "stderr",
     "output_type": "stream",
     "text": [
      "100%|█████████████████████████████████████████████████████████████████████████████████| 156/156 [00:11<00:00, 13.33it/s]"
     ]
    },
    {
     "name": "stdout",
     "output_type": "stream",
     "text": [
      "Adjusting learning rate of group 0 to 1.0000e-04.\n"
     ]
    },
    {
     "name": "stderr",
     "output_type": "stream",
     "text": [
      "\n"
     ]
    },
    {
     "name": "stdout",
     "output_type": "stream",
     "text": [
      "Epoch 13 | Time 176s| Train Loss 0.2467 | Train Acc 91.50| Val Loss 0.491 | Val Acc 83.91| Trigger Loss 0.009 | Trigger Acc 100.00\n"
     ]
    },
    {
     "name": "stderr",
     "output_type": "stream",
     "text": [
      "100%|█████████████████████████████████████████████████████████████████████████████████| 156/156 [00:13<00:00, 11.87it/s]"
     ]
    },
    {
     "name": "stdout",
     "output_type": "stream",
     "text": [
      "Adjusting learning rate of group 0 to 1.0000e-04.\n"
     ]
    },
    {
     "name": "stderr",
     "output_type": "stream",
     "text": [
      "\n"
     ]
    },
    {
     "name": "stdout",
     "output_type": "stream",
     "text": [
      "Epoch 14 | Time 192s| Train Loss 0.2488 | Train Acc 91.39| Val Loss 0.493 | Val Acc 83.99| Trigger Loss 0.016 | Trigger Acc 100.00\n"
     ]
    },
    {
     "name": "stderr",
     "output_type": "stream",
     "text": [
      "100%|█████████████████████████████████████████████████████████████████████████████████| 156/156 [00:09<00:00, 15.83it/s]"
     ]
    },
    {
     "name": "stdout",
     "output_type": "stream",
     "text": [
      "Adjusting learning rate of group 0 to 1.0000e-04.\n"
     ]
    },
    {
     "name": "stderr",
     "output_type": "stream",
     "text": [
      "\n"
     ]
    },
    {
     "name": "stdout",
     "output_type": "stream",
     "text": [
      "Epoch 15 | Time 204s| Train Loss 0.2428 | Train Acc 91.55| Val Loss 0.490 | Val Acc 84.36| Trigger Loss 0.012 | Trigger Acc 100.00\n"
     ]
    },
    {
     "name": "stderr",
     "output_type": "stream",
     "text": [
      "100%|█████████████████████████████████████████████████████████████████████████████████| 156/156 [00:08<00:00, 18.89it/s]"
     ]
    },
    {
     "name": "stdout",
     "output_type": "stream",
     "text": [
      "Adjusting learning rate of group 0 to 1.0000e-04.\n"
     ]
    },
    {
     "name": "stderr",
     "output_type": "stream",
     "text": [
      "\n"
     ]
    },
    {
     "name": "stdout",
     "output_type": "stream",
     "text": [
      "Epoch 16 | Time 214s| Train Loss 0.2545 | Train Acc 91.05| Val Loss 0.493 | Val Acc 83.98| Trigger Loss 0.014 | Trigger Acc 100.00\n"
     ]
    },
    {
     "name": "stderr",
     "output_type": "stream",
     "text": [
      "100%|█████████████████████████████████████████████████████████████████████████████████| 156/156 [00:06<00:00, 22.45it/s]\n"
     ]
    },
    {
     "name": "stdout",
     "output_type": "stream",
     "text": [
      "Adjusting learning rate of group 0 to 1.0000e-04.\n",
      "Epoch 17 | Time 224s| Train Loss 0.2342 | Train Acc 91.87| Val Loss 0.495 | Val Acc 84.49| Trigger Loss 0.006 | Trigger Acc 100.00\n"
     ]
    },
    {
     "name": "stderr",
     "output_type": "stream",
     "text": [
      "100%|█████████████████████████████████████████████████████████████████████████████████| 156/156 [00:11<00:00, 13.20it/s]"
     ]
    },
    {
     "name": "stdout",
     "output_type": "stream",
     "text": [
      "Adjusting learning rate of group 0 to 1.0000e-04.\n"
     ]
    },
    {
     "name": "stderr",
     "output_type": "stream",
     "text": [
      "\n"
     ]
    },
    {
     "name": "stdout",
     "output_type": "stream",
     "text": [
      "Epoch 18 | Time 238s| Train Loss 0.2271 | Train Acc 91.93| Val Loss 0.481 | Val Acc 85.02| Trigger Loss 0.008 | Trigger Acc 100.00\n"
     ]
    },
    {
     "name": "stderr",
     "output_type": "stream",
     "text": [
      "100%|█████████████████████████████████████████████████████████████████████████████████| 156/156 [00:11<00:00, 13.30it/s]"
     ]
    },
    {
     "name": "stdout",
     "output_type": "stream",
     "text": [
      "Adjusting learning rate of group 0 to 5.0000e-05.\n"
     ]
    },
    {
     "name": "stderr",
     "output_type": "stream",
     "text": [
      "\n"
     ]
    },
    {
     "name": "stdout",
     "output_type": "stream",
     "text": [
      "Epoch 19 | Time 252s| Train Loss 0.2229 | Train Acc 92.33| Val Loss 0.482 | Val Acc 84.82| Trigger Loss 0.009 | Trigger Acc 100.00\n"
     ]
    },
    {
     "name": "stderr",
     "output_type": "stream",
     "text": [
      "100%|█████████████████████████████████████████████████████████████████████████████████| 156/156 [00:13<00:00, 11.86it/s]"
     ]
    },
    {
     "name": "stdout",
     "output_type": "stream",
     "text": [
      "Adjusting learning rate of group 0 to 5.0000e-05.\n"
     ]
    },
    {
     "name": "stderr",
     "output_type": "stream",
     "text": [
      "\n"
     ]
    },
    {
     "name": "stdout",
     "output_type": "stream",
     "text": [
      "Epoch 20 | Time 267s| Train Loss 0.2200 | Train Acc 92.30| Val Loss 0.468 | Val Acc 85.48| Trigger Loss 0.009 | Trigger Acc 100.00\n"
     ]
    },
    {
     "name": "stderr",
     "output_type": "stream",
     "text": [
      "100%|█████████████████████████████████████████████████████████████████████████████████| 156/156 [00:09<00:00, 15.78it/s]"
     ]
    },
    {
     "name": "stdout",
     "output_type": "stream",
     "text": [
      "Adjusting learning rate of group 0 to 5.0000e-05.\n"
     ]
    },
    {
     "name": "stderr",
     "output_type": "stream",
     "text": [
      "\n"
     ]
    },
    {
     "name": "stdout",
     "output_type": "stream",
     "text": [
      "Epoch 21 | Time 280s| Train Loss 0.2112 | Train Acc 92.68| Val Loss 0.477 | Val Acc 85.26| Trigger Loss 0.005 | Trigger Acc 100.00\n"
     ]
    },
    {
     "name": "stderr",
     "output_type": "stream",
     "text": [
      "100%|█████████████████████████████████████████████████████████████████████████████████| 156/156 [00:08<00:00, 18.83it/s]"
     ]
    },
    {
     "name": "stdout",
     "output_type": "stream",
     "text": [
      "Adjusting learning rate of group 0 to 5.0000e-05.\n"
     ]
    },
    {
     "name": "stderr",
     "output_type": "stream",
     "text": [
      "\n"
     ]
    },
    {
     "name": "stdout",
     "output_type": "stream",
     "text": [
      "Epoch 22 | Time 290s| Train Loss 0.2133 | Train Acc 92.52| Val Loss 0.470 | Val Acc 85.12| Trigger Loss 0.005 | Trigger Acc 100.00\n"
     ]
    },
    {
     "name": "stderr",
     "output_type": "stream",
     "text": [
      "100%|█████████████████████████████████████████████████████████████████████████████████| 156/156 [00:06<00:00, 22.34it/s]\n"
     ]
    },
    {
     "name": "stdout",
     "output_type": "stream",
     "text": [
      "Adjusting learning rate of group 0 to 5.0000e-05.\n",
      "Epoch 23 | Time 299s| Train Loss 0.1970 | Train Acc 93.12| Val Loss 0.475 | Val Acc 85.54| Trigger Loss 0.002 | Trigger Acc 100.00\n"
     ]
    },
    {
     "name": "stderr",
     "output_type": "stream",
     "text": [
      "100%|█████████████████████████████████████████████████████████████████████████████████| 156/156 [00:11<00:00, 13.14it/s]"
     ]
    },
    {
     "name": "stdout",
     "output_type": "stream",
     "text": [
      "Adjusting learning rate of group 0 to 5.0000e-05.\n"
     ]
    },
    {
     "name": "stderr",
     "output_type": "stream",
     "text": [
      "\n"
     ]
    },
    {
     "name": "stdout",
     "output_type": "stream",
     "text": [
      "Epoch 24 | Time 314s| Train Loss 0.1896 | Train Acc 93.47| Val Loss 0.482 | Val Acc 85.56| Trigger Loss 0.003 | Trigger Acc 100.00\n"
     ]
    },
    {
     "name": "stderr",
     "output_type": "stream",
     "text": [
      "100%|█████████████████████████████████████████████████████████████████████████████████| 156/156 [00:11<00:00, 13.29it/s]"
     ]
    },
    {
     "name": "stdout",
     "output_type": "stream",
     "text": [
      "Adjusting learning rate of group 0 to 5.0000e-05.\n"
     ]
    },
    {
     "name": "stderr",
     "output_type": "stream",
     "text": [
      "\n"
     ]
    },
    {
     "name": "stdout",
     "output_type": "stream",
     "text": [
      "Epoch 25 | Time 328s| Train Loss 0.1873 | Train Acc 93.54| Val Loss 0.480 | Val Acc 85.33| Trigger Loss 0.002 | Trigger Acc 100.00\n"
     ]
    },
    {
     "name": "stderr",
     "output_type": "stream",
     "text": [
      "100%|█████████████████████████████████████████████████████████████████████████████████| 156/156 [00:13<00:00, 11.82it/s]"
     ]
    },
    {
     "name": "stdout",
     "output_type": "stream",
     "text": [
      "Adjusting learning rate of group 0 to 5.0000e-05.\n"
     ]
    },
    {
     "name": "stderr",
     "output_type": "stream",
     "text": [
      "\n"
     ]
    },
    {
     "name": "stdout",
     "output_type": "stream",
     "text": [
      "Epoch 26 | Time 343s| Train Loss 0.1915 | Train Acc 93.27| Val Loss 0.474 | Val Acc 85.85| Trigger Loss 0.004 | Trigger Acc 100.00\n"
     ]
    },
    {
     "name": "stderr",
     "output_type": "stream",
     "text": [
      "100%|█████████████████████████████████████████████████████████████████████████████████| 156/156 [00:09<00:00, 15.75it/s]"
     ]
    },
    {
     "name": "stdout",
     "output_type": "stream",
     "text": [
      "Adjusting learning rate of group 0 to 5.0000e-05.\n"
     ]
    },
    {
     "name": "stderr",
     "output_type": "stream",
     "text": [
      "\n"
     ]
    },
    {
     "name": "stdout",
     "output_type": "stream",
     "text": [
      "Epoch 27 | Time 355s| Train Loss 0.1876 | Train Acc 93.48| Val Loss 0.474 | Val Acc 85.77| Trigger Loss 0.004 | Trigger Acc 100.00\n"
     ]
    },
    {
     "name": "stderr",
     "output_type": "stream",
     "text": [
      "100%|█████████████████████████████████████████████████████████████████████████████████| 156/156 [00:08<00:00, 18.82it/s]"
     ]
    },
    {
     "name": "stdout",
     "output_type": "stream",
     "text": [
      "Adjusting learning rate of group 0 to 5.0000e-05.\n"
     ]
    },
    {
     "name": "stderr",
     "output_type": "stream",
     "text": [
      "\n"
     ]
    },
    {
     "name": "stdout",
     "output_type": "stream",
     "text": [
      "Epoch 28 | Time 366s| Train Loss 0.1931 | Train Acc 93.31| Val Loss 0.476 | Val Acc 85.51| Trigger Loss 0.004 | Trigger Acc 100.00\n"
     ]
    },
    {
     "name": "stderr",
     "output_type": "stream",
     "text": [
      "100%|█████████████████████████████████████████████████████████████████████████████████| 156/156 [00:06<00:00, 22.36it/s]\n"
     ]
    },
    {
     "name": "stdout",
     "output_type": "stream",
     "text": [
      "Adjusting learning rate of group 0 to 2.5000e-05.\n",
      "Epoch 29 | Time 375s| Train Loss 0.1780 | Train Acc 93.78| Val Loss 0.489 | Val Acc 85.97| Trigger Loss 0.003 | Trigger Acc 100.00\n"
     ]
    },
    {
     "name": "stderr",
     "output_type": "stream",
     "text": [
      "100%|█████████████████████████████████████████████████████████████████████████████████| 156/156 [00:11<00:00, 13.15it/s]"
     ]
    },
    {
     "name": "stdout",
     "output_type": "stream",
     "text": [
      "Adjusting learning rate of group 0 to 2.5000e-05.\n"
     ]
    },
    {
     "name": "stderr",
     "output_type": "stream",
     "text": [
      "\n"
     ]
    },
    {
     "name": "stdout",
     "output_type": "stream",
     "text": [
      "Epoch 30 | Time 390s| Train Loss 0.1708 | Train Acc 94.02| Val Loss 0.493 | Val Acc 85.84| Trigger Loss 0.002 | Trigger Acc 100.00\n"
     ]
    },
    {
     "name": "stderr",
     "output_type": "stream",
     "text": [
      "100%|█████████████████████████████████████████████████████████████████████████████████| 156/156 [00:11<00:00, 13.29it/s]"
     ]
    },
    {
     "name": "stdout",
     "output_type": "stream",
     "text": [
      "Adjusting learning rate of group 0 to 2.5000e-05.\n"
     ]
    },
    {
     "name": "stderr",
     "output_type": "stream",
     "text": [
      "\n"
     ]
    },
    {
     "name": "stdout",
     "output_type": "stream",
     "text": [
      "Epoch 31 | Time 404s| Train Loss 0.1677 | Train Acc 94.23| Val Loss 0.492 | Val Acc 85.85| Trigger Loss 0.002 | Trigger Acc 100.00\n"
     ]
    },
    {
     "name": "stderr",
     "output_type": "stream",
     "text": [
      "100%|█████████████████████████████████████████████████████████████████████████████████| 156/156 [00:13<00:00, 11.83it/s]"
     ]
    },
    {
     "name": "stdout",
     "output_type": "stream",
     "text": [
      "Adjusting learning rate of group 0 to 2.5000e-05.\n"
     ]
    },
    {
     "name": "stderr",
     "output_type": "stream",
     "text": [
      "\n"
     ]
    },
    {
     "name": "stdout",
     "output_type": "stream",
     "text": [
      "Epoch 32 | Time 419s| Train Loss 0.1666 | Train Acc 94.20| Val Loss 0.485 | Val Acc 85.94| Trigger Loss 0.003 | Trigger Acc 100.00\n"
     ]
    },
    {
     "name": "stderr",
     "output_type": "stream",
     "text": [
      "100%|█████████████████████████████████████████████████████████████████████████████████| 156/156 [00:09<00:00, 15.75it/s]"
     ]
    },
    {
     "name": "stdout",
     "output_type": "stream",
     "text": [
      "Adjusting learning rate of group 0 to 2.5000e-05.\n"
     ]
    },
    {
     "name": "stderr",
     "output_type": "stream",
     "text": [
      "\n"
     ]
    },
    {
     "name": "stdout",
     "output_type": "stream",
     "text": [
      "Epoch 33 | Time 431s| Train Loss 0.1638 | Train Acc 94.33| Val Loss 0.483 | Val Acc 85.98| Trigger Loss 0.002 | Trigger Acc 100.00\n"
     ]
    },
    {
     "name": "stderr",
     "output_type": "stream",
     "text": [
      "100%|██████████████████████████████████████████████████████████████████████████████████████████████████████████████████████████████████████████████████████████████████████████████████████████████████████| 156/156 [00:08<00:00, 18.77it/s]"
     ]
    },
    {
     "name": "stdout",
     "output_type": "stream",
     "text": [
      "Adjusting learning rate of group 0 to 2.5000e-05.\n"
     ]
    },
    {
     "name": "stderr",
     "output_type": "stream",
     "text": [
      "\n"
     ]
    },
    {
     "name": "stdout",
     "output_type": "stream",
     "text": [
      "Epoch 34 | Time 442s| Train Loss 0.1634 | Train Acc 94.33| Val Loss 0.482 | Val Acc 85.92| Trigger Loss 0.002 | Trigger Acc 100.00\n"
     ]
    },
    {
     "name": "stderr",
     "output_type": "stream",
     "text": [
      "100%|██████████████████████████████████████████████████████████████████████████████████████████████████████████████████████████████████████████████████████████████████████████████████████████████████████| 156/156 [00:06<00:00, 22.30it/s]\n"
     ]
    },
    {
     "name": "stdout",
     "output_type": "stream",
     "text": [
      "Adjusting learning rate of group 0 to 2.5000e-05.\n",
      "Epoch 35 | Time 451s| Train Loss 0.1567 | Train Acc 94.61| Val Loss 0.492 | Val Acc 85.93| Trigger Loss 0.002 | Trigger Acc 100.00\n"
     ]
    },
    {
     "name": "stderr",
     "output_type": "stream",
     "text": [
      "100%|██████████████████████████████████████████████████████████████████████████████████████████████████████████████████████████████████████████████████████████████████████████████████████████████████████| 156/156 [00:11<00:00, 13.17it/s]"
     ]
    },
    {
     "name": "stdout",
     "output_type": "stream",
     "text": [
      "Adjusting learning rate of group 0 to 2.5000e-05.\n"
     ]
    },
    {
     "name": "stderr",
     "output_type": "stream",
     "text": [
      "\n"
     ]
    },
    {
     "name": "stdout",
     "output_type": "stream",
     "text": [
      "Epoch 36 | Time 466s| Train Loss 0.1476 | Train Acc 94.95| Val Loss 0.491 | Val Acc 86.04| Trigger Loss 0.002 | Trigger Acc 100.00\n"
     ]
    },
    {
     "name": "stderr",
     "output_type": "stream",
     "text": [
      "100%|██████████████████████████████████████████████████████████████████████████████████████████████████████████████████████████████████████████████████████████████████████████████████████████████████████| 156/156 [00:11<00:00, 13.25it/s]"
     ]
    },
    {
     "name": "stdout",
     "output_type": "stream",
     "text": [
      "Adjusting learning rate of group 0 to 2.5000e-05.\n"
     ]
    },
    {
     "name": "stderr",
     "output_type": "stream",
     "text": [
      "\n"
     ]
    },
    {
     "name": "stdout",
     "output_type": "stream",
     "text": [
      "Epoch 37 | Time 480s| Train Loss 0.1478 | Train Acc 94.86| Val Loss 0.493 | Val Acc 86.12| Trigger Loss 0.001 | Trigger Acc 100.00\n"
     ]
    },
    {
     "name": "stderr",
     "output_type": "stream",
     "text": [
      "100%|██████████████████████████████████████████████████████████████████████████████████████████████████████████████████████████████████████████████████████████████████████████████████████████████████████| 156/156 [00:13<00:00, 11.82it/s]"
     ]
    },
    {
     "name": "stdout",
     "output_type": "stream",
     "text": [
      "Adjusting learning rate of group 0 to 2.5000e-05.\n"
     ]
    },
    {
     "name": "stderr",
     "output_type": "stream",
     "text": [
      "\n"
     ]
    },
    {
     "name": "stdout",
     "output_type": "stream",
     "text": [
      "Epoch 38 | Time 495s| Train Loss 0.1500 | Train Acc 94.78| Val Loss 0.496 | Val Acc 85.88| Trigger Loss 0.002 | Trigger Acc 100.00\n"
     ]
    },
    {
     "name": "stderr",
     "output_type": "stream",
     "text": [
      "100%|██████████████████████████████████████████████████████████████████████████████████████████████████████████████████████████████████████████████████████████████████████████████████████████████████████| 156/156 [00:09<00:00, 15.74it/s]"
     ]
    },
    {
     "name": "stdout",
     "output_type": "stream",
     "text": [
      "Adjusting learning rate of group 0 to 1.2500e-05.\n"
     ]
    },
    {
     "name": "stderr",
     "output_type": "stream",
     "text": [
      "\n"
     ]
    },
    {
     "name": "stdout",
     "output_type": "stream",
     "text": [
      "Epoch 39 | Time 507s| Train Loss 0.1478 | Train Acc 94.88| Val Loss 0.492 | Val Acc 85.77| Trigger Loss 0.002 | Trigger Acc 100.00\n"
     ]
    },
    {
     "name": "stderr",
     "output_type": "stream",
     "text": [
      "100%|██████████████████████████████████████████████████████████████████████████████████████████████████████████████████████████████████████████████████████████████████████████████████████████████████████| 156/156 [00:08<00:00, 18.78it/s]"
     ]
    },
    {
     "name": "stdout",
     "output_type": "stream",
     "text": [
      "Adjusting learning rate of group 0 to 1.2500e-05.\n"
     ]
    },
    {
     "name": "stderr",
     "output_type": "stream",
     "text": [
      "\n"
     ]
    },
    {
     "name": "stdout",
     "output_type": "stream",
     "text": [
      "Epoch 40 | Time 518s| Train Loss 0.1478 | Train Acc 94.88| Val Loss 0.493 | Val Acc 85.80| Trigger Loss 0.002 | Trigger Acc 100.00\n"
     ]
    },
    {
     "name": "stderr",
     "output_type": "stream",
     "text": [
      "100%|██████████████████████████████████████████████████████████████████████████████████████████████████████████████████████████████████████████████████████████████████████████████████████████████████████| 156/156 [00:07<00:00, 22.25it/s]\n"
     ]
    },
    {
     "name": "stdout",
     "output_type": "stream",
     "text": [
      "Adjusting learning rate of group 0 to 1.2500e-05.\n",
      "Epoch 41 | Time 527s| Train Loss 0.1418 | Train Acc 95.16| Val Loss 0.494 | Val Acc 85.81| Trigger Loss 0.001 | Trigger Acc 100.00\n"
     ]
    },
    {
     "name": "stderr",
     "output_type": "stream",
     "text": [
      "100%|██████████████████████████████████████████████████████████████████████████████████████████████████████████████████████████████████████████████████████████████████████████████████████████████████████| 156/156 [00:11<00:00, 13.14it/s]"
     ]
    },
    {
     "name": "stdout",
     "output_type": "stream",
     "text": [
      "Adjusting learning rate of group 0 to 1.2500e-05.\n"
     ]
    },
    {
     "name": "stderr",
     "output_type": "stream",
     "text": [
      "\n"
     ]
    },
    {
     "name": "stdout",
     "output_type": "stream",
     "text": [
      "Epoch 42 | Time 541s| Train Loss 0.1391 | Train Acc 95.13| Val Loss 0.496 | Val Acc 86.00| Trigger Loss 0.001 | Trigger Acc 100.00\n"
     ]
    },
    {
     "name": "stderr",
     "output_type": "stream",
     "text": [
      "100%|██████████████████████████████████████████████████████████████████████████████████████████████████████████████████████████████████████████████████████████████████████████████████████████████████████| 156/156 [00:11<00:00, 13.26it/s]"
     ]
    },
    {
     "name": "stdout",
     "output_type": "stream",
     "text": [
      "Adjusting learning rate of group 0 to 1.2500e-05.\n"
     ]
    },
    {
     "name": "stderr",
     "output_type": "stream",
     "text": [
      "\n"
     ]
    },
    {
     "name": "stdout",
     "output_type": "stream",
     "text": [
      "Epoch 43 | Time 556s| Train Loss 0.1374 | Train Acc 95.30| Val Loss 0.497 | Val Acc 85.87| Trigger Loss 0.001 | Trigger Acc 100.00\n"
     ]
    },
    {
     "name": "stderr",
     "output_type": "stream",
     "text": [
      "100%|██████████████████████████████████████████████████████████████████████████████████████████████████████████████████████████████████████████████████████████████████████████████████████████████████████| 156/156 [00:13<00:00, 11.80it/s]"
     ]
    },
    {
     "name": "stdout",
     "output_type": "stream",
     "text": [
      "Adjusting learning rate of group 0 to 1.2500e-05.\n"
     ]
    },
    {
     "name": "stderr",
     "output_type": "stream",
     "text": [
      "\n"
     ]
    },
    {
     "name": "stdout",
     "output_type": "stream",
     "text": [
      "Epoch 44 | Time 571s| Train Loss 0.1355 | Train Acc 95.32| Val Loss 0.496 | Val Acc 86.14| Trigger Loss 0.001 | Trigger Acc 100.00\n"
     ]
    },
    {
     "name": "stderr",
     "output_type": "stream",
     "text": [
      "100%|██████████████████████████████████████████████████████████████████████████████████████████████████████████████████████████████████████████████████████████████████████████████████████████████████████| 156/156 [00:09<00:00, 15.74it/s]"
     ]
    },
    {
     "name": "stdout",
     "output_type": "stream",
     "text": [
      "Adjusting learning rate of group 0 to 1.2500e-05.\n"
     ]
    },
    {
     "name": "stderr",
     "output_type": "stream",
     "text": [
      "\n"
     ]
    },
    {
     "name": "stdout",
     "output_type": "stream",
     "text": [
      "Epoch 45 | Time 583s| Train Loss 0.1340 | Train Acc 95.36| Val Loss 0.499 | Val Acc 85.96| Trigger Loss 0.001 | Trigger Acc 100.00\n"
     ]
    },
    {
     "name": "stderr",
     "output_type": "stream",
     "text": [
      "100%|██████████████████████████████████████████████████████████████████████████████████████████████████████████████████████████████████████████████████████████████████████████████████████████████████████| 156/156 [00:08<00:00, 18.83it/s]"
     ]
    },
    {
     "name": "stdout",
     "output_type": "stream",
     "text": [
      "Adjusting learning rate of group 0 to 1.2500e-05.\n"
     ]
    },
    {
     "name": "stderr",
     "output_type": "stream",
     "text": [
      "\n"
     ]
    },
    {
     "name": "stdout",
     "output_type": "stream",
     "text": [
      "Epoch 46 | Time 594s| Train Loss 0.1378 | Train Acc 95.29| Val Loss 0.503 | Val Acc 85.89| Trigger Loss 0.001 | Trigger Acc 100.00\n"
     ]
    },
    {
     "name": "stderr",
     "output_type": "stream",
     "text": [
      "100%|██████████████████████████████████████████████████████████████████████████████████████████████████████████████████████████████████████████████████████████████████████████████████████████████████████| 156/156 [00:07<00:00, 22.23it/s]"
     ]
    },
    {
     "name": "stdout",
     "output_type": "stream",
     "text": [
      "Adjusting learning rate of group 0 to 1.2500e-05.\n"
     ]
    },
    {
     "name": "stderr",
     "output_type": "stream",
     "text": [
      "\n"
     ]
    },
    {
     "name": "stdout",
     "output_type": "stream",
     "text": [
      "Epoch 47 | Time 603s| Train Loss 0.1320 | Train Acc 95.51| Val Loss 0.501 | Val Acc 85.96| Trigger Loss 0.001 | Trigger Acc 100.00\n"
     ]
    },
    {
     "name": "stderr",
     "output_type": "stream",
     "text": [
      "100%|██████████████████████████████████████████████████████████████████████████████████████████████████████████████████████████████████████████████████████████████████████████████████████████████████████| 156/156 [00:11<00:00, 13.14it/s]"
     ]
    },
    {
     "name": "stdout",
     "output_type": "stream",
     "text": [
      "Adjusting learning rate of group 0 to 1.2500e-05.\n"
     ]
    },
    {
     "name": "stderr",
     "output_type": "stream",
     "text": [
      "\n"
     ]
    },
    {
     "name": "stdout",
     "output_type": "stream",
     "text": [
      "Epoch 48 | Time 618s| Train Loss 0.1283 | Train Acc 95.50| Val Loss 0.502 | Val Acc 86.08| Trigger Loss 0.001 | Trigger Acc 100.00\n"
     ]
    },
    {
     "name": "stderr",
     "output_type": "stream",
     "text": [
      "100%|██████████████████████████████████████████████████████████████████████████████████████████████████████████████████████████████████████████████████████████████████████████████████████████████████████| 156/156 [00:11<00:00, 13.25it/s]"
     ]
    },
    {
     "name": "stdout",
     "output_type": "stream",
     "text": [
      "Adjusting learning rate of group 0 to 6.2500e-06.\n"
     ]
    },
    {
     "name": "stderr",
     "output_type": "stream",
     "text": [
      "\n"
     ]
    },
    {
     "name": "stdout",
     "output_type": "stream",
     "text": [
      "Epoch 49 | Time 632s| Train Loss 0.1299 | Train Acc 95.47| Val Loss 0.501 | Val Acc 86.07| Trigger Loss 0.001 | Trigger Acc 100.00\n"
     ]
    },
    {
     "name": "stderr",
     "output_type": "stream",
     "text": [
      "100%|██████████████████████████████████████████████████████████████████████████████████████████████████████████████████████████████████████████████████████████████████████████████████████████████████████| 156/156 [00:13<00:00, 11.78it/s]"
     ]
    },
    {
     "name": "stdout",
     "output_type": "stream",
     "text": [
      "Adjusting learning rate of group 0 to 6.2500e-06.\n"
     ]
    },
    {
     "name": "stderr",
     "output_type": "stream",
     "text": [
      "\n"
     ]
    },
    {
     "name": "stdout",
     "output_type": "stream",
     "text": [
      "Epoch 50 | Time 647s| Train Loss 0.1291 | Train Acc 95.56| Val Loss 0.503 | Val Acc 86.06| Trigger Loss 0.001 | Trigger Acc 100.00\n"
     ]
    },
    {
     "name": "stderr",
     "output_type": "stream",
     "text": [
      "100%|██████████████████████████████████████████████████████████████████████████████████████████████████████████████████████████████████████████████████████████████████████████████████████████████████████| 156/156 [00:09<00:00, 15.72it/s]\n"
     ]
    },
    {
     "name": "stdout",
     "output_type": "stream",
     "text": [
      "Adjusting learning rate of group 0 to 6.2500e-06.\n",
      "Epoch 51 | Time 660s| Train Loss 0.1279 | Train Acc 95.61| Val Loss 0.499 | Val Acc 86.10| Trigger Loss 0.001 | Trigger Acc 100.00\n"
     ]
    },
    {
     "name": "stderr",
     "output_type": "stream",
     "text": [
      "100%|██████████████████████████████████████████████████████████████████████████████████████████████████████████████████████████████████████████████████████████████████████████████████████████████████████| 156/156 [00:08<00:00, 18.81it/s]"
     ]
    },
    {
     "name": "stdout",
     "output_type": "stream",
     "text": [
      "Adjusting learning rate of group 0 to 6.2500e-06.\n"
     ]
    },
    {
     "name": "stderr",
     "output_type": "stream",
     "text": [
      "\n"
     ]
    },
    {
     "name": "stdout",
     "output_type": "stream",
     "text": [
      "Epoch 52 | Time 670s| Train Loss 0.1286 | Train Acc 95.56| Val Loss 0.500 | Val Acc 86.22| Trigger Loss 0.001 | Trigger Acc 100.00\n"
     ]
    },
    {
     "name": "stderr",
     "output_type": "stream",
     "text": [
      "100%|██████████████████████████████████████████████████████████████████████████████████████████████████████████████████████████████████████████████████████████████████████████████████████████████████████| 156/156 [00:06<00:00, 22.34it/s]\n"
     ]
    },
    {
     "name": "stdout",
     "output_type": "stream",
     "text": [
      "Adjusting learning rate of group 0 to 6.2500e-06.\n",
      "Epoch 53 | Time 680s| Train Loss 0.1238 | Train Acc 95.75| Val Loss 0.505 | Val Acc 86.03| Trigger Loss 0.001 | Trigger Acc 100.00\n"
     ]
    },
    {
     "name": "stderr",
     "output_type": "stream",
     "text": [
      "100%|██████████████████████████████████████████████████████████████████████████████████████████████████████████████████████████████████████████████████████████████████████████████████████████████████████| 156/156 [00:11<00:00, 13.14it/s]"
     ]
    },
    {
     "name": "stdout",
     "output_type": "stream",
     "text": [
      "Adjusting learning rate of group 0 to 6.2500e-06.\n"
     ]
    },
    {
     "name": "stderr",
     "output_type": "stream",
     "text": [
      "\n"
     ]
    },
    {
     "name": "stdout",
     "output_type": "stream",
     "text": [
      "Epoch 54 | Time 694s| Train Loss 0.1221 | Train Acc 95.92| Val Loss 0.504 | Val Acc 85.94| Trigger Loss 0.001 | Trigger Acc 100.00\n"
     ]
    },
    {
     "name": "stderr",
     "output_type": "stream",
     "text": [
      "100%|██████████████████████████████████████████████████████████████████████████████████████████████████████████████████████████████████████████████████████████████████████████████████████████████████████| 156/156 [00:11<00:00, 13.27it/s]"
     ]
    },
    {
     "name": "stdout",
     "output_type": "stream",
     "text": [
      "Adjusting learning rate of group 0 to 6.2500e-06.\n"
     ]
    },
    {
     "name": "stderr",
     "output_type": "stream",
     "text": [
      "\n"
     ]
    },
    {
     "name": "stdout",
     "output_type": "stream",
     "text": [
      "Epoch 55 | Time 708s| Train Loss 0.1240 | Train Acc 95.71| Val Loss 0.505 | Val Acc 86.05| Trigger Loss 0.001 | Trigger Acc 100.00\n"
     ]
    },
    {
     "name": "stderr",
     "output_type": "stream",
     "text": [
      "100%|██████████████████████████████████████████████████████████████████████████████████████████████████████████████████████████████████████████████████████████████████████████████████████████████████████| 156/156 [00:13<00:00, 11.82it/s]"
     ]
    },
    {
     "name": "stdout",
     "output_type": "stream",
     "text": [
      "Adjusting learning rate of group 0 to 6.2500e-06.\n"
     ]
    },
    {
     "name": "stderr",
     "output_type": "stream",
     "text": [
      "\n"
     ]
    },
    {
     "name": "stdout",
     "output_type": "stream",
     "text": [
      "Epoch 56 | Time 723s| Train Loss 0.1249 | Train Acc 95.69| Val Loss 0.504 | Val Acc 86.04| Trigger Loss 0.001 | Trigger Acc 100.00\n"
     ]
    },
    {
     "name": "stderr",
     "output_type": "stream",
     "text": [
      "100%|██████████████████████████████████████████████████████████████████████████████████████████████████████████████████████████████████████████████████████████████████████████████████████████████████████| 156/156 [00:09<00:00, 15.74it/s]\n"
     ]
    },
    {
     "name": "stdout",
     "output_type": "stream",
     "text": [
      "Adjusting learning rate of group 0 to 6.2500e-06.\n",
      "Epoch 57 | Time 736s| Train Loss 0.1253 | Train Acc 95.55| Val Loss 0.503 | Val Acc 86.01| Trigger Loss 0.001 | Trigger Acc 100.00\n"
     ]
    },
    {
     "name": "stderr",
     "output_type": "stream",
     "text": [
      "100%|██████████████████████████████████████████████████████████████████████████████████████████████████████████████████████████████████████████████████████████████████████████████████████████████████████| 156/156 [00:08<00:00, 18.79it/s]"
     ]
    },
    {
     "name": "stdout",
     "output_type": "stream",
     "text": [
      "Adjusting learning rate of group 0 to 6.2500e-06.\n"
     ]
    },
    {
     "name": "stderr",
     "output_type": "stream",
     "text": [
      "\n"
     ]
    },
    {
     "name": "stdout",
     "output_type": "stream",
     "text": [
      "Epoch 58 | Time 746s| Train Loss 0.1258 | Train Acc 95.68| Val Loss 0.505 | Val Acc 86.06| Trigger Loss 0.001 | Trigger Acc 100.00\n"
     ]
    },
    {
     "name": "stderr",
     "output_type": "stream",
     "text": [
      "100%|██████████████████████████████████████████████████████████████████████████████████████████████████████████████████████████████████████████████████████████████████████████████████████████████████████| 156/156 [00:07<00:00, 22.27it/s]\n"
     ]
    },
    {
     "name": "stdout",
     "output_type": "stream",
     "text": [
      "Adjusting learning rate of group 0 to 3.1250e-06.\n",
      "Epoch 59 | Time 756s| Train Loss 0.1233 | Train Acc 95.80| Val Loss 0.507 | Val Acc 86.04| Trigger Loss 0.001 | Trigger Acc 100.00\n"
     ]
    },
    {
     "name": "stderr",
     "output_type": "stream",
     "text": [
      "100%|██████████████████████████████████████████████████████████████████████████████████████████████████████████████████████████████████████████████████████████████████████████████████████████████████████| 156/156 [00:11<00:00, 13.14it/s]"
     ]
    },
    {
     "name": "stdout",
     "output_type": "stream",
     "text": [
      "Adjusting learning rate of group 0 to 3.1250e-06.\n"
     ]
    },
    {
     "name": "stderr",
     "output_type": "stream",
     "text": [
      "\n"
     ]
    },
    {
     "name": "stdout",
     "output_type": "stream",
     "text": [
      "Epoch 60 | Time 770s| Train Loss 0.1198 | Train Acc 95.88| Val Loss 0.505 | Val Acc 86.25| Trigger Loss 0.001 | Trigger Acc 100.00\n"
     ]
    },
    {
     "name": "stderr",
     "output_type": "stream",
     "text": [
      "100%|██████████████████████████████████████████████████████████████████████████████████████████████████████████████████████████████████████████████████████████████████████████████████████████████████████| 156/156 [00:11<00:00, 13.26it/s]"
     ]
    },
    {
     "name": "stdout",
     "output_type": "stream",
     "text": [
      "Adjusting learning rate of group 0 to 3.1250e-06.\n"
     ]
    },
    {
     "name": "stderr",
     "output_type": "stream",
     "text": [
      "\n"
     ]
    },
    {
     "name": "stdout",
     "output_type": "stream",
     "text": [
      "Epoch 61 | Time 784s| Train Loss 0.1218 | Train Acc 95.86| Val Loss 0.505 | Val Acc 86.17| Trigger Loss 0.001 | Trigger Acc 100.00\n"
     ]
    },
    {
     "name": "stderr",
     "output_type": "stream",
     "text": [
      "100%|██████████████████████████████████████████████████████████████████████████████████████████████████████████████████████████████████████████████████████████████████████████████████████████████████████| 156/156 [00:13<00:00, 11.83it/s]"
     ]
    },
    {
     "name": "stdout",
     "output_type": "stream",
     "text": [
      "Adjusting learning rate of group 0 to 3.1250e-06.\n"
     ]
    },
    {
     "name": "stderr",
     "output_type": "stream",
     "text": [
      "\n"
     ]
    },
    {
     "name": "stdout",
     "output_type": "stream",
     "text": [
      "Epoch 62 | Time 799s| Train Loss 0.1188 | Train Acc 95.96| Val Loss 0.504 | Val Acc 86.16| Trigger Loss 0.001 | Trigger Acc 100.00\n"
     ]
    },
    {
     "name": "stderr",
     "output_type": "stream",
     "text": [
      "100%|██████████████████████████████████████████████████████████████████████████████████████████████████████████████████████████████████████████████████████████████████████████████████████████████████████| 156/156 [00:09<00:00, 15.74it/s]"
     ]
    },
    {
     "name": "stdout",
     "output_type": "stream",
     "text": [
      "Adjusting learning rate of group 0 to 3.1250e-06.\n"
     ]
    },
    {
     "name": "stderr",
     "output_type": "stream",
     "text": [
      "\n"
     ]
    },
    {
     "name": "stdout",
     "output_type": "stream",
     "text": [
      "Epoch 63 | Time 812s| Train Loss 0.1184 | Train Acc 95.89| Val Loss 0.507 | Val Acc 86.01| Trigger Loss 0.001 | Trigger Acc 100.00\n"
     ]
    },
    {
     "name": "stderr",
     "output_type": "stream",
     "text": [
      "100%|██████████████████████████████████████████████████████████████████████████████████████████████████████████████████████████████████████████████████████████████████████████████████████████████████████| 156/156 [00:08<00:00, 18.74it/s]"
     ]
    },
    {
     "name": "stdout",
     "output_type": "stream",
     "text": [
      "Adjusting learning rate of group 0 to 3.1250e-06.\n"
     ]
    },
    {
     "name": "stderr",
     "output_type": "stream",
     "text": [
      "\n"
     ]
    },
    {
     "name": "stdout",
     "output_type": "stream",
     "text": [
      "Epoch 64 | Time 822s| Train Loss 0.1201 | Train Acc 95.82| Val Loss 0.505 | Val Acc 86.04| Trigger Loss 0.001 | Trigger Acc 100.00\n"
     ]
    },
    {
     "name": "stderr",
     "output_type": "stream",
     "text": [
      "100%|██████████████████████████████████████████████████████████████████████████████████████████████████████████████████████████████████████████████████████████████████████████████████████████████████████| 156/156 [00:06<00:00, 22.30it/s]\n"
     ]
    },
    {
     "name": "stdout",
     "output_type": "stream",
     "text": [
      "Adjusting learning rate of group 0 to 3.1250e-06.\n",
      "Epoch 65 | Time 832s| Train Loss 0.1172 | Train Acc 96.09| Val Loss 0.507 | Val Acc 86.22| Trigger Loss 0.001 | Trigger Acc 100.00\n"
     ]
    },
    {
     "name": "stderr",
     "output_type": "stream",
     "text": [
      "100%|██████████████████████████████████████████████████████████████████████████████████████████████████████████████████████████████████████████████████████████████████████████████████████████████████████| 156/156 [00:11<00:00, 13.16it/s]"
     ]
    },
    {
     "name": "stdout",
     "output_type": "stream",
     "text": [
      "Adjusting learning rate of group 0 to 3.1250e-06.\n"
     ]
    },
    {
     "name": "stderr",
     "output_type": "stream",
     "text": [
      "\n"
     ]
    },
    {
     "name": "stdout",
     "output_type": "stream",
     "text": [
      "Epoch 66 | Time 846s| Train Loss 0.1176 | Train Acc 95.96| Val Loss 0.511 | Val Acc 86.19| Trigger Loss 0.001 | Trigger Acc 100.00\n"
     ]
    },
    {
     "name": "stderr",
     "output_type": "stream",
     "text": [
      "100%|██████████████████████████████████████████████████████████████████████████████████████████████████████████████████████████████████████████████████████████████████████████████████████████████████████| 156/156 [00:11<00:00, 13.24it/s]"
     ]
    },
    {
     "name": "stdout",
     "output_type": "stream",
     "text": [
      "Adjusting learning rate of group 0 to 3.1250e-06.\n"
     ]
    },
    {
     "name": "stderr",
     "output_type": "stream",
     "text": [
      "\n"
     ]
    },
    {
     "name": "stdout",
     "output_type": "stream",
     "text": [
      "Epoch 67 | Time 860s| Train Loss 0.1191 | Train Acc 95.88| Val Loss 0.509 | Val Acc 86.13| Trigger Loss 0.001 | Trigger Acc 100.00\n"
     ]
    },
    {
     "name": "stderr",
     "output_type": "stream",
     "text": [
      "100%|██████████████████████████████████████████████████████████████████████████████████████████████████████████████████████████████████████████████████████████████████████████████████████████████████████| 156/156 [00:13<00:00, 11.81it/s]"
     ]
    },
    {
     "name": "stdout",
     "output_type": "stream",
     "text": [
      "Adjusting learning rate of group 0 to 3.1250e-06.\n"
     ]
    },
    {
     "name": "stderr",
     "output_type": "stream",
     "text": [
      "\n"
     ]
    },
    {
     "name": "stdout",
     "output_type": "stream",
     "text": [
      "Epoch 68 | Time 876s| Train Loss 0.1184 | Train Acc 95.96| Val Loss 0.507 | Val Acc 86.13| Trigger Loss 0.001 | Trigger Acc 100.00\n"
     ]
    },
    {
     "name": "stderr",
     "output_type": "stream",
     "text": [
      "100%|██████████████████████████████████████████████████████████████████████████████████████████████████████████████████████████████████████████████████████████████████████████████████████████████████████| 156/156 [00:09<00:00, 15.81it/s]"
     ]
    },
    {
     "name": "stdout",
     "output_type": "stream",
     "text": [
      "Adjusting learning rate of group 0 to 1.5625e-06.\n"
     ]
    },
    {
     "name": "stderr",
     "output_type": "stream",
     "text": [
      "\n"
     ]
    },
    {
     "name": "stdout",
     "output_type": "stream",
     "text": [
      "Epoch 69 | Time 888s| Train Loss 0.1185 | Train Acc 95.89| Val Loss 0.509 | Val Acc 86.04| Trigger Loss 0.001 | Trigger Acc 100.00\n"
     ]
    },
    {
     "name": "stderr",
     "output_type": "stream",
     "text": [
      "100%|██████████████████████████████████████████████████████████████████████████████████████████████████████████████████████████████████████████████████████████████████████████████████████████████████████| 156/156 [00:08<00:00, 18.76it/s]"
     ]
    },
    {
     "name": "stdout",
     "output_type": "stream",
     "text": [
      "Adjusting learning rate of group 0 to 1.5625e-06.\n"
     ]
    },
    {
     "name": "stderr",
     "output_type": "stream",
     "text": [
      "\n"
     ]
    },
    {
     "name": "stdout",
     "output_type": "stream",
     "text": [
      "Epoch 70 | Time 899s| Train Loss 0.1151 | Train Acc 96.01| Val Loss 0.509 | Val Acc 86.12| Trigger Loss 0.001 | Trigger Acc 100.00\n"
     ]
    },
    {
     "name": "stderr",
     "output_type": "stream",
     "text": [
      "100%|██████████████████████████████████████████████████████████████████████████████████████████████████████████████████████████████████████████████████████████████████████████████████████████████████████| 156/156 [00:07<00:00, 22.27it/s]\n"
     ]
    },
    {
     "name": "stdout",
     "output_type": "stream",
     "text": [
      "Adjusting learning rate of group 0 to 1.5625e-06.\n",
      "Epoch 71 | Time 908s| Train Loss 0.1148 | Train Acc 96.10| Val Loss 0.507 | Val Acc 86.00| Trigger Loss 0.001 | Trigger Acc 100.00\n"
     ]
    },
    {
     "name": "stderr",
     "output_type": "stream",
     "text": [
      "100%|██████████████████████████████████████████████████████████████████████████████████████████████████████████████████████████████████████████████████████████████████████████████████████████████████████| 156/156 [00:11<00:00, 13.15it/s]"
     ]
    },
    {
     "name": "stdout",
     "output_type": "stream",
     "text": [
      "Adjusting learning rate of group 0 to 1.5625e-06.\n"
     ]
    },
    {
     "name": "stderr",
     "output_type": "stream",
     "text": [
      "\n"
     ]
    },
    {
     "name": "stdout",
     "output_type": "stream",
     "text": [
      "Epoch 72 | Time 922s| Train Loss 0.1126 | Train Acc 96.25| Val Loss 0.506 | Val Acc 86.09| Trigger Loss 0.001 | Trigger Acc 100.00\n"
     ]
    },
    {
     "name": "stderr",
     "output_type": "stream",
     "text": [
      "100%|██████████████████████████████████████████████████████████████████████████████████████████████████████████████████████████████████████████████████████████████████████████████████████████████████████| 156/156 [00:11<00:00, 13.23it/s]"
     ]
    },
    {
     "name": "stdout",
     "output_type": "stream",
     "text": [
      "Adjusting learning rate of group 0 to 1.5625e-06.\n"
     ]
    },
    {
     "name": "stderr",
     "output_type": "stream",
     "text": [
      "\n"
     ]
    },
    {
     "name": "stdout",
     "output_type": "stream",
     "text": [
      "Epoch 73 | Time 936s| Train Loss 0.1150 | Train Acc 96.05| Val Loss 0.508 | Val Acc 86.09| Trigger Loss 0.001 | Trigger Acc 100.00\n"
     ]
    },
    {
     "name": "stderr",
     "output_type": "stream",
     "text": [
      "100%|██████████████████████████████████████████████████████████████████████████████████████████████████████████████████████████████████████████████████████████████████████████████████████████████████████| 156/156 [00:13<00:00, 11.82it/s]"
     ]
    },
    {
     "name": "stdout",
     "output_type": "stream",
     "text": [
      "Adjusting learning rate of group 0 to 1.5625e-06.\n"
     ]
    },
    {
     "name": "stderr",
     "output_type": "stream",
     "text": [
      "\n"
     ]
    },
    {
     "name": "stdout",
     "output_type": "stream",
     "text": [
      "Epoch 74 | Time 952s| Train Loss 0.1161 | Train Acc 96.09| Val Loss 0.509 | Val Acc 86.07| Trigger Loss 0.001 | Trigger Acc 100.00\n"
     ]
    },
    {
     "name": "stderr",
     "output_type": "stream",
     "text": [
      "100%|██████████████████████████████████████████████████████████████████████████████████████████████████████████████████████████████████████████████████████████████████████████████████████████████████████| 156/156 [00:09<00:00, 15.75it/s]"
     ]
    },
    {
     "name": "stdout",
     "output_type": "stream",
     "text": [
      "Adjusting learning rate of group 0 to 1.5625e-06.\n"
     ]
    },
    {
     "name": "stderr",
     "output_type": "stream",
     "text": [
      "\n"
     ]
    },
    {
     "name": "stdout",
     "output_type": "stream",
     "text": [
      "Epoch 75 | Time 964s| Train Loss 0.1157 | Train Acc 96.05| Val Loss 0.510 | Val Acc 86.14| Trigger Loss 0.001 | Trigger Acc 100.00\n"
     ]
    },
    {
     "name": "stderr",
     "output_type": "stream",
     "text": [
      "100%|██████████████████████████████████████████████████████████████████████████████████████████████████████████████████████████████████████████████████████████████████████████████████████████████████████| 156/156 [00:08<00:00, 18.79it/s]"
     ]
    },
    {
     "name": "stdout",
     "output_type": "stream",
     "text": [
      "Adjusting learning rate of group 0 to 1.5625e-06.\n"
     ]
    },
    {
     "name": "stderr",
     "output_type": "stream",
     "text": [
      "\n"
     ]
    },
    {
     "name": "stdout",
     "output_type": "stream",
     "text": [
      "Epoch 76 | Time 975s| Train Loss 0.1129 | Train Acc 96.14| Val Loss 0.507 | Val Acc 86.12| Trigger Loss 0.001 | Trigger Acc 100.00\n"
     ]
    },
    {
     "name": "stderr",
     "output_type": "stream",
     "text": [
      "100%|██████████████████████████████████████████████████████████████████████████████████████████████████████████████████████████████████████████████████████████████████████████████████████████████████████| 156/156 [00:06<00:00, 22.33it/s]\n"
     ]
    },
    {
     "name": "stdout",
     "output_type": "stream",
     "text": [
      "Adjusting learning rate of group 0 to 1.5625e-06.\n",
      "Epoch 77 | Time 984s| Train Loss 0.1152 | Train Acc 96.02| Val Loss 0.508 | Val Acc 86.22| Trigger Loss 0.001 | Trigger Acc 100.00\n"
     ]
    },
    {
     "name": "stderr",
     "output_type": "stream",
     "text": [
      "100%|██████████████████████████████████████████████████████████████████████████████████████████████████████████████████████████████████████████████████████████████████████████████████████████████████████| 156/156 [00:11<00:00, 13.15it/s]"
     ]
    },
    {
     "name": "stdout",
     "output_type": "stream",
     "text": [
      "Adjusting learning rate of group 0 to 1.5625e-06.\n"
     ]
    },
    {
     "name": "stderr",
     "output_type": "stream",
     "text": [
      "\n"
     ]
    },
    {
     "name": "stdout",
     "output_type": "stream",
     "text": [
      "Epoch 78 | Time 998s| Train Loss 0.1148 | Train Acc 96.10| Val Loss 0.509 | Val Acc 86.14| Trigger Loss 0.001 | Trigger Acc 100.00\n"
     ]
    },
    {
     "name": "stderr",
     "output_type": "stream",
     "text": [
      "100%|██████████████████████████████████████████████████████████████████████████████████████████████████████████████████████████████████████████████████████████████████████████████████████████████████████| 156/156 [00:11<00:00, 13.27it/s]"
     ]
    },
    {
     "name": "stdout",
     "output_type": "stream",
     "text": [
      "Adjusting learning rate of group 0 to 7.8125e-07.\n"
     ]
    },
    {
     "name": "stderr",
     "output_type": "stream",
     "text": [
      "\n"
     ]
    },
    {
     "name": "stdout",
     "output_type": "stream",
     "text": [
      "Epoch 79 | Time 1012s| Train Loss 0.1149 | Train Acc 96.03| Val Loss 0.509 | Val Acc 86.07| Trigger Loss 0.001 | Trigger Acc 100.00\n"
     ]
    },
    {
     "data": {
      "text/plain": [
       "{'train_acc': [71.10016764459345,\n",
       "  71.07711651299246,\n",
       "  77.29673093042749,\n",
       "  86.82732606873428,\n",
       "  88.65674769488685,\n",
       "  89.4593461860855,\n",
       "  89.86797988264878,\n",
       "  90.09849119865885,\n",
       "  89.72757753562448,\n",
       "  89.70452640402347,\n",
       "  90.50712489522212,\n",
       "  90.73763621123219,\n",
       "  91.50461022632021,\n",
       "  91.50461022632021,\n",
       "  91.38516345347863,\n",
       "  91.55490360435876,\n",
       "  91.04568315171836,\n",
       "  91.86714165968148,\n",
       "  91.93419949706622,\n",
       "  92.3281642917016,\n",
       "  92.29882648784576,\n",
       "  92.68021793797149,\n",
       "  92.51886001676446,\n",
       "  93.12447611064543,\n",
       "  93.4723386420788,\n",
       "  93.5414920368818,\n",
       "  93.27116512992455,\n",
       "  93.47652975691534,\n",
       "  93.3067896060352,\n",
       "  93.78248113998323,\n",
       "  94.01927912824812,\n",
       "  94.22883487007545,\n",
       "  94.20368818105615,\n",
       "  94.32942162615255,\n",
       "  94.32942162615255,\n",
       "  94.61022632020118,\n",
       "  94.94761106454317,\n",
       "  94.8595976529757,\n",
       "  94.77996647108131,\n",
       "  94.87636211232187,\n",
       "  94.8826487845767,\n",
       "  95.16135792120704,\n",
       "  95.1257334450964,\n",
       "  95.2975691533948,\n",
       "  95.31642917015927,\n",
       "  95.35834031852472,\n",
       "  95.28918692372172,\n",
       "  95.50922045264039,\n",
       "  95.5008382229673,\n",
       "  95.46730930427493,\n",
       "  95.55532271584242,\n",
       "  95.61399832355406,\n",
       "  95.55951383067897,\n",
       "  95.75440067057838,\n",
       "  95.91785414920369,\n",
       "  95.71458507963119,\n",
       "  95.68734283319364,\n",
       "  95.54694048616932,\n",
       "  95.67686504610226,\n",
       "  95.80469404861694,\n",
       "  95.87594300083822,\n",
       "  95.85917854149204,\n",
       "  95.95766974015088,\n",
       "  95.8864207879296,\n",
       "  95.81936295054484,\n",
       "  96.08759430008382,\n",
       "  95.96186085498742,\n",
       "  95.88432523051131,\n",
       "  95.9555741827326,\n",
       "  95.89480301760268,\n",
       "  96.01215423302598,\n",
       "  96.09597652975691,\n",
       "  96.24895222129086,\n",
       "  96.05406538139145,\n",
       "  96.09388097233864,\n",
       "  96.04987426655491,\n",
       "  96.14207879295893,\n",
       "  96.02472757753563,\n",
       "  96.09597652975691,\n",
       "  96.03310980720872],\n",
       " 'train_loss': [1.3629332748462648,\n",
       "  1.1132706450996335,\n",
       "  0.7737102075174688,\n",
       "  0.41749557269438914,\n",
       "  0.33450790506796185,\n",
       "  0.3042106131271265,\n",
       "  0.29416532872708423,\n",
       "  0.2897650189316782,\n",
       "  0.3057859936921115,\n",
       "  0.2992614447858188,\n",
       "  0.2749828434787372,\n",
       "  0.2663636126130045,\n",
       "  0.2472584945083364,\n",
       "  0.2467205439122005,\n",
       "  0.24880584567060815,\n",
       "  0.24276337405387233,\n",
       "  0.2544886536752588,\n",
       "  0.23423038575695226,\n",
       "  0.22714642834633414,\n",
       "  0.22285772752756844,\n",
       "  0.21999713876171464,\n",
       "  0.21116235027743904,\n",
       "  0.21328056656005295,\n",
       "  0.19700998404349784,\n",
       "  0.18959602889700888,\n",
       "  0.18727786348631476,\n",
       "  0.19145667975251654,\n",
       "  0.1875504153647147,\n",
       "  0.19311952360617646,\n",
       "  0.17800259031823776,\n",
       "  0.1707915328936425,\n",
       "  0.1677489216287198,\n",
       "  0.16663675476599418,\n",
       "  0.16375704874461774,\n",
       "  0.163406665610073,\n",
       "  0.15672668760887534,\n",
       "  0.14760645980332343,\n",
       "  0.14780732873024705,\n",
       "  0.15000875702710184,\n",
       "  0.14775002908152088,\n",
       "  0.14783977968095235,\n",
       "  0.14183536037702774,\n",
       "  0.13907486131947178,\n",
       "  0.13744839762040076,\n",
       "  0.13547860116503466,\n",
       "  0.13395516786971015,\n",
       "  0.13781067776522613,\n",
       "  0.13199406576538825,\n",
       "  0.12831351830243864,\n",
       "  0.1299152711479732,\n",
       "  0.12911825586556888,\n",
       "  0.12793550218727942,\n",
       "  0.12855648425753538,\n",
       "  0.12379051141771867,\n",
       "  0.12214706184440866,\n",
       "  0.12403561463962057,\n",
       "  0.12487921491889822,\n",
       "  0.12533656368648816,\n",
       "  0.12581354912623377,\n",
       "  0.123281828718758,\n",
       "  0.11984578841127774,\n",
       "  0.12181130551295129,\n",
       "  0.11883724540228466,\n",
       "  0.11840776084716942,\n",
       "  0.12007764759040239,\n",
       "  0.11720576516515752,\n",
       "  0.11757603676963133,\n",
       "  0.1191334668631226,\n",
       "  0.11840853902003091,\n",
       "  0.11850766346720418,\n",
       "  0.11508801552808196,\n",
       "  0.11478722969199666,\n",
       "  0.1125714553203137,\n",
       "  0.11497969601337688,\n",
       "  0.11610554517102362,\n",
       "  0.1157080748354999,\n",
       "  0.11286487793370345,\n",
       "  0.11516949092752277,\n",
       "  0.11478093857068977,\n",
       "  0.11487899507830748],\n",
       " 'val_acc': [81.98,\n",
       "  81.78,\n",
       "  79.28,\n",
       "  81.82000000000001,\n",
       "  81.75,\n",
       "  83.12,\n",
       "  83.6,\n",
       "  83.39,\n",
       "  83.50999999999999,\n",
       "  83.97,\n",
       "  83.94,\n",
       "  83.47,\n",
       "  83.89999999999999,\n",
       "  83.91,\n",
       "  83.99,\n",
       "  84.36,\n",
       "  83.98,\n",
       "  84.49,\n",
       "  85.02,\n",
       "  84.82,\n",
       "  85.48,\n",
       "  85.26,\n",
       "  85.11999999999999,\n",
       "  85.54,\n",
       "  85.56,\n",
       "  85.33,\n",
       "  85.85000000000001,\n",
       "  85.77,\n",
       "  85.50999999999999,\n",
       "  85.97,\n",
       "  85.84,\n",
       "  85.85000000000001,\n",
       "  85.94000000000001,\n",
       "  85.98,\n",
       "  85.92,\n",
       "  85.92999999999999,\n",
       "  86.04,\n",
       "  86.11999999999999,\n",
       "  85.88,\n",
       "  85.77,\n",
       "  85.8,\n",
       "  85.81,\n",
       "  86.0,\n",
       "  85.87,\n",
       "  86.14,\n",
       "  85.96000000000001,\n",
       "  85.89,\n",
       "  85.96000000000001,\n",
       "  86.08,\n",
       "  86.07000000000001,\n",
       "  86.06,\n",
       "  86.1,\n",
       "  86.22,\n",
       "  86.03,\n",
       "  85.94000000000001,\n",
       "  86.05000000000001,\n",
       "  86.04,\n",
       "  86.00999999999999,\n",
       "  86.06,\n",
       "  86.04,\n",
       "  86.25,\n",
       "  86.17,\n",
       "  86.16,\n",
       "  86.00999999999999,\n",
       "  86.04,\n",
       "  86.22,\n",
       "  86.19,\n",
       "  86.13,\n",
       "  86.13,\n",
       "  86.04,\n",
       "  86.11999999999999,\n",
       "  86.0,\n",
       "  86.09,\n",
       "  86.09,\n",
       "  86.07000000000001,\n",
       "  86.14,\n",
       "  86.11999999999999,\n",
       "  86.22,\n",
       "  86.14,\n",
       "  86.07000000000001],\n",
       " 'val_loss': [0.6200211545944214,\n",
       "  0.635909525680542,\n",
       "  0.6180497519016266,\n",
       "  0.5394680396676064,\n",
       "  0.5389387540578842,\n",
       "  0.5203972368955612,\n",
       "  0.5035390675783157,\n",
       "  0.5088466785430908,\n",
       "  0.4992742473602295,\n",
       "  0.4877868898153305,\n",
       "  0.4969362980365753,\n",
       "  0.5182028381198645,\n",
       "  0.4907961821317673,\n",
       "  0.49085290200710296,\n",
       "  0.4929539376974106,\n",
       "  0.4895242863893509,\n",
       "  0.49318169447779653,\n",
       "  0.4947287775754929,\n",
       "  0.4805609145998955,\n",
       "  0.4824900468468666,\n",
       "  0.4679634269237518,\n",
       "  0.4770852214336395,\n",
       "  0.4700939463853836,\n",
       "  0.4754595958709717,\n",
       "  0.4817074793338776,\n",
       "  0.47953365589380265,\n",
       "  0.47415712332725524,\n",
       "  0.47385304565429687,\n",
       "  0.47553574130535126,\n",
       "  0.48912374601364134,\n",
       "  0.492569646024704,\n",
       "  0.4917738867878914,\n",
       "  0.4852384520411491,\n",
       "  0.48258540325164795,\n",
       "  0.48151536128520966,\n",
       "  0.49247328062057494,\n",
       "  0.4912901156425476,\n",
       "  0.4932333790540695,\n",
       "  0.49567167404294016,\n",
       "  0.4922607195854187,\n",
       "  0.49343634008169174,\n",
       "  0.4940641057252884,\n",
       "  0.4960500908434391,\n",
       "  0.4972655054152012,\n",
       "  0.4963245899617672,\n",
       "  0.4990709488868713,\n",
       "  0.5032383121192455,\n",
       "  0.5007078927397728,\n",
       "  0.5024335954785347,\n",
       "  0.5014345180034637,\n",
       "  0.5026077257514,\n",
       "  0.4985283897995949,\n",
       "  0.5003374233961105,\n",
       "  0.5054765001058579,\n",
       "  0.5041540533423424,\n",
       "  0.5053489423751831,\n",
       "  0.5043763090729714,\n",
       "  0.5031569265902043,\n",
       "  0.5054015154182911,\n",
       "  0.50701073949337,\n",
       "  0.5046891285300255,\n",
       "  0.5049040900707245,\n",
       "  0.5041637240678072,\n",
       "  0.5074976324439049,\n",
       "  0.505259484243393,\n",
       "  0.506548042935133,\n",
       "  0.5107518924534321,\n",
       "  0.509451823502779,\n",
       "  0.506914703387022,\n",
       "  0.5086263396680355,\n",
       "  0.5085073977589607,\n",
       "  0.5072213717222214,\n",
       "  0.5061032810628414,\n",
       "  0.5084036608815193,\n",
       "  0.5089306949138641,\n",
       "  0.5096044226169586,\n",
       "  0.5069656379640103,\n",
       "  0.5083018771231175,\n",
       "  0.5089755593597889,\n",
       "  0.5090943994283676],\n",
       " 'trigger_acc': [2.0,\n",
       "  2.0,\n",
       "  84.0,\n",
       "  100.0,\n",
       "  100.0,\n",
       "  100.0,\n",
       "  100.0,\n",
       "  100.0,\n",
       "  100.0,\n",
       "  100.0,\n",
       "  100.0,\n",
       "  100.0,\n",
       "  100.0,\n",
       "  100.0,\n",
       "  100.0,\n",
       "  100.0,\n",
       "  100.0,\n",
       "  100.0,\n",
       "  100.0,\n",
       "  100.0,\n",
       "  100.0,\n",
       "  100.0,\n",
       "  100.0,\n",
       "  100.0,\n",
       "  100.0,\n",
       "  100.0,\n",
       "  100.0,\n",
       "  100.0,\n",
       "  100.0,\n",
       "  100.0,\n",
       "  100.0,\n",
       "  100.0,\n",
       "  100.0,\n",
       "  100.0,\n",
       "  100.0,\n",
       "  100.0,\n",
       "  100.0,\n",
       "  100.0,\n",
       "  100.0,\n",
       "  100.0,\n",
       "  100.0,\n",
       "  100.0,\n",
       "  100.0,\n",
       "  100.0,\n",
       "  100.0,\n",
       "  100.0,\n",
       "  100.0,\n",
       "  100.0,\n",
       "  100.0,\n",
       "  100.0,\n",
       "  100.0,\n",
       "  100.0,\n",
       "  100.0,\n",
       "  100.0,\n",
       "  100.0,\n",
       "  100.0,\n",
       "  100.0,\n",
       "  100.0,\n",
       "  100.0,\n",
       "  100.0,\n",
       "  100.0,\n",
       "  100.0,\n",
       "  100.0,\n",
       "  100.0,\n",
       "  100.0,\n",
       "  100.0,\n",
       "  100.0,\n",
       "  100.0,\n",
       "  100.0,\n",
       "  100.0,\n",
       "  100.0,\n",
       "  100.0,\n",
       "  100.0,\n",
       "  100.0,\n",
       "  100.0,\n",
       "  100.0,\n",
       "  100.0,\n",
       "  100.0,\n",
       "  100.0,\n",
       "  100.0],\n",
       " 'trigger_loss': [3.872141103744507,\n",
       "  3.462733955383301,\n",
       "  0.6526565003395081,\n",
       "  0.0757728260755539,\n",
       "  0.02387396454811096,\n",
       "  0.009715058170258998,\n",
       "  0.026100340858101846,\n",
       "  0.02725098215043545,\n",
       "  0.05114773005247116,\n",
       "  0.026563085392117502,\n",
       "  0.017747877240180968,\n",
       "  0.007786467336118221,\n",
       "  0.00808811541646719,\n",
       "  0.00914672963321209,\n",
       "  0.01569154255092144,\n",
       "  0.01208148654550314,\n",
       "  0.013537142239511014,\n",
       "  0.006364046558737755,\n",
       "  0.008210889212787151,\n",
       "  0.008860167488455773,\n",
       "  0.008662365600466728,\n",
       "  0.005450919885188341,\n",
       "  0.0046585388854146,\n",
       "  0.00213868978433311,\n",
       "  0.0025601274147629737,\n",
       "  0.0024331426154822113,\n",
       "  0.004311440847814083,\n",
       "  0.0036953344475477933,\n",
       "  0.003807259723544121,\n",
       "  0.002852156041190028,\n",
       "  0.002235130714252591,\n",
       "  0.0019003168027848004,\n",
       "  0.0025034326314926146,\n",
       "  0.002107265684753656,\n",
       "  0.00205290412530303,\n",
       "  0.002074863417074084,\n",
       "  0.0015707376226782798,\n",
       "  0.001467458736151457,\n",
       "  0.0018022206705063581,\n",
       "  0.0018371328618377446,\n",
       "  0.0016848012199625372,\n",
       "  0.001336499908939004,\n",
       "  0.0012946306215599179,\n",
       "  0.0012750794552266597,\n",
       "  0.0012025764770805835,\n",
       "  0.0012393856048583984,\n",
       "  0.001087016207166016,\n",
       "  0.001056781141087413,\n",
       "  0.0010140901943668722,\n",
       "  0.0010638401936739683,\n",
       "  0.0010006893938407301,\n",
       "  0.0010376975685358048,\n",
       "  0.0008194068912416696,\n",
       "  0.0007710289536044002,\n",
       "  0.0007792120496742427,\n",
       "  0.0007484737713821233,\n",
       "  0.0008080763020552695,\n",
       "  0.0009547414351254702,\n",
       "  0.0008464735094457865,\n",
       "  0.0008079102425836026,\n",
       "  0.000834943784866482,\n",
       "  0.0007954521104693412,\n",
       "  0.0008115991298109293,\n",
       "  0.0007178611750714481,\n",
       "  0.0007786250207573175,\n",
       "  0.000784987744409591,\n",
       "  0.0007058130204677581,\n",
       "  0.0007640493242070079,\n",
       "  0.0007941435184329748,\n",
       "  0.0007602612115442753,\n",
       "  0.0007196387532167137,\n",
       "  0.000806014637928456,\n",
       "  0.0007790812035091221,\n",
       "  0.000727026415988803,\n",
       "  0.0007577279466204345,\n",
       "  0.0006889691832475364,\n",
       "  0.0007365629263222218,\n",
       "  0.0007447747490368783,\n",
       "  0.0007576713338494301,\n",
       "  0.0007561253267340362]}"
      ]
     },
     "execution_count": 6,
     "metadata": {},
     "output_type": "execute_result"
    }
   ],
   "source": [
    "# watermark with frozen layers\n",
    "net = ResNet18()\n",
    "logcmt = f\"resnet18_8020_trigger_finetune\"\n",
    "net.load_state_dict(torch.load('checkpoints/resnet18_8020.ckpt'))\n",
    "frozen_layers=[net.conv1, net.bn1, net.layer1, net.layer2, net.layer3, net.layer4]\n",
    "optimizer = torch.optim.Adam(params=net.parameters(), lr=2e-4, weight_decay=1e-4)\n",
    "criterion = nn.CrossEntropyLoss()\n",
    "scheduler = torch.optim.lr_scheduler.StepLR(optimizer, step_size=10, gamma=0.5, verbose=True)\n",
    "trainer = Trainer(net, criterion, optimizer, train_loader=trainloader, trigger_loader=wmloader, use_trigger=True, scheduler=scheduler)\n",
    "evaluator = Evaluator(net, criterion)\n",
    "train(trainer, evaluator, testloader, 80, 'checkpoints/resnet18_wm_frozen_8020_rand.ckpt', frozen_layers=frozen_layers,\n",
    "      logdir='./runs', logcmt=logcmt, trigger_loader=wmloader)"
   ]
  },
  {
   "cell_type": "markdown",
   "id": "81cd34a7-3bd8-465b-913f-506739dec9e0",
   "metadata": {},
   "source": [
    "Adversarial Sample Uniform Scheme"
   ]
  },
  {
   "cell_type": "code",
   "execution_count": 7,
   "id": "81f428eb-af17-4257-96de-26b79a885412",
   "metadata": {},
   "outputs": [
    {
     "name": "stdout",
     "output_type": "stream",
     "text": [
      "Adjusting learning rate of group 0 to 2.0000e-04.\n",
      "Start Training...\n"
     ]
    },
    {
     "name": "stderr",
     "output_type": "stream",
     "text": [
      "100%|██████████████████████████████████████████████████████████████████████████████████████████████████████████████████████████████████████████████████████████████████████████████████████████████████████| 156/156 [00:11<00:00, 13.73it/s]"
     ]
    },
    {
     "name": "stdout",
     "output_type": "stream",
     "text": [
      "Adjusting learning rate of group 0 to 2.0000e-04.\n"
     ]
    },
    {
     "name": "stderr",
     "output_type": "stream",
     "text": [
      "\n"
     ]
    },
    {
     "name": "stdout",
     "output_type": "stream",
     "text": [
      "Epoch 0 | Time 13s| Train Loss 1.2154 | Train Acc 71.07| Val Loss 0.595 | Val Acc 81.00| Trigger Loss 3.383 | Trigger Acc 4.00\n"
     ]
    },
    {
     "name": "stderr",
     "output_type": "stream",
     "text": [
      "100%|██████████████████████████████████████████████████████████████████████████████████████████████████████████████████████████████████████████████████████████████████████████████████████████████████████| 156/156 [00:11<00:00, 13.87it/s]"
     ]
    },
    {
     "name": "stdout",
     "output_type": "stream",
     "text": [
      "Adjusting learning rate of group 0 to 2.0000e-04.\n"
     ]
    },
    {
     "name": "stderr",
     "output_type": "stream",
     "text": [
      "\n"
     ]
    },
    {
     "name": "stdout",
     "output_type": "stream",
     "text": [
      "Epoch 1 | Time 28s| Train Loss 0.9955 | Train Acc 71.20| Val Loss 0.611 | Val Acc 80.90| Trigger Loss 3.003 | Trigger Acc 5.00\n"
     ]
    },
    {
     "name": "stderr",
     "output_type": "stream",
     "text": [
      "100%|██████████████████████████████████████████████████████████████████████████████████████████████████████████████████████████████████████████████████████████████████████████████████████████████████████| 156/156 [00:12<00:00, 12.26it/s]"
     ]
    },
    {
     "name": "stdout",
     "output_type": "stream",
     "text": [
      "Adjusting learning rate of group 0 to 2.0000e-04.\n"
     ]
    },
    {
     "name": "stderr",
     "output_type": "stream",
     "text": [
      "\n"
     ]
    },
    {
     "name": "stdout",
     "output_type": "stream",
     "text": [
      "Epoch 2 | Time 43s| Train Loss 0.6997 | Train Acc 78.32| Val Loss 0.575 | Val Acc 80.70| Trigger Loss 0.687 | Trigger Acc 82.00\n"
     ]
    },
    {
     "name": "stderr",
     "output_type": "stream",
     "text": [
      "100%|██████████████████████████████████████████████████████████████████████████████████████████████████████████████████████████████████████████████████████████████████████████████████████████████████████| 156/156 [00:09<00:00, 16.46it/s]"
     ]
    },
    {
     "name": "stdout",
     "output_type": "stream",
     "text": [
      "Adjusting learning rate of group 0 to 2.0000e-04.\n"
     ]
    },
    {
     "name": "stderr",
     "output_type": "stream",
     "text": [
      "\n"
     ]
    },
    {
     "name": "stdout",
     "output_type": "stream",
     "text": [
      "Epoch 3 | Time 55s| Train Loss 0.4076 | Train Acc 87.28| Val Loss 0.530 | Val Acc 81.77| Trigger Loss 0.100 | Trigger Acc 100.00\n"
     ]
    },
    {
     "name": "stderr",
     "output_type": "stream",
     "text": [
      "100%|██████████████████████████████████████████████████████████████████████████████████████████████████████████████████████████████████████████████████████████████████████████████████████████████████████| 156/156 [00:07<00:00, 19.62it/s]\n"
     ]
    },
    {
     "name": "stdout",
     "output_type": "stream",
     "text": [
      "Adjusting learning rate of group 0 to 2.0000e-04.\n",
      "Epoch 4 | Time 65s| Train Loss 0.3268 | Train Acc 89.12| Val Loss 0.526 | Val Acc 82.66| Trigger Loss 0.035 | Trigger Acc 100.00\n"
     ]
    },
    {
     "name": "stderr",
     "output_type": "stream",
     "text": [
      "100%|██████████████████████████████████████████████████████████████████████████████████████████████████████████████████████████████████████████████████████████████████████████████████████████████████████| 156/156 [00:06<00:00, 22.32it/s]\n"
     ]
    },
    {
     "name": "stdout",
     "output_type": "stream",
     "text": [
      "Adjusting learning rate of group 0 to 2.0000e-04.\n",
      "Epoch 5 | Time 74s| Train Loss 0.2917 | Train Acc 89.95| Val Loss 0.509 | Val Acc 83.76| Trigger Loss 0.009 | Trigger Acc 100.00\n"
     ]
    },
    {
     "name": "stderr",
     "output_type": "stream",
     "text": [
      "100%|██████████████████████████████████████████████████████████████████████████████████████████████████████████████████████████████████████████████████████████████████████████████████████████████████████| 156/156 [00:11<00:00, 13.15it/s]"
     ]
    },
    {
     "name": "stdout",
     "output_type": "stream",
     "text": [
      "Adjusting learning rate of group 0 to 2.0000e-04.\n"
     ]
    },
    {
     "name": "stderr",
     "output_type": "stream",
     "text": [
      "\n"
     ]
    },
    {
     "name": "stdout",
     "output_type": "stream",
     "text": [
      "Epoch 6 | Time 88s| Train Loss 0.2849 | Train Acc 90.31| Val Loss 0.508 | Val Acc 83.45| Trigger Loss 0.022 | Trigger Acc 100.00\n"
     ]
    },
    {
     "name": "stderr",
     "output_type": "stream",
     "text": [
      "100%|██████████████████████████████████████████████████████████████████████████████████████████████████████████████████████████████████████████████████████████████████████████████████████████████████████| 156/156 [00:11<00:00, 13.28it/s]"
     ]
    },
    {
     "name": "stdout",
     "output_type": "stream",
     "text": [
      "Adjusting learning rate of group 0 to 2.0000e-04.\n"
     ]
    },
    {
     "name": "stderr",
     "output_type": "stream",
     "text": [
      "\n"
     ]
    },
    {
     "name": "stdout",
     "output_type": "stream",
     "text": [
      "Epoch 7 | Time 102s| Train Loss 0.2831 | Train Acc 90.40| Val Loss 0.510 | Val Acc 83.49| Trigger Loss 0.023 | Trigger Acc 100.00\n"
     ]
    },
    {
     "name": "stderr",
     "output_type": "stream",
     "text": [
      "100%|██████████████████████████████████████████████████████████████████████████████████████████████████████████████████████████████████████████████████████████████████████████████████████████████████████| 156/156 [00:13<00:00, 11.84it/s]"
     ]
    },
    {
     "name": "stdout",
     "output_type": "stream",
     "text": [
      "Adjusting learning rate of group 0 to 2.0000e-04.\n"
     ]
    },
    {
     "name": "stderr",
     "output_type": "stream",
     "text": [
      "\n"
     ]
    },
    {
     "name": "stdout",
     "output_type": "stream",
     "text": [
      "Epoch 8 | Time 118s| Train Loss 0.2950 | Train Acc 89.87| Val Loss 0.519 | Val Acc 83.56| Trigger Loss 0.043 | Trigger Acc 100.00\n"
     ]
    },
    {
     "name": "stderr",
     "output_type": "stream",
     "text": [
      "100%|██████████████████████████████████████████████████████████████████████████████████████████████████████████████████████████████████████████████████████████████████████████████████████████████████████| 156/156 [00:09<00:00, 15.76it/s]"
     ]
    },
    {
     "name": "stdout",
     "output_type": "stream",
     "text": [
      "Adjusting learning rate of group 0 to 1.0000e-04.\n"
     ]
    },
    {
     "name": "stderr",
     "output_type": "stream",
     "text": [
      "\n"
     ]
    },
    {
     "name": "stdout",
     "output_type": "stream",
     "text": [
      "Epoch 9 | Time 130s| Train Loss 0.2915 | Train Acc 90.05| Val Loss 0.505 | Val Acc 84.09| Trigger Loss 0.035 | Trigger Acc 100.00\n"
     ]
    },
    {
     "name": "stderr",
     "output_type": "stream",
     "text": [
      "100%|██████████████████████████████████████████████████████████████████████████████████████████████████████████████████████████████████████████████████████████████████████████████████████████████████████| 156/156 [00:08<00:00, 18.79it/s]"
     ]
    },
    {
     "name": "stdout",
     "output_type": "stream",
     "text": [
      "Adjusting learning rate of group 0 to 1.0000e-04.\n"
     ]
    },
    {
     "name": "stderr",
     "output_type": "stream",
     "text": [
      "\n"
     ]
    },
    {
     "name": "stdout",
     "output_type": "stream",
     "text": [
      "Epoch 10 | Time 141s| Train Loss 0.2712 | Train Acc 90.65| Val Loss 0.477 | Val Acc 84.76| Trigger Loss 0.013 | Trigger Acc 100.00\n"
     ]
    },
    {
     "name": "stderr",
     "output_type": "stream",
     "text": [
      "100%|██████████████████████████████████████████████████████████████████████████████████████████████████████████████████████████████████████████████████████████████████████████████████████████████████████| 156/156 [00:06<00:00, 22.34it/s]\n"
     ]
    },
    {
     "name": "stdout",
     "output_type": "stream",
     "text": [
      "Adjusting learning rate of group 0 to 1.0000e-04.\n",
      "Epoch 11 | Time 150s| Train Loss 0.2572 | Train Acc 91.15| Val Loss 0.511 | Val Acc 83.58| Trigger Loss 0.008 | Trigger Acc 100.00\n"
     ]
    },
    {
     "name": "stderr",
     "output_type": "stream",
     "text": [
      "100%|██████████████████████████████████████████████████████████████████████████████████████████████████████████████████████████████████████████████████████████████████████████████████████████████████████| 156/156 [00:11<00:00, 13.10it/s]"
     ]
    },
    {
     "name": "stdout",
     "output_type": "stream",
     "text": [
      "Adjusting learning rate of group 0 to 1.0000e-04.\n"
     ]
    },
    {
     "name": "stderr",
     "output_type": "stream",
     "text": [
      "\n"
     ]
    },
    {
     "name": "stdout",
     "output_type": "stream",
     "text": [
      "Epoch 12 | Time 164s| Train Loss 0.2422 | Train Acc 91.61| Val Loss 0.486 | Val Acc 84.71| Trigger Loss 0.009 | Trigger Acc 100.00\n"
     ]
    },
    {
     "name": "stderr",
     "output_type": "stream",
     "text": [
      "100%|██████████████████████████████████████████████████████████████████████████████████████████████████████████████████████████████████████████████████████████████████████████████████████████████████████| 156/156 [00:11<00:00, 13.28it/s]"
     ]
    },
    {
     "name": "stdout",
     "output_type": "stream",
     "text": [
      "Adjusting learning rate of group 0 to 1.0000e-04.\n"
     ]
    },
    {
     "name": "stderr",
     "output_type": "stream",
     "text": [
      "\n"
     ]
    },
    {
     "name": "stdout",
     "output_type": "stream",
     "text": [
      "Epoch 13 | Time 179s| Train Loss 0.2373 | Train Acc 91.74| Val Loss 0.486 | Val Acc 84.59| Trigger Loss 0.008 | Trigger Acc 100.00\n"
     ]
    },
    {
     "name": "stderr",
     "output_type": "stream",
     "text": [
      "100%|██████████████████████████████████████████████████████████████████████████████████████████████████████████████████████████████████████████████████████████████████████████████████████████████████████| 156/156 [00:13<00:00, 11.81it/s]"
     ]
    },
    {
     "name": "stdout",
     "output_type": "stream",
     "text": [
      "Adjusting learning rate of group 0 to 1.0000e-04.\n"
     ]
    },
    {
     "name": "stderr",
     "output_type": "stream",
     "text": [
      "\n"
     ]
    },
    {
     "name": "stdout",
     "output_type": "stream",
     "text": [
      "Epoch 14 | Time 194s| Train Loss 0.2411 | Train Acc 91.66| Val Loss 0.488 | Val Acc 84.43| Trigger Loss 0.012 | Trigger Acc 100.00\n"
     ]
    },
    {
     "name": "stderr",
     "output_type": "stream",
     "text": [
      "100%|██████████████████████████████████████████████████████████████████████████████████████████████████████████████████████████████████████████████████████████████████████████████████████████████████████| 156/156 [00:09<00:00, 15.75it/s]"
     ]
    },
    {
     "name": "stdout",
     "output_type": "stream",
     "text": [
      "Adjusting learning rate of group 0 to 1.0000e-04.\n"
     ]
    },
    {
     "name": "stderr",
     "output_type": "stream",
     "text": [
      "\n"
     ]
    },
    {
     "name": "stdout",
     "output_type": "stream",
     "text": [
      "Epoch 15 | Time 206s| Train Loss 0.2398 | Train Acc 91.66| Val Loss 0.494 | Val Acc 84.49| Trigger Loss 0.017 | Trigger Acc 100.00\n"
     ]
    },
    {
     "name": "stderr",
     "output_type": "stream",
     "text": [
      "100%|██████████████████████████████████████████████████████████████████████████████████████████████████████████████████████████████████████████████████████████████████████████████████████████████████████| 156/156 [00:08<00:00, 18.82it/s]"
     ]
    },
    {
     "name": "stdout",
     "output_type": "stream",
     "text": [
      "Adjusting learning rate of group 0 to 1.0000e-04.\n"
     ]
    },
    {
     "name": "stderr",
     "output_type": "stream",
     "text": [
      "\n"
     ]
    },
    {
     "name": "stdout",
     "output_type": "stream",
     "text": [
      "Epoch 16 | Time 217s| Train Loss 0.2433 | Train Acc 91.46| Val Loss 0.511 | Val Acc 84.39| Trigger Loss 0.008 | Trigger Acc 100.00\n"
     ]
    },
    {
     "name": "stderr",
     "output_type": "stream",
     "text": [
      "100%|██████████████████████████████████████████████████████████████████████████████████████████████████████████████████████████████████████████████████████████████████████████████████████████████████████| 156/156 [00:06<00:00, 22.30it/s]\n"
     ]
    },
    {
     "name": "stdout",
     "output_type": "stream",
     "text": [
      "Adjusting learning rate of group 0 to 1.0000e-04.\n",
      "Epoch 17 | Time 226s| Train Loss 0.2351 | Train Acc 91.83| Val Loss 0.517 | Val Acc 84.53| Trigger Loss 0.004 | Trigger Acc 100.00\n"
     ]
    },
    {
     "name": "stderr",
     "output_type": "stream",
     "text": [
      "100%|██████████████████████████████████████████████████████████████████████████████████████████████████████████████████████████████████████████████████████████████████████████████████████████████████████| 156/156 [00:11<00:00, 13.16it/s]"
     ]
    },
    {
     "name": "stdout",
     "output_type": "stream",
     "text": [
      "Adjusting learning rate of group 0 to 1.0000e-04.\n"
     ]
    },
    {
     "name": "stderr",
     "output_type": "stream",
     "text": [
      "\n"
     ]
    },
    {
     "name": "stdout",
     "output_type": "stream",
     "text": [
      "Epoch 18 | Time 241s| Train Loss 0.2240 | Train Acc 92.32| Val Loss 0.497 | Val Acc 85.05| Trigger Loss 0.006 | Trigger Acc 100.00\n"
     ]
    },
    {
     "name": "stderr",
     "output_type": "stream",
     "text": [
      "100%|██████████████████████████████████████████████████████████████████████████████████████████████████████████████████████████████████████████████████████████████████████████████████████████████████████| 156/156 [00:11<00:00, 13.26it/s]"
     ]
    },
    {
     "name": "stdout",
     "output_type": "stream",
     "text": [
      "Adjusting learning rate of group 0 to 5.0000e-05.\n"
     ]
    },
    {
     "name": "stderr",
     "output_type": "stream",
     "text": [
      "\n"
     ]
    },
    {
     "name": "stdout",
     "output_type": "stream",
     "text": [
      "Epoch 19 | Time 255s| Train Loss 0.2179 | Train Acc 92.42| Val Loss 0.496 | Val Acc 85.10| Trigger Loss 0.008 | Trigger Acc 100.00\n"
     ]
    },
    {
     "name": "stderr",
     "output_type": "stream",
     "text": [
      "100%|██████████████████████████████████████████████████████████████████████████████████████████████████████████████████████████████████████████████████████████████████████████████████████████████████████| 156/156 [00:13<00:00, 11.85it/s]"
     ]
    },
    {
     "name": "stdout",
     "output_type": "stream",
     "text": [
      "Adjusting learning rate of group 0 to 5.0000e-05.\n"
     ]
    },
    {
     "name": "stderr",
     "output_type": "stream",
     "text": [
      "\n"
     ]
    },
    {
     "name": "stdout",
     "output_type": "stream",
     "text": [
      "Epoch 20 | Time 270s| Train Loss 0.2148 | Train Acc 92.62| Val Loss 0.485 | Val Acc 85.15| Trigger Loss 0.006 | Trigger Acc 100.00\n"
     ]
    },
    {
     "name": "stderr",
     "output_type": "stream",
     "text": [
      "100%|██████████████████████████████████████████████████████████████████████████████████████████████████████████████████████████████████████████████████████████████████████████████████████████████████████| 156/156 [00:09<00:00, 15.74it/s]\n"
     ]
    },
    {
     "name": "stdout",
     "output_type": "stream",
     "text": [
      "Adjusting learning rate of group 0 to 5.0000e-05.\n",
      "Epoch 21 | Time 283s| Train Loss 0.2097 | Train Acc 92.69| Val Loss 0.479 | Val Acc 85.31| Trigger Loss 0.006 | Trigger Acc 100.00\n"
     ]
    },
    {
     "name": "stderr",
     "output_type": "stream",
     "text": [
      "100%|██████████████████████████████████████████████████████████████████████████████████████████████████████████████████████████████████████████████████████████████████████████████████████████████████████| 156/156 [00:08<00:00, 18.81it/s]"
     ]
    },
    {
     "name": "stdout",
     "output_type": "stream",
     "text": [
      "Adjusting learning rate of group 0 to 5.0000e-05.\n"
     ]
    },
    {
     "name": "stderr",
     "output_type": "stream",
     "text": [
      "\n"
     ]
    },
    {
     "name": "stdout",
     "output_type": "stream",
     "text": [
      "Epoch 22 | Time 293s| Train Loss 0.2068 | Train Acc 92.87| Val Loss 0.485 | Val Acc 85.10| Trigger Loss 0.003 | Trigger Acc 100.00\n"
     ]
    },
    {
     "name": "stderr",
     "output_type": "stream",
     "text": [
      "100%|██████████████████████████████████████████████████████████████████████████████████████████████████████████████████████████████████████████████████████████████████████████████████████████████████████| 156/156 [00:06<00:00, 22.33it/s]\n"
     ]
    },
    {
     "name": "stdout",
     "output_type": "stream",
     "text": [
      "Adjusting learning rate of group 0 to 5.0000e-05.\n",
      "Epoch 23 | Time 302s| Train Loss 0.1925 | Train Acc 93.38| Val Loss 0.485 | Val Acc 85.57| Trigger Loss 0.002 | Trigger Acc 100.00\n"
     ]
    },
    {
     "name": "stderr",
     "output_type": "stream",
     "text": [
      "100%|██████████████████████████████████████████████████████████████████████████████████████████████████████████████████████████████████████████████████████████████████████████████████████████████████████| 156/156 [00:11<00:00, 13.15it/s]"
     ]
    },
    {
     "name": "stdout",
     "output_type": "stream",
     "text": [
      "Adjusting learning rate of group 0 to 5.0000e-05.\n"
     ]
    },
    {
     "name": "stderr",
     "output_type": "stream",
     "text": [
      "\n"
     ]
    },
    {
     "name": "stdout",
     "output_type": "stream",
     "text": [
      "Epoch 24 | Time 317s| Train Loss 0.1818 | Train Acc 93.63| Val Loss 0.483 | Val Acc 85.60| Trigger Loss 0.003 | Trigger Acc 100.00\n"
     ]
    },
    {
     "name": "stderr",
     "output_type": "stream",
     "text": [
      "100%|██████████████████████████████████████████████████████████████████████████████████████████████████████████████████████████████████████████████████████████████████████████████████████████████████████| 156/156 [00:11<00:00, 13.30it/s]"
     ]
    },
    {
     "name": "stdout",
     "output_type": "stream",
     "text": [
      "Adjusting learning rate of group 0 to 5.0000e-05.\n"
     ]
    },
    {
     "name": "stderr",
     "output_type": "stream",
     "text": [
      "\n"
     ]
    },
    {
     "name": "stdout",
     "output_type": "stream",
     "text": [
      "Epoch 25 | Time 331s| Train Loss 0.1820 | Train Acc 93.67| Val Loss 0.484 | Val Acc 85.56| Trigger Loss 0.002 | Trigger Acc 100.00\n"
     ]
    },
    {
     "name": "stderr",
     "output_type": "stream",
     "text": [
      "100%|██████████████████████████████████████████████████████████████████████████████████████████████████████████████████████████████████████████████████████████████████████████████████████████████████████| 156/156 [00:13<00:00, 11.84it/s]"
     ]
    },
    {
     "name": "stdout",
     "output_type": "stream",
     "text": [
      "Adjusting learning rate of group 0 to 5.0000e-05.\n"
     ]
    },
    {
     "name": "stderr",
     "output_type": "stream",
     "text": [
      "\n"
     ]
    },
    {
     "name": "stdout",
     "output_type": "stream",
     "text": [
      "Epoch 26 | Time 346s| Train Loss 0.1836 | Train Acc 93.72| Val Loss 0.483 | Val Acc 85.73| Trigger Loss 0.003 | Trigger Acc 100.00\n"
     ]
    },
    {
     "name": "stderr",
     "output_type": "stream",
     "text": [
      "100%|██████████████████████████████████████████████████████████████████████████████████████████████████████████████████████████████████████████████████████████████████████████████████████████████████████| 156/156 [00:09<00:00, 15.75it/s]\n"
     ]
    },
    {
     "name": "stdout",
     "output_type": "stream",
     "text": [
      "Adjusting learning rate of group 0 to 5.0000e-05.\n",
      "Epoch 27 | Time 359s| Train Loss 0.1811 | Train Acc 93.74| Val Loss 0.483 | Val Acc 85.87| Trigger Loss 0.004 | Trigger Acc 100.00\n"
     ]
    },
    {
     "name": "stderr",
     "output_type": "stream",
     "text": [
      "100%|██████████████████████████████████████████████████████████████████████████████████████████████████████████████████████████████████████████████████████████████████████████████████████████████████████| 156/156 [00:08<00:00, 18.82it/s]"
     ]
    },
    {
     "name": "stdout",
     "output_type": "stream",
     "text": [
      "Adjusting learning rate of group 0 to 5.0000e-05.\n"
     ]
    },
    {
     "name": "stderr",
     "output_type": "stream",
     "text": [
      "\n"
     ]
    },
    {
     "name": "stdout",
     "output_type": "stream",
     "text": [
      "Epoch 28 | Time 369s| Train Loss 0.1873 | Train Acc 93.43| Val Loss 0.514 | Val Acc 84.98| Trigger Loss 0.006 | Trigger Acc 100.00\n"
     ]
    },
    {
     "name": "stderr",
     "output_type": "stream",
     "text": [
      "100%|██████████████████████████████████████████████████████████████████████████████████████████████████████████████████████████████████████████████████████████████████████████████████████████████████████| 156/156 [00:07<00:00, 22.28it/s]"
     ]
    },
    {
     "name": "stdout",
     "output_type": "stream",
     "text": [
      "Adjusting learning rate of group 0 to 2.5000e-05.\n"
     ]
    },
    {
     "name": "stderr",
     "output_type": "stream",
     "text": [
      "\n"
     ]
    },
    {
     "name": "stdout",
     "output_type": "stream",
     "text": [
      "Epoch 29 | Time 379s| Train Loss 0.1748 | Train Acc 93.96| Val Loss 0.510 | Val Acc 85.15| Trigger Loss 0.002 | Trigger Acc 100.00\n"
     ]
    },
    {
     "name": "stderr",
     "output_type": "stream",
     "text": [
      "100%|██████████████████████████████████████████████████████████████████████████████████████████████████████████████████████████████████████████████████████████████████████████████████████████████████████| 156/156 [00:11<00:00, 13.18it/s]"
     ]
    },
    {
     "name": "stdout",
     "output_type": "stream",
     "text": [
      "Adjusting learning rate of group 0 to 2.5000e-05.\n"
     ]
    },
    {
     "name": "stderr",
     "output_type": "stream",
     "text": [
      "\n"
     ]
    },
    {
     "name": "stdout",
     "output_type": "stream",
     "text": [
      "Epoch 30 | Time 393s| Train Loss 0.1679 | Train Acc 94.13| Val Loss 0.502 | Val Acc 85.57| Trigger Loss 0.002 | Trigger Acc 100.00\n"
     ]
    },
    {
     "name": "stderr",
     "output_type": "stream",
     "text": [
      "100%|██████████████████████████████████████████████████████████████████████████████████████████████████████████████████████████████████████████████████████████████████████████████████████████████████████| 156/156 [00:11<00:00, 13.27it/s]"
     ]
    },
    {
     "name": "stdout",
     "output_type": "stream",
     "text": [
      "Adjusting learning rate of group 0 to 2.5000e-05.\n"
     ]
    },
    {
     "name": "stderr",
     "output_type": "stream",
     "text": [
      "\n"
     ]
    },
    {
     "name": "stdout",
     "output_type": "stream",
     "text": [
      "Epoch 31 | Time 407s| Train Loss 0.1624 | Train Acc 94.47| Val Loss 0.501 | Val Acc 85.70| Trigger Loss 0.002 | Trigger Acc 100.00\n"
     ]
    },
    {
     "name": "stderr",
     "output_type": "stream",
     "text": [
      "100%|██████████████████████████████████████████████████████████████████████████████████████████████████████████████████████████████████████████████████████████████████████████████████████████████████████| 156/156 [00:13<00:00, 11.83it/s]"
     ]
    },
    {
     "name": "stdout",
     "output_type": "stream",
     "text": [
      "Adjusting learning rate of group 0 to 2.5000e-05.\n"
     ]
    },
    {
     "name": "stderr",
     "output_type": "stream",
     "text": [
      "\n"
     ]
    },
    {
     "name": "stdout",
     "output_type": "stream",
     "text": [
      "Epoch 32 | Time 422s| Train Loss 0.1654 | Train Acc 94.25| Val Loss 0.497 | Val Acc 85.74| Trigger Loss 0.002 | Trigger Acc 100.00\n"
     ]
    },
    {
     "name": "stderr",
     "output_type": "stream",
     "text": [
      "100%|██████████████████████████████████████████████████████████████████████████████████████████████████████████████████████████████████████████████████████████████████████████████████████████████████████| 156/156 [00:09<00:00, 15.76it/s]\n"
     ]
    },
    {
     "name": "stdout",
     "output_type": "stream",
     "text": [
      "Adjusting learning rate of group 0 to 2.5000e-05.\n",
      "Epoch 33 | Time 435s| Train Loss 0.1616 | Train Acc 94.31| Val Loss 0.495 | Val Acc 85.82| Trigger Loss 0.002 | Trigger Acc 100.00\n"
     ]
    },
    {
     "name": "stderr",
     "output_type": "stream",
     "text": [
      "100%|██████████████████████████████████████████████████████████████████████████████████████████████████████████████████████████████████████████████████████████████████████████████████████████████████████| 156/156 [00:08<00:00, 18.81it/s]"
     ]
    },
    {
     "name": "stdout",
     "output_type": "stream",
     "text": [
      "Adjusting learning rate of group 0 to 2.5000e-05.\n"
     ]
    },
    {
     "name": "stderr",
     "output_type": "stream",
     "text": [
      "\n"
     ]
    },
    {
     "name": "stdout",
     "output_type": "stream",
     "text": [
      "Epoch 34 | Time 445s| Train Loss 0.1610 | Train Acc 94.38| Val Loss 0.485 | Val Acc 86.07| Trigger Loss 0.003 | Trigger Acc 100.00\n"
     ]
    },
    {
     "name": "stderr",
     "output_type": "stream",
     "text": [
      "100%|██████████████████████████████████████████████████████████████████████████████████████████████████████████████████████████████████████████████████████████████████████████████████████████████████████| 156/156 [00:06<00:00, 22.34it/s]\n"
     ]
    },
    {
     "name": "stdout",
     "output_type": "stream",
     "text": [
      "Adjusting learning rate of group 0 to 2.5000e-05.\n",
      "Epoch 35 | Time 455s| Train Loss 0.1523 | Train Acc 94.79| Val Loss 0.509 | Val Acc 85.92| Trigger Loss 0.001 | Trigger Acc 100.00\n"
     ]
    },
    {
     "name": "stderr",
     "output_type": "stream",
     "text": [
      "100%|██████████████████████████████████████████████████████████████████████████████████████████████████████████████████████████████████████████████████████████████████████████████████████████████████████| 156/156 [00:11<00:00, 13.16it/s]"
     ]
    },
    {
     "name": "stdout",
     "output_type": "stream",
     "text": [
      "Adjusting learning rate of group 0 to 2.5000e-05.\n"
     ]
    },
    {
     "name": "stderr",
     "output_type": "stream",
     "text": [
      "\n"
     ]
    },
    {
     "name": "stdout",
     "output_type": "stream",
     "text": [
      "Epoch 36 | Time 469s| Train Loss 0.1495 | Train Acc 94.78| Val Loss 0.498 | Val Acc 85.90| Trigger Loss 0.001 | Trigger Acc 100.00\n"
     ]
    },
    {
     "name": "stderr",
     "output_type": "stream",
     "text": [
      "100%|██████████████████████████████████████████████████████████████████████████████████████████████████████████████████████████████████████████████████████████████████████████████████████████████████████| 156/156 [00:11<00:00, 13.27it/s]"
     ]
    },
    {
     "name": "stdout",
     "output_type": "stream",
     "text": [
      "Adjusting learning rate of group 0 to 2.5000e-05.\n"
     ]
    },
    {
     "name": "stderr",
     "output_type": "stream",
     "text": [
      "\n"
     ]
    },
    {
     "name": "stdout",
     "output_type": "stream",
     "text": [
      "Epoch 37 | Time 483s| Train Loss 0.1470 | Train Acc 94.94| Val Loss 0.501 | Val Acc 85.96| Trigger Loss 0.001 | Trigger Acc 100.00\n"
     ]
    },
    {
     "name": "stderr",
     "output_type": "stream",
     "text": [
      "100%|██████████████████████████████████████████████████████████████████████████████████████████████████████████████████████████████████████████████████████████████████████████████████████████████████████| 156/156 [00:13<00:00, 11.84it/s]"
     ]
    },
    {
     "name": "stdout",
     "output_type": "stream",
     "text": [
      "Adjusting learning rate of group 0 to 2.5000e-05.\n"
     ]
    },
    {
     "name": "stderr",
     "output_type": "stream",
     "text": [
      "\n"
     ]
    },
    {
     "name": "stdout",
     "output_type": "stream",
     "text": [
      "Epoch 38 | Time 498s| Train Loss 0.1470 | Train Acc 94.91| Val Loss 0.495 | Val Acc 86.14| Trigger Loss 0.002 | Trigger Acc 100.00\n"
     ]
    },
    {
     "name": "stderr",
     "output_type": "stream",
     "text": [
      "100%|██████████████████████████████████████████████████████████████████████████████████████████████████████████████████████████████████████████████████████████████████████████████████████████████████████| 156/156 [00:09<00:00, 15.75it/s]\n"
     ]
    },
    {
     "name": "stdout",
     "output_type": "stream",
     "text": [
      "Adjusting learning rate of group 0 to 1.2500e-05.\n",
      "Epoch 39 | Time 511s| Train Loss 0.1453 | Train Acc 94.98| Val Loss 0.497 | Val Acc 86.03| Trigger Loss 0.001 | Trigger Acc 100.00\n"
     ]
    },
    {
     "name": "stderr",
     "output_type": "stream",
     "text": [
      "100%|██████████████████████████████████████████████████████████████████████████████████████████████████████████████████████████████████████████████████████████████████████████████████████████████████████| 156/156 [00:08<00:00, 18.84it/s]"
     ]
    },
    {
     "name": "stdout",
     "output_type": "stream",
     "text": [
      "Adjusting learning rate of group 0 to 1.2500e-05.\n"
     ]
    },
    {
     "name": "stderr",
     "output_type": "stream",
     "text": [
      "\n"
     ]
    },
    {
     "name": "stdout",
     "output_type": "stream",
     "text": [
      "Epoch 40 | Time 521s| Train Loss 0.1425 | Train Acc 95.08| Val Loss 0.496 | Val Acc 86.11| Trigger Loss 0.001 | Trigger Acc 100.00\n"
     ]
    },
    {
     "name": "stderr",
     "output_type": "stream",
     "text": [
      "100%|██████████████████████████████████████████████████████████████████████████████████████████████████████████████████████████████████████████████████████████████████████████████████████████████████████| 156/156 [00:06<00:00, 22.31it/s]\n"
     ]
    },
    {
     "name": "stdout",
     "output_type": "stream",
     "text": [
      "Adjusting learning rate of group 0 to 1.2500e-05.\n",
      "Epoch 41 | Time 531s| Train Loss 0.1373 | Train Acc 95.26| Val Loss 0.502 | Val Acc 86.11| Trigger Loss 0.001 | Trigger Acc 100.00\n"
     ]
    },
    {
     "name": "stderr",
     "output_type": "stream",
     "text": [
      "100%|██████████████████████████████████████████████████████████████████████████████████████████████████████████████████████████████████████████████████████████████████████████████████████████████████████| 156/156 [00:11<00:00, 13.16it/s]"
     ]
    },
    {
     "name": "stdout",
     "output_type": "stream",
     "text": [
      "Adjusting learning rate of group 0 to 1.2500e-05.\n"
     ]
    },
    {
     "name": "stderr",
     "output_type": "stream",
     "text": [
      "\n"
     ]
    },
    {
     "name": "stdout",
     "output_type": "stream",
     "text": [
      "Epoch 42 | Time 545s| Train Loss 0.1354 | Train Acc 95.25| Val Loss 0.499 | Val Acc 86.23| Trigger Loss 0.001 | Trigger Acc 100.00\n"
     ]
    },
    {
     "name": "stderr",
     "output_type": "stream",
     "text": [
      "100%|██████████████████████████████████████████████████████████████████████████████████████████████████████████████████████████████████████████████████████████████████████████████████████████████████████| 156/156 [00:11<00:00, 13.29it/s]"
     ]
    },
    {
     "name": "stdout",
     "output_type": "stream",
     "text": [
      "Adjusting learning rate of group 0 to 1.2500e-05.\n"
     ]
    },
    {
     "name": "stderr",
     "output_type": "stream",
     "text": [
      "\n"
     ]
    },
    {
     "name": "stdout",
     "output_type": "stream",
     "text": [
      "Epoch 43 | Time 559s| Train Loss 0.1317 | Train Acc 95.43| Val Loss 0.498 | Val Acc 86.18| Trigger Loss 0.001 | Trigger Acc 100.00\n"
     ]
    },
    {
     "name": "stderr",
     "output_type": "stream",
     "text": [
      "100%|██████████████████████████████████████████████████████████████████████████████████████████████████████████████████████████████████████████████████████████████████████████████████████████████████████| 156/156 [00:13<00:00, 11.82it/s]"
     ]
    },
    {
     "name": "stdout",
     "output_type": "stream",
     "text": [
      "Adjusting learning rate of group 0 to 1.2500e-05.\n"
     ]
    },
    {
     "name": "stderr",
     "output_type": "stream",
     "text": [
      "\n"
     ]
    },
    {
     "name": "stdout",
     "output_type": "stream",
     "text": [
      "Epoch 44 | Time 575s| Train Loss 0.1306 | Train Acc 95.49| Val Loss 0.493 | Val Acc 86.30| Trigger Loss 0.001 | Trigger Acc 100.00\n"
     ]
    },
    {
     "name": "stderr",
     "output_type": "stream",
     "text": [
      "100%|██████████████████████████████████████████████████████████████████████████████████████████████████████████████████████████████████████████████████████████████████████████████████████████████████████| 156/156 [00:09<00:00, 15.72it/s]\n"
     ]
    },
    {
     "name": "stdout",
     "output_type": "stream",
     "text": [
      "Adjusting learning rate of group 0 to 1.2500e-05.\n",
      "Epoch 45 | Time 587s| Train Loss 0.1331 | Train Acc 95.47| Val Loss 0.502 | Val Acc 86.38| Trigger Loss 0.001 | Trigger Acc 100.00\n"
     ]
    },
    {
     "name": "stderr",
     "output_type": "stream",
     "text": [
      "100%|██████████████████████████████████████████████████████████████████████████████████████████████████████████████████████████████████████████████████████████████████████████████████████████████████████| 156/156 [00:08<00:00, 18.81it/s]"
     ]
    },
    {
     "name": "stdout",
     "output_type": "stream",
     "text": [
      "Adjusting learning rate of group 0 to 1.2500e-05.\n"
     ]
    },
    {
     "name": "stderr",
     "output_type": "stream",
     "text": [
      "\n"
     ]
    },
    {
     "name": "stdout",
     "output_type": "stream",
     "text": [
      "Epoch 46 | Time 598s| Train Loss 0.1321 | Train Acc 95.51| Val Loss 0.496 | Val Acc 86.18| Trigger Loss 0.001 | Trigger Acc 100.00\n"
     ]
    },
    {
     "name": "stderr",
     "output_type": "stream",
     "text": [
      "100%|██████████████████████████████████████████████████████████████████████████████████████████████████████████████████████████████████████████████████████████████████████████████████████████████████████| 156/156 [00:06<00:00, 22.30it/s]\n"
     ]
    },
    {
     "name": "stdout",
     "output_type": "stream",
     "text": [
      "Adjusting learning rate of group 0 to 1.2500e-05.\n",
      "Epoch 47 | Time 607s| Train Loss 0.1308 | Train Acc 95.50| Val Loss 0.501 | Val Acc 86.35| Trigger Loss 0.001 | Trigger Acc 100.00\n"
     ]
    },
    {
     "name": "stderr",
     "output_type": "stream",
     "text": [
      "100%|██████████████████████████████████████████████████████████████████████████████████████████████████████████████████████████████████████████████████████████████████████████████████████████████████████| 156/156 [00:11<00:00, 13.17it/s]"
     ]
    },
    {
     "name": "stdout",
     "output_type": "stream",
     "text": [
      "Adjusting learning rate of group 0 to 1.2500e-05.\n"
     ]
    },
    {
     "name": "stderr",
     "output_type": "stream",
     "text": [
      "\n"
     ]
    },
    {
     "name": "stdout",
     "output_type": "stream",
     "text": [
      "Epoch 48 | Time 621s| Train Loss 0.1272 | Train Acc 95.66| Val Loss 0.507 | Val Acc 86.25| Trigger Loss 0.001 | Trigger Acc 100.00\n"
     ]
    },
    {
     "name": "stderr",
     "output_type": "stream",
     "text": [
      "100%|██████████████████████████████████████████████████████████████████████████████████████████████████████████████████████████████████████████████████████████████████████████████████████████████████████| 156/156 [00:11<00:00, 13.29it/s]"
     ]
    },
    {
     "name": "stdout",
     "output_type": "stream",
     "text": [
      "Adjusting learning rate of group 0 to 6.2500e-06.\n"
     ]
    },
    {
     "name": "stderr",
     "output_type": "stream",
     "text": [
      "\n"
     ]
    },
    {
     "name": "stdout",
     "output_type": "stream",
     "text": [
      "Epoch 49 | Time 635s| Train Loss 0.1243 | Train Acc 95.67| Val Loss 0.505 | Val Acc 86.30| Trigger Loss 0.001 | Trigger Acc 100.00\n"
     ]
    },
    {
     "name": "stderr",
     "output_type": "stream",
     "text": [
      "100%|██████████████████████████████████████████████████████████████████████████████████████████████████████████████████████████████████████████████████████████████████████████████████████████████████████| 156/156 [00:13<00:00, 11.82it/s]"
     ]
    },
    {
     "name": "stdout",
     "output_type": "stream",
     "text": [
      "Adjusting learning rate of group 0 to 6.2500e-06.\n"
     ]
    },
    {
     "name": "stderr",
     "output_type": "stream",
     "text": [
      "\n"
     ]
    },
    {
     "name": "stdout",
     "output_type": "stream",
     "text": [
      "Epoch 50 | Time 651s| Train Loss 0.1255 | Train Acc 95.69| Val Loss 0.503 | Val Acc 86.26| Trigger Loss 0.001 | Trigger Acc 100.00\n"
     ]
    },
    {
     "name": "stderr",
     "output_type": "stream",
     "text": [
      "100%|██████████████████████████████████████████████████████████████████████████████████████████████████████████████████████████████████████████████████████████████████████████████████████████████████████| 156/156 [00:09<00:00, 15.74it/s]\n"
     ]
    },
    {
     "name": "stdout",
     "output_type": "stream",
     "text": [
      "Adjusting learning rate of group 0 to 6.2500e-06.\n",
      "Epoch 51 | Time 663s| Train Loss 0.1272 | Train Acc 95.65| Val Loss 0.503 | Val Acc 86.18| Trigger Loss 0.001 | Trigger Acc 100.00\n"
     ]
    },
    {
     "name": "stderr",
     "output_type": "stream",
     "text": [
      "100%|██████████████████████████████████████████████████████████████████████████████████████████████████████████████████████████████████████████████████████████████████████████████████████████████████████| 156/156 [00:08<00:00, 18.80it/s]"
     ]
    },
    {
     "name": "stdout",
     "output_type": "stream",
     "text": [
      "Adjusting learning rate of group 0 to 6.2500e-06.\n"
     ]
    },
    {
     "name": "stderr",
     "output_type": "stream",
     "text": [
      "\n"
     ]
    },
    {
     "name": "stdout",
     "output_type": "stream",
     "text": [
      "Epoch 52 | Time 674s| Train Loss 0.1261 | Train Acc 95.73| Val Loss 0.499 | Val Acc 86.35| Trigger Loss 0.001 | Trigger Acc 100.00\n"
     ]
    },
    {
     "name": "stderr",
     "output_type": "stream",
     "text": [
      "100%|██████████████████████████████████████████████████████████████████████████████████████████████████████████████████████████████████████████████████████████████████████████████████████████████████████| 156/156 [00:06<00:00, 22.30it/s]\n"
     ]
    },
    {
     "name": "stdout",
     "output_type": "stream",
     "text": [
      "Adjusting learning rate of group 0 to 6.2500e-06.\n",
      "Epoch 53 | Time 683s| Train Loss 0.1230 | Train Acc 95.69| Val Loss 0.504 | Val Acc 86.12| Trigger Loss 0.001 | Trigger Acc 100.00\n"
     ]
    },
    {
     "name": "stderr",
     "output_type": "stream",
     "text": [
      "100%|██████████████████████████████████████████████████████████████████████████████████████████████████████████████████████████████████████████████████████████████████████████████████████████████████████| 156/156 [00:11<00:00, 13.15it/s]"
     ]
    },
    {
     "name": "stdout",
     "output_type": "stream",
     "text": [
      "Adjusting learning rate of group 0 to 6.2500e-06.\n"
     ]
    },
    {
     "name": "stderr",
     "output_type": "stream",
     "text": [
      "\n"
     ]
    },
    {
     "name": "stdout",
     "output_type": "stream",
     "text": [
      "Epoch 54 | Time 697s| Train Loss 0.1218 | Train Acc 95.92| Val Loss 0.503 | Val Acc 86.24| Trigger Loss 0.001 | Trigger Acc 100.00\n"
     ]
    },
    {
     "name": "stderr",
     "output_type": "stream",
     "text": [
      "100%|██████████████████████████████████████████████████████████████████████████████████████████████████████████████████████████████████████████████████████████████████████████████████████████████████████| 156/156 [00:11<00:00, 13.27it/s]"
     ]
    },
    {
     "name": "stdout",
     "output_type": "stream",
     "text": [
      "Adjusting learning rate of group 0 to 6.2500e-06.\n"
     ]
    },
    {
     "name": "stderr",
     "output_type": "stream",
     "text": [
      "\n"
     ]
    },
    {
     "name": "stdout",
     "output_type": "stream",
     "text": [
      "Epoch 55 | Time 712s| Train Loss 0.1204 | Train Acc 95.98| Val Loss 0.502 | Val Acc 86.32| Trigger Loss 0.001 | Trigger Acc 100.00\n"
     ]
    },
    {
     "name": "stderr",
     "output_type": "stream",
     "text": [
      "100%|██████████████████████████████████████████████████████████████████████████████████████████████████████████████████████████████████████████████████████████████████████████████████████████████████████| 156/156 [00:13<00:00, 11.84it/s]"
     ]
    },
    {
     "name": "stdout",
     "output_type": "stream",
     "text": [
      "Adjusting learning rate of group 0 to 6.2500e-06.\n"
     ]
    },
    {
     "name": "stderr",
     "output_type": "stream",
     "text": [
      "\n"
     ]
    },
    {
     "name": "stdout",
     "output_type": "stream",
     "text": [
      "Epoch 56 | Time 727s| Train Loss 0.1204 | Train Acc 95.93| Val Loss 0.501 | Val Acc 86.27| Trigger Loss 0.001 | Trigger Acc 100.00\n"
     ]
    },
    {
     "name": "stderr",
     "output_type": "stream",
     "text": [
      "100%|██████████████████████████████████████████████████████████████████████████████████████████████████████████████████████████████████████████████████████████████████████████████████████████████████████| 156/156 [00:09<00:00, 15.78it/s]"
     ]
    },
    {
     "name": "stdout",
     "output_type": "stream",
     "text": [
      "Adjusting learning rate of group 0 to 6.2500e-06.\n"
     ]
    },
    {
     "name": "stderr",
     "output_type": "stream",
     "text": [
      "\n"
     ]
    },
    {
     "name": "stdout",
     "output_type": "stream",
     "text": [
      "Epoch 57 | Time 739s| Train Loss 0.1190 | Train Acc 96.01| Val Loss 0.503 | Val Acc 86.21| Trigger Loss 0.001 | Trigger Acc 100.00\n"
     ]
    },
    {
     "name": "stderr",
     "output_type": "stream",
     "text": [
      "100%|██████████████████████████████████████████████████████████████████████████████████████████████████████████████████████████████████████████████████████████████████████████████████████████████████████| 156/156 [00:08<00:00, 18.82it/s]"
     ]
    },
    {
     "name": "stdout",
     "output_type": "stream",
     "text": [
      "Adjusting learning rate of group 0 to 6.2500e-06.\n"
     ]
    },
    {
     "name": "stderr",
     "output_type": "stream",
     "text": [
      "\n"
     ]
    },
    {
     "name": "stdout",
     "output_type": "stream",
     "text": [
      "Epoch 58 | Time 750s| Train Loss 0.1189 | Train Acc 95.99| Val Loss 0.502 | Val Acc 86.17| Trigger Loss 0.001 | Trigger Acc 100.00\n"
     ]
    },
    {
     "name": "stderr",
     "output_type": "stream",
     "text": [
      "100%|██████████████████████████████████████████████████████████████████████████████████████████████████████████████████████████████████████████████████████████████████████████████████████████████████████| 156/156 [00:06<00:00, 22.34it/s]\n"
     ]
    },
    {
     "name": "stdout",
     "output_type": "stream",
     "text": [
      "Adjusting learning rate of group 0 to 3.1250e-06.\n",
      "Epoch 59 | Time 759s| Train Loss 0.1203 | Train Acc 95.83| Val Loss 0.506 | Val Acc 86.36| Trigger Loss 0.001 | Trigger Acc 100.00\n"
     ]
    },
    {
     "name": "stderr",
     "output_type": "stream",
     "text": [
      "100%|██████████████████████████████████████████████████████████████████████████████████████████████████████████████████████████████████████████████████████████████████████████████████████████████████████| 156/156 [00:11<00:00, 13.17it/s]"
     ]
    },
    {
     "name": "stdout",
     "output_type": "stream",
     "text": [
      "Adjusting learning rate of group 0 to 3.1250e-06.\n"
     ]
    },
    {
     "name": "stderr",
     "output_type": "stream",
     "text": [
      "\n"
     ]
    },
    {
     "name": "stdout",
     "output_type": "stream",
     "text": [
      "Epoch 60 | Time 773s| Train Loss 0.1151 | Train Acc 96.14| Val Loss 0.507 | Val Acc 86.42| Trigger Loss 0.001 | Trigger Acc 100.00\n"
     ]
    },
    {
     "name": "stderr",
     "output_type": "stream",
     "text": [
      "100%|██████████████████████████████████████████████████████████████████████████████████████████████████████████████████████████████████████████████████████████████████████████████████████████████████████| 156/156 [00:11<00:00, 13.30it/s]"
     ]
    },
    {
     "name": "stdout",
     "output_type": "stream",
     "text": [
      "Adjusting learning rate of group 0 to 3.1250e-06.\n"
     ]
    },
    {
     "name": "stderr",
     "output_type": "stream",
     "text": [
      "\n"
     ]
    },
    {
     "name": "stdout",
     "output_type": "stream",
     "text": [
      "Epoch 61 | Time 788s| Train Loss 0.1178 | Train Acc 95.87| Val Loss 0.502 | Val Acc 86.33| Trigger Loss 0.001 | Trigger Acc 100.00\n"
     ]
    },
    {
     "name": "stderr",
     "output_type": "stream",
     "text": [
      "100%|██████████████████████████████████████████████████████████████████████████████████████████████████████████████████████████████████████████████████████████████████████████████████████████████████████| 156/156 [00:13<00:00, 11.83it/s]"
     ]
    },
    {
     "name": "stdout",
     "output_type": "stream",
     "text": [
      "Adjusting learning rate of group 0 to 3.1250e-06.\n"
     ]
    },
    {
     "name": "stderr",
     "output_type": "stream",
     "text": [
      "\n"
     ]
    },
    {
     "name": "stdout",
     "output_type": "stream",
     "text": [
      "Epoch 62 | Time 803s| Train Loss 0.1188 | Train Acc 95.93| Val Loss 0.506 | Val Acc 86.40| Trigger Loss 0.001 | Trigger Acc 100.00\n"
     ]
    },
    {
     "name": "stderr",
     "output_type": "stream",
     "text": [
      "100%|██████████████████████████████████████████████████████████████████████████████████████████████████████████████████████████████████████████████████████████████████████████████████████████████████████| 156/156 [00:09<00:00, 15.73it/s]\n"
     ]
    },
    {
     "name": "stdout",
     "output_type": "stream",
     "text": [
      "Adjusting learning rate of group 0 to 3.1250e-06.\n",
      "Epoch 63 | Time 815s| Train Loss 0.1161 | Train Acc 96.03| Val Loss 0.505 | Val Acc 86.43| Trigger Loss 0.001 | Trigger Acc 100.00\n"
     ]
    },
    {
     "name": "stderr",
     "output_type": "stream",
     "text": [
      "100%|██████████████████████████████████████████████████████████████████████████████████████████████████████████████████████████████████████████████████████████████████████████████████████████████████████| 156/156 [00:08<00:00, 18.81it/s]"
     ]
    },
    {
     "name": "stdout",
     "output_type": "stream",
     "text": [
      "Adjusting learning rate of group 0 to 3.1250e-06.\n"
     ]
    },
    {
     "name": "stderr",
     "output_type": "stream",
     "text": [
      "\n"
     ]
    },
    {
     "name": "stdout",
     "output_type": "stream",
     "text": [
      "Epoch 64 | Time 826s| Train Loss 0.1156 | Train Acc 96.11| Val Loss 0.506 | Val Acc 86.45| Trigger Loss 0.001 | Trigger Acc 100.00\n"
     ]
    },
    {
     "name": "stderr",
     "output_type": "stream",
     "text": [
      "100%|██████████████████████████████████████████████████████████████████████████████████████████████████████████████████████████████████████████████████████████████████████████████████████████████████████| 156/156 [00:06<00:00, 22.34it/s]\n"
     ]
    },
    {
     "name": "stdout",
     "output_type": "stream",
     "text": [
      "Adjusting learning rate of group 0 to 3.1250e-06.\n",
      "Epoch 65 | Time 835s| Train Loss 0.1151 | Train Acc 96.06| Val Loss 0.507 | Val Acc 86.49| Trigger Loss 0.001 | Trigger Acc 100.00\n"
     ]
    },
    {
     "name": "stderr",
     "output_type": "stream",
     "text": [
      "100%|██████████████████████████████████████████████████████████████████████████████████████████████████████████████████████████████████████████████████████████████████████████████████████████████████████| 156/156 [00:11<00:00, 13.18it/s]"
     ]
    },
    {
     "name": "stdout",
     "output_type": "stream",
     "text": [
      "Adjusting learning rate of group 0 to 3.1250e-06.\n"
     ]
    },
    {
     "name": "stderr",
     "output_type": "stream",
     "text": [
      "\n"
     ]
    },
    {
     "name": "stdout",
     "output_type": "stream",
     "text": [
      "Epoch 66 | Time 850s| Train Loss 0.1129 | Train Acc 96.12| Val Loss 0.507 | Val Acc 86.38| Trigger Loss 0.001 | Trigger Acc 100.00\n"
     ]
    },
    {
     "name": "stderr",
     "output_type": "stream",
     "text": [
      "100%|██████████████████████████████████████████████████████████████████████████████████████████████████████████████████████████████████████████████████████████████████████████████████████████████████████| 156/156 [00:11<00:00, 13.23it/s]"
     ]
    },
    {
     "name": "stdout",
     "output_type": "stream",
     "text": [
      "Adjusting learning rate of group 0 to 3.1250e-06.\n"
     ]
    },
    {
     "name": "stderr",
     "output_type": "stream",
     "text": [
      "\n"
     ]
    },
    {
     "name": "stdout",
     "output_type": "stream",
     "text": [
      "Epoch 67 | Time 864s| Train Loss 0.1135 | Train Acc 96.13| Val Loss 0.509 | Val Acc 86.36| Trigger Loss 0.001 | Trigger Acc 100.00\n"
     ]
    },
    {
     "name": "stderr",
     "output_type": "stream",
     "text": [
      "100%|██████████████████████████████████████████████████████████████████████████████████████████████████████████████████████████████████████████████████████████████████████████████████████████████████████| 156/156 [00:13<00:00, 11.83it/s]"
     ]
    },
    {
     "name": "stdout",
     "output_type": "stream",
     "text": [
      "Adjusting learning rate of group 0 to 3.1250e-06.\n"
     ]
    },
    {
     "name": "stderr",
     "output_type": "stream",
     "text": [
      "\n"
     ]
    },
    {
     "name": "stdout",
     "output_type": "stream",
     "text": [
      "Epoch 68 | Time 879s| Train Loss 0.1164 | Train Acc 96.10| Val Loss 0.507 | Val Acc 86.43| Trigger Loss 0.001 | Trigger Acc 100.00\n"
     ]
    },
    {
     "name": "stderr",
     "output_type": "stream",
     "text": [
      "100%|██████████████████████████████████████████████████████████████████████████████████████████████████████████████████████████████████████████████████████████████████████████████████████████████████████| 156/156 [00:09<00:00, 15.75it/s]\n"
     ]
    },
    {
     "name": "stdout",
     "output_type": "stream",
     "text": [
      "Adjusting learning rate of group 0 to 1.5625e-06.\n",
      "Epoch 69 | Time 892s| Train Loss 0.1143 | Train Acc 96.05| Val Loss 0.506 | Val Acc 86.46| Trigger Loss 0.001 | Trigger Acc 100.00\n"
     ]
    },
    {
     "name": "stderr",
     "output_type": "stream",
     "text": [
      "100%|██████████████████████████████████████████████████████████████████████████████████████████████████████████████████████████████████████████████████████████████████████████████████████████████████████| 156/156 [00:08<00:00, 18.83it/s]"
     ]
    },
    {
     "name": "stdout",
     "output_type": "stream",
     "text": [
      "Adjusting learning rate of group 0 to 1.5625e-06.\n"
     ]
    },
    {
     "name": "stderr",
     "output_type": "stream",
     "text": [
      "\n"
     ]
    },
    {
     "name": "stdout",
     "output_type": "stream",
     "text": [
      "Epoch 70 | Time 902s| Train Loss 0.1114 | Train Acc 96.21| Val Loss 0.503 | Val Acc 86.48| Trigger Loss 0.001 | Trigger Acc 100.00\n"
     ]
    },
    {
     "name": "stderr",
     "output_type": "stream",
     "text": [
      "100%|██████████████████████████████████████████████████████████████████████████████████████████████████████████████████████████████████████████████████████████████████████████████████████████████████████| 156/156 [00:07<00:00, 22.28it/s]\n"
     ]
    },
    {
     "name": "stdout",
     "output_type": "stream",
     "text": [
      "Adjusting learning rate of group 0 to 1.5625e-06.\n",
      "Epoch 71 | Time 912s| Train Loss 0.1146 | Train Acc 96.11| Val Loss 0.507 | Val Acc 86.53| Trigger Loss 0.001 | Trigger Acc 100.00\n"
     ]
    },
    {
     "name": "stderr",
     "output_type": "stream",
     "text": [
      "100%|██████████████████████████████████████████████████████████████████████████████████████████████████████████████████████████████████████████████████████████████████████████████████████████████████████| 156/156 [00:11<00:00, 13.14it/s]"
     ]
    },
    {
     "name": "stdout",
     "output_type": "stream",
     "text": [
      "Adjusting learning rate of group 0 to 1.5625e-06.\n"
     ]
    },
    {
     "name": "stderr",
     "output_type": "stream",
     "text": [
      "\n"
     ]
    },
    {
     "name": "stdout",
     "output_type": "stream",
     "text": [
      "Epoch 72 | Time 926s| Train Loss 0.1124 | Train Acc 96.20| Val Loss 0.508 | Val Acc 86.45| Trigger Loss 0.001 | Trigger Acc 100.00\n"
     ]
    },
    {
     "name": "stderr",
     "output_type": "stream",
     "text": [
      "100%|██████████████████████████████████████████████████████████████████████████████████████████████████████████████████████████████████████████████████████████████████████████████████████████████████████| 156/156 [00:11<00:00, 13.27it/s]"
     ]
    },
    {
     "name": "stdout",
     "output_type": "stream",
     "text": [
      "Adjusting learning rate of group 0 to 1.5625e-06.\n"
     ]
    },
    {
     "name": "stderr",
     "output_type": "stream",
     "text": [
      "\n"
     ]
    },
    {
     "name": "stdout",
     "output_type": "stream",
     "text": [
      "Epoch 73 | Time 940s| Train Loss 0.1119 | Train Acc 96.14| Val Loss 0.508 | Val Acc 86.49| Trigger Loss 0.001 | Trigger Acc 100.00\n"
     ]
    },
    {
     "name": "stderr",
     "output_type": "stream",
     "text": [
      "100%|██████████████████████████████████████████████████████████████████████████████████████████████████████████████████████████████████████████████████████████████████████████████████████████████████████| 156/156 [00:13<00:00, 11.83it/s]"
     ]
    },
    {
     "name": "stdout",
     "output_type": "stream",
     "text": [
      "Adjusting learning rate of group 0 to 1.5625e-06.\n"
     ]
    },
    {
     "name": "stderr",
     "output_type": "stream",
     "text": [
      "\n"
     ]
    },
    {
     "name": "stdout",
     "output_type": "stream",
     "text": [
      "Epoch 74 | Time 955s| Train Loss 0.1125 | Train Acc 96.14| Val Loss 0.508 | Val Acc 86.45| Trigger Loss 0.001 | Trigger Acc 100.00\n"
     ]
    },
    {
     "name": "stderr",
     "output_type": "stream",
     "text": [
      "100%|██████████████████████████████████████████████████████████████████████████████████████████████████████████████████████████████████████████████████████████████████████████████████████████████████████| 156/156 [00:09<00:00, 15.75it/s]\n"
     ]
    },
    {
     "name": "stdout",
     "output_type": "stream",
     "text": [
      "Adjusting learning rate of group 0 to 1.5625e-06.\n",
      "Epoch 75 | Time 968s| Train Loss 0.1132 | Train Acc 96.12| Val Loss 0.506 | Val Acc 86.58| Trigger Loss 0.001 | Trigger Acc 100.00\n"
     ]
    },
    {
     "name": "stderr",
     "output_type": "stream",
     "text": [
      "100%|██████████████████████████████████████████████████████████████████████████████████████████████████████████████████████████████████████████████████████████████████████████████████████████████████████| 156/156 [00:08<00:00, 18.76it/s]"
     ]
    },
    {
     "name": "stdout",
     "output_type": "stream",
     "text": [
      "Adjusting learning rate of group 0 to 1.5625e-06.\n"
     ]
    },
    {
     "name": "stderr",
     "output_type": "stream",
     "text": [
      "\n"
     ]
    },
    {
     "name": "stdout",
     "output_type": "stream",
     "text": [
      "Epoch 76 | Time 978s| Train Loss 0.1122 | Train Acc 96.09| Val Loss 0.506 | Val Acc 86.57| Trigger Loss 0.001 | Trigger Acc 100.00\n"
     ]
    },
    {
     "name": "stderr",
     "output_type": "stream",
     "text": [
      "100%|██████████████████████████████████████████████████████████████████████████████████████████████████████████████████████████████████████████████████████████████████████████████████████████████████████| 156/156 [00:06<00:00, 22.31it/s]\n"
     ]
    },
    {
     "name": "stdout",
     "output_type": "stream",
     "text": [
      "Adjusting learning rate of group 0 to 1.5625e-06.\n",
      "Epoch 77 | Time 988s| Train Loss 0.1123 | Train Acc 96.12| Val Loss 0.506 | Val Acc 86.47| Trigger Loss 0.001 | Trigger Acc 100.00\n"
     ]
    },
    {
     "name": "stderr",
     "output_type": "stream",
     "text": [
      "100%|██████████████████████████████████████████████████████████████████████████████████████████████████████████████████████████████████████████████████████████████████████████████████████████████████████| 156/156 [00:11<00:00, 13.14it/s]"
     ]
    },
    {
     "name": "stdout",
     "output_type": "stream",
     "text": [
      "Adjusting learning rate of group 0 to 1.5625e-06.\n"
     ]
    },
    {
     "name": "stderr",
     "output_type": "stream",
     "text": [
      "\n"
     ]
    },
    {
     "name": "stdout",
     "output_type": "stream",
     "text": [
      "Epoch 78 | Time 1002s| Train Loss 0.1129 | Train Acc 96.15| Val Loss 0.508 | Val Acc 86.50| Trigger Loss 0.001 | Trigger Acc 100.00\n"
     ]
    },
    {
     "name": "stderr",
     "output_type": "stream",
     "text": [
      "100%|██████████████████████████████████████████████████████████████████████████████████████████████████████████████████████████████████████████████████████████████████████████████████████████████████████| 156/156 [00:11<00:00, 13.28it/s]"
     ]
    },
    {
     "name": "stdout",
     "output_type": "stream",
     "text": [
      "Adjusting learning rate of group 0 to 7.8125e-07.\n"
     ]
    },
    {
     "name": "stderr",
     "output_type": "stream",
     "text": [
      "\n"
     ]
    },
    {
     "name": "stdout",
     "output_type": "stream",
     "text": [
      "Epoch 79 | Time 1016s| Train Loss 0.1124 | Train Acc 96.21| Val Loss 0.507 | Val Acc 86.51| Trigger Loss 0.001 | Trigger Acc 100.00\n"
     ]
    },
    {
     "data": {
      "text/plain": [
       "{'train_acc': [71.06873428331937,\n",
       "  71.19656328583403,\n",
       "  78.3151718357083,\n",
       "  87.27996647108131,\n",
       "  89.12196144174351,\n",
       "  89.94761106454317,\n",
       "  90.314333612741,\n",
       "  90.40444258172674,\n",
       "  89.8742665549036,\n",
       "  90.05029337803856,\n",
       "  90.64752724224644,\n",
       "  91.15046102263203,\n",
       "  91.61148365465213,\n",
       "  91.74140821458508,\n",
       "  91.65968147527242,\n",
       "  91.65968147527242,\n",
       "  91.46269907795474,\n",
       "  91.83151718357084,\n",
       "  92.3197820620285,\n",
       "  92.42455993294216,\n",
       "  92.61944677284157,\n",
       "  92.6886001676446,\n",
       "  92.87300922045264,\n",
       "  93.38432523051131,\n",
       "  93.62531433361274,\n",
       "  93.66512992455993,\n",
       "  93.71961441743504,\n",
       "  93.74266554903605,\n",
       "  93.43042749371332,\n",
       "  93.95641240569992,\n",
       "  94.12824811399832,\n",
       "  94.47191953059514,\n",
       "  94.25398155909473,\n",
       "  94.31265716680637,\n",
       "  94.37761944677284,\n",
       "  94.79044425817268,\n",
       "  94.78206202849958,\n",
       "  94.93922883487006,\n",
       "  94.90779547359598,\n",
       "  94.98113998323554,\n",
       "  95.07544006705784,\n",
       "  95.25775356244762,\n",
       "  95.25356244761106,\n",
       "  95.4316848281643,\n",
       "  95.49036043587594,\n",
       "  95.47359597652975,\n",
       "  95.50712489522213,\n",
       "  95.50293378038558,\n",
       "  95.66219614417435,\n",
       "  95.67057837384745,\n",
       "  95.69153394803017,\n",
       "  95.64752724224644,\n",
       "  95.73134953897737,\n",
       "  95.68734283319364,\n",
       "  95.91785414920369,\n",
       "  95.98072087175188,\n",
       "  95.92833193629505,\n",
       "  96.01215423302598,\n",
       "  95.99329421626153,\n",
       "  95.83193629505449,\n",
       "  96.1441743503772,\n",
       "  95.86546521374686,\n",
       "  95.93461860854987,\n",
       "  96.0268231349539,\n",
       "  96.10645431684827,\n",
       "  96.06454316848281,\n",
       "  96.11693210393965,\n",
       "  96.12531433361275,\n",
       "  96.10016764459345,\n",
       "  96.04568315171835,\n",
       "  96.2070410729254,\n",
       "  96.1127409891031,\n",
       "  96.19656328583403,\n",
       "  96.14207879295893,\n",
       "  96.13998323554065,\n",
       "  96.11902766135792,\n",
       "  96.08549874266555,\n",
       "  96.11902766135792,\n",
       "  96.15465213746856,\n",
       "  96.20913663034368],\n",
       " 'train_loss': [1.2153682444891005,\n",
       "  0.9954780748533982,\n",
       "  0.6997306805144612,\n",
       "  0.40760658765828417,\n",
       "  0.32679676273517616,\n",
       "  0.29170585155661927,\n",
       "  0.28490222515124586,\n",
       "  0.28314834690753493,\n",
       "  0.29500434572893536,\n",
       "  0.29148008802910363,\n",
       "  0.2711695304960137,\n",
       "  0.257200832348957,\n",
       "  0.24221731271448,\n",
       "  0.23727344335974113,\n",
       "  0.2411018189695435,\n",
       "  0.23979709371612137,\n",
       "  0.24329170881952444,\n",
       "  0.23506853556618007,\n",
       "  0.2239820278812534,\n",
       "  0.21790320948328376,\n",
       "  0.21480292567088638,\n",
       "  0.209732623751785,\n",
       "  0.20678222957320905,\n",
       "  0.19245074909220997,\n",
       "  0.1817856941762484,\n",
       "  0.18203846780584823,\n",
       "  0.18364649468537947,\n",
       "  0.18108533124462056,\n",
       "  0.1872741304206828,\n",
       "  0.17475484883020828,\n",
       "  0.16791542688414318,\n",
       "  0.1624337644384173,\n",
       "  0.1654050253481547,\n",
       "  0.1616407876386177,\n",
       "  0.1610267043582102,\n",
       "  0.15228496795240712,\n",
       "  0.14946863064034988,\n",
       "  0.14696234548831325,\n",
       "  0.147047261093733,\n",
       "  0.14528482988826488,\n",
       "  0.14246047424638061,\n",
       "  0.13725127171465856,\n",
       "  0.13540656205519647,\n",
       "  0.13174065293280496,\n",
       "  0.13063564429189214,\n",
       "  0.13313969170045473,\n",
       "  0.13209754585882544,\n",
       "  0.13082630633620884,\n",
       "  0.1271591770366671,\n",
       "  0.12425372135596723,\n",
       "  0.12545671877072623,\n",
       "  0.12719597026318535,\n",
       "  0.12606682060013172,\n",
       "  0.12295124615914964,\n",
       "  0.12175834893568263,\n",
       "  0.12041578495942137,\n",
       "  0.12037817838118542,\n",
       "  0.11902974472417865,\n",
       "  0.11889805518659043,\n",
       "  0.120277826524865,\n",
       "  0.11506116311288339,\n",
       "  0.11781799495657351,\n",
       "  0.1187707992506347,\n",
       "  0.11607855144710173,\n",
       "  0.1156431540934258,\n",
       "  0.11514301418365047,\n",
       "  0.11292731617854507,\n",
       "  0.11346099693562339,\n",
       "  0.1163984139820706,\n",
       "  0.11431827838630208,\n",
       "  0.1113518542698323,\n",
       "  0.1146318258647397,\n",
       "  0.11235232626658623,\n",
       "  0.11194614736115042,\n",
       "  0.11250930294544378,\n",
       "  0.11324832695852481,\n",
       "  0.11216507251909173,\n",
       "  0.11232585071992794,\n",
       "  0.11292401181732219,\n",
       "  0.11242361910866022],\n",
       " 'val_acc': [81.0,\n",
       "  80.9,\n",
       "  80.7,\n",
       "  81.77,\n",
       "  82.66,\n",
       "  83.76,\n",
       "  83.45,\n",
       "  83.49,\n",
       "  83.56,\n",
       "  84.09,\n",
       "  84.76,\n",
       "  83.58,\n",
       "  84.71,\n",
       "  84.59,\n",
       "  84.43,\n",
       "  84.49,\n",
       "  84.39,\n",
       "  84.53,\n",
       "  85.05,\n",
       "  85.1,\n",
       "  85.15,\n",
       "  85.31,\n",
       "  85.1,\n",
       "  85.57000000000001,\n",
       "  85.6,\n",
       "  85.56,\n",
       "  85.72999999999999,\n",
       "  85.87,\n",
       "  84.98,\n",
       "  85.15,\n",
       "  85.57000000000001,\n",
       "  85.7,\n",
       "  85.74000000000001,\n",
       "  85.82,\n",
       "  86.07000000000001,\n",
       "  85.92,\n",
       "  85.9,\n",
       "  85.96000000000001,\n",
       "  86.14,\n",
       "  86.03,\n",
       "  86.11,\n",
       "  86.11,\n",
       "  86.22999999999999,\n",
       "  86.18,\n",
       "  86.3,\n",
       "  86.38,\n",
       "  86.18,\n",
       "  86.35000000000001,\n",
       "  86.25,\n",
       "  86.3,\n",
       "  86.26,\n",
       "  86.18,\n",
       "  86.35000000000001,\n",
       "  86.11999999999999,\n",
       "  86.24000000000001,\n",
       "  86.32,\n",
       "  86.27,\n",
       "  86.21,\n",
       "  86.17,\n",
       "  86.36,\n",
       "  86.42,\n",
       "  86.33,\n",
       "  86.4,\n",
       "  86.42999999999999,\n",
       "  86.45,\n",
       "  86.49,\n",
       "  86.38,\n",
       "  86.36,\n",
       "  86.42999999999999,\n",
       "  86.46000000000001,\n",
       "  86.48,\n",
       "  86.53,\n",
       "  86.45,\n",
       "  86.49,\n",
       "  86.45,\n",
       "  86.58,\n",
       "  86.57000000000001,\n",
       "  86.47,\n",
       "  86.5,\n",
       "  86.50999999999999],\n",
       " 'val_loss': [0.5949717380523681,\n",
       "  0.6112020172595978,\n",
       "  0.5752345506668091,\n",
       "  0.530171862411499,\n",
       "  0.526212547826767,\n",
       "  0.5085674890041352,\n",
       "  0.5077439952373505,\n",
       "  0.5104091542243957,\n",
       "  0.5187574231624603,\n",
       "  0.5053078907012939,\n",
       "  0.4767242290019989,\n",
       "  0.5109899609088898,\n",
       "  0.48594709968566896,\n",
       "  0.48644379353523254,\n",
       "  0.48822534565925596,\n",
       "  0.4943445247173309,\n",
       "  0.5110579706192017,\n",
       "  0.5171030024528503,\n",
       "  0.49721061601638794,\n",
       "  0.4958366404056549,\n",
       "  0.4846241051673889,\n",
       "  0.47881131405830385,\n",
       "  0.4850617831707001,\n",
       "  0.4852868465900421,\n",
       "  0.48306268825531007,\n",
       "  0.48395003366470335,\n",
       "  0.4827739360809326,\n",
       "  0.4826404625415802,\n",
       "  0.5139389934539795,\n",
       "  0.5101699643611908,\n",
       "  0.5017173998355865,\n",
       "  0.5010463583946227,\n",
       "  0.4966468143939972,\n",
       "  0.49532275390625,\n",
       "  0.48535882782936096,\n",
       "  0.5093775383949279,\n",
       "  0.4984900238513946,\n",
       "  0.5012188926696778,\n",
       "  0.4951806577682495,\n",
       "  0.4967836582183838,\n",
       "  0.49624916653633117,\n",
       "  0.5022830927371978,\n",
       "  0.4992761193275452,\n",
       "  0.4980693307876587,\n",
       "  0.49334143786430357,\n",
       "  0.5016137961864472,\n",
       "  0.4964665364742279,\n",
       "  0.5012987690925598,\n",
       "  0.507054303598404,\n",
       "  0.5045313509464264,\n",
       "  0.5034005436420441,\n",
       "  0.5025240621089936,\n",
       "  0.49932055611610415,\n",
       "  0.5038894963264465,\n",
       "  0.5025508151531219,\n",
       "  0.5017436342716217,\n",
       "  0.5007994390964509,\n",
       "  0.5029652365684509,\n",
       "  0.5019737287521362,\n",
       "  0.5062425673484803,\n",
       "  0.5065116986751557,\n",
       "  0.5023085712432861,\n",
       "  0.5055919780254364,\n",
       "  0.5046777813434601,\n",
       "  0.5064930054187775,\n",
       "  0.5066135018348694,\n",
       "  0.5070382309913635,\n",
       "  0.5087911672115326,\n",
       "  0.5065883511543274,\n",
       "  0.5062575607299805,\n",
       "  0.5031156487464905,\n",
       "  0.5069517029762268,\n",
       "  0.5083334656238556,\n",
       "  0.5084952256202698,\n",
       "  0.507589368724823,\n",
       "  0.5062660741329194,\n",
       "  0.5055764048576356,\n",
       "  0.5064752253055572,\n",
       "  0.5075427354335785,\n",
       "  0.5069086365222931],\n",
       " 'trigger_acc': [4.0,\n",
       "  5.0,\n",
       "  82.0,\n",
       "  100.0,\n",
       "  100.0,\n",
       "  100.0,\n",
       "  100.0,\n",
       "  100.0,\n",
       "  100.0,\n",
       "  100.0,\n",
       "  100.0,\n",
       "  100.0,\n",
       "  100.0,\n",
       "  100.0,\n",
       "  100.0,\n",
       "  100.0,\n",
       "  100.0,\n",
       "  100.0,\n",
       "  100.0,\n",
       "  100.0,\n",
       "  100.0,\n",
       "  100.0,\n",
       "  100.0,\n",
       "  100.0,\n",
       "  100.0,\n",
       "  100.0,\n",
       "  100.0,\n",
       "  100.0,\n",
       "  100.0,\n",
       "  100.0,\n",
       "  100.0,\n",
       "  100.0,\n",
       "  100.0,\n",
       "  100.0,\n",
       "  100.0,\n",
       "  100.0,\n",
       "  100.0,\n",
       "  100.0,\n",
       "  100.0,\n",
       "  100.0,\n",
       "  100.0,\n",
       "  100.0,\n",
       "  100.0,\n",
       "  100.0,\n",
       "  100.0,\n",
       "  100.0,\n",
       "  100.0,\n",
       "  100.0,\n",
       "  100.0,\n",
       "  100.0,\n",
       "  100.0,\n",
       "  100.0,\n",
       "  100.0,\n",
       "  100.0,\n",
       "  100.0,\n",
       "  100.0,\n",
       "  100.0,\n",
       "  100.0,\n",
       "  100.0,\n",
       "  100.0,\n",
       "  100.0,\n",
       "  100.0,\n",
       "  100.0,\n",
       "  100.0,\n",
       "  100.0,\n",
       "  100.0,\n",
       "  100.0,\n",
       "  100.0,\n",
       "  100.0,\n",
       "  100.0,\n",
       "  100.0,\n",
       "  100.0,\n",
       "  100.0,\n",
       "  100.0,\n",
       "  100.0,\n",
       "  100.0,\n",
       "  100.0,\n",
       "  100.0,\n",
       "  100.0,\n",
       "  100.0],\n",
       " 'trigger_loss': [3.3828611469268797,\n",
       "  3.0033297729492188,\n",
       "  0.6867801594734192,\n",
       "  0.10037903785705567,\n",
       "  0.03522805571556091,\n",
       "  0.009455609023571015,\n",
       "  0.022437106743454935,\n",
       "  0.023460486978292464,\n",
       "  0.04290762946009636,\n",
       "  0.03483460307121277,\n",
       "  0.013420167975127698,\n",
       "  0.00820040399208665,\n",
       "  0.008625980839133263,\n",
       "  0.007700670622289181,\n",
       "  0.012028375975787639,\n",
       "  0.01720598727464676,\n",
       "  0.0076685350202023985,\n",
       "  0.003784722229465842,\n",
       "  0.006105275005102158,\n",
       "  0.007893939651548863,\n",
       "  0.005522878114134073,\n",
       "  0.005519515611231327,\n",
       "  0.003297388385981321,\n",
       "  0.002326920973137021,\n",
       "  0.002541061844676733,\n",
       "  0.0024671235401183367,\n",
       "  0.003140917252749205,\n",
       "  0.0039058563858270644,\n",
       "  0.005939373578876257,\n",
       "  0.0017297180648893117,\n",
       "  0.0018623203178867698,\n",
       "  0.0017727020336315035,\n",
       "  0.0022549669491127135,\n",
       "  0.0018916202476248144,\n",
       "  0.0025584298372268678,\n",
       "  0.001355261509306729,\n",
       "  0.001256908755749464,\n",
       "  0.0012198255024850368,\n",
       "  0.0015354294143617153,\n",
       "  0.0014361596340313554,\n",
       "  0.0012146216724067927,\n",
       "  0.0010925103817135096,\n",
       "  0.000988258277066052,\n",
       "  0.0010874277073889972,\n",
       "  0.0013196419784799217,\n",
       "  0.001064031389541924,\n",
       "  0.001263453457504511,\n",
       "  0.0010328532359562814,\n",
       "  0.0009349129884503782,\n",
       "  0.0010492449766024948,\n",
       "  0.0010453651705756783,\n",
       "  0.0008950726385228336,\n",
       "  0.0010377064719796182,\n",
       "  0.0008384161908179522,\n",
       "  0.0008666032110340894,\n",
       "  0.000874514291062951,\n",
       "  0.0009638801566325128,\n",
       "  0.0008770389878191054,\n",
       "  0.0008833782025612891,\n",
       "  0.0007441505696624517,\n",
       "  0.0007167431432753801,\n",
       "  0.0008391350833699108,\n",
       "  0.0007681370899081231,\n",
       "  0.0007693264400586486,\n",
       "  0.0006964224460534751,\n",
       "  0.0007821659743785858,\n",
       "  0.0008324285456910729,\n",
       "  0.0008246778510510921,\n",
       "  0.0007889402378350496,\n",
       "  0.0008336040447466075,\n",
       "  0.0008179141092114151,\n",
       "  0.0007024972280487418,\n",
       "  0.0007887675100937486,\n",
       "  0.0007208327855914832,\n",
       "  0.0007074591424316168,\n",
       "  0.0007462728070095181,\n",
       "  0.0007308551715686917,\n",
       "  0.0007141085574403405,\n",
       "  0.0007221497502177954,\n",
       "  0.0006855948362499475]}"
      ]
     },
     "execution_count": 7,
     "metadata": {},
     "output_type": "execute_result"
    }
   ],
   "source": [
    "# watermark with frozen layers\n",
    "net = ResNet18()\n",
    "logcmt = f\"resnet18_8020_trigger_finetune\"\n",
    "net.load_state_dict(torch.load('checkpoints/resnet18_8020.ckpt'))\n",
    "frozen_layers=[net.conv1, net.bn1, net.layer1, net.layer2, net.layer3, net.layer4]\n",
    "optimizer = torch.optim.Adam(params=net.parameters(), lr=2e-4, weight_decay=1e-4)\n",
    "criterion = nn.CrossEntropyLoss()\n",
    "scheduler = torch.optim.lr_scheduler.StepLR(optimizer, step_size=10, gamma=0.5, verbose=True)\n",
    "trainer = Trainer(net, criterion, optimizer, train_loader=trainloader, trigger_loader=advwmloader, use_trigger=True, scheduler=scheduler)\n",
    "evaluator = Evaluator(net, criterion)\n",
    "train(trainer, evaluator, testloader, 80, 'checkpoints/resnet18_wm_frozen_8020_adv.ckpt', frozen_layers=frozen_layers,\n",
    "      logdir='./runs', logcmt=logcmt, trigger_loader=advwmloader)"
   ]
  },
  {
   "cell_type": "markdown",
   "id": "4bd1a005-4be1-41c1-a0ab-a0ffce79cbd4",
   "metadata": {},
   "source": [
    "Unrelated Uniform Scheme"
   ]
  },
  {
   "cell_type": "code",
   "execution_count": 8,
   "id": "b92fb96c-a490-41fd-8910-71333d14320a",
   "metadata": {},
   "outputs": [
    {
     "name": "stdout",
     "output_type": "stream",
     "text": [
      "Adjusting learning rate of group 0 to 2.0000e-04.\n",
      "Start Training...\n"
     ]
    },
    {
     "name": "stderr",
     "output_type": "stream",
     "text": [
      "100%|██████████████████████████████████████████████████████████████████████████████████████████████████████████████████████████████████████████████████████████████████████████████████████████████████████| 156/156 [00:11<00:00, 13.78it/s]"
     ]
    },
    {
     "name": "stdout",
     "output_type": "stream",
     "text": [
      "Adjusting learning rate of group 0 to 2.0000e-04.\n"
     ]
    },
    {
     "name": "stderr",
     "output_type": "stream",
     "text": [
      "\n"
     ]
    },
    {
     "name": "stdout",
     "output_type": "stream",
     "text": [
      "Epoch 0 | Time 13s| Train Loss 0.7339 | Train Acc 76.12| Val Loss 0.583 | Val Acc 80.36| Trigger Loss 0.425 | Trigger Acc 93.00\n"
     ]
    },
    {
     "name": "stderr",
     "output_type": "stream",
     "text": [
      "100%|██████████████████████████████████████████████████████████████████████████████████████████████████████████████████████████████████████████████████████████████████████████████████████████████████████| 156/156 [00:11<00:00, 13.88it/s]"
     ]
    },
    {
     "name": "stdout",
     "output_type": "stream",
     "text": [
      "Adjusting learning rate of group 0 to 2.0000e-04.\n"
     ]
    },
    {
     "name": "stderr",
     "output_type": "stream",
     "text": [
      "\n"
     ]
    },
    {
     "name": "stdout",
     "output_type": "stream",
     "text": [
      "Epoch 1 | Time 28s| Train Loss 0.4592 | Train Acc 85.08| Val Loss 0.566 | Val Acc 80.79| Trigger Loss 0.205 | Trigger Acc 99.00\n"
     ]
    },
    {
     "name": "stderr",
     "output_type": "stream",
     "text": [
      "100%|██████████████████████████████████████████████████████████████████████████████████████████████████████████████████████████████████████████████████████████████████████████████████████████████████████| 156/156 [00:12<00:00, 12.30it/s]"
     ]
    },
    {
     "name": "stdout",
     "output_type": "stream",
     "text": [
      "Adjusting learning rate of group 0 to 2.0000e-04.\n"
     ]
    },
    {
     "name": "stderr",
     "output_type": "stream",
     "text": [
      "\n"
     ]
    },
    {
     "name": "stdout",
     "output_type": "stream",
     "text": [
      "Epoch 2 | Time 43s| Train Loss 0.3586 | Train Acc 87.97| Val Loss 0.487 | Val Acc 83.38| Trigger Loss 0.025 | Trigger Acc 100.00\n"
     ]
    },
    {
     "name": "stderr",
     "output_type": "stream",
     "text": [
      "100%|██████████████████████████████████████████████████████████████████████████████████████████████████████████████████████████████████████████████████████████████████████████████████████████████████████| 156/156 [00:09<00:00, 16.47it/s]"
     ]
    },
    {
     "name": "stdout",
     "output_type": "stream",
     "text": [
      "Adjusting learning rate of group 0 to 2.0000e-04.\n"
     ]
    },
    {
     "name": "stderr",
     "output_type": "stream",
     "text": [
      "\n"
     ]
    },
    {
     "name": "stdout",
     "output_type": "stream",
     "text": [
      "Epoch 3 | Time 54s| Train Loss 0.3071 | Train Acc 89.51| Val Loss 0.470 | Val Acc 84.25| Trigger Loss 0.005 | Trigger Acc 100.00\n"
     ]
    },
    {
     "name": "stderr",
     "output_type": "stream",
     "text": [
      "100%|██████████████████████████████████████████████████████████████████████████████████████████████████████████████████████████████████████████████████████████████████████████████████████████████████████| 156/156 [00:07<00:00, 19.58it/s]\n"
     ]
    },
    {
     "name": "stdout",
     "output_type": "stream",
     "text": [
      "Adjusting learning rate of group 0 to 2.0000e-04.\n",
      "Epoch 4 | Time 65s| Train Loss 0.2816 | Train Acc 90.30| Val Loss 0.474 | Val Acc 84.19| Trigger Loss 0.002 | Trigger Acc 100.00\n"
     ]
    },
    {
     "name": "stderr",
     "output_type": "stream",
     "text": [
      "100%|██████████████████████████████████████████████████████████████████████████████████████████████████████████████████████████████████████████████████████████████████████████████████████████████████████| 156/156 [00:06<00:00, 22.35it/s]\n"
     ]
    },
    {
     "name": "stdout",
     "output_type": "stream",
     "text": [
      "Adjusting learning rate of group 0 to 2.0000e-04.\n",
      "Epoch 5 | Time 74s| Train Loss 0.2605 | Train Acc 91.06| Val Loss 0.463 | Val Acc 84.98| Trigger Loss 0.000 | Trigger Acc 100.00\n"
     ]
    },
    {
     "name": "stderr",
     "output_type": "stream",
     "text": [
      "100%|██████████████████████████████████████████████████████████████████████████████████████████████████████████████████████████████████████████████████████████████████████████████████████████████████████| 156/156 [00:11<00:00, 13.17it/s]"
     ]
    },
    {
     "name": "stdout",
     "output_type": "stream",
     "text": [
      "Adjusting learning rate of group 0 to 2.0000e-04.\n"
     ]
    },
    {
     "name": "stderr",
     "output_type": "stream",
     "text": [
      "\n"
     ]
    },
    {
     "name": "stdout",
     "output_type": "stream",
     "text": [
      "Epoch 6 | Time 88s| Train Loss 0.2507 | Train Acc 91.27| Val Loss 0.460 | Val Acc 85.16| Trigger Loss 0.001 | Trigger Acc 100.00\n"
     ]
    },
    {
     "name": "stderr",
     "output_type": "stream",
     "text": [
      "100%|██████████████████████████████████████████████████████████████████████████████████████████████████████████████████████████████████████████████████████████████████████████████████████████████████████| 156/156 [00:11<00:00, 13.28it/s]"
     ]
    },
    {
     "name": "stdout",
     "output_type": "stream",
     "text": [
      "Adjusting learning rate of group 0 to 2.0000e-04.\n"
     ]
    },
    {
     "name": "stderr",
     "output_type": "stream",
     "text": [
      "\n"
     ]
    },
    {
     "name": "stdout",
     "output_type": "stream",
     "text": [
      "Epoch 7 | Time 102s| Train Loss 0.2444 | Train Acc 91.52| Val Loss 0.460 | Val Acc 84.98| Trigger Loss 0.001 | Trigger Acc 100.00\n"
     ]
    },
    {
     "name": "stderr",
     "output_type": "stream",
     "text": [
      "100%|██████████████████████████████████████████████████████████████████████████████████████████████████████████████████████████████████████████████████████████████████████████████████████████████████████| 156/156 [00:13<00:00, 11.83it/s]"
     ]
    },
    {
     "name": "stdout",
     "output_type": "stream",
     "text": [
      "Adjusting learning rate of group 0 to 2.0000e-04.\n"
     ]
    },
    {
     "name": "stderr",
     "output_type": "stream",
     "text": [
      "\n"
     ]
    },
    {
     "name": "stdout",
     "output_type": "stream",
     "text": [
      "Epoch 8 | Time 118s| Train Loss 0.2620 | Train Acc 90.92| Val Loss 0.469 | Val Acc 84.74| Trigger Loss 0.001 | Trigger Acc 100.00\n"
     ]
    },
    {
     "name": "stderr",
     "output_type": "stream",
     "text": [
      "100%|██████████████████████████████████████████████████████████████████████████████████████████████████████████████████████████████████████████████████████████████████████████████████████████████████████| 156/156 [00:09<00:00, 15.72it/s]\n"
     ]
    },
    {
     "name": "stdout",
     "output_type": "stream",
     "text": [
      "Adjusting learning rate of group 0 to 1.0000e-04.\n",
      "Epoch 9 | Time 130s| Train Loss 0.2731 | Train Acc 90.42| Val Loss 0.494 | Val Acc 84.16| Trigger Loss 0.001 | Trigger Acc 100.00\n"
     ]
    },
    {
     "name": "stderr",
     "output_type": "stream",
     "text": [
      "100%|██████████████████████████████████████████████████████████████████████████████████████████████████████████████████████████████████████████████████████████████████████████████████████████████████████| 156/156 [00:08<00:00, 18.78it/s]"
     ]
    },
    {
     "name": "stdout",
     "output_type": "stream",
     "text": [
      "Adjusting learning rate of group 0 to 1.0000e-04.\n"
     ]
    },
    {
     "name": "stderr",
     "output_type": "stream",
     "text": [
      "\n"
     ]
    },
    {
     "name": "stdout",
     "output_type": "stream",
     "text": [
      "Epoch 10 | Time 141s| Train Loss 0.2644 | Train Acc 90.58| Val Loss 0.473 | Val Acc 84.54| Trigger Loss 0.002 | Trigger Acc 100.00\n"
     ]
    },
    {
     "name": "stderr",
     "output_type": "stream",
     "text": [
      "100%|██████████████████████████████████████████████████████████████████████████████████████████████████████████████████████████████████████████████████████████████████████████████████████████████████████| 156/156 [00:06<00:00, 22.30it/s]\n"
     ]
    },
    {
     "name": "stdout",
     "output_type": "stream",
     "text": [
      "Adjusting learning rate of group 0 to 1.0000e-04.\n",
      "Epoch 11 | Time 150s| Train Loss 0.2501 | Train Acc 91.21| Val Loss 0.490 | Val Acc 84.35| Trigger Loss 0.000 | Trigger Acc 100.00\n"
     ]
    },
    {
     "name": "stderr",
     "output_type": "stream",
     "text": [
      "100%|██████████████████████████████████████████████████████████████████████████████████████████████████████████████████████████████████████████████████████████████████████████████████████████████████████| 156/156 [00:11<00:00, 13.14it/s]"
     ]
    },
    {
     "name": "stdout",
     "output_type": "stream",
     "text": [
      "Adjusting learning rate of group 0 to 1.0000e-04.\n"
     ]
    },
    {
     "name": "stderr",
     "output_type": "stream",
     "text": [
      "\n"
     ]
    },
    {
     "name": "stdout",
     "output_type": "stream",
     "text": [
      "Epoch 12 | Time 164s| Train Loss 0.2419 | Train Acc 91.49| Val Loss 0.482 | Val Acc 84.71| Trigger Loss 0.003 | Trigger Acc 100.00\n"
     ]
    },
    {
     "name": "stderr",
     "output_type": "stream",
     "text": [
      "100%|██████████████████████████████████████████████████████████████████████████████████████████████████████████████████████████████████████████████████████████████████████████████████████████████████████| 156/156 [00:11<00:00, 13.29it/s]"
     ]
    },
    {
     "name": "stdout",
     "output_type": "stream",
     "text": [
      "Adjusting learning rate of group 0 to 1.0000e-04.\n"
     ]
    },
    {
     "name": "stderr",
     "output_type": "stream",
     "text": [
      "\n"
     ]
    },
    {
     "name": "stdout",
     "output_type": "stream",
     "text": [
      "Epoch 13 | Time 179s| Train Loss 0.2317 | Train Acc 91.81| Val Loss 0.473 | Val Acc 84.93| Trigger Loss 0.001 | Trigger Acc 100.00\n"
     ]
    },
    {
     "name": "stderr",
     "output_type": "stream",
     "text": [
      "100%|██████████████████████████████████████████████████████████████████████████████████████████████████████████████████████████████████████████████████████████████████████████████████████████████████████| 156/156 [00:13<00:00, 11.85it/s]"
     ]
    },
    {
     "name": "stdout",
     "output_type": "stream",
     "text": [
      "Adjusting learning rate of group 0 to 1.0000e-04.\n"
     ]
    },
    {
     "name": "stderr",
     "output_type": "stream",
     "text": [
      "\n"
     ]
    },
    {
     "name": "stdout",
     "output_type": "stream",
     "text": [
      "Epoch 14 | Time 194s| Train Loss 0.2363 | Train Acc 91.76| Val Loss 0.464 | Val Acc 85.00| Trigger Loss 0.007 | Trigger Acc 100.00\n"
     ]
    },
    {
     "name": "stderr",
     "output_type": "stream",
     "text": [
      "100%|██████████████████████████████████████████████████████████████████████████████████████████████████████████████████████████████████████████████████████████████████████████████████████████████████████| 156/156 [00:09<00:00, 15.78it/s]"
     ]
    },
    {
     "name": "stdout",
     "output_type": "stream",
     "text": [
      "Adjusting learning rate of group 0 to 1.0000e-04.\n"
     ]
    },
    {
     "name": "stderr",
     "output_type": "stream",
     "text": [
      "\n"
     ]
    },
    {
     "name": "stdout",
     "output_type": "stream",
     "text": [
      "Epoch 15 | Time 206s| Train Loss 0.2340 | Train Acc 91.69| Val Loss 0.473 | Val Acc 84.66| Trigger Loss 0.000 | Trigger Acc 100.00\n"
     ]
    },
    {
     "name": "stderr",
     "output_type": "stream",
     "text": [
      "100%|██████████████████████████████████████████████████████████████████████████████████████████████████████████████████████████████████████████████████████████████████████████████████████████████████████| 156/156 [00:08<00:00, 18.83it/s]"
     ]
    },
    {
     "name": "stdout",
     "output_type": "stream",
     "text": [
      "Adjusting learning rate of group 0 to 1.0000e-04.\n"
     ]
    },
    {
     "name": "stderr",
     "output_type": "stream",
     "text": [
      "\n"
     ]
    },
    {
     "name": "stdout",
     "output_type": "stream",
     "text": [
      "Epoch 16 | Time 217s| Train Loss 0.2445 | Train Acc 91.48| Val Loss 0.474 | Val Acc 84.77| Trigger Loss 0.000 | Trigger Acc 100.00\n"
     ]
    },
    {
     "name": "stderr",
     "output_type": "stream",
     "text": [
      "100%|██████████████████████████████████████████████████████████████████████████████████████████████████████████████████████████████████████████████████████████████████████████████████████████████████████| 156/156 [00:06<00:00, 22.31it/s]"
     ]
    },
    {
     "name": "stdout",
     "output_type": "stream",
     "text": [
      "Adjusting learning rate of group 0 to 1.0000e-04.\n"
     ]
    },
    {
     "name": "stderr",
     "output_type": "stream",
     "text": [
      "\n"
     ]
    },
    {
     "name": "stdout",
     "output_type": "stream",
     "text": [
      "Epoch 17 | Time 226s| Train Loss 0.2321 | Train Acc 91.91| Val Loss 0.484 | Val Acc 85.02| Trigger Loss 0.000 | Trigger Acc 100.00\n"
     ]
    },
    {
     "name": "stderr",
     "output_type": "stream",
     "text": [
      "100%|██████████████████████████████████████████████████████████████████████████████████████████████████████████████████████████████████████████████████████████████████████████████████████████████████████| 156/156 [00:11<00:00, 13.17it/s]"
     ]
    },
    {
     "name": "stdout",
     "output_type": "stream",
     "text": [
      "Adjusting learning rate of group 0 to 1.0000e-04.\n"
     ]
    },
    {
     "name": "stderr",
     "output_type": "stream",
     "text": [
      "\n"
     ]
    },
    {
     "name": "stdout",
     "output_type": "stream",
     "text": [
      "Epoch 18 | Time 241s| Train Loss 0.2217 | Train Acc 92.24| Val Loss 0.473 | Val Acc 85.00| Trigger Loss 0.000 | Trigger Acc 100.00\n"
     ]
    },
    {
     "name": "stderr",
     "output_type": "stream",
     "text": [
      "100%|██████████████████████████████████████████████████████████████████████████████████████████████████████████████████████████████████████████████████████████████████████████████████████████████████████| 156/156 [00:11<00:00, 13.30it/s]"
     ]
    },
    {
     "name": "stdout",
     "output_type": "stream",
     "text": [
      "Adjusting learning rate of group 0 to 5.0000e-05.\n"
     ]
    },
    {
     "name": "stderr",
     "output_type": "stream",
     "text": [
      "\n"
     ]
    },
    {
     "name": "stdout",
     "output_type": "stream",
     "text": [
      "Epoch 19 | Time 255s| Train Loss 0.2131 | Train Acc 92.67| Val Loss 0.473 | Val Acc 84.93| Trigger Loss 0.000 | Trigger Acc 100.00\n"
     ]
    },
    {
     "name": "stderr",
     "output_type": "stream",
     "text": [
      "100%|██████████████████████████████████████████████████████████████████████████████████████████████████████████████████████████████████████████████████████████████████████████████████████████████████████| 156/156 [00:13<00:00, 11.83it/s]"
     ]
    },
    {
     "name": "stdout",
     "output_type": "stream",
     "text": [
      "Adjusting learning rate of group 0 to 5.0000e-05.\n"
     ]
    },
    {
     "name": "stderr",
     "output_type": "stream",
     "text": [
      "\n"
     ]
    },
    {
     "name": "stdout",
     "output_type": "stream",
     "text": [
      "Epoch 20 | Time 270s| Train Loss 0.2125 | Train Acc 92.65| Val Loss 0.467 | Val Acc 85.45| Trigger Loss 0.000 | Trigger Acc 100.00\n"
     ]
    },
    {
     "name": "stderr",
     "output_type": "stream",
     "text": [
      "100%|██████████████████████████████████████████████████████████████████████████████████████████████████████████████████████████████████████████████████████████████████████████████████████████████████████| 156/156 [00:09<00:00, 15.75it/s]\n"
     ]
    },
    {
     "name": "stdout",
     "output_type": "stream",
     "text": [
      "Adjusting learning rate of group 0 to 5.0000e-05.\n",
      "Epoch 21 | Time 282s| Train Loss 0.2045 | Train Acc 92.81| Val Loss 0.459 | Val Acc 85.85| Trigger Loss 0.001 | Trigger Acc 100.00\n"
     ]
    },
    {
     "name": "stderr",
     "output_type": "stream",
     "text": [
      "100%|██████████████████████████████████████████████████████████████████████████████████████████████████████████████████████████████████████████████████████████████████████████████████████████████████████| 156/156 [00:08<00:00, 18.87it/s]"
     ]
    },
    {
     "name": "stdout",
     "output_type": "stream",
     "text": [
      "Adjusting learning rate of group 0 to 5.0000e-05.\n"
     ]
    },
    {
     "name": "stderr",
     "output_type": "stream",
     "text": [
      "\n"
     ]
    },
    {
     "name": "stdout",
     "output_type": "stream",
     "text": [
      "Epoch 22 | Time 293s| Train Loss 0.2041 | Train Acc 92.82| Val Loss 0.458 | Val Acc 85.59| Trigger Loss 0.000 | Trigger Acc 100.00\n"
     ]
    },
    {
     "name": "stderr",
     "output_type": "stream",
     "text": [
      "100%|██████████████████████████████████████████████████████████████████████████████████████████████████████████████████████████████████████████████████████████████████████████████████████████████████████| 156/156 [00:06<00:00, 22.31it/s]\n"
     ]
    },
    {
     "name": "stdout",
     "output_type": "stream",
     "text": [
      "Adjusting learning rate of group 0 to 5.0000e-05.\n",
      "Epoch 23 | Time 302s| Train Loss 0.1913 | Train Acc 93.30| Val Loss 0.478 | Val Acc 85.64| Trigger Loss 0.000 | Trigger Acc 100.00\n"
     ]
    },
    {
     "name": "stderr",
     "output_type": "stream",
     "text": [
      "100%|██████████████████████████████████████████████████████████████████████████████████████████████████████████████████████████████████████████████████████████████████████████████████████████████████████| 156/156 [00:11<00:00, 13.18it/s]"
     ]
    },
    {
     "name": "stdout",
     "output_type": "stream",
     "text": [
      "Adjusting learning rate of group 0 to 5.0000e-05.\n"
     ]
    },
    {
     "name": "stderr",
     "output_type": "stream",
     "text": [
      "\n"
     ]
    },
    {
     "name": "stdout",
     "output_type": "stream",
     "text": [
      "Epoch 24 | Time 317s| Train Loss 0.1869 | Train Acc 93.46| Val Loss 0.467 | Val Acc 85.73| Trigger Loss 0.000 | Trigger Acc 100.00\n"
     ]
    },
    {
     "name": "stderr",
     "output_type": "stream",
     "text": [
      "100%|██████████████████████████████████████████████████████████████████████████████████████████████████████████████████████████████████████████████████████████████████████████████████████████████████████| 156/156 [00:11<00:00, 13.30it/s]"
     ]
    },
    {
     "name": "stdout",
     "output_type": "stream",
     "text": [
      "Adjusting learning rate of group 0 to 5.0000e-05.\n"
     ]
    },
    {
     "name": "stderr",
     "output_type": "stream",
     "text": [
      "\n"
     ]
    },
    {
     "name": "stdout",
     "output_type": "stream",
     "text": [
      "Epoch 25 | Time 331s| Train Loss 0.1847 | Train Acc 93.50| Val Loss 0.466 | Val Acc 85.69| Trigger Loss 0.000 | Trigger Acc 100.00\n"
     ]
    },
    {
     "name": "stderr",
     "output_type": "stream",
     "text": [
      "100%|██████████████████████████████████████████████████████████████████████████████████████████████████████████████████████████████████████████████████████████████████████████████████████████████████████| 156/156 [00:13<00:00, 11.84it/s]"
     ]
    },
    {
     "name": "stdout",
     "output_type": "stream",
     "text": [
      "Adjusting learning rate of group 0 to 5.0000e-05.\n"
     ]
    },
    {
     "name": "stderr",
     "output_type": "stream",
     "text": [
      "\n"
     ]
    },
    {
     "name": "stdout",
     "output_type": "stream",
     "text": [
      "Epoch 26 | Time 346s| Train Loss 0.1853 | Train Acc 93.49| Val Loss 0.468 | Val Acc 85.58| Trigger Loss 0.000 | Trigger Acc 100.00\n"
     ]
    },
    {
     "name": "stderr",
     "output_type": "stream",
     "text": [
      "100%|██████████████████████████████████████████████████████████████████████████████████████████████████████████████████████████████████████████████████████████████████████████████████████████████████████| 156/156 [00:09<00:00, 15.79it/s]"
     ]
    },
    {
     "name": "stdout",
     "output_type": "stream",
     "text": [
      "Adjusting learning rate of group 0 to 5.0000e-05.\n"
     ]
    },
    {
     "name": "stderr",
     "output_type": "stream",
     "text": [
      "\n"
     ]
    },
    {
     "name": "stdout",
     "output_type": "stream",
     "text": [
      "Epoch 27 | Time 358s| Train Loss 0.1836 | Train Acc 93.66| Val Loss 0.469 | Val Acc 85.76| Trigger Loss 0.001 | Trigger Acc 100.00\n"
     ]
    },
    {
     "name": "stderr",
     "output_type": "stream",
     "text": [
      "100%|██████████████████████████████████████████████████████████████████████████████████████████████████████████████████████████████████████████████████████████████████████████████████████████████████████| 156/156 [00:08<00:00, 18.81it/s]"
     ]
    },
    {
     "name": "stdout",
     "output_type": "stream",
     "text": [
      "Adjusting learning rate of group 0 to 5.0000e-05.\n"
     ]
    },
    {
     "name": "stderr",
     "output_type": "stream",
     "text": [
      "\n"
     ]
    },
    {
     "name": "stdout",
     "output_type": "stream",
     "text": [
      "Epoch 28 | Time 369s| Train Loss 0.1884 | Train Acc 93.18| Val Loss 0.476 | Val Acc 85.67| Trigger Loss 0.000 | Trigger Acc 100.00\n"
     ]
    },
    {
     "name": "stderr",
     "output_type": "stream",
     "text": [
      "100%|██████████████████████████████████████████████████████████████████████████████████████████████████████████████████████████████████████████████████████████████████████████████████████████████████████| 156/156 [00:06<00:00, 22.38it/s]\n"
     ]
    },
    {
     "name": "stdout",
     "output_type": "stream",
     "text": [
      "Adjusting learning rate of group 0 to 2.5000e-05.\n",
      "Epoch 29 | Time 378s| Train Loss 0.1766 | Train Acc 93.89| Val Loss 0.469 | Val Acc 85.72| Trigger Loss 0.000 | Trigger Acc 100.00\n"
     ]
    },
    {
     "name": "stderr",
     "output_type": "stream",
     "text": [
      "100%|██████████████████████████████████████████████████████████████████████████████████████████████████████████████████████████████████████████████████████████████████████████████████████████████████████| 156/156 [00:11<00:00, 13.17it/s]"
     ]
    },
    {
     "name": "stdout",
     "output_type": "stream",
     "text": [
      "Adjusting learning rate of group 0 to 2.5000e-05.\n"
     ]
    },
    {
     "name": "stderr",
     "output_type": "stream",
     "text": [
      "\n"
     ]
    },
    {
     "name": "stdout",
     "output_type": "stream",
     "text": [
      "Epoch 30 | Time 393s| Train Loss 0.1650 | Train Acc 94.25| Val Loss 0.466 | Val Acc 85.70| Trigger Loss 0.000 | Trigger Acc 100.00\n"
     ]
    },
    {
     "name": "stderr",
     "output_type": "stream",
     "text": [
      "100%|██████████████████████████████████████████████████████████████████████████████████████████████████████████████████████████████████████████████████████████████████████████████████████████████████████| 156/156 [00:11<00:00, 13.23it/s]"
     ]
    },
    {
     "name": "stdout",
     "output_type": "stream",
     "text": [
      "Adjusting learning rate of group 0 to 2.5000e-05.\n"
     ]
    },
    {
     "name": "stderr",
     "output_type": "stream",
     "text": [
      "\n"
     ]
    },
    {
     "name": "stdout",
     "output_type": "stream",
     "text": [
      "Epoch 31 | Time 407s| Train Loss 0.1637 | Train Acc 94.29| Val Loss 0.470 | Val Acc 85.97| Trigger Loss 0.000 | Trigger Acc 100.00\n"
     ]
    },
    {
     "name": "stderr",
     "output_type": "stream",
     "text": [
      "100%|██████████████████████████████████████████████████████████████████████████████████████████████████████████████████████████████████████████████████████████████████████████████████████████████████████| 156/156 [00:13<00:00, 11.85it/s]"
     ]
    },
    {
     "name": "stdout",
     "output_type": "stream",
     "text": [
      "Adjusting learning rate of group 0 to 2.5000e-05.\n"
     ]
    },
    {
     "name": "stderr",
     "output_type": "stream",
     "text": [
      "\n"
     ]
    },
    {
     "name": "stdout",
     "output_type": "stream",
     "text": [
      "Epoch 32 | Time 422s| Train Loss 0.1632 | Train Acc 94.27| Val Loss 0.464 | Val Acc 85.86| Trigger Loss 0.000 | Trigger Acc 100.00\n"
     ]
    },
    {
     "name": "stderr",
     "output_type": "stream",
     "text": [
      "100%|██████████████████████████████████████████████████████████████████████████████████████████████████████████████████████████████████████████████████████████████████████████████████████████████████████| 156/156 [00:09<00:00, 15.76it/s]"
     ]
    },
    {
     "name": "stdout",
     "output_type": "stream",
     "text": [
      "Adjusting learning rate of group 0 to 2.5000e-05.\n"
     ]
    },
    {
     "name": "stderr",
     "output_type": "stream",
     "text": [
      "\n"
     ]
    },
    {
     "name": "stdout",
     "output_type": "stream",
     "text": [
      "Epoch 33 | Time 434s| Train Loss 0.1608 | Train Acc 94.43| Val Loss 0.464 | Val Acc 86.28| Trigger Loss 0.000 | Trigger Acc 100.00\n"
     ]
    },
    {
     "name": "stderr",
     "output_type": "stream",
     "text": [
      "100%|██████████████████████████████████████████████████████████████████████████████████████████████████████████████████████████████████████████████████████████████████████████████████████████████████████| 156/156 [00:08<00:00, 18.76it/s]"
     ]
    },
    {
     "name": "stdout",
     "output_type": "stream",
     "text": [
      "Adjusting learning rate of group 0 to 2.5000e-05.\n"
     ]
    },
    {
     "name": "stderr",
     "output_type": "stream",
     "text": [
      "\n"
     ]
    },
    {
     "name": "stdout",
     "output_type": "stream",
     "text": [
      "Epoch 34 | Time 445s| Train Loss 0.1595 | Train Acc 94.48| Val Loss 0.462 | Val Acc 86.07| Trigger Loss 0.000 | Trigger Acc 100.00\n"
     ]
    },
    {
     "name": "stderr",
     "output_type": "stream",
     "text": [
      "100%|██████████████████████████████████████████████████████████████████████████████████████████████████████████████████████████████████████████████████████████████████████████████████████████████████████| 156/156 [00:06<00:00, 22.37it/s]\n"
     ]
    },
    {
     "name": "stdout",
     "output_type": "stream",
     "text": [
      "Adjusting learning rate of group 0 to 2.5000e-05.\n",
      "Epoch 35 | Time 454s| Train Loss 0.1487 | Train Acc 94.91| Val Loss 0.482 | Val Acc 86.29| Trigger Loss 0.000 | Trigger Acc 100.00\n"
     ]
    },
    {
     "name": "stderr",
     "output_type": "stream",
     "text": [
      "100%|██████████████████████████████████████████████████████████████████████████████████████████████████████████████████████████████████████████████████████████████████████████████████████████████████████| 156/156 [00:11<00:00, 13.17it/s]"
     ]
    },
    {
     "name": "stdout",
     "output_type": "stream",
     "text": [
      "Adjusting learning rate of group 0 to 2.5000e-05.\n"
     ]
    },
    {
     "name": "stderr",
     "output_type": "stream",
     "text": [
      "\n"
     ]
    },
    {
     "name": "stdout",
     "output_type": "stream",
     "text": [
      "Epoch 36 | Time 469s| Train Loss 0.1478 | Train Acc 94.88| Val Loss 0.481 | Val Acc 86.27| Trigger Loss 0.000 | Trigger Acc 100.00\n"
     ]
    },
    {
     "name": "stderr",
     "output_type": "stream",
     "text": [
      "100%|██████████████████████████████████████████████████████████████████████████████████████████████████████████████████████████████████████████████████████████████████████████████████████████████████████| 156/156 [00:11<00:00, 13.29it/s]"
     ]
    },
    {
     "name": "stdout",
     "output_type": "stream",
     "text": [
      "Adjusting learning rate of group 0 to 2.5000e-05.\n"
     ]
    },
    {
     "name": "stderr",
     "output_type": "stream",
     "text": [
      "\n"
     ]
    },
    {
     "name": "stdout",
     "output_type": "stream",
     "text": [
      "Epoch 37 | Time 483s| Train Loss 0.1439 | Train Acc 95.00| Val Loss 0.479 | Val Acc 86.32| Trigger Loss 0.000 | Trigger Acc 100.00\n"
     ]
    },
    {
     "name": "stderr",
     "output_type": "stream",
     "text": [
      "100%|██████████████████████████████████████████████████████████████████████████████████████████████████████████████████████████████████████████████████████████████████████████████████████████████████████| 156/156 [00:13<00:00, 11.85it/s]"
     ]
    },
    {
     "name": "stdout",
     "output_type": "stream",
     "text": [
      "Adjusting learning rate of group 0 to 2.5000e-05.\n"
     ]
    },
    {
     "name": "stderr",
     "output_type": "stream",
     "text": [
      "\n"
     ]
    },
    {
     "name": "stdout",
     "output_type": "stream",
     "text": [
      "Epoch 38 | Time 498s| Train Loss 0.1463 | Train Acc 94.94| Val Loss 0.477 | Val Acc 86.28| Trigger Loss 0.000 | Trigger Acc 100.00\n"
     ]
    },
    {
     "name": "stderr",
     "output_type": "stream",
     "text": [
      "100%|██████████████████████████████████████████████████████████████████████████████████████████████████████████████████████████████████████████████████████████████████████████████████████████████████████| 156/156 [00:09<00:00, 15.68it/s]\n"
     ]
    },
    {
     "name": "stdout",
     "output_type": "stream",
     "text": [
      "Adjusting learning rate of group 0 to 1.2500e-05.\n",
      "Epoch 39 | Time 511s| Train Loss 0.1453 | Train Acc 94.97| Val Loss 0.472 | Val Acc 86.35| Trigger Loss 0.000 | Trigger Acc 100.00\n"
     ]
    },
    {
     "name": "stderr",
     "output_type": "stream",
     "text": [
      "100%|██████████████████████████████████████████████████████████████████████████████████████████████████████████████████████████████████████████████████████████████████████████████████████████████████████| 156/156 [00:08<00:00, 18.77it/s]"
     ]
    },
    {
     "name": "stdout",
     "output_type": "stream",
     "text": [
      "Adjusting learning rate of group 0 to 1.2500e-05.\n"
     ]
    },
    {
     "name": "stderr",
     "output_type": "stream",
     "text": [
      "\n"
     ]
    },
    {
     "name": "stdout",
     "output_type": "stream",
     "text": [
      "Epoch 40 | Time 521s| Train Loss 0.1426 | Train Acc 95.13| Val Loss 0.472 | Val Acc 86.45| Trigger Loss 0.000 | Trigger Acc 100.00\n"
     ]
    },
    {
     "name": "stderr",
     "output_type": "stream",
     "text": [
      "100%|██████████████████████████████████████████████████████████████████████████████████████████████████████████████████████████████████████████████████████████████████████████████████████████████████████| 156/156 [00:06<00:00, 22.33it/s]\n"
     ]
    },
    {
     "name": "stdout",
     "output_type": "stream",
     "text": [
      "Adjusting learning rate of group 0 to 1.2500e-05.\n",
      "Epoch 41 | Time 531s| Train Loss 0.1360 | Train Acc 95.28| Val Loss 0.481 | Val Acc 86.22| Trigger Loss 0.000 | Trigger Acc 100.00\n"
     ]
    },
    {
     "name": "stderr",
     "output_type": "stream",
     "text": [
      "100%|██████████████████████████████████████████████████████████████████████████████████████████████████████████████████████████████████████████████████████████████████████████████████████████████████████| 156/156 [00:11<00:00, 13.18it/s]"
     ]
    },
    {
     "name": "stdout",
     "output_type": "stream",
     "text": [
      "Adjusting learning rate of group 0 to 1.2500e-05.\n"
     ]
    },
    {
     "name": "stderr",
     "output_type": "stream",
     "text": [
      "\n"
     ]
    },
    {
     "name": "stdout",
     "output_type": "stream",
     "text": [
      "Epoch 42 | Time 545s| Train Loss 0.1337 | Train Acc 95.44| Val Loss 0.484 | Val Acc 86.36| Trigger Loss 0.000 | Trigger Acc 100.00\n"
     ]
    },
    {
     "name": "stderr",
     "output_type": "stream",
     "text": [
      "100%|██████████████████████████████████████████████████████████████████████████████████████████████████████████████████████████████████████████████████████████████████████████████████████████████████████| 156/156 [00:11<00:00, 13.29it/s]"
     ]
    },
    {
     "name": "stdout",
     "output_type": "stream",
     "text": [
      "Adjusting learning rate of group 0 to 1.2500e-05.\n"
     ]
    },
    {
     "name": "stderr",
     "output_type": "stream",
     "text": [
      "\n"
     ]
    },
    {
     "name": "stdout",
     "output_type": "stream",
     "text": [
      "Epoch 43 | Time 559s| Train Loss 0.1324 | Train Acc 95.48| Val Loss 0.486 | Val Acc 86.39| Trigger Loss 0.000 | Trigger Acc 100.00\n"
     ]
    },
    {
     "name": "stderr",
     "output_type": "stream",
     "text": [
      "100%|██████████████████████████████████████████████████████████████████████████████████████████████████████████████████████████████████████████████████████████████████████████████████████████████████████| 156/156 [00:13<00:00, 11.83it/s]"
     ]
    },
    {
     "name": "stdout",
     "output_type": "stream",
     "text": [
      "Adjusting learning rate of group 0 to 1.2500e-05.\n"
     ]
    },
    {
     "name": "stderr",
     "output_type": "stream",
     "text": [
      "\n"
     ]
    },
    {
     "name": "stdout",
     "output_type": "stream",
     "text": [
      "Epoch 44 | Time 574s| Train Loss 0.1330 | Train Acc 95.51| Val Loss 0.483 | Val Acc 86.42| Trigger Loss 0.000 | Trigger Acc 100.00\n"
     ]
    },
    {
     "name": "stderr",
     "output_type": "stream",
     "text": [
      "100%|██████████████████████████████████████████████████████████████████████████████████████████████████████████████████████████████████████████████████████████████████████████████████████████████████████| 156/156 [00:09<00:00, 15.66it/s]\n"
     ]
    },
    {
     "name": "stdout",
     "output_type": "stream",
     "text": [
      "Adjusting learning rate of group 0 to 1.2500e-05.\n",
      "Epoch 45 | Time 587s| Train Loss 0.1295 | Train Acc 95.53| Val Loss 0.482 | Val Acc 86.51| Trigger Loss 0.000 | Trigger Acc 100.00\n"
     ]
    },
    {
     "name": "stderr",
     "output_type": "stream",
     "text": [
      "100%|██████████████████████████████████████████████████████████████████████████████████████████████████████████████████████████████████████████████████████████████████████████████████████████████████████| 156/156 [00:08<00:00, 18.84it/s]"
     ]
    },
    {
     "name": "stdout",
     "output_type": "stream",
     "text": [
      "Adjusting learning rate of group 0 to 1.2500e-05.\n"
     ]
    },
    {
     "name": "stderr",
     "output_type": "stream",
     "text": [
      "\n"
     ]
    },
    {
     "name": "stdout",
     "output_type": "stream",
     "text": [
      "Epoch 46 | Time 597s| Train Loss 0.1336 | Train Acc 95.37| Val Loss 0.480 | Val Acc 86.40| Trigger Loss 0.000 | Trigger Acc 100.00\n"
     ]
    },
    {
     "name": "stderr",
     "output_type": "stream",
     "text": [
      "100%|██████████████████████████████████████████████████████████████████████████████████████████████████████████████████████████████████████████████████████████████████████████████████████████████████████| 156/156 [00:06<00:00, 22.35it/s]\n"
     ]
    },
    {
     "name": "stdout",
     "output_type": "stream",
     "text": [
      "Adjusting learning rate of group 0 to 1.2500e-05.\n",
      "Epoch 47 | Time 607s| Train Loss 0.1321 | Train Acc 95.47| Val Loss 0.482 | Val Acc 86.19| Trigger Loss 0.000 | Trigger Acc 100.00\n"
     ]
    },
    {
     "name": "stderr",
     "output_type": "stream",
     "text": [
      "100%|██████████████████████████████████████████████████████████████████████████████████████████████████████████████████████████████████████████████████████████████████████████████████████████████████████| 156/156 [00:11<00:00, 13.14it/s]"
     ]
    },
    {
     "name": "stdout",
     "output_type": "stream",
     "text": [
      "Adjusting learning rate of group 0 to 1.2500e-05.\n"
     ]
    },
    {
     "name": "stderr",
     "output_type": "stream",
     "text": [
      "\n"
     ]
    },
    {
     "name": "stdout",
     "output_type": "stream",
     "text": [
      "Epoch 48 | Time 621s| Train Loss 0.1246 | Train Acc 95.66| Val Loss 0.485 | Val Acc 86.42| Trigger Loss 0.000 | Trigger Acc 100.00\n"
     ]
    },
    {
     "name": "stderr",
     "output_type": "stream",
     "text": [
      "100%|██████████████████████████████████████████████████████████████████████████████████████████████████████████████████████████████████████████████████████████████████████████████████████████████████████| 156/156 [00:11<00:00, 13.29it/s]"
     ]
    },
    {
     "name": "stdout",
     "output_type": "stream",
     "text": [
      "Adjusting learning rate of group 0 to 6.2500e-06.\n"
     ]
    },
    {
     "name": "stderr",
     "output_type": "stream",
     "text": [
      "\n"
     ]
    },
    {
     "name": "stdout",
     "output_type": "stream",
     "text": [
      "Epoch 49 | Time 635s| Train Loss 0.1250 | Train Acc 95.69| Val Loss 0.482 | Val Acc 86.41| Trigger Loss 0.000 | Trigger Acc 100.00\n"
     ]
    },
    {
     "name": "stderr",
     "output_type": "stream",
     "text": [
      "100%|██████████████████████████████████████████████████████████████████████████████████████████████████████████████████████████████████████████████████████████████████████████████████████████████████████| 156/156 [00:13<00:00, 11.80it/s]"
     ]
    },
    {
     "name": "stdout",
     "output_type": "stream",
     "text": [
      "Adjusting learning rate of group 0 to 6.2500e-06.\n"
     ]
    },
    {
     "name": "stderr",
     "output_type": "stream",
     "text": [
      "\n"
     ]
    },
    {
     "name": "stdout",
     "output_type": "stream",
     "text": [
      "Epoch 50 | Time 651s| Train Loss 0.1239 | Train Acc 95.75| Val Loss 0.481 | Val Acc 86.39| Trigger Loss 0.000 | Trigger Acc 100.00\n"
     ]
    },
    {
     "name": "stderr",
     "output_type": "stream",
     "text": [
      "100%|██████████████████████████████████████████████████████████████████████████████████████████████████████████████████████████████████████████████████████████████████████████████████████████████████████| 156/156 [00:09<00:00, 15.74it/s]"
     ]
    },
    {
     "name": "stdout",
     "output_type": "stream",
     "text": [
      "Adjusting learning rate of group 0 to 6.2500e-06.\n"
     ]
    },
    {
     "name": "stderr",
     "output_type": "stream",
     "text": [
      "\n"
     ]
    },
    {
     "name": "stdout",
     "output_type": "stream",
     "text": [
      "Epoch 51 | Time 663s| Train Loss 0.1237 | Train Acc 95.78| Val Loss 0.479 | Val Acc 86.42| Trigger Loss 0.000 | Trigger Acc 100.00\n"
     ]
    },
    {
     "name": "stderr",
     "output_type": "stream",
     "text": [
      "100%|██████████████████████████████████████████████████████████████████████████████████████████████████████████████████████████████████████████████████████████████████████████████████████████████████████| 156/156 [00:08<00:00, 18.84it/s]"
     ]
    },
    {
     "name": "stdout",
     "output_type": "stream",
     "text": [
      "Adjusting learning rate of group 0 to 6.2500e-06.\n"
     ]
    },
    {
     "name": "stderr",
     "output_type": "stream",
     "text": [
      "\n"
     ]
    },
    {
     "name": "stdout",
     "output_type": "stream",
     "text": [
      "Epoch 52 | Time 674s| Train Loss 0.1253 | Train Acc 95.73| Val Loss 0.480 | Val Acc 86.30| Trigger Loss 0.000 | Trigger Acc 100.00\n"
     ]
    },
    {
     "name": "stderr",
     "output_type": "stream",
     "text": [
      "100%|██████████████████████████████████████████████████████████████████████████████████████████████████████████████████████████████████████████████████████████████████████████████████████████████████████| 156/156 [00:07<00:00, 22.27it/s]\n"
     ]
    },
    {
     "name": "stdout",
     "output_type": "stream",
     "text": [
      "Adjusting learning rate of group 0 to 6.2500e-06.\n",
      "Epoch 53 | Time 683s| Train Loss 0.1242 | Train Acc 95.76| Val Loss 0.486 | Val Acc 86.54| Trigger Loss 0.000 | Trigger Acc 100.00\n"
     ]
    },
    {
     "name": "stderr",
     "output_type": "stream",
     "text": [
      "100%|██████████████████████████████████████████████████████████████████████████████████████████████████████████████████████████████████████████████████████████████████████████████████████████████████████| 156/156 [00:11<00:00, 13.15it/s]"
     ]
    },
    {
     "name": "stdout",
     "output_type": "stream",
     "text": [
      "Adjusting learning rate of group 0 to 6.2500e-06.\n"
     ]
    },
    {
     "name": "stderr",
     "output_type": "stream",
     "text": [
      "\n"
     ]
    },
    {
     "name": "stdout",
     "output_type": "stream",
     "text": [
      "Epoch 54 | Time 697s| Train Loss 0.1206 | Train Acc 95.80| Val Loss 0.491 | Val Acc 86.33| Trigger Loss 0.000 | Trigger Acc 100.00\n"
     ]
    },
    {
     "name": "stderr",
     "output_type": "stream",
     "text": [
      "100%|██████████████████████████████████████████████████████████████████████████████████████████████████████████████████████████████████████████████████████████████████████████████████████████████████████| 156/156 [00:11<00:00, 13.27it/s]"
     ]
    },
    {
     "name": "stdout",
     "output_type": "stream",
     "text": [
      "Adjusting learning rate of group 0 to 6.2500e-06.\n"
     ]
    },
    {
     "name": "stderr",
     "output_type": "stream",
     "text": [
      "\n"
     ]
    },
    {
     "name": "stdout",
     "output_type": "stream",
     "text": [
      "Epoch 55 | Time 711s| Train Loss 0.1200 | Train Acc 95.82| Val Loss 0.486 | Val Acc 86.40| Trigger Loss 0.000 | Trigger Acc 100.00\n"
     ]
    },
    {
     "name": "stderr",
     "output_type": "stream",
     "text": [
      "100%|██████████████████████████████████████████████████████████████████████████████████████████████████████████████████████████████████████████████████████████████████████████████████████████████████████| 156/156 [00:13<00:00, 11.84it/s]"
     ]
    },
    {
     "name": "stdout",
     "output_type": "stream",
     "text": [
      "Adjusting learning rate of group 0 to 6.2500e-06.\n"
     ]
    },
    {
     "name": "stderr",
     "output_type": "stream",
     "text": [
      "\n"
     ]
    },
    {
     "name": "stdout",
     "output_type": "stream",
     "text": [
      "Epoch 56 | Time 727s| Train Loss 0.1180 | Train Acc 95.94| Val Loss 0.486 | Val Acc 86.54| Trigger Loss 0.000 | Trigger Acc 100.00\n"
     ]
    },
    {
     "name": "stderr",
     "output_type": "stream",
     "text": [
      "100%|██████████████████████████████████████████████████████████████████████████████████████████████████████████████████████████████████████████████████████████████████████████████████████████████████████| 156/156 [00:09<00:00, 15.76it/s]"
     ]
    },
    {
     "name": "stdout",
     "output_type": "stream",
     "text": [
      "Adjusting learning rate of group 0 to 6.2500e-06.\n"
     ]
    },
    {
     "name": "stderr",
     "output_type": "stream",
     "text": [
      "\n"
     ]
    },
    {
     "name": "stdout",
     "output_type": "stream",
     "text": [
      "Epoch 57 | Time 739s| Train Loss 0.1186 | Train Acc 95.95| Val Loss 0.485 | Val Acc 86.60| Trigger Loss 0.000 | Trigger Acc 100.00\n"
     ]
    },
    {
     "name": "stderr",
     "output_type": "stream",
     "text": [
      "100%|██████████████████████████████████████████████████████████████████████████████████████████████████████████████████████████████████████████████████████████████████████████████████████████████████████| 156/156 [00:08<00:00, 18.82it/s]"
     ]
    },
    {
     "name": "stdout",
     "output_type": "stream",
     "text": [
      "Adjusting learning rate of group 0 to 6.2500e-06.\n"
     ]
    },
    {
     "name": "stderr",
     "output_type": "stream",
     "text": [
      "\n"
     ]
    },
    {
     "name": "stdout",
     "output_type": "stream",
     "text": [
      "Epoch 58 | Time 750s| Train Loss 0.1208 | Train Acc 95.87| Val Loss 0.484 | Val Acc 86.39| Trigger Loss 0.000 | Trigger Acc 100.00\n"
     ]
    },
    {
     "name": "stderr",
     "output_type": "stream",
     "text": [
      "100%|██████████████████████████████████████████████████████████████████████████████████████████████████████████████████████████████████████████████████████████████████████████████████████████████████████| 156/156 [00:07<00:00, 22.27it/s]\n"
     ]
    },
    {
     "name": "stdout",
     "output_type": "stream",
     "text": [
      "Adjusting learning rate of group 0 to 3.1250e-06.\n",
      "Epoch 59 | Time 759s| Train Loss 0.1202 | Train Acc 95.80| Val Loss 0.488 | Val Acc 86.49| Trigger Loss 0.000 | Trigger Acc 100.00\n"
     ]
    },
    {
     "name": "stderr",
     "output_type": "stream",
     "text": [
      "100%|██████████████████████████████████████████████████████████████████████████████████████████████████████████████████████████████████████████████████████████████████████████████████████████████████████| 156/156 [00:11<00:00, 13.08it/s]"
     ]
    },
    {
     "name": "stdout",
     "output_type": "stream",
     "text": [
      "Adjusting learning rate of group 0 to 3.1250e-06.\n"
     ]
    },
    {
     "name": "stderr",
     "output_type": "stream",
     "text": [
      "\n"
     ]
    },
    {
     "name": "stdout",
     "output_type": "stream",
     "text": [
      "Epoch 60 | Time 774s| Train Loss 0.1145 | Train Acc 96.01| Val Loss 0.491 | Val Acc 86.47| Trigger Loss 0.000 | Trigger Acc 100.00\n"
     ]
    },
    {
     "name": "stderr",
     "output_type": "stream",
     "text": [
      "100%|██████████████████████████████████████████████████████████████████████████████████████████████████████████████████████████████████████████████████████████████████████████████████████████████████████| 156/156 [00:11<00:00, 13.28it/s]"
     ]
    },
    {
     "name": "stdout",
     "output_type": "stream",
     "text": [
      "Adjusting learning rate of group 0 to 3.1250e-06.\n"
     ]
    },
    {
     "name": "stderr",
     "output_type": "stream",
     "text": [
      "\n"
     ]
    },
    {
     "name": "stdout",
     "output_type": "stream",
     "text": [
      "Epoch 61 | Time 788s| Train Loss 0.1179 | Train Acc 96.00| Val Loss 0.489 | Val Acc 86.40| Trigger Loss 0.000 | Trigger Acc 100.00\n"
     ]
    },
    {
     "name": "stderr",
     "output_type": "stream",
     "text": [
      "100%|██████████████████████████████████████████████████████████████████████████████████████████████████████████████████████████████████████████████████████████████████████████████████████████████████████| 156/156 [00:13<00:00, 11.84it/s]"
     ]
    },
    {
     "name": "stdout",
     "output_type": "stream",
     "text": [
      "Adjusting learning rate of group 0 to 3.1250e-06.\n"
     ]
    },
    {
     "name": "stderr",
     "output_type": "stream",
     "text": [
      "\n"
     ]
    },
    {
     "name": "stdout",
     "output_type": "stream",
     "text": [
      "Epoch 62 | Time 803s| Train Loss 0.1161 | Train Acc 96.02| Val Loss 0.488 | Val Acc 86.42| Trigger Loss 0.000 | Trigger Acc 100.00\n"
     ]
    },
    {
     "name": "stderr",
     "output_type": "stream",
     "text": [
      "100%|██████████████████████████████████████████████████████████████████████████████████████████████████████████████████████████████████████████████████████████████████████████████████████████████████████| 156/156 [00:09<00:00, 15.75it/s]\n"
     ]
    },
    {
     "name": "stdout",
     "output_type": "stream",
     "text": [
      "Adjusting learning rate of group 0 to 3.1250e-06.\n",
      "Epoch 63 | Time 815s| Train Loss 0.1156 | Train Acc 95.91| Val Loss 0.490 | Val Acc 86.52| Trigger Loss 0.000 | Trigger Acc 100.00\n"
     ]
    },
    {
     "name": "stderr",
     "output_type": "stream",
     "text": [
      "100%|██████████████████████████████████████████████████████████████████████████████████████████████████████████████████████████████████████████████████████████████████████████████████████████████████████| 156/156 [00:08<00:00, 18.80it/s]"
     ]
    },
    {
     "name": "stdout",
     "output_type": "stream",
     "text": [
      "Adjusting learning rate of group 0 to 3.1250e-06.\n"
     ]
    },
    {
     "name": "stderr",
     "output_type": "stream",
     "text": [
      "\n"
     ]
    },
    {
     "name": "stdout",
     "output_type": "stream",
     "text": [
      "Epoch 64 | Time 826s| Train Loss 0.1160 | Train Acc 96.06| Val Loss 0.488 | Val Acc 86.43| Trigger Loss 0.000 | Trigger Acc 100.00\n"
     ]
    },
    {
     "name": "stderr",
     "output_type": "stream",
     "text": [
      "100%|██████████████████████████████████████████████████████████████████████████████████████████████████████████████████████████████████████████████████████████████████████████████████████████████████████| 156/156 [00:06<00:00, 22.33it/s]\n"
     ]
    },
    {
     "name": "stdout",
     "output_type": "stream",
     "text": [
      "Adjusting learning rate of group 0 to 3.1250e-06.\n",
      "Epoch 65 | Time 835s| Train Loss 0.1163 | Train Acc 95.90| Val Loss 0.493 | Val Acc 86.49| Trigger Loss 0.000 | Trigger Acc 100.00\n"
     ]
    },
    {
     "name": "stderr",
     "output_type": "stream",
     "text": [
      "100%|██████████████████████████████████████████████████████████████████████████████████████████████████████████████████████████████████████████████████████████████████████████████████████████████████████| 156/156 [00:11<00:00, 13.14it/s]"
     ]
    },
    {
     "name": "stdout",
     "output_type": "stream",
     "text": [
      "Adjusting learning rate of group 0 to 3.1250e-06.\n"
     ]
    },
    {
     "name": "stderr",
     "output_type": "stream",
     "text": [
      "\n"
     ]
    },
    {
     "name": "stdout",
     "output_type": "stream",
     "text": [
      "Epoch 66 | Time 850s| Train Loss 0.1146 | Train Acc 96.04| Val Loss 0.490 | Val Acc 86.64| Trigger Loss 0.000 | Trigger Acc 100.00\n"
     ]
    },
    {
     "name": "stderr",
     "output_type": "stream",
     "text": [
      "100%|██████████████████████████████████████████████████████████████████████████████████████████████████████████████████████████████████████████████████████████████████████████████████████████████████████| 156/156 [00:11<00:00, 13.24it/s]"
     ]
    },
    {
     "name": "stdout",
     "output_type": "stream",
     "text": [
      "Adjusting learning rate of group 0 to 3.1250e-06.\n"
     ]
    },
    {
     "name": "stderr",
     "output_type": "stream",
     "text": [
      "\n"
     ]
    },
    {
     "name": "stdout",
     "output_type": "stream",
     "text": [
      "Epoch 67 | Time 864s| Train Loss 0.1143 | Train Acc 96.15| Val Loss 0.489 | Val Acc 86.63| Trigger Loss 0.000 | Trigger Acc 100.00\n"
     ]
    },
    {
     "name": "stderr",
     "output_type": "stream",
     "text": [
      "100%|██████████████████████████████████████████████████████████████████████████████████████████████████████████████████████████████████████████████████████████████████████████████████████████████████████| 156/156 [00:13<00:00, 11.85it/s]"
     ]
    },
    {
     "name": "stdout",
     "output_type": "stream",
     "text": [
      "Adjusting learning rate of group 0 to 3.1250e-06.\n"
     ]
    },
    {
     "name": "stderr",
     "output_type": "stream",
     "text": [
      "\n"
     ]
    },
    {
     "name": "stdout",
     "output_type": "stream",
     "text": [
      "Epoch 68 | Time 879s| Train Loss 0.1146 | Train Acc 96.08| Val Loss 0.490 | Val Acc 86.54| Trigger Loss 0.000 | Trigger Acc 100.00\n"
     ]
    },
    {
     "name": "stderr",
     "output_type": "stream",
     "text": [
      "100%|██████████████████████████████████████████████████████████████████████████████████████████████████████████████████████████████████████████████████████████████████████████████████████████████████████| 156/156 [00:09<00:00, 15.72it/s]\n"
     ]
    },
    {
     "name": "stdout",
     "output_type": "stream",
     "text": [
      "Adjusting learning rate of group 0 to 1.5625e-06.\n",
      "Epoch 69 | Time 892s| Train Loss 0.1130 | Train Acc 96.09| Val Loss 0.489 | Val Acc 86.49| Trigger Loss 0.000 | Trigger Acc 100.00\n"
     ]
    },
    {
     "name": "stderr",
     "output_type": "stream",
     "text": [
      "100%|██████████████████████████████████████████████████████████████████████████████████████████████████████████████████████████████████████████████████████████████████████████████████████████████████████| 156/156 [00:08<00:00, 18.84it/s]"
     ]
    },
    {
     "name": "stdout",
     "output_type": "stream",
     "text": [
      "Adjusting learning rate of group 0 to 1.5625e-06.\n"
     ]
    },
    {
     "name": "stderr",
     "output_type": "stream",
     "text": [
      "\n"
     ]
    },
    {
     "name": "stdout",
     "output_type": "stream",
     "text": [
      "Epoch 70 | Time 902s| Train Loss 0.1128 | Train Acc 96.20| Val Loss 0.490 | Val Acc 86.50| Trigger Loss 0.000 | Trigger Acc 100.00\n"
     ]
    },
    {
     "name": "stderr",
     "output_type": "stream",
     "text": [
      "100%|██████████████████████████████████████████████████████████████████████████████████████████████████████████████████████████████████████████████████████████████████████████████████████████████████████| 156/156 [00:06<00:00, 22.32it/s]\n"
     ]
    },
    {
     "name": "stdout",
     "output_type": "stream",
     "text": [
      "Adjusting learning rate of group 0 to 1.5625e-06.\n",
      "Epoch 71 | Time 912s| Train Loss 0.1099 | Train Acc 96.27| Val Loss 0.490 | Val Acc 86.63| Trigger Loss 0.000 | Trigger Acc 100.00\n"
     ]
    },
    {
     "name": "stderr",
     "output_type": "stream",
     "text": [
      "100%|██████████████████████████████████████████████████████████████████████████████████████████████████████████████████████████████████████████████████████████████████████████████████████████████████████| 156/156 [00:11<00:00, 13.16it/s]"
     ]
    },
    {
     "name": "stdout",
     "output_type": "stream",
     "text": [
      "Adjusting learning rate of group 0 to 1.5625e-06.\n"
     ]
    },
    {
     "name": "stderr",
     "output_type": "stream",
     "text": [
      "\n"
     ]
    },
    {
     "name": "stdout",
     "output_type": "stream",
     "text": [
      "Epoch 72 | Time 926s| Train Loss 0.1132 | Train Acc 96.11| Val Loss 0.492 | Val Acc 86.66| Trigger Loss 0.000 | Trigger Acc 100.00\n"
     ]
    },
    {
     "name": "stderr",
     "output_type": "stream",
     "text": [
      "100%|██████████████████████████████████████████████████████████████████████████████████████████████████████████████████████████████████████████████████████████████████████████████████████████████████████| 156/156 [00:11<00:00, 13.28it/s]"
     ]
    },
    {
     "name": "stdout",
     "output_type": "stream",
     "text": [
      "Adjusting learning rate of group 0 to 1.5625e-06.\n"
     ]
    },
    {
     "name": "stderr",
     "output_type": "stream",
     "text": [
      "\n"
     ]
    },
    {
     "name": "stdout",
     "output_type": "stream",
     "text": [
      "Epoch 73 | Time 940s| Train Loss 0.1119 | Train Acc 96.12| Val Loss 0.492 | Val Acc 86.71| Trigger Loss 0.000 | Trigger Acc 100.00\n"
     ]
    },
    {
     "name": "stderr",
     "output_type": "stream",
     "text": [
      "100%|██████████████████████████████████████████████████████████████████████████████████████████████████████████████████████████████████████████████████████████████████████████████████████████████████████| 156/156 [00:13<00:00, 11.83it/s]"
     ]
    },
    {
     "name": "stdout",
     "output_type": "stream",
     "text": [
      "Adjusting learning rate of group 0 to 1.5625e-06.\n"
     ]
    },
    {
     "name": "stderr",
     "output_type": "stream",
     "text": [
      "\n"
     ]
    },
    {
     "name": "stdout",
     "output_type": "stream",
     "text": [
      "Epoch 74 | Time 955s| Train Loss 0.1125 | Train Acc 96.08| Val Loss 0.490 | Val Acc 86.73| Trigger Loss 0.000 | Trigger Acc 100.00\n"
     ]
    },
    {
     "name": "stderr",
     "output_type": "stream",
     "text": [
      "100%|██████████████████████████████████████████████████████████████████████████████████████████████████████████████████████████████████████████████████████████████████████████████████████████████████████| 156/156 [00:09<00:00, 15.75it/s]\n"
     ]
    },
    {
     "name": "stdout",
     "output_type": "stream",
     "text": [
      "Adjusting learning rate of group 0 to 1.5625e-06.\n",
      "Epoch 75 | Time 968s| Train Loss 0.1118 | Train Acc 96.13| Val Loss 0.491 | Val Acc 86.67| Trigger Loss 0.000 | Trigger Acc 100.00\n"
     ]
    },
    {
     "name": "stderr",
     "output_type": "stream",
     "text": [
      "100%|██████████████████████████████████████████████████████████████████████████████████████████████████████████████████████████████████████████████████████████████████████████████████████████████████████| 156/156 [00:08<00:00, 18.81it/s]"
     ]
    },
    {
     "name": "stdout",
     "output_type": "stream",
     "text": [
      "Adjusting learning rate of group 0 to 1.5625e-06.\n"
     ]
    },
    {
     "name": "stderr",
     "output_type": "stream",
     "text": [
      "\n"
     ]
    },
    {
     "name": "stdout",
     "output_type": "stream",
     "text": [
      "Epoch 76 | Time 978s| Train Loss 0.1110 | Train Acc 96.19| Val Loss 0.493 | Val Acc 86.50| Trigger Loss 0.000 | Trigger Acc 100.00\n"
     ]
    },
    {
     "name": "stderr",
     "output_type": "stream",
     "text": [
      "100%|██████████████████████████████████████████████████████████████████████████████████████████████████████████████████████████████████████████████████████████████████████████████████████████████████████| 156/156 [00:07<00:00, 22.25it/s]"
     ]
    },
    {
     "name": "stdout",
     "output_type": "stream",
     "text": [
      "Adjusting learning rate of group 0 to 1.5625e-06.\n"
     ]
    },
    {
     "name": "stderr",
     "output_type": "stream",
     "text": [
      "\n"
     ]
    },
    {
     "name": "stdout",
     "output_type": "stream",
     "text": [
      "Epoch 77 | Time 988s| Train Loss 0.1109 | Train Acc 96.26| Val Loss 0.492 | Val Acc 86.65| Trigger Loss 0.000 | Trigger Acc 100.00\n"
     ]
    },
    {
     "name": "stderr",
     "output_type": "stream",
     "text": [
      "100%|██████████████████████████████████████████████████████████████████████████████████████████████████████████████████████████████████████████████████████████████████████████████████████████████████████| 156/156 [00:11<00:00, 13.15it/s]"
     ]
    },
    {
     "name": "stdout",
     "output_type": "stream",
     "text": [
      "Adjusting learning rate of group 0 to 1.5625e-06.\n"
     ]
    },
    {
     "name": "stderr",
     "output_type": "stream",
     "text": [
      "\n"
     ]
    },
    {
     "name": "stdout",
     "output_type": "stream",
     "text": [
      "Epoch 78 | Time 1002s| Train Loss 0.1102 | Train Acc 96.17| Val Loss 0.496 | Val Acc 86.49| Trigger Loss 0.000 | Trigger Acc 100.00\n"
     ]
    },
    {
     "name": "stderr",
     "output_type": "stream",
     "text": [
      "100%|██████████████████████████████████████████████████████████████████████████████████████████████████████████████████████████████████████████████████████████████████████████████████████████████████████| 156/156 [00:11<00:00, 13.26it/s]"
     ]
    },
    {
     "name": "stdout",
     "output_type": "stream",
     "text": [
      "Adjusting learning rate of group 0 to 7.8125e-07.\n"
     ]
    },
    {
     "name": "stderr",
     "output_type": "stream",
     "text": [
      "\n"
     ]
    },
    {
     "name": "stdout",
     "output_type": "stream",
     "text": [
      "Epoch 79 | Time 1016s| Train Loss 0.1125 | Train Acc 96.18| Val Loss 0.493 | Val Acc 86.62| Trigger Loss 0.000 | Trigger Acc 100.00\n"
     ]
    },
    {
     "data": {
      "text/plain": [
       "{'train_acc': [76.1211232187762,\n",
       "  85.08382229673093,\n",
       "  87.9694048616932,\n",
       "  89.5054484492875,\n",
       "  90.29966471081308,\n",
       "  91.058256496228,\n",
       "  91.26571668063706,\n",
       "  91.51718357082984,\n",
       "  90.92204526404024,\n",
       "  90.42330259849119,\n",
       "  90.58466051969823,\n",
       "  91.20913663034366,\n",
       "  91.48575020955573,\n",
       "  91.81475272422465,\n",
       "  91.76236378876781,\n",
       "  91.69321039396479,\n",
       "  91.4815590947192,\n",
       "  91.91114836546521,\n",
       "  92.23595976529757,\n",
       "  92.66554903604359,\n",
       "  92.6487845766974,\n",
       "  92.80804694048616,\n",
       "  92.82271584241408,\n",
       "  93.29631181894385,\n",
       "  93.46186085498742,\n",
       "  93.50167644593462,\n",
       "  93.49119865884326,\n",
       "  93.66093880972338,\n",
       "  93.17686504610226,\n",
       "  93.88516345347863,\n",
       "  94.25398155909473,\n",
       "  94.29170159262364,\n",
       "  94.26655490360436,\n",
       "  94.4279128248114,\n",
       "  94.48449287510478,\n",
       "  94.90779547359598,\n",
       "  94.8826487845767,\n",
       "  95.00419111483654,\n",
       "  94.94132439228835,\n",
       "  94.97066219614418,\n",
       "  95.13411567476949,\n",
       "  95.27661357921207,\n",
       "  95.43587594300084,\n",
       "  95.47988264878458,\n",
       "  95.50922045264039,\n",
       "  95.52808046940487,\n",
       "  95.37091366303436,\n",
       "  95.4694048616932,\n",
       "  95.6580050293378,\n",
       "  95.68524727577535,\n",
       "  95.74811399832356,\n",
       "  95.78164291701593,\n",
       "  95.72715842414082,\n",
       "  95.7606873428332,\n",
       "  95.80469404861694,\n",
       "  95.81726739312657,\n",
       "  95.93671416596816,\n",
       "  95.94719195305952,\n",
       "  95.87384744341995,\n",
       "  95.80469404861694,\n",
       "  96.01215423302598,\n",
       "  96.00167644593462,\n",
       "  96.02263202011734,\n",
       "  95.91366303436715,\n",
       "  96.058256496228,\n",
       "  95.89689857502096,\n",
       "  96.04149203688182,\n",
       "  96.15046102263202,\n",
       "  96.07921207041072,\n",
       "  96.09178541492037,\n",
       "  96.20075440067058,\n",
       "  96.27200335289187,\n",
       "  96.1127409891031,\n",
       "  96.12112321877619,\n",
       "  96.07502095557419,\n",
       "  96.12740989103101,\n",
       "  96.18608549874267,\n",
       "  96.25733445096397,\n",
       "  96.16932103939648,\n",
       "  96.18189438390613],\n",
       " 'train_loss': [0.7339391286894742,\n",
       "  0.45918784291426473,\n",
       "  0.35860086090406845,\n",
       "  0.307064936199512,\n",
       "  0.28157865406456656,\n",
       "  0.2604612477342321,\n",
       "  0.25070414446100703,\n",
       "  0.24438454813299715,\n",
       "  0.2619596630060063,\n",
       "  0.27305345810818654,\n",
       "  0.264442787488668,\n",
       "  0.2500966340678136,\n",
       "  0.24190204483390554,\n",
       "  0.23174829942307748,\n",
       "  0.23625333852135424,\n",
       "  0.234007386619667,\n",
       "  0.24452071157779798,\n",
       "  0.2320979225090943,\n",
       "  0.2216611739550932,\n",
       "  0.21314186147552325,\n",
       "  0.2125212242809645,\n",
       "  0.20453684555065302,\n",
       "  0.20413099009752872,\n",
       "  0.19130184862384852,\n",
       "  0.18690273232714327,\n",
       "  0.1847071011040956,\n",
       "  0.18528127513220105,\n",
       "  0.1836170241492742,\n",
       "  0.18843433206459104,\n",
       "  0.17662228375723257,\n",
       "  0.16500204435525476,\n",
       "  0.16366475633621116,\n",
       "  0.1632376255447237,\n",
       "  0.16079292528562353,\n",
       "  0.1594537781218921,\n",
       "  0.14870139733518958,\n",
       "  0.14776981867856073,\n",
       "  0.14392086096351525,\n",
       "  0.14629246187704706,\n",
       "  0.14530705149033343,\n",
       "  0.14257905859646933,\n",
       "  0.1360454776773209,\n",
       "  0.13370749553648345,\n",
       "  0.132430440131247,\n",
       "  0.13295949397535256,\n",
       "  0.12950535845776515,\n",
       "  0.13364923274314713,\n",
       "  0.13214113486357726,\n",
       "  0.12455834304259689,\n",
       "  0.124983761976071,\n",
       "  0.12391602631911248,\n",
       "  0.12366427418690765,\n",
       "  0.1252624045367363,\n",
       "  0.12422154094814655,\n",
       "  0.12055671236728382,\n",
       "  0.12001389108304705,\n",
       "  0.11802381315555077,\n",
       "  0.1186462108654728,\n",
       "  0.12075441008978598,\n",
       "  0.12015490804838715,\n",
       "  0.11454458404504143,\n",
       "  0.1178770960438981,\n",
       "  0.11607347909120681,\n",
       "  0.11562472726253532,\n",
       "  0.11596014910039538,\n",
       "  0.11625900825006265,\n",
       "  0.11460730562678227,\n",
       "  0.11431349745053059,\n",
       "  0.11459636755368835,\n",
       "  0.11299595842255031,\n",
       "  0.11275582061167135,\n",
       "  0.10985552711975945,\n",
       "  0.11318423347508617,\n",
       "  0.1118596845724107,\n",
       "  0.11253197217377313,\n",
       "  0.1118022182586307,\n",
       "  0.1109713655639649,\n",
       "  0.11086556623687488,\n",
       "  0.11016943118186029,\n",
       "  0.1124781240636525],\n",
       " 'val_acc': [80.36,\n",
       "  80.78999999999999,\n",
       "  83.38,\n",
       "  84.25,\n",
       "  84.19,\n",
       "  84.98,\n",
       "  85.16,\n",
       "  84.98,\n",
       "  84.74000000000001,\n",
       "  84.16,\n",
       "  84.54,\n",
       "  84.35000000000001,\n",
       "  84.71,\n",
       "  84.93,\n",
       "  85.0,\n",
       "  84.66,\n",
       "  84.77,\n",
       "  85.02,\n",
       "  85.0,\n",
       "  84.93,\n",
       "  85.45,\n",
       "  85.85000000000001,\n",
       "  85.59,\n",
       "  85.64,\n",
       "  85.72999999999999,\n",
       "  85.69,\n",
       "  85.58,\n",
       "  85.76,\n",
       "  85.67,\n",
       "  85.72,\n",
       "  85.7,\n",
       "  85.97,\n",
       "  85.86,\n",
       "  86.28,\n",
       "  86.07000000000001,\n",
       "  86.29,\n",
       "  86.27,\n",
       "  86.32,\n",
       "  86.28,\n",
       "  86.35000000000001,\n",
       "  86.45,\n",
       "  86.22,\n",
       "  86.36,\n",
       "  86.39,\n",
       "  86.42,\n",
       "  86.50999999999999,\n",
       "  86.4,\n",
       "  86.19,\n",
       "  86.42,\n",
       "  86.41,\n",
       "  86.39,\n",
       "  86.42,\n",
       "  86.3,\n",
       "  86.53999999999999,\n",
       "  86.33,\n",
       "  86.4,\n",
       "  86.53999999999999,\n",
       "  86.6,\n",
       "  86.39,\n",
       "  86.49,\n",
       "  86.47,\n",
       "  86.4,\n",
       "  86.42,\n",
       "  86.52,\n",
       "  86.42999999999999,\n",
       "  86.49,\n",
       "  86.64,\n",
       "  86.63,\n",
       "  86.53999999999999,\n",
       "  86.49,\n",
       "  86.5,\n",
       "  86.63,\n",
       "  86.66,\n",
       "  86.71,\n",
       "  86.72999999999999,\n",
       "  86.67,\n",
       "  86.5,\n",
       "  86.65,\n",
       "  86.49,\n",
       "  86.61999999999999],\n",
       " 'val_loss': [0.5833194058418274,\n",
       "  0.5659719672441482,\n",
       "  0.48661498646736145,\n",
       "  0.4696715205192566,\n",
       "  0.4736839476108551,\n",
       "  0.4629552886009216,\n",
       "  0.460267751789093,\n",
       "  0.4595286221504211,\n",
       "  0.4686829242706299,\n",
       "  0.49388824224472044,\n",
       "  0.4733906266212463,\n",
       "  0.4898193988323212,\n",
       "  0.481603999042511,\n",
       "  0.4728626475334167,\n",
       "  0.4637563542842865,\n",
       "  0.4727483591079712,\n",
       "  0.4744894383907318,\n",
       "  0.48385855135917666,\n",
       "  0.47272537660598757,\n",
       "  0.4731148697853088,\n",
       "  0.4674471437931061,\n",
       "  0.45925928502082825,\n",
       "  0.4581556791305542,\n",
       "  0.4778257065296173,\n",
       "  0.4672317636013031,\n",
       "  0.46638487715721133,\n",
       "  0.4676401609420776,\n",
       "  0.46938134989738467,\n",
       "  0.4762003792524338,\n",
       "  0.46862351684570314,\n",
       "  0.4662615909099579,\n",
       "  0.4698374730348587,\n",
       "  0.46368542301654814,\n",
       "  0.46365334339141845,\n",
       "  0.4624789557695389,\n",
       "  0.48229843542575834,\n",
       "  0.48075352404117583,\n",
       "  0.4787912346839905,\n",
       "  0.4767031430721283,\n",
       "  0.4715155874013901,\n",
       "  0.4717477546930313,\n",
       "  0.4810204534769058,\n",
       "  0.4835425855875015,\n",
       "  0.48584045610427856,\n",
       "  0.483491300034523,\n",
       "  0.48240510017871857,\n",
       "  0.47975874724388123,\n",
       "  0.482243657708168,\n",
       "  0.4846186539649963,\n",
       "  0.48222241389751436,\n",
       "  0.48065810706615447,\n",
       "  0.4785114651918411,\n",
       "  0.48016528000831604,\n",
       "  0.4860274499177933,\n",
       "  0.4905822664737701,\n",
       "  0.4864846377372742,\n",
       "  0.486469739985466,\n",
       "  0.4854832792758942,\n",
       "  0.4836069371700287,\n",
       "  0.48791875863075257,\n",
       "  0.49120385067462924,\n",
       "  0.48866254370212553,\n",
       "  0.48750453910827635,\n",
       "  0.4899219782590866,\n",
       "  0.48758821029663085,\n",
       "  0.49251793932914734,\n",
       "  0.48988083579540254,\n",
       "  0.489465350651741,\n",
       "  0.49025401544570923,\n",
       "  0.4893201829433441,\n",
       "  0.4902859536647797,\n",
       "  0.49005926649570464,\n",
       "  0.4915130695581436,\n",
       "  0.4920008684873581,\n",
       "  0.49001367354393005,\n",
       "  0.49092833225727084,\n",
       "  0.4929540785074234,\n",
       "  0.4923989554643631,\n",
       "  0.49644924793243406,\n",
       "  0.4926156878709793],\n",
       " 'trigger_acc': [93.0,\n",
       "  99.0,\n",
       "  100.0,\n",
       "  100.0,\n",
       "  100.0,\n",
       "  100.0,\n",
       "  100.0,\n",
       "  100.0,\n",
       "  100.0,\n",
       "  100.0,\n",
       "  100.0,\n",
       "  100.0,\n",
       "  100.0,\n",
       "  100.0,\n",
       "  100.0,\n",
       "  100.0,\n",
       "  100.0,\n",
       "  100.0,\n",
       "  100.0,\n",
       "  100.0,\n",
       "  100.0,\n",
       "  100.0,\n",
       "  100.0,\n",
       "  100.0,\n",
       "  100.0,\n",
       "  100.0,\n",
       "  100.0,\n",
       "  100.0,\n",
       "  100.0,\n",
       "  100.0,\n",
       "  100.0,\n",
       "  100.0,\n",
       "  100.0,\n",
       "  100.0,\n",
       "  100.0,\n",
       "  100.0,\n",
       "  100.0,\n",
       "  100.0,\n",
       "  100.0,\n",
       "  100.0,\n",
       "  100.0,\n",
       "  100.0,\n",
       "  100.0,\n",
       "  100.0,\n",
       "  100.0,\n",
       "  100.0,\n",
       "  100.0,\n",
       "  100.0,\n",
       "  100.0,\n",
       "  100.0,\n",
       "  100.0,\n",
       "  100.0,\n",
       "  100.0,\n",
       "  100.0,\n",
       "  100.0,\n",
       "  100.0,\n",
       "  100.0,\n",
       "  100.0,\n",
       "  100.0,\n",
       "  100.0,\n",
       "  100.0,\n",
       "  100.0,\n",
       "  100.0,\n",
       "  100.0,\n",
       "  100.0,\n",
       "  100.0,\n",
       "  100.0,\n",
       "  100.0,\n",
       "  100.0,\n",
       "  100.0,\n",
       "  100.0,\n",
       "  100.0,\n",
       "  100.0,\n",
       "  100.0,\n",
       "  100.0,\n",
       "  100.0,\n",
       "  100.0,\n",
       "  100.0,\n",
       "  100.0,\n",
       "  100.0],\n",
       " 'trigger_loss': [0.4248942768573761,\n",
       "  0.20502908945083617,\n",
       "  0.025203878730535506,\n",
       "  0.004972893418744207,\n",
       "  0.0022106915432959797,\n",
       "  0.00018345498945564033,\n",
       "  0.0010613442724570633,\n",
       "  0.0007713415834587067,\n",
       "  0.0008708238159306348,\n",
       "  0.000578313828445971,\n",
       "  0.0015616408549249173,\n",
       "  0.00020960177527740598,\n",
       "  0.0026791740208864214,\n",
       "  0.0009268951276317238,\n",
       "  0.006801993511617184,\n",
       "  0.0003758434666087851,\n",
       "  0.0004240009724162519,\n",
       "  0.0002860588440671563,\n",
       "  0.0002598297619260848,\n",
       "  0.00025351729709655046,\n",
       "  0.0003734342707321048,\n",
       "  0.0013501390023157001,\n",
       "  9.67631905223243e-05,\n",
       "  0.00022759805666282772,\n",
       "  0.0003770299279130995,\n",
       "  0.00022132903803139925,\n",
       "  0.0002469252829905599,\n",
       "  0.0007375958049669861,\n",
       "  0.0004300102486740798,\n",
       "  8.599868742749095e-05,\n",
       "  0.00015068179636728017,\n",
       "  0.00010176439682254567,\n",
       "  0.00015123883436899633,\n",
       "  9.993349551223218e-05,\n",
       "  0.00013877195422537625,\n",
       "  0.0002474659186555073,\n",
       "  6.13130844430998e-05,\n",
       "  0.00013094533700495957,\n",
       "  0.00040578075218945743,\n",
       "  0.00016162596642971039,\n",
       "  8.750702923862263e-05,\n",
       "  8.11016553780064e-05,\n",
       "  6.1335288482951e-05,\n",
       "  6.238769681658596e-05,\n",
       "  0.00015724015480373055,\n",
       "  6.0092339699622246e-05,\n",
       "  0.00020945372292771936,\n",
       "  8.890553988749161e-05,\n",
       "  0.00015055596886668355,\n",
       "  0.00012046320887748152,\n",
       "  8.297887892695143e-05,\n",
       "  0.00013332984352018684,\n",
       "  0.0001362612599041313,\n",
       "  0.0001271023231674917,\n",
       "  0.00011730096011888235,\n",
       "  0.0001340774184791371,\n",
       "  9.779407031601295e-05,\n",
       "  9.757404099218547e-05,\n",
       "  7.898454059613868e-05,\n",
       "  8.949046808993443e-05,\n",
       "  0.00011430312297306955,\n",
       "  9.930922708008439e-05,\n",
       "  0.00014072316524107008,\n",
       "  0.00012147223460488022,\n",
       "  0.00012946038943482564,\n",
       "  0.0001347754365997389,\n",
       "  0.00015612335468176753,\n",
       "  0.00015711555897723883,\n",
       "  0.00018572786706499755,\n",
       "  0.0001257593635818921,\n",
       "  0.0001499249873450026,\n",
       "  0.00014076636696700007,\n",
       "  0.00012005418946500868,\n",
       "  0.00017562126158736645,\n",
       "  0.0001284352911170572,\n",
       "  0.00011315039591863751,\n",
       "  0.00011184877366758883,\n",
       "  0.0001389027514960617,\n",
       "  0.00012107439106330275,\n",
       "  0.00016894937551114708]}"
      ]
     },
     "execution_count": 8,
     "metadata": {},
     "output_type": "execute_result"
    }
   ],
   "source": [
    "# watermark with frozen layers\n",
    "net = ResNet18()\n",
    "logcmt = f\"resnet18_8020_trigger_finetune\"\n",
    "net.load_state_dict(torch.load('checkpoints/resnet18_8020.ckpt'))\n",
    "frozen_layers=[net.conv1, net.bn1, net.layer1, net.layer2, net.layer3, net.layer4]\n",
    "optimizer = torch.optim.Adam(params=net.parameters(), lr=2e-4, weight_decay=1e-4)\n",
    "criterion = nn.CrossEntropyLoss()\n",
    "scheduler = torch.optim.lr_scheduler.StepLR(optimizer, step_size=10, gamma=0.5, verbose=True)\n",
    "trainer = Trainer(net, criterion, optimizer, train_loader=trainloader, trigger_loader=unrelatedloader, use_trigger=True, scheduler=scheduler)\n",
    "evaluator = Evaluator(net, criterion)\n",
    "train(trainer, evaluator, testloader, 80, 'checkpoints/resnet18_wm_frozen_8020_unrl.ckpt', frozen_layers=frozen_layers,\n",
    "      logdir='./runs', logcmt=logcmt, trigger_loader=unrelatedloader)"
   ]
  },
  {
   "cell_type": "markdown",
   "id": "e35d8c20-2a5b-492f-9dff-723c16d10169",
   "metadata": {},
   "source": [
    "Random Label Original Scheme"
   ]
  },
  {
   "cell_type": "code",
   "execution_count": 9,
   "id": "9892ab1b-bf56-4a0d-acc6-1d61c0bb1ab5",
   "metadata": {},
   "outputs": [
    {
     "name": "stdout",
     "output_type": "stream",
     "text": [
      "Adjusting learning rate of group 0 to 2.0000e-04.\n",
      "Start Training...\n"
     ]
    },
    {
     "name": "stderr",
     "output_type": "stream",
     "text": [
      "100%|██████████████████████████████████████████████████████████████████████████████████████████████████████████████████████████████████████████████████████████████████████████████████████████████████████| 156/156 [00:16<00:00,  9.39it/s]"
     ]
    },
    {
     "name": "stdout",
     "output_type": "stream",
     "text": [
      "Adjusting learning rate of group 0 to 2.0000e-04.\n"
     ]
    },
    {
     "name": "stderr",
     "output_type": "stream",
     "text": [
      "\n"
     ]
    },
    {
     "name": "stdout",
     "output_type": "stream",
     "text": [
      "Epoch 0 | Time 18s| Train Loss 0.4406 | Train Acc 86.37| Val Loss 0.554 | Val Acc 81.36| Trigger Loss 0.101 | Trigger Acc 100.00\n"
     ]
    },
    {
     "name": "stderr",
     "output_type": "stream",
     "text": [
      "100%|██████████████████████████████████████████████████████████████████████████████████████████████████████████████████████████████████████████████████████████████████████████████████████████████████████| 156/156 [00:16<00:00,  9.37it/s]"
     ]
    },
    {
     "name": "stdout",
     "output_type": "stream",
     "text": [
      "Adjusting learning rate of group 0 to 2.0000e-04.\n"
     ]
    },
    {
     "name": "stderr",
     "output_type": "stream",
     "text": [
      "\n"
     ]
    },
    {
     "name": "stdout",
     "output_type": "stream",
     "text": [
      "Epoch 1 | Time 38s| Train Loss 0.2911 | Train Acc 90.08| Val Loss 0.508 | Val Acc 83.72| Trigger Loss 0.040 | Trigger Acc 100.00\n"
     ]
    },
    {
     "name": "stderr",
     "output_type": "stream",
     "text": [
      "100%|██████████████████████████████████████████████████████████████████████████████████████████████████████████████████████████████████████████████████████████████████████████████████████████████████████| 156/156 [00:16<00:00,  9.38it/s]"
     ]
    },
    {
     "name": "stdout",
     "output_type": "stream",
     "text": [
      "Adjusting learning rate of group 0 to 2.0000e-04.\n"
     ]
    },
    {
     "name": "stderr",
     "output_type": "stream",
     "text": [
      "\n"
     ]
    },
    {
     "name": "stdout",
     "output_type": "stream",
     "text": [
      "Epoch 2 | Time 57s| Train Loss 0.2700 | Train Acc 90.70| Val Loss 0.514 | Val Acc 83.13| Trigger Loss 0.029 | Trigger Acc 100.00\n"
     ]
    },
    {
     "name": "stderr",
     "output_type": "stream",
     "text": [
      "100%|██████████████████████████████████████████████████████████████████████████████████████████████████████████████████████████████████████████████████████████████████████████████████████████████████████| 156/156 [00:16<00:00,  9.39it/s]"
     ]
    },
    {
     "name": "stdout",
     "output_type": "stream",
     "text": [
      "Adjusting learning rate of group 0 to 2.0000e-04.\n"
     ]
    },
    {
     "name": "stderr",
     "output_type": "stream",
     "text": [
      "\n"
     ]
    },
    {
     "name": "stdout",
     "output_type": "stream",
     "text": [
      "Epoch 3 | Time 76s| Train Loss 0.2550 | Train Acc 91.05| Val Loss 0.567 | Val Acc 82.51| Trigger Loss 0.031 | Trigger Acc 100.00\n"
     ]
    },
    {
     "name": "stderr",
     "output_type": "stream",
     "text": [
      "100%|██████████████████████████████████████████████████████████████████████████████████████████████████████████████████████████████████████████████████████████████████████████████████████████████████████| 156/156 [00:16<00:00,  9.38it/s]"
     ]
    },
    {
     "name": "stdout",
     "output_type": "stream",
     "text": [
      "Adjusting learning rate of group 0 to 2.0000e-04.\n"
     ]
    },
    {
     "name": "stderr",
     "output_type": "stream",
     "text": [
      "\n"
     ]
    },
    {
     "name": "stdout",
     "output_type": "stream",
     "text": [
      "Epoch 4 | Time 95s| Train Loss 0.2391 | Train Acc 91.56| Val Loss 0.538 | Val Acc 82.64| Trigger Loss 0.022 | Trigger Acc 100.00\n"
     ]
    },
    {
     "name": "stderr",
     "output_type": "stream",
     "text": [
      "100%|██████████████████████████████████████████████████████████████████████████████████████████████████████████████████████████████████████████████████████████████████████████████████████████████████████| 156/156 [00:16<00:00,  9.38it/s]"
     ]
    },
    {
     "name": "stdout",
     "output_type": "stream",
     "text": [
      "Adjusting learning rate of group 0 to 2.0000e-04.\n"
     ]
    },
    {
     "name": "stderr",
     "output_type": "stream",
     "text": [
      "\n"
     ]
    },
    {
     "name": "stdout",
     "output_type": "stream",
     "text": [
      "Epoch 5 | Time 114s| Train Loss 0.2249 | Train Acc 92.13| Val Loss 0.594 | Val Acc 82.62| Trigger Loss 0.038 | Trigger Acc 98.00\n"
     ]
    },
    {
     "name": "stderr",
     "output_type": "stream",
     "text": [
      "100%|██████████████████████████████████████████████████████████████████████████████████████████████████████████████████████████████████████████████████████████████████████████████████████████████████████| 156/156 [00:16<00:00,  9.37it/s]"
     ]
    },
    {
     "name": "stdout",
     "output_type": "stream",
     "text": [
      "Adjusting learning rate of group 0 to 2.0000e-04.\n"
     ]
    },
    {
     "name": "stderr",
     "output_type": "stream",
     "text": [
      "\n"
     ]
    },
    {
     "name": "stdout",
     "output_type": "stream",
     "text": [
      "Epoch 6 | Time 133s| Train Loss 0.2119 | Train Acc 92.73| Val Loss 0.540 | Val Acc 84.01| Trigger Loss 0.013 | Trigger Acc 100.00\n"
     ]
    },
    {
     "name": "stderr",
     "output_type": "stream",
     "text": [
      "100%|██████████████████████████████████████████████████████████████████████████████████████████████████████████████████████████████████████████████████████████████████████████████████████████████████████| 156/156 [00:16<00:00,  9.38it/s]"
     ]
    },
    {
     "name": "stdout",
     "output_type": "stream",
     "text": [
      "Adjusting learning rate of group 0 to 2.0000e-04.\n"
     ]
    },
    {
     "name": "stderr",
     "output_type": "stream",
     "text": [
      "\n"
     ]
    },
    {
     "name": "stdout",
     "output_type": "stream",
     "text": [
      "Epoch 7 | Time 152s| Train Loss 0.2074 | Train Acc 92.61| Val Loss 0.548 | Val Acc 83.06| Trigger Loss 0.024 | Trigger Acc 100.00\n"
     ]
    },
    {
     "name": "stderr",
     "output_type": "stream",
     "text": [
      "100%|██████████████████████████████████████████████████████████████████████████████████████████████████████████████████████████████████████████████████████████████████████████████████████████████████████| 156/156 [00:16<00:00,  9.37it/s]"
     ]
    },
    {
     "name": "stdout",
     "output_type": "stream",
     "text": [
      "Adjusting learning rate of group 0 to 2.0000e-04.\n"
     ]
    },
    {
     "name": "stderr",
     "output_type": "stream",
     "text": [
      "\n"
     ]
    },
    {
     "name": "stdout",
     "output_type": "stream",
     "text": [
      "Epoch 8 | Time 171s| Train Loss 0.1965 | Train Acc 93.10| Val Loss 0.568 | Val Acc 83.13| Trigger Loss 0.022 | Trigger Acc 99.00\n"
     ]
    },
    {
     "name": "stderr",
     "output_type": "stream",
     "text": [
      "100%|██████████████████████████████████████████████████████████████████████████████████████████████████████████████████████████████████████████████████████████████████████████████████████████████████████| 156/156 [00:16<00:00,  9.36it/s]"
     ]
    },
    {
     "name": "stdout",
     "output_type": "stream",
     "text": [
      "Adjusting learning rate of group 0 to 2.0000e-05.\n"
     ]
    },
    {
     "name": "stderr",
     "output_type": "stream",
     "text": [
      "\n"
     ]
    },
    {
     "name": "stdout",
     "output_type": "stream",
     "text": [
      "Epoch 9 | Time 190s| Train Loss 0.1796 | Train Acc 93.65| Val Loss 0.536 | Val Acc 84.30| Trigger Loss 0.010 | Trigger Acc 100.00\n"
     ]
    },
    {
     "name": "stderr",
     "output_type": "stream",
     "text": [
      "100%|██████████████████████████████████████████████████████████████████████████████████████████████████████████████████████████████████████████████████████████████████████████████████████████████████████| 156/156 [00:16<00:00,  9.38it/s]"
     ]
    },
    {
     "name": "stdout",
     "output_type": "stream",
     "text": [
      "Adjusting learning rate of group 0 to 2.0000e-05.\n"
     ]
    },
    {
     "name": "stderr",
     "output_type": "stream",
     "text": [
      "\n"
     ]
    },
    {
     "name": "stdout",
     "output_type": "stream",
     "text": [
      "Epoch 10 | Time 209s| Train Loss 0.1305 | Train Acc 95.61| Val Loss 0.438 | Val Acc 86.91| Trigger Loss 0.001 | Trigger Acc 100.00\n"
     ]
    },
    {
     "name": "stderr",
     "output_type": "stream",
     "text": [
      "100%|██████████████████████████████████████████████████████████████████████████████████████████████████████████████████████████████████████████████████████████████████████████████████████████████████████| 156/156 [00:16<00:00,  9.39it/s]"
     ]
    },
    {
     "name": "stdout",
     "output_type": "stream",
     "text": [
      "Adjusting learning rate of group 0 to 2.0000e-05.\n"
     ]
    },
    {
     "name": "stderr",
     "output_type": "stream",
     "text": [
      "\n"
     ]
    },
    {
     "name": "stdout",
     "output_type": "stream",
     "text": [
      "Epoch 11 | Time 228s| Train Loss 0.1101 | Train Acc 96.23| Val Loss 0.449 | Val Acc 86.74| Trigger Loss 0.000 | Trigger Acc 100.00\n"
     ]
    },
    {
     "name": "stderr",
     "output_type": "stream",
     "text": [
      "100%|██████████████████████████████████████████████████████████████████████████████████████████████████████████████████████████████████████████████████████████████████████████████████████████████████████| 156/156 [00:16<00:00,  9.39it/s]"
     ]
    },
    {
     "name": "stdout",
     "output_type": "stream",
     "text": [
      "Adjusting learning rate of group 0 to 2.0000e-05.\n"
     ]
    },
    {
     "name": "stderr",
     "output_type": "stream",
     "text": [
      "\n"
     ]
    },
    {
     "name": "stdout",
     "output_type": "stream",
     "text": [
      "Epoch 12 | Time 247s| Train Loss 0.1047 | Train Acc 96.52| Val Loss 0.451 | Val Acc 86.92| Trigger Loss 0.000 | Trigger Acc 100.00\n"
     ]
    },
    {
     "name": "stderr",
     "output_type": "stream",
     "text": [
      "100%|██████████████████████████████████████████████████████████████████████████████████████████████████████████████████████████████████████████████████████████████████████████████████████████████████████| 156/156 [00:16<00:00,  9.38it/s]"
     ]
    },
    {
     "name": "stdout",
     "output_type": "stream",
     "text": [
      "Adjusting learning rate of group 0 to 2.0000e-05.\n"
     ]
    },
    {
     "name": "stderr",
     "output_type": "stream",
     "text": [
      "\n"
     ]
    },
    {
     "name": "stdout",
     "output_type": "stream",
     "text": [
      "Epoch 13 | Time 266s| Train Loss 0.0970 | Train Acc 96.82| Val Loss 0.454 | Val Acc 86.86| Trigger Loss 0.000 | Trigger Acc 100.00\n"
     ]
    },
    {
     "name": "stderr",
     "output_type": "stream",
     "text": [
      "100%|██████████████████████████████████████████████████████████████████████████████████████████████████████████████████████████████████████████████████████████████████████████████████████████████████████| 156/156 [00:16<00:00,  9.39it/s]"
     ]
    },
    {
     "name": "stdout",
     "output_type": "stream",
     "text": [
      "Adjusting learning rate of group 0 to 2.0000e-05.\n"
     ]
    },
    {
     "name": "stderr",
     "output_type": "stream",
     "text": [
      "\n"
     ]
    },
    {
     "name": "stdout",
     "output_type": "stream",
     "text": [
      "Epoch 14 | Time 285s| Train Loss 0.0952 | Train Acc 96.87| Val Loss 0.465 | Val Acc 86.83| Trigger Loss 0.000 | Trigger Acc 100.00\n"
     ]
    },
    {
     "name": "stderr",
     "output_type": "stream",
     "text": [
      "100%|██████████████████████████████████████████████████████████████████████████████████████████████████████████████████████████████████████████████████████████████████████████████████████████████████████| 156/156 [00:16<00:00,  9.40it/s]"
     ]
    },
    {
     "name": "stdout",
     "output_type": "stream",
     "text": [
      "Adjusting learning rate of group 0 to 2.0000e-05.\n"
     ]
    },
    {
     "name": "stderr",
     "output_type": "stream",
     "text": [
      "\n"
     ]
    },
    {
     "name": "stdout",
     "output_type": "stream",
     "text": [
      "Epoch 15 | Time 304s| Train Loss 0.0867 | Train Acc 97.14| Val Loss 0.471 | Val Acc 86.88| Trigger Loss 0.000 | Trigger Acc 100.00\n"
     ]
    },
    {
     "name": "stderr",
     "output_type": "stream",
     "text": [
      "100%|██████████████████████████████████████████████████████████████████████████████████████████████████████████████████████████████████████████████████████████████████████████████████████████████████████| 156/156 [00:16<00:00,  9.39it/s]"
     ]
    },
    {
     "name": "stdout",
     "output_type": "stream",
     "text": [
      "Adjusting learning rate of group 0 to 2.0000e-05.\n"
     ]
    },
    {
     "name": "stderr",
     "output_type": "stream",
     "text": [
      "\n"
     ]
    },
    {
     "name": "stdout",
     "output_type": "stream",
     "text": [
      "Epoch 16 | Time 322s| Train Loss 0.0848 | Train Acc 97.18| Val Loss 0.473 | Val Acc 86.88| Trigger Loss 0.000 | Trigger Acc 100.00\n"
     ]
    },
    {
     "name": "stderr",
     "output_type": "stream",
     "text": [
      "100%|██████████████████████████████████████████████████████████████████████████████████████████████████████████████████████████████████████████████████████████████████████████████████████████████████████| 156/156 [00:16<00:00,  9.39it/s]"
     ]
    },
    {
     "name": "stdout",
     "output_type": "stream",
     "text": [
      "Adjusting learning rate of group 0 to 2.0000e-05.\n"
     ]
    },
    {
     "name": "stderr",
     "output_type": "stream",
     "text": [
      "\n"
     ]
    },
    {
     "name": "stdout",
     "output_type": "stream",
     "text": [
      "Epoch 17 | Time 341s| Train Loss 0.0828 | Train Acc 97.27| Val Loss 0.476 | Val Acc 86.96| Trigger Loss 0.000 | Trigger Acc 100.00\n"
     ]
    },
    {
     "name": "stderr",
     "output_type": "stream",
     "text": [
      "100%|██████████████████████████████████████████████████████████████████████████████████████████████████████████████████████████████████████████████████████████████████████████████████████████████████████| 156/156 [00:16<00:00,  9.38it/s]"
     ]
    },
    {
     "name": "stdout",
     "output_type": "stream",
     "text": [
      "Adjusting learning rate of group 0 to 2.0000e-05.\n"
     ]
    },
    {
     "name": "stderr",
     "output_type": "stream",
     "text": [
      "\n"
     ]
    },
    {
     "name": "stdout",
     "output_type": "stream",
     "text": [
      "Epoch 18 | Time 360s| Train Loss 0.0778 | Train Acc 97.49| Val Loss 0.482 | Val Acc 86.99| Trigger Loss 0.000 | Trigger Acc 100.00\n"
     ]
    },
    {
     "name": "stderr",
     "output_type": "stream",
     "text": [
      "100%|██████████████████████████████████████████████████████████████████████████████████████████████████████████████████████████████████████████████████████████████████████████████████████████████████████| 156/156 [00:16<00:00,  9.38it/s]"
     ]
    },
    {
     "name": "stdout",
     "output_type": "stream",
     "text": [
      "Adjusting learning rate of group 0 to 2.0000e-06.\n"
     ]
    },
    {
     "name": "stderr",
     "output_type": "stream",
     "text": [
      "\n"
     ]
    },
    {
     "name": "stdout",
     "output_type": "stream",
     "text": [
      "Epoch 19 | Time 379s| Train Loss 0.0759 | Train Acc 97.40| Val Loss 0.485 | Val Acc 86.76| Trigger Loss 0.000 | Trigger Acc 100.00\n"
     ]
    },
    {
     "name": "stderr",
     "output_type": "stream",
     "text": [
      "100%|██████████████████████████████████████████████████████████████████████████████████████████████████████████████████████████████████████████████████████████████████████████████████████████████████████| 156/156 [00:16<00:00,  9.37it/s]"
     ]
    },
    {
     "name": "stdout",
     "output_type": "stream",
     "text": [
      "Adjusting learning rate of group 0 to 2.0000e-06.\n"
     ]
    },
    {
     "name": "stderr",
     "output_type": "stream",
     "text": [
      "\n"
     ]
    },
    {
     "name": "stdout",
     "output_type": "stream",
     "text": [
      "Epoch 20 | Time 398s| Train Loss 0.0690 | Train Acc 97.79| Val Loss 0.482 | Val Acc 86.90| Trigger Loss 0.000 | Trigger Acc 100.00\n"
     ]
    },
    {
     "name": "stderr",
     "output_type": "stream",
     "text": [
      "100%|██████████████████████████████████████████████████████████████████████████████████████████████████████████████████████████████████████████████████████████████████████████████████████████████████████| 156/156 [00:16<00:00,  9.38it/s]"
     ]
    },
    {
     "name": "stdout",
     "output_type": "stream",
     "text": [
      "Adjusting learning rate of group 0 to 2.0000e-06.\n"
     ]
    },
    {
     "name": "stderr",
     "output_type": "stream",
     "text": [
      "\n"
     ]
    },
    {
     "name": "stdout",
     "output_type": "stream",
     "text": [
      "Epoch 21 | Time 417s| Train Loss 0.0687 | Train Acc 97.74| Val Loss 0.482 | Val Acc 86.98| Trigger Loss 0.000 | Trigger Acc 100.00\n"
     ]
    },
    {
     "name": "stderr",
     "output_type": "stream",
     "text": [
      "100%|██████████████████████████████████████████████████████████████████████████████████████████████████████████████████████████████████████████████████████████████████████████████████████████████████████| 156/156 [00:16<00:00,  9.38it/s]"
     ]
    },
    {
     "name": "stdout",
     "output_type": "stream",
     "text": [
      "Adjusting learning rate of group 0 to 2.0000e-06.\n"
     ]
    },
    {
     "name": "stderr",
     "output_type": "stream",
     "text": [
      "\n"
     ]
    },
    {
     "name": "stdout",
     "output_type": "stream",
     "text": [
      "Epoch 22 | Time 436s| Train Loss 0.0684 | Train Acc 97.71| Val Loss 0.481 | Val Acc 86.96| Trigger Loss 0.000 | Trigger Acc 100.00\n"
     ]
    },
    {
     "name": "stderr",
     "output_type": "stream",
     "text": [
      "100%|██████████████████████████████████████████████████████████████████████████████████████████████████████████████████████████████████████████████████████████████████████████████████████████████████████| 156/156 [00:16<00:00,  9.37it/s]"
     ]
    },
    {
     "name": "stdout",
     "output_type": "stream",
     "text": [
      "Adjusting learning rate of group 0 to 2.0000e-06.\n"
     ]
    },
    {
     "name": "stderr",
     "output_type": "stream",
     "text": [
      "\n"
     ]
    },
    {
     "name": "stdout",
     "output_type": "stream",
     "text": [
      "Epoch 23 | Time 455s| Train Loss 0.0676 | Train Acc 97.85| Val Loss 0.483 | Val Acc 86.95| Trigger Loss 0.000 | Trigger Acc 100.00\n"
     ]
    },
    {
     "name": "stderr",
     "output_type": "stream",
     "text": [
      "100%|██████████████████████████████████████████████████████████████████████████████████████████████████████████████████████████████████████████████████████████████████████████████████████████████████████| 156/156 [00:16<00:00,  9.38it/s]"
     ]
    },
    {
     "name": "stdout",
     "output_type": "stream",
     "text": [
      "Adjusting learning rate of group 0 to 2.0000e-06.\n"
     ]
    },
    {
     "name": "stderr",
     "output_type": "stream",
     "text": [
      "\n"
     ]
    },
    {
     "name": "stdout",
     "output_type": "stream",
     "text": [
      "Epoch 24 | Time 474s| Train Loss 0.0668 | Train Acc 97.84| Val Loss 0.483 | Val Acc 86.98| Trigger Loss 0.000 | Trigger Acc 100.00\n"
     ]
    },
    {
     "name": "stderr",
     "output_type": "stream",
     "text": [
      "100%|██████████████████████████████████████████████████████████████████████████████████████████████████████████████████████████████████████████████████████████████████████████████████████████████████████| 156/156 [00:16<00:00,  9.39it/s]"
     ]
    },
    {
     "name": "stdout",
     "output_type": "stream",
     "text": [
      "Adjusting learning rate of group 0 to 2.0000e-06.\n"
     ]
    },
    {
     "name": "stderr",
     "output_type": "stream",
     "text": [
      "\n"
     ]
    },
    {
     "name": "stdout",
     "output_type": "stream",
     "text": [
      "Epoch 25 | Time 493s| Train Loss 0.0673 | Train Acc 97.82| Val Loss 0.483 | Val Acc 86.92| Trigger Loss 0.000 | Trigger Acc 100.00\n"
     ]
    },
    {
     "name": "stderr",
     "output_type": "stream",
     "text": [
      "100%|██████████████████████████████████████████████████████████████████████████████████████████████████████████████████████████████████████████████████████████████████████████████████████████████████████| 156/156 [00:16<00:00,  9.38it/s]"
     ]
    },
    {
     "name": "stdout",
     "output_type": "stream",
     "text": [
      "Adjusting learning rate of group 0 to 2.0000e-06.\n"
     ]
    },
    {
     "name": "stderr",
     "output_type": "stream",
     "text": [
      "\n"
     ]
    },
    {
     "name": "stdout",
     "output_type": "stream",
     "text": [
      "Epoch 26 | Time 512s| Train Loss 0.0652 | Train Acc 97.88| Val Loss 0.484 | Val Acc 86.90| Trigger Loss 0.000 | Trigger Acc 100.00\n"
     ]
    },
    {
     "name": "stderr",
     "output_type": "stream",
     "text": [
      "100%|██████████████████████████████████████████████████████████████████████████████████████████████████████████████████████████████████████████████████████████████████████████████████████████████████████| 156/156 [00:16<00:00,  9.38it/s]"
     ]
    },
    {
     "name": "stdout",
     "output_type": "stream",
     "text": [
      "Adjusting learning rate of group 0 to 2.0000e-06.\n"
     ]
    },
    {
     "name": "stderr",
     "output_type": "stream",
     "text": [
      "\n"
     ]
    },
    {
     "name": "stdout",
     "output_type": "stream",
     "text": [
      "Epoch 27 | Time 531s| Train Loss 0.0650 | Train Acc 97.90| Val Loss 0.485 | Val Acc 86.93| Trigger Loss 0.000 | Trigger Acc 100.00\n"
     ]
    },
    {
     "name": "stderr",
     "output_type": "stream",
     "text": [
      "100%|██████████████████████████████████████████████████████████████████████████████████████████████████████████████████████████████████████████████████████████████████████████████████████████████████████| 156/156 [00:16<00:00,  9.38it/s]"
     ]
    },
    {
     "name": "stdout",
     "output_type": "stream",
     "text": [
      "Adjusting learning rate of group 0 to 2.0000e-06.\n"
     ]
    },
    {
     "name": "stderr",
     "output_type": "stream",
     "text": [
      "\n"
     ]
    },
    {
     "name": "stdout",
     "output_type": "stream",
     "text": [
      "Epoch 28 | Time 550s| Train Loss 0.0654 | Train Acc 97.93| Val Loss 0.485 | Val Acc 86.80| Trigger Loss 0.000 | Trigger Acc 100.00\n"
     ]
    },
    {
     "name": "stderr",
     "output_type": "stream",
     "text": [
      "100%|██████████████████████████████████████████████████████████████████████████████████████████████████████████████████████████████████████████████████████████████████████████████████████████████████████| 156/156 [00:16<00:00,  9.38it/s]"
     ]
    },
    {
     "name": "stdout",
     "output_type": "stream",
     "text": [
      "Adjusting learning rate of group 0 to 2.0000e-07.\n"
     ]
    },
    {
     "name": "stderr",
     "output_type": "stream",
     "text": [
      "\n"
     ]
    },
    {
     "name": "stdout",
     "output_type": "stream",
     "text": [
      "Epoch 29 | Time 569s| Train Loss 0.0622 | Train Acc 98.00| Val Loss 0.486 | Val Acc 86.86| Trigger Loss 0.000 | Trigger Acc 100.00\n"
     ]
    },
    {
     "name": "stderr",
     "output_type": "stream",
     "text": [
      "100%|██████████████████████████████████████████████████████████████████████████████████████████████████████████████████████████████████████████████████████████████████████████████████████████████████████| 156/156 [00:16<00:00,  9.38it/s]"
     ]
    },
    {
     "name": "stdout",
     "output_type": "stream",
     "text": [
      "Adjusting learning rate of group 0 to 2.0000e-07.\n"
     ]
    },
    {
     "name": "stderr",
     "output_type": "stream",
     "text": [
      "\n"
     ]
    },
    {
     "name": "stdout",
     "output_type": "stream",
     "text": [
      "Epoch 30 | Time 588s| Train Loss 0.0640 | Train Acc 97.89| Val Loss 0.486 | Val Acc 86.90| Trigger Loss 0.000 | Trigger Acc 100.00\n"
     ]
    },
    {
     "name": "stderr",
     "output_type": "stream",
     "text": [
      "100%|██████████████████████████████████████████████████████████████████████████████████████████████████████████████████████████████████████████████████████████████████████████████████████████████████████| 156/156 [00:16<00:00,  9.40it/s]"
     ]
    },
    {
     "name": "stdout",
     "output_type": "stream",
     "text": [
      "Adjusting learning rate of group 0 to 2.0000e-07.\n"
     ]
    },
    {
     "name": "stderr",
     "output_type": "stream",
     "text": [
      "\n"
     ]
    },
    {
     "name": "stdout",
     "output_type": "stream",
     "text": [
      "Epoch 31 | Time 607s| Train Loss 0.0649 | Train Acc 97.90| Val Loss 0.486 | Val Acc 86.93| Trigger Loss 0.000 | Trigger Acc 100.00\n"
     ]
    },
    {
     "name": "stderr",
     "output_type": "stream",
     "text": [
      "100%|██████████████████████████████████████████████████████████████████████████████████████████████████████████████████████████████████████████████████████████████████████████████████████████████████████| 156/156 [00:16<00:00,  9.38it/s]"
     ]
    },
    {
     "name": "stdout",
     "output_type": "stream",
     "text": [
      "Adjusting learning rate of group 0 to 2.0000e-07.\n"
     ]
    },
    {
     "name": "stderr",
     "output_type": "stream",
     "text": [
      "\n"
     ]
    },
    {
     "name": "stdout",
     "output_type": "stream",
     "text": [
      "Epoch 32 | Time 626s| Train Loss 0.0638 | Train Acc 98.00| Val Loss 0.486 | Val Acc 87.05| Trigger Loss 0.000 | Trigger Acc 100.00\n"
     ]
    },
    {
     "name": "stderr",
     "output_type": "stream",
     "text": [
      "100%|██████████████████████████████████████████████████████████████████████████████████████████████████████████████████████████████████████████████████████████████████████████████████████████████████████| 156/156 [00:16<00:00,  9.38it/s]"
     ]
    },
    {
     "name": "stdout",
     "output_type": "stream",
     "text": [
      "Adjusting learning rate of group 0 to 2.0000e-07.\n"
     ]
    },
    {
     "name": "stderr",
     "output_type": "stream",
     "text": [
      "\n"
     ]
    },
    {
     "name": "stdout",
     "output_type": "stream",
     "text": [
      "Epoch 33 | Time 645s| Train Loss 0.0622 | Train Acc 98.04| Val Loss 0.487 | Val Acc 86.87| Trigger Loss 0.000 | Trigger Acc 100.00\n"
     ]
    },
    {
     "name": "stderr",
     "output_type": "stream",
     "text": [
      "100%|██████████████████████████████████████████████████████████████████████████████████████████████████████████████████████████████████████████████████████████████████████████████████████████████████████| 156/156 [00:16<00:00,  9.39it/s]"
     ]
    },
    {
     "name": "stdout",
     "output_type": "stream",
     "text": [
      "Adjusting learning rate of group 0 to 2.0000e-07.\n"
     ]
    },
    {
     "name": "stderr",
     "output_type": "stream",
     "text": [
      "\n"
     ]
    },
    {
     "name": "stdout",
     "output_type": "stream",
     "text": [
      "Epoch 34 | Time 664s| Train Loss 0.0637 | Train Acc 97.94| Val Loss 0.487 | Val Acc 86.95| Trigger Loss 0.000 | Trigger Acc 100.00\n"
     ]
    },
    {
     "name": "stderr",
     "output_type": "stream",
     "text": [
      "100%|██████████████████████████████████████████████████████████████████████████████████████████████████████████████████████████████████████████████████████████████████████████████████████████████████████| 156/156 [00:16<00:00,  9.38it/s]"
     ]
    },
    {
     "name": "stdout",
     "output_type": "stream",
     "text": [
      "Adjusting learning rate of group 0 to 2.0000e-07.\n"
     ]
    },
    {
     "name": "stderr",
     "output_type": "stream",
     "text": [
      "\n"
     ]
    },
    {
     "name": "stdout",
     "output_type": "stream",
     "text": [
      "Epoch 35 | Time 683s| Train Loss 0.0638 | Train Acc 97.95| Val Loss 0.485 | Val Acc 87.04| Trigger Loss 0.000 | Trigger Acc 100.00\n"
     ]
    },
    {
     "name": "stderr",
     "output_type": "stream",
     "text": [
      "100%|██████████████████████████████████████████████████████████████████████████████████████████████████████████████████████████████████████████████████████████████████████████████████████████████████████| 156/156 [00:16<00:00,  9.38it/s]"
     ]
    },
    {
     "name": "stdout",
     "output_type": "stream",
     "text": [
      "Adjusting learning rate of group 0 to 2.0000e-07.\n"
     ]
    },
    {
     "name": "stderr",
     "output_type": "stream",
     "text": [
      "\n"
     ]
    },
    {
     "name": "stdout",
     "output_type": "stream",
     "text": [
      "Epoch 36 | Time 702s| Train Loss 0.0635 | Train Acc 97.99| Val Loss 0.486 | Val Acc 87.03| Trigger Loss 0.000 | Trigger Acc 100.00\n"
     ]
    },
    {
     "name": "stderr",
     "output_type": "stream",
     "text": [
      "100%|██████████████████████████████████████████████████████████████████████████████████████████████████████████████████████████████████████████████████████████████████████████████████████████████████████| 156/156 [00:16<00:00,  9.39it/s]"
     ]
    },
    {
     "name": "stdout",
     "output_type": "stream",
     "text": [
      "Adjusting learning rate of group 0 to 2.0000e-07.\n"
     ]
    },
    {
     "name": "stderr",
     "output_type": "stream",
     "text": [
      "\n"
     ]
    },
    {
     "name": "stdout",
     "output_type": "stream",
     "text": [
      "Epoch 37 | Time 721s| Train Loss 0.0631 | Train Acc 97.94| Val Loss 0.486 | Val Acc 86.97| Trigger Loss 0.000 | Trigger Acc 100.00\n"
     ]
    },
    {
     "name": "stderr",
     "output_type": "stream",
     "text": [
      "100%|██████████████████████████████████████████████████████████████████████████████████████████████████████████████████████████████████████████████████████████████████████████████████████████████████████| 156/156 [00:16<00:00,  9.37it/s]"
     ]
    },
    {
     "name": "stdout",
     "output_type": "stream",
     "text": [
      "Adjusting learning rate of group 0 to 2.0000e-07.\n"
     ]
    },
    {
     "name": "stderr",
     "output_type": "stream",
     "text": [
      "\n"
     ]
    },
    {
     "name": "stdout",
     "output_type": "stream",
     "text": [
      "Epoch 38 | Time 740s| Train Loss 0.0646 | Train Acc 97.91| Val Loss 0.486 | Val Acc 86.98| Trigger Loss 0.000 | Trigger Acc 100.00\n"
     ]
    },
    {
     "name": "stderr",
     "output_type": "stream",
     "text": [
      "100%|██████████████████████████████████████████████████████████████████████████████████████████████████████████████████████████████████████████████████████████████████████████████████████████████████████| 156/156 [00:16<00:00,  9.38it/s]"
     ]
    },
    {
     "name": "stdout",
     "output_type": "stream",
     "text": [
      "Adjusting learning rate of group 0 to 2.0000e-08.\n"
     ]
    },
    {
     "name": "stderr",
     "output_type": "stream",
     "text": [
      "\n"
     ]
    },
    {
     "name": "stdout",
     "output_type": "stream",
     "text": [
      "Epoch 39 | Time 759s| Train Loss 0.0631 | Train Acc 98.03| Val Loss 0.487 | Val Acc 86.93| Trigger Loss 0.000 | Trigger Acc 100.00\n"
     ]
    },
    {
     "name": "stderr",
     "output_type": "stream",
     "text": [
      "100%|██████████████████████████████████████████████████████████████████████████████████████████████████████████████████████████████████████████████████████████████████████████████████████████████████████| 156/156 [00:16<00:00,  9.38it/s]"
     ]
    },
    {
     "name": "stdout",
     "output_type": "stream",
     "text": [
      "Adjusting learning rate of group 0 to 2.0000e-08.\n"
     ]
    },
    {
     "name": "stderr",
     "output_type": "stream",
     "text": [
      "\n"
     ]
    },
    {
     "name": "stdout",
     "output_type": "stream",
     "text": [
      "Epoch 40 | Time 778s| Train Loss 0.0640 | Train Acc 97.93| Val Loss 0.488 | Val Acc 87.02| Trigger Loss 0.000 | Trigger Acc 100.00\n"
     ]
    },
    {
     "name": "stderr",
     "output_type": "stream",
     "text": [
      "100%|██████████████████████████████████████████████████████████████████████████████████████████████████████████████████████████████████████████████████████████████████████████████████████████████████████| 156/156 [00:16<00:00,  9.39it/s]"
     ]
    },
    {
     "name": "stdout",
     "output_type": "stream",
     "text": [
      "Adjusting learning rate of group 0 to 2.0000e-08.\n"
     ]
    },
    {
     "name": "stderr",
     "output_type": "stream",
     "text": [
      "\n"
     ]
    },
    {
     "name": "stdout",
     "output_type": "stream",
     "text": [
      "Epoch 41 | Time 797s| Train Loss 0.0639 | Train Acc 97.95| Val Loss 0.484 | Val Acc 86.99| Trigger Loss 0.000 | Trigger Acc 100.00\n"
     ]
    },
    {
     "name": "stderr",
     "output_type": "stream",
     "text": [
      "100%|██████████████████████████████████████████████████████████████████████████████████████████████████████████████████████████████████████████████████████████████████████████████████████████████████████| 156/156 [00:16<00:00,  9.39it/s]"
     ]
    },
    {
     "name": "stdout",
     "output_type": "stream",
     "text": [
      "Adjusting learning rate of group 0 to 2.0000e-08.\n"
     ]
    },
    {
     "name": "stderr",
     "output_type": "stream",
     "text": [
      "\n"
     ]
    },
    {
     "name": "stdout",
     "output_type": "stream",
     "text": [
      "Epoch 42 | Time 816s| Train Loss 0.0630 | Train Acc 97.98| Val Loss 0.487 | Val Acc 86.95| Trigger Loss 0.000 | Trigger Acc 100.00\n"
     ]
    },
    {
     "name": "stderr",
     "output_type": "stream",
     "text": [
      "100%|██████████████████████████████████████████████████████████████████████████████████████████████████████████████████████████████████████████████████████████████████████████████████████████████████████| 156/156 [00:16<00:00,  9.39it/s]"
     ]
    },
    {
     "name": "stdout",
     "output_type": "stream",
     "text": [
      "Adjusting learning rate of group 0 to 2.0000e-08.\n"
     ]
    },
    {
     "name": "stderr",
     "output_type": "stream",
     "text": [
      "\n"
     ]
    },
    {
     "name": "stdout",
     "output_type": "stream",
     "text": [
      "Epoch 43 | Time 835s| Train Loss 0.0647 | Train Acc 97.98| Val Loss 0.488 | Val Acc 86.96| Trigger Loss 0.000 | Trigger Acc 100.00\n"
     ]
    },
    {
     "name": "stderr",
     "output_type": "stream",
     "text": [
      "100%|██████████████████████████████████████████████████████████████████████████████████████████████████████████████████████████████████████████████████████████████████████████████████████████████████████| 156/156 [00:16<00:00,  9.39it/s]"
     ]
    },
    {
     "name": "stdout",
     "output_type": "stream",
     "text": [
      "Adjusting learning rate of group 0 to 2.0000e-08.\n"
     ]
    },
    {
     "name": "stderr",
     "output_type": "stream",
     "text": [
      "\n"
     ]
    },
    {
     "name": "stdout",
     "output_type": "stream",
     "text": [
      "Epoch 44 | Time 854s| Train Loss 0.0628 | Train Acc 98.01| Val Loss 0.485 | Val Acc 86.95| Trigger Loss 0.000 | Trigger Acc 100.00\n"
     ]
    },
    {
     "name": "stderr",
     "output_type": "stream",
     "text": [
      "100%|██████████████████████████████████████████████████████████████████████████████████████████████████████████████████████████████████████████████████████████████████████████████████████████████████████| 156/156 [00:16<00:00,  9.39it/s]"
     ]
    },
    {
     "name": "stdout",
     "output_type": "stream",
     "text": [
      "Adjusting learning rate of group 0 to 2.0000e-08.\n"
     ]
    },
    {
     "name": "stderr",
     "output_type": "stream",
     "text": [
      "\n"
     ]
    },
    {
     "name": "stdout",
     "output_type": "stream",
     "text": [
      "Epoch 45 | Time 873s| Train Loss 0.0621 | Train Acc 98.02| Val Loss 0.486 | Val Acc 86.87| Trigger Loss 0.000 | Trigger Acc 100.00\n"
     ]
    },
    {
     "name": "stderr",
     "output_type": "stream",
     "text": [
      "100%|██████████████████████████████████████████████████████████████████████████████████████████████████████████████████████████████████████████████████████████████████████████████████████████████████████| 156/156 [00:16<00:00,  9.38it/s]"
     ]
    },
    {
     "name": "stdout",
     "output_type": "stream",
     "text": [
      "Adjusting learning rate of group 0 to 2.0000e-08.\n"
     ]
    },
    {
     "name": "stderr",
     "output_type": "stream",
     "text": [
      "\n"
     ]
    },
    {
     "name": "stdout",
     "output_type": "stream",
     "text": [
      "Epoch 46 | Time 892s| Train Loss 0.0630 | Train Acc 98.02| Val Loss 0.487 | Val Acc 87.04| Trigger Loss 0.000 | Trigger Acc 100.00\n"
     ]
    },
    {
     "name": "stderr",
     "output_type": "stream",
     "text": [
      "100%|██████████████████████████████████████████████████████████████████████████████████████████████████████████████████████████████████████████████████████████████████████████████████████████████████████| 156/156 [00:16<00:00,  9.37it/s]"
     ]
    },
    {
     "name": "stdout",
     "output_type": "stream",
     "text": [
      "Adjusting learning rate of group 0 to 2.0000e-08.\n"
     ]
    },
    {
     "name": "stderr",
     "output_type": "stream",
     "text": [
      "\n"
     ]
    },
    {
     "name": "stdout",
     "output_type": "stream",
     "text": [
      "Epoch 47 | Time 911s| Train Loss 0.0629 | Train Acc 97.94| Val Loss 0.488 | Val Acc 86.93| Trigger Loss 0.000 | Trigger Acc 100.00\n"
     ]
    },
    {
     "name": "stderr",
     "output_type": "stream",
     "text": [
      "100%|██████████████████████████████████████████████████████████████████████████████████████████████████████████████████████████████████████████████████████████████████████████████████████████████████████| 156/156 [00:16<00:00,  9.39it/s]"
     ]
    },
    {
     "name": "stdout",
     "output_type": "stream",
     "text": [
      "Adjusting learning rate of group 0 to 2.0000e-08.\n"
     ]
    },
    {
     "name": "stderr",
     "output_type": "stream",
     "text": [
      "\n"
     ]
    },
    {
     "name": "stdout",
     "output_type": "stream",
     "text": [
      "Epoch 48 | Time 930s| Train Loss 0.0631 | Train Acc 97.98| Val Loss 0.486 | Val Acc 86.91| Trigger Loss 0.000 | Trigger Acc 100.00\n"
     ]
    },
    {
     "name": "stderr",
     "output_type": "stream",
     "text": [
      "100%|██████████████████████████████████████████████████████████████████████████████████████████████████████████████████████████████████████████████████████████████████████████████████████████████████████| 156/156 [00:16<00:00,  9.38it/s]"
     ]
    },
    {
     "name": "stdout",
     "output_type": "stream",
     "text": [
      "Adjusting learning rate of group 0 to 2.0000e-09.\n"
     ]
    },
    {
     "name": "stderr",
     "output_type": "stream",
     "text": [
      "\n"
     ]
    },
    {
     "name": "stdout",
     "output_type": "stream",
     "text": [
      "Epoch 49 | Time 949s| Train Loss 0.0651 | Train Acc 97.90| Val Loss 0.487 | Val Acc 86.95| Trigger Loss 0.000 | Trigger Acc 100.00\n"
     ]
    },
    {
     "name": "stderr",
     "output_type": "stream",
     "text": [
      "100%|██████████████████████████████████████████████████████████████████████████████████████████████████████████████████████████████████████████████████████████████████████████████████████████████████████| 156/156 [00:16<00:00,  9.38it/s]"
     ]
    },
    {
     "name": "stdout",
     "output_type": "stream",
     "text": [
      "Adjusting learning rate of group 0 to 2.0000e-09.\n"
     ]
    },
    {
     "name": "stderr",
     "output_type": "stream",
     "text": [
      "\n"
     ]
    },
    {
     "name": "stdout",
     "output_type": "stream",
     "text": [
      "Epoch 50 | Time 968s| Train Loss 0.0641 | Train Acc 97.94| Val Loss 0.487 | Val Acc 87.01| Trigger Loss 0.000 | Trigger Acc 100.00\n"
     ]
    },
    {
     "name": "stderr",
     "output_type": "stream",
     "text": [
      "100%|██████████████████████████████████████████████████████████████████████████████████████████████████████████████████████████████████████████████████████████████████████████████████████████████████████| 156/156 [00:16<00:00,  9.37it/s]"
     ]
    },
    {
     "name": "stdout",
     "output_type": "stream",
     "text": [
      "Adjusting learning rate of group 0 to 2.0000e-09.\n"
     ]
    },
    {
     "name": "stderr",
     "output_type": "stream",
     "text": [
      "\n"
     ]
    },
    {
     "name": "stdout",
     "output_type": "stream",
     "text": [
      "Epoch 51 | Time 987s| Train Loss 0.0620 | Train Acc 98.08| Val Loss 0.486 | Val Acc 86.96| Trigger Loss 0.000 | Trigger Acc 100.00\n"
     ]
    },
    {
     "name": "stderr",
     "output_type": "stream",
     "text": [
      "100%|██████████████████████████████████████████████████████████████████████████████████████████████████████████████████████████████████████████████████████████████████████████████████████████████████████| 156/156 [00:16<00:00,  9.39it/s]"
     ]
    },
    {
     "name": "stdout",
     "output_type": "stream",
     "text": [
      "Adjusting learning rate of group 0 to 2.0000e-09.\n"
     ]
    },
    {
     "name": "stderr",
     "output_type": "stream",
     "text": [
      "\n"
     ]
    },
    {
     "name": "stdout",
     "output_type": "stream",
     "text": [
      "Epoch 52 | Time 1006s| Train Loss 0.0641 | Train Acc 97.90| Val Loss 0.485 | Val Acc 86.99| Trigger Loss 0.000 | Trigger Acc 100.00\n"
     ]
    },
    {
     "name": "stderr",
     "output_type": "stream",
     "text": [
      "100%|██████████████████████████████████████████████████████████████████████████████████████████████████████████████████████████████████████████████████████████████████████████████████████████████████████| 156/156 [00:16<00:00,  9.39it/s]"
     ]
    },
    {
     "name": "stdout",
     "output_type": "stream",
     "text": [
      "Adjusting learning rate of group 0 to 2.0000e-09.\n"
     ]
    },
    {
     "name": "stderr",
     "output_type": "stream",
     "text": [
      "\n"
     ]
    },
    {
     "name": "stdout",
     "output_type": "stream",
     "text": [
      "Epoch 53 | Time 1025s| Train Loss 0.0638 | Train Acc 98.00| Val Loss 0.486 | Val Acc 87.03| Trigger Loss 0.000 | Trigger Acc 100.00\n"
     ]
    },
    {
     "name": "stderr",
     "output_type": "stream",
     "text": [
      "100%|██████████████████████████████████████████████████████████████████████████████████████████████████████████████████████████████████████████████████████████████████████████████████████████████████████| 156/156 [00:16<00:00,  9.39it/s]"
     ]
    },
    {
     "name": "stdout",
     "output_type": "stream",
     "text": [
      "Adjusting learning rate of group 0 to 2.0000e-09.\n"
     ]
    },
    {
     "name": "stderr",
     "output_type": "stream",
     "text": [
      "\n"
     ]
    },
    {
     "name": "stdout",
     "output_type": "stream",
     "text": [
      "Epoch 54 | Time 1044s| Train Loss 0.0634 | Train Acc 97.94| Val Loss 0.485 | Val Acc 86.98| Trigger Loss 0.000 | Trigger Acc 100.00\n"
     ]
    },
    {
     "name": "stderr",
     "output_type": "stream",
     "text": [
      "100%|██████████████████████████████████████████████████████████████████████████████████████████████████████████████████████████████████████████████████████████████████████████████████████████████████████| 156/156 [00:16<00:00,  9.38it/s]"
     ]
    },
    {
     "name": "stdout",
     "output_type": "stream",
     "text": [
      "Adjusting learning rate of group 0 to 2.0000e-09.\n"
     ]
    },
    {
     "name": "stderr",
     "output_type": "stream",
     "text": [
      "\n"
     ]
    },
    {
     "name": "stdout",
     "output_type": "stream",
     "text": [
      "Epoch 55 | Time 1063s| Train Loss 0.0643 | Train Acc 97.94| Val Loss 0.487 | Val Acc 86.91| Trigger Loss 0.000 | Trigger Acc 100.00\n"
     ]
    },
    {
     "name": "stderr",
     "output_type": "stream",
     "text": [
      "100%|██████████████████████████████████████████████████████████████████████████████████████████████████████████████████████████████████████████████████████████████████████████████████████████████████████| 156/156 [00:16<00:00,  9.39it/s]"
     ]
    },
    {
     "name": "stdout",
     "output_type": "stream",
     "text": [
      "Adjusting learning rate of group 0 to 2.0000e-09.\n"
     ]
    },
    {
     "name": "stderr",
     "output_type": "stream",
     "text": [
      "\n"
     ]
    },
    {
     "name": "stdout",
     "output_type": "stream",
     "text": [
      "Epoch 56 | Time 1082s| Train Loss 0.0642 | Train Acc 97.95| Val Loss 0.485 | Val Acc 86.98| Trigger Loss 0.000 | Trigger Acc 100.00\n"
     ]
    },
    {
     "name": "stderr",
     "output_type": "stream",
     "text": [
      "100%|██████████████████████████████████████████████████████████████████████████████████████████████████████████████████████████████████████████████████████████████████████████████████████████████████████| 156/156 [00:16<00:00,  9.38it/s]"
     ]
    },
    {
     "name": "stdout",
     "output_type": "stream",
     "text": [
      "Adjusting learning rate of group 0 to 2.0000e-09.\n"
     ]
    },
    {
     "name": "stderr",
     "output_type": "stream",
     "text": [
      "\n"
     ]
    },
    {
     "name": "stdout",
     "output_type": "stream",
     "text": [
      "Epoch 57 | Time 1101s| Train Loss 0.0624 | Train Acc 98.02| Val Loss 0.485 | Val Acc 86.94| Trigger Loss 0.000 | Trigger Acc 100.00\n"
     ]
    },
    {
     "name": "stderr",
     "output_type": "stream",
     "text": [
      "100%|██████████████████████████████████████████████████████████████████████████████████████████████████████████████████████████████████████████████████████████████████████████████████████████████████████| 156/156 [00:16<00:00,  9.39it/s]"
     ]
    },
    {
     "name": "stdout",
     "output_type": "stream",
     "text": [
      "Adjusting learning rate of group 0 to 2.0000e-09.\n"
     ]
    },
    {
     "name": "stderr",
     "output_type": "stream",
     "text": [
      "\n"
     ]
    },
    {
     "name": "stdout",
     "output_type": "stream",
     "text": [
      "Epoch 58 | Time 1120s| Train Loss 0.0638 | Train Acc 97.91| Val Loss 0.486 | Val Acc 87.00| Trigger Loss 0.000 | Trigger Acc 100.00\n"
     ]
    },
    {
     "name": "stderr",
     "output_type": "stream",
     "text": [
      "100%|██████████████████████████████████████████████████████████████████████████████████████████████████████████████████████████████████████████████████████████████████████████████████████████████████████| 156/156 [00:16<00:00,  9.38it/s]"
     ]
    },
    {
     "name": "stdout",
     "output_type": "stream",
     "text": [
      "Adjusting learning rate of group 0 to 2.0000e-10.\n"
     ]
    },
    {
     "name": "stderr",
     "output_type": "stream",
     "text": [
      "\n"
     ]
    },
    {
     "name": "stdout",
     "output_type": "stream",
     "text": [
      "Epoch 59 | Time 1139s| Train Loss 0.0629 | Train Acc 97.95| Val Loss 0.489 | Val Acc 86.92| Trigger Loss 0.000 | Trigger Acc 100.00\n"
     ]
    },
    {
     "name": "stderr",
     "output_type": "stream",
     "text": [
      "100%|██████████████████████████████████████████████████████████████████████████████████████████████████████████████████████████████████████████████████████████████████████████████████████████████████████| 156/156 [00:16<00:00,  9.38it/s]"
     ]
    },
    {
     "name": "stdout",
     "output_type": "stream",
     "text": [
      "Adjusting learning rate of group 0 to 2.0000e-10.\n"
     ]
    },
    {
     "name": "stderr",
     "output_type": "stream",
     "text": [
      "\n"
     ]
    },
    {
     "name": "stdout",
     "output_type": "stream",
     "text": [
      "Epoch 60 | Time 1158s| Train Loss 0.0636 | Train Acc 97.94| Val Loss 0.485 | Val Acc 86.95| Trigger Loss 0.000 | Trigger Acc 100.00\n"
     ]
    },
    {
     "name": "stderr",
     "output_type": "stream",
     "text": [
      "100%|██████████████████████████████████████████████████████████████████████████████████████████████████████████████████████████████████████████████████████████████████████████████████████████████████████| 156/156 [00:16<00:00,  9.39it/s]"
     ]
    },
    {
     "name": "stdout",
     "output_type": "stream",
     "text": [
      "Adjusting learning rate of group 0 to 2.0000e-10.\n"
     ]
    },
    {
     "name": "stderr",
     "output_type": "stream",
     "text": [
      "\n"
     ]
    },
    {
     "name": "stdout",
     "output_type": "stream",
     "text": [
      "Epoch 61 | Time 1177s| Train Loss 0.0634 | Train Acc 98.00| Val Loss 0.487 | Val Acc 86.96| Trigger Loss 0.000 | Trigger Acc 100.00\n"
     ]
    },
    {
     "name": "stderr",
     "output_type": "stream",
     "text": [
      "100%|██████████████████████████████████████████████████████████████████████████████████████████████████████████████████████████████████████████████████████████████████████████████████████████████████████| 156/156 [00:16<00:00,  9.38it/s]"
     ]
    },
    {
     "name": "stdout",
     "output_type": "stream",
     "text": [
      "Adjusting learning rate of group 0 to 2.0000e-10.\n"
     ]
    },
    {
     "name": "stderr",
     "output_type": "stream",
     "text": [
      "\n"
     ]
    },
    {
     "name": "stdout",
     "output_type": "stream",
     "text": [
      "Epoch 62 | Time 1196s| Train Loss 0.0649 | Train Acc 97.94| Val Loss 0.485 | Val Acc 87.00| Trigger Loss 0.000 | Trigger Acc 100.00\n"
     ]
    },
    {
     "name": "stderr",
     "output_type": "stream",
     "text": [
      "100%|██████████████████████████████████████████████████████████████████████████████████████████████████████████████████████████████████████████████████████████████████████████████████████████████████████| 156/156 [00:16<00:00,  9.39it/s]"
     ]
    },
    {
     "name": "stdout",
     "output_type": "stream",
     "text": [
      "Adjusting learning rate of group 0 to 2.0000e-10.\n"
     ]
    },
    {
     "name": "stderr",
     "output_type": "stream",
     "text": [
      "\n"
     ]
    },
    {
     "name": "stdout",
     "output_type": "stream",
     "text": [
      "Epoch 63 | Time 1215s| Train Loss 0.0625 | Train Acc 98.02| Val Loss 0.487 | Val Acc 86.86| Trigger Loss 0.000 | Trigger Acc 100.00\n"
     ]
    },
    {
     "name": "stderr",
     "output_type": "stream",
     "text": [
      "100%|██████████████████████████████████████████████████████████████████████████████████████████████████████████████████████████████████████████████████████████████████████████████████████████████████████| 156/156 [00:16<00:00,  9.39it/s]"
     ]
    },
    {
     "name": "stdout",
     "output_type": "stream",
     "text": [
      "Adjusting learning rate of group 0 to 2.0000e-10.\n"
     ]
    },
    {
     "name": "stderr",
     "output_type": "stream",
     "text": [
      "\n"
     ]
    },
    {
     "name": "stdout",
     "output_type": "stream",
     "text": [
      "Epoch 64 | Time 1234s| Train Loss 0.0635 | Train Acc 97.89| Val Loss 0.486 | Val Acc 86.90| Trigger Loss 0.000 | Trigger Acc 100.00\n"
     ]
    },
    {
     "name": "stderr",
     "output_type": "stream",
     "text": [
      "100%|██████████████████████████████████████████████████████████████████████████████████████████████████████████████████████████████████████████████████████████████████████████████████████████████████████| 156/156 [00:16<00:00,  9.39it/s]"
     ]
    },
    {
     "name": "stdout",
     "output_type": "stream",
     "text": [
      "Adjusting learning rate of group 0 to 2.0000e-10.\n"
     ]
    },
    {
     "name": "stderr",
     "output_type": "stream",
     "text": [
      "\n"
     ]
    },
    {
     "name": "stdout",
     "output_type": "stream",
     "text": [
      "Epoch 65 | Time 1253s| Train Loss 0.0627 | Train Acc 98.03| Val Loss 0.485 | Val Acc 86.97| Trigger Loss 0.000 | Trigger Acc 100.00\n"
     ]
    },
    {
     "name": "stderr",
     "output_type": "stream",
     "text": [
      "100%|██████████████████████████████████████████████████████████████████████████████████████████████████████████████████████████████████████████████████████████████████████████████████████████████████████| 156/156 [00:16<00:00,  9.38it/s]"
     ]
    },
    {
     "name": "stdout",
     "output_type": "stream",
     "text": [
      "Adjusting learning rate of group 0 to 2.0000e-10.\n"
     ]
    },
    {
     "name": "stderr",
     "output_type": "stream",
     "text": [
      "\n"
     ]
    },
    {
     "name": "stdout",
     "output_type": "stream",
     "text": [
      "Epoch 66 | Time 1271s| Train Loss 0.0647 | Train Acc 97.91| Val Loss 0.487 | Val Acc 86.88| Trigger Loss 0.000 | Trigger Acc 100.00\n"
     ]
    },
    {
     "name": "stderr",
     "output_type": "stream",
     "text": [
      "100%|██████████████████████████████████████████████████████████████████████████████████████████████████████████████████████████████████████████████████████████████████████████████████████████████████████| 156/156 [00:16<00:00,  9.39it/s]"
     ]
    },
    {
     "name": "stdout",
     "output_type": "stream",
     "text": [
      "Adjusting learning rate of group 0 to 2.0000e-10.\n"
     ]
    },
    {
     "name": "stderr",
     "output_type": "stream",
     "text": [
      "\n"
     ]
    },
    {
     "name": "stdout",
     "output_type": "stream",
     "text": [
      "Epoch 67 | Time 1290s| Train Loss 0.0642 | Train Acc 98.00| Val Loss 0.487 | Val Acc 86.94| Trigger Loss 0.000 | Trigger Acc 100.00\n"
     ]
    },
    {
     "name": "stderr",
     "output_type": "stream",
     "text": [
      "100%|██████████████████████████████████████████████████████████████████████████████████████████████████████████████████████████████████████████████████████████████████████████████████████████████████████| 156/156 [00:16<00:00,  9.38it/s]"
     ]
    },
    {
     "name": "stdout",
     "output_type": "stream",
     "text": [
      "Adjusting learning rate of group 0 to 2.0000e-10.\n"
     ]
    },
    {
     "name": "stderr",
     "output_type": "stream",
     "text": [
      "\n"
     ]
    },
    {
     "name": "stdout",
     "output_type": "stream",
     "text": [
      "Epoch 68 | Time 1309s| Train Loss 0.0631 | Train Acc 98.01| Val Loss 0.485 | Val Acc 86.85| Trigger Loss 0.000 | Trigger Acc 100.00\n"
     ]
    },
    {
     "name": "stderr",
     "output_type": "stream",
     "text": [
      "100%|██████████████████████████████████████████████████████████████████████████████████████████████████████████████████████████████████████████████████████████████████████████████████████████████████████| 156/156 [00:16<00:00,  9.38it/s]"
     ]
    },
    {
     "name": "stdout",
     "output_type": "stream",
     "text": [
      "Adjusting learning rate of group 0 to 2.0000e-11.\n"
     ]
    },
    {
     "name": "stderr",
     "output_type": "stream",
     "text": [
      "\n"
     ]
    },
    {
     "name": "stdout",
     "output_type": "stream",
     "text": [
      "Epoch 69 | Time 1328s| Train Loss 0.0650 | Train Acc 97.89| Val Loss 0.487 | Val Acc 86.96| Trigger Loss 0.000 | Trigger Acc 100.00\n"
     ]
    },
    {
     "name": "stderr",
     "output_type": "stream",
     "text": [
      "100%|██████████████████████████████████████████████████████████████████████████████████████████████████████████████████████████████████████████████████████████████████████████████████████████████████████| 156/156 [00:16<00:00,  9.39it/s]"
     ]
    },
    {
     "name": "stdout",
     "output_type": "stream",
     "text": [
      "Adjusting learning rate of group 0 to 2.0000e-11.\n"
     ]
    },
    {
     "name": "stderr",
     "output_type": "stream",
     "text": [
      "\n"
     ]
    },
    {
     "name": "stdout",
     "output_type": "stream",
     "text": [
      "Epoch 70 | Time 1347s| Train Loss 0.0632 | Train Acc 97.96| Val Loss 0.486 | Val Acc 86.97| Trigger Loss 0.000 | Trigger Acc 100.00\n"
     ]
    },
    {
     "name": "stderr",
     "output_type": "stream",
     "text": [
      "100%|██████████████████████████████████████████████████████████████████████████████████████████████████████████████████████████████████████████████████████████████████████████████████████████████████████| 156/156 [00:16<00:00,  9.39it/s]"
     ]
    },
    {
     "name": "stdout",
     "output_type": "stream",
     "text": [
      "Adjusting learning rate of group 0 to 2.0000e-11.\n"
     ]
    },
    {
     "name": "stderr",
     "output_type": "stream",
     "text": [
      "\n"
     ]
    },
    {
     "name": "stdout",
     "output_type": "stream",
     "text": [
      "Epoch 71 | Time 1366s| Train Loss 0.0623 | Train Acc 97.94| Val Loss 0.486 | Val Acc 87.04| Trigger Loss 0.000 | Trigger Acc 100.00\n"
     ]
    },
    {
     "name": "stderr",
     "output_type": "stream",
     "text": [
      "100%|██████████████████████████████████████████████████████████████████████████████████████████████████████████████████████████████████████████████████████████████████████████████████████████████████████| 156/156 [00:16<00:00,  9.38it/s]"
     ]
    },
    {
     "name": "stdout",
     "output_type": "stream",
     "text": [
      "Adjusting learning rate of group 0 to 2.0000e-11.\n"
     ]
    },
    {
     "name": "stderr",
     "output_type": "stream",
     "text": [
      "\n"
     ]
    },
    {
     "name": "stdout",
     "output_type": "stream",
     "text": [
      "Epoch 72 | Time 1385s| Train Loss 0.0623 | Train Acc 98.03| Val Loss 0.488 | Val Acc 86.87| Trigger Loss 0.000 | Trigger Acc 100.00\n"
     ]
    },
    {
     "name": "stderr",
     "output_type": "stream",
     "text": [
      "100%|██████████████████████████████████████████████████████████████████████████████████████████████████████████████████████████████████████████████████████████████████████████████████████████████████████| 156/156 [00:16<00:00,  9.39it/s]"
     ]
    },
    {
     "name": "stdout",
     "output_type": "stream",
     "text": [
      "Adjusting learning rate of group 0 to 2.0000e-11.\n"
     ]
    },
    {
     "name": "stderr",
     "output_type": "stream",
     "text": [
      "\n"
     ]
    },
    {
     "name": "stdout",
     "output_type": "stream",
     "text": [
      "Epoch 73 | Time 1404s| Train Loss 0.0628 | Train Acc 98.01| Val Loss 0.485 | Val Acc 86.91| Trigger Loss 0.000 | Trigger Acc 100.00\n"
     ]
    },
    {
     "name": "stderr",
     "output_type": "stream",
     "text": [
      "100%|██████████████████████████████████████████████████████████████████████████████████████████████████████████████████████████████████████████████████████████████████████████████████████████████████████| 156/156 [00:16<00:00,  9.39it/s]"
     ]
    },
    {
     "name": "stdout",
     "output_type": "stream",
     "text": [
      "Adjusting learning rate of group 0 to 2.0000e-11.\n"
     ]
    },
    {
     "name": "stderr",
     "output_type": "stream",
     "text": [
      "\n"
     ]
    },
    {
     "name": "stdout",
     "output_type": "stream",
     "text": [
      "Epoch 74 | Time 1423s| Train Loss 0.0634 | Train Acc 97.92| Val Loss 0.486 | Val Acc 87.01| Trigger Loss 0.000 | Trigger Acc 100.00\n"
     ]
    },
    {
     "name": "stderr",
     "output_type": "stream",
     "text": [
      "100%|██████████████████████████████████████████████████████████████████████████████████████████████████████████████████████████████████████████████████████████████████████████████████████████████████████| 156/156 [00:16<00:00,  9.38it/s]"
     ]
    },
    {
     "name": "stdout",
     "output_type": "stream",
     "text": [
      "Adjusting learning rate of group 0 to 2.0000e-11.\n"
     ]
    },
    {
     "name": "stderr",
     "output_type": "stream",
     "text": [
      "\n"
     ]
    },
    {
     "name": "stdout",
     "output_type": "stream",
     "text": [
      "Epoch 75 | Time 1442s| Train Loss 0.0636 | Train Acc 97.97| Val Loss 0.486 | Val Acc 86.93| Trigger Loss 0.000 | Trigger Acc 100.00\n"
     ]
    },
    {
     "name": "stderr",
     "output_type": "stream",
     "text": [
      "100%|██████████████████████████████████████████████████████████████████████████████████████████████████████████████████████████████████████████████████████████████████████████████████████████████████████| 156/156 [00:16<00:00,  9.39it/s]"
     ]
    },
    {
     "name": "stdout",
     "output_type": "stream",
     "text": [
      "Adjusting learning rate of group 0 to 2.0000e-11.\n"
     ]
    },
    {
     "name": "stderr",
     "output_type": "stream",
     "text": [
      "\n"
     ]
    },
    {
     "name": "stdout",
     "output_type": "stream",
     "text": [
      "Epoch 76 | Time 1461s| Train Loss 0.0647 | Train Acc 97.89| Val Loss 0.489 | Val Acc 86.97| Trigger Loss 0.000 | Trigger Acc 100.00\n"
     ]
    },
    {
     "name": "stderr",
     "output_type": "stream",
     "text": [
      "100%|██████████████████████████████████████████████████████████████████████████████████████████████████████████████████████████████████████████████████████████████████████████████████████████████████████| 156/156 [00:16<00:00,  9.38it/s]"
     ]
    },
    {
     "name": "stdout",
     "output_type": "stream",
     "text": [
      "Adjusting learning rate of group 0 to 2.0000e-11.\n"
     ]
    },
    {
     "name": "stderr",
     "output_type": "stream",
     "text": [
      "\n"
     ]
    },
    {
     "name": "stdout",
     "output_type": "stream",
     "text": [
      "Epoch 77 | Time 1480s| Train Loss 0.0638 | Train Acc 97.94| Val Loss 0.488 | Val Acc 86.91| Trigger Loss 0.000 | Trigger Acc 100.00\n"
     ]
    },
    {
     "name": "stderr",
     "output_type": "stream",
     "text": [
      "100%|██████████████████████████████████████████████████████████████████████████████████████████████████████████████████████████████████████████████████████████████████████████████████████████████████████| 156/156 [00:16<00:00,  9.39it/s]"
     ]
    },
    {
     "name": "stdout",
     "output_type": "stream",
     "text": [
      "Adjusting learning rate of group 0 to 2.0000e-11.\n"
     ]
    },
    {
     "name": "stderr",
     "output_type": "stream",
     "text": [
      "\n"
     ]
    },
    {
     "name": "stdout",
     "output_type": "stream",
     "text": [
      "Epoch 78 | Time 1499s| Train Loss 0.0654 | Train Acc 97.87| Val Loss 0.485 | Val Acc 86.91| Trigger Loss 0.000 | Trigger Acc 100.00\n"
     ]
    },
    {
     "name": "stderr",
     "output_type": "stream",
     "text": [
      "100%|██████████████████████████████████████████████████████████████████████████████████████████████████████████████████████████████████████████████████████████████████████████████████████████████████████| 156/156 [00:16<00:00,  9.38it/s]"
     ]
    },
    {
     "name": "stdout",
     "output_type": "stream",
     "text": [
      "Adjusting learning rate of group 0 to 2.0000e-12.\n"
     ]
    },
    {
     "name": "stderr",
     "output_type": "stream",
     "text": [
      "\n"
     ]
    },
    {
     "name": "stdout",
     "output_type": "stream",
     "text": [
      "Epoch 79 | Time 1518s| Train Loss 0.0649 | Train Acc 97.93| Val Loss 0.486 | Val Acc 86.92| Trigger Loss 0.000 | Trigger Acc 100.00\n"
     ]
    },
    {
     "data": {
      "text/plain": [
       "{'train_acc': [86.37468566638726,\n",
       "  90.08172673931266,\n",
       "  90.70410729253982,\n",
       "  91.05406538139145,\n",
       "  91.55699916177703,\n",
       "  92.13327745180217,\n",
       "  92.73260687342834,\n",
       "  92.61316010058675,\n",
       "  93.09513830678961,\n",
       "  93.65255658005029,\n",
       "  95.60771165129924,\n",
       "  96.23009220452641,\n",
       "  96.51508801341157,\n",
       "  96.81894383906119,\n",
       "  96.8734283319363,\n",
       "  97.13537300922044,\n",
       "  97.17728415758592,\n",
       "  97.27367979882648,\n",
       "  97.4853310980721,\n",
       "  97.39941324392288,\n",
       "  97.78709136630343,\n",
       "  97.73679798826488,\n",
       "  97.71165129924559,\n",
       "  97.85414920368818,\n",
       "  97.83738474434199,\n",
       "  97.81642917015925,\n",
       "  97.883487007544,\n",
       "  97.89606035205365,\n",
       "  97.9316848281643,\n",
       "  97.99874266554903,\n",
       "  97.88977367979884,\n",
       "  97.89606035205365,\n",
       "  97.99874266554903,\n",
       "  98.03855825649623,\n",
       "  97.94425817267393,\n",
       "  97.94635373009221,\n",
       "  97.9945515507125,\n",
       "  97.94425817267393,\n",
       "  97.90863369656329,\n",
       "  98.02598491198658,\n",
       "  97.9316848281643,\n",
       "  97.95054484492876,\n",
       "  97.97778709136631,\n",
       "  97.97778709136631,\n",
       "  98.0092204526404,\n",
       "  98.01550712489522,\n",
       "  98.02388935456831,\n",
       "  97.94425817267393,\n",
       "  97.97988264878458,\n",
       "  97.89815590947192,\n",
       "  97.94216261525565,\n",
       "  98.08256496227996,\n",
       "  97.89606035205365,\n",
       "  98.00293378038558,\n",
       "  97.93797150041911,\n",
       "  97.94006705783738,\n",
       "  97.95473595976529,\n",
       "  98.02179379715004,\n",
       "  97.90653813914501,\n",
       "  97.94844928751047,\n",
       "  97.94425817267393,\n",
       "  98.00083822296732,\n",
       "  97.93587594300084,\n",
       "  98.01550712489522,\n",
       "  97.8918692372171,\n",
       "  98.0322715842414,\n",
       "  97.90653813914501,\n",
       "  98.00083822296732,\n",
       "  98.0092204526404,\n",
       "  97.8918692372171,\n",
       "  97.95892707460185,\n",
       "  97.94425817267393,\n",
       "  98.03436714165969,\n",
       "  98.0092204526404,\n",
       "  97.9233025984912,\n",
       "  97.97150041911148,\n",
       "  97.89396479463537,\n",
       "  97.94216261525565,\n",
       "  97.87300922045264,\n",
       "  97.92539815590948],\n",
       " 'train_loss': [0.4405511344243575,\n",
       "  0.2911362022161484,\n",
       "  0.27002871221888497,\n",
       "  0.25500025281187677,\n",
       "  0.2390582494119187,\n",
       "  0.22493785480091977,\n",
       "  0.2118625951557727,\n",
       "  0.2074264471533912,\n",
       "  0.19650770200842685,\n",
       "  0.17960706989266048,\n",
       "  0.13054569072065889,\n",
       "  0.11005537518848917,\n",
       "  0.10470862510268267,\n",
       "  0.09700777588688518,\n",
       "  0.09515877161377984,\n",
       "  0.08665845626239155,\n",
       "  0.08480420616195418,\n",
       "  0.08276002564329314,\n",
       "  0.07782421814120076,\n",
       "  0.07592491687736837,\n",
       "  0.06902780847503723,\n",
       "  0.06871039141391069,\n",
       "  0.0683884801300928,\n",
       "  0.06764411041692636,\n",
       "  0.06679614268068446,\n",
       "  0.06726124436631237,\n",
       "  0.06523327146784058,\n",
       "  0.06503168711437214,\n",
       "  0.06535144340815234,\n",
       "  0.06218593515118479,\n",
       "  0.06399084152833365,\n",
       "  0.064887785264084,\n",
       "  0.0637765993816155,\n",
       "  0.06218943418864682,\n",
       "  0.06373945485803627,\n",
       "  0.06383360765861895,\n",
       "  0.06352708506095789,\n",
       "  0.06307876869748844,\n",
       "  0.0646106576834308,\n",
       "  0.06310125071389877,\n",
       "  0.06403886230798299,\n",
       "  0.06386720270093309,\n",
       "  0.06296717975497845,\n",
       "  0.06465626419752162,\n",
       "  0.06278003411709462,\n",
       "  0.06209290882374245,\n",
       "  0.06303949541968902,\n",
       "  0.06290290710318767,\n",
       "  0.06309436359220283,\n",
       "  0.06512429671016992,\n",
       "  0.06414603542533374,\n",
       "  0.06197720881229874,\n",
       "  0.06413462436309104,\n",
       "  0.06382695207027257,\n",
       "  0.06344135190186162,\n",
       "  0.06428340001176959,\n",
       "  0.06416123980923251,\n",
       "  0.06241010166548523,\n",
       "  0.0637560376596121,\n",
       "  0.06292774400705814,\n",
       "  0.06357554234564304,\n",
       "  0.06341359853956845,\n",
       "  0.06492621374518703,\n",
       "  0.06252627904368416,\n",
       "  0.0635339155187401,\n",
       "  0.06274952748969934,\n",
       "  0.06473404594009301,\n",
       "  0.06418317040742343,\n",
       "  0.06307803788764929,\n",
       "  0.06504147879292209,\n",
       "  0.06321698656213554,\n",
       "  0.06229355485340126,\n",
       "  0.06228767001731298,\n",
       "  0.06278586095762623,\n",
       "  0.06341728073609594,\n",
       "  0.06360527456699802,\n",
       "  0.06473916577923128,\n",
       "  0.06379887678372391,\n",
       "  0.06535063318514764,\n",
       "  0.06489001101371579],\n",
       " 'val_acc': [81.36,\n",
       "  83.72,\n",
       "  83.13000000000001,\n",
       "  82.50999999999999,\n",
       "  82.64,\n",
       "  82.62,\n",
       "  84.00999999999999,\n",
       "  83.06,\n",
       "  83.13000000000001,\n",
       "  84.3,\n",
       "  86.91,\n",
       "  86.74,\n",
       "  86.92,\n",
       "  86.86,\n",
       "  86.83,\n",
       "  86.88,\n",
       "  86.88,\n",
       "  86.96000000000001,\n",
       "  86.99,\n",
       "  86.76,\n",
       "  86.9,\n",
       "  86.98,\n",
       "  86.96000000000001,\n",
       "  86.95,\n",
       "  86.98,\n",
       "  86.92,\n",
       "  86.9,\n",
       "  86.92999999999999,\n",
       "  86.8,\n",
       "  86.86,\n",
       "  86.9,\n",
       "  86.92999999999999,\n",
       "  87.05000000000001,\n",
       "  86.87,\n",
       "  86.95,\n",
       "  87.03999999999999,\n",
       "  87.03,\n",
       "  86.97,\n",
       "  86.98,\n",
       "  86.92999999999999,\n",
       "  87.02,\n",
       "  86.99,\n",
       "  86.95,\n",
       "  86.96000000000001,\n",
       "  86.95,\n",
       "  86.87,\n",
       "  87.03999999999999,\n",
       "  86.92999999999999,\n",
       "  86.91,\n",
       "  86.95,\n",
       "  87.01,\n",
       "  86.96000000000001,\n",
       "  86.99,\n",
       "  87.03,\n",
       "  86.98,\n",
       "  86.91,\n",
       "  86.98,\n",
       "  86.94,\n",
       "  87.0,\n",
       "  86.92,\n",
       "  86.95,\n",
       "  86.96000000000001,\n",
       "  87.0,\n",
       "  86.86,\n",
       "  86.9,\n",
       "  86.97,\n",
       "  86.88,\n",
       "  86.94,\n",
       "  86.85000000000001,\n",
       "  86.96000000000001,\n",
       "  86.97,\n",
       "  87.03999999999999,\n",
       "  86.87,\n",
       "  86.91,\n",
       "  87.01,\n",
       "  86.92999999999999,\n",
       "  86.97,\n",
       "  86.91,\n",
       "  86.91,\n",
       "  86.92],\n",
       " 'val_loss': [0.5541075188398361,\n",
       "  0.5076498291134834,\n",
       "  0.5144342628002166,\n",
       "  0.5669995232138783,\n",
       "  0.5378376795768738,\n",
       "  0.5940059837579728,\n",
       "  0.540151976108551,\n",
       "  0.547943516933918,\n",
       "  0.5682940611362457,\n",
       "  0.5363774586200714,\n",
       "  0.43842592453360557,\n",
       "  0.44932423678040506,\n",
       "  0.45082232531905175,\n",
       "  0.45357758299410345,\n",
       "  0.46454972299933434,\n",
       "  0.47062008533030747,\n",
       "  0.47319903857409956,\n",
       "  0.4756244806751609,\n",
       "  0.4819371012896299,\n",
       "  0.4852187241435051,\n",
       "  0.48150444175601004,\n",
       "  0.4815671544700861,\n",
       "  0.4808689386665821,\n",
       "  0.48290747847259047,\n",
       "  0.4834808993190527,\n",
       "  0.4827440114468336,\n",
       "  0.48443531140089036,\n",
       "  0.48509322681725026,\n",
       "  0.4848032477080822,\n",
       "  0.4859230951935053,\n",
       "  0.48608079015612604,\n",
       "  0.4857944960713387,\n",
       "  0.4862066033780575,\n",
       "  0.486504982355237,\n",
       "  0.48670824628770354,\n",
       "  0.48533638319075106,\n",
       "  0.48645928000211713,\n",
       "  0.4862695721805096,\n",
       "  0.48646012724041937,\n",
       "  0.48698596136271954,\n",
       "  0.48811108750104903,\n",
       "  0.48446400952339175,\n",
       "  0.48708270674347875,\n",
       "  0.4875688061654568,\n",
       "  0.48490469464957714,\n",
       "  0.48571155659258364,\n",
       "  0.4865331530332565,\n",
       "  0.4883069976627827,\n",
       "  0.48597840833961964,\n",
       "  0.48667349778711794,\n",
       "  0.4871263234078884,\n",
       "  0.4860488124251366,\n",
       "  0.48542967404425147,\n",
       "  0.48633197379708293,\n",
       "  0.484570861274004,\n",
       "  0.4868750300496817,\n",
       "  0.48512714320123196,\n",
       "  0.4849532525807619,\n",
       "  0.4859975178986788,\n",
       "  0.48918432167470455,\n",
       "  0.4852779061049223,\n",
       "  0.48739223059415815,\n",
       "  0.4852248483181,\n",
       "  0.48682793278992176,\n",
       "  0.48629696350097656,\n",
       "  0.48461943975389005,\n",
       "  0.48662516095638275,\n",
       "  0.4868290390312672,\n",
       "  0.48524064032137393,\n",
       "  0.48661155299544334,\n",
       "  0.48556013640761375,\n",
       "  0.4861084255158901,\n",
       "  0.4881655955195427,\n",
       "  0.48549559937119485,\n",
       "  0.48593218126893045,\n",
       "  0.4858231517344713,\n",
       "  0.4887490366816521,\n",
       "  0.48755751977562906,\n",
       "  0.48536339093148706,\n",
       "  0.4859419590383768],\n",
       " 'trigger_acc': [100.0,\n",
       "  100.0,\n",
       "  100.0,\n",
       "  100.0,\n",
       "  100.0,\n",
       "  98.0,\n",
       "  100.0,\n",
       "  100.0,\n",
       "  99.0,\n",
       "  100.0,\n",
       "  100.0,\n",
       "  100.0,\n",
       "  100.0,\n",
       "  100.0,\n",
       "  100.0,\n",
       "  100.0,\n",
       "  100.0,\n",
       "  100.0,\n",
       "  100.0,\n",
       "  100.0,\n",
       "  100.0,\n",
       "  100.0,\n",
       "  100.0,\n",
       "  100.0,\n",
       "  100.0,\n",
       "  100.0,\n",
       "  100.0,\n",
       "  100.0,\n",
       "  100.0,\n",
       "  100.0,\n",
       "  100.0,\n",
       "  100.0,\n",
       "  100.0,\n",
       "  100.0,\n",
       "  100.0,\n",
       "  100.0,\n",
       "  100.0,\n",
       "  100.0,\n",
       "  100.0,\n",
       "  100.0,\n",
       "  100.0,\n",
       "  100.0,\n",
       "  100.0,\n",
       "  100.0,\n",
       "  100.0,\n",
       "  100.0,\n",
       "  100.0,\n",
       "  100.0,\n",
       "  100.0,\n",
       "  100.0,\n",
       "  100.0,\n",
       "  100.0,\n",
       "  100.0,\n",
       "  100.0,\n",
       "  100.0,\n",
       "  100.0,\n",
       "  100.0,\n",
       "  100.0,\n",
       "  100.0,\n",
       "  100.0,\n",
       "  100.0,\n",
       "  100.0,\n",
       "  100.0,\n",
       "  100.0,\n",
       "  100.0,\n",
       "  100.0,\n",
       "  100.0,\n",
       "  100.0,\n",
       "  100.0,\n",
       "  100.0,\n",
       "  100.0,\n",
       "  100.0,\n",
       "  100.0,\n",
       "  100.0,\n",
       "  100.0,\n",
       "  100.0,\n",
       "  100.0,\n",
       "  100.0,\n",
       "  100.0,\n",
       "  100.0],\n",
       " 'trigger_loss': [0.10098296552896499,\n",
       "  0.04020471051335335,\n",
       "  0.028865460082888605,\n",
       "  0.03133001543581486,\n",
       "  0.02177054062485695,\n",
       "  0.038337307423353194,\n",
       "  0.01315678607672453,\n",
       "  0.024217719957232476,\n",
       "  0.02157122567296028,\n",
       "  0.00983433036133647,\n",
       "  0.000796669889241457,\n",
       "  0.0004541957902256399,\n",
       "  0.0003693571884650737,\n",
       "  0.0003127523371949792,\n",
       "  0.00022924187418539078,\n",
       "  0.00020551585650537162,\n",
       "  0.0002166856313124299,\n",
       "  0.00020510554197244345,\n",
       "  0.00017999340256210416,\n",
       "  0.00018343622388783843,\n",
       "  0.00015334718162193894,\n",
       "  0.00014765288098715247,\n",
       "  0.00014434756129048766,\n",
       "  0.00014183584367856385,\n",
       "  0.00014925657073035835,\n",
       "  0.0001550657913321629,\n",
       "  0.00013748334982665255,\n",
       "  0.00013480954279657454,\n",
       "  0.0001383503229590133,\n",
       "  0.00013872376875951887,\n",
       "  0.00013254240446258336,\n",
       "  0.00013724494259804488,\n",
       "  0.00013689848885405808,\n",
       "  0.0001395872631110251,\n",
       "  0.0001379513877327554,\n",
       "  0.00013491873338352888,\n",
       "  0.0001367098733317107,\n",
       "  0.00014420282037463038,\n",
       "  0.00013985421042889357,\n",
       "  0.00014099281397648156,\n",
       "  0.00013243926397990435,\n",
       "  0.00013471973012201487,\n",
       "  0.00013248991104774176,\n",
       "  0.00013379046285990625,\n",
       "  0.0001437690283637494,\n",
       "  0.00013744791154749692,\n",
       "  0.00013127329177223146,\n",
       "  0.00013003088010009377,\n",
       "  0.0001370112900622189,\n",
       "  0.00013212772988481448,\n",
       "  0.00013471799553371966,\n",
       "  0.00013713777443626895,\n",
       "  0.00013299318845383823,\n",
       "  0.00013073484849883245,\n",
       "  0.0001409489067737013,\n",
       "  0.00013641133438795804,\n",
       "  0.00013147443300113082,\n",
       "  0.0001405916881049052,\n",
       "  0.0001358741690637544,\n",
       "  0.0001272160024382174,\n",
       "  0.00013749169884249567,\n",
       "  0.00013643367507029324,\n",
       "  0.00013222760520875454,\n",
       "  0.00013434651831630617,\n",
       "  0.00013131796149536967,\n",
       "  0.00013896783231757582,\n",
       "  0.00013615438074339182,\n",
       "  0.0001338680915068835,\n",
       "  0.00014079976826906205,\n",
       "  0.00013145447592251004,\n",
       "  0.00013515484984964133,\n",
       "  0.00013765843934379518,\n",
       "  0.0001344456968945451,\n",
       "  0.0001379297216772102,\n",
       "  0.00013755194551777096,\n",
       "  0.00013890322181396187,\n",
       "  0.0001327561039943248,\n",
       "  0.0001351741573307663,\n",
       "  0.00014370897551998496,\n",
       "  0.00013447973178699614]}"
      ]
     },
     "execution_count": 9,
     "metadata": {},
     "output_type": "execute_result"
    }
   ],
   "source": [
    "# normal watermark\n",
    "net = ResNet18()\n",
    "logcmt = f\"resnet18_8020_trigger_finetune\"\n",
    "net.load_state_dict(torch.load('checkpoints/resnet18_8020.ckpt'))\n",
    "optimizer = torch.optim.Adam(params=net.parameters(), lr=2e-4, weight_decay=1e-4)\n",
    "criterion = nn.CrossEntropyLoss()\n",
    "scheduler = torch.optim.lr_scheduler.StepLR(optimizer, step_size=10, gamma=0.1, verbose=True)\n",
    "trainer = Trainer(net, criterion, optimizer, train_loader=trainloader, trigger_loader=wmloader, use_trigger=True, scheduler=scheduler)\n",
    "evaluator = Evaluator(net, criterion)\n",
    "train(trainer, evaluator, testloader, 80, 'checkpoints/resnet18_wm_8020_rand.ckpt',\n",
    "      logdir='./runs', logcmt=logcmt, trigger_loader=wmloader)"
   ]
  },
  {
   "cell_type": "markdown",
   "id": "e90f2d67-8454-42c9-94da-98e4121be5b1",
   "metadata": {},
   "source": [
    "Adversarial Sample Original Scheme"
   ]
  },
  {
   "cell_type": "code",
   "execution_count": 10,
   "id": "14b47549-2828-4454-aeeb-27da00842f96",
   "metadata": {},
   "outputs": [
    {
     "name": "stdout",
     "output_type": "stream",
     "text": [
      "Adjusting learning rate of group 0 to 2.0000e-04.\n",
      "Start Training...\n"
     ]
    },
    {
     "name": "stderr",
     "output_type": "stream",
     "text": [
      "100%|██████████████████████████████████████████████████████████████████████████████████████████████████████████████████████████████████████████████████████████████████████████████████████████████████████| 156/156 [00:16<00:00,  9.38it/s]"
     ]
    },
    {
     "name": "stdout",
     "output_type": "stream",
     "text": [
      "Adjusting learning rate of group 0 to 2.0000e-04.\n"
     ]
    },
    {
     "name": "stderr",
     "output_type": "stream",
     "text": [
      "\n"
     ]
    },
    {
     "name": "stdout",
     "output_type": "stream",
     "text": [
      "Epoch 0 | Time 18s| Train Loss 0.4197 | Train Acc 86.71| Val Loss 0.571 | Val Acc 81.75| Trigger Loss 0.082 | Trigger Acc 99.00\n"
     ]
    },
    {
     "name": "stderr",
     "output_type": "stream",
     "text": [
      "100%|██████████████████████████████████████████████████████████████████████████████████████████████████████████████████████████████████████████████████████████████████████████████████████████████████████| 156/156 [00:16<00:00,  9.38it/s]"
     ]
    },
    {
     "name": "stdout",
     "output_type": "stream",
     "text": [
      "Adjusting learning rate of group 0 to 2.0000e-04.\n"
     ]
    },
    {
     "name": "stderr",
     "output_type": "stream",
     "text": [
      "\n"
     ]
    },
    {
     "name": "stdout",
     "output_type": "stream",
     "text": [
      "Epoch 1 | Time 38s| Train Loss 0.2900 | Train Acc 90.06| Val Loss 0.547 | Val Acc 82.45| Trigger Loss 0.030 | Trigger Acc 100.00\n"
     ]
    },
    {
     "name": "stderr",
     "output_type": "stream",
     "text": [
      "100%|██████████████████████████████████████████████████████████████████████████████████████████████████████████████████████████████████████████████████████████████████████████████████████████████████████| 156/156 [00:16<00:00,  9.40it/s]"
     ]
    },
    {
     "name": "stdout",
     "output_type": "stream",
     "text": [
      "Adjusting learning rate of group 0 to 2.0000e-04.\n"
     ]
    },
    {
     "name": "stderr",
     "output_type": "stream",
     "text": [
      "\n"
     ]
    },
    {
     "name": "stdout",
     "output_type": "stream",
     "text": [
      "Epoch 2 | Time 57s| Train Loss 0.2691 | Train Acc 90.82| Val Loss 0.511 | Val Acc 83.84| Trigger Loss 0.034 | Trigger Acc 99.00\n"
     ]
    },
    {
     "name": "stderr",
     "output_type": "stream",
     "text": [
      "100%|██████████████████████████████████████████████████████████████████████████████████████████████████████████████████████████████████████████████████████████████████████████████████████████████████████| 156/156 [00:16<00:00,  9.39it/s]"
     ]
    },
    {
     "name": "stdout",
     "output_type": "stream",
     "text": [
      "Adjusting learning rate of group 0 to 2.0000e-04.\n"
     ]
    },
    {
     "name": "stderr",
     "output_type": "stream",
     "text": [
      "\n"
     ]
    },
    {
     "name": "stdout",
     "output_type": "stream",
     "text": [
      "Epoch 3 | Time 76s| Train Loss 0.2481 | Train Acc 91.43| Val Loss 0.521 | Val Acc 83.49| Trigger Loss 0.009 | Trigger Acc 100.00\n"
     ]
    },
    {
     "name": "stderr",
     "output_type": "stream",
     "text": [
      "100%|██████████████████████████████████████████████████████████████████████████████████████████████████████████████████████████████████████████████████████████████████████████████████████████████████████| 156/156 [00:16<00:00,  9.39it/s]"
     ]
    },
    {
     "name": "stdout",
     "output_type": "stream",
     "text": [
      "Adjusting learning rate of group 0 to 2.0000e-04.\n"
     ]
    },
    {
     "name": "stderr",
     "output_type": "stream",
     "text": [
      "\n"
     ]
    },
    {
     "name": "stdout",
     "output_type": "stream",
     "text": [
      "Epoch 4 | Time 95s| Train Loss 0.2385 | Train Acc 91.61| Val Loss 0.513 | Val Acc 84.00| Trigger Loss 0.021 | Trigger Acc 100.00\n"
     ]
    },
    {
     "name": "stderr",
     "output_type": "stream",
     "text": [
      "100%|██████████████████████████████████████████████████████████████████████████████████████████████████████████████████████████████████████████████████████████████████████████████████████████████████████| 156/156 [00:16<00:00,  9.39it/s]"
     ]
    },
    {
     "name": "stdout",
     "output_type": "stream",
     "text": [
      "Adjusting learning rate of group 0 to 2.0000e-04.\n"
     ]
    },
    {
     "name": "stderr",
     "output_type": "stream",
     "text": [
      "\n"
     ]
    },
    {
     "name": "stdout",
     "output_type": "stream",
     "text": [
      "Epoch 5 | Time 114s| Train Loss 0.2266 | Train Acc 92.11| Val Loss 0.532 | Val Acc 83.68| Trigger Loss 0.015 | Trigger Acc 100.00\n"
     ]
    },
    {
     "name": "stderr",
     "output_type": "stream",
     "text": [
      "100%|██████████████████████████████████████████████████████████████████████████████████████████████████████████████████████████████████████████████████████████████████████████████████████████████████████| 156/156 [00:16<00:00,  9.39it/s]"
     ]
    },
    {
     "name": "stdout",
     "output_type": "stream",
     "text": [
      "Adjusting learning rate of group 0 to 2.0000e-04.\n"
     ]
    },
    {
     "name": "stderr",
     "output_type": "stream",
     "text": [
      "\n"
     ]
    },
    {
     "name": "stdout",
     "output_type": "stream",
     "text": [
      "Epoch 6 | Time 133s| Train Loss 0.2118 | Train Acc 92.70| Val Loss 0.497 | Val Acc 84.42| Trigger Loss 0.007 | Trigger Acc 100.00\n"
     ]
    },
    {
     "name": "stderr",
     "output_type": "stream",
     "text": [
      "100%|██████████████████████████████████████████████████████████████████████████████████████████████████████████████████████████████████████████████████████████████████████████████████████████████████████| 156/156 [00:16<00:00,  9.37it/s]"
     ]
    },
    {
     "name": "stdout",
     "output_type": "stream",
     "text": [
      "Adjusting learning rate of group 0 to 2.0000e-04.\n"
     ]
    },
    {
     "name": "stderr",
     "output_type": "stream",
     "text": [
      "\n"
     ]
    },
    {
     "name": "stdout",
     "output_type": "stream",
     "text": [
      "Epoch 7 | Time 152s| Train Loss 0.2005 | Train Acc 92.89| Val Loss 0.547 | Val Acc 84.00| Trigger Loss 0.008 | Trigger Acc 100.00\n"
     ]
    },
    {
     "name": "stderr",
     "output_type": "stream",
     "text": [
      "100%|██████████████████████████████████████████████████████████████████████████████████████████████████████████████████████████████████████████████████████████████████████████████████████████████████████| 156/156 [00:16<00:00,  9.39it/s]"
     ]
    },
    {
     "name": "stdout",
     "output_type": "stream",
     "text": [
      "Adjusting learning rate of group 0 to 2.0000e-04.\n"
     ]
    },
    {
     "name": "stderr",
     "output_type": "stream",
     "text": [
      "\n"
     ]
    },
    {
     "name": "stdout",
     "output_type": "stream",
     "text": [
      "Epoch 8 | Time 171s| Train Loss 0.1980 | Train Acc 92.98| Val Loss 0.555 | Val Acc 83.65| Trigger Loss 0.009 | Trigger Acc 100.00\n"
     ]
    },
    {
     "name": "stderr",
     "output_type": "stream",
     "text": [
      "100%|██████████████████████████████████████████████████████████████████████████████████████████████████████████████████████████████████████████████████████████████████████████████████████████████████████| 156/156 [00:16<00:00,  9.38it/s]"
     ]
    },
    {
     "name": "stdout",
     "output_type": "stream",
     "text": [
      "Adjusting learning rate of group 0 to 2.0000e-05.\n"
     ]
    },
    {
     "name": "stderr",
     "output_type": "stream",
     "text": [
      "\n"
     ]
    },
    {
     "name": "stdout",
     "output_type": "stream",
     "text": [
      "Epoch 9 | Time 190s| Train Loss 0.1835 | Train Acc 93.51| Val Loss 0.570 | Val Acc 83.81| Trigger Loss 0.024 | Trigger Acc 100.00\n"
     ]
    },
    {
     "name": "stderr",
     "output_type": "stream",
     "text": [
      "100%|██████████████████████████████████████████████████████████████████████████████████████████████████████████████████████████████████████████████████████████████████████████████████████████████████████| 156/156 [00:16<00:00,  9.39it/s]"
     ]
    },
    {
     "name": "stdout",
     "output_type": "stream",
     "text": [
      "Adjusting learning rate of group 0 to 2.0000e-05.\n"
     ]
    },
    {
     "name": "stderr",
     "output_type": "stream",
     "text": [
      "\n"
     ]
    },
    {
     "name": "stdout",
     "output_type": "stream",
     "text": [
      "Epoch 10 | Time 209s| Train Loss 0.1298 | Train Acc 95.57| Val Loss 0.433 | Val Acc 87.09| Trigger Loss 0.001 | Trigger Acc 100.00\n"
     ]
    },
    {
     "name": "stderr",
     "output_type": "stream",
     "text": [
      "100%|██████████████████████████████████████████████████████████████████████████████████████████████████████████████████████████████████████████████████████████████████████████████████████████████████████| 156/156 [00:16<00:00,  9.39it/s]"
     ]
    },
    {
     "name": "stdout",
     "output_type": "stream",
     "text": [
      "Adjusting learning rate of group 0 to 2.0000e-05.\n"
     ]
    },
    {
     "name": "stderr",
     "output_type": "stream",
     "text": [
      "\n"
     ]
    },
    {
     "name": "stdout",
     "output_type": "stream",
     "text": [
      "Epoch 11 | Time 228s| Train Loss 0.1099 | Train Acc 96.32| Val Loss 0.434 | Val Acc 87.08| Trigger Loss 0.000 | Trigger Acc 100.00\n"
     ]
    },
    {
     "name": "stderr",
     "output_type": "stream",
     "text": [
      "100%|██████████████████████████████████████████████████████████████████████████████████████████████████████████████████████████████████████████████████████████████████████████████████████████████████████| 156/156 [00:16<00:00,  9.39it/s]"
     ]
    },
    {
     "name": "stdout",
     "output_type": "stream",
     "text": [
      "Adjusting learning rate of group 0 to 2.0000e-05.\n"
     ]
    },
    {
     "name": "stderr",
     "output_type": "stream",
     "text": [
      "\n"
     ]
    },
    {
     "name": "stdout",
     "output_type": "stream",
     "text": [
      "Epoch 12 | Time 247s| Train Loss 0.1008 | Train Acc 96.68| Val Loss 0.438 | Val Acc 87.48| Trigger Loss 0.000 | Trigger Acc 100.00\n"
     ]
    },
    {
     "name": "stderr",
     "output_type": "stream",
     "text": [
      "100%|██████████████████████████████████████████████████████████████████████████████████████████████████████████████████████████████████████████████████████████████████████████████████████████████████████| 156/156 [00:16<00:00,  9.39it/s]"
     ]
    },
    {
     "name": "stdout",
     "output_type": "stream",
     "text": [
      "Adjusting learning rate of group 0 to 2.0000e-05.\n"
     ]
    },
    {
     "name": "stderr",
     "output_type": "stream",
     "text": [
      "\n"
     ]
    },
    {
     "name": "stdout",
     "output_type": "stream",
     "text": [
      "Epoch 13 | Time 266s| Train Loss 0.0978 | Train Acc 96.74| Val Loss 0.442 | Val Acc 87.52| Trigger Loss 0.000 | Trigger Acc 100.00\n"
     ]
    },
    {
     "name": "stderr",
     "output_type": "stream",
     "text": [
      "100%|██████████████████████████████████████████████████████████████████████████████████████████████████████████████████████████████████████████████████████████████████████████████████████████████████████| 156/156 [00:16<00:00,  9.40it/s]"
     ]
    },
    {
     "name": "stdout",
     "output_type": "stream",
     "text": [
      "Adjusting learning rate of group 0 to 2.0000e-05.\n"
     ]
    },
    {
     "name": "stderr",
     "output_type": "stream",
     "text": [
      "\n"
     ]
    },
    {
     "name": "stdout",
     "output_type": "stream",
     "text": [
      "Epoch 14 | Time 285s| Train Loss 0.0920 | Train Acc 96.96| Val Loss 0.447 | Val Acc 87.34| Trigger Loss 0.000 | Trigger Acc 100.00\n"
     ]
    },
    {
     "name": "stderr",
     "output_type": "stream",
     "text": [
      "100%|██████████████████████████████████████████████████████████████████████████████████████████████████████████████████████████████████████████████████████████████████████████████████████████████████████| 156/156 [00:16<00:00,  9.39it/s]"
     ]
    },
    {
     "name": "stdout",
     "output_type": "stream",
     "text": [
      "Adjusting learning rate of group 0 to 2.0000e-05.\n"
     ]
    },
    {
     "name": "stderr",
     "output_type": "stream",
     "text": [
      "\n"
     ]
    },
    {
     "name": "stdout",
     "output_type": "stream",
     "text": [
      "Epoch 15 | Time 304s| Train Loss 0.0878 | Train Acc 97.12| Val Loss 0.452 | Val Acc 87.38| Trigger Loss 0.000 | Trigger Acc 100.00\n"
     ]
    },
    {
     "name": "stderr",
     "output_type": "stream",
     "text": [
      "100%|██████████████████████████████████████████████████████████████████████████████████████████████████████████████████████████████████████████████████████████████████████████████████████████████████████| 156/156 [00:16<00:00,  9.38it/s]"
     ]
    },
    {
     "name": "stdout",
     "output_type": "stream",
     "text": [
      "Adjusting learning rate of group 0 to 2.0000e-05.\n"
     ]
    },
    {
     "name": "stderr",
     "output_type": "stream",
     "text": [
      "\n"
     ]
    },
    {
     "name": "stdout",
     "output_type": "stream",
     "text": [
      "Epoch 16 | Time 322s| Train Loss 0.0853 | Train Acc 97.13| Val Loss 0.456 | Val Acc 87.54| Trigger Loss 0.000 | Trigger Acc 100.00\n"
     ]
    },
    {
     "name": "stderr",
     "output_type": "stream",
     "text": [
      "100%|██████████████████████████████████████████████████████████████████████████████████████████████████████████████████████████████████████████████████████████████████████████████████████████████████████| 156/156 [00:16<00:00,  9.38it/s]"
     ]
    },
    {
     "name": "stdout",
     "output_type": "stream",
     "text": [
      "Adjusting learning rate of group 0 to 2.0000e-05.\n"
     ]
    },
    {
     "name": "stderr",
     "output_type": "stream",
     "text": [
      "\n"
     ]
    },
    {
     "name": "stdout",
     "output_type": "stream",
     "text": [
      "Epoch 17 | Time 341s| Train Loss 0.0806 | Train Acc 97.31| Val Loss 0.462 | Val Acc 87.44| Trigger Loss 0.000 | Trigger Acc 100.00\n"
     ]
    },
    {
     "name": "stderr",
     "output_type": "stream",
     "text": [
      "100%|██████████████████████████████████████████████████████████████████████████████████████████████████████████████████████████████████████████████████████████████████████████████████████████████████████| 156/156 [00:16<00:00,  9.39it/s]"
     ]
    },
    {
     "name": "stdout",
     "output_type": "stream",
     "text": [
      "Adjusting learning rate of group 0 to 2.0000e-05.\n"
     ]
    },
    {
     "name": "stderr",
     "output_type": "stream",
     "text": [
      "\n"
     ]
    },
    {
     "name": "stdout",
     "output_type": "stream",
     "text": [
      "Epoch 18 | Time 360s| Train Loss 0.0804 | Train Acc 97.37| Val Loss 0.460 | Val Acc 87.43| Trigger Loss 0.000 | Trigger Acc 100.00\n"
     ]
    },
    {
     "name": "stderr",
     "output_type": "stream",
     "text": [
      "100%|██████████████████████████████████████████████████████████████████████████████████████████████████████████████████████████████████████████████████████████████████████████████████████████████████████| 156/156 [00:16<00:00,  9.39it/s]"
     ]
    },
    {
     "name": "stdout",
     "output_type": "stream",
     "text": [
      "Adjusting learning rate of group 0 to 2.0000e-06.\n"
     ]
    },
    {
     "name": "stderr",
     "output_type": "stream",
     "text": [
      "\n"
     ]
    },
    {
     "name": "stdout",
     "output_type": "stream",
     "text": [
      "Epoch 19 | Time 379s| Train Loss 0.0764 | Train Acc 97.39| Val Loss 0.474 | Val Acc 87.49| Trigger Loss 0.000 | Trigger Acc 100.00\n"
     ]
    },
    {
     "name": "stderr",
     "output_type": "stream",
     "text": [
      "100%|██████████████████████████████████████████████████████████████████████████████████████████████████████████████████████████████████████████████████████████████████████████████████████████████████████| 156/156 [00:16<00:00,  9.39it/s]"
     ]
    },
    {
     "name": "stdout",
     "output_type": "stream",
     "text": [
      "Adjusting learning rate of group 0 to 2.0000e-06.\n"
     ]
    },
    {
     "name": "stderr",
     "output_type": "stream",
     "text": [
      "\n"
     ]
    },
    {
     "name": "stdout",
     "output_type": "stream",
     "text": [
      "Epoch 20 | Time 398s| Train Loss 0.0696 | Train Acc 97.73| Val Loss 0.465 | Val Acc 87.41| Trigger Loss 0.000 | Trigger Acc 100.00\n"
     ]
    },
    {
     "name": "stderr",
     "output_type": "stream",
     "text": [
      "100%|██████████████████████████████████████████████████████████████████████████████████████████████████████████████████████████████████████████████████████████████████████████████████████████████████████| 156/156 [00:16<00:00,  9.37it/s]"
     ]
    },
    {
     "name": "stdout",
     "output_type": "stream",
     "text": [
      "Adjusting learning rate of group 0 to 2.0000e-06.\n"
     ]
    },
    {
     "name": "stderr",
     "output_type": "stream",
     "text": [
      "\n"
     ]
    },
    {
     "name": "stdout",
     "output_type": "stream",
     "text": [
      "Epoch 21 | Time 417s| Train Loss 0.0681 | Train Acc 97.85| Val Loss 0.465 | Val Acc 87.41| Trigger Loss 0.000 | Trigger Acc 100.00\n"
     ]
    },
    {
     "name": "stderr",
     "output_type": "stream",
     "text": [
      "100%|██████████████████████████████████████████████████████████████████████████████████████████████████████████████████████████████████████████████████████████████████████████████████████████████████████| 156/156 [00:16<00:00,  9.38it/s]"
     ]
    },
    {
     "name": "stdout",
     "output_type": "stream",
     "text": [
      "Adjusting learning rate of group 0 to 2.0000e-06.\n"
     ]
    },
    {
     "name": "stderr",
     "output_type": "stream",
     "text": [
      "\n"
     ]
    },
    {
     "name": "stdout",
     "output_type": "stream",
     "text": [
      "Epoch 22 | Time 436s| Train Loss 0.0674 | Train Acc 97.75| Val Loss 0.463 | Val Acc 87.53| Trigger Loss 0.000 | Trigger Acc 100.00\n"
     ]
    },
    {
     "name": "stderr",
     "output_type": "stream",
     "text": [
      "100%|██████████████████████████████████████████████████████████████████████████████████████████████████████████████████████████████████████████████████████████████████████████████████████████████████████| 156/156 [00:16<00:00,  9.37it/s]"
     ]
    },
    {
     "name": "stdout",
     "output_type": "stream",
     "text": [
      "Adjusting learning rate of group 0 to 2.0000e-06.\n"
     ]
    },
    {
     "name": "stderr",
     "output_type": "stream",
     "text": [
      "\n"
     ]
    },
    {
     "name": "stdout",
     "output_type": "stream",
     "text": [
      "Epoch 23 | Time 455s| Train Loss 0.0662 | Train Acc 97.89| Val Loss 0.466 | Val Acc 87.48| Trigger Loss 0.000 | Trigger Acc 100.00\n"
     ]
    },
    {
     "name": "stderr",
     "output_type": "stream",
     "text": [
      "100%|██████████████████████████████████████████████████████████████████████████████████████████████████████████████████████████████████████████████████████████████████████████████████████████████████████| 156/156 [00:16<00:00,  9.36it/s]"
     ]
    },
    {
     "name": "stdout",
     "output_type": "stream",
     "text": [
      "Adjusting learning rate of group 0 to 2.0000e-06.\n"
     ]
    },
    {
     "name": "stderr",
     "output_type": "stream",
     "text": [
      "\n"
     ]
    },
    {
     "name": "stdout",
     "output_type": "stream",
     "text": [
      "Epoch 24 | Time 474s| Train Loss 0.0672 | Train Acc 97.84| Val Loss 0.466 | Val Acc 87.48| Trigger Loss 0.000 | Trigger Acc 100.00\n"
     ]
    },
    {
     "name": "stderr",
     "output_type": "stream",
     "text": [
      "100%|██████████████████████████████████████████████████████████████████████████████████████████████████████████████████████████████████████████████████████████████████████████████████████████████████████| 156/156 [00:16<00:00,  9.39it/s]"
     ]
    },
    {
     "name": "stdout",
     "output_type": "stream",
     "text": [
      "Adjusting learning rate of group 0 to 2.0000e-06.\n"
     ]
    },
    {
     "name": "stderr",
     "output_type": "stream",
     "text": [
      "\n"
     ]
    },
    {
     "name": "stdout",
     "output_type": "stream",
     "text": [
      "Epoch 25 | Time 493s| Train Loss 0.0658 | Train Acc 97.89| Val Loss 0.465 | Val Acc 87.51| Trigger Loss 0.000 | Trigger Acc 100.00\n"
     ]
    },
    {
     "name": "stderr",
     "output_type": "stream",
     "text": [
      "100%|██████████████████████████████████████████████████████████████████████████████████████████████████████████████████████████████████████████████████████████████████████████████████████████████████████| 156/156 [00:16<00:00,  9.39it/s]"
     ]
    },
    {
     "name": "stdout",
     "output_type": "stream",
     "text": [
      "Adjusting learning rate of group 0 to 2.0000e-06.\n"
     ]
    },
    {
     "name": "stderr",
     "output_type": "stream",
     "text": [
      "\n"
     ]
    },
    {
     "name": "stdout",
     "output_type": "stream",
     "text": [
      "Epoch 26 | Time 512s| Train Loss 0.0663 | Train Acc 97.82| Val Loss 0.467 | Val Acc 87.50| Trigger Loss 0.000 | Trigger Acc 100.00\n"
     ]
    },
    {
     "name": "stderr",
     "output_type": "stream",
     "text": [
      "100%|██████████████████████████████████████████████████████████████████████████████████████████████████████████████████████████████████████████████████████████████████████████████████████████████████████| 156/156 [00:16<00:00,  9.39it/s]"
     ]
    },
    {
     "name": "stdout",
     "output_type": "stream",
     "text": [
      "Adjusting learning rate of group 0 to 2.0000e-06.\n"
     ]
    },
    {
     "name": "stderr",
     "output_type": "stream",
     "text": [
      "\n"
     ]
    },
    {
     "name": "stdout",
     "output_type": "stream",
     "text": [
      "Epoch 27 | Time 531s| Train Loss 0.0647 | Train Acc 97.93| Val Loss 0.467 | Val Acc 87.46| Trigger Loss 0.000 | Trigger Acc 100.00\n"
     ]
    },
    {
     "name": "stderr",
     "output_type": "stream",
     "text": [
      "100%|██████████████████████████████████████████████████████████████████████████████████████████████████████████████████████████████████████████████████████████████████████████████████████████████████████| 156/156 [00:16<00:00,  9.39it/s]"
     ]
    },
    {
     "name": "stdout",
     "output_type": "stream",
     "text": [
      "Adjusting learning rate of group 0 to 2.0000e-06.\n"
     ]
    },
    {
     "name": "stderr",
     "output_type": "stream",
     "text": [
      "\n"
     ]
    },
    {
     "name": "stdout",
     "output_type": "stream",
     "text": [
      "Epoch 28 | Time 550s| Train Loss 0.0659 | Train Acc 97.88| Val Loss 0.469 | Val Acc 87.59| Trigger Loss 0.000 | Trigger Acc 100.00\n"
     ]
    },
    {
     "name": "stderr",
     "output_type": "stream",
     "text": [
      "100%|██████████████████████████████████████████████████████████████████████████████████████████████████████████████████████████████████████████████████████████████████████████████████████████████████████| 156/156 [00:16<00:00,  9.39it/s]"
     ]
    },
    {
     "name": "stdout",
     "output_type": "stream",
     "text": [
      "Adjusting learning rate of group 0 to 2.0000e-07.\n"
     ]
    },
    {
     "name": "stderr",
     "output_type": "stream",
     "text": [
      "\n"
     ]
    },
    {
     "name": "stdout",
     "output_type": "stream",
     "text": [
      "Epoch 29 | Time 569s| Train Loss 0.0644 | Train Acc 97.99| Val Loss 0.471 | Val Acc 87.41| Trigger Loss 0.000 | Trigger Acc 100.00\n"
     ]
    },
    {
     "name": "stderr",
     "output_type": "stream",
     "text": [
      "100%|██████████████████████████████████████████████████████████████████████████████████████████████████████████████████████████████████████████████████████████████████████████████████████████████████████| 156/156 [00:16<00:00,  9.38it/s]"
     ]
    },
    {
     "name": "stdout",
     "output_type": "stream",
     "text": [
      "Adjusting learning rate of group 0 to 2.0000e-07.\n"
     ]
    },
    {
     "name": "stderr",
     "output_type": "stream",
     "text": [
      "\n"
     ]
    },
    {
     "name": "stdout",
     "output_type": "stream",
     "text": [
      "Epoch 30 | Time 588s| Train Loss 0.0639 | Train Acc 97.98| Val Loss 0.470 | Val Acc 87.49| Trigger Loss 0.000 | Trigger Acc 100.00\n"
     ]
    },
    {
     "name": "stderr",
     "output_type": "stream",
     "text": [
      "100%|██████████████████████████████████████████████████████████████████████████████████████████████████████████████████████████████████████████████████████████████████████████████████████████████████████| 156/156 [00:16<00:00,  9.38it/s]"
     ]
    },
    {
     "name": "stdout",
     "output_type": "stream",
     "text": [
      "Adjusting learning rate of group 0 to 2.0000e-07.\n"
     ]
    },
    {
     "name": "stderr",
     "output_type": "stream",
     "text": [
      "\n"
     ]
    },
    {
     "name": "stdout",
     "output_type": "stream",
     "text": [
      "Epoch 31 | Time 607s| Train Loss 0.0629 | Train Acc 98.03| Val Loss 0.469 | Val Acc 87.46| Trigger Loss 0.000 | Trigger Acc 100.00\n"
     ]
    },
    {
     "name": "stderr",
     "output_type": "stream",
     "text": [
      "100%|██████████████████████████████████████████████████████████████████████████████████████████████████████████████████████████████████████████████████████████████████████████████████████████████████████| 156/156 [00:16<00:00,  9.39it/s]"
     ]
    },
    {
     "name": "stdout",
     "output_type": "stream",
     "text": [
      "Adjusting learning rate of group 0 to 2.0000e-07.\n"
     ]
    },
    {
     "name": "stderr",
     "output_type": "stream",
     "text": [
      "\n"
     ]
    },
    {
     "name": "stdout",
     "output_type": "stream",
     "text": [
      "Epoch 32 | Time 626s| Train Loss 0.0646 | Train Acc 97.88| Val Loss 0.469 | Val Acc 87.50| Trigger Loss 0.000 | Trigger Acc 100.00\n"
     ]
    },
    {
     "name": "stderr",
     "output_type": "stream",
     "text": [
      "100%|██████████████████████████████████████████████████████████████████████████████████████████████████████████████████████████████████████████████████████████████████████████████████████████████████████| 156/156 [00:16<00:00,  9.39it/s]"
     ]
    },
    {
     "name": "stdout",
     "output_type": "stream",
     "text": [
      "Adjusting learning rate of group 0 to 2.0000e-07.\n"
     ]
    },
    {
     "name": "stderr",
     "output_type": "stream",
     "text": [
      "\n"
     ]
    },
    {
     "name": "stdout",
     "output_type": "stream",
     "text": [
      "Epoch 33 | Time 645s| Train Loss 0.0637 | Train Acc 97.98| Val Loss 0.470 | Val Acc 87.53| Trigger Loss 0.000 | Trigger Acc 100.00\n"
     ]
    },
    {
     "name": "stderr",
     "output_type": "stream",
     "text": [
      "100%|██████████████████████████████████████████████████████████████████████████████████████████████████████████████████████████████████████████████████████████████████████████████████████████████████████| 156/156 [00:16<00:00,  9.40it/s]"
     ]
    },
    {
     "name": "stdout",
     "output_type": "stream",
     "text": [
      "Adjusting learning rate of group 0 to 2.0000e-07.\n"
     ]
    },
    {
     "name": "stderr",
     "output_type": "stream",
     "text": [
      "\n"
     ]
    },
    {
     "name": "stdout",
     "output_type": "stream",
     "text": [
      "Epoch 34 | Time 664s| Train Loss 0.0621 | Train Acc 98.02| Val Loss 0.470 | Val Acc 87.53| Trigger Loss 0.000 | Trigger Acc 100.00\n"
     ]
    },
    {
     "name": "stderr",
     "output_type": "stream",
     "text": [
      "100%|██████████████████████████████████████████████████████████████████████████████████████████████████████████████████████████████████████████████████████████████████████████████████████████████████████| 156/156 [00:16<00:00,  9.39it/s]"
     ]
    },
    {
     "name": "stdout",
     "output_type": "stream",
     "text": [
      "Adjusting learning rate of group 0 to 2.0000e-07.\n"
     ]
    },
    {
     "name": "stderr",
     "output_type": "stream",
     "text": [
      "\n"
     ]
    },
    {
     "name": "stdout",
     "output_type": "stream",
     "text": [
      "Epoch 35 | Time 683s| Train Loss 0.0629 | Train Acc 97.94| Val Loss 0.470 | Val Acc 87.38| Trigger Loss 0.000 | Trigger Acc 100.00\n"
     ]
    },
    {
     "name": "stderr",
     "output_type": "stream",
     "text": [
      "100%|██████████████████████████████████████████████████████████████████████████████████████████████████████████████████████████████████████████████████████████████████████████████████████████████████████| 156/156 [00:16<00:00,  9.39it/s]"
     ]
    },
    {
     "name": "stdout",
     "output_type": "stream",
     "text": [
      "Adjusting learning rate of group 0 to 2.0000e-07.\n"
     ]
    },
    {
     "name": "stderr",
     "output_type": "stream",
     "text": [
      "\n"
     ]
    },
    {
     "name": "stdout",
     "output_type": "stream",
     "text": [
      "Epoch 36 | Time 702s| Train Loss 0.0616 | Train Acc 98.09| Val Loss 0.468 | Val Acc 87.51| Trigger Loss 0.000 | Trigger Acc 100.00\n"
     ]
    },
    {
     "name": "stderr",
     "output_type": "stream",
     "text": [
      "100%|██████████████████████████████████████████████████████████████████████████████████████████████████████████████████████████████████████████████████████████████████████████████████████████████████████| 156/156 [00:16<00:00,  9.39it/s]"
     ]
    },
    {
     "name": "stdout",
     "output_type": "stream",
     "text": [
      "Adjusting learning rate of group 0 to 2.0000e-07.\n"
     ]
    },
    {
     "name": "stderr",
     "output_type": "stream",
     "text": [
      "\n"
     ]
    },
    {
     "name": "stdout",
     "output_type": "stream",
     "text": [
      "Epoch 37 | Time 721s| Train Loss 0.0623 | Train Acc 98.01| Val Loss 0.469 | Val Acc 87.50| Trigger Loss 0.000 | Trigger Acc 100.00\n"
     ]
    },
    {
     "name": "stderr",
     "output_type": "stream",
     "text": [
      "100%|██████████████████████████████████████████████████████████████████████████████████████████████████████████████████████████████████████████████████████████████████████████████████████████████████████| 156/156 [00:16<00:00,  9.38it/s]"
     ]
    },
    {
     "name": "stdout",
     "output_type": "stream",
     "text": [
      "Adjusting learning rate of group 0 to 2.0000e-07.\n"
     ]
    },
    {
     "name": "stderr",
     "output_type": "stream",
     "text": [
      "\n"
     ]
    },
    {
     "name": "stdout",
     "output_type": "stream",
     "text": [
      "Epoch 38 | Time 740s| Train Loss 0.0630 | Train Acc 97.94| Val Loss 0.470 | Val Acc 87.47| Trigger Loss 0.000 | Trigger Acc 100.00\n"
     ]
    },
    {
     "name": "stderr",
     "output_type": "stream",
     "text": [
      "100%|██████████████████████████████████████████████████████████████████████████████████████████████████████████████████████████████████████████████████████████████████████████████████████████████████████| 156/156 [00:16<00:00,  9.39it/s]"
     ]
    },
    {
     "name": "stdout",
     "output_type": "stream",
     "text": [
      "Adjusting learning rate of group 0 to 2.0000e-08.\n"
     ]
    },
    {
     "name": "stderr",
     "output_type": "stream",
     "text": [
      "\n"
     ]
    },
    {
     "name": "stdout",
     "output_type": "stream",
     "text": [
      "Epoch 39 | Time 759s| Train Loss 0.0628 | Train Acc 98.01| Val Loss 0.469 | Val Acc 87.50| Trigger Loss 0.000 | Trigger Acc 100.00\n"
     ]
    },
    {
     "name": "stderr",
     "output_type": "stream",
     "text": [
      "100%|██████████████████████████████████████████████████████████████████████████████████████████████████████████████████████████████████████████████████████████████████████████████████████████████████████| 156/156 [00:16<00:00,  9.38it/s]"
     ]
    },
    {
     "name": "stdout",
     "output_type": "stream",
     "text": [
      "Adjusting learning rate of group 0 to 2.0000e-08.\n"
     ]
    },
    {
     "name": "stderr",
     "output_type": "stream",
     "text": [
      "\n"
     ]
    },
    {
     "name": "stdout",
     "output_type": "stream",
     "text": [
      "Epoch 40 | Time 778s| Train Loss 0.0620 | Train Acc 98.03| Val Loss 0.470 | Val Acc 87.56| Trigger Loss 0.000 | Trigger Acc 100.00\n"
     ]
    },
    {
     "name": "stderr",
     "output_type": "stream",
     "text": [
      "100%|██████████████████████████████████████████████████████████████████████████████████████████████████████████████████████████████████████████████████████████████████████████████████████████████████████| 156/156 [00:16<00:00,  9.38it/s]"
     ]
    },
    {
     "name": "stdout",
     "output_type": "stream",
     "text": [
      "Adjusting learning rate of group 0 to 2.0000e-08.\n"
     ]
    },
    {
     "name": "stderr",
     "output_type": "stream",
     "text": [
      "\n"
     ]
    },
    {
     "name": "stdout",
     "output_type": "stream",
     "text": [
      "Epoch 41 | Time 797s| Train Loss 0.0617 | Train Acc 98.02| Val Loss 0.471 | Val Acc 87.46| Trigger Loss 0.000 | Trigger Acc 100.00\n"
     ]
    },
    {
     "name": "stderr",
     "output_type": "stream",
     "text": [
      "100%|██████████████████████████████████████████████████████████████████████████████████████████████████████████████████████████████████████████████████████████████████████████████████████████████████████| 156/156 [00:16<00:00,  9.39it/s]"
     ]
    },
    {
     "name": "stdout",
     "output_type": "stream",
     "text": [
      "Adjusting learning rate of group 0 to 2.0000e-08.\n"
     ]
    },
    {
     "name": "stderr",
     "output_type": "stream",
     "text": [
      "\n"
     ]
    },
    {
     "name": "stdout",
     "output_type": "stream",
     "text": [
      "Epoch 42 | Time 816s| Train Loss 0.0625 | Train Acc 98.01| Val Loss 0.469 | Val Acc 87.57| Trigger Loss 0.000 | Trigger Acc 100.00\n"
     ]
    },
    {
     "name": "stderr",
     "output_type": "stream",
     "text": [
      "100%|██████████████████████████████████████████████████████████████████████████████████████████████████████████████████████████████████████████████████████████████████████████████████████████████████████| 156/156 [00:16<00:00,  9.38it/s]"
     ]
    },
    {
     "name": "stdout",
     "output_type": "stream",
     "text": [
      "Adjusting learning rate of group 0 to 2.0000e-08.\n"
     ]
    },
    {
     "name": "stderr",
     "output_type": "stream",
     "text": [
      "\n"
     ]
    },
    {
     "name": "stdout",
     "output_type": "stream",
     "text": [
      "Epoch 43 | Time 835s| Train Loss 0.0631 | Train Acc 97.97| Val Loss 0.468 | Val Acc 87.60| Trigger Loss 0.000 | Trigger Acc 100.00\n"
     ]
    },
    {
     "name": "stderr",
     "output_type": "stream",
     "text": [
      "100%|██████████████████████████████████████████████████████████████████████████████████████████████████████████████████████████████████████████████████████████████████████████████████████████████████████| 156/156 [00:16<00:00,  9.39it/s]"
     ]
    },
    {
     "name": "stdout",
     "output_type": "stream",
     "text": [
      "Adjusting learning rate of group 0 to 2.0000e-08.\n"
     ]
    },
    {
     "name": "stderr",
     "output_type": "stream",
     "text": [
      "\n"
     ]
    },
    {
     "name": "stdout",
     "output_type": "stream",
     "text": [
      "Epoch 44 | Time 854s| Train Loss 0.0618 | Train Acc 98.03| Val Loss 0.470 | Val Acc 87.58| Trigger Loss 0.000 | Trigger Acc 100.00\n"
     ]
    },
    {
     "name": "stderr",
     "output_type": "stream",
     "text": [
      "100%|██████████████████████████████████████████████████████████████████████████████████████████████████████████████████████████████████████████████████████████████████████████████████████████████████████| 156/156 [00:16<00:00,  9.39it/s]"
     ]
    },
    {
     "name": "stdout",
     "output_type": "stream",
     "text": [
      "Adjusting learning rate of group 0 to 2.0000e-08.\n"
     ]
    },
    {
     "name": "stderr",
     "output_type": "stream",
     "text": [
      "\n"
     ]
    },
    {
     "name": "stdout",
     "output_type": "stream",
     "text": [
      "Epoch 45 | Time 873s| Train Loss 0.0646 | Train Acc 97.90| Val Loss 0.470 | Val Acc 87.47| Trigger Loss 0.000 | Trigger Acc 100.00\n"
     ]
    },
    {
     "name": "stderr",
     "output_type": "stream",
     "text": [
      "100%|██████████████████████████████████████████████████████████████████████████████████████████████████████████████████████████████████████████████████████████████████████████████████████████████████████| 156/156 [00:16<00:00,  9.39it/s]"
     ]
    },
    {
     "name": "stdout",
     "output_type": "stream",
     "text": [
      "Adjusting learning rate of group 0 to 2.0000e-08.\n"
     ]
    },
    {
     "name": "stderr",
     "output_type": "stream",
     "text": [
      "\n"
     ]
    },
    {
     "name": "stdout",
     "output_type": "stream",
     "text": [
      "Epoch 46 | Time 892s| Train Loss 0.0624 | Train Acc 97.99| Val Loss 0.470 | Val Acc 87.56| Trigger Loss 0.000 | Trigger Acc 100.00\n"
     ]
    },
    {
     "name": "stderr",
     "output_type": "stream",
     "text": [
      "100%|██████████████████████████████████████████████████████████████████████████████████████████████████████████████████████████████████████████████████████████████████████████████████████████████████████| 156/156 [00:16<00:00,  9.38it/s]"
     ]
    },
    {
     "name": "stdout",
     "output_type": "stream",
     "text": [
      "Adjusting learning rate of group 0 to 2.0000e-08.\n"
     ]
    },
    {
     "name": "stderr",
     "output_type": "stream",
     "text": [
      "\n"
     ]
    },
    {
     "name": "stdout",
     "output_type": "stream",
     "text": [
      "Epoch 47 | Time 911s| Train Loss 0.0651 | Train Acc 97.88| Val Loss 0.470 | Val Acc 87.54| Trigger Loss 0.000 | Trigger Acc 100.00\n"
     ]
    },
    {
     "name": "stderr",
     "output_type": "stream",
     "text": [
      "100%|██████████████████████████████████████████████████████████████████████████████████████████████████████████████████████████████████████████████████████████████████████████████████████████████████████| 156/156 [00:16<00:00,  9.39it/s]"
     ]
    },
    {
     "name": "stdout",
     "output_type": "stream",
     "text": [
      "Adjusting learning rate of group 0 to 2.0000e-08.\n"
     ]
    },
    {
     "name": "stderr",
     "output_type": "stream",
     "text": [
      "\n"
     ]
    },
    {
     "name": "stdout",
     "output_type": "stream",
     "text": [
      "Epoch 48 | Time 930s| Train Loss 0.0613 | Train Acc 97.98| Val Loss 0.471 | Val Acc 87.56| Trigger Loss 0.000 | Trigger Acc 100.00\n"
     ]
    },
    {
     "name": "stderr",
     "output_type": "stream",
     "text": [
      "100%|██████████████████████████████████████████████████████████████████████████████████████████████████████████████████████████████████████████████████████████████████████████████████████████████████████| 156/156 [00:16<00:00,  9.39it/s]"
     ]
    },
    {
     "name": "stdout",
     "output_type": "stream",
     "text": [
      "Adjusting learning rate of group 0 to 2.0000e-09.\n"
     ]
    },
    {
     "name": "stderr",
     "output_type": "stream",
     "text": [
      "\n"
     ]
    },
    {
     "name": "stdout",
     "output_type": "stream",
     "text": [
      "Epoch 49 | Time 949s| Train Loss 0.0641 | Train Acc 97.97| Val Loss 0.472 | Val Acc 87.53| Trigger Loss 0.000 | Trigger Acc 100.00\n"
     ]
    },
    {
     "name": "stderr",
     "output_type": "stream",
     "text": [
      "100%|██████████████████████████████████████████████████████████████████████████████████████████████████████████████████████████████████████████████████████████████████████████████████████████████████████| 156/156 [00:16<00:00,  9.39it/s]"
     ]
    },
    {
     "name": "stdout",
     "output_type": "stream",
     "text": [
      "Adjusting learning rate of group 0 to 2.0000e-09.\n"
     ]
    },
    {
     "name": "stderr",
     "output_type": "stream",
     "text": [
      "\n"
     ]
    },
    {
     "name": "stdout",
     "output_type": "stream",
     "text": [
      "Epoch 50 | Time 968s| Train Loss 0.0625 | Train Acc 98.04| Val Loss 0.469 | Val Acc 87.55| Trigger Loss 0.000 | Trigger Acc 100.00\n"
     ]
    },
    {
     "name": "stderr",
     "output_type": "stream",
     "text": [
      "100%|██████████████████████████████████████████████████████████████████████████████████████████████████████████████████████████████████████████████████████████████████████████████████████████████████████| 156/156 [00:16<00:00,  9.38it/s]"
     ]
    },
    {
     "name": "stdout",
     "output_type": "stream",
     "text": [
      "Adjusting learning rate of group 0 to 2.0000e-09.\n"
     ]
    },
    {
     "name": "stderr",
     "output_type": "stream",
     "text": [
      "\n"
     ]
    },
    {
     "name": "stdout",
     "output_type": "stream",
     "text": [
      "Epoch 51 | Time 987s| Train Loss 0.0625 | Train Acc 98.00| Val Loss 0.471 | Val Acc 87.52| Trigger Loss 0.000 | Trigger Acc 100.00\n"
     ]
    },
    {
     "name": "stderr",
     "output_type": "stream",
     "text": [
      "100%|██████████████████████████████████████████████████████████████████████████████████████████████████████████████████████████████████████████████████████████████████████████████████████████████████████| 156/156 [00:16<00:00,  9.39it/s]"
     ]
    },
    {
     "name": "stdout",
     "output_type": "stream",
     "text": [
      "Adjusting learning rate of group 0 to 2.0000e-09.\n"
     ]
    },
    {
     "name": "stderr",
     "output_type": "stream",
     "text": [
      "\n"
     ]
    },
    {
     "name": "stdout",
     "output_type": "stream",
     "text": [
      "Epoch 52 | Time 1006s| Train Loss 0.0625 | Train Acc 98.03| Val Loss 0.469 | Val Acc 87.58| Trigger Loss 0.000 | Trigger Acc 100.00\n"
     ]
    },
    {
     "name": "stderr",
     "output_type": "stream",
     "text": [
      "100%|██████████████████████████████████████████████████████████████████████████████████████████████████████████████████████████████████████████████████████████████████████████████████████████████████████| 156/156 [00:16<00:00,  9.39it/s]"
     ]
    },
    {
     "name": "stdout",
     "output_type": "stream",
     "text": [
      "Adjusting learning rate of group 0 to 2.0000e-09.\n"
     ]
    },
    {
     "name": "stderr",
     "output_type": "stream",
     "text": [
      "\n"
     ]
    },
    {
     "name": "stdout",
     "output_type": "stream",
     "text": [
      "Epoch 53 | Time 1025s| Train Loss 0.0635 | Train Acc 97.95| Val Loss 0.469 | Val Acc 87.45| Trigger Loss 0.000 | Trigger Acc 100.00\n"
     ]
    },
    {
     "name": "stderr",
     "output_type": "stream",
     "text": [
      "100%|██████████████████████████████████████████████████████████████████████████████████████████████████████████████████████████████████████████████████████████████████████████████████████████████████████| 156/156 [00:16<00:00,  9.38it/s]"
     ]
    },
    {
     "name": "stdout",
     "output_type": "stream",
     "text": [
      "Adjusting learning rate of group 0 to 2.0000e-09.\n"
     ]
    },
    {
     "name": "stderr",
     "output_type": "stream",
     "text": [
      "\n"
     ]
    },
    {
     "name": "stdout",
     "output_type": "stream",
     "text": [
      "Epoch 54 | Time 1044s| Train Loss 0.0625 | Train Acc 98.06| Val Loss 0.471 | Val Acc 87.55| Trigger Loss 0.000 | Trigger Acc 100.00\n"
     ]
    },
    {
     "name": "stderr",
     "output_type": "stream",
     "text": [
      "100%|██████████████████████████████████████████████████████████████████████████████████████████████████████████████████████████████████████████████████████████████████████████████████████████████████████| 156/156 [00:16<00:00,  9.39it/s]"
     ]
    },
    {
     "name": "stdout",
     "output_type": "stream",
     "text": [
      "Adjusting learning rate of group 0 to 2.0000e-09.\n"
     ]
    },
    {
     "name": "stderr",
     "output_type": "stream",
     "text": [
      "\n"
     ]
    },
    {
     "name": "stdout",
     "output_type": "stream",
     "text": [
      "Epoch 55 | Time 1063s| Train Loss 0.0616 | Train Acc 98.08| Val Loss 0.472 | Val Acc 87.54| Trigger Loss 0.000 | Trigger Acc 100.00\n"
     ]
    },
    {
     "name": "stderr",
     "output_type": "stream",
     "text": [
      "100%|██████████████████████████████████████████████████████████████████████████████████████████████████████████████████████████████████████████████████████████████████████████████████████████████████████| 156/156 [00:16<00:00,  9.38it/s]"
     ]
    },
    {
     "name": "stdout",
     "output_type": "stream",
     "text": [
      "Adjusting learning rate of group 0 to 2.0000e-09.\n"
     ]
    },
    {
     "name": "stderr",
     "output_type": "stream",
     "text": [
      "\n"
     ]
    },
    {
     "name": "stdout",
     "output_type": "stream",
     "text": [
      "Epoch 56 | Time 1082s| Train Loss 0.0628 | Train Acc 97.97| Val Loss 0.468 | Val Acc 87.53| Trigger Loss 0.000 | Trigger Acc 100.00\n"
     ]
    },
    {
     "name": "stderr",
     "output_type": "stream",
     "text": [
      "100%|██████████████████████████████████████████████████████████████████████████████████████████████████████████████████████████████████████████████████████████████████████████████████████████████████████| 156/156 [00:16<00:00,  9.37it/s]"
     ]
    },
    {
     "name": "stdout",
     "output_type": "stream",
     "text": [
      "Adjusting learning rate of group 0 to 2.0000e-09.\n"
     ]
    },
    {
     "name": "stderr",
     "output_type": "stream",
     "text": [
      "\n"
     ]
    },
    {
     "name": "stdout",
     "output_type": "stream",
     "text": [
      "Epoch 57 | Time 1101s| Train Loss 0.0630 | Train Acc 97.99| Val Loss 0.470 | Val Acc 87.53| Trigger Loss 0.000 | Trigger Acc 100.00\n"
     ]
    },
    {
     "name": "stderr",
     "output_type": "stream",
     "text": [
      "100%|██████████████████████████████████████████████████████████████████████████████████████████████████████████████████████████████████████████████████████████████████████████████████████████████████████| 156/156 [00:16<00:00,  9.40it/s]"
     ]
    },
    {
     "name": "stdout",
     "output_type": "stream",
     "text": [
      "Adjusting learning rate of group 0 to 2.0000e-09.\n"
     ]
    },
    {
     "name": "stderr",
     "output_type": "stream",
     "text": [
      "\n"
     ]
    },
    {
     "name": "stdout",
     "output_type": "stream",
     "text": [
      "Epoch 58 | Time 1119s| Train Loss 0.0615 | Train Acc 97.99| Val Loss 0.470 | Val Acc 87.51| Trigger Loss 0.000 | Trigger Acc 100.00\n"
     ]
    },
    {
     "name": "stderr",
     "output_type": "stream",
     "text": [
      "100%|██████████████████████████████████████████████████████████████████████████████████████████████████████████████████████████████████████████████████████████████████████████████████████████████████████| 156/156 [00:16<00:00,  9.39it/s]"
     ]
    },
    {
     "name": "stdout",
     "output_type": "stream",
     "text": [
      "Adjusting learning rate of group 0 to 2.0000e-10.\n"
     ]
    },
    {
     "name": "stderr",
     "output_type": "stream",
     "text": [
      "\n"
     ]
    },
    {
     "name": "stdout",
     "output_type": "stream",
     "text": [
      "Epoch 59 | Time 1138s| Train Loss 0.0623 | Train Acc 98.05| Val Loss 0.471 | Val Acc 87.52| Trigger Loss 0.000 | Trigger Acc 100.00\n"
     ]
    },
    {
     "name": "stderr",
     "output_type": "stream",
     "text": [
      "100%|██████████████████████████████████████████████████████████████████████████████████████████████████████████████████████████████████████████████████████████████████████████████████████████████████████| 156/156 [00:16<00:00,  9.39it/s]"
     ]
    },
    {
     "name": "stdout",
     "output_type": "stream",
     "text": [
      "Adjusting learning rate of group 0 to 2.0000e-10.\n"
     ]
    },
    {
     "name": "stderr",
     "output_type": "stream",
     "text": [
      "\n"
     ]
    },
    {
     "name": "stdout",
     "output_type": "stream",
     "text": [
      "Epoch 60 | Time 1157s| Train Loss 0.0633 | Train Acc 97.94| Val Loss 0.467 | Val Acc 87.55| Trigger Loss 0.000 | Trigger Acc 100.00\n"
     ]
    },
    {
     "name": "stderr",
     "output_type": "stream",
     "text": [
      "100%|██████████████████████████████████████████████████████████████████████████████████████████████████████████████████████████████████████████████████████████████████████████████████████████████████████| 156/156 [00:16<00:00,  9.38it/s]"
     ]
    },
    {
     "name": "stdout",
     "output_type": "stream",
     "text": [
      "Adjusting learning rate of group 0 to 2.0000e-10.\n"
     ]
    },
    {
     "name": "stderr",
     "output_type": "stream",
     "text": [
      "\n"
     ]
    },
    {
     "name": "stdout",
     "output_type": "stream",
     "text": [
      "Epoch 61 | Time 1176s| Train Loss 0.0628 | Train Acc 98.03| Val Loss 0.470 | Val Acc 87.46| Trigger Loss 0.000 | Trigger Acc 100.00\n"
     ]
    },
    {
     "name": "stderr",
     "output_type": "stream",
     "text": [
      "100%|██████████████████████████████████████████████████████████████████████████████████████████████████████████████████████████████████████████████████████████████████████████████████████████████████████| 156/156 [00:16<00:00,  9.37it/s]"
     ]
    },
    {
     "name": "stdout",
     "output_type": "stream",
     "text": [
      "Adjusting learning rate of group 0 to 2.0000e-10.\n"
     ]
    },
    {
     "name": "stderr",
     "output_type": "stream",
     "text": [
      "\n"
     ]
    },
    {
     "name": "stdout",
     "output_type": "stream",
     "text": [
      "Epoch 62 | Time 1195s| Train Loss 0.0639 | Train Acc 97.93| Val Loss 0.469 | Val Acc 87.53| Trigger Loss 0.000 | Trigger Acc 100.00\n"
     ]
    },
    {
     "name": "stderr",
     "output_type": "stream",
     "text": [
      "100%|██████████████████████████████████████████████████████████████████████████████████████████████████████████████████████████████████████████████████████████████████████████████████████████████████████| 156/156 [00:16<00:00,  9.37it/s]"
     ]
    },
    {
     "name": "stdout",
     "output_type": "stream",
     "text": [
      "Adjusting learning rate of group 0 to 2.0000e-10.\n"
     ]
    },
    {
     "name": "stderr",
     "output_type": "stream",
     "text": [
      "\n"
     ]
    },
    {
     "name": "stdout",
     "output_type": "stream",
     "text": [
      "Epoch 63 | Time 1214s| Train Loss 0.0614 | Train Acc 98.07| Val Loss 0.470 | Val Acc 87.53| Trigger Loss 0.000 | Trigger Acc 100.00\n"
     ]
    },
    {
     "name": "stderr",
     "output_type": "stream",
     "text": [
      "100%|██████████████████████████████████████████████████████████████████████████████████████████████████████████████████████████████████████████████████████████████████████████████████████████████████████| 156/156 [00:16<00:00,  9.38it/s]"
     ]
    },
    {
     "name": "stdout",
     "output_type": "stream",
     "text": [
      "Adjusting learning rate of group 0 to 2.0000e-10.\n"
     ]
    },
    {
     "name": "stderr",
     "output_type": "stream",
     "text": [
      "\n"
     ]
    },
    {
     "name": "stdout",
     "output_type": "stream",
     "text": [
      "Epoch 64 | Time 1234s| Train Loss 0.0626 | Train Acc 98.00| Val Loss 0.469 | Val Acc 87.56| Trigger Loss 0.000 | Trigger Acc 100.00\n"
     ]
    },
    {
     "name": "stderr",
     "output_type": "stream",
     "text": [
      "100%|██████████████████████████████████████████████████████████████████████████████████████████████████████████████████████████████████████████████████████████████████████████████████████████████████████| 156/156 [00:16<00:00,  9.37it/s]"
     ]
    },
    {
     "name": "stdout",
     "output_type": "stream",
     "text": [
      "Adjusting learning rate of group 0 to 2.0000e-10.\n"
     ]
    },
    {
     "name": "stderr",
     "output_type": "stream",
     "text": [
      "\n"
     ]
    },
    {
     "name": "stdout",
     "output_type": "stream",
     "text": [
      "Epoch 65 | Time 1253s| Train Loss 0.0636 | Train Acc 98.00| Val Loss 0.471 | Val Acc 87.53| Trigger Loss 0.000 | Trigger Acc 100.00\n"
     ]
    },
    {
     "name": "stderr",
     "output_type": "stream",
     "text": [
      "100%|██████████████████████████████████████████████████████████████████████████████████████████████████████████████████████████████████████████████████████████████████████████████████████████████████████| 156/156 [00:16<00:00,  9.38it/s]"
     ]
    },
    {
     "name": "stdout",
     "output_type": "stream",
     "text": [
      "Adjusting learning rate of group 0 to 2.0000e-10.\n"
     ]
    },
    {
     "name": "stderr",
     "output_type": "stream",
     "text": [
      "\n"
     ]
    },
    {
     "name": "stdout",
     "output_type": "stream",
     "text": [
      "Epoch 66 | Time 1272s| Train Loss 0.0635 | Train Acc 97.97| Val Loss 0.469 | Val Acc 87.46| Trigger Loss 0.000 | Trigger Acc 100.00\n"
     ]
    },
    {
     "name": "stderr",
     "output_type": "stream",
     "text": [
      "100%|██████████████████████████████████████████████████████████████████████████████████████████████████████████████████████████████████████████████████████████████████████████████████████████████████████| 156/156 [00:16<00:00,  9.37it/s]"
     ]
    },
    {
     "name": "stdout",
     "output_type": "stream",
     "text": [
      "Adjusting learning rate of group 0 to 2.0000e-10.\n"
     ]
    },
    {
     "name": "stderr",
     "output_type": "stream",
     "text": [
      "\n"
     ]
    },
    {
     "name": "stdout",
     "output_type": "stream",
     "text": [
      "Epoch 67 | Time 1291s| Train Loss 0.0626 | Train Acc 97.95| Val Loss 0.472 | Val Acc 87.50| Trigger Loss 0.000 | Trigger Acc 100.00\n"
     ]
    },
    {
     "name": "stderr",
     "output_type": "stream",
     "text": [
      "100%|██████████████████████████████████████████████████████████████████████████████████████████████████████████████████████████████████████████████████████████████████████████████████████████████████████| 156/156 [00:16<00:00,  9.38it/s]"
     ]
    },
    {
     "name": "stdout",
     "output_type": "stream",
     "text": [
      "Adjusting learning rate of group 0 to 2.0000e-10.\n"
     ]
    },
    {
     "name": "stderr",
     "output_type": "stream",
     "text": [
      "\n"
     ]
    },
    {
     "name": "stdout",
     "output_type": "stream",
     "text": [
      "Epoch 68 | Time 1310s| Train Loss 0.0637 | Train Acc 98.02| Val Loss 0.467 | Val Acc 87.56| Trigger Loss 0.000 | Trigger Acc 100.00\n"
     ]
    },
    {
     "name": "stderr",
     "output_type": "stream",
     "text": [
      "100%|██████████████████████████████████████████████████████████████████████████████████████████████████████████████████████████████████████████████████████████████████████████████████████████████████████| 156/156 [00:16<00:00,  9.38it/s]"
     ]
    },
    {
     "name": "stdout",
     "output_type": "stream",
     "text": [
      "Adjusting learning rate of group 0 to 2.0000e-11.\n"
     ]
    },
    {
     "name": "stderr",
     "output_type": "stream",
     "text": [
      "\n"
     ]
    },
    {
     "name": "stdout",
     "output_type": "stream",
     "text": [
      "Epoch 69 | Time 1329s| Train Loss 0.0635 | Train Acc 97.92| Val Loss 0.470 | Val Acc 87.46| Trigger Loss 0.000 | Trigger Acc 100.00\n"
     ]
    },
    {
     "name": "stderr",
     "output_type": "stream",
     "text": [
      "100%|██████████████████████████████████████████████████████████████████████████████████████████████████████████████████████████████████████████████████████████████████████████████████████████████████████| 156/156 [00:16<00:00,  9.39it/s]"
     ]
    },
    {
     "name": "stdout",
     "output_type": "stream",
     "text": [
      "Adjusting learning rate of group 0 to 2.0000e-11.\n"
     ]
    },
    {
     "name": "stderr",
     "output_type": "stream",
     "text": [
      "\n"
     ]
    },
    {
     "name": "stdout",
     "output_type": "stream",
     "text": [
      "Epoch 70 | Time 1347s| Train Loss 0.0630 | Train Acc 98.01| Val Loss 0.471 | Val Acc 87.49| Trigger Loss 0.000 | Trigger Acc 100.00\n"
     ]
    },
    {
     "name": "stderr",
     "output_type": "stream",
     "text": [
      "100%|██████████████████████████████████████████████████████████████████████████████████████████████████████████████████████████████████████████████████████████████████████████████████████████████████████| 156/156 [00:16<00:00,  9.38it/s]"
     ]
    },
    {
     "name": "stdout",
     "output_type": "stream",
     "text": [
      "Adjusting learning rate of group 0 to 2.0000e-11.\n"
     ]
    },
    {
     "name": "stderr",
     "output_type": "stream",
     "text": [
      "\n"
     ]
    },
    {
     "name": "stdout",
     "output_type": "stream",
     "text": [
      "Epoch 71 | Time 1366s| Train Loss 0.0607 | Train Acc 98.02| Val Loss 0.470 | Val Acc 87.45| Trigger Loss 0.000 | Trigger Acc 100.00\n"
     ]
    },
    {
     "name": "stderr",
     "output_type": "stream",
     "text": [
      "100%|██████████████████████████████████████████████████████████████████████████████████████████████████████████████████████████████████████████████████████████████████████████████████████████████████████| 156/156 [00:16<00:00,  9.38it/s]"
     ]
    },
    {
     "name": "stdout",
     "output_type": "stream",
     "text": [
      "Adjusting learning rate of group 0 to 2.0000e-11.\n"
     ]
    },
    {
     "name": "stderr",
     "output_type": "stream",
     "text": [
      "\n"
     ]
    },
    {
     "name": "stdout",
     "output_type": "stream",
     "text": [
      "Epoch 72 | Time 1385s| Train Loss 0.0632 | Train Acc 97.91| Val Loss 0.472 | Val Acc 87.39| Trigger Loss 0.000 | Trigger Acc 100.00\n"
     ]
    },
    {
     "name": "stderr",
     "output_type": "stream",
     "text": [
      "100%|██████████████████████████████████████████████████████████████████████████████████████████████████████████████████████████████████████████████████████████████████████████████████████████████████████| 156/156 [00:16<00:00,  9.38it/s]"
     ]
    },
    {
     "name": "stdout",
     "output_type": "stream",
     "text": [
      "Adjusting learning rate of group 0 to 2.0000e-11.\n"
     ]
    },
    {
     "name": "stderr",
     "output_type": "stream",
     "text": [
      "\n"
     ]
    },
    {
     "name": "stdout",
     "output_type": "stream",
     "text": [
      "Epoch 73 | Time 1404s| Train Loss 0.0630 | Train Acc 97.99| Val Loss 0.469 | Val Acc 87.53| Trigger Loss 0.000 | Trigger Acc 100.00\n"
     ]
    },
    {
     "name": "stderr",
     "output_type": "stream",
     "text": [
      "100%|██████████████████████████████████████████████████████████████████████████████████████████████████████████████████████████████████████████████████████████████████████████████████████████████████████| 156/156 [00:16<00:00,  9.38it/s]"
     ]
    },
    {
     "name": "stdout",
     "output_type": "stream",
     "text": [
      "Adjusting learning rate of group 0 to 2.0000e-11.\n"
     ]
    },
    {
     "name": "stderr",
     "output_type": "stream",
     "text": [
      "\n"
     ]
    },
    {
     "name": "stdout",
     "output_type": "stream",
     "text": [
      "Epoch 74 | Time 1423s| Train Loss 0.0628 | Train Acc 97.99| Val Loss 0.469 | Val Acc 87.59| Trigger Loss 0.000 | Trigger Acc 100.00\n"
     ]
    },
    {
     "name": "stderr",
     "output_type": "stream",
     "text": [
      "100%|██████████████████████████████████████████████████████████████████████████████████████████████████████████████████████████████████████████████████████████████████████████████████████████████████████| 156/156 [00:16<00:00,  9.39it/s]"
     ]
    },
    {
     "name": "stdout",
     "output_type": "stream",
     "text": [
      "Adjusting learning rate of group 0 to 2.0000e-11.\n"
     ]
    },
    {
     "name": "stderr",
     "output_type": "stream",
     "text": [
      "\n"
     ]
    },
    {
     "name": "stdout",
     "output_type": "stream",
     "text": [
      "Epoch 75 | Time 1442s| Train Loss 0.0617 | Train Acc 97.95| Val Loss 0.470 | Val Acc 87.52| Trigger Loss 0.000 | Trigger Acc 100.00\n"
     ]
    },
    {
     "name": "stderr",
     "output_type": "stream",
     "text": [
      "100%|██████████████████████████████████████████████████████████████████████████████████████████████████████████████████████████████████████████████████████████████████████████████████████████████████████| 156/156 [00:16<00:00,  9.38it/s]"
     ]
    },
    {
     "name": "stdout",
     "output_type": "stream",
     "text": [
      "Adjusting learning rate of group 0 to 2.0000e-11.\n"
     ]
    },
    {
     "name": "stderr",
     "output_type": "stream",
     "text": [
      "\n"
     ]
    },
    {
     "name": "stdout",
     "output_type": "stream",
     "text": [
      "Epoch 76 | Time 1461s| Train Loss 0.0605 | Train Acc 98.09| Val Loss 0.467 | Val Acc 87.48| Trigger Loss 0.000 | Trigger Acc 100.00\n"
     ]
    },
    {
     "name": "stderr",
     "output_type": "stream",
     "text": [
      "100%|██████████████████████████████████████████████████████████████████████████████████████████████████████████████████████████████████████████████████████████████████████████████████████████████████████| 156/156 [00:16<00:00,  9.38it/s]"
     ]
    },
    {
     "name": "stdout",
     "output_type": "stream",
     "text": [
      "Adjusting learning rate of group 0 to 2.0000e-11.\n"
     ]
    },
    {
     "name": "stderr",
     "output_type": "stream",
     "text": [
      "\n"
     ]
    },
    {
     "name": "stdout",
     "output_type": "stream",
     "text": [
      "Epoch 77 | Time 1480s| Train Loss 0.0632 | Train Acc 98.03| Val Loss 0.471 | Val Acc 87.50| Trigger Loss 0.000 | Trigger Acc 100.00\n"
     ]
    },
    {
     "name": "stderr",
     "output_type": "stream",
     "text": [
      "100%|██████████████████████████████████████████████████████████████████████████████████████████████████████████████████████████████████████████████████████████████████████████████████████████████████████| 156/156 [00:16<00:00,  9.39it/s]"
     ]
    },
    {
     "name": "stdout",
     "output_type": "stream",
     "text": [
      "Adjusting learning rate of group 0 to 2.0000e-11.\n"
     ]
    },
    {
     "name": "stderr",
     "output_type": "stream",
     "text": [
      "\n"
     ]
    },
    {
     "name": "stdout",
     "output_type": "stream",
     "text": [
      "Epoch 78 | Time 1499s| Train Loss 0.0621 | Train Acc 98.01| Val Loss 0.470 | Val Acc 87.54| Trigger Loss 0.000 | Trigger Acc 100.00\n"
     ]
    },
    {
     "name": "stderr",
     "output_type": "stream",
     "text": [
      "100%|██████████████████████████████████████████████████████████████████████████████████████████████████████████████████████████████████████████████████████████████████████████████████████████████████████| 156/156 [00:16<00:00,  9.39it/s]"
     ]
    },
    {
     "name": "stdout",
     "output_type": "stream",
     "text": [
      "Adjusting learning rate of group 0 to 2.0000e-12.\n"
     ]
    },
    {
     "name": "stderr",
     "output_type": "stream",
     "text": [
      "\n"
     ]
    },
    {
     "name": "stdout",
     "output_type": "stream",
     "text": [
      "Epoch 79 | Time 1518s| Train Loss 0.0624 | Train Acc 97.97| Val Loss 0.471 | Val Acc 87.53| Trigger Loss 0.000 | Trigger Acc 100.00\n"
     ]
    },
    {
     "data": {
      "text/plain": [
       "{'train_acc': [86.70578373847442,\n",
       "  90.0628667225482,\n",
       "  90.81936295054484,\n",
       "  91.43336127409891,\n",
       "  91.6135792120704,\n",
       "  92.11441743503772,\n",
       "  92.69907795473597,\n",
       "  92.8918692372171,\n",
       "  92.97988264878457,\n",
       "  93.512154233026,\n",
       "  95.57418273260687,\n",
       "  96.31810561609389,\n",
       "  96.68273260687343,\n",
       "  96.7393126571668,\n",
       "  96.95725062866723,\n",
       "  97.116512992456,\n",
       "  97.13327745180219,\n",
       "  97.30511316010059,\n",
       "  97.36588432523051,\n",
       "  97.38893545683152,\n",
       "  97.72841575859178,\n",
       "  97.84995808885164,\n",
       "  97.74727577535624,\n",
       "  97.88767812238055,\n",
       "  97.83948030176028,\n",
       "  97.88977367979884,\n",
       "  97.82062028499581,\n",
       "  97.92749371332773,\n",
       "  97.87929589270746,\n",
       "  97.99245599329421,\n",
       "  97.98197820620285,\n",
       "  98.03017602682314,\n",
       "  97.88139145012573,\n",
       "  97.97988264878458,\n",
       "  98.0176026823135,\n",
       "  97.93587594300084,\n",
       "  98.08885163453479,\n",
       "  98.00502933780385,\n",
       "  97.94216261525565,\n",
       "  98.0092204526404,\n",
       "  98.0322715842414,\n",
       "  98.02179379715004,\n",
       "  98.0092204526404,\n",
       "  97.97359597652977,\n",
       "  98.02808046940487,\n",
       "  97.9002514668902,\n",
       "  97.98826487845767,\n",
       "  97.87929589270746,\n",
       "  97.98407376362113,\n",
       "  97.96730930427493,\n",
       "  98.0406538139145,\n",
       "  97.99874266554903,\n",
       "  98.02598491198658,\n",
       "  97.95473595976529,\n",
       "  98.05951383067895,\n",
       "  98.08256496227996,\n",
       "  97.97150041911148,\n",
       "  97.9861693210394,\n",
       "  97.99245599329421,\n",
       "  98.04903604358759,\n",
       "  97.94425817267393,\n",
       "  98.0322715842414,\n",
       "  97.92958927074602,\n",
       "  98.0720871751886,\n",
       "  97.99874266554903,\n",
       "  97.99664710813076,\n",
       "  97.97150041911148,\n",
       "  97.94635373009221,\n",
       "  98.01550712489522,\n",
       "  97.9233025984912,\n",
       "  98.00502933780385,\n",
       "  98.01969823973177,\n",
       "  97.9149203688181,\n",
       "  97.9945515507125,\n",
       "  97.98826487845767,\n",
       "  97.95054484492876,\n",
       "  98.0867560771165,\n",
       "  98.03436714165969,\n",
       "  98.00502933780385,\n",
       "  97.97150041911148],\n",
       " 'train_loss': [0.419681987273823,\n",
       "  0.289977898469315,\n",
       "  0.26912560876387065,\n",
       "  0.24808588468618784,\n",
       "  0.23847226150777295,\n",
       "  0.2266380156363046,\n",
       "  0.21175999860626654,\n",
       "  0.200498776772346,\n",
       "  0.19801354165324023,\n",
       "  0.18345599912125726,\n",
       "  0.12981185279255741,\n",
       "  0.10989698541521627,\n",
       "  0.10081402415789083,\n",
       "  0.09779286591737388,\n",
       "  0.09200196823843716,\n",
       "  0.08778312580202521,\n",
       "  0.08527982872750763,\n",
       "  0.08061871136299023,\n",
       "  0.08043068934915851,\n",
       "  0.07638868398133787,\n",
       "  0.06960335220089253,\n",
       "  0.0681488269641808,\n",
       "  0.0674213847084547,\n",
       "  0.06615281147118861,\n",
       "  0.06720433267768651,\n",
       "  0.06579052833473342,\n",
       "  0.06634633627244757,\n",
       "  0.0647213379615935,\n",
       "  0.06588640197399576,\n",
       "  0.06437416243330206,\n",
       "  0.0639397155869774,\n",
       "  0.06293749460655405,\n",
       "  0.064647319479178,\n",
       "  0.06369190686456516,\n",
       "  0.062064810955470735,\n",
       "  0.06286222146510179,\n",
       "  0.061640320297670984,\n",
       "  0.062320809182457235,\n",
       "  0.06299941377793904,\n",
       "  0.06275394296887185,\n",
       "  0.061978120894201745,\n",
       "  0.06172123255406421,\n",
       "  0.0625469179400879,\n",
       "  0.06311195731016261,\n",
       "  0.06178168487678105,\n",
       "  0.06463574771484405,\n",
       "  0.06243869655149655,\n",
       "  0.06509591873769538,\n",
       "  0.06131997933472317,\n",
       "  0.06408025126557639,\n",
       "  0.06254316810877605,\n",
       "  0.06252163559407595,\n",
       "  0.06250602455695736,\n",
       "  0.06350680038033167,\n",
       "  0.06254087214148155,\n",
       "  0.061604358503487264,\n",
       "  0.06282398747459791,\n",
       "  0.06295134572051497,\n",
       "  0.06150959933399904,\n",
       "  0.06231552723167528,\n",
       "  0.06328125178801444,\n",
       "  0.06283113309631104,\n",
       "  0.06385276684223706,\n",
       "  0.06139947145674549,\n",
       "  0.06256717722535084,\n",
       "  0.0635630645035873,\n",
       "  0.06346866115584207,\n",
       "  0.06262098281345294,\n",
       "  0.06367215752376795,\n",
       "  0.0635062797917779,\n",
       "  0.06295734700845977,\n",
       "  0.06070200716959561,\n",
       "  0.06323940172785236,\n",
       "  0.06296219552390134,\n",
       "  0.06284349917028996,\n",
       "  0.061722165261834785,\n",
       "  0.0605082250372737,\n",
       "  0.06323020789219568,\n",
       "  0.06213550393712416,\n",
       "  0.062434361347646045],\n",
       " 'val_acc': [81.75,\n",
       "  82.45,\n",
       "  83.84,\n",
       "  83.49,\n",
       "  84.0,\n",
       "  83.67999999999999,\n",
       "  84.42,\n",
       "  84.0,\n",
       "  83.65,\n",
       "  83.81,\n",
       "  87.09,\n",
       "  87.08,\n",
       "  87.48,\n",
       "  87.52,\n",
       "  87.33999999999999,\n",
       "  87.38,\n",
       "  87.53999999999999,\n",
       "  87.44,\n",
       "  87.42999999999999,\n",
       "  87.49,\n",
       "  87.41,\n",
       "  87.41,\n",
       "  87.53,\n",
       "  87.48,\n",
       "  87.48,\n",
       "  87.51,\n",
       "  87.5,\n",
       "  87.46000000000001,\n",
       "  87.59,\n",
       "  87.41,\n",
       "  87.49,\n",
       "  87.46000000000001,\n",
       "  87.5,\n",
       "  87.53,\n",
       "  87.53,\n",
       "  87.38,\n",
       "  87.51,\n",
       "  87.5,\n",
       "  87.47,\n",
       "  87.5,\n",
       "  87.56,\n",
       "  87.46000000000001,\n",
       "  87.57000000000001,\n",
       "  87.6,\n",
       "  87.58,\n",
       "  87.47,\n",
       "  87.56,\n",
       "  87.53999999999999,\n",
       "  87.56,\n",
       "  87.53,\n",
       "  87.55,\n",
       "  87.52,\n",
       "  87.58,\n",
       "  87.45,\n",
       "  87.55,\n",
       "  87.53999999999999,\n",
       "  87.53,\n",
       "  87.53,\n",
       "  87.51,\n",
       "  87.52,\n",
       "  87.55,\n",
       "  87.46000000000001,\n",
       "  87.53,\n",
       "  87.53,\n",
       "  87.56,\n",
       "  87.53,\n",
       "  87.46000000000001,\n",
       "  87.5,\n",
       "  87.56,\n",
       "  87.46000000000001,\n",
       "  87.49,\n",
       "  87.45,\n",
       "  87.39,\n",
       "  87.53,\n",
       "  87.59,\n",
       "  87.52,\n",
       "  87.48,\n",
       "  87.5,\n",
       "  87.53999999999999,\n",
       "  87.53],\n",
       " 'val_loss': [0.5707884216308594,\n",
       "  0.5474034150362015,\n",
       "  0.5111646674633026,\n",
       "  0.5212080459117889,\n",
       "  0.5132594020605087,\n",
       "  0.5322251207470894,\n",
       "  0.496904451417923,\n",
       "  0.5467447743415833,\n",
       "  0.5547487143993378,\n",
       "  0.5703422352433205,\n",
       "  0.43293191487789157,\n",
       "  0.433818408370018,\n",
       "  0.4379144895553589,\n",
       "  0.44229794746637346,\n",
       "  0.4471074749290943,\n",
       "  0.45190294547080995,\n",
       "  0.45600656471252443,\n",
       "  0.4623425480484962,\n",
       "  0.4599526119589806,\n",
       "  0.47352713931798934,\n",
       "  0.4646437402486801,\n",
       "  0.4650190195679665,\n",
       "  0.4631733762383461,\n",
       "  0.465597910797596,\n",
       "  0.4658127636432648,\n",
       "  0.465333386361599,\n",
       "  0.4671592320919037,\n",
       "  0.4670077740550041,\n",
       "  0.4690634664416313,\n",
       "  0.4713306216478348,\n",
       "  0.4700105671644211,\n",
       "  0.4691386879324913,\n",
       "  0.46916999452114105,\n",
       "  0.46976320856809617,\n",
       "  0.46962770104408263,\n",
       "  0.47019777590036393,\n",
       "  0.46794398943185805,\n",
       "  0.4692581791758537,\n",
       "  0.4700632302761078,\n",
       "  0.46905455549955366,\n",
       "  0.4698274717092514,\n",
       "  0.47059835287332535,\n",
       "  0.4686367432951927,\n",
       "  0.46834293442964553,\n",
       "  0.4701090529561043,\n",
       "  0.47038295364379884,\n",
       "  0.4697776586294174,\n",
       "  0.4700538583278656,\n",
       "  0.4708764660358429,\n",
       "  0.4715899715900421,\n",
       "  0.4687676028728485,\n",
       "  0.4709363826870918,\n",
       "  0.4691158843755722,\n",
       "  0.46917733964920044,\n",
       "  0.47125003126859666,\n",
       "  0.47172069079875945,\n",
       "  0.46847563507556916,\n",
       "  0.4703309852004051,\n",
       "  0.46957876843214036,\n",
       "  0.4709264778971672,\n",
       "  0.4670030618906021,\n",
       "  0.4703768156290054,\n",
       "  0.4690422248840332,\n",
       "  0.4704258621096611,\n",
       "  0.469354851770401,\n",
       "  0.4705195905447006,\n",
       "  0.4691988267540932,\n",
       "  0.4717684061408043,\n",
       "  0.4669801854968071,\n",
       "  0.4704078835606575,\n",
       "  0.4709099611878395,\n",
       "  0.46963438600301743,\n",
       "  0.4723992145895958,\n",
       "  0.4693340255498886,\n",
       "  0.4692812202334404,\n",
       "  0.47044819025993345,\n",
       "  0.46748699110746383,\n",
       "  0.4709514956831932,\n",
       "  0.4695922538518906,\n",
       "  0.4706611793756485],\n",
       " 'trigger_acc': [99.0,\n",
       "  100.0,\n",
       "  99.0,\n",
       "  100.0,\n",
       "  100.0,\n",
       "  100.0,\n",
       "  100.0,\n",
       "  100.0,\n",
       "  100.0,\n",
       "  100.0,\n",
       "  100.0,\n",
       "  100.0,\n",
       "  100.0,\n",
       "  100.0,\n",
       "  100.0,\n",
       "  100.0,\n",
       "  100.0,\n",
       "  100.0,\n",
       "  100.0,\n",
       "  100.0,\n",
       "  100.0,\n",
       "  100.0,\n",
       "  100.0,\n",
       "  100.0,\n",
       "  100.0,\n",
       "  100.0,\n",
       "  100.0,\n",
       "  100.0,\n",
       "  100.0,\n",
       "  100.0,\n",
       "  100.0,\n",
       "  100.0,\n",
       "  100.0,\n",
       "  100.0,\n",
       "  100.0,\n",
       "  100.0,\n",
       "  100.0,\n",
       "  100.0,\n",
       "  100.0,\n",
       "  100.0,\n",
       "  100.0,\n",
       "  100.0,\n",
       "  100.0,\n",
       "  100.0,\n",
       "  100.0,\n",
       "  100.0,\n",
       "  100.0,\n",
       "  100.0,\n",
       "  100.0,\n",
       "  100.0,\n",
       "  100.0,\n",
       "  100.0,\n",
       "  100.0,\n",
       "  100.0,\n",
       "  100.0,\n",
       "  100.0,\n",
       "  100.0,\n",
       "  100.0,\n",
       "  100.0,\n",
       "  100.0,\n",
       "  100.0,\n",
       "  100.0,\n",
       "  100.0,\n",
       "  100.0,\n",
       "  100.0,\n",
       "  100.0,\n",
       "  100.0,\n",
       "  100.0,\n",
       "  100.0,\n",
       "  100.0,\n",
       "  100.0,\n",
       "  100.0,\n",
       "  100.0,\n",
       "  100.0,\n",
       "  100.0,\n",
       "  100.0,\n",
       "  100.0,\n",
       "  100.0,\n",
       "  100.0,\n",
       "  100.0],\n",
       " 'trigger_loss': [0.08248657613992691,\n",
       "  0.029568312913179396,\n",
       "  0.03444516882300377,\n",
       "  0.00921679701656103,\n",
       "  0.02062235400080681,\n",
       "  0.014661117643117904,\n",
       "  0.0071576317399740215,\n",
       "  0.008367786407470703,\n",
       "  0.009152169376611709,\n",
       "  0.02383888352662325,\n",
       "  0.0005492020887322723,\n",
       "  0.0004278094368055463,\n",
       "  0.00031379900523461403,\n",
       "  0.0002783724048640579,\n",
       "  0.00024172199657186865,\n",
       "  0.00022398742032237351,\n",
       "  0.0002634095528628677,\n",
       "  0.0002312978683039546,\n",
       "  0.00028961892472580077,\n",
       "  0.0002252126845996827,\n",
       "  0.00021363284846302123,\n",
       "  0.00021416375297121702,\n",
       "  0.00019928471883758902,\n",
       "  0.00021039151528384536,\n",
       "  0.00019990999484434724,\n",
       "  0.0002165473229251802,\n",
       "  0.00020275885006412864,\n",
       "  0.0001928209757898003,\n",
       "  0.00018154587363824248,\n",
       "  0.00020937609428074212,\n",
       "  0.00019129247113596647,\n",
       "  0.00019283686066046357,\n",
       "  0.0001909793313825503,\n",
       "  0.00019710862077772616,\n",
       "  0.00019949167734012007,\n",
       "  0.0002048314141575247,\n",
       "  0.0001947913208277896,\n",
       "  0.00019682501791976393,\n",
       "  0.00019884746056050061,\n",
       "  0.00019195373984985054,\n",
       "  0.0001889089780161157,\n",
       "  0.00019009864889085292,\n",
       "  0.00020402122579980643,\n",
       "  0.00020353050902485848,\n",
       "  0.00019500367576256395,\n",
       "  0.00019198651832994074,\n",
       "  0.00018511034024413676,\n",
       "  0.00018666725023649633,\n",
       "  0.00020889430539682507,\n",
       "  0.000202234253520146,\n",
       "  0.00020648354431614279,\n",
       "  0.00019412826630286874,\n",
       "  0.00020245732041075824,\n",
       "  0.00020867814193479718,\n",
       "  0.00018744283996056767,\n",
       "  0.00018504219653550535,\n",
       "  0.00019228611839935183,\n",
       "  0.0001896190259139985,\n",
       "  0.00020132157020270826,\n",
       "  0.00020276305382139982,\n",
       "  0.00019809650373645127,\n",
       "  0.00019840378547087312,\n",
       "  0.00019790967518929393,\n",
       "  0.00018571198044810443,\n",
       "  0.0001998808397911489,\n",
       "  0.0001832059765001759,\n",
       "  0.00019453494402114303,\n",
       "  0.00019432267697993665,\n",
       "  0.00020343985583167522,\n",
       "  0.00020086099044419825,\n",
       "  0.0001943483715876937,\n",
       "  0.00020192581403534858,\n",
       "  0.00020313035405706615,\n",
       "  0.00019522185320965945,\n",
       "  0.00020689013530500233,\n",
       "  0.00019074690935667605,\n",
       "  0.00020980740548111497,\n",
       "  0.00018298434908501805,\n",
       "  0.00018816471681930126,\n",
       "  0.00020084814925212414]}"
      ]
     },
     "execution_count": 10,
     "metadata": {},
     "output_type": "execute_result"
    }
   ],
   "source": [
    "# normal watermark\n",
    "net = ResNet18()\n",
    "logcmt = f\"resnet18_8020_trigger_finetune\"\n",
    "net.load_state_dict(torch.load('checkpoints/resnet18_8020.ckpt'))\n",
    "optimizer = torch.optim.Adam(params=net.parameters(), lr=2e-4, weight_decay=1e-4)\n",
    "criterion = nn.CrossEntropyLoss()\n",
    "scheduler = torch.optim.lr_scheduler.StepLR(optimizer, step_size=10, gamma=0.1, verbose=True)\n",
    "trainer = Trainer(net, criterion, optimizer, train_loader=trainloader, trigger_loader=advwmloader, use_trigger=True, scheduler=scheduler)\n",
    "evaluator = Evaluator(net, criterion)\n",
    "train(trainer, evaluator, testloader, 80, 'checkpoints/resnet18_wm_8020_adv.ckpt',\n",
    "      logdir='./runs', logcmt=logcmt, trigger_loader=advwmloader)"
   ]
  },
  {
   "cell_type": "markdown",
   "id": "6a3d6153-1162-4c45-a9c8-cc53c60fd7e3",
   "metadata": {},
   "source": [
    "Unrelated Original Scheme"
   ]
  },
  {
   "cell_type": "code",
   "execution_count": 11,
   "id": "1d5d874b-2b0f-4bd8-8320-9026cfcd62e9",
   "metadata": {},
   "outputs": [
    {
     "name": "stdout",
     "output_type": "stream",
     "text": [
      "Adjusting learning rate of group 0 to 2.0000e-04.\n",
      "Start Training...\n"
     ]
    },
    {
     "name": "stderr",
     "output_type": "stream",
     "text": [
      "100%|██████████████████████████████████████████████████████████████████████████████████████████████████████████████████████████████████████████████████████████████████████████████████████████████████████| 156/156 [00:16<00:00,  9.39it/s]"
     ]
    },
    {
     "name": "stdout",
     "output_type": "stream",
     "text": [
      "Adjusting learning rate of group 0 to 2.0000e-04.\n"
     ]
    },
    {
     "name": "stderr",
     "output_type": "stream",
     "text": [
      "\n"
     ]
    },
    {
     "name": "stdout",
     "output_type": "stream",
     "text": [
      "Epoch 0 | Time 18s| Train Loss 0.3388 | Train Acc 88.47| Val Loss 0.492 | Val Acc 83.64| Trigger Loss 0.001 | Trigger Acc 100.00\n"
     ]
    },
    {
     "name": "stderr",
     "output_type": "stream",
     "text": [
      "100%|██████████████████████████████████████████████████████████████████████████████████████████████████████████████████████████████████████████████████████████████████████████████████████████████████████| 156/156 [00:16<00:00,  9.39it/s]"
     ]
    },
    {
     "name": "stdout",
     "output_type": "stream",
     "text": [
      "Adjusting learning rate of group 0 to 2.0000e-04.\n"
     ]
    },
    {
     "name": "stderr",
     "output_type": "stream",
     "text": [
      "\n"
     ]
    },
    {
     "name": "stdout",
     "output_type": "stream",
     "text": [
      "Epoch 1 | Time 38s| Train Loss 0.2843 | Train Acc 89.92| Val Loss 0.520 | Val Acc 83.26| Trigger Loss 0.000 | Trigger Acc 100.00\n"
     ]
    },
    {
     "name": "stderr",
     "output_type": "stream",
     "text": [
      "100%|██████████████████████████████████████████████████████████████████████████████████████████████████████████████████████████████████████████████████████████████████████████████████████████████████████| 156/156 [00:16<00:00,  9.40it/s]"
     ]
    },
    {
     "name": "stdout",
     "output_type": "stream",
     "text": [
      "Adjusting learning rate of group 0 to 2.0000e-04.\n"
     ]
    },
    {
     "name": "stderr",
     "output_type": "stream",
     "text": [
      "\n"
     ]
    },
    {
     "name": "stdout",
     "output_type": "stream",
     "text": [
      "Epoch 2 | Time 57s| Train Loss 0.2683 | Train Acc 90.57| Val Loss 0.493 | Val Acc 84.29| Trigger Loss 0.001 | Trigger Acc 100.00\n"
     ]
    },
    {
     "name": "stderr",
     "output_type": "stream",
     "text": [
      "100%|██████████████████████████████████████████████████████████████████████████████████████████████████████████████████████████████████████████████████████████████████████████████████████████████████████| 156/156 [00:16<00:00,  9.40it/s]"
     ]
    },
    {
     "name": "stdout",
     "output_type": "stream",
     "text": [
      "Adjusting learning rate of group 0 to 2.0000e-04.\n"
     ]
    },
    {
     "name": "stderr",
     "output_type": "stream",
     "text": [
      "\n"
     ]
    },
    {
     "name": "stdout",
     "output_type": "stream",
     "text": [
      "Epoch 3 | Time 76s| Train Loss 0.2520 | Train Acc 91.26| Val Loss 0.536 | Val Acc 82.88| Trigger Loss 0.000 | Trigger Acc 100.00\n"
     ]
    },
    {
     "name": "stderr",
     "output_type": "stream",
     "text": [
      "100%|██████████████████████████████████████████████████████████████████████████████████████████████████████████████████████████████████████████████████████████████████████████████████████████████████████| 156/156 [00:16<00:00,  9.38it/s]"
     ]
    },
    {
     "name": "stdout",
     "output_type": "stream",
     "text": [
      "Adjusting learning rate of group 0 to 2.0000e-04.\n"
     ]
    },
    {
     "name": "stderr",
     "output_type": "stream",
     "text": [
      "\n"
     ]
    },
    {
     "name": "stdout",
     "output_type": "stream",
     "text": [
      "Epoch 4 | Time 95s| Train Loss 0.2407 | Train Acc 91.60| Val Loss 0.564 | Val Acc 82.40| Trigger Loss 0.006 | Trigger Acc 100.00\n"
     ]
    },
    {
     "name": "stderr",
     "output_type": "stream",
     "text": [
      "100%|██████████████████████████████████████████████████████████████████████████████████████████████████████████████████████████████████████████████████████████████████████████████████████████████████████| 156/156 [00:16<00:00,  9.40it/s]"
     ]
    },
    {
     "name": "stdout",
     "output_type": "stream",
     "text": [
      "Adjusting learning rate of group 0 to 2.0000e-04.\n"
     ]
    },
    {
     "name": "stderr",
     "output_type": "stream",
     "text": [
      "\n"
     ]
    },
    {
     "name": "stdout",
     "output_type": "stream",
     "text": [
      "Epoch 5 | Time 114s| Train Loss 0.2297 | Train Acc 91.86| Val Loss 0.494 | Val Acc 84.26| Trigger Loss 0.000 | Trigger Acc 100.00\n"
     ]
    },
    {
     "name": "stderr",
     "output_type": "stream",
     "text": [
      "100%|██████████████████████████████████████████████████████████████████████████████████████████████████████████████████████████████████████████████████████████████████████████████████████████████████████| 156/156 [00:16<00:00,  9.38it/s]"
     ]
    },
    {
     "name": "stdout",
     "output_type": "stream",
     "text": [
      "Adjusting learning rate of group 0 to 2.0000e-04.\n"
     ]
    },
    {
     "name": "stderr",
     "output_type": "stream",
     "text": [
      "\n"
     ]
    },
    {
     "name": "stdout",
     "output_type": "stream",
     "text": [
      "Epoch 6 | Time 133s| Train Loss 0.2186 | Train Acc 92.35| Val Loss 0.514 | Val Acc 83.80| Trigger Loss 0.003 | Trigger Acc 100.00\n"
     ]
    },
    {
     "name": "stderr",
     "output_type": "stream",
     "text": [
      "100%|██████████████████████████████████████████████████████████████████████████████████████████████████████████████████████████████████████████████████████████████████████████████████████████████████████| 156/156 [00:16<00:00,  9.38it/s]"
     ]
    },
    {
     "name": "stdout",
     "output_type": "stream",
     "text": [
      "Adjusting learning rate of group 0 to 2.0000e-04.\n"
     ]
    },
    {
     "name": "stderr",
     "output_type": "stream",
     "text": [
      "\n"
     ]
    },
    {
     "name": "stdout",
     "output_type": "stream",
     "text": [
      "Epoch 7 | Time 152s| Train Loss 0.2056 | Train Acc 92.81| Val Loss 0.667 | Val Acc 80.85| Trigger Loss 0.001 | Trigger Acc 100.00\n"
     ]
    },
    {
     "name": "stderr",
     "output_type": "stream",
     "text": [
      "100%|██████████████████████████████████████████████████████████████████████████████████████████████████████████████████████████████████████████████████████████████████████████████████████████████████████| 156/156 [00:16<00:00,  9.38it/s]"
     ]
    },
    {
     "name": "stdout",
     "output_type": "stream",
     "text": [
      "Adjusting learning rate of group 0 to 2.0000e-04.\n"
     ]
    },
    {
     "name": "stderr",
     "output_type": "stream",
     "text": [
      "\n"
     ]
    },
    {
     "name": "stdout",
     "output_type": "stream",
     "text": [
      "Epoch 8 | Time 171s| Train Loss 0.1948 | Train Acc 93.13| Val Loss 0.508 | Val Acc 85.15| Trigger Loss 0.002 | Trigger Acc 100.00\n"
     ]
    },
    {
     "name": "stderr",
     "output_type": "stream",
     "text": [
      "100%|██████████████████████████████████████████████████████████████████████████████████████████████████████████████████████████████████████████████████████████████████████████████████████████████████████| 156/156 [00:16<00:00,  9.39it/s]"
     ]
    },
    {
     "name": "stdout",
     "output_type": "stream",
     "text": [
      "Adjusting learning rate of group 0 to 2.0000e-05.\n"
     ]
    },
    {
     "name": "stderr",
     "output_type": "stream",
     "text": [
      "\n"
     ]
    },
    {
     "name": "stdout",
     "output_type": "stream",
     "text": [
      "Epoch 9 | Time 190s| Train Loss 0.1880 | Train Acc 93.29| Val Loss 0.568 | Val Acc 83.58| Trigger Loss 0.001 | Trigger Acc 100.00\n"
     ]
    },
    {
     "name": "stderr",
     "output_type": "stream",
     "text": [
      "100%|██████████████████████████████████████████████████████████████████████████████████████████████████████████████████████████████████████████████████████████████████████████████████████████████████████| 156/156 [00:16<00:00,  9.40it/s]"
     ]
    },
    {
     "name": "stdout",
     "output_type": "stream",
     "text": [
      "Adjusting learning rate of group 0 to 2.0000e-05.\n"
     ]
    },
    {
     "name": "stderr",
     "output_type": "stream",
     "text": [
      "\n"
     ]
    },
    {
     "name": "stdout",
     "output_type": "stream",
     "text": [
      "Epoch 10 | Time 209s| Train Loss 0.1327 | Train Acc 95.47| Val Loss 0.425 | Val Acc 86.94| Trigger Loss 0.000 | Trigger Acc 100.00\n"
     ]
    },
    {
     "name": "stderr",
     "output_type": "stream",
     "text": [
      "100%|██████████████████████████████████████████████████████████████████████████████████████████████████████████████████████████████████████████████████████████████████████████████████████████████████████| 156/156 [00:16<00:00,  9.39it/s]"
     ]
    },
    {
     "name": "stdout",
     "output_type": "stream",
     "text": [
      "Adjusting learning rate of group 0 to 2.0000e-05.\n"
     ]
    },
    {
     "name": "stderr",
     "output_type": "stream",
     "text": [
      "\n"
     ]
    },
    {
     "name": "stdout",
     "output_type": "stream",
     "text": [
      "Epoch 11 | Time 228s| Train Loss 0.1110 | Train Acc 96.32| Val Loss 0.431 | Val Acc 87.13| Trigger Loss 0.001 | Trigger Acc 100.00\n"
     ]
    },
    {
     "name": "stderr",
     "output_type": "stream",
     "text": [
      "100%|██████████████████████████████████████████████████████████████████████████████████████████████████████████████████████████████████████████████████████████████████████████████████████████████████████| 156/156 [00:16<00:00,  9.38it/s]"
     ]
    },
    {
     "name": "stdout",
     "output_type": "stream",
     "text": [
      "Adjusting learning rate of group 0 to 2.0000e-05.\n"
     ]
    },
    {
     "name": "stderr",
     "output_type": "stream",
     "text": [
      "\n"
     ]
    },
    {
     "name": "stdout",
     "output_type": "stream",
     "text": [
      "Epoch 12 | Time 247s| Train Loss 0.1029 | Train Acc 96.62| Val Loss 0.436 | Val Acc 87.16| Trigger Loss 0.001 | Trigger Acc 100.00\n"
     ]
    },
    {
     "name": "stderr",
     "output_type": "stream",
     "text": [
      "100%|██████████████████████████████████████████████████████████████████████████████████████████████████████████████████████████████████████████████████████████████████████████████████████████████████████| 156/156 [00:16<00:00,  9.37it/s]"
     ]
    },
    {
     "name": "stdout",
     "output_type": "stream",
     "text": [
      "Adjusting learning rate of group 0 to 2.0000e-05.\n"
     ]
    },
    {
     "name": "stderr",
     "output_type": "stream",
     "text": [
      "\n"
     ]
    },
    {
     "name": "stdout",
     "output_type": "stream",
     "text": [
      "Epoch 13 | Time 266s| Train Loss 0.0984 | Train Acc 96.70| Val Loss 0.448 | Val Acc 87.14| Trigger Loss 0.000 | Trigger Acc 100.00\n"
     ]
    },
    {
     "name": "stderr",
     "output_type": "stream",
     "text": [
      "100%|██████████████████████████████████████████████████████████████████████████████████████████████████████████████████████████████████████████████████████████████████████████████████████████████████████| 156/156 [00:16<00:00,  9.38it/s]"
     ]
    },
    {
     "name": "stdout",
     "output_type": "stream",
     "text": [
      "Adjusting learning rate of group 0 to 2.0000e-05.\n"
     ]
    },
    {
     "name": "stderr",
     "output_type": "stream",
     "text": [
      "\n"
     ]
    },
    {
     "name": "stdout",
     "output_type": "stream",
     "text": [
      "Epoch 14 | Time 285s| Train Loss 0.0952 | Train Acc 96.74| Val Loss 0.445 | Val Acc 87.28| Trigger Loss 0.001 | Trigger Acc 100.00\n"
     ]
    },
    {
     "name": "stderr",
     "output_type": "stream",
     "text": [
      "100%|██████████████████████████████████████████████████████████████████████████████████████████████████████████████████████████████████████████████████████████████████████████████████████████████████████| 156/156 [00:16<00:00,  9.39it/s]"
     ]
    },
    {
     "name": "stdout",
     "output_type": "stream",
     "text": [
      "Adjusting learning rate of group 0 to 2.0000e-05.\n"
     ]
    },
    {
     "name": "stderr",
     "output_type": "stream",
     "text": [
      "\n"
     ]
    },
    {
     "name": "stdout",
     "output_type": "stream",
     "text": [
      "Epoch 15 | Time 304s| Train Loss 0.0906 | Train Acc 96.99| Val Loss 0.450 | Val Acc 87.44| Trigger Loss 0.000 | Trigger Acc 100.00\n"
     ]
    },
    {
     "name": "stderr",
     "output_type": "stream",
     "text": [
      "100%|██████████████████████████████████████████████████████████████████████████████████████████████████████████████████████████████████████████████████████████████████████████████████████████████████████| 156/156 [00:16<00:00,  9.38it/s]"
     ]
    },
    {
     "name": "stdout",
     "output_type": "stream",
     "text": [
      "Adjusting learning rate of group 0 to 2.0000e-05.\n"
     ]
    },
    {
     "name": "stderr",
     "output_type": "stream",
     "text": [
      "\n"
     ]
    },
    {
     "name": "stdout",
     "output_type": "stream",
     "text": [
      "Epoch 16 | Time 322s| Train Loss 0.0881 | Train Acc 97.10| Val Loss 0.466 | Val Acc 87.06| Trigger Loss 0.001 | Trigger Acc 100.00\n"
     ]
    },
    {
     "name": "stderr",
     "output_type": "stream",
     "text": [
      "100%|██████████████████████████████████████████████████████████████████████████████████████████████████████████████████████████████████████████████████████████████████████████████████████████████████████| 156/156 [00:16<00:00,  9.38it/s]"
     ]
    },
    {
     "name": "stdout",
     "output_type": "stream",
     "text": [
      "Adjusting learning rate of group 0 to 2.0000e-05.\n"
     ]
    },
    {
     "name": "stderr",
     "output_type": "stream",
     "text": [
      "\n"
     ]
    },
    {
     "name": "stdout",
     "output_type": "stream",
     "text": [
      "Epoch 17 | Time 341s| Train Loss 0.0839 | Train Acc 97.19| Val Loss 0.467 | Val Acc 87.15| Trigger Loss 0.000 | Trigger Acc 100.00\n"
     ]
    },
    {
     "name": "stderr",
     "output_type": "stream",
     "text": [
      "100%|██████████████████████████████████████████████████████████████████████████████████████████████████████████████████████████████████████████████████████████████████████████████████████████████████████| 156/156 [00:16<00:00,  9.39it/s]"
     ]
    },
    {
     "name": "stdout",
     "output_type": "stream",
     "text": [
      "Adjusting learning rate of group 0 to 2.0000e-05.\n"
     ]
    },
    {
     "name": "stderr",
     "output_type": "stream",
     "text": [
      "\n"
     ]
    },
    {
     "name": "stdout",
     "output_type": "stream",
     "text": [
      "Epoch 18 | Time 360s| Train Loss 0.0769 | Train Acc 97.54| Val Loss 0.470 | Val Acc 87.21| Trigger Loss 0.000 | Trigger Acc 100.00\n"
     ]
    },
    {
     "name": "stderr",
     "output_type": "stream",
     "text": [
      "100%|██████████████████████████████████████████████████████████████████████████████████████████████████████████████████████████████████████████████████████████████████████████████████████████████████████| 156/156 [00:16<00:00,  9.32it/s]"
     ]
    },
    {
     "name": "stdout",
     "output_type": "stream",
     "text": [
      "Adjusting learning rate of group 0 to 2.0000e-06.\n"
     ]
    },
    {
     "name": "stderr",
     "output_type": "stream",
     "text": [
      "\n"
     ]
    },
    {
     "name": "stdout",
     "output_type": "stream",
     "text": [
      "Epoch 19 | Time 380s| Train Loss 0.0772 | Train Acc 97.37| Val Loss 0.480 | Val Acc 87.08| Trigger Loss 0.001 | Trigger Acc 100.00\n"
     ]
    },
    {
     "name": "stderr",
     "output_type": "stream",
     "text": [
      "100%|██████████████████████████████████████████████████████████████████████████████████████████████████████████████████████████████████████████████████████████████████████████████████████████████████████| 156/156 [00:16<00:00,  9.39it/s]"
     ]
    },
    {
     "name": "stdout",
     "output_type": "stream",
     "text": [
      "Adjusting learning rate of group 0 to 2.0000e-06.\n"
     ]
    },
    {
     "name": "stderr",
     "output_type": "stream",
     "text": [
      "\n"
     ]
    },
    {
     "name": "stdout",
     "output_type": "stream",
     "text": [
      "Epoch 20 | Time 399s| Train Loss 0.0693 | Train Acc 97.76| Val Loss 0.475 | Val Acc 87.18| Trigger Loss 0.001 | Trigger Acc 100.00\n"
     ]
    },
    {
     "name": "stderr",
     "output_type": "stream",
     "text": [
      "100%|██████████████████████████████████████████████████████████████████████████████████████████████████████████████████████████████████████████████████████████████████████████████████████████████████████| 156/156 [00:16<00:00,  9.37it/s]"
     ]
    },
    {
     "name": "stdout",
     "output_type": "stream",
     "text": [
      "Adjusting learning rate of group 0 to 2.0000e-06.\n"
     ]
    },
    {
     "name": "stderr",
     "output_type": "stream",
     "text": [
      "\n"
     ]
    },
    {
     "name": "stdout",
     "output_type": "stream",
     "text": [
      "Epoch 21 | Time 418s| Train Loss 0.0675 | Train Acc 97.79| Val Loss 0.475 | Val Acc 87.28| Trigger Loss 0.000 | Trigger Acc 100.00\n"
     ]
    },
    {
     "name": "stderr",
     "output_type": "stream",
     "text": [
      "100%|██████████████████████████████████████████████████████████████████████████████████████████████████████████████████████████████████████████████████████████████████████████████████████████████████████| 156/156 [00:16<00:00,  9.37it/s]"
     ]
    },
    {
     "name": "stdout",
     "output_type": "stream",
     "text": [
      "Adjusting learning rate of group 0 to 2.0000e-06.\n"
     ]
    },
    {
     "name": "stderr",
     "output_type": "stream",
     "text": [
      "\n"
     ]
    },
    {
     "name": "stdout",
     "output_type": "stream",
     "text": [
      "Epoch 22 | Time 437s| Train Loss 0.0666 | Train Acc 97.94| Val Loss 0.475 | Val Acc 87.29| Trigger Loss 0.000 | Trigger Acc 100.00\n"
     ]
    },
    {
     "name": "stderr",
     "output_type": "stream",
     "text": [
      "100%|██████████████████████████████████████████████████████████████████████████████████████████████████████████████████████████████████████████████████████████████████████████████████████████████████████| 156/156 [00:16<00:00,  9.39it/s]"
     ]
    },
    {
     "name": "stdout",
     "output_type": "stream",
     "text": [
      "Adjusting learning rate of group 0 to 2.0000e-06.\n"
     ]
    },
    {
     "name": "stderr",
     "output_type": "stream",
     "text": [
      "\n"
     ]
    },
    {
     "name": "stdout",
     "output_type": "stream",
     "text": [
      "Epoch 23 | Time 456s| Train Loss 0.0668 | Train Acc 97.81| Val Loss 0.477 | Val Acc 87.23| Trigger Loss 0.000 | Trigger Acc 100.00\n"
     ]
    },
    {
     "name": "stderr",
     "output_type": "stream",
     "text": [
      "100%|██████████████████████████████████████████████████████████████████████████████████████████████████████████████████████████████████████████████████████████████████████████████████████████████████████| 156/156 [00:16<00:00,  9.38it/s]"
     ]
    },
    {
     "name": "stdout",
     "output_type": "stream",
     "text": [
      "Adjusting learning rate of group 0 to 2.0000e-06.\n"
     ]
    },
    {
     "name": "stderr",
     "output_type": "stream",
     "text": [
      "\n"
     ]
    },
    {
     "name": "stdout",
     "output_type": "stream",
     "text": [
      "Epoch 24 | Time 474s| Train Loss 0.0652 | Train Acc 97.89| Val Loss 0.477 | Val Acc 87.25| Trigger Loss 0.001 | Trigger Acc 100.00\n"
     ]
    },
    {
     "name": "stderr",
     "output_type": "stream",
     "text": [
      "100%|██████████████████████████████████████████████████████████████████████████████████████████████████████████████████████████████████████████████████████████████████████████████████████████████████████| 156/156 [00:16<00:00,  9.38it/s]"
     ]
    },
    {
     "name": "stdout",
     "output_type": "stream",
     "text": [
      "Adjusting learning rate of group 0 to 2.0000e-06.\n"
     ]
    },
    {
     "name": "stderr",
     "output_type": "stream",
     "text": [
      "\n"
     ]
    },
    {
     "name": "stdout",
     "output_type": "stream",
     "text": [
      "Epoch 25 | Time 493s| Train Loss 0.0656 | Train Acc 97.90| Val Loss 0.479 | Val Acc 87.33| Trigger Loss 0.000 | Trigger Acc 100.00\n"
     ]
    },
    {
     "name": "stderr",
     "output_type": "stream",
     "text": [
      "100%|██████████████████████████████████████████████████████████████████████████████████████████████████████████████████████████████████████████████████████████████████████████████████████████████████████| 156/156 [00:16<00:00,  9.38it/s]"
     ]
    },
    {
     "name": "stdout",
     "output_type": "stream",
     "text": [
      "Adjusting learning rate of group 0 to 2.0000e-06.\n"
     ]
    },
    {
     "name": "stderr",
     "output_type": "stream",
     "text": [
      "\n"
     ]
    },
    {
     "name": "stdout",
     "output_type": "stream",
     "text": [
      "Epoch 26 | Time 512s| Train Loss 0.0644 | Train Acc 97.87| Val Loss 0.482 | Val Acc 87.20| Trigger Loss 0.000 | Trigger Acc 100.00\n"
     ]
    },
    {
     "name": "stderr",
     "output_type": "stream",
     "text": [
      "100%|██████████████████████████████████████████████████████████████████████████████████████████████████████████████████████████████████████████████████████████████████████████████████████████████████████| 156/156 [00:16<00:00,  9.37it/s]"
     ]
    },
    {
     "name": "stdout",
     "output_type": "stream",
     "text": [
      "Adjusting learning rate of group 0 to 2.0000e-06.\n"
     ]
    },
    {
     "name": "stderr",
     "output_type": "stream",
     "text": [
      "\n"
     ]
    },
    {
     "name": "stdout",
     "output_type": "stream",
     "text": [
      "Epoch 27 | Time 531s| Train Loss 0.0650 | Train Acc 97.88| Val Loss 0.477 | Val Acc 87.35| Trigger Loss 0.000 | Trigger Acc 100.00\n"
     ]
    },
    {
     "name": "stderr",
     "output_type": "stream",
     "text": [
      "100%|██████████████████████████████████████████████████████████████████████████████████████████████████████████████████████████████████████████████████████████████████████████████████████████████████████| 156/156 [00:16<00:00,  9.38it/s]"
     ]
    },
    {
     "name": "stdout",
     "output_type": "stream",
     "text": [
      "Adjusting learning rate of group 0 to 2.0000e-06.\n"
     ]
    },
    {
     "name": "stderr",
     "output_type": "stream",
     "text": [
      "\n"
     ]
    },
    {
     "name": "stdout",
     "output_type": "stream",
     "text": [
      "Epoch 28 | Time 550s| Train Loss 0.0658 | Train Acc 97.88| Val Loss 0.480 | Val Acc 87.32| Trigger Loss 0.000 | Trigger Acc 100.00\n"
     ]
    },
    {
     "name": "stderr",
     "output_type": "stream",
     "text": [
      "100%|██████████████████████████████████████████████████████████████████████████████████████████████████████████████████████████████████████████████████████████████████████████████████████████████████████| 156/156 [00:16<00:00,  9.38it/s]"
     ]
    },
    {
     "name": "stdout",
     "output_type": "stream",
     "text": [
      "Adjusting learning rate of group 0 to 2.0000e-07.\n"
     ]
    },
    {
     "name": "stderr",
     "output_type": "stream",
     "text": [
      "\n"
     ]
    },
    {
     "name": "stdout",
     "output_type": "stream",
     "text": [
      "Epoch 29 | Time 569s| Train Loss 0.0638 | Train Acc 97.95| Val Loss 0.481 | Val Acc 87.32| Trigger Loss 0.001 | Trigger Acc 100.00\n"
     ]
    },
    {
     "name": "stderr",
     "output_type": "stream",
     "text": [
      "100%|██████████████████████████████████████████████████████████████████████████████████████████████████████████████████████████████████████████████████████████████████████████████████████████████████████| 156/156 [00:16<00:00,  9.38it/s]"
     ]
    },
    {
     "name": "stdout",
     "output_type": "stream",
     "text": [
      "Adjusting learning rate of group 0 to 2.0000e-07.\n"
     ]
    },
    {
     "name": "stderr",
     "output_type": "stream",
     "text": [
      "\n"
     ]
    },
    {
     "name": "stdout",
     "output_type": "stream",
     "text": [
      "Epoch 30 | Time 588s| Train Loss 0.0633 | Train Acc 97.99| Val Loss 0.479 | Val Acc 87.30| Trigger Loss 0.000 | Trigger Acc 100.00\n"
     ]
    },
    {
     "name": "stderr",
     "output_type": "stream",
     "text": [
      "100%|██████████████████████████████████████████████████████████████████████████████████████████████████████████████████████████████████████████████████████████████████████████████████████████████████████| 156/156 [00:16<00:00,  9.38it/s]"
     ]
    },
    {
     "name": "stdout",
     "output_type": "stream",
     "text": [
      "Adjusting learning rate of group 0 to 2.0000e-07.\n"
     ]
    },
    {
     "name": "stderr",
     "output_type": "stream",
     "text": [
      "\n"
     ]
    },
    {
     "name": "stdout",
     "output_type": "stream",
     "text": [
      "Epoch 31 | Time 607s| Train Loss 0.0636 | Train Acc 97.89| Val Loss 0.481 | Val Acc 87.28| Trigger Loss 0.000 | Trigger Acc 100.00\n"
     ]
    },
    {
     "name": "stderr",
     "output_type": "stream",
     "text": [
      "100%|██████████████████████████████████████████████████████████████████████████████████████████████████████████████████████████████████████████████████████████████████████████████████████████████████████| 156/156 [00:16<00:00,  9.39it/s]"
     ]
    },
    {
     "name": "stdout",
     "output_type": "stream",
     "text": [
      "Adjusting learning rate of group 0 to 2.0000e-07.\n"
     ]
    },
    {
     "name": "stderr",
     "output_type": "stream",
     "text": [
      "\n"
     ]
    },
    {
     "name": "stdout",
     "output_type": "stream",
     "text": [
      "Epoch 32 | Time 626s| Train Loss 0.0640 | Train Acc 97.88| Val Loss 0.483 | Val Acc 87.34| Trigger Loss 0.000 | Trigger Acc 100.00\n"
     ]
    },
    {
     "name": "stderr",
     "output_type": "stream",
     "text": [
      "100%|██████████████████████████████████████████████████████████████████████████████████████████████████████████████████████████████████████████████████████████████████████████████████████████████████████| 156/156 [00:16<00:00,  9.37it/s]"
     ]
    },
    {
     "name": "stdout",
     "output_type": "stream",
     "text": [
      "Adjusting learning rate of group 0 to 2.0000e-07.\n"
     ]
    },
    {
     "name": "stderr",
     "output_type": "stream",
     "text": [
      "\n"
     ]
    },
    {
     "name": "stdout",
     "output_type": "stream",
     "text": [
      "Epoch 33 | Time 645s| Train Loss 0.0649 | Train Acc 97.91| Val Loss 0.482 | Val Acc 87.31| Trigger Loss 0.000 | Trigger Acc 100.00\n"
     ]
    },
    {
     "name": "stderr",
     "output_type": "stream",
     "text": [
      "100%|██████████████████████████████████████████████████████████████████████████████████████████████████████████████████████████████████████████████████████████████████████████████████████████████████████| 156/156 [00:16<00:00,  9.39it/s]"
     ]
    },
    {
     "name": "stdout",
     "output_type": "stream",
     "text": [
      "Adjusting learning rate of group 0 to 2.0000e-07.\n"
     ]
    },
    {
     "name": "stderr",
     "output_type": "stream",
     "text": [
      "\n"
     ]
    },
    {
     "name": "stdout",
     "output_type": "stream",
     "text": [
      "Epoch 34 | Time 664s| Train Loss 0.0625 | Train Acc 97.98| Val Loss 0.481 | Val Acc 87.21| Trigger Loss 0.000 | Trigger Acc 100.00\n"
     ]
    },
    {
     "name": "stderr",
     "output_type": "stream",
     "text": [
      "100%|██████████████████████████████████████████████████████████████████████████████████████████████████████████████████████████████████████████████████████████████████████████████████████████████████████| 156/156 [00:16<00:00,  9.39it/s]"
     ]
    },
    {
     "name": "stdout",
     "output_type": "stream",
     "text": [
      "Adjusting learning rate of group 0 to 2.0000e-07.\n"
     ]
    },
    {
     "name": "stderr",
     "output_type": "stream",
     "text": [
      "\n"
     ]
    },
    {
     "name": "stdout",
     "output_type": "stream",
     "text": [
      "Epoch 35 | Time 683s| Train Loss 0.0641 | Train Acc 98.02| Val Loss 0.481 | Val Acc 87.24| Trigger Loss 0.000 | Trigger Acc 100.00\n"
     ]
    },
    {
     "name": "stderr",
     "output_type": "stream",
     "text": [
      "100%|██████████████████████████████████████████████████████████████████████████████████████████████████████████████████████████████████████████████████████████████████████████████████████████████████████| 156/156 [00:16<00:00,  9.39it/s]"
     ]
    },
    {
     "name": "stdout",
     "output_type": "stream",
     "text": [
      "Adjusting learning rate of group 0 to 2.0000e-07.\n"
     ]
    },
    {
     "name": "stderr",
     "output_type": "stream",
     "text": [
      "\n"
     ]
    },
    {
     "name": "stdout",
     "output_type": "stream",
     "text": [
      "Epoch 36 | Time 702s| Train Loss 0.0612 | Train Acc 98.03| Val Loss 0.481 | Val Acc 87.36| Trigger Loss 0.000 | Trigger Acc 100.00\n"
     ]
    },
    {
     "name": "stderr",
     "output_type": "stream",
     "text": [
      "100%|██████████████████████████████████████████████████████████████████████████████████████████████████████████████████████████████████████████████████████████████████████████████████████████████████████| 156/156 [00:16<00:00,  9.39it/s]"
     ]
    },
    {
     "name": "stdout",
     "output_type": "stream",
     "text": [
      "Adjusting learning rate of group 0 to 2.0000e-07.\n"
     ]
    },
    {
     "name": "stderr",
     "output_type": "stream",
     "text": [
      "\n"
     ]
    },
    {
     "name": "stdout",
     "output_type": "stream",
     "text": [
      "Epoch 37 | Time 721s| Train Loss 0.0645 | Train Acc 97.88| Val Loss 0.481 | Val Acc 87.26| Trigger Loss 0.000 | Trigger Acc 100.00\n"
     ]
    },
    {
     "name": "stderr",
     "output_type": "stream",
     "text": [
      "100%|██████████████████████████████████████████████████████████████████████████████████████████████████████████████████████████████████████████████████████████████████████████████████████████████████████| 156/156 [00:16<00:00,  9.38it/s]"
     ]
    },
    {
     "name": "stdout",
     "output_type": "stream",
     "text": [
      "Adjusting learning rate of group 0 to 2.0000e-07.\n"
     ]
    },
    {
     "name": "stderr",
     "output_type": "stream",
     "text": [
      "\n"
     ]
    },
    {
     "name": "stdout",
     "output_type": "stream",
     "text": [
      "Epoch 38 | Time 740s| Train Loss 0.0639 | Train Acc 97.94| Val Loss 0.481 | Val Acc 87.31| Trigger Loss 0.000 | Trigger Acc 100.00\n"
     ]
    },
    {
     "name": "stderr",
     "output_type": "stream",
     "text": [
      "100%|██████████████████████████████████████████████████████████████████████████████████████████████████████████████████████████████████████████████████████████████████████████████████████████████████████| 156/156 [00:16<00:00,  9.37it/s]"
     ]
    },
    {
     "name": "stdout",
     "output_type": "stream",
     "text": [
      "Adjusting learning rate of group 0 to 2.0000e-08.\n"
     ]
    },
    {
     "name": "stderr",
     "output_type": "stream",
     "text": [
      "\n"
     ]
    },
    {
     "name": "stdout",
     "output_type": "stream",
     "text": [
      "Epoch 39 | Time 759s| Train Loss 0.0623 | Train Acc 98.03| Val Loss 0.480 | Val Acc 87.36| Trigger Loss 0.001 | Trigger Acc 100.00\n"
     ]
    },
    {
     "name": "stderr",
     "output_type": "stream",
     "text": [
      "100%|██████████████████████████████████████████████████████████████████████████████████████████████████████████████████████████████████████████████████████████████████████████████████████████████████████| 156/156 [00:16<00:00,  9.39it/s]"
     ]
    },
    {
     "name": "stdout",
     "output_type": "stream",
     "text": [
      "Adjusting learning rate of group 0 to 2.0000e-08.\n"
     ]
    },
    {
     "name": "stderr",
     "output_type": "stream",
     "text": [
      "\n"
     ]
    },
    {
     "name": "stdout",
     "output_type": "stream",
     "text": [
      "Epoch 40 | Time 778s| Train Loss 0.0625 | Train Acc 97.96| Val Loss 0.481 | Val Acc 87.32| Trigger Loss 0.000 | Trigger Acc 100.00\n"
     ]
    },
    {
     "name": "stderr",
     "output_type": "stream",
     "text": [
      "100%|██████████████████████████████████████████████████████████████████████████████████████████████████████████████████████████████████████████████████████████████████████████████████████████████████████| 156/156 [00:16<00:00,  9.39it/s]"
     ]
    },
    {
     "name": "stdout",
     "output_type": "stream",
     "text": [
      "Adjusting learning rate of group 0 to 2.0000e-08.\n"
     ]
    },
    {
     "name": "stderr",
     "output_type": "stream",
     "text": [
      "\n"
     ]
    },
    {
     "name": "stdout",
     "output_type": "stream",
     "text": [
      "Epoch 41 | Time 797s| Train Loss 0.0618 | Train Acc 98.02| Val Loss 0.482 | Val Acc 87.31| Trigger Loss 0.000 | Trigger Acc 100.00\n"
     ]
    },
    {
     "name": "stderr",
     "output_type": "stream",
     "text": [
      "100%|██████████████████████████████████████████████████████████████████████████████████████████████████████████████████████████████████████████████████████████████████████████████████████████████████████| 156/156 [00:16<00:00,  9.39it/s]"
     ]
    },
    {
     "name": "stdout",
     "output_type": "stream",
     "text": [
      "Adjusting learning rate of group 0 to 2.0000e-08.\n"
     ]
    },
    {
     "name": "stderr",
     "output_type": "stream",
     "text": [
      "\n"
     ]
    },
    {
     "name": "stdout",
     "output_type": "stream",
     "text": [
      "Epoch 42 | Time 816s| Train Loss 0.0637 | Train Acc 97.98| Val Loss 0.483 | Val Acc 87.22| Trigger Loss 0.000 | Trigger Acc 100.00\n"
     ]
    },
    {
     "name": "stderr",
     "output_type": "stream",
     "text": [
      "100%|██████████████████████████████████████████████████████████████████████████████████████████████████████████████████████████████████████████████████████████████████████████████████████████████████████| 156/156 [00:16<00:00,  9.38it/s]"
     ]
    },
    {
     "name": "stdout",
     "output_type": "stream",
     "text": [
      "Adjusting learning rate of group 0 to 2.0000e-08.\n"
     ]
    },
    {
     "name": "stderr",
     "output_type": "stream",
     "text": [
      "\n"
     ]
    },
    {
     "name": "stdout",
     "output_type": "stream",
     "text": [
      "Epoch 43 | Time 835s| Train Loss 0.0637 | Train Acc 97.89| Val Loss 0.483 | Val Acc 87.27| Trigger Loss 0.001 | Trigger Acc 100.00\n"
     ]
    },
    {
     "name": "stderr",
     "output_type": "stream",
     "text": [
      "100%|██████████████████████████████████████████████████████████████████████████████████████████████████████████████████████████████████████████████████████████████████████████████████████████████████████| 156/156 [00:16<00:00,  9.38it/s]"
     ]
    },
    {
     "name": "stdout",
     "output_type": "stream",
     "text": [
      "Adjusting learning rate of group 0 to 2.0000e-08.\n"
     ]
    },
    {
     "name": "stderr",
     "output_type": "stream",
     "text": [
      "\n"
     ]
    },
    {
     "name": "stdout",
     "output_type": "stream",
     "text": [
      "Epoch 44 | Time 854s| Train Loss 0.0633 | Train Acc 97.94| Val Loss 0.482 | Val Acc 87.35| Trigger Loss 0.001 | Trigger Acc 100.00\n"
     ]
    },
    {
     "name": "stderr",
     "output_type": "stream",
     "text": [
      "100%|██████████████████████████████████████████████████████████████████████████████████████████████████████████████████████████████████████████████████████████████████████████████████████████████████████| 156/156 [00:16<00:00,  9.38it/s]"
     ]
    },
    {
     "name": "stdout",
     "output_type": "stream",
     "text": [
      "Adjusting learning rate of group 0 to 2.0000e-08.\n"
     ]
    },
    {
     "name": "stderr",
     "output_type": "stream",
     "text": [
      "\n"
     ]
    },
    {
     "name": "stdout",
     "output_type": "stream",
     "text": [
      "Epoch 45 | Time 873s| Train Loss 0.0631 | Train Acc 97.99| Val Loss 0.482 | Val Acc 87.24| Trigger Loss 0.000 | Trigger Acc 100.00\n"
     ]
    },
    {
     "name": "stderr",
     "output_type": "stream",
     "text": [
      "100%|██████████████████████████████████████████████████████████████████████████████████████████████████████████████████████████████████████████████████████████████████████████████████████████████████████| 156/156 [00:16<00:00,  9.38it/s]"
     ]
    },
    {
     "name": "stdout",
     "output_type": "stream",
     "text": [
      "Adjusting learning rate of group 0 to 2.0000e-08.\n"
     ]
    },
    {
     "name": "stderr",
     "output_type": "stream",
     "text": [
      "\n"
     ]
    },
    {
     "name": "stdout",
     "output_type": "stream",
     "text": [
      "Epoch 46 | Time 892s| Train Loss 0.0629 | Train Acc 97.98| Val Loss 0.481 | Val Acc 87.34| Trigger Loss 0.000 | Trigger Acc 100.00\n"
     ]
    },
    {
     "name": "stderr",
     "output_type": "stream",
     "text": [
      "100%|██████████████████████████████████████████████████████████████████████████████████████████████████████████████████████████████████████████████████████████████████████████████████████████████████████| 156/156 [00:16<00:00,  9.37it/s]"
     ]
    },
    {
     "name": "stdout",
     "output_type": "stream",
     "text": [
      "Adjusting learning rate of group 0 to 2.0000e-08.\n"
     ]
    },
    {
     "name": "stderr",
     "output_type": "stream",
     "text": [
      "\n"
     ]
    },
    {
     "name": "stdout",
     "output_type": "stream",
     "text": [
      "Epoch 47 | Time 911s| Train Loss 0.0621 | Train Acc 97.95| Val Loss 0.482 | Val Acc 87.25| Trigger Loss 0.000 | Trigger Acc 100.00\n"
     ]
    },
    {
     "name": "stderr",
     "output_type": "stream",
     "text": [
      "100%|██████████████████████████████████████████████████████████████████████████████████████████████████████████████████████████████████████████████████████████████████████████████████████████████████████| 156/156 [00:16<00:00,  9.39it/s]"
     ]
    },
    {
     "name": "stdout",
     "output_type": "stream",
     "text": [
      "Adjusting learning rate of group 0 to 2.0000e-08.\n"
     ]
    },
    {
     "name": "stderr",
     "output_type": "stream",
     "text": [
      "\n"
     ]
    },
    {
     "name": "stdout",
     "output_type": "stream",
     "text": [
      "Epoch 48 | Time 930s| Train Loss 0.0641 | Train Acc 97.89| Val Loss 0.480 | Val Acc 87.38| Trigger Loss 0.001 | Trigger Acc 100.00\n"
     ]
    },
    {
     "name": "stderr",
     "output_type": "stream",
     "text": [
      "100%|██████████████████████████████████████████████████████████████████████████████████████████████████████████████████████████████████████████████████████████████████████████████████████████████████████| 156/156 [00:16<00:00,  9.38it/s]"
     ]
    },
    {
     "name": "stdout",
     "output_type": "stream",
     "text": [
      "Adjusting learning rate of group 0 to 2.0000e-09.\n"
     ]
    },
    {
     "name": "stderr",
     "output_type": "stream",
     "text": [
      "\n"
     ]
    },
    {
     "name": "stdout",
     "output_type": "stream",
     "text": [
      "Epoch 49 | Time 949s| Train Loss 0.0621 | Train Acc 97.98| Val Loss 0.483 | Val Acc 87.36| Trigger Loss 0.000 | Trigger Acc 100.00\n"
     ]
    },
    {
     "name": "stderr",
     "output_type": "stream",
     "text": [
      "100%|██████████████████████████████████████████████████████████████████████████████████████████████████████████████████████████████████████████████████████████████████████████████████████████████████████| 156/156 [00:16<00:00,  9.38it/s]"
     ]
    },
    {
     "name": "stdout",
     "output_type": "stream",
     "text": [
      "Adjusting learning rate of group 0 to 2.0000e-09.\n"
     ]
    },
    {
     "name": "stderr",
     "output_type": "stream",
     "text": [
      "\n"
     ]
    },
    {
     "name": "stdout",
     "output_type": "stream",
     "text": [
      "Epoch 50 | Time 968s| Train Loss 0.0637 | Train Acc 97.89| Val Loss 0.481 | Val Acc 87.45| Trigger Loss 0.001 | Trigger Acc 100.00\n"
     ]
    },
    {
     "name": "stderr",
     "output_type": "stream",
     "text": [
      "100%|██████████████████████████████████████████████████████████████████████████████████████████████████████████████████████████████████████████████████████████████████████████████████████████████████████| 156/156 [00:16<00:00,  9.38it/s]"
     ]
    },
    {
     "name": "stdout",
     "output_type": "stream",
     "text": [
      "Adjusting learning rate of group 0 to 2.0000e-09.\n"
     ]
    },
    {
     "name": "stderr",
     "output_type": "stream",
     "text": [
      "\n"
     ]
    },
    {
     "name": "stdout",
     "output_type": "stream",
     "text": [
      "Epoch 51 | Time 987s| Train Loss 0.0632 | Train Acc 97.95| Val Loss 0.484 | Val Acc 87.39| Trigger Loss 0.000 | Trigger Acc 100.00\n"
     ]
    },
    {
     "name": "stderr",
     "output_type": "stream",
     "text": [
      "100%|██████████████████████████████████████████████████████████████████████████████████████████████████████████████████████████████████████████████████████████████████████████████████████████████████████| 156/156 [00:16<00:00,  9.39it/s]"
     ]
    },
    {
     "name": "stdout",
     "output_type": "stream",
     "text": [
      "Adjusting learning rate of group 0 to 2.0000e-09.\n"
     ]
    },
    {
     "name": "stderr",
     "output_type": "stream",
     "text": [
      "\n"
     ]
    },
    {
     "name": "stdout",
     "output_type": "stream",
     "text": [
      "Epoch 52 | Time 1006s| Train Loss 0.0635 | Train Acc 97.92| Val Loss 0.480 | Val Acc 87.19| Trigger Loss 0.000 | Trigger Acc 100.00\n"
     ]
    },
    {
     "name": "stderr",
     "output_type": "stream",
     "text": [
      "100%|██████████████████████████████████████████████████████████████████████████████████████████████████████████████████████████████████████████████████████████████████████████████████████████████████████| 156/156 [00:16<00:00,  9.38it/s]"
     ]
    },
    {
     "name": "stdout",
     "output_type": "stream",
     "text": [
      "Adjusting learning rate of group 0 to 2.0000e-09.\n"
     ]
    },
    {
     "name": "stderr",
     "output_type": "stream",
     "text": [
      "\n"
     ]
    },
    {
     "name": "stdout",
     "output_type": "stream",
     "text": [
      "Epoch 53 | Time 1025s| Train Loss 0.0627 | Train Acc 97.98| Val Loss 0.481 | Val Acc 87.30| Trigger Loss 0.000 | Trigger Acc 100.00\n"
     ]
    },
    {
     "name": "stderr",
     "output_type": "stream",
     "text": [
      "100%|██████████████████████████████████████████████████████████████████████████████████████████████████████████████████████████████████████████████████████████████████████████████████████████████████████| 156/156 [00:16<00:00,  9.36it/s]"
     ]
    },
    {
     "name": "stdout",
     "output_type": "stream",
     "text": [
      "Adjusting learning rate of group 0 to 2.0000e-09.\n"
     ]
    },
    {
     "name": "stderr",
     "output_type": "stream",
     "text": [
      "\n"
     ]
    },
    {
     "name": "stdout",
     "output_type": "stream",
     "text": [
      "Epoch 54 | Time 1044s| Train Loss 0.0637 | Train Acc 97.98| Val Loss 0.484 | Val Acc 87.30| Trigger Loss 0.000 | Trigger Acc 100.00\n"
     ]
    },
    {
     "name": "stderr",
     "output_type": "stream",
     "text": [
      "100%|██████████████████████████████████████████████████████████████████████████████████████████████████████████████████████████████████████████████████████████████████████████████████████████████████████| 156/156 [00:16<00:00,  9.38it/s]"
     ]
    },
    {
     "name": "stdout",
     "output_type": "stream",
     "text": [
      "Adjusting learning rate of group 0 to 2.0000e-09.\n"
     ]
    },
    {
     "name": "stderr",
     "output_type": "stream",
     "text": [
      "\n"
     ]
    },
    {
     "name": "stdout",
     "output_type": "stream",
     "text": [
      "Epoch 55 | Time 1063s| Train Loss 0.0612 | Train Acc 98.10| Val Loss 0.483 | Val Acc 87.40| Trigger Loss 0.000 | Trigger Acc 100.00\n"
     ]
    },
    {
     "name": "stderr",
     "output_type": "stream",
     "text": [
      "100%|██████████████████████████████████████████████████████████████████████████████████████████████████████████████████████████████████████████████████████████████████████████████████████████████████████| 156/156 [00:16<00:00,  9.37it/s]"
     ]
    },
    {
     "name": "stdout",
     "output_type": "stream",
     "text": [
      "Adjusting learning rate of group 0 to 2.0000e-09.\n"
     ]
    },
    {
     "name": "stderr",
     "output_type": "stream",
     "text": [
      "\n"
     ]
    },
    {
     "name": "stdout",
     "output_type": "stream",
     "text": [
      "Epoch 56 | Time 1082s| Train Loss 0.0633 | Train Acc 97.96| Val Loss 0.480 | Val Acc 87.36| Trigger Loss 0.000 | Trigger Acc 100.00\n"
     ]
    },
    {
     "name": "stderr",
     "output_type": "stream",
     "text": [
      "100%|██████████████████████████████████████████████████████████████████████████████████████████████████████████████████████████████████████████████████████████████████████████████████████████████████████| 156/156 [00:16<00:00,  9.38it/s]"
     ]
    },
    {
     "name": "stdout",
     "output_type": "stream",
     "text": [
      "Adjusting learning rate of group 0 to 2.0000e-09.\n"
     ]
    },
    {
     "name": "stderr",
     "output_type": "stream",
     "text": [
      "\n"
     ]
    },
    {
     "name": "stdout",
     "output_type": "stream",
     "text": [
      "Epoch 57 | Time 1101s| Train Loss 0.0618 | Train Acc 97.96| Val Loss 0.482 | Val Acc 87.40| Trigger Loss 0.001 | Trigger Acc 100.00\n"
     ]
    },
    {
     "name": "stderr",
     "output_type": "stream",
     "text": [
      "100%|██████████████████████████████████████████████████████████████████████████████████████████████████████████████████████████████████████████████████████████████████████████████████████████████████████| 156/156 [00:16<00:00,  9.38it/s]"
     ]
    },
    {
     "name": "stdout",
     "output_type": "stream",
     "text": [
      "Adjusting learning rate of group 0 to 2.0000e-09.\n"
     ]
    },
    {
     "name": "stderr",
     "output_type": "stream",
     "text": [
      "\n"
     ]
    },
    {
     "name": "stdout",
     "output_type": "stream",
     "text": [
      "Epoch 58 | Time 1120s| Train Loss 0.0629 | Train Acc 97.99| Val Loss 0.484 | Val Acc 87.25| Trigger Loss 0.000 | Trigger Acc 100.00\n"
     ]
    },
    {
     "name": "stderr",
     "output_type": "stream",
     "text": [
      "100%|██████████████████████████████████████████████████████████████████████████████████████████████████████████████████████████████████████████████████████████████████████████████████████████████████████| 156/156 [00:16<00:00,  9.38it/s]"
     ]
    },
    {
     "name": "stdout",
     "output_type": "stream",
     "text": [
      "Adjusting learning rate of group 0 to 2.0000e-10.\n"
     ]
    },
    {
     "name": "stderr",
     "output_type": "stream",
     "text": [
      "\n"
     ]
    },
    {
     "name": "stdout",
     "output_type": "stream",
     "text": [
      "Epoch 59 | Time 1139s| Train Loss 0.0640 | Train Acc 97.96| Val Loss 0.481 | Val Acc 87.29| Trigger Loss 0.001 | Trigger Acc 100.00\n"
     ]
    },
    {
     "name": "stderr",
     "output_type": "stream",
     "text": [
      "100%|██████████████████████████████████████████████████████████████████████████████████████████████████████████████████████████████████████████████████████████████████████████████████████████████████████| 156/156 [00:16<00:00,  9.39it/s]"
     ]
    },
    {
     "name": "stdout",
     "output_type": "stream",
     "text": [
      "Adjusting learning rate of group 0 to 2.0000e-10.\n"
     ]
    },
    {
     "name": "stderr",
     "output_type": "stream",
     "text": [
      "\n"
     ]
    },
    {
     "name": "stdout",
     "output_type": "stream",
     "text": [
      "Epoch 60 | Time 1158s| Train Loss 0.0638 | Train Acc 97.98| Val Loss 0.481 | Val Acc 87.35| Trigger Loss 0.000 | Trigger Acc 100.00\n"
     ]
    },
    {
     "name": "stderr",
     "output_type": "stream",
     "text": [
      "100%|██████████████████████████████████████████████████████████████████████████████████████████████████████████████████████████████████████████████████████████████████████████████████████████████████████| 156/156 [00:16<00:00,  9.38it/s]"
     ]
    },
    {
     "name": "stdout",
     "output_type": "stream",
     "text": [
      "Adjusting learning rate of group 0 to 2.0000e-10.\n"
     ]
    },
    {
     "name": "stderr",
     "output_type": "stream",
     "text": [
      "\n"
     ]
    },
    {
     "name": "stdout",
     "output_type": "stream",
     "text": [
      "Epoch 61 | Time 1177s| Train Loss 0.0640 | Train Acc 97.85| Val Loss 0.484 | Val Acc 87.26| Trigger Loss 0.001 | Trigger Acc 100.00\n"
     ]
    },
    {
     "name": "stderr",
     "output_type": "stream",
     "text": [
      "100%|██████████████████████████████████████████████████████████████████████████████████████████████████████████████████████████████████████████████████████████████████████████████████████████████████████| 156/156 [00:16<00:00,  9.38it/s]"
     ]
    },
    {
     "name": "stdout",
     "output_type": "stream",
     "text": [
      "Adjusting learning rate of group 0 to 2.0000e-10.\n"
     ]
    },
    {
     "name": "stderr",
     "output_type": "stream",
     "text": [
      "\n"
     ]
    },
    {
     "name": "stdout",
     "output_type": "stream",
     "text": [
      "Epoch 62 | Time 1196s| Train Loss 0.0635 | Train Acc 97.93| Val Loss 0.481 | Val Acc 87.26| Trigger Loss 0.000 | Trigger Acc 100.00\n"
     ]
    },
    {
     "name": "stderr",
     "output_type": "stream",
     "text": [
      "100%|██████████████████████████████████████████████████████████████████████████████████████████████████████████████████████████████████████████████████████████████████████████████████████████████████████| 156/156 [00:16<00:00,  9.37it/s]"
     ]
    },
    {
     "name": "stdout",
     "output_type": "stream",
     "text": [
      "Adjusting learning rate of group 0 to 2.0000e-10.\n"
     ]
    },
    {
     "name": "stderr",
     "output_type": "stream",
     "text": [
      "\n"
     ]
    },
    {
     "name": "stdout",
     "output_type": "stream",
     "text": [
      "Epoch 63 | Time 1215s| Train Loss 0.0630 | Train Acc 97.95| Val Loss 0.481 | Val Acc 87.36| Trigger Loss 0.000 | Trigger Acc 100.00\n"
     ]
    },
    {
     "name": "stderr",
     "output_type": "stream",
     "text": [
      "100%|██████████████████████████████████████████████████████████████████████████████████████████████████████████████████████████████████████████████████████████████████████████████████████████████████████| 156/156 [00:16<00:00,  9.38it/s]"
     ]
    },
    {
     "name": "stdout",
     "output_type": "stream",
     "text": [
      "Adjusting learning rate of group 0 to 2.0000e-10.\n"
     ]
    },
    {
     "name": "stderr",
     "output_type": "stream",
     "text": [
      "\n"
     ]
    },
    {
     "name": "stdout",
     "output_type": "stream",
     "text": [
      "Epoch 64 | Time 1234s| Train Loss 0.0618 | Train Acc 98.01| Val Loss 0.481 | Val Acc 87.44| Trigger Loss 0.001 | Trigger Acc 100.00\n"
     ]
    },
    {
     "name": "stderr",
     "output_type": "stream",
     "text": [
      "100%|██████████████████████████████████████████████████████████████████████████████████████████████████████████████████████████████████████████████████████████████████████████████████████████████████████| 156/156 [00:16<00:00,  9.38it/s]"
     ]
    },
    {
     "name": "stdout",
     "output_type": "stream",
     "text": [
      "Adjusting learning rate of group 0 to 2.0000e-10.\n"
     ]
    },
    {
     "name": "stderr",
     "output_type": "stream",
     "text": [
      "\n"
     ]
    },
    {
     "name": "stdout",
     "output_type": "stream",
     "text": [
      "Epoch 65 | Time 1253s| Train Loss 0.0610 | Train Acc 98.06| Val Loss 0.485 | Val Acc 87.21| Trigger Loss 0.001 | Trigger Acc 100.00\n"
     ]
    },
    {
     "name": "stderr",
     "output_type": "stream",
     "text": [
      "100%|██████████████████████████████████████████████████████████████████████████████████████████████████████████████████████████████████████████████████████████████████████████████████████████████████████| 156/156 [00:16<00:00,  9.37it/s]"
     ]
    },
    {
     "name": "stdout",
     "output_type": "stream",
     "text": [
      "Adjusting learning rate of group 0 to 2.0000e-10.\n"
     ]
    },
    {
     "name": "stderr",
     "output_type": "stream",
     "text": [
      "\n"
     ]
    },
    {
     "name": "stdout",
     "output_type": "stream",
     "text": [
      "Epoch 66 | Time 1272s| Train Loss 0.0637 | Train Acc 97.91| Val Loss 0.481 | Val Acc 87.26| Trigger Loss 0.000 | Trigger Acc 100.00\n"
     ]
    },
    {
     "name": "stderr",
     "output_type": "stream",
     "text": [
      "100%|██████████████████████████████████████████████████████████████████████████████████████████████████████████████████████████████████████████████████████████████████████████████████████████████████████| 156/156 [00:16<00:00,  9.39it/s]"
     ]
    },
    {
     "name": "stdout",
     "output_type": "stream",
     "text": [
      "Adjusting learning rate of group 0 to 2.0000e-10.\n"
     ]
    },
    {
     "name": "stderr",
     "output_type": "stream",
     "text": [
      "\n"
     ]
    },
    {
     "name": "stdout",
     "output_type": "stream",
     "text": [
      "Epoch 67 | Time 1291s| Train Loss 0.0626 | Train Acc 97.94| Val Loss 0.480 | Val Acc 87.36| Trigger Loss 0.001 | Trigger Acc 100.00\n"
     ]
    },
    {
     "name": "stderr",
     "output_type": "stream",
     "text": [
      "100%|██████████████████████████████████████████████████████████████████████████████████████████████████████████████████████████████████████████████████████████████████████████████████████████████████████| 156/156 [00:16<00:00,  9.38it/s]"
     ]
    },
    {
     "name": "stdout",
     "output_type": "stream",
     "text": [
      "Adjusting learning rate of group 0 to 2.0000e-10.\n"
     ]
    },
    {
     "name": "stderr",
     "output_type": "stream",
     "text": [
      "\n"
     ]
    },
    {
     "name": "stdout",
     "output_type": "stream",
     "text": [
      "Epoch 68 | Time 1309s| Train Loss 0.0633 | Train Acc 97.95| Val Loss 0.481 | Val Acc 87.38| Trigger Loss 0.000 | Trigger Acc 100.00\n"
     ]
    },
    {
     "name": "stderr",
     "output_type": "stream",
     "text": [
      "100%|██████████████████████████████████████████████████████████████████████████████████████████████████████████████████████████████████████████████████████████████████████████████████████████████████████| 156/156 [00:16<00:00,  9.37it/s]"
     ]
    },
    {
     "name": "stdout",
     "output_type": "stream",
     "text": [
      "Adjusting learning rate of group 0 to 2.0000e-11.\n"
     ]
    },
    {
     "name": "stderr",
     "output_type": "stream",
     "text": [
      "\n"
     ]
    },
    {
     "name": "stdout",
     "output_type": "stream",
     "text": [
      "Epoch 69 | Time 1328s| Train Loss 0.0630 | Train Acc 97.96| Val Loss 0.480 | Val Acc 87.27| Trigger Loss 0.000 | Trigger Acc 100.00\n"
     ]
    },
    {
     "name": "stderr",
     "output_type": "stream",
     "text": [
      "100%|██████████████████████████████████████████████████████████████████████████████████████████████████████████████████████████████████████████████████████████████████████████████████████████████████████| 156/156 [00:16<00:00,  9.38it/s]"
     ]
    },
    {
     "name": "stdout",
     "output_type": "stream",
     "text": [
      "Adjusting learning rate of group 0 to 2.0000e-11.\n"
     ]
    },
    {
     "name": "stderr",
     "output_type": "stream",
     "text": [
      "\n"
     ]
    },
    {
     "name": "stdout",
     "output_type": "stream",
     "text": [
      "Epoch 70 | Time 1347s| Train Loss 0.0614 | Train Acc 98.07| Val Loss 0.483 | Val Acc 87.28| Trigger Loss 0.000 | Trigger Acc 100.00\n"
     ]
    },
    {
     "name": "stderr",
     "output_type": "stream",
     "text": [
      "100%|██████████████████████████████████████████████████████████████████████████████████████████████████████████████████████████████████████████████████████████████████████████████████████████████████████| 156/156 [00:16<00:00,  9.38it/s]"
     ]
    },
    {
     "name": "stdout",
     "output_type": "stream",
     "text": [
      "Adjusting learning rate of group 0 to 2.0000e-11.\n"
     ]
    },
    {
     "name": "stderr",
     "output_type": "stream",
     "text": [
      "\n"
     ]
    },
    {
     "name": "stdout",
     "output_type": "stream",
     "text": [
      "Epoch 71 | Time 1366s| Train Loss 0.0632 | Train Acc 97.97| Val Loss 0.480 | Val Acc 87.17| Trigger Loss 0.001 | Trigger Acc 100.00\n"
     ]
    },
    {
     "name": "stderr",
     "output_type": "stream",
     "text": [
      "100%|██████████████████████████████████████████████████████████████████████████████████████████████████████████████████████████████████████████████████████████████████████████████████████████████████████| 156/156 [00:16<00:00,  9.38it/s]"
     ]
    },
    {
     "name": "stdout",
     "output_type": "stream",
     "text": [
      "Adjusting learning rate of group 0 to 2.0000e-11.\n"
     ]
    },
    {
     "name": "stderr",
     "output_type": "stream",
     "text": [
      "\n"
     ]
    },
    {
     "name": "stdout",
     "output_type": "stream",
     "text": [
      "Epoch 72 | Time 1385s| Train Loss 0.0624 | Train Acc 98.03| Val Loss 0.481 | Val Acc 87.35| Trigger Loss 0.000 | Trigger Acc 100.00\n"
     ]
    },
    {
     "name": "stderr",
     "output_type": "stream",
     "text": [
      "100%|██████████████████████████████████████████████████████████████████████████████████████████████████████████████████████████████████████████████████████████████████████████████████████████████████████| 156/156 [00:16<00:00,  9.38it/s]"
     ]
    },
    {
     "name": "stdout",
     "output_type": "stream",
     "text": [
      "Adjusting learning rate of group 0 to 2.0000e-11.\n"
     ]
    },
    {
     "name": "stderr",
     "output_type": "stream",
     "text": [
      "\n"
     ]
    },
    {
     "name": "stdout",
     "output_type": "stream",
     "text": [
      "Epoch 73 | Time 1404s| Train Loss 0.0615 | Train Acc 98.03| Val Loss 0.482 | Val Acc 87.42| Trigger Loss 0.001 | Trigger Acc 100.00\n"
     ]
    },
    {
     "name": "stderr",
     "output_type": "stream",
     "text": [
      "100%|██████████████████████████████████████████████████████████████████████████████████████████████████████████████████████████████████████████████████████████████████████████████████████████████████████| 156/156 [00:16<00:00,  9.38it/s]"
     ]
    },
    {
     "name": "stdout",
     "output_type": "stream",
     "text": [
      "Adjusting learning rate of group 0 to 2.0000e-11.\n"
     ]
    },
    {
     "name": "stderr",
     "output_type": "stream",
     "text": [
      "\n"
     ]
    },
    {
     "name": "stdout",
     "output_type": "stream",
     "text": [
      "Epoch 74 | Time 1423s| Train Loss 0.0647 | Train Acc 97.84| Val Loss 0.481 | Val Acc 87.25| Trigger Loss 0.000 | Trigger Acc 100.00\n"
     ]
    },
    {
     "name": "stderr",
     "output_type": "stream",
     "text": [
      "100%|██████████████████████████████████████████████████████████████████████████████████████████████████████████████████████████████████████████████████████████████████████████████████████████████████████| 156/156 [00:16<00:00,  9.38it/s]"
     ]
    },
    {
     "name": "stdout",
     "output_type": "stream",
     "text": [
      "Adjusting learning rate of group 0 to 2.0000e-11.\n"
     ]
    },
    {
     "name": "stderr",
     "output_type": "stream",
     "text": [
      "\n"
     ]
    },
    {
     "name": "stdout",
     "output_type": "stream",
     "text": [
      "Epoch 75 | Time 1442s| Train Loss 0.0632 | Train Acc 97.89| Val Loss 0.481 | Val Acc 87.35| Trigger Loss 0.001 | Trigger Acc 100.00\n"
     ]
    },
    {
     "name": "stderr",
     "output_type": "stream",
     "text": [
      "100%|██████████████████████████████████████████████████████████████████████████████████████████████████████████████████████████████████████████████████████████████████████████████████████████████████████| 156/156 [00:16<00:00,  9.39it/s]"
     ]
    },
    {
     "name": "stdout",
     "output_type": "stream",
     "text": [
      "Adjusting learning rate of group 0 to 2.0000e-11.\n"
     ]
    },
    {
     "name": "stderr",
     "output_type": "stream",
     "text": [
      "\n"
     ]
    },
    {
     "name": "stdout",
     "output_type": "stream",
     "text": [
      "Epoch 76 | Time 1461s| Train Loss 0.0625 | Train Acc 97.99| Val Loss 0.480 | Val Acc 87.27| Trigger Loss 0.000 | Trigger Acc 100.00\n"
     ]
    },
    {
     "name": "stderr",
     "output_type": "stream",
     "text": [
      "100%|██████████████████████████████████████████████████████████████████████████████████████████████████████████████████████████████████████████████████████████████████████████████████████████████████████| 156/156 [00:16<00:00,  9.38it/s]"
     ]
    },
    {
     "name": "stdout",
     "output_type": "stream",
     "text": [
      "Adjusting learning rate of group 0 to 2.0000e-11.\n"
     ]
    },
    {
     "name": "stderr",
     "output_type": "stream",
     "text": [
      "\n"
     ]
    },
    {
     "name": "stdout",
     "output_type": "stream",
     "text": [
      "Epoch 77 | Time 1480s| Train Loss 0.0612 | Train Acc 98.03| Val Loss 0.482 | Val Acc 87.39| Trigger Loss 0.000 | Trigger Acc 100.00\n"
     ]
    },
    {
     "name": "stderr",
     "output_type": "stream",
     "text": [
      "100%|██████████████████████████████████████████████████████████████████████████████████████████████████████████████████████████████████████████████████████████████████████████████████████████████████████| 156/156 [00:16<00:00,  9.38it/s]"
     ]
    },
    {
     "name": "stdout",
     "output_type": "stream",
     "text": [
      "Adjusting learning rate of group 0 to 2.0000e-11.\n"
     ]
    },
    {
     "name": "stderr",
     "output_type": "stream",
     "text": [
      "\n"
     ]
    },
    {
     "name": "stdout",
     "output_type": "stream",
     "text": [
      "Epoch 78 | Time 1499s| Train Loss 0.0650 | Train Acc 97.83| Val Loss 0.481 | Val Acc 87.34| Trigger Loss 0.000 | Trigger Acc 100.00\n"
     ]
    },
    {
     "name": "stderr",
     "output_type": "stream",
     "text": [
      "100%|██████████████████████████████████████████████████████████████████████████████████████████████████████████████████████████████████████████████████████████████████████████████████████████████████████| 156/156 [00:16<00:00,  9.38it/s]"
     ]
    },
    {
     "name": "stdout",
     "output_type": "stream",
     "text": [
      "Adjusting learning rate of group 0 to 2.0000e-12.\n"
     ]
    },
    {
     "name": "stderr",
     "output_type": "stream",
     "text": [
      "\n"
     ]
    },
    {
     "name": "stdout",
     "output_type": "stream",
     "text": [
      "Epoch 79 | Time 1518s| Train Loss 0.0625 | Train Acc 98.00| Val Loss 0.482 | Val Acc 87.25| Trigger Loss 0.000 | Trigger Acc 100.00\n"
     ]
    },
    {
     "data": {
      "text/plain": [
       "{'train_acc': [88.47024308466051,\n",
       "  89.91617770326907,\n",
       "  90.57418273260687,\n",
       "  91.26362112321877,\n",
       "  91.59681475272421,\n",
       "  91.86085498742665,\n",
       "  92.3512154233026,\n",
       "  92.81014249790445,\n",
       "  93.13076278290026,\n",
       "  93.28583403185247,\n",
       "  95.46730930427493,\n",
       "  96.32020117351216,\n",
       "  96.61777032690696,\n",
       "  96.69949706621962,\n",
       "  96.74140821458508,\n",
       "  96.98868398994132,\n",
       "  97.09555741827326,\n",
       "  97.19404861693211,\n",
       "  97.54191114836547,\n",
       "  97.37217099748533,\n",
       "  97.75984911986588,\n",
       "  97.7891869237217,\n",
       "  97.93797150041911,\n",
       "  97.80595138306789,\n",
       "  97.88558256496228,\n",
       "  97.90444258172674,\n",
       "  97.8688181056161,\n",
       "  97.87510477787092,\n",
       "  97.87510477787092,\n",
       "  97.95264040234703,\n",
       "  97.99036043587594,\n",
       "  97.8918692372171,\n",
       "  97.883487007544,\n",
       "  97.90653813914501,\n",
       "  97.97569153394802,\n",
       "  98.02179379715004,\n",
       "  98.03017602682314,\n",
       "  97.883487007544,\n",
       "  97.93587594300084,\n",
       "  98.0322715842414,\n",
       "  97.95892707460185,\n",
       "  98.0176026823135,\n",
       "  97.98197820620285,\n",
       "  97.89396479463537,\n",
       "  97.94216261525565,\n",
       "  97.9945515507125,\n",
       "  97.97778709136631,\n",
       "  97.94635373009221,\n",
       "  97.88767812238055,\n",
       "  97.97988264878458,\n",
       "  97.89396479463537,\n",
       "  97.95264040234703,\n",
       "  97.91701592623639,\n",
       "  97.98197820620285,\n",
       "  97.97988264878458,\n",
       "  98.09932942162615,\n",
       "  97.96311818943839,\n",
       "  97.95683151718357,\n",
       "  97.9861693210394,\n",
       "  97.95683151718357,\n",
       "  97.98197820620285,\n",
       "  97.85414920368818,\n",
       "  97.92749371332773,\n",
       "  97.94844928751047,\n",
       "  98.00712489522213,\n",
       "  98.0574182732607,\n",
       "  97.91072925398156,\n",
       "  97.94006705783738,\n",
       "  97.94844928751047,\n",
       "  97.96102263202012,\n",
       "  98.06580050293377,\n",
       "  97.9694048616932,\n",
       "  98.02808046940487,\n",
       "  98.02598491198658,\n",
       "  97.84157585917855,\n",
       "  97.88767812238055,\n",
       "  97.98826487845767,\n",
       "  98.0322715842414,\n",
       "  97.83319362950544,\n",
       "  97.99874266554903],\n",
       " 'train_loss': [0.338806386072148,\n",
       "  0.2843442672293724,\n",
       "  0.2683030632807743,\n",
       "  0.252007346509738,\n",
       "  0.24070682154542142,\n",
       "  0.22968667559107112,\n",
       "  0.21863816415848897,\n",
       "  0.20558117814455729,\n",
       "  0.1948028723569548,\n",
       "  0.18795271487617732,\n",
       "  0.1326648742959765,\n",
       "  0.11102879141728267,\n",
       "  0.10288725226855239,\n",
       "  0.09838672233909393,\n",
       "  0.09522381060243852,\n",
       "  0.09055824885824,\n",
       "  0.08809416878809223,\n",
       "  0.08393579101578738,\n",
       "  0.07686878104771473,\n",
       "  0.07720099940883544,\n",
       "  0.06930555304588885,\n",
       "  0.06749821115044716,\n",
       "  0.06660007443856714,\n",
       "  0.06676514099156117,\n",
       "  0.06516865835105883,\n",
       "  0.06556371066622492,\n",
       "  0.06436153190258863,\n",
       "  0.06501131829979759,\n",
       "  0.06579411842197505,\n",
       "  0.06384457822042859,\n",
       "  0.06330326820480929,\n",
       "  0.06362563937290416,\n",
       "  0.06400222775291367,\n",
       "  0.06494002107918037,\n",
       "  0.06245599710378618,\n",
       "  0.06406408456565574,\n",
       "  0.06122622569993276,\n",
       "  0.06454100502968733,\n",
       "  0.06385122200119725,\n",
       "  0.062345040814712184,\n",
       "  0.06254646965307992,\n",
       "  0.06181938570595447,\n",
       "  0.06366769814300167,\n",
       "  0.06366804291455938,\n",
       "  0.06327255098438023,\n",
       "  0.06311209334399355,\n",
       "  0.06285088653773793,\n",
       "  0.06212099072244721,\n",
       "  0.06414046843379287,\n",
       "  0.06212462595377464,\n",
       "  0.06366604411004975,\n",
       "  0.06324345086297616,\n",
       "  0.06353925945235718,\n",
       "  0.06274642673385862,\n",
       "  0.0636940344048653,\n",
       "  0.061227494894783734,\n",
       "  0.06330531432737549,\n",
       "  0.061823760974474645,\n",
       "  0.06294525427508034,\n",
       "  0.06401427395841652,\n",
       "  0.06376070834271616,\n",
       "  0.0640492726109566,\n",
       "  0.06354422970001226,\n",
       "  0.06299079894170177,\n",
       "  0.06178881491082412,\n",
       "  0.061008644588635134,\n",
       "  0.06370162114326132,\n",
       "  0.06263148694471686,\n",
       "  0.06334154287139258,\n",
       "  0.06301222341658183,\n",
       "  0.061441112820243296,\n",
       "  0.06316387643982958,\n",
       "  0.06241457175778823,\n",
       "  0.06149758055512633,\n",
       "  0.06470852200432126,\n",
       "  0.06315259426919632,\n",
       "  0.06249110503473506,\n",
       "  0.061233112976354705,\n",
       "  0.0649727527592378,\n",
       "  0.0625412466405748],\n",
       " 'val_acc': [83.64,\n",
       "  83.26,\n",
       "  84.28999999999999,\n",
       "  82.88,\n",
       "  82.39999999999999,\n",
       "  84.26,\n",
       "  83.8,\n",
       "  80.85,\n",
       "  85.15,\n",
       "  83.58,\n",
       "  86.94,\n",
       "  87.13,\n",
       "  87.16000000000001,\n",
       "  87.14,\n",
       "  87.28,\n",
       "  87.44,\n",
       "  87.06,\n",
       "  87.15,\n",
       "  87.21,\n",
       "  87.08,\n",
       "  87.18,\n",
       "  87.28,\n",
       "  87.29,\n",
       "  87.22999999999999,\n",
       "  87.25,\n",
       "  87.33,\n",
       "  87.2,\n",
       "  87.35000000000001,\n",
       "  87.32,\n",
       "  87.32,\n",
       "  87.3,\n",
       "  87.28,\n",
       "  87.33999999999999,\n",
       "  87.31,\n",
       "  87.21,\n",
       "  87.24,\n",
       "  87.36,\n",
       "  87.26,\n",
       "  87.31,\n",
       "  87.36,\n",
       "  87.32,\n",
       "  87.31,\n",
       "  87.22,\n",
       "  87.27000000000001,\n",
       "  87.35000000000001,\n",
       "  87.24,\n",
       "  87.33999999999999,\n",
       "  87.25,\n",
       "  87.38,\n",
       "  87.36,\n",
       "  87.45,\n",
       "  87.39,\n",
       "  87.19,\n",
       "  87.3,\n",
       "  87.3,\n",
       "  87.4,\n",
       "  87.36,\n",
       "  87.4,\n",
       "  87.25,\n",
       "  87.29,\n",
       "  87.35000000000001,\n",
       "  87.26,\n",
       "  87.26,\n",
       "  87.36,\n",
       "  87.44,\n",
       "  87.21,\n",
       "  87.26,\n",
       "  87.36,\n",
       "  87.38,\n",
       "  87.27000000000001,\n",
       "  87.28,\n",
       "  87.17,\n",
       "  87.35000000000001,\n",
       "  87.42,\n",
       "  87.25,\n",
       "  87.35000000000001,\n",
       "  87.27000000000001,\n",
       "  87.39,\n",
       "  87.33999999999999,\n",
       "  87.25],\n",
       " 'val_loss': [0.4919654016971588,\n",
       "  0.5197298000335694,\n",
       "  0.4926288041114807,\n",
       "  0.5361658122777939,\n",
       "  0.5644228600502014,\n",
       "  0.49367695746421814,\n",
       "  0.5136224911689758,\n",
       "  0.6666765092849731,\n",
       "  0.5079443031072617,\n",
       "  0.5682623984813691,\n",
       "  0.425214014005661,\n",
       "  0.43097470147013667,\n",
       "  0.43557141201496125,\n",
       "  0.4480162687420845,\n",
       "  0.4449819400548935,\n",
       "  0.45023471710681917,\n",
       "  0.46638653569221494,\n",
       "  0.46700609056949616,\n",
       "  0.46990982334017756,\n",
       "  0.47972223879694936,\n",
       "  0.4751125410735607,\n",
       "  0.474843632376194,\n",
       "  0.47461063504219053,\n",
       "  0.47671406690478324,\n",
       "  0.47735660110116007,\n",
       "  0.4787199065566063,\n",
       "  0.48193356139063837,\n",
       "  0.4768631702184677,\n",
       "  0.479821396613121,\n",
       "  0.48083632307052615,\n",
       "  0.4789909124791622,\n",
       "  0.4810345834553242,\n",
       "  0.4827543740570545,\n",
       "  0.48174018725156786,\n",
       "  0.4810388594865799,\n",
       "  0.48142718120217326,\n",
       "  0.48133128487467763,\n",
       "  0.48095670776963234,\n",
       "  0.480634712690115,\n",
       "  0.4799509669780731,\n",
       "  0.48069723000526426,\n",
       "  0.4820001121401787,\n",
       "  0.482633658015728,\n",
       "  0.4828362918257713,\n",
       "  0.48208523037433626,\n",
       "  0.4822102267563343,\n",
       "  0.48071725966334344,\n",
       "  0.4824887154459953,\n",
       "  0.4800070612370968,\n",
       "  0.4831458431482315,\n",
       "  0.48145355904102327,\n",
       "  0.4835570974469185,\n",
       "  0.47973841323256494,\n",
       "  0.4810494439542293,\n",
       "  0.48350845242142676,\n",
       "  0.4827419659733772,\n",
       "  0.4802899146914482,\n",
       "  0.4815727765977383,\n",
       "  0.48369605726003645,\n",
       "  0.481340824598074,\n",
       "  0.4811605675697327,\n",
       "  0.4841079240679741,\n",
       "  0.48122440921068194,\n",
       "  0.4811874215900898,\n",
       "  0.4809216297984123,\n",
       "  0.48469675475358964,\n",
       "  0.48127487753629683,\n",
       "  0.4801175215125084,\n",
       "  0.4813049295604229,\n",
       "  0.47975972019433977,\n",
       "  0.4827584310233593,\n",
       "  0.47952183430194856,\n",
       "  0.4814574894428253,\n",
       "  0.4822596098959446,\n",
       "  0.4811943271994591,\n",
       "  0.48068798090815545,\n",
       "  0.48010561764240267,\n",
       "  0.4816341437339783,\n",
       "  0.4814292756378651,\n",
       "  0.4817697806537151],\n",
       " 'trigger_acc': [100.0,\n",
       "  100.0,\n",
       "  100.0,\n",
       "  100.0,\n",
       "  100.0,\n",
       "  100.0,\n",
       "  100.0,\n",
       "  100.0,\n",
       "  100.0,\n",
       "  100.0,\n",
       "  100.0,\n",
       "  100.0,\n",
       "  100.0,\n",
       "  100.0,\n",
       "  100.0,\n",
       "  100.0,\n",
       "  100.0,\n",
       "  100.0,\n",
       "  100.0,\n",
       "  100.0,\n",
       "  100.0,\n",
       "  100.0,\n",
       "  100.0,\n",
       "  100.0,\n",
       "  100.0,\n",
       "  100.0,\n",
       "  100.0,\n",
       "  100.0,\n",
       "  100.0,\n",
       "  100.0,\n",
       "  100.0,\n",
       "  100.0,\n",
       "  100.0,\n",
       "  100.0,\n",
       "  100.0,\n",
       "  100.0,\n",
       "  100.0,\n",
       "  100.0,\n",
       "  100.0,\n",
       "  100.0,\n",
       "  100.0,\n",
       "  100.0,\n",
       "  100.0,\n",
       "  100.0,\n",
       "  100.0,\n",
       "  100.0,\n",
       "  100.0,\n",
       "  100.0,\n",
       "  100.0,\n",
       "  100.0,\n",
       "  100.0,\n",
       "  100.0,\n",
       "  100.0,\n",
       "  100.0,\n",
       "  100.0,\n",
       "  100.0,\n",
       "  100.0,\n",
       "  100.0,\n",
       "  100.0,\n",
       "  100.0,\n",
       "  100.0,\n",
       "  100.0,\n",
       "  100.0,\n",
       "  100.0,\n",
       "  100.0,\n",
       "  100.0,\n",
       "  100.0,\n",
       "  100.0,\n",
       "  100.0,\n",
       "  100.0,\n",
       "  100.0,\n",
       "  100.0,\n",
       "  100.0,\n",
       "  100.0,\n",
       "  100.0,\n",
       "  100.0,\n",
       "  100.0,\n",
       "  100.0,\n",
       "  100.0,\n",
       "  100.0],\n",
       " 'trigger_loss': [0.0005135163385421037,\n",
       "  7.075149798765778e-05,\n",
       "  0.000910510802641511,\n",
       "  2.6449192664586007e-05,\n",
       "  0.0058345400914549825,\n",
       "  7.025250000879169e-05,\n",
       "  0.0033289285376667975,\n",
       "  0.0009558802889660001,\n",
       "  0.0019833796657621862,\n",
       "  0.0012599948095157743,\n",
       "  0.0004891631926875562,\n",
       "  0.0006557639711536467,\n",
       "  0.0005121990782208741,\n",
       "  0.0004731767030898482,\n",
       "  0.0005131286242976785,\n",
       "  0.0004041180689819157,\n",
       "  0.0007179859350435435,\n",
       "  0.0004414451005868614,\n",
       "  0.00031872823368757965,\n",
       "  0.0005000059586018324,\n",
       "  0.0005590888834558428,\n",
       "  0.0004988864343613386,\n",
       "  0.00043924376368522646,\n",
       "  0.0004985740943811834,\n",
       "  0.0005035955039784313,\n",
       "  0.0004854801413603127,\n",
       "  0.00048552080057561397,\n",
       "  0.0004248532105702907,\n",
       "  0.0004920185706578195,\n",
       "  0.0005282879795413465,\n",
       "  0.0004646794276777655,\n",
       "  0.0004617191618308425,\n",
       "  0.00039684142218902706,\n",
       "  0.0004817977198399603,\n",
       "  0.0004613148444332182,\n",
       "  0.0004121843643952161,\n",
       "  0.00045397857669740913,\n",
       "  0.000483098067343235,\n",
       "  0.00045800156192854046,\n",
       "  0.0005468067224137486,\n",
       "  0.00040892113582231105,\n",
       "  0.000484344830038026,\n",
       "  0.00048224395257420835,\n",
       "  0.0005043686530552805,\n",
       "  0.0005083525704685599,\n",
       "  0.00045499162748456,\n",
       "  0.00044658630271442233,\n",
       "  0.0004299676534719765,\n",
       "  0.0005023530661128462,\n",
       "  0.0004889131558593363,\n",
       "  0.000519712707027793,\n",
       "  0.0004676343151368201,\n",
       "  0.0004213511862326413,\n",
       "  0.00044714713003486396,\n",
       "  0.00045240568346343934,\n",
       "  0.00045360221760347484,\n",
       "  0.00045223715947940947,\n",
       "  0.0005160521739162505,\n",
       "  0.00046275497879832983,\n",
       "  0.0005399452662095427,\n",
       "  0.0004845544043928385,\n",
       "  0.0005170388566330075,\n",
       "  0.00043792352313175797,\n",
       "  0.00048145050881430505,\n",
       "  0.000551640479825437,\n",
       "  0.0005050846748054028,\n",
       "  0.00045177849475294354,\n",
       "  0.0005192309222184122,\n",
       "  0.00047353976988233625,\n",
       "  0.0004433022649027407,\n",
       "  0.0004240302508696914,\n",
       "  0.0005115233291871846,\n",
       "  0.0004773950856178999,\n",
       "  0.0005323072080500423,\n",
       "  0.0004034998780116439,\n",
       "  0.000502432375214994,\n",
       "  0.0004337419068906456,\n",
       "  0.0004200101108290255,\n",
       "  0.00048703761654905975,\n",
       "  0.0004251653584651649]}"
      ]
     },
     "execution_count": 11,
     "metadata": {},
     "output_type": "execute_result"
    }
   ],
   "source": [
    "# normal watermark\n",
    "net = ResNet18()\n",
    "logcmt = f\"resnet18_8020_trigger_finetune\"\n",
    "net.load_state_dict(torch.load('checkpoints/resnet18_8020.ckpt'))\n",
    "optimizer = torch.optim.Adam(params=net.parameters(), lr=2e-4, weight_decay=1e-4)\n",
    "criterion = nn.CrossEntropyLoss()\n",
    "scheduler = torch.optim.lr_scheduler.StepLR(optimizer, step_size=10, gamma=0.1, verbose=True)\n",
    "trainer = Trainer(net, criterion, optimizer, train_loader=trainloader, trigger_loader=unrelatedloader, use_trigger=True, scheduler=scheduler)\n",
    "evaluator = Evaluator(net, criterion)\n",
    "train(trainer, evaluator, testloader, 80, 'checkpoints/resnet18_wm_8020_unrl.ckpt',\n",
    "      logdir='./runs', logcmt=logcmt, trigger_loader=unrelatedloader)"
   ]
  },
  {
   "cell_type": "code",
   "execution_count": null,
   "id": "e3fa2a94-12bd-425d-a9f1-8003935382c6",
   "metadata": {},
   "outputs": [],
   "source": []
  },
  {
   "cell_type": "code",
   "execution_count": null,
   "id": "4a04c0b9-fd34-41e0-bed2-5c2992160542",
   "metadata": {},
   "outputs": [],
   "source": []
  }
 ],
 "metadata": {
  "kernelspec": {
   "display_name": "Python 3 (ipykernel)",
   "language": "python",
   "name": "python3"
  },
  "language_info": {
   "codemirror_mode": {
    "name": "ipython",
    "version": 3
   },
   "file_extension": ".py",
   "mimetype": "text/x-python",
   "name": "python",
   "nbconvert_exporter": "python",
   "pygments_lexer": "ipython3",
   "version": "3.10.6"
  }
 },
 "nbformat": 4,
 "nbformat_minor": 5
}
