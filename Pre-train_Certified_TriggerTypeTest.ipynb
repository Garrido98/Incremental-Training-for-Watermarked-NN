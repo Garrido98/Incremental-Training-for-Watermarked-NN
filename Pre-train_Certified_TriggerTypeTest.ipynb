{
 "cells": [
  {
   "cell_type": "code",
   "execution_count": 1,
   "id": "95024f78-c2bf-476b-96ce-730fc1c1e22a",
   "metadata": {},
   "outputs": [],
   "source": [
    "import sys\n",
    "sys.path.append(\"..\")\n",
    "\n",
    "import numpy as np\n",
    "from train_utils import Trainer, Evaluator, train, train_certified_wm\n",
    "\n",
    "import torchvision\n",
    "from PIL import Image\n",
    "import torch\n",
    "from torch import nn\n",
    "from torch.utils.data import Dataset, DataLoader, SubsetRandomSampler\n",
    "from torchvision import datasets, transforms"
   ]
  },
  {
   "cell_type": "code",
   "execution_count": 2,
   "id": "7e145331-041c-4c63-8d65-2722e9f12350",
   "metadata": {},
   "outputs": [
    {
     "name": "stdout",
     "output_type": "stream",
     "text": [
      "==> Preparing data..\n"
     ]
    }
   ],
   "source": [
    "print('==> Preparing data..')\n",
    "transform_train = transforms.Compose([\n",
    "    transforms.RandomCrop(32, padding=4),\n",
    "    transforms.RandomHorizontalFlip(),\n",
    "    transforms.ToTensor(),\n",
    "    transforms.Normalize((0.4914, 0.4822, 0.4465), (0.2023, 0.1994, 0.2010)),\n",
    "])\n",
    "\n",
    "transform_test = transforms.Compose([\n",
    "    transforms.ToTensor(),\n",
    "    transforms.Normalize((0.4914, 0.4822, 0.4465), (0.2023, 0.1994, 0.2010)),\n",
    "])\n"
   ]
  },
  {
   "cell_type": "code",
   "execution_count": 3,
   "id": "26c6b031-249f-47ba-8cc1-a2d21a6a19e4",
   "metadata": {},
   "outputs": [],
   "source": [
    "def watermark_unrelated(new_label=4, count=100):\n",
    "    np.random.seed(20)\n",
    "    trainset = torchvision.datasets.MNIST(\n",
    "        root='./data', train=True, download=True)\n",
    "    watermarkset = []\n",
    "    for idx in range(len(trainset)):\n",
    "        img, label = trainset[idx]\n",
    "        img = transforms.Resize((32,32))(img)\n",
    "        img = transforms.ToTensor()(img)\n",
    "        img = img.repeat(3, 1, 1)\n",
    "        if idx == 0:\n",
    "          x = (img.permute(1, 2, 0).numpy()*255).astype(np.uint8)\n",
    "          #x = x[:,:,0]\n",
    "          x = Image.fromarray(x)\n",
    "          display(x)\n",
    "          print(img.shape)\n",
    "        img = transforms.Normalize((0.4914, 0.4822, 0.4465), (0.2023, 0.1994, 0.2010))(img)\n",
    "        label = new_label\n",
    "        watermarkset.append((img, label))\n",
    "        if len(watermarkset) == count:\n",
    "            return watermarkset\n",
    "def generate_random_trigger(data_path):\n",
    "    np.random.seed(20)\n",
    "    adv_trigger_path = os.path.join(data_path, 'with_trigger/trigger_random')\n",
    "    os.makedirs(adv_trigger_path, exist_ok=True)\n",
    "    trigger_data = datasets.ImageFolder(os.path.join(data_path, \"with_trigger/trigger_clean\"))\n",
    "    writer = csv.writer(open(os.path.join(adv_trigger_path, \"labels.csv\"), \"w\"))\n",
    "    writer.writerow(['filename', 'gt_label', 'assigned_label'])\n",
    "    for idx, (x, y) in enumerate(trigger_data):\n",
    "        filename = trigger_data.imgs[idx][0].rsplit('/', 1)[-1]\n",
    "        final_labels = [i for i in range(len(trigger_data.classes)) if i != y]\n",
    "        assigned_label = np.random.choice(final_labels)\n",
    "        save_path = os.path.join(adv_trigger_path, trigger_data.classes[assigned_label])\n",
    "        os.makedirs(save_path, exist_ok=True)\n",
    "        x.save(os.path.join(save_path, filename))\n",
    "        writer.writerow([filename, trigger_data.classes[y], trigger_data.classes[assigned_label]])        "
   ]
  },
  {
   "cell_type": "code",
   "execution_count": 4,
   "id": "395408c4-2304-4af9-9119-2f33fe79784a",
   "metadata": {},
   "outputs": [
    {
     "name": "stdout",
     "output_type": "stream",
     "text": [
      "torch.Size([1, 10])\n"
     ]
    }
   ],
   "source": [
    "import torch\n",
    "import torch.nn as nn\n",
    "import torch.nn.functional as F\n",
    "\n",
    "\n",
    "class BasicBlock(nn.Module):\n",
    "    expansion = 1\n",
    "\n",
    "    def __init__(self, in_planes, planes, stride=1):\n",
    "        super(BasicBlock, self).__init__()\n",
    "        self.conv1 = nn.Conv2d(\n",
    "            in_planes, planes, kernel_size=3, stride=stride, padding=1, bias=False)\n",
    "        self.bn1 = nn.BatchNorm2d(planes)\n",
    "        self.conv2 = nn.Conv2d(planes, planes, kernel_size=3,\n",
    "                               stride=1, padding=1, bias=False)\n",
    "        self.bn2 = nn.BatchNorm2d(planes)\n",
    "\n",
    "        self.shortcut = nn.Sequential()\n",
    "        if stride != 1 or in_planes != self.expansion*planes:\n",
    "            self.shortcut = nn.Sequential(\n",
    "                nn.Conv2d(in_planes, self.expansion*planes,\n",
    "                          kernel_size=1, stride=stride, bias=False),\n",
    "                nn.BatchNorm2d(self.expansion*planes)\n",
    "            )\n",
    "\n",
    "    def forward(self, x):\n",
    "        out = F.relu(self.bn1(self.conv1(x)))\n",
    "        out = self.bn2(self.conv2(out))\n",
    "        out += self.shortcut(x)\n",
    "        out = F.relu(out)\n",
    "        return out\n",
    "\n",
    "\n",
    "class Bottleneck(nn.Module):\n",
    "    expansion = 4\n",
    "\n",
    "    def __init__(self, in_planes, planes, stride=1):\n",
    "        super(Bottleneck, self).__init__()\n",
    "        self.conv1 = nn.Conv2d(in_planes, planes, kernel_size=1, bias=False)\n",
    "        self.bn1 = nn.BatchNorm2d(planes)\n",
    "        self.conv2 = nn.Conv2d(planes, planes, kernel_size=3,\n",
    "                               stride=stride, padding=1, bias=False)\n",
    "        self.bn2 = nn.BatchNorm2d(planes)\n",
    "        self.conv3 = nn.Conv2d(planes, self.expansion *\n",
    "                               planes, kernel_size=1, bias=False)\n",
    "        self.bn3 = nn.BatchNorm2d(self.expansion*planes)\n",
    "\n",
    "        self.shortcut = nn.Sequential()\n",
    "        if stride != 1 or in_planes != self.expansion*planes:\n",
    "            self.shortcut = nn.Sequential(\n",
    "                nn.Conv2d(in_planes, self.expansion*planes,\n",
    "                          kernel_size=1, stride=stride, bias=False),\n",
    "                nn.BatchNorm2d(self.expansion*planes)\n",
    "            )\n",
    "\n",
    "    def forward(self, x):\n",
    "        out = F.relu(self.bn1(self.conv1(x)))\n",
    "        out = F.relu(self.bn2(self.conv2(out)))\n",
    "        out = self.bn3(self.conv3(out))\n",
    "        out += self.shortcut(x)\n",
    "        out = F.relu(out)\n",
    "        return out\n",
    "\n",
    "\n",
    "class ResNet(nn.Module):\n",
    "    def __init__(self, block, num_blocks, num_classes=10):\n",
    "        super(ResNet, self).__init__()\n",
    "        self.in_planes = 64\n",
    "\n",
    "        self.conv1 = nn.Conv2d(3, 64, kernel_size=3,\n",
    "                               stride=1, padding=1, bias=False)\n",
    "        self.bn1 = nn.BatchNorm2d(64)\n",
    "        self.layer1 = self._make_layer(block, 64, num_blocks[0], stride=1)\n",
    "        self.layer2 = self._make_layer(block, 128, num_blocks[1], stride=2)\n",
    "        self.layer3 = self._make_layer(block, 256, num_blocks[2], stride=2)\n",
    "        self.layer4 = self._make_layer(block, 512, num_blocks[3], stride=2)\n",
    "        self.linear = nn.Linear(512*block.expansion, num_classes)\n",
    "\n",
    "    def _make_layer(self, block, planes, num_blocks, stride):\n",
    "        strides = [stride] + [1]*(num_blocks-1)\n",
    "        layers = []\n",
    "        for stride in strides:\n",
    "            layers.append(block(self.in_planes, planes, stride))\n",
    "            self.in_planes = planes * block.expansion\n",
    "        return nn.Sequential(*layers)\n",
    "\n",
    "    def forward(self, x):\n",
    "        out = F.relu(self.bn1(self.conv1(x)))\n",
    "        out = self.layer1(out)\n",
    "        out = self.layer2(out)\n",
    "        out = self.layer3(out)\n",
    "        out = self.layer4(out)\n",
    "        out = F.avg_pool2d(out, 4)\n",
    "        out = out.view(out.size(0), -1)\n",
    "        out = self.linear(out)\n",
    "        return out\n",
    "\n",
    "\n",
    "def ResNet18():\n",
    "    return ResNet(BasicBlock, [2, 2, 2, 2])\n",
    "\n",
    "\n",
    "def ResNet34():\n",
    "    return ResNet(BasicBlock, [3, 4, 6, 3])\n",
    "\n",
    "\n",
    "def ResNet50():\n",
    "    return ResNet(Bottleneck, [3, 4, 6, 3])\n",
    "\n",
    "\n",
    "def ResNet101():\n",
    "    return ResNet(Bottleneck, [3, 4, 23, 3])\n",
    "\n",
    "\n",
    "def ResNet152():\n",
    "    return ResNet(Bottleneck, [3, 8, 36, 3])\n",
    "\n",
    "\n",
    "def test():\n",
    "    net = ResNet18().cuda()\n",
    "    y = net(torch.randn(1, 3, 32, 32).cuda())\n",
    "    print(y.size())\n",
    "\n",
    "test()"
   ]
  },
  {
   "cell_type": "code",
   "execution_count": 5,
   "id": "8965111a-ff8c-4943-9828-2dce77833350",
   "metadata": {},
   "outputs": [
    {
     "data": {
      "image/png": "[encoded data removed]",
      "text/plain": [
       "<PIL.Image.Image image mode=RGB size=32x32>"
      ]
     },
     "metadata": {},
     "output_type": "display_data"
    },
    {
     "name": "stdout",
     "output_type": "stream",
     "text": [
      "torch.Size([3, 32, 32])\n"
     ]
    }
   ],
   "source": [
    "batch_size_train = 256\n",
    "batch_size_test = 256\n",
    "batch_size_wm = 64\n",
    "\n",
    "trainset = datasets.ImageFolder('./data/CIFAR10_8020/with_trigger/train/', transform=transform_train)\n",
    "testset = datasets.ImageFolder('./data/CIFAR10_8020/test', transform=transform_test)\n",
    "# valset = datasets.ImageFolder('./data/CIFAR10_8020/with_trigger/val/', transform=transform_test)\n",
    "watermarkset = datasets.ImageFolder('./data/CIFAR10_8020/with_trigger/trigger_random/', transform=transform_test)\n",
    "advwatermarkset = datasets.ImageFolder('./data/CIFAR10_8020/with_trigger/trigger_adv/', transform=transform_test)\n",
    "unrelatedset = watermark_unrelated(count=100)\n",
    "unrl_mixset = torch.utils.data.ConcatDataset((trainset,unrelatedset))\n",
    "adv_mixset = torch.utils.data.ConcatDataset((trainset,advwatermarkset))\n",
    "rand_mixset = torch.utils.data.ConcatDataset((trainset,watermarkset))\n",
    "\n",
    "testloader = torch.utils.data.DataLoader(\n",
    "    testset, batch_size=batch_size_test, shuffle=False, num_workers=8)\n",
    "\n",
    "#valloader = torch.utils.data.DataLoader(\n",
    "#    valset, batch_size=batch_size_test, shuffle=False, num_workers=8)\n",
    "\n",
    "trainloader = torch.utils.data.DataLoader(\n",
    "    trainset, batch_size=batch_size_train, shuffle=True, num_workers=8, drop_last=False)\n",
    "\n",
    "wmloader = torch.utils.data.DataLoader(\n",
    "    watermarkset, batch_size=batch_size_wm, shuffle=True, num_workers=8, drop_last=False)\n",
    "unrelatedloader = torch.utils.data.DataLoader(\n",
    "    unrelatedset, batch_size=batch_size_wm, shuffle=True, num_workers=8, drop_last=False)\n",
    "advwmloader = torch.utils.data.DataLoader(\n",
    "    advwatermarkset, batch_size=batch_size_wm, shuffle=True, num_workers=8, drop_last=False)\n",
    "unrl_mix_loader = torch.utils.data.DataLoader(\n",
    "    unrl_mixset, batch_size=batch_size_train, shuffle=True, num_workers=8, drop_last=False)\n",
    "adv_mix_loader = torch.utils.data.DataLoader(\n",
    "    adv_mixset, batch_size=batch_size_train, shuffle=True, num_workers=8, drop_last=False)\n",
    "rand_mix_loader = torch.utils.data.DataLoader(\n",
    "    rand_mixset, batch_size=batch_size_train, shuffle=True, num_workers=8, drop_last=False)"
   ]
  },
  {
   "cell_type": "markdown",
   "id": "b4126961-c292-4529-9f93-bafcd704029e",
   "metadata": {},
   "source": [
    "Random Label"
   ]
  },
  {
   "cell_type": "code",
   "execution_count": 6,
   "id": "2756a7bd-7170-403c-ad27-bf84c0488e13",
   "metadata": {},
   "outputs": [
    {
     "name": "stderr",
     "output_type": "stream",
     "text": [
      "Normal training: 100%|█████████████████████████████████████████████████████████████| 157/157 [00:28<00:00,  5.52it/s]\n",
      "/home/cysren/anaconda3/envs/wm/lib/python3.10/site-packages/torch/optim/lr_scheduler.py:163: UserWarning: The epoch parameter in `scheduler.step()` was not necessary and is being deprecated where possible. Please use `scheduler.step()` to step the scheduler. During the deprecation, if epoch is different from None, the closed form is used instead of the new chainable form, where available. Please open an issue if you are unable to replicate your use case: https://github.com/pytorch/pytorch/issues/new/choose.\n",
      "  warnings.warn(EPOCH_DEPRECATION_WARNING, UserWarning)\n"
     ]
    },
    {
     "name": "stdout",
     "output_type": "stream",
     "text": [
      "Epoch 0\n",
      "==========\n",
      "Train: Train acc 35.687156421789105 | WM acc 0.0\n",
      "Tests: WM acc 2.0 | WM train avg acc 10.07 | Test acc 42.480000000000004\n",
      "./models/wm_cifar10_certify_random_8020_rand.pth\n"
     ]
    },
    {
     "name": "stderr",
     "output_type": "stream",
     "text": [
      "Normal training: 100%|█████████████████████████████████████████████████████████████| 157/157 [00:27<00:00,  5.65it/s]\n"
     ]
    },
    {
     "name": "stdout",
     "output_type": "stream",
     "text": [
      "Epoch 1\n",
      "==========\n",
      "Train: Train acc 52.86606696651675 | WM acc 0.0\n",
      "Tests: WM acc 4.0 | WM train avg acc 9.87 | Test acc 51.1\n",
      "./models/wm_cifar10_certify_random_8020_rand.pth\n"
     ]
    },
    {
     "name": "stderr",
     "output_type": "stream",
     "text": [
      "Normal training: 100%|█████████████████████████████████████████████████████████████| 157/157 [00:15<00:00, 10.40it/s]\n"
     ]
    },
    {
     "name": "stdout",
     "output_type": "stream",
     "text": [
      "Epoch 2\n",
      "==========\n",
      "Train: Train acc 62.29385307346327 | WM acc 0.0\n",
      "Tests: WM acc 3.0 | WM train avg acc 10.46 | Test acc 63.480000000000004\n",
      "./models/wm_cifar10_certify_random_8020_rand.pth\n"
     ]
    },
    {
     "name": "stderr",
     "output_type": "stream",
     "text": [
      "Normal training: 100%|█████████████████████████████████████████████████████████████| 157/157 [00:27<00:00,  5.65it/s]\n"
     ]
    },
    {
     "name": "stdout",
     "output_type": "stream",
     "text": [
      "Epoch 3\n",
      "==========\n",
      "Train: Train acc 68.20089955022489 | WM acc 0.0\n",
      "Tests: WM acc 5.0 | WM train avg acc 9.49 | Test acc 66.28\n",
      "./models/wm_cifar10_certify_random_8020_rand.pth\n"
     ]
    },
    {
     "name": "stderr",
     "output_type": "stream",
     "text": [
      "Normal training: 100%|█████████████████████████████████████████████████████████████| 157/157 [00:27<00:00,  5.66it/s]\n"
     ]
    },
    {
     "name": "stdout",
     "output_type": "stream",
     "text": [
      "Epoch 4\n",
      "==========\n",
      "Train: Train acc 72.83108445777111 | WM acc 0.0\n",
      "Tests: WM acc 7.000000000000001 | WM train avg acc 10.01 | Test acc 63.959999999999994\n",
      "./models/wm_cifar10_certify_random_8020_rand.pth\n"
     ]
    },
    {
     "name": "stderr",
     "output_type": "stream",
     "text": [
      "Normal training: 100%|█████████████████████████████████████████████████████████████| 157/157 [00:27<00:00,  5.69it/s]\n"
     ]
    },
    {
     "name": "stdout",
     "output_type": "stream",
     "text": [
      "Epoch 5\n",
      "==========\n",
      "Train: Train acc 75.29985007496252 | WM acc 0.0\n",
      "Tests: WM acc 7.000000000000001 | WM train avg acc 9.64 | Test acc 73.87\n",
      "./models/wm_cifar10_certify_random_8020_rand.pth\n"
     ]
    },
    {
     "name": "stderr",
     "output_type": "stream",
     "text": [
      "Normal training: 100%|█████████████████████████████████████████████████████████████| 157/157 [00:27<00:00,  5.65it/s]\n"
     ]
    },
    {
     "name": "stdout",
     "output_type": "stream",
     "text": [
      "Epoch 6\n",
      "==========\n",
      "Train: Train acc 77.4087956021989 | WM acc 0.0\n",
      "Tests: WM acc 8.0 | WM train avg acc 9.92 | Test acc 74.95\n",
      "./models/wm_cifar10_certify_random_8020_rand.pth\n"
     ]
    },
    {
     "name": "stderr",
     "output_type": "stream",
     "text": [
      "Normal training: 100%|█████████████████████████████████████████████████████████████| 157/157 [00:27<00:00,  5.63it/s]\n"
     ]
    },
    {
     "name": "stdout",
     "output_type": "stream",
     "text": [
      "Epoch 7\n",
      "==========\n",
      "Train: Train acc 79.1904047976012 | WM acc 0.0\n",
      "Tests: WM acc 9.0 | WM train avg acc 9.76 | Test acc 76.33\n",
      "./models/wm_cifar10_certify_random_8020_rand.pth\n"
     ]
    },
    {
     "name": "stderr",
     "output_type": "stream",
     "text": [
      "Normal training: 100%|█████████████████████████████████████████████████████████████| 157/157 [00:27<00:00,  5.66it/s]\n"
     ]
    },
    {
     "name": "stdout",
     "output_type": "stream",
     "text": [
      "Epoch 8\n",
      "==========\n",
      "Train: Train acc 80.54972513743128 | WM acc 0.0\n",
      "Tests: WM acc 7.000000000000001 | WM train avg acc 9.92 | Test acc 77.41\n",
      "./models/wm_cifar10_certify_random_8020_rand.pth\n"
     ]
    },
    {
     "name": "stderr",
     "output_type": "stream",
     "text": [
      "Normal training: 100%|█████████████████████████████████████████████████████████████| 157/157 [00:17<00:00,  8.87it/s]\n"
     ]
    },
    {
     "name": "stdout",
     "output_type": "stream",
     "text": [
      "Epoch 9\n",
      "==========\n",
      "Train: Train acc 81.74662668665668 | WM acc 0.0\n",
      "Tests: WM acc 15.0 | WM train avg acc 9.72 | Test acc 78.33\n",
      "./models/wm_cifar10_certify_random_8020_rand.pth\n"
     ]
    },
    {
     "name": "stderr",
     "output_type": "stream",
     "text": [
      "Normal training: 100%|█████████████████████████████████████████████████████████████| 157/157 [00:27<00:00,  5.62it/s]\n"
     ]
    },
    {
     "name": "stdout",
     "output_type": "stream",
     "text": [
      "Epoch 10\n",
      "==========\n",
      "Train: Train acc 82.89605197401299 | WM acc 0.0\n",
      "Tests: WM acc 12.0 | WM train avg acc 9.83 | Test acc 79.97999999999999\n",
      "./models/wm_cifar10_certify_random_8020_rand.pth\n"
     ]
    },
    {
     "name": "stderr",
     "output_type": "stream",
     "text": [
      "Robust training: 100%|█████████████████████████████████████████████████████████████████| 2/2 [02:40<00:00, 80.33s/it]\n",
      "Normal training: 100%|█████████████████████████████████████████████████████████████| 157/157 [00:27<00:00,  5.63it/s]\n"
     ]
    },
    {
     "name": "stdout",
     "output_type": "stream",
     "text": [
      "Epoch 11\n",
      "==========\n",
      "Train: Train acc 83.26086956521739 | WM acc 17.0\n",
      "Tests: WM acc 16.0 | WM train avg acc 10.0 | Test acc 80.83\n",
      "./models/wm_cifar10_certify_random_8020_rand.pth\n"
     ]
    },
    {
     "name": "stderr",
     "output_type": "stream",
     "text": [
      "Robust training: 100%|█████████████████████████████████████████████████████████████████| 2/2 [02:40<00:00, 80.14s/it]\n",
      "Normal training: 100%|█████████████████████████████████████████████████████████████| 157/157 [00:27<00:00,  5.63it/s]\n"
     ]
    },
    {
     "name": "stdout",
     "output_type": "stream",
     "text": [
      "Epoch 12\n",
      "==========\n",
      "Train: Train acc 83.72063968015992 | WM acc 12.0\n",
      "Tests: WM acc 16.0 | WM train avg acc 9.9 | Test acc 78.82000000000001\n",
      "./models/wm_cifar10_certify_random_8020_rand.pth\n"
     ]
    },
    {
     "name": "stderr",
     "output_type": "stream",
     "text": [
      "Robust training: 100%|█████████████████████████████████████████████████████████████████| 2/2 [02:40<00:00, 80.13s/it]\n",
      "Normal training: 100%|█████████████████████████████████████████████████████████████| 157/157 [00:27<00:00,  5.64it/s]\n"
     ]
    },
    {
     "name": "stdout",
     "output_type": "stream",
     "text": [
      "Epoch 13\n",
      "==========\n",
      "Train: Train acc 84.6776611694153 | WM acc 11.0\n",
      "Tests: WM acc 24.0 | WM train avg acc 10.14 | Test acc 78.59\n",
      "./models/wm_cifar10_certify_random_8020_rand.pth\n"
     ]
    },
    {
     "name": "stderr",
     "output_type": "stream",
     "text": [
      "Robust training: 100%|█████████████████████████████████████████████████████████████████| 2/2 [02:40<00:00, 80.23s/it]\n",
      "Normal training: 100%|█████████████████████████████████████████████████████████████| 157/157 [00:27<00:00,  5.64it/s]\n"
     ]
    },
    {
     "name": "stdout",
     "output_type": "stream",
     "text": [
      "Epoch 14\n",
      "==========\n",
      "Train: Train acc 85.15742128935531 | WM acc 13.0\n",
      "Tests: WM acc 34.0 | WM train avg acc 10.52 | Test acc 80.57\n",
      "./models/wm_cifar10_certify_random_8020_rand.pth\n"
     ]
    },
    {
     "name": "stderr",
     "output_type": "stream",
     "text": [
      "Robust training: 100%|█████████████████████████████████████████████████████████████████| 2/2 [02:40<00:00, 80.06s/it]\n",
      "Normal training: 100%|█████████████████████████████████████████████████████████████| 157/157 [00:27<00:00,  5.64it/s]\n"
     ]
    },
    {
     "name": "stdout",
     "output_type": "stream",
     "text": [
      "Epoch 15\n",
      "==========\n",
      "Train: Train acc 86.1744127936032 | WM acc 8.0\n",
      "Tests: WM acc 28.000000000000004 | WM train avg acc 10.35 | Test acc 81.97\n",
      "./models/wm_cifar10_certify_random_8020_rand.pth\n"
     ]
    },
    {
     "name": "stderr",
     "output_type": "stream",
     "text": [
      "Robust training: 100%|█████████████████████████████████████████████████████████████████| 2/2 [02:40<00:00, 80.40s/it]\n",
      "Normal training: 100%|█████████████████████████████████████████████████████████████| 157/157 [00:27<00:00,  5.64it/s]\n"
     ]
    },
    {
     "name": "stdout",
     "output_type": "stream",
     "text": [
      "Epoch 16\n",
      "==========\n",
      "Train: Train acc 86.8215892053973 | WM acc 5.0\n",
      "Tests: WM acc 32.0 | WM train avg acc 9.6 | Test acc 81.98\n",
      "./models/wm_cifar10_certify_random_8020_rand.pth\n"
     ]
    },
    {
     "name": "stderr",
     "output_type": "stream",
     "text": [
      "Robust training: 100%|█████████████████████████████████████████████████████████████████| 2/2 [02:40<00:00, 80.11s/it]\n",
      "Normal training: 100%|█████████████████████████████████████████████████████████████| 157/157 [00:27<00:00,  5.64it/s]\n"
     ]
    },
    {
     "name": "stdout",
     "output_type": "stream",
     "text": [
      "Epoch 17\n",
      "==========\n",
      "Train: Train acc 87.5112443778111 | WM acc 16.0\n",
      "Tests: WM acc 39.0 | WM train avg acc 10.64 | Test acc 83.25\n",
      "./models/wm_cifar10_certify_random_8020_rand.pth\n"
     ]
    },
    {
     "name": "stderr",
     "output_type": "stream",
     "text": [
      "Robust training: 100%|█████████████████████████████████████████████████████████████████| 2/2 [02:40<00:00, 80.19s/it]\n",
      "Normal training: 100%|█████████████████████████████████████████████████████████████| 157/157 [00:27<00:00,  5.63it/s]\n"
     ]
    },
    {
     "name": "stdout",
     "output_type": "stream",
     "text": [
      "Epoch 18\n",
      "==========\n",
      "Train: Train acc 87.83608195902049 | WM acc 13.0\n",
      "Tests: WM acc 41.0 | WM train avg acc 10.42 | Test acc 79.82000000000001\n",
      "./models/wm_cifar10_certify_random_8020_rand.pth\n"
     ]
    },
    {
     "name": "stderr",
     "output_type": "stream",
     "text": [
      "Robust training: 100%|█████████████████████████████████████████████████████████████████| 2/2 [02:32<00:00, 76.13s/it]\n",
      "Normal training: 100%|█████████████████████████████████████████████████████████████| 157/157 [00:15<00:00, 10.38it/s]\n"
     ]
    },
    {
     "name": "stdout",
     "output_type": "stream",
     "text": [
      "Epoch 19\n",
      "==========\n",
      "Train: Train acc 88.57821089455273 | WM acc 9.0\n",
      "Tests: WM acc 45.0 | WM train avg acc 9.83 | Test acc 81.34\n",
      "./models/wm_cifar10_certify_random_8020_rand.pth\n"
     ]
    },
    {
     "name": "stderr",
     "output_type": "stream",
     "text": [
      "Robust training: 100%|█████████████████████████████████████████████████████████████████| 2/2 [02:04<00:00, 62.04s/it]\n",
      "Normal training: 100%|█████████████████████████████████████████████████████████████| 157/157 [00:27<00:00,  5.78it/s]\n"
     ]
    },
    {
     "name": "stdout",
     "output_type": "stream",
     "text": [
      "Epoch 20\n",
      "==========\n",
      "Train: Train acc 89.40529735132434 | WM acc 12.0\n",
      "Tests: WM acc 55.00000000000001 | WM train avg acc 10.59 | Test acc 83.74000000000001\n",
      "./models/wm_cifar10_certify_random_8020_rand.pth\n"
     ]
    },
    {
     "name": "stderr",
     "output_type": "stream",
     "text": [
      "Robust training: 100%|█████████████████████████████████████████████████████████████████| 2/2 [02:15<00:00, 67.80s/it]\n",
      "Normal training: 100%|█████████████████████████████████████████████████████████████| 157/157 [00:18<00:00,  8.43it/s]\n"
     ]
    },
    {
     "name": "stdout",
     "output_type": "stream",
     "text": [
      "Epoch 21\n",
      "==========\n",
      "Train: Train acc 89.68515742128935 | WM acc 12.0\n",
      "Tests: WM acc 57.99999999999999 | WM train avg acc 9.98 | Test acc 83.44\n",
      "./models/wm_cifar10_certify_random_8020_rand.pth\n"
     ]
    },
    {
     "name": "stderr",
     "output_type": "stream",
     "text": [
      "Robust training: 100%|█████████████████████████████████████████████████████████████████| 2/2 [02:07<00:00, 63.97s/it]\n",
      "Normal training: 100%|█████████████████████████████████████████████████████████████| 157/157 [00:15<00:00, 10.36it/s]\n"
     ]
    },
    {
     "name": "stdout",
     "output_type": "stream",
     "text": [
      "Epoch 22\n",
      "==========\n",
      "Train: Train acc 90.21489255372313 | WM acc 9.0\n",
      "Tests: WM acc 56.00000000000001 | WM train avg acc 10.61 | Test acc 84.00999999999999\n",
      "./models/wm_cifar10_certify_random_8020_rand.pth\n"
     ]
    },
    {
     "name": "stderr",
     "output_type": "stream",
     "text": [
      "Robust training: 100%|█████████████████████████████████████████████████████████████████| 2/2 [02:55<00:00, 87.74s/it]\n",
      "Normal training: 100%|█████████████████████████████████████████████████████████████| 157/157 [00:16<00:00,  9.78it/s]\n"
     ]
    },
    {
     "name": "stdout",
     "output_type": "stream",
     "text": [
      "Epoch 23\n",
      "==========\n",
      "Train: Train acc 90.71964017991004 | WM acc 11.0\n",
      "Tests: WM acc 56.99999999999999 | WM train avg acc 10.77 | Test acc 82.54\n",
      "./models/wm_cifar10_certify_random_8020_rand.pth\n"
     ]
    },
    {
     "name": "stderr",
     "output_type": "stream",
     "text": [
      "Robust training: 100%|█████████████████████████████████████████████████████████████████| 2/2 [02:53<00:00, 86.79s/it]\n",
      "Normal training: 100%|█████████████████████████████████████████████████████████████| 157/157 [00:17<00:00,  9.07it/s]\n"
     ]
    },
    {
     "name": "stdout",
     "output_type": "stream",
     "text": [
      "Epoch 24\n",
      "==========\n",
      "Train: Train acc 91.38430784607696 | WM acc 11.0\n",
      "Tests: WM acc 64.0 | WM train avg acc 10.29 | Test acc 82.77\n",
      "./models/wm_cifar10_certify_random_8020_rand.pth\n"
     ]
    },
    {
     "name": "stderr",
     "output_type": "stream",
     "text": [
      "Robust training: 100%|█████████████████████████████████████████████████████████████████| 2/2 [02:52<00:00, 86.08s/it]\n",
      "Normal training: 100%|█████████████████████████████████████████████████████████████| 157/157 [00:18<00:00,  8.51it/s]\n"
     ]
    },
    {
     "name": "stdout",
     "output_type": "stream",
     "text": [
      "Epoch 25\n",
      "==========\n",
      "Train: Train acc 91.7216391804098 | WM acc 11.0\n",
      "Tests: WM acc 70.0 | WM train avg acc 10.56 | Test acc 84.21\n",
      "./models/wm_cifar10_certify_random_8020_rand.pth\n"
     ]
    },
    {
     "name": "stderr",
     "output_type": "stream",
     "text": [
      "Robust training: 100%|█████████████████████████████████████████████████████████████████| 2/2 [02:50<00:00, 85.22s/it]\n",
      "Normal training: 100%|█████████████████████████████████████████████████████████████| 157/157 [00:20<00:00,  7.79it/s]\n"
     ]
    },
    {
     "name": "stdout",
     "output_type": "stream",
     "text": [
      "Epoch 26\n",
      "==========\n",
      "Train: Train acc 91.94152923538232 | WM acc 13.0\n",
      "Tests: WM acc 75.0 | WM train avg acc 10.66 | Test acc 84.48\n",
      "./models/wm_cifar10_certify_random_8020_rand.pth\n"
     ]
    },
    {
     "name": "stderr",
     "output_type": "stream",
     "text": [
      "Robust training: 100%|█████████████████████████████████████████████████████████████████| 2/2 [02:48<00:00, 84.31s/it]\n",
      "Normal training: 100%|█████████████████████████████████████████████████████████████| 157/157 [00:21<00:00,  7.18it/s]\n"
     ]
    },
    {
     "name": "stdout",
     "output_type": "stream",
     "text": [
      "Epoch 27\n",
      "==========\n",
      "Train: Train acc 92.19140429785108 | WM acc 11.0\n",
      "Tests: WM acc 74.0 | WM train avg acc 10.25 | Test acc 84.16\n",
      "./models/wm_cifar10_certify_random_8020_rand.pth\n"
     ]
    },
    {
     "name": "stderr",
     "output_type": "stream",
     "text": [
      "Robust training: 100%|█████████████████████████████████████████████████████████████████| 2/2 [02:47<00:00, 83.61s/it]\n",
      "Normal training: 100%|█████████████████████████████████████████████████████████████| 157/157 [00:23<00:00,  6.80it/s]\n"
     ]
    },
    {
     "name": "stdout",
     "output_type": "stream",
     "text": [
      "Epoch 28\n",
      "==========\n",
      "Train: Train acc 92.94602698650675 | WM acc 11.0\n",
      "Tests: WM acc 82.0 | WM train avg acc 10.75 | Test acc 83.04\n",
      "./models/wm_cifar10_certify_random_8020_rand.pth\n"
     ]
    },
    {
     "name": "stderr",
     "output_type": "stream",
     "text": [
      "Robust training: 100%|█████████████████████████████████████████████████████████████████| 2/2 [02:45<00:00, 82.98s/it]\n",
      "Normal training: 100%|█████████████████████████████████████████████████████████████| 157/157 [00:24<00:00,  6.47it/s]\n"
     ]
    },
    {
     "name": "stdout",
     "output_type": "stream",
     "text": [
      "Epoch 29\n",
      "==========\n",
      "Train: Train acc 93.35582208895552 | WM acc 10.0\n",
      "Tests: WM acc 81.0 | WM train avg acc 10.7 | Test acc 85.04\n",
      "./models/wm_cifar10_certify_random_8020_rand.pth\n"
     ]
    },
    {
     "name": "stderr",
     "output_type": "stream",
     "text": [
      "Robust training: 100%|█████████████████████████████████████████████████████████████████| 2/2 [02:44<00:00, 82.35s/it]\n",
      "Normal training: 100%|█████████████████████████████████████████████████████████████| 157/157 [00:25<00:00,  6.12it/s]\n"
     ]
    },
    {
     "name": "stdout",
     "output_type": "stream",
     "text": [
      "Epoch 30\n",
      "==========\n",
      "Train: Train acc 93.41579210394802 | WM acc 7.000000000000001\n",
      "Tests: WM acc 88.0 | WM train avg acc 10.62 | Test acc 84.08\n",
      "./models/wm_cifar10_certify_random_8020_rand.pth\n"
     ]
    },
    {
     "name": "stderr",
     "output_type": "stream",
     "text": [
      "Robust training: 100%|█████████████████████████████████████████████████████████████████| 2/2 [02:43<00:00, 81.71s/it]\n",
      "Normal training: 100%|█████████████████████████████████████████████████████████████| 157/157 [00:26<00:00,  5.98it/s]\n"
     ]
    },
    {
     "name": "stdout",
     "output_type": "stream",
     "text": [
      "Epoch 31\n",
      "==========\n",
      "Train: Train acc 96.62918540729635 | WM acc 11.0\n",
      "Tests: WM acc 97.0 | WM train avg acc 10.02 | Test acc 87.81\n",
      "./models/wm_cifar10_certify_random_8020_rand.pth\n"
     ]
    },
    {
     "name": "stderr",
     "output_type": "stream",
     "text": [
      "Robust training: 100%|█████████████████████████████████████████████████████████████████| 2/2 [02:42<00:00, 81.35s/it]\n",
      "Normal training: 100%|█████████████████████████████████████████████████████████████| 157/157 [00:26<00:00,  5.86it/s]\n"
     ]
    },
    {
     "name": "stdout",
     "output_type": "stream",
     "text": [
      "Epoch 32\n",
      "==========\n",
      "Train: Train acc 97.59620189905047 | WM acc 12.0\n",
      "Tests: WM acc 97.0 | WM train avg acc 10.51 | Test acc 88.18\n",
      "./models/wm_cifar10_certify_random_8020_rand.pth\n"
     ]
    },
    {
     "name": "stderr",
     "output_type": "stream",
     "text": [
      "Robust training: 100%|█████████████████████████████████████████████████████████████████| 2/2 [02:42<00:00, 81.35s/it]\n",
      "Normal training: 100%|█████████████████████████████████████████████████████████████| 157/157 [00:27<00:00,  5.78it/s]\n"
     ]
    },
    {
     "name": "stdout",
     "output_type": "stream",
     "text": [
      "Epoch 33\n",
      "==========\n",
      "Train: Train acc 97.78110944527737 | WM acc 8.0\n",
      "Tests: WM acc 98.0 | WM train avg acc 10.19 | Test acc 87.86\n",
      "./models/wm_cifar10_certify_random_8020_rand.pth\n"
     ]
    },
    {
     "name": "stderr",
     "output_type": "stream",
     "text": [
      "Robust training: 100%|█████████████████████████████████████████████████████████████████| 2/2 [02:41<00:00, 80.89s/it]\n",
      "Normal training: 100%|█████████████████████████████████████████████████████████████| 157/157 [00:27<00:00,  5.63it/s]\n"
     ]
    },
    {
     "name": "stdout",
     "output_type": "stream",
     "text": [
      "Epoch 34\n",
      "==========\n",
      "Train: Train acc 98.07346326836581 | WM acc 8.0\n",
      "Tests: WM acc 97.0 | WM train avg acc 10.28 | Test acc 87.91\n",
      "./models/wm_cifar10_certify_random_8020_rand.pth\n"
     ]
    },
    {
     "name": "stderr",
     "output_type": "stream",
     "text": [
      "Robust training: 100%|█████████████████████████████████████████████████████████████████| 2/2 [02:41<00:00, 80.87s/it]\n",
      "Normal training: 100%|█████████████████████████████████████████████████████████████| 157/157 [00:27<00:00,  5.63it/s]\n"
     ]
    },
    {
     "name": "stdout",
     "output_type": "stream",
     "text": [
      "Epoch 35\n",
      "==========\n",
      "Train: Train acc 98.14592703648177 | WM acc 4.0\n",
      "Tests: WM acc 98.0 | WM train avg acc 10.46 | Test acc 88.01\n",
      "./models/wm_cifar10_certify_random_8020_rand.pth\n"
     ]
    },
    {
     "name": "stderr",
     "output_type": "stream",
     "text": [
      "Robust training: 100%|█████████████████████████████████████████████████████████████████| 2/2 [02:41<00:00, 80.76s/it]\n",
      "Normal training: 100%|█████████████████████████████████████████████████████████████| 157/157 [00:27<00:00,  5.63it/s]\n"
     ]
    },
    {
     "name": "stdout",
     "output_type": "stream",
     "text": [
      "Epoch 36\n",
      "==========\n",
      "Train: Train acc 98.2583708145927 | WM acc 9.0\n",
      "Tests: WM acc 99.0 | WM train avg acc 9.88 | Test acc 87.86\n",
      "./models/wm_cifar10_certify_random_8020_rand.pth\n"
     ]
    },
    {
     "name": "stderr",
     "output_type": "stream",
     "text": [
      "Robust training: 100%|█████████████████████████████████████████████████████████████████| 2/2 [02:41<00:00, 80.94s/it]\n",
      "Normal training: 100%|█████████████████████████████████████████████████████████████| 157/157 [00:27<00:00,  5.64it/s]\n"
     ]
    },
    {
     "name": "stdout",
     "output_type": "stream",
     "text": [
      "Epoch 37\n",
      "==========\n",
      "Train: Train acc 98.39580209895053 | WM acc 12.0\n",
      "Tests: WM acc 99.0 | WM train avg acc 10.59 | Test acc 88.29\n",
      "./models/wm_cifar10_certify_random_8020_rand.pth\n"
     ]
    },
    {
     "name": "stderr",
     "output_type": "stream",
     "text": [
      "Robust training: 100%|█████████████████████████████████████████████████████████████████| 2/2 [02:41<00:00, 80.93s/it]\n",
      "Normal training: 100%|█████████████████████████████████████████████████████████████| 157/157 [00:27<00:00,  5.64it/s]\n"
     ]
    },
    {
     "name": "stdout",
     "output_type": "stream",
     "text": [
      "Epoch 38\n",
      "==========\n",
      "Train: Train acc 98.53073463268366 | WM acc 4.0\n",
      "Tests: WM acc 99.0 | WM train avg acc 10.76 | Test acc 88.13\n",
      "./models/wm_cifar10_certify_random_8020_rand.pth\n"
     ]
    },
    {
     "name": "stderr",
     "output_type": "stream",
     "text": [
      "Robust training: 100%|█████████████████████████████████████████████████████████████████| 2/2 [02:41<00:00, 80.86s/it]\n",
      "Normal training: 100%|█████████████████████████████████████████████████████████████| 157/157 [00:27<00:00,  5.63it/s]\n"
     ]
    },
    {
     "name": "stdout",
     "output_type": "stream",
     "text": [
      "Epoch 39\n",
      "==========\n",
      "Train: Train acc 98.6431784107946 | WM acc 9.0\n",
      "Tests: WM acc 100.0 | WM train avg acc 10.55 | Test acc 88.22\n",
      "./models/wm_cifar10_certify_random_8020_rand.pth\n"
     ]
    },
    {
     "name": "stderr",
     "output_type": "stream",
     "text": [
      "Robust training: 100%|█████████████████████████████████████████████████████████████████| 2/2 [02:41<00:00, 80.81s/it]\n",
      "Normal training: 100%|█████████████████████████████████████████████████████████████| 157/157 [00:27<00:00,  5.64it/s]\n"
     ]
    },
    {
     "name": "stdout",
     "output_type": "stream",
     "text": [
      "Epoch 40\n",
      "==========\n",
      "Train: Train acc 98.67316341829086 | WM acc 8.0\n",
      "Tests: WM acc 99.0 | WM train avg acc 10.26 | Test acc 88.09\n",
      "./models/wm_cifar10_certify_random_8020_rand.pth\n"
     ]
    },
    {
     "name": "stderr",
     "output_type": "stream",
     "text": [
      "Robust training: 100%|█████████████████████████████████████████████████████████████████| 2/2 [02:41<00:00, 80.93s/it]\n",
      "Normal training: 100%|█████████████████████████████████████████████████████████████| 157/157 [00:27<00:00,  5.63it/s]\n"
     ]
    },
    {
     "name": "stdout",
     "output_type": "stream",
     "text": [
      "Epoch 41\n",
      "==========\n",
      "Train: Train acc 98.7631184407796 | WM acc 9.0\n",
      "Tests: WM acc 100.0 | WM train avg acc 10.77 | Test acc 88.28\n",
      "./models/wm_cifar10_certify_random_8020_rand.pth\n"
     ]
    },
    {
     "name": "stderr",
     "output_type": "stream",
     "text": [
      "Robust training: 100%|█████████████████████████████████████████████████████████████████| 2/2 [02:41<00:00, 80.79s/it]\n",
      "Normal training: 100%|█████████████████████████████████████████████████████████████| 157/157 [00:27<00:00,  5.63it/s]\n"
     ]
    },
    {
     "name": "stdout",
     "output_type": "stream",
     "text": [
      "Epoch 42\n",
      "==========\n",
      "Train: Train acc 98.86306846576711 | WM acc 7.000000000000001\n",
      "Tests: WM acc 100.0 | WM train avg acc 10.9 | Test acc 88.17\n",
      "./models/wm_cifar10_certify_random_8020_rand.pth\n"
     ]
    },
    {
     "name": "stderr",
     "output_type": "stream",
     "text": [
      "Robust training: 100%|█████████████████████████████████████████████████████████████████| 2/2 [02:41<00:00, 80.93s/it]\n",
      "Normal training: 100%|█████████████████████████████████████████████████████████████| 157/157 [00:27<00:00,  5.63it/s]\n"
     ]
    },
    {
     "name": "stdout",
     "output_type": "stream",
     "text": [
      "Epoch 43\n",
      "==========\n",
      "Train: Train acc 98.86306846576711 | WM acc 8.0\n",
      "Tests: WM acc 100.0 | WM train avg acc 10.75 | Test acc 88.32\n",
      "./models/wm_cifar10_certify_random_8020_rand.pth\n"
     ]
    },
    {
     "name": "stderr",
     "output_type": "stream",
     "text": [
      "Robust training: 100%|█████████████████████████████████████████████████████████████████| 2/2 [02:41<00:00, 80.88s/it]\n",
      "Normal training: 100%|█████████████████████████████████████████████████████████████| 157/157 [00:27<00:00,  5.64it/s]\n"
     ]
    },
    {
     "name": "stdout",
     "output_type": "stream",
     "text": [
      "Epoch 44\n",
      "==========\n",
      "Train: Train acc 99.02048975512244 | WM acc 9.0\n",
      "Tests: WM acc 100.0 | WM train avg acc 10.27 | Test acc 88.28\n",
      "./models/wm_cifar10_certify_random_8020_rand.pth\n"
     ]
    },
    {
     "name": "stderr",
     "output_type": "stream",
     "text": [
      "Robust training: 100%|█████████████████████████████████████████████████████████████████| 2/2 [02:41<00:00, 80.95s/it]\n",
      "Normal training: 100%|█████████████████████████████████████████████████████████████| 157/157 [00:27<00:00,  5.64it/s]\n"
     ]
    },
    {
     "name": "stdout",
     "output_type": "stream",
     "text": [
      "Epoch 45\n",
      "==========\n",
      "Train: Train acc 99.05797101449275 | WM acc 10.0\n",
      "Tests: WM acc 100.0 | WM train avg acc 10.37 | Test acc 88.35\n",
      "./models/wm_cifar10_certify_random_8020_rand.pth\n"
     ]
    },
    {
     "name": "stderr",
     "output_type": "stream",
     "text": [
      "Robust training: 100%|█████████████████████████████████████████████████████████████████| 2/2 [02:41<00:00, 80.91s/it]\n",
      "Normal training: 100%|█████████████████████████████████████████████████████████████| 157/157 [00:27<00:00,  5.61it/s]\n"
     ]
    },
    {
     "name": "stdout",
     "output_type": "stream",
     "text": [
      "Epoch 46\n",
      "==========\n",
      "Train: Train acc 99.13293353323338 | WM acc 10.0\n",
      "Tests: WM acc 100.0 | WM train avg acc 10.64 | Test acc 88.18\n",
      "./models/wm_cifar10_certify_random_8020_rand.pth\n"
     ]
    },
    {
     "name": "stderr",
     "output_type": "stream",
     "text": [
      "Robust training: 100%|█████████████████████████████████████████████████████████████████| 2/2 [02:41<00:00, 80.71s/it]\n",
      "Normal training: 100%|█████████████████████████████████████████████████████████████| 157/157 [00:27<00:00,  5.63it/s]\n"
     ]
    },
    {
     "name": "stdout",
     "output_type": "stream",
     "text": [
      "Epoch 47\n",
      "==========\n",
      "Train: Train acc 99.20039980009994 | WM acc 9.0\n",
      "Tests: WM acc 100.0 | WM train avg acc 9.99 | Test acc 88.21\n",
      "./models/wm_cifar10_certify_random_8020_rand.pth\n"
     ]
    },
    {
     "name": "stderr",
     "output_type": "stream",
     "text": [
      "Robust training: 100%|█████████████████████████████████████████████████████████████████| 2/2 [02:41<00:00, 80.71s/it]\n",
      "Normal training: 100%|█████████████████████████████████████████████████████████████| 157/157 [00:27<00:00,  5.63it/s]\n"
     ]
    },
    {
     "name": "stdout",
     "output_type": "stream",
     "text": [
      "Epoch 48\n",
      "==========\n",
      "Train: Train acc 99.19040479760119 | WM acc 13.0\n",
      "Tests: WM acc 100.0 | WM train avg acc 10.59 | Test acc 88.47\n",
      "./models/wm_cifar10_certify_random_8020_rand.pth\n"
     ]
    },
    {
     "name": "stderr",
     "output_type": "stream",
     "text": [
      "Robust training: 100%|█████████████████████████████████████████████████████████████████| 2/2 [02:41<00:00, 80.92s/it]\n",
      "Normal training: 100%|█████████████████████████████████████████████████████████████| 157/157 [00:27<00:00,  5.64it/s]\n"
     ]
    },
    {
     "name": "stdout",
     "output_type": "stream",
     "text": [
      "Epoch 49\n",
      "==========\n",
      "Train: Train acc 99.26286856571714 | WM acc 11.0\n",
      "Tests: WM acc 100.0 | WM train avg acc 10.53 | Test acc 88.48\n",
      "./models/wm_cifar10_certify_random_8020_rand.pth\n"
     ]
    },
    {
     "name": "stderr",
     "output_type": "stream",
     "text": [
      "Robust training: 100%|█████████████████████████████████████████████████████████████████| 2/2 [02:41<00:00, 80.78s/it]\n",
      "Normal training: 100%|█████████████████████████████████████████████████████████████| 157/157 [00:27<00:00,  5.64it/s]\n"
     ]
    },
    {
     "name": "stdout",
     "output_type": "stream",
     "text": [
      "Epoch 50\n",
      "==========\n",
      "Train: Train acc 99.30284857571215 | WM acc 13.0\n",
      "Tests: WM acc 100.0 | WM train avg acc 10.11 | Test acc 88.23\n",
      "./models/wm_cifar10_certify_random_8020_rand.pth\n"
     ]
    },
    {
     "name": "stderr",
     "output_type": "stream",
     "text": [
      "Robust training: 100%|█████████████████████████████████████████████████████████████████| 2/2 [02:41<00:00, 80.82s/it]\n",
      "Normal training: 100%|█████████████████████████████████████████████████████████████| 157/157 [00:27<00:00,  5.63it/s]\n"
     ]
    },
    {
     "name": "stdout",
     "output_type": "stream",
     "text": [
      "Epoch 51\n",
      "==========\n",
      "Train: Train acc 99.33533233383308 | WM acc 13.0\n",
      "Tests: WM acc 100.0 | WM train avg acc 11.16 | Test acc 88.33\n",
      "./models/wm_cifar10_certify_random_8020_rand.pth\n"
     ]
    },
    {
     "name": "stderr",
     "output_type": "stream",
     "text": [
      "Robust training: 100%|█████████████████████████████████████████████████████████████████| 2/2 [02:41<00:00, 80.77s/it]\n",
      "Normal training: 100%|█████████████████████████████████████████████████████████████| 157/157 [00:27<00:00,  5.63it/s]\n"
     ]
    },
    {
     "name": "stdout",
     "output_type": "stream",
     "text": [
      "Epoch 52\n",
      "==========\n",
      "Train: Train acc 99.32283858070964 | WM acc 9.0\n",
      "Tests: WM acc 100.0 | WM train avg acc 10.57 | Test acc 88.26\n",
      "./models/wm_cifar10_certify_random_8020_rand.pth\n"
     ]
    },
    {
     "name": "stderr",
     "output_type": "stream",
     "text": [
      "Robust training: 100%|█████████████████████████████████████████████████████████████████| 2/2 [02:41<00:00, 80.67s/it]\n",
      "Normal training: 100%|█████████████████████████████████████████████████████████████| 157/157 [00:27<00:00,  5.63it/s]\n"
     ]
    },
    {
     "name": "stdout",
     "output_type": "stream",
     "text": [
      "Epoch 53\n",
      "==========\n",
      "Train: Train acc 99.33033483258372 | WM acc 9.0\n",
      "Tests: WM acc 100.0 | WM train avg acc 10.12 | Test acc 88.29\n",
      "./models/wm_cifar10_certify_random_8020_rand.pth\n"
     ]
    },
    {
     "name": "stderr",
     "output_type": "stream",
     "text": [
      "Robust training: 100%|█████████████████████████████████████████████████████████████████| 2/2 [02:41<00:00, 80.89s/it]\n",
      "Normal training: 100%|█████████████████████████████████████████████████████████████| 157/157 [00:27<00:00,  5.63it/s]\n"
     ]
    },
    {
     "name": "stdout",
     "output_type": "stream",
     "text": [
      "Epoch 54\n",
      "==========\n",
      "Train: Train acc 99.42528735632183 | WM acc 12.0\n",
      "Tests: WM acc 100.0 | WM train avg acc 10.26 | Test acc 88.32\n",
      "./models/wm_cifar10_certify_random_8020_rand.pth\n"
     ]
    },
    {
     "name": "stderr",
     "output_type": "stream",
     "text": [
      "Robust training: 100%|█████████████████████████████████████████████████████████████████| 2/2 [02:42<00:00, 81.06s/it]\n",
      "Normal training: 100%|█████████████████████████████████████████████████████████████| 157/157 [00:27<00:00,  5.64it/s]\n"
     ]
    },
    {
     "name": "stdout",
     "output_type": "stream",
     "text": [
      "Epoch 55\n",
      "==========\n",
      "Train: Train acc 99.52273863068466 | WM acc 13.0\n",
      "Tests: WM acc 100.0 | WM train avg acc 10.32 | Test acc 88.44999999999999\n",
      "./models/wm_cifar10_certify_random_8020_rand.pth\n"
     ]
    },
    {
     "name": "stderr",
     "output_type": "stream",
     "text": [
      "Robust training: 100%|█████████████████████████████████████████████████████████████████| 2/2 [02:41<00:00, 80.85s/it]\n",
      "Normal training: 100%|█████████████████████████████████████████████████████████████| 157/157 [00:27<00:00,  5.63it/s]\n"
     ]
    },
    {
     "name": "stdout",
     "output_type": "stream",
     "text": [
      "Epoch 56\n",
      "==========\n",
      "Train: Train acc 99.49775112443778 | WM acc 6.0\n",
      "Tests: WM acc 100.0 | WM train avg acc 10.62 | Test acc 88.34\n",
      "./models/wm_cifar10_certify_random_8020_rand.pth\n"
     ]
    },
    {
     "name": "stderr",
     "output_type": "stream",
     "text": [
      "Robust training: 100%|█████████████████████████████████████████████████████████████████| 2/2 [02:41<00:00, 80.89s/it]\n",
      "Normal training: 100%|█████████████████████████████████████████████████████████████| 157/157 [00:27<00:00,  5.63it/s]\n"
     ]
    },
    {
     "name": "stdout",
     "output_type": "stream",
     "text": [
      "Epoch 57\n",
      "==========\n",
      "Train: Train acc 99.50274862568716 | WM acc 8.0\n",
      "Tests: WM acc 100.0 | WM train avg acc 10.11 | Test acc 88.31\n",
      "./models/wm_cifar10_certify_random_8020_rand.pth\n"
     ]
    },
    {
     "name": "stderr",
     "output_type": "stream",
     "text": [
      "Robust training: 100%|█████████████████████████████████████████████████████████████████| 2/2 [02:41<00:00, 80.88s/it]\n",
      "Normal training: 100%|█████████████████████████████████████████████████████████████| 157/157 [00:27<00:00,  5.64it/s]\n"
     ]
    },
    {
     "name": "stdout",
     "output_type": "stream",
     "text": [
      "Epoch 58\n",
      "==========\n",
      "Train: Train acc 99.52523738130935 | WM acc 12.0\n",
      "Tests: WM acc 100.0 | WM train avg acc 11.17 | Test acc 88.46000000000001\n",
      "./models/wm_cifar10_certify_random_8020_rand.pth\n"
     ]
    },
    {
     "name": "stderr",
     "output_type": "stream",
     "text": [
      "Robust training: 100%|█████████████████████████████████████████████████████████████████| 2/2 [02:41<00:00, 80.86s/it]\n",
      "Normal training: 100%|█████████████████████████████████████████████████████████████| 157/157 [00:27<00:00,  5.63it/s]\n"
     ]
    },
    {
     "name": "stdout",
     "output_type": "stream",
     "text": [
      "Epoch 59\n",
      "==========\n",
      "Train: Train acc 99.53023488255872 | WM acc 15.0\n",
      "Tests: WM acc 100.0 | WM train avg acc 10.02 | Test acc 88.42\n",
      "./models/wm_cifar10_certify_random_8020_rand.pth\n"
     ]
    },
    {
     "name": "stderr",
     "output_type": "stream",
     "text": [
      "Robust training: 100%|█████████████████████████████████████████████████████████████████| 2/2 [02:41<00:00, 80.90s/it]\n",
      "Normal training: 100%|█████████████████████████████████████████████████████████████| 157/157 [00:27<00:00,  5.64it/s]\n"
     ]
    },
    {
     "name": "stdout",
     "output_type": "stream",
     "text": [
      "Epoch 60\n",
      "==========\n",
      "Train: Train acc 99.6351824087956 | WM acc 7.000000000000001\n",
      "Tests: WM acc 100.0 | WM train avg acc 10.68 | Test acc 88.25\n",
      "./models/wm_cifar10_certify_random_8020_rand.pth\n"
     ]
    },
    {
     "name": "stderr",
     "output_type": "stream",
     "text": [
      "Robust training: 100%|█████████████████████████████████████████████████████████████████| 2/2 [02:41<00:00, 80.65s/it]\n",
      "Normal training: 100%|█████████████████████████████████████████████████████████████| 157/157 [00:27<00:00,  5.64it/s]\n"
     ]
    },
    {
     "name": "stdout",
     "output_type": "stream",
     "text": [
      "Epoch 61\n",
      "==========\n",
      "Train: Train acc 99.60769615192405 | WM acc 15.0\n",
      "Tests: WM acc 100.0 | WM train avg acc 10.49 | Test acc 88.22\n",
      "./models/wm_cifar10_certify_random_8020_rand.pth\n"
     ]
    },
    {
     "name": "stderr",
     "output_type": "stream",
     "text": [
      "Robust training: 100%|█████████████████████████████████████████████████████████████████| 2/2 [02:41<00:00, 80.93s/it]\n",
      "Normal training: 100%|█████████████████████████████████████████████████████████████| 157/157 [00:27<00:00,  5.64it/s]\n"
     ]
    },
    {
     "name": "stdout",
     "output_type": "stream",
     "text": [
      "Epoch 62\n",
      "==========\n",
      "Train: Train acc 99.68515742128935 | WM acc 8.0\n",
      "Tests: WM acc 100.0 | WM train avg acc 10.91 | Test acc 88.41\n",
      "./models/wm_cifar10_certify_random_8020_rand.pth\n"
     ]
    },
    {
     "name": "stderr",
     "output_type": "stream",
     "text": [
      "Robust training: 100%|█████████████████████████████████████████████████████████████████| 2/2 [02:41<00:00, 80.88s/it]\n",
      "Normal training: 100%|█████████████████████████████████████████████████████████████| 157/157 [00:27<00:00,  5.63it/s]\n"
     ]
    },
    {
     "name": "stdout",
     "output_type": "stream",
     "text": [
      "Epoch 63\n",
      "==========\n",
      "Train: Train acc 99.70014992503748 | WM acc 9.0\n",
      "Tests: WM acc 100.0 | WM train avg acc 10.21 | Test acc 88.42999999999999\n",
      "./models/wm_cifar10_certify_random_8020_rand.pth\n"
     ]
    },
    {
     "name": "stderr",
     "output_type": "stream",
     "text": [
      "Robust training: 100%|█████████████████████████████████████████████████████████████████| 2/2 [02:41<00:00, 80.73s/it]\n",
      "Normal training: 100%|█████████████████████████████████████████████████████████████| 157/157 [00:27<00:00,  5.63it/s]\n"
     ]
    },
    {
     "name": "stdout",
     "output_type": "stream",
     "text": [
      "Epoch 64\n",
      "==========\n",
      "Train: Train acc 99.67266366816591 | WM acc 7.000000000000001\n",
      "Tests: WM acc 100.0 | WM train avg acc 10.34 | Test acc 88.3\n",
      "./models/wm_cifar10_certify_random_8020_rand.pth\n"
     ]
    },
    {
     "name": "stderr",
     "output_type": "stream",
     "text": [
      "Robust training: 100%|█████████████████████████████████████████████████████████████████| 2/2 [02:41<00:00, 80.78s/it]\n",
      "Normal training: 100%|█████████████████████████████████████████████████████████████| 157/157 [00:27<00:00,  5.64it/s]\n"
     ]
    },
    {
     "name": "stdout",
     "output_type": "stream",
     "text": [
      "Epoch 65\n",
      "==========\n",
      "Train: Train acc 99.73263368315843 | WM acc 7.000000000000001\n",
      "Tests: WM acc 100.0 | WM train avg acc 10.51 | Test acc 88.4\n",
      "./models/wm_cifar10_certify_random_8020_rand.pth\n"
     ]
    },
    {
     "name": "stderr",
     "output_type": "stream",
     "text": [
      "Robust training: 100%|█████████████████████████████████████████████████████████████████| 2/2 [02:41<00:00, 80.68s/it]\n",
      "Normal training: 100%|█████████████████████████████████████████████████████████████| 157/157 [00:27<00:00,  5.63it/s]\n"
     ]
    },
    {
     "name": "stdout",
     "output_type": "stream",
     "text": [
      "Epoch 66\n",
      "==========\n",
      "Train: Train acc 99.68515742128935 | WM acc 17.0\n",
      "Tests: WM acc 100.0 | WM train avg acc 10.74 | Test acc 88.44\n",
      "./models/wm_cifar10_certify_random_8020_rand.pth\n"
     ]
    },
    {
     "name": "stderr",
     "output_type": "stream",
     "text": [
      "Robust training: 100%|█████████████████████████████████████████████████████████████████| 2/2 [02:41<00:00, 80.72s/it]\n",
      "Normal training: 100%|█████████████████████████████████████████████████████████████| 157/157 [00:27<00:00,  5.63it/s]\n"
     ]
    },
    {
     "name": "stdout",
     "output_type": "stream",
     "text": [
      "Epoch 67\n",
      "==========\n",
      "Train: Train acc 99.73513243378311 | WM acc 11.0\n",
      "Tests: WM acc 100.0 | WM train avg acc 10.6 | Test acc 88.41\n",
      "./models/wm_cifar10_certify_random_8020_rand.pth\n"
     ]
    },
    {
     "name": "stderr",
     "output_type": "stream",
     "text": [
      "Robust training: 100%|█████████████████████████████████████████████████████████████████| 2/2 [02:41<00:00, 80.65s/it]\n",
      "Normal training: 100%|█████████████████████████████████████████████████████████████| 157/157 [00:27<00:00,  5.63it/s]\n"
     ]
    },
    {
     "name": "stdout",
     "output_type": "stream",
     "text": [
      "Epoch 68\n",
      "==========\n",
      "Train: Train acc 99.70514742628686 | WM acc 6.0\n",
      "Tests: WM acc 100.0 | WM train avg acc 10.58 | Test acc 88.42\n",
      "./models/wm_cifar10_certify_random_8020_rand.pth\n"
     ]
    },
    {
     "name": "stderr",
     "output_type": "stream",
     "text": [
      "Robust training: 100%|█████████████████████████████████████████████████████████████████| 2/2 [02:41<00:00, 80.81s/it]\n",
      "Normal training: 100%|█████████████████████████████████████████████████████████████| 157/157 [00:27<00:00,  5.63it/s]\n"
     ]
    },
    {
     "name": "stdout",
     "output_type": "stream",
     "text": [
      "Epoch 69\n",
      "==========\n",
      "Train: Train acc 99.73013493253373 | WM acc 17.0\n",
      "Tests: WM acc 100.0 | WM train avg acc 10.56 | Test acc 88.31\n",
      "./models/wm_cifar10_certify_random_8020_rand.pth\n"
     ]
    },
    {
     "name": "stderr",
     "output_type": "stream",
     "text": [
      "Robust training: 100%|█████████████████████████████████████████████████████████████████| 2/2 [02:41<00:00, 80.71s/it]\n",
      "Normal training: 100%|█████████████████████████████████████████████████████████████| 157/157 [00:27<00:00,  5.63it/s]\n"
     ]
    },
    {
     "name": "stdout",
     "output_type": "stream",
     "text": [
      "Epoch 70\n",
      "==========\n",
      "Train: Train acc 99.68515742128935 | WM acc 13.0\n",
      "Tests: WM acc 100.0 | WM train avg acc 11.18 | Test acc 88.53999999999999\n",
      "./models/wm_cifar10_certify_random_8020_rand.pth\n"
     ]
    },
    {
     "name": "stderr",
     "output_type": "stream",
     "text": [
      "Robust training: 100%|█████████████████████████████████████████████████████████████████| 2/2 [02:41<00:00, 80.85s/it]\n",
      "Normal training: 100%|█████████████████████████████████████████████████████████████| 157/157 [00:27<00:00,  5.63it/s]\n"
     ]
    },
    {
     "name": "stdout",
     "output_type": "stream",
     "text": [
      "Epoch 71\n",
      "==========\n",
      "Train: Train acc 99.76261869065468 | WM acc 9.0\n",
      "Tests: WM acc 100.0 | WM train avg acc 10.74 | Test acc 88.36\n",
      "./models/wm_cifar10_certify_random_8020_rand.pth\n"
     ]
    },
    {
     "name": "stderr",
     "output_type": "stream",
     "text": [
      "Robust training: 100%|█████████████████████████████████████████████████████████████████| 2/2 [02:41<00:00, 80.57s/it]\n",
      "Normal training: 100%|█████████████████████████████████████████████████████████████| 157/157 [00:27<00:00,  5.63it/s]\n"
     ]
    },
    {
     "name": "stdout",
     "output_type": "stream",
     "text": [
      "Epoch 72\n",
      "==========\n",
      "Train: Train acc 99.72763618190903 | WM acc 16.0\n",
      "Tests: WM acc 100.0 | WM train avg acc 10.85 | Test acc 88.44\n",
      "./models/wm_cifar10_certify_random_8020_rand.pth\n"
     ]
    },
    {
     "name": "stderr",
     "output_type": "stream",
     "text": [
      "Robust training: 100%|█████████████████████████████████████████████████████████████████| 2/2 [02:41<00:00, 80.77s/it]\n",
      "Normal training: 100%|█████████████████████████████████████████████████████████████| 157/157 [00:27<00:00,  5.63it/s]\n"
     ]
    },
    {
     "name": "stdout",
     "output_type": "stream",
     "text": [
      "Epoch 73\n",
      "==========\n",
      "Train: Train acc 99.76261869065468 | WM acc 11.0\n",
      "Tests: WM acc 100.0 | WM train avg acc 10.72 | Test acc 88.42999999999999\n",
      "./models/wm_cifar10_certify_random_8020_rand.pth\n"
     ]
    },
    {
     "name": "stderr",
     "output_type": "stream",
     "text": [
      "Robust training: 100%|█████████████████████████████████████████████████████████████████| 2/2 [02:41<00:00, 80.53s/it]\n",
      "Normal training: 100%|█████████████████████████████████████████████████████████████| 157/157 [00:27<00:00,  5.62it/s]\n"
     ]
    },
    {
     "name": "stdout",
     "output_type": "stream",
     "text": [
      "Epoch 74\n",
      "==========\n",
      "Train: Train acc 99.76761619190405 | WM acc 9.0\n",
      "Tests: WM acc 100.0 | WM train avg acc 10.5 | Test acc 88.53\n",
      "./models/wm_cifar10_certify_random_8020_rand.pth\n"
     ]
    },
    {
     "name": "stderr",
     "output_type": "stream",
     "text": [
      "Robust training: 100%|█████████████████████████████████████████████████████████████████| 2/2 [02:41<00:00, 80.79s/it]\n",
      "Normal training: 100%|█████████████████████████████████████████████████████████████| 157/157 [00:27<00:00,  5.63it/s]\n"
     ]
    },
    {
     "name": "stdout",
     "output_type": "stream",
     "text": [
      "Epoch 75\n",
      "==========\n",
      "Train: Train acc 99.72013993003497 | WM acc 11.0\n",
      "Tests: WM acc 100.0 | WM train avg acc 10.62 | Test acc 88.53\n",
      "./models/wm_cifar10_certify_random_8020_rand.pth\n"
     ]
    },
    {
     "name": "stderr",
     "output_type": "stream",
     "text": [
      "Robust training: 100%|█████████████████████████████████████████████████████████████████| 2/2 [02:41<00:00, 80.82s/it]\n",
      "Normal training: 100%|█████████████████████████████████████████████████████████████| 157/157 [00:27<00:00,  5.63it/s]\n"
     ]
    },
    {
     "name": "stdout",
     "output_type": "stream",
     "text": [
      "Epoch 76\n",
      "==========\n",
      "Train: Train acc 99.79510244877561 | WM acc 16.0\n",
      "Tests: WM acc 100.0 | WM train avg acc 10.62 | Test acc 88.36\n",
      "./models/wm_cifar10_certify_random_8020_rand.pth\n"
     ]
    },
    {
     "name": "stderr",
     "output_type": "stream",
     "text": [
      "Robust training: 100%|█████████████████████████████████████████████████████████████████| 2/2 [02:41<00:00, 80.80s/it]\n",
      "Normal training: 100%|█████████████████████████████████████████████████████████████| 157/157 [00:27<00:00,  5.64it/s]\n"
     ]
    },
    {
     "name": "stdout",
     "output_type": "stream",
     "text": [
      "Epoch 77\n",
      "==========\n",
      "Train: Train acc 99.75012493753124 | WM acc 12.0\n",
      "Tests: WM acc 100.0 | WM train avg acc 10.56 | Test acc 88.49000000000001\n",
      "./models/wm_cifar10_certify_random_8020_rand.pth\n"
     ]
    },
    {
     "name": "stderr",
     "output_type": "stream",
     "text": [
      "Robust training: 100%|█████████████████████████████████████████████████████████████████| 2/2 [02:41<00:00, 80.86s/it]\n",
      "Normal training: 100%|█████████████████████████████████████████████████████████████| 157/157 [00:27<00:00,  5.63it/s]\n"
     ]
    },
    {
     "name": "stdout",
     "output_type": "stream",
     "text": [
      "Epoch 78\n",
      "==========\n",
      "Train: Train acc 99.68015992003998 | WM acc 16.0\n",
      "Tests: WM acc 100.0 | WM train avg acc 10.23 | Test acc 88.42\n",
      "./models/wm_cifar10_certify_random_8020_rand.pth\n"
     ]
    },
    {
     "name": "stderr",
     "output_type": "stream",
     "text": [
      "Robust training: 100%|█████████████████████████████████████████████████████████████████| 2/2 [02:41<00:00, 80.76s/it]\n",
      "Normal training: 100%|█████████████████████████████████████████████████████████████| 157/157 [00:27<00:00,  5.63it/s]\n"
     ]
    },
    {
     "name": "stdout",
     "output_type": "stream",
     "text": [
      "Epoch 79\n",
      "==========\n",
      "Train: Train acc 99.76761619190405 | WM acc 9.0\n",
      "Tests: WM acc 100.0 | WM train avg acc 10.51 | Test acc 88.47\n",
      "./models/wm_cifar10_certify_random_8020_rand.pth\n"
     ]
    },
    {
     "name": "stderr",
     "output_type": "stream",
     "text": [
      "Robust training: 100%|█████████████████████████████████████████████████████████████████| 2/2 [02:41<00:00, 80.62s/it]\n",
      "Normal training: 100%|█████████████████████████████████████████████████████████████| 157/157 [00:27<00:00,  5.65it/s]\n"
     ]
    },
    {
     "name": "stdout",
     "output_type": "stream",
     "text": [
      "Epoch 80\n",
      "==========\n",
      "Train: Train acc 99.78510744627687 | WM acc 8.0\n",
      "Tests: WM acc 100.0 | WM train avg acc 10.28 | Test acc 88.47\n",
      "./models/wm_cifar10_certify_random_8020_rand.pth\n"
     ]
    },
    {
     "name": "stderr",
     "output_type": "stream",
     "text": [
      "Robust training: 100%|█████████████████████████████████████████████████████████████████| 2/2 [02:41<00:00, 80.68s/it]\n",
      "Normal training: 100%|█████████████████████████████████████████████████████████████| 157/157 [00:27<00:00,  5.62it/s]\n"
     ]
    },
    {
     "name": "stdout",
     "output_type": "stream",
     "text": [
      "Epoch 81\n",
      "==========\n",
      "Train: Train acc 99.77261369315342 | WM acc 10.0\n",
      "Tests: WM acc 100.0 | WM train avg acc 10.43 | Test acc 88.53999999999999\n",
      "./models/wm_cifar10_certify_random_8020_rand.pth\n"
     ]
    },
    {
     "name": "stderr",
     "output_type": "stream",
     "text": [
      "Robust training: 100%|█████████████████████████████████████████████████████████████████| 2/2 [02:41<00:00, 80.79s/it]\n",
      "Normal training: 100%|█████████████████████████████████████████████████████████████| 157/157 [00:27<00:00,  5.63it/s]\n"
     ]
    },
    {
     "name": "stdout",
     "output_type": "stream",
     "text": [
      "Epoch 82\n",
      "==========\n",
      "Train: Train acc 99.72513743128437 | WM acc 10.0\n",
      "Tests: WM acc 100.0 | WM train avg acc 10.7 | Test acc 88.44999999999999\n",
      "./models/wm_cifar10_certify_random_8020_rand.pth\n"
     ]
    },
    {
     "name": "stderr",
     "output_type": "stream",
     "text": [
      "Robust training: 100%|█████████████████████████████████████████████████████████████████| 2/2 [02:41<00:00, 80.76s/it]\n",
      "Normal training: 100%|█████████████████████████████████████████████████████████████| 157/157 [00:27<00:00,  5.64it/s]\n"
     ]
    },
    {
     "name": "stdout",
     "output_type": "stream",
     "text": [
      "Epoch 83\n",
      "==========\n",
      "Train: Train acc 99.75262368815592 | WM acc 7.000000000000001\n",
      "Tests: WM acc 100.0 | WM train avg acc 10.66 | Test acc 88.47\n",
      "./models/wm_cifar10_certify_random_8020_rand.pth\n"
     ]
    },
    {
     "name": "stderr",
     "output_type": "stream",
     "text": [
      "Robust training: 100%|█████████████████████████████████████████████████████████████████| 2/2 [02:41<00:00, 80.69s/it]\n",
      "Normal training: 100%|█████████████████████████████████████████████████████████████| 157/157 [00:27<00:00,  5.65it/s]\n"
     ]
    },
    {
     "name": "stdout",
     "output_type": "stream",
     "text": [
      "Epoch 84\n",
      "==========\n",
      "Train: Train acc 99.74012993503248 | WM acc 12.0\n",
      "Tests: WM acc 100.0 | WM train avg acc 10.85 | Test acc 88.47\n",
      "./models/wm_cifar10_certify_random_8020_rand.pth\n"
     ]
    },
    {
     "name": "stderr",
     "output_type": "stream",
     "text": [
      "Robust training: 100%|█████████████████████████████████████████████████████████████████| 2/2 [02:41<00:00, 80.72s/it]\n",
      "Normal training: 100%|█████████████████████████████████████████████████████████████| 157/157 [00:27<00:00,  5.64it/s]\n"
     ]
    },
    {
     "name": "stdout",
     "output_type": "stream",
     "text": [
      "Epoch 85\n",
      "==========\n",
      "Train: Train acc 99.77011494252874 | WM acc 8.0\n",
      "Tests: WM acc 100.0 | WM train avg acc 10.3 | Test acc 88.42999999999999\n",
      "./models/wm_cifar10_certify_random_8020_rand.pth\n"
     ]
    },
    {
     "name": "stderr",
     "output_type": "stream",
     "text": [
      "Robust training: 100%|█████████████████████████████████████████████████████████████████| 2/2 [02:41<00:00, 80.66s/it]\n",
      "Normal training: 100%|█████████████████████████████████████████████████████████████| 157/157 [00:27<00:00,  5.63it/s]\n"
     ]
    },
    {
     "name": "stdout",
     "output_type": "stream",
     "text": [
      "Epoch 86\n",
      "==========\n",
      "Train: Train acc 99.76511744127936 | WM acc 19.0\n",
      "Tests: WM acc 100.0 | WM train avg acc 10.4 | Test acc 88.48\n",
      "./models/wm_cifar10_certify_random_8020_rand.pth\n"
     ]
    },
    {
     "name": "stderr",
     "output_type": "stream",
     "text": [
      "Robust training: 100%|█████████████████████████████████████████████████████████████████| 2/2 [02:41<00:00, 80.63s/it]\n",
      "Normal training: 100%|█████████████████████████████████████████████████████████████| 157/157 [00:27<00:00,  5.64it/s]\n"
     ]
    },
    {
     "name": "stdout",
     "output_type": "stream",
     "text": [
      "Epoch 87\n",
      "==========\n",
      "Train: Train acc 99.73013493253373 | WM acc 12.0\n",
      "Tests: WM acc 100.0 | WM train avg acc 10.24 | Test acc 88.47\n",
      "./models/wm_cifar10_certify_random_8020_rand.pth\n"
     ]
    },
    {
     "name": "stderr",
     "output_type": "stream",
     "text": [
      "Robust training: 100%|█████████████████████████████████████████████████████████████████| 2/2 [02:41<00:00, 80.60s/it]\n",
      "Normal training: 100%|█████████████████████████████████████████████████████████████| 157/157 [00:27<00:00,  5.64it/s]\n"
     ]
    },
    {
     "name": "stdout",
     "output_type": "stream",
     "text": [
      "Epoch 88\n",
      "==========\n",
      "Train: Train acc 99.77261369315342 | WM acc 11.0\n",
      "Tests: WM acc 100.0 | WM train avg acc 10.53 | Test acc 88.48\n",
      "./models/wm_cifar10_certify_random_8020_rand.pth\n"
     ]
    },
    {
     "name": "stderr",
     "output_type": "stream",
     "text": [
      "Robust training: 100%|█████████████████████████████████████████████████████████████████| 2/2 [02:41<00:00, 80.69s/it]\n",
      "Normal training: 100%|█████████████████████████████████████████████████████████████| 157/157 [00:27<00:00,  5.63it/s]\n"
     ]
    },
    {
     "name": "stdout",
     "output_type": "stream",
     "text": [
      "Epoch 89\n",
      "==========\n",
      "Train: Train acc 99.78010994502749 | WM acc 13.0\n",
      "Tests: WM acc 100.0 | WM train avg acc 10.62 | Test acc 88.41\n",
      "./models/wm_cifar10_certify_random_8020_rand.pth\n"
     ]
    },
    {
     "name": "stderr",
     "output_type": "stream",
     "text": [
      "Robust training: 100%|█████████████████████████████████████████████████████████████████| 2/2 [02:41<00:00, 80.72s/it]\n",
      "Normal training: 100%|█████████████████████████████████████████████████████████████| 157/157 [00:27<00:00,  5.64it/s]\n"
     ]
    },
    {
     "name": "stdout",
     "output_type": "stream",
     "text": [
      "Epoch 90\n",
      "==========\n",
      "Train: Train acc 99.78760619690155 | WM acc 13.0\n",
      "Tests: WM acc 100.0 | WM train avg acc 10.12 | Test acc 88.55\n",
      "./models/wm_cifar10_certify_random_8020_rand.pth\n"
     ]
    },
    {
     "name": "stderr",
     "output_type": "stream",
     "text": [
      "Robust training: 100%|█████████████████████████████████████████████████████████████████| 2/2 [02:41<00:00, 80.81s/it]\n",
      "Normal training: 100%|█████████████████████████████████████████████████████████████| 157/157 [00:27<00:00,  5.64it/s]\n"
     ]
    },
    {
     "name": "stdout",
     "output_type": "stream",
     "text": [
      "Epoch 91\n",
      "==========\n",
      "Train: Train acc 99.79510244877561 | WM acc 17.0\n",
      "Tests: WM acc 100.0 | WM train avg acc 10.24 | Test acc 88.53999999999999\n",
      "./models/wm_cifar10_certify_random_8020_rand.pth\n"
     ]
    },
    {
     "name": "stderr",
     "output_type": "stream",
     "text": [
      "Robust training: 100%|█████████████████████████████████████████████████████████████████| 2/2 [02:41<00:00, 80.76s/it]\n",
      "Normal training: 100%|█████████████████████████████████████████████████████████████| 157/157 [00:27<00:00,  5.64it/s]\n"
     ]
    },
    {
     "name": "stdout",
     "output_type": "stream",
     "text": [
      "Epoch 92\n",
      "==========\n",
      "Train: Train acc 99.7551224387806 | WM acc 12.0\n",
      "Tests: WM acc 100.0 | WM train avg acc 10.45 | Test acc 88.58\n",
      "./models/wm_cifar10_certify_random_8020_rand.pth\n"
     ]
    },
    {
     "name": "stderr",
     "output_type": "stream",
     "text": [
      "Robust training: 100%|█████████████████████████████████████████████████████████████████| 2/2 [02:41<00:00, 80.71s/it]\n",
      "Normal training: 100%|█████████████████████████████████████████████████████████████| 157/157 [00:27<00:00,  5.64it/s]\n"
     ]
    },
    {
     "name": "stdout",
     "output_type": "stream",
     "text": [
      "Epoch 93\n",
      "==========\n",
      "Train: Train acc 99.77261369315342 | WM acc 11.0\n",
      "Tests: WM acc 100.0 | WM train avg acc 10.67 | Test acc 88.55\n",
      "./models/wm_cifar10_certify_random_8020_rand.pth\n"
     ]
    },
    {
     "name": "stderr",
     "output_type": "stream",
     "text": [
      "Robust training: 100%|█████████████████████████████████████████████████████████████████| 2/2 [02:41<00:00, 80.68s/it]\n",
      "Normal training: 100%|█████████████████████████████████████████████████████████████| 157/157 [00:27<00:00,  5.65it/s]\n"
     ]
    },
    {
     "name": "stdout",
     "output_type": "stream",
     "text": [
      "Epoch 94\n",
      "==========\n",
      "Train: Train acc 99.78260869565217 | WM acc 5.0\n",
      "Tests: WM acc 100.0 | WM train avg acc 10.5 | Test acc 88.55\n",
      "./models/wm_cifar10_certify_random_8020_rand.pth\n"
     ]
    },
    {
     "name": "stderr",
     "output_type": "stream",
     "text": [
      "Robust training: 100%|█████████████████████████████████████████████████████████████████| 2/2 [02:41<00:00, 80.57s/it]\n",
      "Normal training: 100%|█████████████████████████████████████████████████████████████| 157/157 [00:27<00:00,  5.64it/s]\n"
     ]
    },
    {
     "name": "stdout",
     "output_type": "stream",
     "text": [
      "Epoch 95\n",
      "==========\n",
      "Train: Train acc 99.77011494252874 | WM acc 9.0\n",
      "Tests: WM acc 100.0 | WM train avg acc 10.55 | Test acc 88.55\n",
      "./models/wm_cifar10_certify_random_8020_rand.pth\n"
     ]
    },
    {
     "name": "stderr",
     "output_type": "stream",
     "text": [
      "Robust training: 100%|█████████████████████████████████████████████████████████████████| 2/2 [02:41<00:00, 80.51s/it]\n",
      "Normal training: 100%|█████████████████████████████████████████████████████████████| 157/157 [00:27<00:00,  5.65it/s]\n"
     ]
    },
    {
     "name": "stdout",
     "output_type": "stream",
     "text": [
      "Epoch 96\n",
      "==========\n",
      "Train: Train acc 99.78010994502749 | WM acc 13.0\n",
      "Tests: WM acc 100.0 | WM train avg acc 10.53 | Test acc 88.6\n",
      "./models/wm_cifar10_certify_random_8020_rand.pth\n"
     ]
    },
    {
     "name": "stderr",
     "output_type": "stream",
     "text": [
      "Robust training: 100%|█████████████████████████████████████████████████████████████████| 2/2 [02:41<00:00, 80.61s/it]\n",
      "Normal training: 100%|█████████████████████████████████████████████████████████████| 157/157 [00:27<00:00,  5.64it/s]\n"
     ]
    },
    {
     "name": "stdout",
     "output_type": "stream",
     "text": [
      "Epoch 97\n",
      "==========\n",
      "Train: Train acc 99.81009495252374 | WM acc 11.0\n",
      "Tests: WM acc 100.0 | WM train avg acc 10.05 | Test acc 88.53\n",
      "./models/wm_cifar10_certify_random_8020_rand.pth\n"
     ]
    },
    {
     "name": "stderr",
     "output_type": "stream",
     "text": [
      "Robust training: 100%|█████████████████████████████████████████████████████████████████| 2/2 [02:41<00:00, 80.80s/it]\n",
      "Normal training: 100%|█████████████████████████████████████████████████████████████| 157/157 [00:27<00:00,  5.63it/s]\n"
     ]
    },
    {
     "name": "stdout",
     "output_type": "stream",
     "text": [
      "Epoch 98\n",
      "==========\n",
      "Train: Train acc 99.7776111944028 | WM acc 12.0\n",
      "Tests: WM acc 100.0 | WM train avg acc 10.5 | Test acc 88.42\n",
      "./models/wm_cifar10_certify_random_8020_rand.pth\n"
     ]
    },
    {
     "name": "stderr",
     "output_type": "stream",
     "text": [
      "Robust training: 100%|█████████████████████████████████████████████████████████████████| 2/2 [02:41<00:00, 80.63s/it]\n",
      "Normal training: 100%|█████████████████████████████████████████████████████████████| 157/157 [00:27<00:00,  5.63it/s]\n"
     ]
    },
    {
     "name": "stdout",
     "output_type": "stream",
     "text": [
      "Epoch 99\n",
      "==========\n",
      "Train: Train acc 99.76011994003 | WM acc 11.0\n",
      "Tests: WM acc 100.0 | WM train avg acc 10.55 | Test acc 88.55\n",
      "./models/wm_cifar10_certify_random_8020_rand.pth\n"
     ]
    }
   ],
   "source": [
    "net = ResNet18()\n",
    "optimizer = torch.optim.SGD(net.parameters(), lr=0.05, momentum=0.9, weight_decay=1e-4)\n",
    "scheduler = torch.optim.lr_scheduler.StepLR(optimizer, step_size=30, gamma=0.1)\n",
    "\n",
    "train_certified_wm(\n",
    "    net,\n",
    "    rand_mix_loader,\n",
    "    wmloader,\n",
    "    testloader,\n",
    "    optimizer,\n",
    "    scheduler,\n",
    "    cert_type='random_8020_rand',\n",
    "    epochs=100,\n",
    "    warmup_epochs=10\n",
    ")"
   ]
  },
  {
   "cell_type": "markdown",
   "id": "be4b311f-0a05-42a6-9d3b-92f75fb39e51",
   "metadata": {},
   "source": [
    "Unrelated "
   ]
  },
  {
   "cell_type": "code",
   "execution_count": null,
   "id": "0c3e902c-fd98-4a2f-9044-64240e95d4dd",
   "metadata": {},
   "outputs": [
    {
     "name": "stderr",
     "output_type": "stream",
     "text": [
      "Normal training: 100%|█████████████████████████████████████████████████████████████| 157/157 [00:27<00:00,  5.67it/s]\n"
     ]
    },
    {
     "name": "stdout",
     "output_type": "stream",
     "text": [
      "Epoch 0\n",
      "==========\n",
      "Train: Train acc 37.4687656171914 | WM acc 0.0\n",
      "Tests: WM acc 98.0 | WM train avg acc 13.05 | Test acc 41.870000000000005\n",
      "./models/wm_cifar10_certify_random_8020_unrl.pth\n"
     ]
    },
    {
     "name": "stderr",
     "output_type": "stream",
     "text": [
      "Normal training: 100%|█████████████████████████████████████████████████████████████| 157/157 [00:15<00:00, 10.41it/s]\n"
     ]
    },
    {
     "name": "stdout",
     "output_type": "stream",
     "text": [
      "Epoch 1\n",
      "==========\n",
      "Train: Train acc 54.835082458770614 | WM acc 0.0\n",
      "Tests: WM acc 76.0 | WM train avg acc 9.81 | Test acc 51.800000000000004\n",
      "./models/wm_cifar10_certify_random_8020_unrl.pth\n"
     ]
    },
    {
     "name": "stderr",
     "output_type": "stream",
     "text": [
      "Normal training: 100%|█████████████████████████████████████████████████████████████| 157/157 [00:27<00:00,  5.65it/s]\n"
     ]
    },
    {
     "name": "stdout",
     "output_type": "stream",
     "text": [
      "Epoch 2\n",
      "==========\n",
      "Train: Train acc 64.37281359320339 | WM acc 0.0\n",
      "Tests: WM acc 13.0 | WM train avg acc 8.83 | Test acc 64.34\n",
      "./models/wm_cifar10_certify_random_8020_unrl.pth\n"
     ]
    },
    {
     "name": "stderr",
     "output_type": "stream",
     "text": [
      "Normal training: 100%|█████████████████████████████████████████████████████████████| 157/157 [00:27<00:00,  5.66it/s]\n"
     ]
    },
    {
     "name": "stdout",
     "output_type": "stream",
     "text": [
      "Epoch 3\n",
      "==========\n",
      "Train: Train acc 69.98500749625187 | WM acc 0.0\n",
      "Tests: WM acc 100.0 | WM train avg acc 5.15 | Test acc 69.59\n",
      "./models/wm_cifar10_certify_random_8020_unrl.pth\n"
     ]
    },
    {
     "name": "stderr",
     "output_type": "stream",
     "text": [
      "Normal training: 100%|█████████████████████████████████████████████████████████████| 157/157 [00:27<00:00,  5.74it/s]\n"
     ]
    },
    {
     "name": "stdout",
     "output_type": "stream",
     "text": [
      "Epoch 4\n",
      "==========\n",
      "Train: Train acc 74.53773113443279 | WM acc 0.0\n",
      "Tests: WM acc 100.0 | WM train avg acc 7.35 | Test acc 74.16\n",
      "./models/wm_cifar10_certify_random_8020_unrl.pth\n"
     ]
    },
    {
     "name": "stderr",
     "output_type": "stream",
     "text": [
      "Normal training: 100%|█████████████████████████████████████████████████████████████| 157/157 [00:27<00:00,  5.66it/s]\n"
     ]
    },
    {
     "name": "stdout",
     "output_type": "stream",
     "text": [
      "Epoch 5\n",
      "==========\n",
      "Train: Train acc 76.95652173913044 | WM acc 0.0\n",
      "Tests: WM acc 100.0 | WM train avg acc 16.18 | Test acc 73.3\n",
      "./models/wm_cifar10_certify_random_8020_unrl.pth\n"
     ]
    },
    {
     "name": "stderr",
     "output_type": "stream",
     "text": [
      "Normal training: 100%|█████████████████████████████████████████████████████████████| 157/157 [00:27<00:00,  5.63it/s]\n"
     ]
    },
    {
     "name": "stdout",
     "output_type": "stream",
     "text": [
      "Epoch 6\n",
      "==========\n",
      "Train: Train acc 78.71314342828586 | WM acc 0.0\n",
      "Tests: WM acc 99.0 | WM train avg acc 8.81 | Test acc 72.05\n",
      "./models/wm_cifar10_certify_random_8020_unrl.pth\n"
     ]
    },
    {
     "name": "stderr",
     "output_type": "stream",
     "text": [
      "Normal training: 100%|█████████████████████████████████████████████████████████████| 157/157 [00:27<00:00,  5.71it/s]\n"
     ]
    },
    {
     "name": "stdout",
     "output_type": "stream",
     "text": [
      "Epoch 7\n",
      "==========\n",
      "Train: Train acc 80.83958020989506 | WM acc 0.0\n",
      "Tests: WM acc 100.0 | WM train avg acc 14.44 | Test acc 78.51\n",
      "./models/wm_cifar10_certify_random_8020_unrl.pth\n"
     ]
    },
    {
     "name": "stderr",
     "output_type": "stream",
     "text": [
      "Normal training: 100%|█████████████████████████████████████████████████████████████| 157/157 [00:15<00:00,  9.86it/s]\n"
     ]
    },
    {
     "name": "stdout",
     "output_type": "stream",
     "text": [
      "Epoch 8\n",
      "==========\n",
      "Train: Train acc 81.79660169915043 | WM acc 0.0\n",
      "Tests: WM acc 75.0 | WM train avg acc 11.4 | Test acc 78.58000000000001\n",
      "./models/wm_cifar10_certify_random_8020_unrl.pth\n"
     ]
    },
    {
     "name": "stderr",
     "output_type": "stream",
     "text": [
      "Normal training: 100%|█████████████████████████████████████████████████████████████| 157/157 [00:27<00:00,  5.64it/s]\n"
     ]
    },
    {
     "name": "stdout",
     "output_type": "stream",
     "text": [
      "Epoch 9\n",
      "==========\n",
      "Train: Train acc 82.90104947526237 | WM acc 0.0\n",
      "Tests: WM acc 100.0 | WM train avg acc 9.24 | Test acc 78.72\n",
      "./models/wm_cifar10_certify_random_8020_unrl.pth\n"
     ]
    },
    {
     "name": "stderr",
     "output_type": "stream",
     "text": [
      "Normal training: 100%|█████████████████████████████████████████████████████████████| 157/157 [00:27<00:00,  5.66it/s]\n"
     ]
    },
    {
     "name": "stdout",
     "output_type": "stream",
     "text": [
      "Epoch 10\n",
      "==========\n",
      "Train: Train acc 84.01549225387306 | WM acc 0.0\n",
      "Tests: WM acc 100.0 | WM train avg acc 8.99 | Test acc 75.76\n",
      "./models/wm_cifar10_certify_random_8020_unrl.pth\n"
     ]
    },
    {
     "name": "stderr",
     "output_type": "stream",
     "text": [
      "Robust training: 100%|█████████████████████████████████████████████████████████████████| 2/2 [02:40<00:00, 80.23s/it]\n",
      "Normal training: 100%|█████████████████████████████████████████████████████████████| 157/157 [00:27<00:00,  5.66it/s]\n"
     ]
    },
    {
     "name": "stdout",
     "output_type": "stream",
     "text": [
      "Epoch 11\n",
      "==========\n",
      "Train: Train acc 34.342828585707146 | WM acc 36.0\n",
      "Tests: WM acc 70.0 | WM train avg acc 0.0 | Test acc 51.24999999999999\n",
      "./models/wm_cifar10_certify_random_8020_unrl.pth\n"
     ]
    },
    {
     "name": "stderr",
     "output_type": "stream",
     "text": [
      "Robust training: 100%|█████████████████████████████████████████████████████████████████| 2/2 [02:40<00:00, 80.19s/it]\n",
      "Normal training: 100%|█████████████████████████████████████████████████████████████| 157/157 [00:27<00:00,  5.66it/s]\n"
     ]
    },
    {
     "name": "stdout",
     "output_type": "stream",
     "text": [
      "Epoch 12\n",
      "==========\n",
      "Train: Train acc 57.52623688155922 | WM acc 100.0\n",
      "Tests: WM acc 66.0 | WM train avg acc 61.24 | Test acc 68.27\n",
      "./models/wm_cifar10_certify_random_8020_unrl.pth\n"
     ]
    },
    {
     "name": "stderr",
     "output_type": "stream",
     "text": [
      "Robust training: 100%|█████████████████████████████████████████████████████████████████| 2/2 [02:40<00:00, 80.40s/it]\n",
      "Normal training: 100%|█████████████████████████████████████████████████████████████| 157/157 [00:27<00:00,  5.68it/s]\n"
     ]
    },
    {
     "name": "stdout",
     "output_type": "stream",
     "text": [
      "Epoch 13\n",
      "==========\n",
      "Train: Train acc 72.51874062968515 | WM acc 100.0\n",
      "Tests: WM acc 100.0 | WM train avg acc 68.38 | Test acc 73.39\n",
      "./models/wm_cifar10_certify_random_8020_unrl.pth\n"
     ]
    },
    {
     "name": "stderr",
     "output_type": "stream",
     "text": [
      "Robust training: 100%|█████████████████████████████████████████████████████████████████| 2/2 [02:41<00:00, 80.62s/it]\n",
      "Normal training: 100%|█████████████████████████████████████████████████████████████| 157/157 [00:27<00:00,  5.68it/s]\n"
     ]
    },
    {
     "name": "stdout",
     "output_type": "stream",
     "text": [
      "Epoch 14\n",
      "==========\n",
      "Train: Train acc 77.94602698650675 | WM acc 100.0\n",
      "Tests: WM acc 100.0 | WM train avg acc 71.7 | Test acc 76.55999999999999\n",
      "./models/wm_cifar10_certify_random_8020_unrl.pth\n"
     ]
    },
    {
     "name": "stderr",
     "output_type": "stream",
     "text": [
      "Robust training: 100%|█████████████████████████████████████████████████████████████████| 2/2 [02:41<00:00, 80.52s/it]\n",
      "Normal training: 100%|█████████████████████████████████████████████████████████████| 157/157 [00:27<00:00,  5.67it/s]\n"
     ]
    },
    {
     "name": "stdout",
     "output_type": "stream",
     "text": [
      "Epoch 15\n",
      "==========\n",
      "Train: Train acc 80.20989505247377 | WM acc 93.0\n",
      "Tests: WM acc 100.0 | WM train avg acc 79.94 | Test acc 78.03\n",
      "./models/wm_cifar10_certify_random_8020_unrl.pth\n"
     ]
    },
    {
     "name": "stderr",
     "output_type": "stream",
     "text": [
      "Robust training: 100%|█████████████████████████████████████████████████████████████████| 2/2 [02:41<00:00, 80.68s/it]\n",
      "Normal training: 100%|█████████████████████████████████████████████████████████████| 157/157 [00:27<00:00,  5.68it/s]\n"
     ]
    },
    {
     "name": "stdout",
     "output_type": "stream",
     "text": [
      "Epoch 16\n",
      "==========\n",
      "Train: Train acc 82.74362818590704 | WM acc 100.0\n",
      "Tests: WM acc 100.0 | WM train avg acc 79.84 | Test acc 79.3\n",
      "./models/wm_cifar10_certify_random_8020_unrl.pth\n"
     ]
    },
    {
     "name": "stderr",
     "output_type": "stream",
     "text": [
      "Robust training: 100%|█████████████████████████████████████████████████████████████████| 2/2 [02:41<00:00, 80.62s/it]\n",
      "Normal training: 100%|█████████████████████████████████████████████████████████████| 157/157 [00:27<00:00,  5.67it/s]\n"
     ]
    },
    {
     "name": "stdout",
     "output_type": "stream",
     "text": [
      "Epoch 17\n",
      "==========\n",
      "Train: Train acc 83.2783608195902 | WM acc 100.0\n",
      "Tests: WM acc 94.0 | WM train avg acc 77.08 | Test acc 75.99000000000001\n",
      "./models/wm_cifar10_certify_random_8020_unrl.pth\n"
     ]
    },
    {
     "name": "stderr",
     "output_type": "stream",
     "text": [
      "Robust training: 100%|█████████████████████████████████████████████████████████████████| 2/2 [02:41<00:00, 80.70s/it]\n",
      "Normal training: 100%|█████████████████████████████████████████████████████████████| 157/157 [00:27<00:00,  5.66it/s]\n"
     ]
    },
    {
     "name": "stdout",
     "output_type": "stream",
     "text": [
      "Epoch 18\n",
      "==========\n",
      "Train: Train acc 84.60769615192405 | WM acc 100.0\n",
      "Tests: WM acc 100.0 | WM train avg acc 80.59 | Test acc 78.96\n",
      "./models/wm_cifar10_certify_random_8020_unrl.pth\n"
     ]
    },
    {
     "name": "stderr",
     "output_type": "stream",
     "text": [
      "Robust training: 100%|█████████████████████████████████████████████████████████████████| 2/2 [02:17<00:00, 68.57s/it]\n",
      "Normal training: 100%|█████████████████████████████████████████████████████████████| 157/157 [00:17<00:00,  9.12it/s]\n"
     ]
    },
    {
     "name": "stdout",
     "output_type": "stream",
     "text": [
      "Epoch 19\n",
      "==========\n",
      "Train: Train acc 85.43228385807097 | WM acc 96.0\n",
      "Tests: WM acc 100.0 | WM train avg acc 77.33 | Test acc 79.65\n",
      "./models/wm_cifar10_certify_random_8020_unrl.pth\n"
     ]
    },
    {
     "name": "stderr",
     "output_type": "stream",
     "text": [
      "Robust training: 100%|█████████████████████████████████████████████████████████████████| 2/2 [02:07<00:00, 63.60s/it]\n",
      "Normal training: 100%|█████████████████████████████████████████████████████████████| 157/157 [00:15<00:00, 10.37it/s]\n"
     ]
    },
    {
     "name": "stdout",
     "output_type": "stream",
     "text": [
      "Epoch 20\n",
      "==========\n",
      "Train: Train acc 85.67716141929036 | WM acc 42.0\n",
      "Tests: WM acc 100.0 | WM train avg acc 85.61 | Test acc 81.95\n",
      "./models/wm_cifar10_certify_random_8020_unrl.pth\n"
     ]
    },
    {
     "name": "stderr",
     "output_type": "stream",
     "text": [
      "Robust training: 100%|█████████████████████████████████████████████████████████████████| 2/2 [02:03<00:00, 61.92s/it]\n",
      "Normal training: 100%|█████████████████████████████████████████████████████████████| 157/157 [00:20<00:00,  7.52it/s]\n"
     ]
    },
    {
     "name": "stdout",
     "output_type": "stream",
     "text": [
      "Epoch 21\n",
      "==========\n",
      "Train: Train acc 87.00899550224888 | WM acc 83.0\n",
      "Tests: WM acc 90.0 | WM train avg acc 77.5 | Test acc 81.62\n",
      "./models/wm_cifar10_certify_random_8020_unrl.pth\n"
     ]
    },
    {
     "name": "stderr",
     "output_type": "stream",
     "text": [
      "Robust training: 100%|█████████████████████████████████████████████████████████████████| 2/2 [02:05<00:00, 62.73s/it]\n",
      "Normal training: 100%|█████████████████████████████████████████████████████████████| 157/157 [00:27<00:00,  5.61it/s]\n"
     ]
    },
    {
     "name": "stdout",
     "output_type": "stream",
     "text": [
      "Epoch 22\n",
      "==========\n",
      "Train: Train acc 87.80359820089954 | WM acc 100.0\n",
      "Tests: WM acc 100.0 | WM train avg acc 79.28 | Test acc 83.06\n",
      "./models/wm_cifar10_certify_random_8020_unrl.pth\n"
     ]
    },
    {
     "name": "stderr",
     "output_type": "stream",
     "text": [
      "Robust training: 100%|█████████████████████████████████████████████████████████████████| 2/2 [02:41<00:00, 80.62s/it]\n",
      "Normal training: 100%|█████████████████████████████████████████████████████████████| 157/157 [00:27<00:00,  5.67it/s]\n"
     ]
    },
    {
     "name": "stdout",
     "output_type": "stream",
     "text": [
      "Epoch 23\n",
      "==========\n",
      "Train: Train acc 88.11094452773614 | WM acc 100.0\n",
      "Tests: WM acc 100.0 | WM train avg acc 81.64 | Test acc 81.51\n",
      "./models/wm_cifar10_certify_random_8020_unrl.pth\n"
     ]
    },
    {
     "name": "stderr",
     "output_type": "stream",
     "text": [
      "Robust training: 100%|█████████████████████████████████████████████████████████████████| 2/2 [02:41<00:00, 80.80s/it]\n",
      "Normal training: 100%|█████████████████████████████████████████████████████████████| 157/157 [00:27<00:00,  5.79it/s]\n"
     ]
    },
    {
     "name": "stdout",
     "output_type": "stream",
     "text": [
      "Epoch 24\n",
      "==========\n",
      "Train: Train acc 88.24587706146927 | WM acc 100.0\n",
      "Tests: WM acc 100.0 | WM train avg acc 82.73 | Test acc 80.99\n",
      "./models/wm_cifar10_certify_random_8020_unrl.pth\n"
     ]
    },
    {
     "name": "stderr",
     "output_type": "stream",
     "text": [
      "Robust training: 100%|█████████████████████████████████████████████████████████████████| 2/2 [02:42<00:00, 81.01s/it]\n",
      "Normal training: 100%|█████████████████████████████████████████████████████████████| 157/157 [00:27<00:00,  5.79it/s]\n"
     ]
    },
    {
     "name": "stdout",
     "output_type": "stream",
     "text": [
      "Epoch 25\n",
      "==========\n",
      "Train: Train acc 89.13543228385808 | WM acc 100.0\n",
      "Tests: WM acc 100.0 | WM train avg acc 87.96 | Test acc 83.82\n",
      "./models/wm_cifar10_certify_random_8020_unrl.pth\n"
     ]
    },
    {
     "name": "stderr",
     "output_type": "stream",
     "text": [
      "Robust training: 100%|█████████████████████████████████████████████████████████████████| 2/2 [02:42<00:00, 81.39s/it]\n",
      "Normal training: 100%|█████████████████████████████████████████████████████████████| 157/157 [00:26<00:00,  5.97it/s]\n"
     ]
    },
    {
     "name": "stdout",
     "output_type": "stream",
     "text": [
      "Epoch 26\n",
      "==========\n",
      "Train: Train acc 89.55022488755621 | WM acc 100.0\n",
      "Tests: WM acc 92.0 | WM train avg acc 81.38 | Test acc 84.3\n",
      "./models/wm_cifar10_certify_random_8020_unrl.pth\n"
     ]
    },
    {
     "name": "stderr",
     "output_type": "stream",
     "text": [
      "Robust training: 100%|█████████████████████████████████████████████████████████████████| 2/2 [02:43<00:00, 81.95s/it]\n",
      "Normal training: 100%|█████████████████████████████████████████████████████████████| 157/157 [00:25<00:00,  6.27it/s]\n"
     ]
    },
    {
     "name": "stdout",
     "output_type": "stream",
     "text": [
      "Epoch 27\n",
      "==========\n",
      "Train: Train acc 90.22488755622189 | WM acc 100.0\n",
      "Tests: WM acc 100.0 | WM train avg acc 87.67 | Test acc 85.11999999999999\n",
      "./models/wm_cifar10_certify_random_8020_unrl.pth\n"
     ]
    },
    {
     "name": "stderr",
     "output_type": "stream",
     "text": [
      "Robust training: 100%|█████████████████████████████████████████████████████████████████| 2/2 [02:45<00:00, 82.55s/it]\n",
      "Normal training: 100%|█████████████████████████████████████████████████████████████| 157/157 [00:24<00:00,  6.52it/s]\n"
     ]
    },
    {
     "name": "stdout",
     "output_type": "stream",
     "text": [
      "Epoch 28\n",
      "==========\n",
      "Train: Train acc 90.63968015992005 | WM acc 100.0\n",
      "Tests: WM acc 99.0 | WM train avg acc 85.76 | Test acc 81.58999999999999\n",
      "./models/wm_cifar10_certify_random_8020_unrl.pth\n"
     ]
    },
    {
     "name": "stderr",
     "output_type": "stream",
     "text": [
      "Robust training: 100%|█████████████████████████████████████████████████████████████████| 2/2 [02:45<00:00, 82.87s/it]\n",
      "Normal training: 100%|█████████████████████████████████████████████████████████████| 157/157 [00:23<00:00,  6.65it/s]\n"
     ]
    },
    {
     "name": "stdout",
     "output_type": "stream",
     "text": [
      "Epoch 29\n",
      "==========\n",
      "Train: Train acc 90.8095952023988 | WM acc 100.0\n",
      "Tests: WM acc 100.0 | WM train avg acc 86.07 | Test acc 83.96000000000001\n",
      "./models/wm_cifar10_certify_random_8020_unrl.pth\n"
     ]
    },
    {
     "name": "stderr",
     "output_type": "stream",
     "text": [
      "Robust training: 100%|█████████████████████████████████████████████████████████████████| 2/2 [02:46<00:00, 83.02s/it]\n",
      "Normal training: 100%|█████████████████████████████████████████████████████████████| 157/157 [00:22<00:00,  6.84it/s]\n"
     ]
    },
    {
     "name": "stdout",
     "output_type": "stream",
     "text": [
      "Epoch 30\n",
      "==========\n",
      "Train: Train acc 91.32183908045977 | WM acc 100.0\n",
      "Tests: WM acc 100.0 | WM train avg acc 87.39 | Test acc 83.72\n",
      "./models/wm_cifar10_certify_random_8020_unrl.pth\n"
     ]
    },
    {
     "name": "stderr",
     "output_type": "stream",
     "text": [
      "Robust training: 100%|█████████████████████████████████████████████████████████████████| 2/2 [02:46<00:00, 83.50s/it]\n",
      "Normal training: 100%|█████████████████████████████████████████████████████████████| 157/157 [00:21<00:00,  7.20it/s]\n"
     ]
    },
    {
     "name": "stdout",
     "output_type": "stream",
     "text": [
      "Epoch 31\n",
      "==========\n",
      "Train: Train acc 94.48525737131435 | WM acc 100.0\n",
      "Tests: WM acc 100.0 | WM train avg acc 84.04 | Test acc 87.77000000000001\n",
      "./models/wm_cifar10_certify_random_8020_unrl.pth\n"
     ]
    },
    {
     "name": "stderr",
     "output_type": "stream",
     "text": [
      "Robust training: 100%|█████████████████████████████████████████████████████████████████| 2/2 [02:48<00:00, 84.18s/it]\n",
      "Normal training: 100%|█████████████████████████████████████████████████████████████| 157/157 [00:21<00:00,  7.37it/s]\n"
     ]
    },
    {
     "name": "stdout",
     "output_type": "stream",
     "text": [
      "Epoch 32\n",
      "==========\n",
      "Train: Train acc 95.55972013993004 | WM acc 100.0\n",
      "Tests: WM acc 100.0 | WM train avg acc 86.94 | Test acc 87.75\n",
      "./models/wm_cifar10_certify_random_8020_unrl.pth\n"
     ]
    },
    {
     "name": "stderr",
     "output_type": "stream",
     "text": [
      "Robust training: 100%|█████████████████████████████████████████████████████████████████| 2/2 [02:48<00:00, 84.35s/it]\n",
      "Normal training: 100%|█████████████████████████████████████████████████████████████| 157/157 [00:20<00:00,  7.66it/s]\n"
     ]
    },
    {
     "name": "stdout",
     "output_type": "stream",
     "text": [
      "Epoch 33\n",
      "==========\n",
      "Train: Train acc 95.96701649175412 | WM acc 77.0\n",
      "Tests: WM acc 100.0 | WM train avg acc 87.93 | Test acc 88.16000000000001\n",
      "./models/wm_cifar10_certify_random_8020_unrl.pth\n"
     ]
    },
    {
     "name": "stderr",
     "output_type": "stream",
     "text": [
      "Robust training: 100%|█████████████████████████████████████████████████████████████████| 2/2 [02:49<00:00, 84.63s/it]\n",
      "Normal training: 100%|█████████████████████████████████████████████████████████████| 157/157 [00:19<00:00,  7.85it/s]\n"
     ]
    },
    {
     "name": "stdout",
     "output_type": "stream",
     "text": [
      "Epoch 34\n",
      "==========\n",
      "Train: Train acc 96.151924037981 | WM acc 100.0\n",
      "Tests: WM acc 100.0 | WM train avg acc 86.48 | Test acc 87.96000000000001\n",
      "./models/wm_cifar10_certify_random_8020_unrl.pth\n"
     ]
    },
    {
     "name": "stderr",
     "output_type": "stream",
     "text": [
      "Robust training: 100%|█████████████████████████████████████████████████████████████████| 2/2 [02:50<00:00, 85.11s/it]\n",
      "Normal training: 100%|█████████████████████████████████████████████████████████████| 157/157 [00:19<00:00,  8.11it/s]\n"
     ]
    },
    {
     "name": "stdout",
     "output_type": "stream",
     "text": [
      "Epoch 35\n",
      "==========\n",
      "Train: Train acc 96.47176411794104 | WM acc 100.0\n",
      "Tests: WM acc 100.0 | WM train avg acc 90.76 | Test acc 87.85\n",
      "./models/wm_cifar10_certify_random_8020_unrl.pth\n"
     ]
    },
    {
     "name": "stderr",
     "output_type": "stream",
     "text": [
      "Robust training: 100%|█████████████████████████████████████████████████████████████████| 2/2 [02:50<00:00, 85.41s/it]\n",
      "Normal training: 100%|█████████████████████████████████████████████████████████████| 157/157 [00:18<00:00,  8.46it/s]\n"
     ]
    },
    {
     "name": "stdout",
     "output_type": "stream",
     "text": [
      "Epoch 36\n",
      "==========\n",
      "Train: Train acc 96.56421789105447 | WM acc 100.0\n",
      "Tests: WM acc 100.0 | WM train avg acc 93.0 | Test acc 88.0\n",
      "./models/wm_cifar10_certify_random_8020_unrl.pth\n"
     ]
    },
    {
     "name": "stderr",
     "output_type": "stream",
     "text": [
      "Robust training: 100%|█████████████████████████████████████████████████████████████████| 2/2 [02:51<00:00, 85.69s/it]\n",
      "Normal training: 100%|█████████████████████████████████████████████████████████████| 157/157 [00:18<00:00,  8.57it/s]\n"
     ]
    },
    {
     "name": "stdout",
     "output_type": "stream",
     "text": [
      "Epoch 37\n",
      "==========\n",
      "Train: Train acc 96.78910544727636 | WM acc 100.0\n",
      "Tests: WM acc 100.0 | WM train avg acc 87.19 | Test acc 88.17\n",
      "./models/wm_cifar10_certify_random_8020_unrl.pth\n"
     ]
    },
    {
     "name": "stderr",
     "output_type": "stream",
     "text": [
      "Robust training: 100%|█████████████████████████████████████████████████████████████████| 2/2 [02:51<00:00, 85.78s/it]\n",
      "Normal training: 100%|█████████████████████████████████████████████████████████████| 157/157 [00:17<00:00,  8.75it/s]\n"
     ]
    },
    {
     "name": "stdout",
     "output_type": "stream",
     "text": [
      "Epoch 38\n",
      "==========\n",
      "Train: Train acc 96.93403298350825 | WM acc 100.0\n",
      "Tests: WM acc 100.0 | WM train avg acc 86.77 | Test acc 88.22\n",
      "./models/wm_cifar10_certify_random_8020_unrl.pth\n"
     ]
    },
    {
     "name": "stderr",
     "output_type": "stream",
     "text": [
      "Robust training: 100%|█████████████████████████████████████████████████████████████████| 2/2 [02:52<00:00, 86.07s/it]\n",
      "Normal training: 100%|█████████████████████████████████████████████████████████████| 157/157 [00:17<00:00,  8.94it/s]\n"
     ]
    },
    {
     "name": "stdout",
     "output_type": "stream",
     "text": [
      "Epoch 39\n",
      "==========\n",
      "Train: Train acc 97.06146926536732 | WM acc 91.0\n",
      "Tests: WM acc 100.0 | WM train avg acc 90.75 | Test acc 88.12\n",
      "./models/wm_cifar10_certify_random_8020_unrl.pth\n"
     ]
    },
    {
     "name": "stderr",
     "output_type": "stream",
     "text": [
      "Robust training:   0%|                                                                         | 0/2 [00:00<?, ?it/s]"
     ]
    }
   ],
   "source": [
    "net = ResNet18()\n",
    "optimizer = torch.optim.SGD(net.parameters(), lr=0.05, momentum=0.9, weight_decay=1e-4)\n",
    "scheduler = torch.optim.lr_scheduler.StepLR(optimizer, step_size=30, gamma=0.1)\n",
    "\n",
    "train_certified_wm(\n",
    "    net,\n",
    "    unrl_mix_loader,\n",
    "    unrelatedloader,\n",
    "    testloader,\n",
    "    optimizer,\n",
    "    scheduler,\n",
    "    cert_type='random_8020_unrl',\n",
    "    epochs=100,\n",
    "    warmup_epochs=10\n",
    ")"
   ]
  },
  {
   "cell_type": "markdown",
   "id": "2f28466a-3698-461b-858c-91bfdd740b2b",
   "metadata": {},
   "source": [
    "Adversarial"
   ]
  },
  {
   "cell_type": "code",
   "execution_count": null,
   "id": "7b00f719-8b70-4cd0-bdaa-13fb6a4c49d2",
   "metadata": {},
   "outputs": [],
   "source": [
    "net = ResNet18()\n",
    "optimizer = torch.optim.SGD(net.parameters(), lr=0.05, momentum=0.9, weight_decay=1e-4)\n",
    "scheduler = torch.optim.lr_scheduler.StepLR(optimizer, step_size=30, gamma=0.1)\n",
    "\n",
    "train_certified_wm(\n",
    "    net,\n",
    "    adv_mix_loader,\n",
    "    advwmloader,\n",
    "    testloader,\n",
    "    optimizer,\n",
    "    scheduler,\n",
    "    cert_type='random_8020_adv',\n",
    "    epochs=100,\n",
    "    warmup_epochs=10\n",
    ")"
   ]
  },
  {
   "cell_type": "code",
   "execution_count": null,
   "id": "da3f7ac2-abfb-4631-9e65-97f887ac6415",
   "metadata": {},
   "outputs": [],
   "source": []
  },
  {
   "cell_type": "code",
   "execution_count": null,
   "id": "22de2c2d-a897-440a-9c45-e4ed7a98ac41",
   "metadata": {},
   "outputs": [],
   "source": []
  },
  {
   "cell_type": "code",
   "execution_count": null,
   "id": "97a25598-a85d-48af-917e-67668d4f4902",
   "metadata": {},
   "outputs": [],
   "source": []
  }
 ],
 "metadata": {
  "kernelspec": {
   "display_name": "Python 3 (ipykernel)",
   "language": "python",
   "name": "python3"
  },
  "language_info": {
   "codemirror_mode": {
    "name": "ipython",
    "version": 3
   },
   "file_extension": ".py",
   "mimetype": "text/x-python",
   "name": "python",
   "nbconvert_exporter": "python",
   "pygments_lexer": "ipython3",
   "version": "3.10.6"
  }
 },
 "nbformat": 4,
 "nbformat_minor": 5
}
